{
 "cells": [
  {
   "cell_type": "markdown",
   "source": [
    "# poplib\n",
    "- poplib는 pop3 서버에 연결하여 받은 이메일을 확인하는데 사용하는 모듈\n",
    "- 매번 gmail과 같은 웹 메일에 접속해서 새로운 메일 내용 확인이 번거로울 때 이를 자동화할 경우 사용"
   ],
   "metadata": {
    "collapsed": false
   },
   "id": "bbe878edf5fffd0b"
  },
  {
   "cell_type": "code",
   "outputs": [],
   "source": [
    "import poplib"
   ],
   "metadata": {
    "collapsed": false,
    "ExecuteTime": {
     "end_time": "2024-02-18T11:22:06.307050500Z",
     "start_time": "2024-02-18T11:22:06.295997700Z"
    }
   },
   "id": "a193679e253e499b",
   "execution_count": 1
  },
  {
   "cell_type": "markdown",
   "source": [
    "# 이메일 계정 연결"
   ],
   "metadata": {
    "collapsed": false
   },
   "id": "ba196fce3292f4ad"
  },
  {
   "cell_type": "code",
   "outputs": [
    {
     "ename": "gaierror",
     "evalue": "[Errno 11001] getaddrinfo failed",
     "output_type": "error",
     "traceback": [
      "\u001B[1;31m---------------------------------------------------------------------------\u001B[0m",
      "\u001B[1;31mgaierror\u001B[0m                                  Traceback (most recent call last)",
      "Cell \u001B[1;32mIn[4], line 2\u001B[0m\n\u001B[0;32m      1\u001B[0m \u001B[38;5;66;03m# 암호화된 소켓 연결 (기본 995 포트)\u001B[39;00m\n\u001B[1;32m----> 2\u001B[0m server \u001B[38;5;241m=\u001B[39m \u001B[43mpoplib\u001B[49m\u001B[38;5;241;43m.\u001B[39;49m\u001B[43mPOP3_SSL\u001B[49m\u001B[43m(\u001B[49m\u001B[38;5;124;43m'\u001B[39;49m\u001B[38;5;124;43moutlook.office365.com, port=995\u001B[39;49m\u001B[38;5;124;43m'\u001B[39;49m\u001B[43m)\u001B[49m\n",
      "File \u001B[1;32m~\\.pyenv\\pyenv-win\\versions\\3.12.1\\Lib\\poplib.py:436\u001B[0m, in \u001B[0;36mPOP3_SSL.__init__\u001B[1;34m(self, host, port, timeout, context)\u001B[0m\n\u001B[0;32m    434\u001B[0m     context \u001B[38;5;241m=\u001B[39m ssl\u001B[38;5;241m.\u001B[39m_create_stdlib_context()\n\u001B[0;32m    435\u001B[0m \u001B[38;5;28mself\u001B[39m\u001B[38;5;241m.\u001B[39mcontext \u001B[38;5;241m=\u001B[39m context\n\u001B[1;32m--> 436\u001B[0m \u001B[43mPOP3\u001B[49m\u001B[38;5;241;43m.\u001B[39;49m\u001B[38;5;21;43m__init__\u001B[39;49m\u001B[43m(\u001B[49m\u001B[38;5;28;43mself\u001B[39;49m\u001B[43m,\u001B[49m\u001B[43m \u001B[49m\u001B[43mhost\u001B[49m\u001B[43m,\u001B[49m\u001B[43m \u001B[49m\u001B[43mport\u001B[49m\u001B[43m,\u001B[49m\u001B[43m \u001B[49m\u001B[43mtimeout\u001B[49m\u001B[43m)\u001B[49m\n",
      "File \u001B[1;32m~\\.pyenv\\pyenv-win\\versions\\3.12.1\\Lib\\poplib.py:104\u001B[0m, in \u001B[0;36mPOP3.__init__\u001B[1;34m(self, host, port, timeout)\u001B[0m\n\u001B[0;32m    102\u001B[0m \u001B[38;5;28mself\u001B[39m\u001B[38;5;241m.\u001B[39m_tls_established \u001B[38;5;241m=\u001B[39m \u001B[38;5;28;01mFalse\u001B[39;00m\n\u001B[0;32m    103\u001B[0m sys\u001B[38;5;241m.\u001B[39maudit(\u001B[38;5;124m\"\u001B[39m\u001B[38;5;124mpoplib.connect\u001B[39m\u001B[38;5;124m\"\u001B[39m, \u001B[38;5;28mself\u001B[39m, host, port)\n\u001B[1;32m--> 104\u001B[0m \u001B[38;5;28mself\u001B[39m\u001B[38;5;241m.\u001B[39msock \u001B[38;5;241m=\u001B[39m \u001B[38;5;28;43mself\u001B[39;49m\u001B[38;5;241;43m.\u001B[39;49m\u001B[43m_create_socket\u001B[49m\u001B[43m(\u001B[49m\u001B[43mtimeout\u001B[49m\u001B[43m)\u001B[49m\n\u001B[0;32m    105\u001B[0m \u001B[38;5;28mself\u001B[39m\u001B[38;5;241m.\u001B[39mfile \u001B[38;5;241m=\u001B[39m \u001B[38;5;28mself\u001B[39m\u001B[38;5;241m.\u001B[39msock\u001B[38;5;241m.\u001B[39mmakefile(\u001B[38;5;124m'\u001B[39m\u001B[38;5;124mrb\u001B[39m\u001B[38;5;124m'\u001B[39m)\n\u001B[0;32m    106\u001B[0m \u001B[38;5;28mself\u001B[39m\u001B[38;5;241m.\u001B[39m_debugging \u001B[38;5;241m=\u001B[39m \u001B[38;5;241m0\u001B[39m\n",
      "File \u001B[1;32m~\\.pyenv\\pyenv-win\\versions\\3.12.1\\Lib\\poplib.py:439\u001B[0m, in \u001B[0;36mPOP3_SSL._create_socket\u001B[1;34m(self, timeout)\u001B[0m\n\u001B[0;32m    438\u001B[0m \u001B[38;5;28;01mdef\u001B[39;00m \u001B[38;5;21m_create_socket\u001B[39m(\u001B[38;5;28mself\u001B[39m, timeout):\n\u001B[1;32m--> 439\u001B[0m     sock \u001B[38;5;241m=\u001B[39m \u001B[43mPOP3\u001B[49m\u001B[38;5;241;43m.\u001B[39;49m\u001B[43m_create_socket\u001B[49m\u001B[43m(\u001B[49m\u001B[38;5;28;43mself\u001B[39;49m\u001B[43m,\u001B[49m\u001B[43m \u001B[49m\u001B[43mtimeout\u001B[49m\u001B[43m)\u001B[49m\n\u001B[0;32m    440\u001B[0m     sock \u001B[38;5;241m=\u001B[39m \u001B[38;5;28mself\u001B[39m\u001B[38;5;241m.\u001B[39mcontext\u001B[38;5;241m.\u001B[39mwrap_socket(sock,\n\u001B[0;32m    441\u001B[0m                                     server_hostname\u001B[38;5;241m=\u001B[39m\u001B[38;5;28mself\u001B[39m\u001B[38;5;241m.\u001B[39mhost)\n\u001B[0;32m    442\u001B[0m     \u001B[38;5;28;01mreturn\u001B[39;00m sock\n",
      "File \u001B[1;32m~\\.pyenv\\pyenv-win\\versions\\3.12.1\\Lib\\poplib.py:112\u001B[0m, in \u001B[0;36mPOP3._create_socket\u001B[1;34m(self, timeout)\u001B[0m\n\u001B[0;32m    110\u001B[0m \u001B[38;5;28;01mif\u001B[39;00m timeout \u001B[38;5;129;01mis\u001B[39;00m \u001B[38;5;129;01mnot\u001B[39;00m \u001B[38;5;28;01mNone\u001B[39;00m \u001B[38;5;129;01mand\u001B[39;00m \u001B[38;5;129;01mnot\u001B[39;00m timeout:\n\u001B[0;32m    111\u001B[0m     \u001B[38;5;28;01mraise\u001B[39;00m \u001B[38;5;167;01mValueError\u001B[39;00m(\u001B[38;5;124m'\u001B[39m\u001B[38;5;124mNon-blocking socket (timeout=0) is not supported\u001B[39m\u001B[38;5;124m'\u001B[39m)\n\u001B[1;32m--> 112\u001B[0m \u001B[38;5;28;01mreturn\u001B[39;00m \u001B[43msocket\u001B[49m\u001B[38;5;241;43m.\u001B[39;49m\u001B[43mcreate_connection\u001B[49m\u001B[43m(\u001B[49m\u001B[43m(\u001B[49m\u001B[38;5;28;43mself\u001B[39;49m\u001B[38;5;241;43m.\u001B[39;49m\u001B[43mhost\u001B[49m\u001B[43m,\u001B[49m\u001B[43m \u001B[49m\u001B[38;5;28;43mself\u001B[39;49m\u001B[38;5;241;43m.\u001B[39;49m\u001B[43mport\u001B[49m\u001B[43m)\u001B[49m\u001B[43m,\u001B[49m\u001B[43m \u001B[49m\u001B[43mtimeout\u001B[49m\u001B[43m)\u001B[49m\n",
      "File \u001B[1;32m~\\.pyenv\\pyenv-win\\versions\\3.12.1\\Lib\\socket.py:828\u001B[0m, in \u001B[0;36mcreate_connection\u001B[1;34m(address, timeout, source_address, all_errors)\u001B[0m\n\u001B[0;32m    826\u001B[0m host, port \u001B[38;5;241m=\u001B[39m address\n\u001B[0;32m    827\u001B[0m exceptions \u001B[38;5;241m=\u001B[39m []\n\u001B[1;32m--> 828\u001B[0m \u001B[38;5;28;01mfor\u001B[39;00m res \u001B[38;5;129;01min\u001B[39;00m \u001B[43mgetaddrinfo\u001B[49m\u001B[43m(\u001B[49m\u001B[43mhost\u001B[49m\u001B[43m,\u001B[49m\u001B[43m \u001B[49m\u001B[43mport\u001B[49m\u001B[43m,\u001B[49m\u001B[43m \u001B[49m\u001B[38;5;241;43m0\u001B[39;49m\u001B[43m,\u001B[49m\u001B[43m \u001B[49m\u001B[43mSOCK_STREAM\u001B[49m\u001B[43m)\u001B[49m:\n\u001B[0;32m    829\u001B[0m     af, socktype, proto, canonname, sa \u001B[38;5;241m=\u001B[39m res\n\u001B[0;32m    830\u001B[0m     sock \u001B[38;5;241m=\u001B[39m \u001B[38;5;28;01mNone\u001B[39;00m\n",
      "File \u001B[1;32m~\\.pyenv\\pyenv-win\\versions\\3.12.1\\Lib\\socket.py:963\u001B[0m, in \u001B[0;36mgetaddrinfo\u001B[1;34m(host, port, family, type, proto, flags)\u001B[0m\n\u001B[0;32m    960\u001B[0m \u001B[38;5;66;03m# We override this function since we want to translate the numeric family\u001B[39;00m\n\u001B[0;32m    961\u001B[0m \u001B[38;5;66;03m# and socket type values to enum constants.\u001B[39;00m\n\u001B[0;32m    962\u001B[0m addrlist \u001B[38;5;241m=\u001B[39m []\n\u001B[1;32m--> 963\u001B[0m \u001B[38;5;28;01mfor\u001B[39;00m res \u001B[38;5;129;01min\u001B[39;00m \u001B[43m_socket\u001B[49m\u001B[38;5;241;43m.\u001B[39;49m\u001B[43mgetaddrinfo\u001B[49m\u001B[43m(\u001B[49m\u001B[43mhost\u001B[49m\u001B[43m,\u001B[49m\u001B[43m \u001B[49m\u001B[43mport\u001B[49m\u001B[43m,\u001B[49m\u001B[43m \u001B[49m\u001B[43mfamily\u001B[49m\u001B[43m,\u001B[49m\u001B[43m \u001B[49m\u001B[38;5;28;43mtype\u001B[39;49m\u001B[43m,\u001B[49m\u001B[43m \u001B[49m\u001B[43mproto\u001B[49m\u001B[43m,\u001B[49m\u001B[43m \u001B[49m\u001B[43mflags\u001B[49m\u001B[43m)\u001B[49m:\n\u001B[0;32m    964\u001B[0m     af, socktype, proto, canonname, sa \u001B[38;5;241m=\u001B[39m res\n\u001B[0;32m    965\u001B[0m     addrlist\u001B[38;5;241m.\u001B[39mappend((_intenum_converter(af, AddressFamily),\n\u001B[0;32m    966\u001B[0m                      _intenum_converter(socktype, SocketKind),\n\u001B[0;32m    967\u001B[0m                      proto, canonname, sa))\n",
      "\u001B[1;31mgaierror\u001B[0m: [Errno 11001] getaddrinfo failed"
     ]
    }
   ],
   "source": [
    "# 암호화된 소켓 연결 (기본 995 포트)\n",
    "server = poplib.POP3_SSL('outlook.office365.com, port=995')"
   ],
   "metadata": {
    "collapsed": false,
    "ExecuteTime": {
     "end_time": "2024-02-18T11:24:56.826280700Z",
     "start_time": "2024-02-18T11:24:56.800222600Z"
    }
   },
   "id": "c2103ba4c7a6dab9",
   "execution_count": 4
  },
  {
   "cell_type": "code",
   "outputs": [
    {
     "ename": "NameError",
     "evalue": "name 'server' is not defined",
     "output_type": "error",
     "traceback": [
      "\u001B[1;31m---------------------------------------------------------------------------\u001B[0m",
      "\u001B[1;31mNameError\u001B[0m                                 Traceback (most recent call last)",
      "Cell \u001B[1;32mIn[5], line 2\u001B[0m\n\u001B[0;32m      1\u001B[0m \u001B[38;5;66;03m# id 입력\u001B[39;00m\n\u001B[1;32m----> 2\u001B[0m \u001B[43mserver\u001B[49m\u001B[38;5;241m.\u001B[39muser(\u001B[38;5;124m'\u001B[39m\u001B[38;5;124maaa@aaa.com\u001B[39m\u001B[38;5;124m'\u001B[39m)\n",
      "\u001B[1;31mNameError\u001B[0m: name 'server' is not defined"
     ]
    }
   ],
   "source": [
    "# id 입력\n",
    "server.user('aaa@aaa.com')"
   ],
   "metadata": {
    "collapsed": false,
    "ExecuteTime": {
     "end_time": "2024-02-18T11:24:59.871863300Z",
     "start_time": "2024-02-18T11:24:59.863497300Z"
    }
   },
   "id": "e5180cf81308c738",
   "execution_count": 5
  },
  {
   "cell_type": "code",
   "outputs": [
    {
     "ename": "NameError",
     "evalue": "name 'server' is not defined",
     "output_type": "error",
     "traceback": [
      "\u001B[1;31m---------------------------------------------------------------------------\u001B[0m",
      "\u001B[1;31mNameError\u001B[0m                                 Traceback (most recent call last)",
      "Cell \u001B[1;32mIn[6], line 3\u001B[0m\n\u001B[0;32m      1\u001B[0m \u001B[38;5;66;03m# password 입력\u001B[39;00m\n\u001B[0;32m      2\u001B[0m \u001B[38;5;28;01mimport\u001B[39;00m \u001B[38;5;21;01mgetpass\u001B[39;00m\n\u001B[1;32m----> 3\u001B[0m \u001B[43mserver\u001B[49m\u001B[38;5;241m.\u001B[39mpass_(getpass\u001B[38;5;241m.\u001B[39mgetpass())\n",
      "\u001B[1;31mNameError\u001B[0m: name 'server' is not defined"
     ]
    }
   ],
   "source": [
    "# password 입력\n",
    "import getpass\n",
    "\n",
    "server.pass_(getpass.getpass())"
   ],
   "metadata": {
    "collapsed": false,
    "ExecuteTime": {
     "end_time": "2024-02-18T11:25:16.018053900Z",
     "start_time": "2024-02-18T11:25:16.002438200Z"
    }
   },
   "id": "a4f31cb231137b55",
   "execution_count": 6
  },
  {
   "cell_type": "markdown",
   "source": [
    "> #### Gmail 계정을 사용할 경우\n",
    ">  - 2022년 5월 30일부터 Google은 **사용자 이름**과 **비밀번호**만 사용하여 계정에 로그인하도록 요청하는 서드 파티 앱 또는 기기의 사용을 더 이상 지원하지 않습니다. ([공지문](https://support.google.com/accounts/answer/6010255))\n",
    ">  - 연동 방법\n",
    ">     - ① 2단계 인증 활성화 ([설정절차](https://support.google.com/accounts/answer/185839?hl=ko&co=GENIE.Platform%3DAndroid))\n",
    ">     - ② `Google 계정 관리` > `보안` > `앱 비밀번호` > `메일` 앱 선택 > `기기` (Windows 컴퓨터) > `생성`\n",
    ">     - ③ 생성된 16자리 비밀번호 사용"
   ],
   "metadata": {
    "collapsed": false
   },
   "id": "326e8555b5ea97ae"
  },
  {
   "cell_type": "code",
   "outputs": [
    {
     "data": {
      "text/plain": "b'+OK send PASS'"
     },
     "execution_count": 12,
     "metadata": {},
     "output_type": "execute_result"
    }
   ],
   "source": [
    "# 암호화된 소켓 연결 (기본 995 포트)\n",
    "server = poplib.POP3_SSL('pop.googlemail.com', port=995)\n",
    "\n",
    "# google id 입력\n",
    "server.user('polozhzh')"
   ],
   "metadata": {
    "collapsed": false,
    "ExecuteTime": {
     "end_time": "2024-02-18T11:33:06.124969700Z",
     "start_time": "2024-02-18T11:33:04.949740200Z"
    }
   },
   "id": "851f23f1b762b9",
   "execution_count": 12
  },
  {
   "cell_type": "code",
   "outputs": [
    {
     "data": {
      "text/plain": "b'+OK Welcome.'"
     },
     "execution_count": 13,
     "metadata": {},
     "output_type": "execute_result"
    }
   ],
   "source": [
    "# password 입력\n",
    "import getpass\n",
    "\n",
    "server.pass_(getpass.getpass())"
   ],
   "metadata": {
    "collapsed": false,
    "ExecuteTime": {
     "end_time": "2024-02-18T11:33:12.319785600Z",
     "start_time": "2024-02-18T11:33:06.124969700Z"
    }
   },
   "id": "19586cfe1c24f0d3",
   "execution_count": 13
  },
  {
   "cell_type": "code",
   "outputs": [],
   "source": [],
   "metadata": {
    "collapsed": false
   },
   "id": "37e99fbf261d5ac3"
  }
 ],
 "metadata": {
  "kernelspec": {
   "display_name": "Python 3",
   "language": "python",
   "name": "python3"
  },
  "language_info": {
   "codemirror_mode": {
    "name": "ipython",
    "version": 2
   },
   "file_extension": ".py",
   "mimetype": "text/x-python",
   "name": "python",
   "nbconvert_exporter": "python",
   "pygments_lexer": "ipython2",
   "version": "2.7.6"
  }
 },
 "nbformat": 4,
 "nbformat_minor": 5
}
