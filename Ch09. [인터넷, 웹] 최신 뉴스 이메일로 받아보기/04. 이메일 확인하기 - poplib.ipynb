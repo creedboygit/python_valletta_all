{
 "cells": [
  {
   "cell_type": "markdown",
   "source": [
    "# poplib\n",
    "- poplib는 pop3 서버에 연결하여 받은 이메일을 확인하는데 사용하는 모듈\n",
    "- 매번 gmail과 같은 웹 메일에 접속해서 새로운 메일 내용 확인이 번거로울 때 이를 자동화할 경우 사용"
   ],
   "metadata": {
    "collapsed": false
   },
   "id": "bbe878edf5fffd0b"
  },
  {
   "cell_type": "code",
   "outputs": [],
   "source": [
    "import poplib"
   ],
   "metadata": {
    "collapsed": false,
    "ExecuteTime": {
     "end_time": "2024-02-18T11:56:51.783409900Z",
     "start_time": "2024-02-18T11:56:51.774154Z"
    }
   },
   "id": "a193679e253e499b",
   "execution_count": 67
  },
  {
   "cell_type": "markdown",
   "source": [
    "# 이메일 계정 연결"
   ],
   "metadata": {
    "collapsed": false
   },
   "id": "ba196fce3292f4ad"
  },
  {
   "cell_type": "code",
   "outputs": [
    {
     "ename": "gaierror",
     "evalue": "[Errno 11001] getaddrinfo failed",
     "output_type": "error",
     "traceback": [
      "\u001B[1;31m---------------------------------------------------------------------------\u001B[0m",
      "\u001B[1;31mgaierror\u001B[0m                                  Traceback (most recent call last)",
      "Cell \u001B[1;32mIn[68], line 2\u001B[0m\n\u001B[0;32m      1\u001B[0m \u001B[38;5;66;03m# 암호화된 소켓 연결 (기본 995 포트)\u001B[39;00m\n\u001B[1;32m----> 2\u001B[0m server \u001B[38;5;241m=\u001B[39m \u001B[43mpoplib\u001B[49m\u001B[38;5;241;43m.\u001B[39;49m\u001B[43mPOP3_SSL\u001B[49m\u001B[43m(\u001B[49m\u001B[38;5;124;43m'\u001B[39;49m\u001B[38;5;124;43moutlook.office365.com, port=995\u001B[39;49m\u001B[38;5;124;43m'\u001B[39;49m\u001B[43m)\u001B[49m\n",
      "File \u001B[1;32m~\\.pyenv\\pyenv-win\\versions\\3.12.1\\Lib\\poplib.py:436\u001B[0m, in \u001B[0;36mPOP3_SSL.__init__\u001B[1;34m(self, host, port, timeout, context)\u001B[0m\n\u001B[0;32m    434\u001B[0m     context \u001B[38;5;241m=\u001B[39m ssl\u001B[38;5;241m.\u001B[39m_create_stdlib_context()\n\u001B[0;32m    435\u001B[0m \u001B[38;5;28mself\u001B[39m\u001B[38;5;241m.\u001B[39mcontext \u001B[38;5;241m=\u001B[39m context\n\u001B[1;32m--> 436\u001B[0m \u001B[43mPOP3\u001B[49m\u001B[38;5;241;43m.\u001B[39;49m\u001B[38;5;21;43m__init__\u001B[39;49m\u001B[43m(\u001B[49m\u001B[38;5;28;43mself\u001B[39;49m\u001B[43m,\u001B[49m\u001B[43m \u001B[49m\u001B[43mhost\u001B[49m\u001B[43m,\u001B[49m\u001B[43m \u001B[49m\u001B[43mport\u001B[49m\u001B[43m,\u001B[49m\u001B[43m \u001B[49m\u001B[43mtimeout\u001B[49m\u001B[43m)\u001B[49m\n",
      "File \u001B[1;32m~\\.pyenv\\pyenv-win\\versions\\3.12.1\\Lib\\poplib.py:104\u001B[0m, in \u001B[0;36mPOP3.__init__\u001B[1;34m(self, host, port, timeout)\u001B[0m\n\u001B[0;32m    102\u001B[0m \u001B[38;5;28mself\u001B[39m\u001B[38;5;241m.\u001B[39m_tls_established \u001B[38;5;241m=\u001B[39m \u001B[38;5;28;01mFalse\u001B[39;00m\n\u001B[0;32m    103\u001B[0m sys\u001B[38;5;241m.\u001B[39maudit(\u001B[38;5;124m\"\u001B[39m\u001B[38;5;124mpoplib.connect\u001B[39m\u001B[38;5;124m\"\u001B[39m, \u001B[38;5;28mself\u001B[39m, host, port)\n\u001B[1;32m--> 104\u001B[0m \u001B[38;5;28mself\u001B[39m\u001B[38;5;241m.\u001B[39msock \u001B[38;5;241m=\u001B[39m \u001B[38;5;28;43mself\u001B[39;49m\u001B[38;5;241;43m.\u001B[39;49m\u001B[43m_create_socket\u001B[49m\u001B[43m(\u001B[49m\u001B[43mtimeout\u001B[49m\u001B[43m)\u001B[49m\n\u001B[0;32m    105\u001B[0m \u001B[38;5;28mself\u001B[39m\u001B[38;5;241m.\u001B[39mfile \u001B[38;5;241m=\u001B[39m \u001B[38;5;28mself\u001B[39m\u001B[38;5;241m.\u001B[39msock\u001B[38;5;241m.\u001B[39mmakefile(\u001B[38;5;124m'\u001B[39m\u001B[38;5;124mrb\u001B[39m\u001B[38;5;124m'\u001B[39m)\n\u001B[0;32m    106\u001B[0m \u001B[38;5;28mself\u001B[39m\u001B[38;5;241m.\u001B[39m_debugging \u001B[38;5;241m=\u001B[39m \u001B[38;5;241m0\u001B[39m\n",
      "File \u001B[1;32m~\\.pyenv\\pyenv-win\\versions\\3.12.1\\Lib\\poplib.py:439\u001B[0m, in \u001B[0;36mPOP3_SSL._create_socket\u001B[1;34m(self, timeout)\u001B[0m\n\u001B[0;32m    438\u001B[0m \u001B[38;5;28;01mdef\u001B[39;00m \u001B[38;5;21m_create_socket\u001B[39m(\u001B[38;5;28mself\u001B[39m, timeout):\n\u001B[1;32m--> 439\u001B[0m     sock \u001B[38;5;241m=\u001B[39m \u001B[43mPOP3\u001B[49m\u001B[38;5;241;43m.\u001B[39;49m\u001B[43m_create_socket\u001B[49m\u001B[43m(\u001B[49m\u001B[38;5;28;43mself\u001B[39;49m\u001B[43m,\u001B[49m\u001B[43m \u001B[49m\u001B[43mtimeout\u001B[49m\u001B[43m)\u001B[49m\n\u001B[0;32m    440\u001B[0m     sock \u001B[38;5;241m=\u001B[39m \u001B[38;5;28mself\u001B[39m\u001B[38;5;241m.\u001B[39mcontext\u001B[38;5;241m.\u001B[39mwrap_socket(sock,\n\u001B[0;32m    441\u001B[0m                                     server_hostname\u001B[38;5;241m=\u001B[39m\u001B[38;5;28mself\u001B[39m\u001B[38;5;241m.\u001B[39mhost)\n\u001B[0;32m    442\u001B[0m     \u001B[38;5;28;01mreturn\u001B[39;00m sock\n",
      "File \u001B[1;32m~\\.pyenv\\pyenv-win\\versions\\3.12.1\\Lib\\poplib.py:112\u001B[0m, in \u001B[0;36mPOP3._create_socket\u001B[1;34m(self, timeout)\u001B[0m\n\u001B[0;32m    110\u001B[0m \u001B[38;5;28;01mif\u001B[39;00m timeout \u001B[38;5;129;01mis\u001B[39;00m \u001B[38;5;129;01mnot\u001B[39;00m \u001B[38;5;28;01mNone\u001B[39;00m \u001B[38;5;129;01mand\u001B[39;00m \u001B[38;5;129;01mnot\u001B[39;00m timeout:\n\u001B[0;32m    111\u001B[0m     \u001B[38;5;28;01mraise\u001B[39;00m \u001B[38;5;167;01mValueError\u001B[39;00m(\u001B[38;5;124m'\u001B[39m\u001B[38;5;124mNon-blocking socket (timeout=0) is not supported\u001B[39m\u001B[38;5;124m'\u001B[39m)\n\u001B[1;32m--> 112\u001B[0m \u001B[38;5;28;01mreturn\u001B[39;00m \u001B[43msocket\u001B[49m\u001B[38;5;241;43m.\u001B[39;49m\u001B[43mcreate_connection\u001B[49m\u001B[43m(\u001B[49m\u001B[43m(\u001B[49m\u001B[38;5;28;43mself\u001B[39;49m\u001B[38;5;241;43m.\u001B[39;49m\u001B[43mhost\u001B[49m\u001B[43m,\u001B[49m\u001B[43m \u001B[49m\u001B[38;5;28;43mself\u001B[39;49m\u001B[38;5;241;43m.\u001B[39;49m\u001B[43mport\u001B[49m\u001B[43m)\u001B[49m\u001B[43m,\u001B[49m\u001B[43m \u001B[49m\u001B[43mtimeout\u001B[49m\u001B[43m)\u001B[49m\n",
      "File \u001B[1;32m~\\.pyenv\\pyenv-win\\versions\\3.12.1\\Lib\\socket.py:828\u001B[0m, in \u001B[0;36mcreate_connection\u001B[1;34m(address, timeout, source_address, all_errors)\u001B[0m\n\u001B[0;32m    826\u001B[0m host, port \u001B[38;5;241m=\u001B[39m address\n\u001B[0;32m    827\u001B[0m exceptions \u001B[38;5;241m=\u001B[39m []\n\u001B[1;32m--> 828\u001B[0m \u001B[38;5;28;01mfor\u001B[39;00m res \u001B[38;5;129;01min\u001B[39;00m \u001B[43mgetaddrinfo\u001B[49m\u001B[43m(\u001B[49m\u001B[43mhost\u001B[49m\u001B[43m,\u001B[49m\u001B[43m \u001B[49m\u001B[43mport\u001B[49m\u001B[43m,\u001B[49m\u001B[43m \u001B[49m\u001B[38;5;241;43m0\u001B[39;49m\u001B[43m,\u001B[49m\u001B[43m \u001B[49m\u001B[43mSOCK_STREAM\u001B[49m\u001B[43m)\u001B[49m:\n\u001B[0;32m    829\u001B[0m     af, socktype, proto, canonname, sa \u001B[38;5;241m=\u001B[39m res\n\u001B[0;32m    830\u001B[0m     sock \u001B[38;5;241m=\u001B[39m \u001B[38;5;28;01mNone\u001B[39;00m\n",
      "File \u001B[1;32m~\\.pyenv\\pyenv-win\\versions\\3.12.1\\Lib\\socket.py:963\u001B[0m, in \u001B[0;36mgetaddrinfo\u001B[1;34m(host, port, family, type, proto, flags)\u001B[0m\n\u001B[0;32m    960\u001B[0m \u001B[38;5;66;03m# We override this function since we want to translate the numeric family\u001B[39;00m\n\u001B[0;32m    961\u001B[0m \u001B[38;5;66;03m# and socket type values to enum constants.\u001B[39;00m\n\u001B[0;32m    962\u001B[0m addrlist \u001B[38;5;241m=\u001B[39m []\n\u001B[1;32m--> 963\u001B[0m \u001B[38;5;28;01mfor\u001B[39;00m res \u001B[38;5;129;01min\u001B[39;00m \u001B[43m_socket\u001B[49m\u001B[38;5;241;43m.\u001B[39;49m\u001B[43mgetaddrinfo\u001B[49m\u001B[43m(\u001B[49m\u001B[43mhost\u001B[49m\u001B[43m,\u001B[49m\u001B[43m \u001B[49m\u001B[43mport\u001B[49m\u001B[43m,\u001B[49m\u001B[43m \u001B[49m\u001B[43mfamily\u001B[49m\u001B[43m,\u001B[49m\u001B[43m \u001B[49m\u001B[38;5;28;43mtype\u001B[39;49m\u001B[43m,\u001B[49m\u001B[43m \u001B[49m\u001B[43mproto\u001B[49m\u001B[43m,\u001B[49m\u001B[43m \u001B[49m\u001B[43mflags\u001B[49m\u001B[43m)\u001B[49m:\n\u001B[0;32m    964\u001B[0m     af, socktype, proto, canonname, sa \u001B[38;5;241m=\u001B[39m res\n\u001B[0;32m    965\u001B[0m     addrlist\u001B[38;5;241m.\u001B[39mappend((_intenum_converter(af, AddressFamily),\n\u001B[0;32m    966\u001B[0m                      _intenum_converter(socktype, SocketKind),\n\u001B[0;32m    967\u001B[0m                      proto, canonname, sa))\n",
      "\u001B[1;31mgaierror\u001B[0m: [Errno 11001] getaddrinfo failed"
     ]
    }
   ],
   "source": [
    "# 암호화된 소켓 연결 (기본 995 포트)\n",
    "server = poplib.POP3_SSL('outlook.office365.com, port=995')"
   ],
   "metadata": {
    "collapsed": false,
    "ExecuteTime": {
     "end_time": "2024-02-18T11:56:51.811733Z",
     "start_time": "2024-02-18T11:56:51.784410100Z"
    }
   },
   "id": "c2103ba4c7a6dab9",
   "execution_count": 68
  },
  {
   "cell_type": "code",
   "outputs": [
    {
     "ename": "error_proto",
     "evalue": "b'-ERR Command not accepted'",
     "output_type": "error",
     "traceback": [
      "\u001B[1;31m---------------------------------------------------------------------------\u001B[0m",
      "\u001B[1;31merror_proto\u001B[0m                               Traceback (most recent call last)",
      "Cell \u001B[1;32mIn[69], line 2\u001B[0m\n\u001B[0;32m      1\u001B[0m \u001B[38;5;66;03m# id 입력\u001B[39;00m\n\u001B[1;32m----> 2\u001B[0m \u001B[43mserver\u001B[49m\u001B[38;5;241;43m.\u001B[39;49m\u001B[43muser\u001B[49m\u001B[43m(\u001B[49m\u001B[38;5;124;43m'\u001B[39;49m\u001B[38;5;124;43maaa@aaa.com\u001B[39;49m\u001B[38;5;124;43m'\u001B[39;49m\u001B[43m)\u001B[49m\n",
      "File \u001B[1;32m~\\.pyenv\\pyenv-win\\versions\\3.12.1\\Lib\\poplib.py:208\u001B[0m, in \u001B[0;36mPOP3.user\u001B[1;34m(self, user)\u001B[0m\n\u001B[0;32m    203\u001B[0m \u001B[38;5;28;01mdef\u001B[39;00m \u001B[38;5;21muser\u001B[39m(\u001B[38;5;28mself\u001B[39m, user):\n\u001B[0;32m    204\u001B[0m \u001B[38;5;250m    \u001B[39m\u001B[38;5;124;03m\"\"\"Send user name, return response\u001B[39;00m\n\u001B[0;32m    205\u001B[0m \n\u001B[0;32m    206\u001B[0m \u001B[38;5;124;03m    (should indicate password required).\u001B[39;00m\n\u001B[0;32m    207\u001B[0m \u001B[38;5;124;03m    \"\"\"\u001B[39;00m\n\u001B[1;32m--> 208\u001B[0m     \u001B[38;5;28;01mreturn\u001B[39;00m \u001B[38;5;28;43mself\u001B[39;49m\u001B[38;5;241;43m.\u001B[39;49m\u001B[43m_shortcmd\u001B[49m\u001B[43m(\u001B[49m\u001B[38;5;124;43m'\u001B[39;49m\u001B[38;5;124;43mUSER \u001B[39;49m\u001B[38;5;132;43;01m%s\u001B[39;49;00m\u001B[38;5;124;43m'\u001B[39;49m\u001B[43m \u001B[49m\u001B[38;5;241;43m%\u001B[39;49m\u001B[43m \u001B[49m\u001B[43muser\u001B[49m\u001B[43m)\u001B[49m\n",
      "File \u001B[1;32m~\\.pyenv\\pyenv-win\\versions\\3.12.1\\Lib\\poplib.py:181\u001B[0m, in \u001B[0;36mPOP3._shortcmd\u001B[1;34m(self, line)\u001B[0m\n\u001B[0;32m    179\u001B[0m \u001B[38;5;28;01mdef\u001B[39;00m \u001B[38;5;21m_shortcmd\u001B[39m(\u001B[38;5;28mself\u001B[39m, line):\n\u001B[0;32m    180\u001B[0m     \u001B[38;5;28mself\u001B[39m\u001B[38;5;241m.\u001B[39m_putcmd(line)\n\u001B[1;32m--> 181\u001B[0m     \u001B[38;5;28;01mreturn\u001B[39;00m \u001B[38;5;28;43mself\u001B[39;49m\u001B[38;5;241;43m.\u001B[39;49m\u001B[43m_getresp\u001B[49m\u001B[43m(\u001B[49m\u001B[43m)\u001B[49m\n",
      "File \u001B[1;32m~\\.pyenv\\pyenv-win\\versions\\3.12.1\\Lib\\poplib.py:157\u001B[0m, in \u001B[0;36mPOP3._getresp\u001B[1;34m(self)\u001B[0m\n\u001B[0;32m    155\u001B[0m \u001B[38;5;28;01mif\u001B[39;00m \u001B[38;5;28mself\u001B[39m\u001B[38;5;241m.\u001B[39m_debugging \u001B[38;5;241m>\u001B[39m \u001B[38;5;241m1\u001B[39m: \u001B[38;5;28mprint\u001B[39m(\u001B[38;5;124m'\u001B[39m\u001B[38;5;124m*resp*\u001B[39m\u001B[38;5;124m'\u001B[39m, \u001B[38;5;28mrepr\u001B[39m(resp))\n\u001B[0;32m    156\u001B[0m \u001B[38;5;28;01mif\u001B[39;00m \u001B[38;5;129;01mnot\u001B[39;00m resp\u001B[38;5;241m.\u001B[39mstartswith(\u001B[38;5;124mb\u001B[39m\u001B[38;5;124m'\u001B[39m\u001B[38;5;124m+\u001B[39m\u001B[38;5;124m'\u001B[39m):\n\u001B[1;32m--> 157\u001B[0m     \u001B[38;5;28;01mraise\u001B[39;00m error_proto(resp)\n\u001B[0;32m    158\u001B[0m \u001B[38;5;28;01mreturn\u001B[39;00m resp\n",
      "\u001B[1;31merror_proto\u001B[0m: b'-ERR Command not accepted'"
     ]
    }
   ],
   "source": [
    "# id 입력\n",
    "server.user('aaa@aaa.com')"
   ],
   "metadata": {
    "collapsed": false,
    "ExecuteTime": {
     "end_time": "2024-02-18T11:56:52.081447500Z",
     "start_time": "2024-02-18T11:56:51.812733200Z"
    }
   },
   "id": "e5180cf81308c738",
   "execution_count": 69
  },
  {
   "cell_type": "code",
   "outputs": [],
   "source": [
    "# password 입력\n",
    "import getpass\n",
    "\n",
    "server.pass_(getpass.getpass())"
   ],
   "metadata": {
    "collapsed": false,
    "ExecuteTime": {
     "start_time": "2024-02-18T11:56:52.079446400Z"
    }
   },
   "id": "a4f31cb231137b55",
   "execution_count": null
  },
  {
   "cell_type": "markdown",
   "source": [
    "> #### Gmail 계정을 사용할 경우\n",
    ">  - 2022년 5월 30일부터 Google은 **사용자 이름**과 **비밀번호**만 사용하여 계정에 로그인하도록 요청하는 서드 파티 앱 또는 기기의 사용을 더 이상 지원하지 않습니다. ([공지문](https://support.google.com/accounts/answer/6010255))\n",
    ">  - 연동 방법\n",
    ">     - ① 2단계 인증 활성화 ([설정절차](https://support.google.com/accounts/answer/185839?hl=ko&co=GENIE.Platform%3DAndroid))\n",
    ">     - ② `Google 계정 관리` > `보안` > `앱 비밀번호` > `메일` 앱 선택 > `기기` (Windows 컴퓨터) > `생성`\n",
    ">     - ③ 생성된 16자리 비밀번호 사용"
   ],
   "metadata": {
    "collapsed": false
   },
   "id": "326e8555b5ea97ae"
  },
  {
   "cell_type": "code",
   "outputs": [
    {
     "data": {
      "text/plain": "b'+OK send PASS'"
     },
     "execution_count": 74,
     "metadata": {},
     "output_type": "execute_result"
    }
   ],
   "source": [
    "# 암호화된 소켓 연결 (기본 995 포트)\n",
    "server = poplib.POP3_SSL('pop.googlemail.com', port=995)\n",
    "\n",
    "# google id 입력\n",
    "server.user('polozhzh')"
   ],
   "metadata": {
    "collapsed": false,
    "ExecuteTime": {
     "end_time": "2024-02-18T11:57:25.817530700Z",
     "start_time": "2024-02-18T11:57:24.630155100Z"
    }
   },
   "id": "851f23f1b762b9",
   "execution_count": 74
  },
  {
   "cell_type": "code",
   "outputs": [
    {
     "data": {
      "text/plain": "b'+OK Welcome.'"
     },
     "execution_count": 75,
     "metadata": {},
     "output_type": "execute_result"
    }
   ],
   "source": [
    "# password 입력\n",
    "import getpass\n",
    "\n",
    "server.pass_(getpass.getpass())"
   ],
   "metadata": {
    "collapsed": false,
    "ExecuteTime": {
     "end_time": "2024-02-18T11:57:29.659506300Z",
     "start_time": "2024-02-18T11:57:26.553551600Z"
    }
   },
   "id": "19586cfe1c24f0d3",
   "execution_count": 75
  },
  {
   "cell_type": "code",
   "outputs": [
    {
     "data": {
      "text/plain": "(2, 143460)"
     },
     "execution_count": 76,
     "metadata": {},
     "output_type": "execute_result"
    }
   ],
   "source": [
    "# pop3 에 저장된 메일 개수, 크기(bytes)\n",
    "server.stat()"
   ],
   "metadata": {
    "collapsed": false,
    "ExecuteTime": {
     "end_time": "2024-02-18T11:57:30.366467500Z",
     "start_time": "2024-02-18T11:57:30.108113600Z"
    }
   },
   "id": "37e99fbf261d5ac3",
   "execution_count": 76
  },
  {
   "cell_type": "code",
   "outputs": [
    {
     "name": "stdout",
     "output_type": "stream",
     "text": [
      "2\n"
     ]
    }
   ],
   "source": [
    "# 가장 최근 메시지 번호\n",
    "recent_no = server.stat()[0]\n",
    "print(recent_no)"
   ],
   "metadata": {
    "collapsed": false,
    "ExecuteTime": {
     "end_time": "2024-02-18T11:57:35.034290Z",
     "start_time": "2024-02-18T11:57:34.779539800Z"
    }
   },
   "id": "c9a8c682764348b0",
   "execution_count": 77
  },
  {
   "cell_type": "code",
   "outputs": [
    {
     "data": {
      "text/plain": "(b'+OK message follows',\n [b'Delivered-To: polozhzh@gmail.com',\n  b'Received: by 2002:a05:612c:2c0d:b0:431:bd56:f9ea with SMTP id ir13csp552624vqb;',\n  b'        Tue, 21 Nov 2023 04:04:36 -0800 (PST)',\n  b'X-Google-Smtp-Source: AGHT+IE5pYCCpK+xKb7TNc+vu0wj3T6RXMeF/bzjbV2fvaejYIErgoRwThD7Em4vzIynxoJUTg4v',\n  b'X-Received: by 2002:a0d:f845:0:b0:5af:f026:a27 with SMTP id i66-20020a0df845000000b005aff0260a27mr6818709ywf.50.1700568276001;',\n  b'        Tue, 21 Nov 2023 04:04:36 -0800 (PST)',\n  b'ARC-Seal: i=1; a=rsa-sha256; t=1700568275; cv=none;',\n  b'        d=google.com; s=arc-20160816;',\n  b'        b=OrHnr/jVKX/eeMayWVmbD0hNCfTS8kj883Z8B6dKyCgKrQaWwBfOMpenldeMknKVfV',\n  b'         GdNG7JEYrA+eZhZ4Ha7VdKQD4lrSzkQyO4eBFbo8n5SWMbwveVSAl4Z9lGobcBixxpwl',\n  b'         v2W9RelL7fafYP+sDc5gecBZJrzgrB+mgt784DG4Um3A2K4AgWDO4HAzoDVvy4uONlBX',\n  b'         nGlqktRhcIpT4QdS8O7ddQrk6qlz1NZT0l0pbGIQNjfomu3W0gpY7+oMD3rSxdNwXlFR',\n  b'         LJaf83JD1+mKswEIIZ2gQiPCVb+tdyTzLOLhsbf8242cS7J641muoRR3fbOyM0wvInmW',\n  b'         JGLA==',\n  b'ARC-Message-Signature: i=1; a=rsa-sha256; c=relaxed/relaxed; d=google.com; s=arc-20160816;',\n  b'        h=mime-version:list-unsubscribe-post:list-unsubscribe:list-id',\n  b'         :feedback-id:message-id:date:to:reply-to:from:subject:dkim-signature',\n  b'         :dkim-signature;',\n  b'        bh=yjV6pfSDt4C384aVAkpJfUWrYT8p9Mtlef4a8l+r0m8=;',\n  b'        fh=QRea7swkUFp9i24BP+Vm1ZsJYM0tWjKUqD+5Zb3RLT0=;',\n  b'        b=ys3Z4Mf+bJ+w7/QZpsbXwaC4uZbBUNC+31nyALpCV/xgCMPXRo/qwmBdp1U4ksPQxj',\n  b'         WtuyJ1VbWxAGCU5TjJNUcd5ppbhJzNxjcgnYQD6mOxQKt0d0lB0FHudeabTvxagg7N7b',\n  b'         gEcKiue21ocT2U5CmxD5eqRKYN2txAaixcUFIz1dmeerovk3n0Ifjc35qVMwCjp8puht',\n  b'         IANxaRN/3JBi4BBbhIxC5D/MqFOMbwk6pDzSrRKwBoTIiFHcLJXVsfQyZJGM97lKSG50',\n  b'         5yL+6HWJJ3OGUnJ7QbUuWx/2kurUKG43gX8bUQAFjF8h+hrpXo1EbTGA0KuBOL/vNJ8g',\n  b'         WDKw==',\n  b'ARC-Authentication-Results: i=1; mx.google.com;',\n  b'       dkim=pass header.i=@gmail.mcsv.net header.s=k1 header.b=soPiyph7;',\n  b'       dkim=pass header.i=@mailchimpapp.net header.s=k2 header.b=irXGbjRu;',\n  b'       spf=pass (google.com: domain of bounce-mc.us8_182280286.8935839-50738b472e@mail98.atl231.mcsv.net designates 198.2.141.98 as permitted sender) smtp.mailfrom=bounce-mc.us8_182280286.8935839-50738b472e@mail98.atl231.mcsv.net;',\n  b'       dmarc=fail (p=NONE sp=NONE dis=NONE) header.from=linkgraph.io',\n  b'Return-Path: <bounce-mc.us8_182280286.8935839-50738b472e@mail98.atl231.mcsv.net>',\n  b'Received: from mail98.atl231.mcsv.net (mail98.atl231.mcsv.net. [198.2.141.98])',\n  b'        by mx.google.com with ESMTPS id n4-20020a0de404000000b005bf8091e0b1si5498081ywe.572.2023.11.21.04.04.35',\n  b'        for <polozhzh@gmail.com>',\n  b'        (version=TLS1_3 cipher=TLS_AES_256_GCM_SHA384 bits=256/256);',\n  b'        Tue, 21 Nov 2023 04:04:35 -0800 (PST)',\n  b'Received-SPF: pass (google.com: domain of bounce-mc.us8_182280286.8935839-50738b472e@mail98.atl231.mcsv.net designates 198.2.141.98 as permitted sender) client-ip=198.2.141.98;',\n  b'Authentication-Results: mx.google.com;',\n  b'       dkim=pass header.i=@gmail.mcsv.net header.s=k1 header.b=soPiyph7;',\n  b'       dkim=pass header.i=@mailchimpapp.net header.s=k2 header.b=irXGbjRu;',\n  b'       spf=pass (google.com: domain of bounce-mc.us8_182280286.8935839-50738b472e@mail98.atl231.mcsv.net designates 198.2.141.98 as permitted sender) smtp.mailfrom=bounce-mc.us8_182280286.8935839-50738b472e@mail98.atl231.mcsv.net;',\n  b'       dmarc=fail (p=NONE sp=NONE dis=NONE) header.from=linkgraph.io',\n  b'DKIM-Signature: v=1; a=rsa-sha256; c=relaxed/relaxed; d=gmail.mcsv.net;',\n  b'\\ts=k1; t=1700568064; x=1700654464;',\n  b'\\tbh=yjV6pfSDt4C384aVAkpJfUWrYT8p9Mtlef4a8l+r0m8=;',\n  b'\\th=Subject:From:Reply-To:To:Date:Message-ID:X-MC-User:Feedback-ID:',\n  b'\\t List-ID:List-Unsubscribe:List-Unsubscribe-Post:Content-Type:',\n  b'\\t MIME-Version:CC:Date:Subject:From;',\n  b'\\tb=soPiyph76y3yr6J76k3ByJkNL3mjK/hQU/JInGueqxBXPm8+/5cdPSFjzSRi7WbSm',\n  b'\\t KtQWSpeOaPfpzzTSnnarvOMJnKiWuFVfTp5924mup59mkxHm2JTCgt+FUESUEZj50w',\n  b'\\t EK2gq6h2HJxELcBdYIcSHjPyVhgYz/VcmJy4KbtSLFo0YN0K4r4TxgCiWalNd00yYx',\n  b'\\t DzuuEL9PDtNIpP7+xiyqwrQpBKiK6HMOC1QKddvTio2J96UNY3KiUZcR1bauY45/dw',\n  b'\\t YzLDe2hhAsQkfwm9mN+1jOHUHBw9TVNMhXOrPSt+vUG0FYeMLFOTbZuiVbnxloxlNH',\n  b'\\t 0ESrm5N8+A1xg==',\n  b'DKIM-Signature: v=1; a=rsa-sha256; c=relaxed/relaxed; d=mailchimpapp.net;',\n  b'\\ts=k2; t=1700568064; x=1700828564;',\n  b'\\ti=fidan.alizada=3Dlinkgraph.io@mailchimpapp.net;',\n  b'\\tbh=yjV6pfSDt4C384aVAkpJfUWrYT8p9Mtlef4a8l+r0m8=;',\n  b'\\th=Subject:From:Reply-To:To:Date:Message-ID:X-MC-User:Feedback-ID:',\n  b'\\t List-ID:List-Unsubscribe:List-Unsubscribe-Post:Content-Type:',\n  b'\\t MIME-Version:CC:Date:Subject:From;',\n  b'\\tb=irXGbjRuV8u8ruB3heGKlvPBaIJ8xkzy080ysaADzJLNtrqUkhgdHBdnoETdnvcMm',\n  b'\\t 7o7kutFOZiRewaPmi+yIzzP6f6RNwto5K2mwqChSARqknK1mpqOp+40pF1GJjglSRO',\n  b'\\t 4ztTky/Libi7b8Lj4rBsNpoD6jTcn3huBpFXMegDAFzE0aCf7WjfpPkuJ73SpbnAzH',\n  b'\\t /W/ucQoBA+kpbcUtkhE8qDpaA0dqai1shmRPO2leKuilELKHvYB58pikippgIDH/A2',\n  b'\\t I+PfEZmzfbYbu7dk9x/8EQ39MGDND5qrd0lUj7yKGOPzsR0vKKrPjN7YvvlfcmfpdZ',\n  b'\\t PCA5zOuRw3IAA==',\n  b'Received: from localhost (localhost [127.0.0.1])',\n  b'\\tby mail98.atl231.mcsv.net (Mailchimp) with ESMTP id 4SZNJ02W7Yz6Dv6xP',\n  b'\\tfor <polozhzh@gmail.com>; Tue, 21 Nov 2023 12:01:04 +0000 (GMT)',\n  b'Subject: =?utf-8?Q?The=20BEST=20agency=20growth=20secrets=20of=202023=20=2D=20SEOTHEORY=20Q&A=20=F0=9F=9A=80?=',\n  b'From: =?utf-8?Q?Fidan=20Alizada?= <fidan.alizada@linkgraph.io>',\n  b'Reply-To: =?utf-8?Q?Fidan=20Alizada?= <fidan.alizada@linkgraph.io>',\n  b'To: <polozhzh@gmail.com>',\n  b'Date: Tue, 21 Nov 2023 12:00:11 +0000',\n  b'Message-ID: <18e9a69fdbc75bd4bdf5ac69d.50738b472e.20231121115958.595544bedf.a3a8cf75@mail98.atl231.mcsv.net>',\n  b'X-Mailer: Mailchimp Mailer - **CID595544bedf50738b472e**',\n  b'X-Campaign: mailchimp18e9a69fdbc75bd4bdf5ac69d.595544bedf',\n  b'X-campaignid: mailchimp18e9a69fdbc75bd4bdf5ac69d.595544bedf',\n  b'X-Report-Abuse: Please report abuse for this campaign here: https://mailchimp.com/contact/abuse/?u=18e9a69fdbc75bd4bdf5ac69d&id=595544bedf&e=50738b472e',\n  b'X-MC-User: 18e9a69fdbc75bd4bdf5ac69d',\n  b'Feedback-ID: 182280286:182280286.8935839:us8:mc',\n  b'List-ID: 18e9a69fdbc75bd4bdf5ac69dmc list <18e9a69fdbc75bd4bdf5ac69d.865927.list-id.mcsv.net>',\n  b'X-Accounttype: pd',\n  b'List-Unsubscribe: <https://linkgraph.us8.list-manage.com/unsubscribe?u=18e9a69fdbc75bd4bdf5ac69d&id=46c519583e&e=50738b472e&c=595544bedf>, <mailto:unsubscribe-mc.us8_18e9a69fdbc75bd4bdf5ac69d.595544bedf-50738b472e@unsubscribe.mailchimpapp.net?subject=unsubscribe>',\n  b'List-Unsubscribe-Post: List-Unsubscribe=One-Click',\n  b'Content-Type: multipart/alternative; boundary=\"_----------=_MCPart_1033265174\"',\n  b'MIME-Version: 1.0',\n  b'',\n  b'This is a multi-part message in MIME format',\n  b'',\n  b'--_----------=_MCPart_1033265174',\n  b'Content-Type: text/plain; charset=\"utf-8\"; format=\"fixed\"',\n  b'Content-Transfer-Encoding: quoted-printable',\n  b'',\n  b'',\n  b'',\n  b'View this email in your browser (https://mailchi.mp/4b6d071cf55d/the-best-=',\n  b'agency-growth-secrets-of-2023-seotheory-qa?e=3D50738b472e)',\n  b'',\n  b'Our weekly SEOTHEORY Q&A Session is coming up!',\n  b'',\n  b'Last week we had the chance to attend the 7 Figure Agency mastermind...',\n  b'',\n  b\"And in this week's session we're going to be revealing some of the BEST ag=\",\n  b'ency growth secrets being implemented this year.',\n  b'',\n  b'This mastermind was a large investment=2C but we wanted to share some of t=',\n  b'he key takeaways with the SEOTHEORY community.',\n  b'',\n  b'=F0=9F=93=86 TODAY=2C November 21=2C from 1pm-2pm EST',\n  b'JOIN THE Q&A SESSION HERE (https://us02web.zoom.us/j/82063257201?pwd=3DVFR=',\n  b'1NTZtTkl1MVMrOTBGbVpqaURaZz09)',\n  b'',\n  b'',\n  b\"** WHAT WE'RE GOING TO REVEAL\",\n  b'------------------------------------------------------------',\n  b'* How to build maximum authority within your niche through monthly webinar=',\n  b' funnels=2C publishing your own niche books=2C and building testimonial pi=',\n  b'pelines.',\n  b'* The automation blueprint to create systems that fully maximize conversio=',\n  b'n rates on all of your cold & warm advertising efforts.',\n  b'* The formula on retaining over 90% of agency clients through world class=',\n  b' onboarding=2C engineering quick win campaigns=2C and effective reporting.',\n  b'',\n  b'',\n  b'** Want to join the SEOTHEORY course?',\n  b'------------------------------------------------------------',\n  b'APPLY NOW (https://seotheory.com/)',\n  b'',\n  b'',\n  b'**',\n  b'Interested in joining the SEOTHEORY Community?',\n  b'------------------------------------------------------------',\n  b'JOIN OUR FACEBOOK GROUP (https://www.facebook.com/groups/seotheory)',\n  b'',\n  b'=3D=3D=3D=3D=3D=3D=3D=3D=3D=3D=3D=3D=3D=3D=3D=3D=3D=3D=3D=3D=3D=3D=3D=3D=',\n  b'=3D=3D=3D=3D=3D=3D=3D=3D=3D=3D=3D=3D=3D=3D=3D=3D=3D=3D=3D=3D=3D=3D=3D=3D=',\n  b'=3D=3D=3D=3D=3D=3D=3D=3D=3D=3D=3D=3D',\n  b'Copyright =C2=A9 2023 LinkGraph=2C All rights reserved.',\n  b' You are receiving this email because you opted in at our website linkgrap=',\n  b'h.com',\n  b'',\n  b'Our mailing address is:',\n  b'LinkGraph',\n  b'10845 Griffith Park Rd',\n  b'Las Vegas=2C NV 89148',\n  b'USA',\n  b'Want to change how you receive these emails?',\n  b'You can ** update your preferences (https://linkgraph.us8.list-manage.com/=',\n  b'profile?u=3D18e9a69fdbc75bd4bdf5ac69d&id=3D46c519583e&e=3D50738b472e&c=3D595=',\n  b'544bedf)',\n  b'or ** unsubscribe from this list (https://linkgraph.us8.list-manage.com/un=',\n  b'subscribe?u=3D18e9a69fdbc75bd4bdf5ac69d&id=3D46c519583e&e=3D50738b472e&c=3D5=',\n  b'95544bedf)',\n  b'=2E',\n  b'--_----------=_MCPart_1033265174',\n  b'Content-Type: text/html; charset=\"utf-8\"',\n  b'Content-Transfer-Encoding: quoted-printable',\n  b'',\n  b'<!doctype html>',\n  b'<html xmlns=3D\"http://www.w3.org/1999/xhtml\" xmlns:v=3D\"urn:schemas-micros=',\n  b'oft-com:vml\" xmlns:o=3D\"urn:schemas-microsoft-com:office:office\">',\n  b'    <head>',\n  b'        <!-- NAME: 1 COLUMN -->',\n  b'        <!--[if gte mso 15]>',\n  b'        <xml>',\n  b'            <o:OfficeDocumentSettings>',\n  b'            <o:AllowPNG/>',\n  b'            <o:PixelsPerInch>96</o:PixelsPerInch>',\n  b'            </o:OfficeDocumentSettings>',\n  b'        </xml>',\n  b'        <![endif]-->',\n  b'        <meta charset=3D\"UTF-8\">',\n  b'        <meta http-equiv=3D\"X-UA-Compatible\" content=3D\"IE=3Dedge\">',\n  b'        <meta name=3D\"viewport\" content=3D\"width=3Ddevice-width=2C initial=',\n  b'-scale=3D1\">',\n  b'        <title>The BEST agency growth secrets of 2023 - SEOTHEORY Q&A =F0=',\n  b'=9F=9A=80</title>',\n  b'',\n  b'    <style type=3D\"text/css\">',\n  b'=09=09p{',\n  b'=09=09=09margin:10px 0;',\n  b'=09=09=09padding:0;',\n  b'=09=09}',\n  b'=09=09table{',\n  b'=09=09=09border-collapse:collapse;',\n  b'=09=09}',\n  b'=09=09h1=2Ch2=2Ch3=2Ch4=2Ch5=2Ch6{',\n  b'=09=09=09display:block;',\n  b'=09=09=09margin:0;',\n  b'=09=09=09padding:0;',\n  b'=09=09}',\n  b'=09=09img=2Ca img{',\n  b'=09=09=09border:0;',\n  b'=09=09=09height:auto;',\n  b'=09=09=09outline:none;',\n  b'=09=09=09text-decoration:none;',\n  b'=09=09}',\n  b'=09=09body=2C#bodyTable=2C#bodyCell{',\n  b'=09=09=09height:100%;',\n  b'=09=09=09margin:0;',\n  b'=09=09=09padding:0;',\n  b'=09=09=09width:100%;',\n  b'=09=09}',\n  b'=09=09.mcnPreviewText{',\n  b'=09=09=09display:none !important;',\n  b'=09=09}',\n  b'=09=09#outlook a{',\n  b'=09=09=09padding:0;',\n  b'=09=09}',\n  b'=09=09img{',\n  b'=09=09=09-ms-interpolation-mode:bicubic;',\n  b'=09=09}',\n  b'=09=09table{',\n  b'=09=09=09mso-table-lspace:0pt;',\n  b'=09=09=09mso-table-rspace:0pt;',\n  b'=09=09}',\n  b'=09=09.ReadMsgBody{',\n  b'=09=09=09width:100%;',\n  b'=09=09}',\n  b'=09=09.ExternalClass{',\n  b'=09=09=09width:100%;',\n  b'=09=09}',\n  b'=09=09p=2Ca=2Cli=2Ctd=2Cblockquote{',\n  b'=09=09=09mso-line-height-rule:exactly;',\n  b'=09=09}',\n  b'=09=09a[href^=3Dtel]=2Ca[href^=3Dsms]{',\n  b'=09=09=09color:inherit;',\n  b'=09=09=09cursor:default;',\n  b'=09=09=09text-decoration:none;',\n  b'=09=09}',\n  b'=09=09p=2Ca=2Cli=2Ctd=2Cbody=2Ctable=2Cblockquote{',\n  b'=09=09=09-ms-text-size-adjust:100%;',\n  b'=09=09=09-webkit-text-size-adjust:100%;',\n  b'=09=09}',\n  b'=09=09.ExternalClass=2C.ExternalClass p=2C.ExternalClass td=2C.ExternalCla=',\n  b'ss div=2C.ExternalClass span=2C.ExternalClass font{',\n  b'=09=09=09line-height:100%;',\n  b'=09=09}',\n  b'=09=09a[x-apple-data-detectors]{',\n  b'=09=09=09color:inherit !important;',\n  b'=09=09=09text-decoration:none !important;',\n  b'=09=09=09font-size:inherit !important;',\n  b'=09=09=09font-family:inherit !important;',\n  b'=09=09=09font-weight:inherit !important;',\n  b'=09=09=09line-height:inherit !important;',\n  b'=09=09}',\n  b'=09=09#bodyCell{',\n  b'=09=09=09padding:10px;',\n  b'=09=09}',\n  b'=09=09.templateContainer{',\n  b'=09=09=09max-width:600px !important;',\n  b'=09=09}',\n  b'=09=09a.mcnButton{',\n  b'=09=09=09display:block;',\n  b'=09=09}',\n  b'=09=09.mcnImage=2C.mcnRetinaImage{',\n  b'=09=09=09vertical-align:bottom;',\n  b'=09=09}',\n  b'=09=09.mcnTextContent{',\n  b'=09=09=09word-break:break-word;',\n  b'=09=09}',\n  b'=09=09.mcnTextContent img{',\n  b'=09=09=09height:auto !important;',\n  b'=09=09}',\n  b'=09=09.mcnDividerBlock{',\n  b'=09=09=09table-layout:fixed !important;',\n  b'=09=09}',\n  b'=09=09body=2C#bodyTable{',\n  b'=09=09=09background-color:#FAFAFA;',\n  b'=09=09}',\n  b'=09=09#bodyCell{',\n  b'=09=09=09border-top:0;',\n  b'=09=09}',\n  b'=09=09.templateContainer{',\n  b'=09=09=09border:0;',\n  b'=09=09}',\n  b'=09=09h1{',\n  b'=09=09=09color:#202020;',\n  b'=09=09=09font-family:Helvetica;',\n  b'=09=09=09font-size:26px;',\n  b'=09=09=09font-style:normal;',\n  b'=09=09=09font-weight:bold;',\n  b'=09=09=09line-height:125%;',\n  b'=09=09=09letter-spacing:normal;',\n  b'=09=09=09text-align:left;',\n  b'=09=09}',\n  b'=09=09h2{',\n  b'=09=09=09color:#202020;',\n  b'=09=09=09font-family:Helvetica;',\n  b'=09=09=09font-size:22px;',\n  b'=09=09=09font-style:normal;',\n  b'=09=09=09font-weight:bold;',\n  b'=09=09=09line-height:125%;',\n  b'=09=09=09letter-spacing:normal;',\n  b'=09=09=09text-align:left;',\n  b'=09=09}',\n  b'=09=09h3{',\n  b'=09=09=09color:#202020;',\n  b'=09=09=09font-family:Helvetica;',\n  b'=09=09=09font-size:20px;',\n  b'=09=09=09font-style:normal;',\n  b'=09=09=09font-weight:bold;',\n  b'=09=09=09line-height:125%;',\n  b'=09=09=09letter-spacing:normal;',\n  b'=09=09=09text-align:left;',\n  b'=09=09}',\n  b'=09=09h4{',\n  b'=09=09=09color:#202020;',\n  b'=09=09=09font-family:Helvetica;',\n  b'=09=09=09font-size:18px;',\n  b'=09=09=09font-style:normal;',\n  b'=09=09=09font-weight:bold;',\n  b'=09=09=09line-height:125%;',\n  b'=09=09=09letter-spacing:normal;',\n  b'=09=09=09text-align:left;',\n  b'=09=09}',\n  b'=09=09#templatePreheader{',\n  b'=09=09=09background-color:#FAFAFA;',\n  b'=09=09=09background-image:none;',\n  b'=09=09=09background-repeat:no-repeat;',\n  b'=09=09=09background-position:center;',\n  b'=09=09=09background-size:cover;',\n  b'=09=09=09border-top:0;',\n  b'=09=09=09border-bottom:0;',\n  b'=09=09=09padding-top:9px;',\n  b'=09=09=09padding-bottom:9px;',\n  b'=09=09}',\n  b'=09=09#templatePreheader .mcnTextContent=2C#templatePreheader .mcnTextCont=',\n  b'ent p{',\n  b'=09=09=09color:#656565;',\n  b'=09=09=09font-family:Helvetica;',\n  b'=09=09=09font-size:12px;',\n  b'=09=09=09line-height:150%;',\n  b'=09=09=09text-align:left;',\n  b'=09=09}',\n  b'=09=09#templatePreheader .mcnTextContent a=2C#templatePreheader .mcnTextCo=',\n  b'ntent p a{',\n  b'=09=09=09color:#656565;',\n  b'=09=09=09font-weight:normal;',\n  b'=09=09=09text-decoration:underline;',\n  b'=09=09}',\n  b'=09=09#templateHeader{',\n  b'=09=09=09background-color:#FFFFFF;',\n  b'=09=09=09background-image:none;',\n  b'=09=09=09background-repeat:no-repeat;',\n  b'=09=09=09background-position:center;',\n  b'=09=09=09background-size:cover;',\n  b'=09=09=09border-top:0;',\n  b'=09=09=09border-bottom:0;',\n  b'=09=09=09padding-top:9px;',\n  b'=09=09=09padding-bottom:0;',\n  b'=09=09}',\n  b'=09=09#templateHeader .mcnTextContent=2C#templateHeader .mcnTextContent p{',\n  b'=09=09=09color:#202020;',\n  b'=09=09=09font-family:Helvetica;',\n  b'=09=09=09font-size:16px;',\n  b'=09=09=09line-height:150%;',\n  b'=09=09=09text-align:left;',\n  b'=09=09}',\n  b'=09=09#templateHeader .mcnTextContent a=2C#templateHeader .mcnTextContent=',\n  b' p a{',\n  b'=09=09=09color:#007C89;',\n  b'=09=09=09font-weight:normal;',\n  b'=09=09=09text-decoration:underline;',\n  b'=09=09}',\n  b'=09=09#templateBody{',\n  b'=09=09=09background-color:#FFFFFF;',\n  b'=09=09=09background-image:none;',\n  b'=09=09=09background-repeat:no-repeat;',\n  b'=09=09=09background-position:center;',\n  b'=09=09=09background-size:cover;',\n  b'=09=09=09border-top:0;',\n  b'=09=09=09border-bottom:2px solid #EAEAEA;',\n  b'=09=09=09padding-top:0;',\n  b'=09=09=09padding-bottom:9px;',\n  b'=09=09}',\n  b'=09=09#templateBody .mcnTextContent=2C#templateBody .mcnTextContent p{',\n  b'=09=09=09color:#202020;',\n  b'=09=09=09font-family:Helvetica;',\n  b'=09=09=09font-size:16px;',\n  b'=09=09=09line-height:150%;',\n  b'=09=09=09text-align:left;',\n  b'=09=09}',\n  b'=09=09#templateBody .mcnTextContent a=2C#templateBody .mcnTextContent p a{',\n  b'=09=09=09color:#007C89;',\n  b'=09=09=09font-weight:normal;',\n  b'=09=09=09text-decoration:underline;',\n  b'=09=09}',\n  b'=09=09#templateFooter{',\n  b'=09=09=09background-color:#FAFAFA;',\n  b'=09=09=09background-image:none;',\n  b'=09=09=09background-repeat:no-repeat;',\n  b'=09=09=09background-position:center;',\n  b'=09=09=09background-size:cover;',\n  b'=09=09=09border-top:0;',\n  b'=09=09=09border-bottom:0;',\n  b'=09=09=09padding-top:9px;',\n  b'=09=09=09padding-bottom:9px;',\n  b'=09=09}',\n  b'=09=09#templateFooter .mcnTextContent=2C#templateFooter .mcnTextContent p{',\n  b'=09=09=09color:#656565;',\n  b'=09=09=09font-family:Helvetica;',\n  b'=09=09=09font-size:12px;',\n  b'=09=09=09line-height:150%;',\n  b'=09=09=09text-align:center;',\n  b'=09=09}',\n  b'=09=09#templateFooter .mcnTextContent a=2C#templateFooter .mcnTextContent=',\n  b' p a{',\n  b'=09=09=09color:#656565;',\n  b'=09=09=09font-weight:normal;',\n  b'=09=09=09text-decoration:underline;',\n  b'=09=09}',\n  b'=09@media only screen and (min-width:768px){',\n  b'=09=09.templateContainer{',\n  b'=09=09=09width:600px !important;',\n  b'=09=09}',\n  b'',\n  b'}=09@media only screen and (max-width: 480px){',\n  b'=09=09body=2Ctable=2Ctd=2Cp=2Ca=2Cli=2Cblockquote{',\n  b'=09=09=09-webkit-text-size-adjust:none !important;',\n  b'=09=09}',\n  b'',\n  b'}=09@media only screen and (max-width: 480px){',\n  b'=09=09body{',\n  b'=09=09=09width:100% !important;',\n  b'=09=09=09min-width:100% !important;',\n  b'=09=09}',\n  b'',\n  b'}=09@media only screen and (max-width: 480px){',\n  b'=09=09.mcnRetinaImage{',\n  b'=09=09=09max-width:100% !important;',\n  b'=09=09}',\n  b'',\n  b'}=09@media only screen and (max-width: 480px){',\n  b'=09=09.mcnImage{',\n  b'=09=09=09width:100% !important;',\n  b'=09=09}',\n  b'',\n  b'}=09@media only screen and (max-width: 480px){',\n  b'=09=09.mcnCartContainer=2C.mcnCaptionTopContent=2C.mcnRecContentContainer=',\n  b'=2C.mcnCaptionBottomContent=2C.mcnTextContentContainer=2C.mcnBoxedTextCont=',\n  b'entContainer=2C.mcnImageGroupContentContainer=2C.mcnCaptionLeftTextContent=',\n  b'Container=2C.mcnCaptionRightTextContentContainer=2C.mcnCaptionLeftImageCon=',\n  b'tentContainer=2C.mcnCaptionRightImageContentContainer=2C.mcnImageCardLeftT=',\n  b'extContentContainer=2C.mcnImageCardRightTextContentContainer=2C.mcnImageCa=',\n  b'rdLeftImageContentContainer=2C.mcnImageCardRightImageContentContainer{',\n  b'=09=09=09max-width:100% !important;',\n  b'=09=09=09width:100% !important;',\n  b'=09=09}',\n  b'',\n  b'}=09@media only screen and (max-width: 480px){',\n  b'=09=09.mcnBoxedTextContentContainer{',\n  b'=09=09=09min-width:100% !important;',\n  b'=09=09}',\n  b'',\n  b'}=09@media only screen and (max-width: 480px){',\n  b'=09=09.mcnImageGroupContent{',\n  b'=09=09=09padding:9px !important;',\n  b'=09=09}',\n  b'',\n  b'}=09@media only screen and (max-width: 480px){',\n  b'=09=09.mcnCaptionLeftContentOuter .mcnTextContent=2C.mcnCaptionRightConten=',\n  b'tOuter .mcnTextContent{',\n  b'=09=09=09padding-top:9px !important;',\n  b'=09=09}',\n  b'',\n  b'}=09@media only screen and (max-width: 480px){',\n  b'=09=09.mcnImageCardTopImageContent=2C.mcnCaptionBottomContent:last-child .=',\n  b'mcnCaptionBottomImageContent=2C.mcnCaptionBlockInner .mcnCaptionTopContent=',\n  b':last-child .mcnTextContent{',\n  b'=09=09=09padding-top:18px !important;',\n  b'=09=09}',\n  b'',\n  b'}=09@media only screen and (max-width: 480px){',\n  b'=09=09.mcnImageCardBottomImageContent{',\n  b'=09=09=09padding-bottom:9px !important;',\n  b'=09=09}',\n  b'',\n  b'}=09@media only screen and (max-width: 480px){',\n  b'=09=09.mcnImageGroupBlockInner{',\n  b'=09=09=09padding-top:0 !important;',\n  b'=09=09=09padding-bottom:0 !important;',\n  b'=09=09}',\n  b'',\n  b'}=09@media only screen and (max-width: 480px){',\n  b'=09=09.mcnImageGroupBlockOuter{',\n  b'=09=09=09padding-top:9px !important;',\n  b'=09=09=09padding-bottom:9px !important;',\n  b'=09=09}',\n  b'',\n  b'}=09@media only screen and (max-width: 480px){',\n  b'=09=09.mcnTextContent=2C.mcnBoxedTextContentColumn{',\n  b'=09=09=09padding-right:18px !important;',\n  b'=09=09=09padding-left:18px !important;',\n  b'=09=09}',\n  b'',\n  b'}=09@media only screen and (max-width: 480px){',\n  b'=09=09.mcnImageCardLeftImageContent=2C.mcnImageCardRightImageContent{',\n  b'=09=09=09padding-right:18px !important;',\n  b'=09=09=09padding-bottom:0 !important;',\n  b'=09=09=09padding-left:18px !important;',\n  b'=09=09}',\n  b'',\n  b'}=09@media only screen and (max-width: 480px){',\n  b'=09=09.mcpreview-image-uploader{',\n  b'=09=09=09display:none !important;',\n  b'=09=09=09width:100% !important;',\n  b'=09=09}',\n  b'',\n  b'}=09@media only screen and (max-width: 480px){',\n  b'=09=09h1{',\n  b'=09=09=09font-size:22px !important;',\n  b'=09=09=09line-height:125% !important;',\n  b'=09=09}',\n  b'',\n  b'}=09@media only screen and (max-width: 480px){',\n  b'=09=09h2{',\n  b'=09=09=09font-size:20px !important;',\n  b'=09=09=09line-height:125% !important;',\n  b'=09=09}',\n  b'',\n  b'}=09@media only screen and (max-width: 480px){',\n  b'=09=09h3{',\n  b'=09=09=09font-size:18px !important;',\n  b'=09=09=09line-height:125% !important;',\n  b'=09=09}',\n  b'',\n  b'}=09@media only screen and (max-width: 480px){',\n  b'=09=09h4{',\n  b'=09=09=09font-size:16px !important;',\n  b'=09=09=09line-height:150% !important;',\n  b'=09=09}',\n  b'',\n  b'}=09@media only screen and (max-width: 480px){',\n  b'=09=09.mcnBoxedTextContentContainer .mcnTextContent=2C.mcnBoxedTextContent=',\n  b'Container .mcnTextContent p{',\n  b'=09=09=09font-size:14px !important;',\n  b'=09=09=09line-height:150% !important;',\n  b'=09=09}',\n  b'',\n  b'}=09@media only screen and (max-width: 480px){',\n  b'=09=09#templatePreheader{',\n  b'=09=09=09display:block !important;',\n  b'=09=09}',\n  b'',\n  b'}=09@media only screen and (max-width: 480px){',\n  b'=09=09#templatePreheader .mcnTextContent=2C#templatePreheader .mcnTextCont=',\n  b'ent p{',\n  b'=09=09=09font-size:14px !important;',\n  b'=09=09=09line-height:150% !important;',\n  b'=09=09}',\n  b'',\n  b'}=09@media only screen and (max-width: 480px){',\n  b'=09=09#templateHeader .mcnTextContent=2C#templateHeader .mcnTextContent p{',\n  b'=09=09=09font-size:16px !important;',\n  b'=09=09=09line-height:150% !important;',\n  b'=09=09}',\n  b'',\n  b'}=09@media only screen and (max-width: 480px){',\n  b'=09=09#templateBody .mcnTextContent=2C#templateBody .mcnTextContent p{',\n  b'=09=09=09font-size:16px !important;',\n  b'=09=09=09line-height:150% !important;',\n  b'=09=09}',\n  b'',\n  b'}=09@media only screen and (max-width: 480px){',\n  b'=09=09#templateFooter .mcnTextContent=2C#templateFooter .mcnTextContent p{',\n  b'=09=09=09font-size:14px !important;',\n  b'=09=09=09line-height:150% !important;',\n  b'=09=09}',\n  b'',\n  b'}</style></head>',\n  b'    <body style=3D\"height: 100%;margin: 0;padding: 0;width: 100%;-ms-text-=',\n  b'size-adjust: 100%;-webkit-text-size-adjust: 100%;background-color: #FAFAFA=',\n  b';\">',\n  b'        <!--',\n  b'-->',\n  b'        <center>',\n  b'            <table align=3D\"center\" border=3D\"0\" cellpadding=3D\"0\" cellspa=',\n  b'cing=3D\"0\" height=3D\"100%\" width=3D\"100%\" id=3D\"bodyTable\" style=3D\"border=',\n  b'-collapse: collapse;mso-table-lspace: 0pt;mso-table-rspace: 0pt;-ms-text-s=',\n  b'ize-adjust: 100%;-webkit-text-size-adjust: 100%;height: 100%;margin: 0;pad=',\n  b'ding: 0;width: 100%;background-color: #FAFAFA;\">',\n  b'                <tr>',\n  b'                    <td align=3D\"center\" valign=3D\"top\" id=3D\"bodyCell\" st=',\n  b'yle=3D\"mso-line-height-rule: exactly;-ms-text-size-adjust: 100%;-webkit-te=',\n  b'xt-size-adjust: 100%;height: 100%;margin: 0;padding: 10px;width: 100%;bord=',\n  b'er-top: 0;\">',\n  b'                        <!-- BEGIN TEMPLATE // -->',\n  b'                        <!--[if (gte mso 9)|(IE)]>',\n  b'                        <table align=3D\"center\" border=3D\"0\" cellspacing=',\n  b'=3D\"0\" cellpadding=3D\"0\" width=3D\"600\" style=3D\"width:600px;\">',\n  b'                        <tr>',\n  b'                        <td align=3D\"center\" valign=3D\"top\" width=3D\"600\"=',\n  b' style=3D\"width:600px;\">',\n  b'                        <![endif]-->',\n  b'                        <table border=3D\"0\" cellpadding=3D\"0\" cellspacing=',\n  b'=3D\"0\" width=3D\"100%\" class=3D\"templateContainer\" style=3D\"border-collapse=',\n  b': collapse;mso-table-lspace: 0pt;mso-table-rspace: 0pt;-ms-text-size-adjus=',\n  b't: 100%;-webkit-text-size-adjust: 100%;border: 0;max-width: 600px !importa=',\n  b'nt;\">',\n  b'                            <tr>',\n  b'                                <td valign=3D\"top\" id=3D\"templatePreheader=',\n  b'\" style=3D\"background:#FAFAFA none no-repeat center/cover;mso-line-height-=',\n  b'rule: exactly;-ms-text-size-adjust: 100%;-webkit-text-size-adjust: 100%;ba=',\n  b'ckground-color: #FAFAFA;background-image: none;background-repeat: no-repea=',\n  b't;background-position: center;background-size: cover;border-top: 0;border-=',\n  b'bottom: 0;padding-top: 9px;padding-bottom: 9px;\"><table border=3D\"0\" cellp=',\n  b'adding=3D\"0\" cellspacing=3D\"0\" width=3D\"100%\" class=3D\"mcnTextBlock\" style=',\n  b'=3D\"min-width: 100%;border-collapse: collapse;mso-table-lspace: 0pt;mso-ta=',\n  b'ble-rspace: 0pt;-ms-text-size-adjust: 100%;-webkit-text-size-adjust: 100%;=',\n  b'\">',\n  b'    <tbody class=3D\"mcnTextBlockOuter\">',\n  b'        <tr>',\n  b'            <td valign=3D\"top\" class=3D\"mcnTextBlockInner\" style=3D\"paddin=',\n  b'g-top: 9px;mso-line-height-rule: exactly;-ms-text-size-adjust: 100%;-webki=',\n  b't-text-size-adjust: 100%;\">',\n  b'              =09<!--[if mso]>',\n  b'=09=09=09=09<table align=3D\"left\" border=3D\"0\" cellspacing=3D\"0\" cellpaddi=',\n  b'ng=3D\"0\" width=3D\"100%\" style=3D\"width:100%;\">',\n  b'=09=09=09=09<tr>',\n  b'=09=09=09=09<![endif]-->',\n  b'=09=09=09',\n  b'=09=09=09=09<!--[if mso]>',\n  b'=09=09=09=09<td valign=3D\"top\" width=3D\"600\" style=3D\"width:600px;\">',\n  b'=09=09=09=09<![endif]-->',\n  b'                <table align=3D\"left\" border=3D\"0\" cellpadding=3D\"0\" cells=',\n  b'pacing=3D\"0\" style=3D\"max-width: 100%;min-width: 100%;border-collapse: col=',\n  b'lapse;mso-table-lspace: 0pt;mso-table-rspace: 0pt;-ms-text-size-adjust: 10=',\n  b'0%;-webkit-text-size-adjust: 100%;\" width=3D\"100%\" class=3D\"mcnTextContent=',\n  b'Container\">',\n  b'                    <tbody><tr>',\n  b'',\n  b'                        <td valign=3D\"top\" class=3D\"mcnTextContent\" style=',\n  b'=3D\"padding: 0px 18px 9px;text-align: center;mso-line-height-rule: exactly=',\n  b';-ms-text-size-adjust: 100%;-webkit-text-size-adjust: 100%;word-break: bre=',\n  b'ak-word;color: #656565;font-family: Helvetica;font-size: 12px;line-height:=',\n  b' 150%;\">',\n  b'',\n  b'                            <a href=3D\"https://mailchi.mp/4b6d071cf55d/the=',\n  b'-best-agency-growth-secrets-of-2023-seotheory-qa?e=3D50738b472e\" target=3D\"_=',\n  b'blank\" style=3D\"mso-line-height-rule: exactly;-ms-text-size-adjust: 100%;-=',\n  b'webkit-text-size-adjust: 100%;color: #656565;font-weight: normal;text-deco=',\n  b'ration: underline;\">View this email in your browser</a>',\n  b'                        </td>',\n  b'                    </tr>',\n  b'                </tbody></table>',\n  b'=09=09=09=09<!--[if mso]>',\n  b'=09=09=09=09</td>',\n  b'=09=09=09=09<![endif]-->',\n  b'',\n  b'=09=09=09=09<!--[if mso]>',\n  b'=09=09=09=09</tr>',\n  b'=09=09=09=09</table>',\n  b'=09=09=09=09<![endif]-->',\n  b'            </td>',\n  b'        </tr>',\n  b'    </tbody>',\n  b'</table></td>',\n  b'                            </tr>',\n  b'                            <tr>',\n  b'                                <td valign=3D\"top\" id=3D\"templateHeader\" s=',\n  b'tyle=3D\"background:#FFFFFF none no-repeat center/cover;mso-line-height-rul=',\n  b'e: exactly;-ms-text-size-adjust: 100%;-webkit-text-size-adjust: 100%;backg=',\n  b'round-color: #FFFFFF;background-image: none;background-repeat: no-repeat;b=',\n  b'ackground-position: center;background-size: cover;border-top: 0;border-bot=',\n  b'tom: 0;padding-top: 9px;padding-bottom: 0;\"><table border=3D\"0\" cellpaddin=',\n  b'g=3D\"0\" cellspacing=3D\"0\" width=3D\"100%\" class=3D\"mcnImageBlock\" style=3D\"=',\n  b'min-width: 100%;border-collapse: collapse;mso-table-lspace: 0pt;mso-table-=',\n  b'rspace: 0pt;-ms-text-size-adjust: 100%;-webkit-text-size-adjust: 100%;\">',\n  b'    <tbody class=3D\"mcnImageBlockOuter\">',\n  b'            <tr>',\n  b'                <td valign=3D\"top\" style=3D\"padding: 9px;mso-line-height-r=',\n  b'ule: exactly;-ms-text-size-adjust: 100%;-webkit-text-size-adjust: 100%;\" c=',\n  b'lass=3D\"mcnImageBlockInner\">',\n  b'                    <table align=3D\"left\" width=3D\"100%\" border=3D\"0\" cell=',\n  b'padding=3D\"0\" cellspacing=3D\"0\" class=3D\"mcnImageContentContainer\" style=',\n  b'=3D\"min-width: 100%;border-collapse: collapse;mso-table-lspace: 0pt;mso-ta=',\n  b'ble-rspace: 0pt;-ms-text-size-adjust: 100%;-webkit-text-size-adjust: 100%;=',\n  b'\">',\n  b'                        <tbody><tr>',\n  b'                            <td class=3D\"mcnImageContent\" valign=3D\"top\" s=',\n  b'tyle=3D\"padding-right: 9px;padding-left: 9px;padding-top: 0;padding-bottom=',\n  b': 0;text-align: center;mso-line-height-rule: exactly;-ms-text-size-adjust:=',\n  b' 100%;-webkit-text-size-adjust: 100%;\">',\n  b'',\n  b'',\n  b'                                        <img align=3D\"center\" alt=3D\"\" src=',\n  b'=3D\"https://mcusercontent.com/18e9a69fdbc75bd4bdf5ac69d/images/164cb963-7e=',\n  b'71-4e0e-3fc9-c2e3b951ee24.png\" width=3D\"231.23999999999998\" style=3D\"max-w=',\n  b'idth: 930px;padding-bottom: 0;display: inline !important;vertical-align: b=',\n  b'ottom;border: 0;height: auto;outline: none;text-decoration: none;-ms-inter=',\n  b'polation-mode: bicubic;\" class=3D\"mcnImage\">',\n  b'',\n  b'',\n  b'                            </td>',\n  b'                        </tr>',\n  b'                    </tbody></table>',\n  b'                </td>',\n  b'            </tr>',\n  b'    </tbody>',\n  b'</table></td>',\n  b'                            </tr>',\n  b'                            <tr>',\n  b'                                <td valign=3D\"top\" id=3D\"templateBody\" sty=',\n  b'le=3D\"background:#FFFFFF none no-repeat center/cover;mso-line-height-rule:=',\n  b' exactly;-ms-text-size-adjust: 100%;-webkit-text-size-adjust: 100%;backgro=',\n  b'und-color: #FFFFFF;background-image: none;background-repeat: no-repeat;bac=',\n  b'kground-position: center;background-size: cover;border-top: 0;border-botto=',\n  b'm: 2px solid #EAEAEA;padding-top: 0;padding-bottom: 9px;\"><table border=3D=',\n  b'\"0\" cellpadding=3D\"0\" cellspacing=3D\"0\" width=3D\"100%\" class=3D\"mcnImageBl=',\n  b'ock\" style=3D\"min-width: 100%;border-collapse: collapse;mso-table-lspace:=',\n  b' 0pt;mso-table-rspace: 0pt;-ms-text-size-adjust: 100%;-webkit-text-size-ad=',\n  b'just: 100%;\">',\n  b'    <tbody class=3D\"mcnImageBlockOuter\">',\n  b'            <tr>',\n  b'                <td valign=3D\"top\" style=3D\"padding: 9px;mso-line-height-r=',\n  b'ule: exactly;-ms-text-size-adjust: 100%;-webkit-text-size-adjust: 100%;\" c=',\n  b'lass=3D\"mcnImageBlockInner\">',\n  b'                    <table align=3D\"left\" width=3D\"100%\" border=3D\"0\" cell=',\n  b'padding=3D\"0\" cellspacing=3D\"0\" class=3D\"mcnImageContentContainer\" style=',\n  b'=3D\"min-width: 100%;border-collapse: collapse;mso-table-lspace: 0pt;mso-ta=',\n  b'ble-rspace: 0pt;-ms-text-size-adjust: 100%;-webkit-text-size-adjust: 100%;=',\n  b'\">',\n  b'                        <tbody><tr>',\n  b'                            <td class=3D\"mcnImageContent\" valign=3D\"top\" s=',\n  b'tyle=3D\"padding-right: 9px;padding-left: 9px;padding-top: 0;padding-bottom=',\n  b': 0;text-align: center;mso-line-height-rule: exactly;-ms-text-size-adjust:=',\n  b' 100%;-webkit-text-size-adjust: 100%;\">',\n  b'',\n  b'',\n  b'                                        <img align=3D\"center\" alt=3D\"\" src=',\n  b'=3D\"https://mcusercontent.com/18e9a69fdbc75bd4bdf5ac69d/images/7a5f83ca-4d=',\n  b'd9-52ba-b415-d3a01bc42acc.png\" width=3D\"564\" style=3D\"max-width: 1861px;pa=',\n  b'dding-bottom: 0;display: inline !important;vertical-align: bottom;border:=',\n  b' 0;height: auto;outline: none;text-decoration: none;-ms-interpolation-mode=',\n  b': bicubic;\" class=3D\"mcnImage\">',\n  b'',\n  b'',\n  b'                            </td>',\n  b'                        </tr>',\n  b'                    </tbody></table>',\n  b'                </td>',\n  b'            </tr>',\n  b'    </tbody>',\n  b'</table><table border=3D\"0\" cellpadding=3D\"0\" cellspacing=3D\"0\" width=3D\"1=',\n  b'00%\" class=3D\"mcnDividerBlock\" style=3D\"min-width: 100%;border-collapse: c=',\n  b'ollapse;mso-table-lspace: 0pt;mso-table-rspace: 0pt;-ms-text-size-adjust:=',\n  b' 100%;-webkit-text-size-adjust: 100%;table-layout: fixed !important;\">',\n  b'    <tbody class=3D\"mcnDividerBlockOuter\">',\n  b'        <tr>',\n  b'            <td class=3D\"mcnDividerBlockInner\" style=3D\"min-width: 100%;pa=',\n  b'dding: 18px;mso-line-height-rule: exactly;-ms-text-size-adjust: 100%;-webk=',\n  b'it-text-size-adjust: 100%;\">',\n  b'                <table class=3D\"mcnDividerContent\" border=3D\"0\" cellpaddin=',\n  b'g=3D\"0\" cellspacing=3D\"0\" width=3D\"100%\" style=3D\"min-width: 100%;border-t=',\n  b'op: 2px solid #EAEAEA;border-collapse: collapse;mso-table-lspace: 0pt;mso-=',\n  b'table-rspace: 0pt;-ms-text-size-adjust: 100%;-webkit-text-size-adjust: 100=',\n  b'%;\">',\n  b'                    <tbody><tr>',\n  b'                        <td style=3D\"mso-line-height-rule: exactly;-ms-tex=',\n  b't-size-adjust: 100%;-webkit-text-size-adjust: 100%;\">',\n  b'                            <span></span>',\n  b'                        </td>',\n  b'                    </tr>',\n  b'                </tbody></table>',\n  b'<!--',\n  b'                <td class=3D\"mcnDividerBlockInner\" style=3D\"padding: 18px;=',\n  b'\">',\n  b'                <hr class=3D\"mcnDividerContent\" style=3D\"border-bottom-col=',\n  b'or:none; border-left-color:none; border-right-color:none; border-bottom-wi=',\n  b'dth:0; border-left-width:0; border-right-width:0; margin-top:0; margin-rig=',\n  b'ht:0; margin-bottom:0; margin-left:0;\" />',\n  b'-->',\n  b'            </td>',\n  b'        </tr>',\n  b'    </tbody>',\n  b'</table><table border=3D\"0\" cellpadding=3D\"0\" cellspacing=3D\"0\" width=3D\"1=',\n  b'00%\" class=3D\"mcnTextBlock\" style=3D\"min-width: 100%;border-collapse: coll=',\n  b'apse;mso-table-lspace: 0pt;mso-table-rspace: 0pt;-ms-text-size-adjust: 100=',\n  b'%;-webkit-text-size-adjust: 100%;\">',\n  b'    <tbody class=3D\"mcnTextBlockOuter\">',\n  b'        <tr>',\n  b'            <td valign=3D\"top\" class=3D\"mcnTextBlockInner\" style=3D\"paddin=',\n  b'g-top: 9px;mso-line-height-rule: exactly;-ms-text-size-adjust: 100%;-webki=',\n  b't-text-size-adjust: 100%;\">',\n  b'              =09<!--[if mso]>',\n  b'=09=09=09=09<table align=3D\"left\" border=3D\"0\" cellspacing=3D\"0\" cellpaddi=',\n  b'ng=3D\"0\" width=3D\"100%\" style=3D\"width:100%;\">',\n  b'=09=09=09=09<tr>',\n  b'=09=09=09=09<![endif]-->',\n  b'=09=09=09',\n  b'=09=09=09=09<!--[if mso]>',\n  b'=09=09=09=09<td valign=3D\"top\" width=3D\"600\" style=3D\"width:600px;\">',\n  b'=09=09=09=09<![endif]-->',\n  b'                <table align=3D\"left\" border=3D\"0\" cellpadding=3D\"0\" cells=',\n  b'pacing=3D\"0\" style=3D\"max-width: 100%;min-width: 100%;border-collapse: col=',\n  b'lapse;mso-table-lspace: 0pt;mso-table-rspace: 0pt;-ms-text-size-adjust: 10=',\n  b'0%;-webkit-text-size-adjust: 100%;\" width=3D\"100%\" class=3D\"mcnTextContent=',\n  b'Container\">',\n  b'                    <tbody><tr>',\n  b'',\n  b'                        <td valign=3D\"top\" class=3D\"mcnTextContent\" style=',\n  b'=3D\"padding-top: 0;padding-right: 18px;padding-bottom: 9px;padding-left: 1=',\n  b'8px;mso-line-height-rule: exactly;-ms-text-size-adjust: 100%;-webkit-text-=',\n  b'size-adjust: 100%;word-break: break-word;color: #202020;font-family: Helve=',\n  b'tica;font-size: 16px;line-height: 150%;text-align: left;\">',\n  b'',\n  b'                            <p style=3D\"text-align: center;margin: 10px 0;=',\n  b'padding: 0;mso-line-height-rule: exactly;-ms-text-size-adjust: 100%;-webki=',\n  b't-text-size-adjust: 100%;color: #202020;font-family: Helvetica;font-size:=',\n  b' 16px;line-height: 150%;\"><strong>Our weekly SEOTHEORY Q&amp;A Session is=',\n  b' coming up!</strong><br>',\n  b'&nbsp;</p>',\n  b'',\n  b'<p style=3D\"text-align: center;margin: 10px 0;padding: 0;mso-line-height-r=',\n  b'ule: exactly;-ms-text-size-adjust: 100%;-webkit-text-size-adjust: 100%;col=',\n  b'or: #202020;font-family: Helvetica;font-size: 16px;line-height: 150%;\"><st=',\n  b'rong>Last week we had the chance to attend the 7 Figure Agency mastermind.=',\n  b'=2E.</strong><br>',\n  b'&nbsp;</p>',\n  b'',\n  b'<p style=3D\"text-align: center;margin: 10px 0;padding: 0;mso-line-height-r=',\n  b'ule: exactly;-ms-text-size-adjust: 100%;-webkit-text-size-adjust: 100%;col=',\n  b'or: #202020;font-family: Helvetica;font-size: 16px;line-height: 150%;\"><st=',\n  b\"rong>And in this week's session we're going to be revealing some of the BE=\",\n  b'ST agency growth secrets being implemented this year.</strong><br>',\n  b'&nbsp;</p>',\n  b'',\n  b'<p style=3D\"text-align: center;margin: 10px 0;padding: 0;mso-line-height-r=',\n  b'ule: exactly;-ms-text-size-adjust: 100%;-webkit-text-size-adjust: 100%;col=',\n  b'or: #202020;font-family: Helvetica;font-size: 16px;line-height: 150%;\"><st=',\n  b'rong>This mastermind was a large investment=2C but we wanted to share some=',\n  b' of the key takeaways with the SEOTHEORY community.</strong><br>',\n  b'&nbsp;</p>',\n  b'',\n  b'<p style=3D\"text-align: center;margin: 10px 0;padding: 0;mso-line-height-r=',\n  b'ule: exactly;-ms-text-size-adjust: 100%;-webkit-text-size-adjust: 100%;col=',\n  b'or: #202020;font-family: Helvetica;font-size: 16px;line-height: 150%;\"><st=',\n  b'rong>=F0=9F=93=86 TODAY=2C November 21=2C from 1pm-2pm EST</strong></p>',\n  b'',\n  b'                        </td>',\n  b'                    </tr>',\n  b'                </tbody></table>',\n  b'=09=09=09=09<!--[if mso]>',\n  b'=09=09=09=09</td>',\n  b'=09=09=09=09<![endif]-->',\n  b'',\n  b'=09=09=09=09<!--[if mso]>',\n  b'=09=09=09=09</tr>',\n  b'=09=09=09=09</table>',\n  b'=09=09=09=09<![endif]-->',\n  b'            </td>',\n  b'        </tr>',\n  b'    </tbody>',\n  b'</table><table border=3D\"0\" cellpadding=3D\"0\" cellspacing=3D\"0\" width=3D\"1=',\n  b'00%\" class=3D\"mcnButtonBlock\" style=3D\"min-width: 100%;border-collapse: co=',\n  b'llapse;mso-table-lspace: 0pt;mso-table-rspace: 0pt;-ms-text-size-adjust: 1=',\n  b'00%;-webkit-text-size-adjust: 100%;\">',\n  b'    <tbody class=3D\"mcnButtonBlockOuter\">',\n  b'        <tr>',\n  b'            <td style=3D\"padding-top: 0;padding-right: 18px;padding-bottom=',\n  b': 18px;padding-left: 18px;mso-line-height-rule: exactly;-ms-text-size-adju=',\n  b'st: 100%;-webkit-text-size-adjust: 100%;\" valign=3D\"top\" align=3D\"center\"=',\n  b' class=3D\"mcnButtonBlockInner\">',\n  b'                <table border=3D\"0\" cellpadding=3D\"0\" cellspacing=3D\"0\" cl=',\n  b'ass=3D\"mcnButtonContentContainer\" style=3D\"border-collapse: separate !impo=',\n  b'rtant;border-radius: 4px;background-color: #8A5FD4;mso-table-lspace: 0pt;m=',\n  b'so-table-rspace: 0pt;-ms-text-size-adjust: 100%;-webkit-text-size-adjust:=',\n  b' 100%;\">',\n  b'                    <tbody>',\n  b'                        <tr>',\n  b'                            <td align=3D\"center\" valign=3D\"middle\" class=',\n  b'=3D\"mcnButtonContent\" style=3D\"font-family: Arial;font-size: 24px;padding:=',\n  b' 18px;mso-line-height-rule: exactly;-ms-text-size-adjust: 100%;-webkit-tex=',\n  b't-size-adjust: 100%;\">',\n  b'                                <a class=3D\"mcnButton \" title=3D\"JOIN THE=',\n  b' Q&A SESSION HERE\" href=3D\"https://linkgraph.us8.list-manage.com/track/cli=',\n  b'ck?u=3D18e9a69fdbc75bd4bdf5ac69d&id=3D304f31c12f&e=3D50738b472e\" target=',\n  b'=3D\"_blank\" style=3D\"font-weight: bold;letter-spacing: normal;line-height:=',\n  b' 100%;text-align: center;text-decoration: none;color: #FFFFFF;mso-line-hei=',\n  b'ght-rule: exactly;-ms-text-size-adjust: 100%;-webkit-text-size-adjust: 100=',\n  b'%;display: block;\">JOIN THE Q&amp;A SESSION HERE</a>',\n  b'                            </td>',\n  b'                        </tr>',\n  b'                    </tbody>',\n  b'                </table>',\n  b'            </td>',\n  b'        </tr>',\n  b'    </tbody>',\n  b'</table><table border=3D\"0\" cellpadding=3D\"0\" cellspacing=3D\"0\" width=3D\"1=',\n  b'00%\" class=3D\"mcnDividerBlock\" style=3D\"min-width: 100%;border-collapse: c=',\n  b'ollapse;mso-table-lspace: 0pt;mso-table-rspace: 0pt;-ms-text-size-adjust:=',\n  b' 100%;-webkit-text-size-adjust: 100%;table-layout: fixed !important;\">',\n  b'    <tbody class=3D\"mcnDividerBlockOuter\">',\n  b'        <tr>',\n  b'            <td class=3D\"mcnDividerBlockInner\" style=3D\"min-width: 100%;pa=',\n  b'dding: 18px;mso-line-height-rule: exactly;-ms-text-size-adjust: 100%;-webk=',\n  b'it-text-size-adjust: 100%;\">',\n  b'                <table class=3D\"mcnDividerContent\" border=3D\"0\" cellpaddin=',\n  b'g=3D\"0\" cellspacing=3D\"0\" width=3D\"100%\" style=3D\"min-width: 100%;border-t=',\n  b'op: 2px solid #EAEAEA;border-collapse: collapse;mso-table-lspace: 0pt;mso-=',\n  b'table-rspace: 0pt;-ms-text-size-adjust: 100%;-webkit-text-size-adjust: 100=',\n  b'%;\">',\n  b'                    <tbody><tr>',\n  b'                        <td style=3D\"mso-line-height-rule: exactly;-ms-tex=',\n  b't-size-adjust: 100%;-webkit-text-size-adjust: 100%;\">',\n  b'                            <span></span>',\n  b'                        </td>',\n  b'                    </tr>',\n  b'                </tbody></table>',\n  b'<!--',\n  b'                <td class=3D\"mcnDividerBlockInner\" style=3D\"padding: 18px;=',\n  b'\">',\n  b'                <hr class=3D\"mcnDividerContent\" style=3D\"border-bottom-col=',\n  b'or:none; border-left-color:none; border-right-color:none; border-bottom-wi=',\n  b'dth:0; border-left-width:0; border-right-width:0; margin-top:0; margin-rig=',\n  b'ht:0; margin-bottom:0; margin-left:0;\" />',\n  b'-->',\n  b'            </td>',\n  b'        </tr>',\n  b'    </tbody>',\n  b'</table><table border=3D\"0\" cellpadding=3D\"0\" cellspacing=3D\"0\" width=3D\"1=',\n  b'00%\" class=3D\"mcnTextBlock\" style=3D\"min-width: 100%;border-collapse: coll=',\n  b'apse;mso-table-lspace: 0pt;mso-table-rspace: 0pt;-ms-text-size-adjust: 100=',\n  b'%;-webkit-text-size-adjust: 100%;\">',\n  b'    <tbody class=3D\"mcnTextBlockOuter\">',\n  b'        <tr>',\n  b'            <td valign=3D\"top\" class=3D\"mcnTextBlockInner\" style=3D\"paddin=',\n  b'g-top: 9px;mso-line-height-rule: exactly;-ms-text-size-adjust: 100%;-webki=',\n  b't-text-size-adjust: 100%;\">',\n  b'              =09<!--[if mso]>',\n  b'=09=09=09=09<table align=3D\"left\" border=3D\"0\" cellspacing=3D\"0\" cellpaddi=',\n  b'ng=3D\"0\" width=3D\"100%\" style=3D\"width:100%;\">',\n  b'=09=09=09=09<tr>',\n  b'=09=09=09=09<![endif]-->',\n  b'=09=09=09',\n  b'=09=09=09=09<!--[if mso]>',\n  b'=09=09=09=09<td valign=3D\"top\" width=3D\"600\" style=3D\"width:600px;\">',\n  b'=09=09=09=09<![endif]-->',\n  b'                <table align=3D\"left\" border=3D\"0\" cellpadding=3D\"0\" cells=',\n  b'pacing=3D\"0\" style=3D\"max-width: 100%;min-width: 100%;border-collapse: col=',\n  b'lapse;mso-table-lspace: 0pt;mso-table-rspace: 0pt;-ms-text-size-adjust: 10=',\n  b'0%;-webkit-text-size-adjust: 100%;\" width=3D\"100%\" class=3D\"mcnTextContent=',\n  b'Container\">',\n  b'                    <tbody><tr>',\n  b'',\n  b'                        <td valign=3D\"top\" class=3D\"mcnTextContent\" style=',\n  b'=3D\"padding-top: 0;padding-right: 18px;padding-bottom: 9px;padding-left: 1=',\n  b'8px;mso-line-height-rule: exactly;-ms-text-size-adjust: 100%;-webkit-text-=',\n  b'size-adjust: 100%;word-break: break-word;color: #202020;font-family: Helve=',\n  b'tica;font-size: 16px;line-height: 150%;text-align: left;\">',\n  b'',\n  b'                            <h2 class=3D\"null\" style=3D\"text-align: center=',\n  b';display: block;margin: 0;padding: 0;color: #202020;font-family: Helvetica=',\n  b';font-size: 22px;font-style: normal;font-weight: bold;line-height: 125%;le=',\n  b'tter-spacing: normal;\">WHAT WE\\'RE GOING TO REVEAL</h2>',\n  b'',\n  b'<ul>',\n  b'=09<li style=3D\"mso-line-height-rule: exactly;-ms-text-size-adjust: 100%;-=',\n  b'webkit-text-size-adjust: 100%;\">How to build maximum authority within your=',\n  b' niche through&nbsp;<strong>monthly webinar funnels=2C publishing your own=',\n  b' niche books=2C and building testimonial pipelines.</strong></li>',\n  b'=09<li style=3D\"mso-line-height-rule: exactly;-ms-text-size-adjust: 100%;-=',\n  b'webkit-text-size-adjust: 100%;\">The automation blueprint to create<strong>=',\n  b'&nbsp;systems that fully maximize conversion rates</strong>&nbsp;on all of=',\n  b' your cold &amp; warm advertising efforts.</li>',\n  b'=09<li style=3D\"mso-line-height-rule: exactly;-ms-text-size-adjust: 100%;-=',\n  b'webkit-text-size-adjust: 100%;\">The formula on retaining over 90% of agenc=',\n  b'y clients through&nbsp;<strong>world class onboarding=2C engineering quick=',\n  b' win campaigns=2C and effective reporting.</strong></li>',\n  b'</ul>',\n  b'',\n  b'                        </td>',\n  b'                    </tr>',\n  b'                </tbody></table>',\n  b'=09=09=09=09<!--[if mso]>',\n  b'=09=09=09=09</td>',\n  b'=09=09=09=09<![endif]-->',\n  b'',\n  b'=09=09=09=09<!--[if mso]>',\n  b'=09=09=09=09</tr>',\n  b'=09=09=09=09</table>',\n  b'=09=09=09=09<![endif]-->',\n  b'            </td>',\n  b'        </tr>',\n  b'    </tbody>',\n  b'</table><table border=3D\"0\" cellpadding=3D\"0\" cellspacing=3D\"0\" width=3D\"1=',\n  b'00%\" class=3D\"mcnDividerBlock\" style=3D\"min-width: 100%;border-collapse: c=',\n  b'ollapse;mso-table-lspace: 0pt;mso-table-rspace: 0pt;-ms-text-size-adjust:=',\n  b' 100%;-webkit-text-size-adjust: 100%;table-layout: fixed !important;\">',\n  b'    <tbody class=3D\"mcnDividerBlockOuter\">',\n  b'        <tr>',\n  b'            <td class=3D\"mcnDividerBlockInner\" style=3D\"min-width: 100%;pa=',\n  b'dding: 18px;mso-line-height-rule: exactly;-ms-text-size-adjust: 100%;-webk=',\n  b'it-text-size-adjust: 100%;\">',\n  b'                <table class=3D\"mcnDividerContent\" border=3D\"0\" cellpaddin=',\n  b'g=3D\"0\" cellspacing=3D\"0\" width=3D\"100%\" style=3D\"min-width: 100%;border-t=',\n  ...],\n 57136)"
     },
     "execution_count": 78,
     "metadata": {},
     "output_type": "execute_result"
    }
   ],
   "source": [
    "# 메시지 가져오기 (바이트 문자열, 두번째 요소가 메시지 내용)\n",
    "server.retr(recent_no)"
   ],
   "metadata": {
    "collapsed": false,
    "ExecuteTime": {
     "end_time": "2024-02-18T11:57:37.292719500Z",
     "start_time": "2024-02-18T11:57:36.857419Z"
    }
   },
   "id": "6b5aae304141eb4e",
   "execution_count": 78
  },
  {
   "cell_type": "code",
   "outputs": [],
   "source": [
    "# 줄바꿈으로 메시지 내용 조인\n",
    "raw_email = b'\\n'.join(server.retr(recent_no)[1])"
   ],
   "metadata": {
    "collapsed": false,
    "ExecuteTime": {
     "start_time": "2024-02-18T11:56:52.085446600Z"
    }
   },
   "id": "2489d5122715263a",
   "execution_count": null
  },
  {
   "cell_type": "code",
   "outputs": [],
   "source": [
    "raw_email"
   ],
   "metadata": {
    "collapsed": false,
    "ExecuteTime": {
     "start_time": "2024-02-18T11:56:52.085446600Z"
    }
   },
   "id": "181d9bae6c266fc9",
   "execution_count": null
  },
  {
   "cell_type": "markdown",
   "source": [
    "# email\n",
    "- email 은 바이트 문자열 형식의 이메일 메시지를 사람이 알아볼 수 있는 문자열 형태로 파싱 및 디코딩할 때 사용되는 모듈"
   ],
   "metadata": {
    "collapsed": false
   },
   "id": "f3bc70c732dd895d"
  },
  {
   "cell_type": "code",
   "outputs": [],
   "source": [
    "import email\n",
    "from email.header import decode_header, make_header"
   ],
   "metadata": {
    "collapsed": false,
    "ExecuteTime": {
     "end_time": "2024-02-18T11:57:17.974216600Z",
     "start_time": "2024-02-18T11:57:17.967170200Z"
    }
   },
   "id": "50ccf4f1009574e3",
   "execution_count": 70
  },
  {
   "cell_type": "code",
   "outputs": [],
   "source": [
    "# 메시지 객체 생성\n",
    "message = email.message_from_bytes(raw_email)"
   ],
   "metadata": {
    "collapsed": false,
    "ExecuteTime": {
     "end_time": "2024-02-18T11:57:18.472908900Z",
     "start_time": "2024-02-18T11:57:18.468733500Z"
    }
   },
   "id": "7451633a291ab3ce",
   "execution_count": 71
  },
  {
   "cell_type": "code",
   "outputs": [
    {
     "data": {
      "text/plain": "<email.message.Message at 0x2cb6773d400>"
     },
     "execution_count": 72,
     "metadata": {},
     "output_type": "execute_result"
    }
   ],
   "source": [
    "message"
   ],
   "metadata": {
    "collapsed": false,
    "ExecuteTime": {
     "end_time": "2024-02-18T11:57:18.832150500Z",
     "start_time": "2024-02-18T11:57:18.827329400Z"
    }
   },
   "id": "eaf9dc12fa82505",
   "execution_count": 72
  },
  {
   "cell_type": "markdown",
   "source": [
    "# 이메일 정보 확인"
   ],
   "metadata": {
    "collapsed": false
   },
   "id": "9c4bd434dc49ca4e"
  },
  {
   "cell_type": "code",
   "outputs": [
    {
     "data": {
      "text/plain": "'=?utf-8?Q?Fidan=20Alizada?= <fidan.alizada@linkgraph.io>'"
     },
     "execution_count": 73,
     "metadata": {},
     "output_type": "execute_result"
    }
   ],
   "source": [
    "# 송신자 확인\n",
    "message.get('From')"
   ],
   "metadata": {
    "collapsed": false,
    "ExecuteTime": {
     "end_time": "2024-02-18T11:57:20.396484300Z",
     "start_time": "2024-02-18T11:57:20.389228900Z"
    }
   },
   "id": "565051d43ece85c6",
   "execution_count": 73
  },
  {
   "cell_type": "code",
   "outputs": [],
   "source": [
    "# email 모듈 디코더 활용\n",
    "fr = make_header(decode_header(message.get('From')))\n",
    "print(fr)"
   ],
   "metadata": {
    "collapsed": false,
    "ExecuteTime": {
     "end_time": "2024-02-18T11:56:52.090446700Z",
     "start_time": "2024-02-18T11:56:52.089446800Z"
    }
   },
   "id": "f979fcdeacd20986",
   "execution_count": null
  },
  {
   "cell_type": "code",
   "outputs": [],
   "source": [
    "# 제목 확인\n",
    "subject = make_header(decode_header(message.get('Subject')))\n",
    "print(subject)"
   ],
   "metadata": {
    "collapsed": false,
    "ExecuteTime": {
     "start_time": "2024-02-18T11:56:52.089446800Z"
    }
   },
   "id": "a08e4670a21920b8",
   "execution_count": null
  },
  {
   "cell_type": "markdown",
   "source": [
    "# 이메일 본문 확인\n",
    "이메일의 메시지는 멀티파트(multipart)로 구성될 수도 있고 아닐 수도 있음\n",
    "이메일에 첨부 파일이 있거나 text/plain 또는 text/html 형식의 내용을 동시에 보낸다면 멀티파트 형식으로 구성됨\n",
    "멀티파트인지 아닌지 분기해서 확인"
   ],
   "metadata": {
    "collapsed": false
   },
   "id": "5e11e49be78659c5"
  },
  {
   "cell_type": "code",
   "outputs": [],
   "source": [
    "if message.is_multipart():\n",
    "    # 멀티 파트라면 여러 개로 나누어진 메시지를 하나씩 처리\n",
    "    for part in message.walk():\n",
    "        ctype = part.get_content_type()\n",
    "        cdispo = str(part.get('Content-Disposition'))\n",
    "\n",
    "        # 컨텐츠가 text/plain 이고, 첨부파일이 없다면\n",
    "        if ctype == 'text/plain' and 'attachment' not in cdispo:\n",
    "            body = part.get_payload(decode=True)  # 메시지 내용 추출\n",
    "            break\n",
    "else:  # 싱글 파트라면\n",
    "    body = message.get_payload(decode=True)  # 메시지 내용 추출"
   ],
   "metadata": {
    "collapsed": false,
    "ExecuteTime": {
     "end_time": "2024-02-18T11:57:56.938612400Z",
     "start_time": "2024-02-18T11:57:56.928522Z"
    }
   },
   "id": "29c1027b0afb028",
   "execution_count": 80
  },
  {
   "cell_type": "code",
   "outputs": [
    {
     "name": "stdout",
     "output_type": "stream",
     "text": [
      "보낸사람:Fidan Alizada <fidan.alizada@linkgraph.io>\n",
      "제목:The BEST agency growth secrets of 2023 - SEOTHEORY Q&A 🚀\n",
      "내용:\n",
      "\n",
      "View this email in your browser (https://mailchi.mp/4b6d071cf55d/the-best-agency-growth-secrets-of-2023-seotheory-qa?e=50738b472e)\n",
      "\n",
      "Our weekly SEOTHEORY Q&A Session is coming up!\n",
      "\n",
      "Last week we had the chance to attend the 7 Figure Agency mastermind...\n",
      "\n",
      "And in this week's session we're going to be revealing some of the BEST agency growth secrets being implemented this year.\n",
      "\n",
      "This mastermind was a large investment, but we wanted to share some of the key takeaways with the SEOTHEORY community.\n",
      "\n",
      "📆 TODAY, November 21, from 1pm-2pm EST\n",
      "JOIN THE Q&A SESSION HERE (https://us02web.zoom.us/j/82063257201?pwd=VFR1NTZtTkl1MVMrOTBGbVpqaURaZz09)\n",
      "\n",
      "\n",
      "** WHAT WE'RE GOING TO REVEAL\n",
      "------------------------------------------------------------\n",
      "* How to build maximum authority within your niche through monthly webinar funnels, publishing your own niche books, and building testimonial pipelines.\n",
      "* The automation blueprint to create systems that fully maximize conversion rates on all of your cold & warm advertising efforts.\n",
      "* The formula on retaining over 90% of agency clients through world class onboarding, engineering quick win campaigns, and effective reporting.\n",
      "\n",
      "\n",
      "** Want to join the SEOTHEORY course?\n",
      "------------------------------------------------------------\n",
      "APPLY NOW (https://seotheory.com/)\n",
      "\n",
      "\n",
      "**\n",
      "Interested in joining the SEOTHEORY Community?\n",
      "------------------------------------------------------------\n",
      "JOIN OUR FACEBOOK GROUP (https://www.facebook.com/groups/seotheory)\n",
      "\n",
      "============================================================\n",
      "Copyright © 2023 LinkGraph, All rights reserved.\n",
      " You are receiving this email because you opted in at our website linkgraph.com\n",
      "\n",
      "Our mailing address is:\n",
      "LinkGraph\n",
      "10845 Griffith Park Rd\n",
      "Las Vegas, NV 89148\n",
      "USA\n",
      "Want to change how you receive these emails?\n",
      "You can ** update your preferences (https://linkgraph.us8.list-manage.com/profile?u=18e9a69fdbc75bd4bdf5ac69d&id=46c519583e&e=50738b472e&c=595544bedf)\n",
      "or ** unsubscribe from this list (https://linkgraph.us8.list-manage.com/unsubscribe?u=18e9a69fdbc75bd4bdf5ac69d&id=46c519583e&e=50738b472e&c=595544bedf)\n",
      ".\n"
     ]
    }
   ],
   "source": [
    "body = body.decode('utf-8')\n",
    "\n",
    "print(f\"보낸사람:{fr}\")\n",
    "print(f\"제목:{subject}\")\n",
    "print(f\"내용:{body}\")\n"
   ],
   "metadata": {
    "collapsed": false,
    "ExecuteTime": {
     "end_time": "2024-02-18T11:57:57.616769500Z",
     "start_time": "2024-02-18T11:57:57.608237300Z"
    }
   },
   "id": "9114e9b1e7d4a3cb",
   "execution_count": 81
  },
  {
   "cell_type": "code",
   "outputs": [],
   "source": [],
   "metadata": {
    "collapsed": false,
    "ExecuteTime": {
     "start_time": "2024-02-18T11:56:52.091446700Z"
    }
   },
   "id": "6e2c51a0533a6fe3"
  }
 ],
 "metadata": {
  "kernelspec": {
   "display_name": "Python 3",
   "language": "python",
   "name": "python3"
  },
  "language_info": {
   "codemirror_mode": {
    "name": "ipython",
    "version": 2
   },
   "file_extension": ".py",
   "mimetype": "text/x-python",
   "name": "python",
   "nbconvert_exporter": "python",
   "pygments_lexer": "ipython2",
   "version": "2.7.6"
  }
 },
 "nbformat": 4,
 "nbformat_minor": 5
}
