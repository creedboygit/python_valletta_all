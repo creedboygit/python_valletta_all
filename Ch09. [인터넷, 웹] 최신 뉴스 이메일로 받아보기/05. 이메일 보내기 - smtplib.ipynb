{
 "cells": [
  {
   "cell_type": "markdown",
   "source": [
    "# smtplib\n",
    "- smtplib은 이메일을 보낼 때 사용하는 모듈\n",
    "- 여러 사람에게 메일을 보내거나 첨부파일을 첨부할 수 있음"
   ],
   "metadata": {
    "collapsed": false
   },
   "id": "993286332f6211b5"
  },
  {
   "cell_type": "markdown",
   "source": [
    "# 이메일 보내기 실습\n",
    "- smtp 메일 서버 주소 : smtp.gmail.com (gmail 이메일의 smtp 서버 주소)\n",
    "- 보내는 메일 계정 : xxx@xxx.com (본인의 메일 계정 사용)\n",
    "- 보내는 메일 계정의 비밀번호 : xxxx (본인의 비밀번호 사용)\n",
    "- 받는 사람의 메일 계정 : xxx@xxx.com (발송한 메일을 확인할 수 있는 메일 계정)\n",
    "- 메일 제목 : 파일 첨부 메일 송신 테스트\n",
    "- 메일 내용 : 첨부된 파일 2개를 확인해 주세요\n",
    "- 보내는 파일 2개 (임의로 만든 pdf와 jpg 파일)\n",
    "    - test1.pdf\n",
    "    - test2.jpg"
   ],
   "metadata": {
    "collapsed": false
   },
   "id": "6484d94f41a872be"
  },
  {
   "cell_type": "code",
   "outputs": [],
   "source": [
    "# 발송할 메시지는 email 모듈을 사용해서 작성\n",
    "import smtplib"
   ],
   "metadata": {
    "collapsed": false,
    "ExecuteTime": {
     "end_time": "2024-02-19T07:56:32.559914Z",
     "start_time": "2024-02-19T07:56:32.550464Z"
    }
   },
   "id": "2387ab5c9fe4868f",
   "execution_count": 1
  },
  {
   "cell_type": "markdown",
   "source": [
    "# 파일 첨부용 멀티파트 객체"
   ],
   "metadata": {
    "collapsed": false
   },
   "id": "99642e1c1d464ede"
  },
  {
   "cell_type": "code",
   "outputs": [],
   "source": [
    "# 파일 첨부용 멀티파트 객체\n",
    "from email.mime.multipart import MIMEMultipart\n",
    "\n",
    "msg = MIMEMultipart()"
   ],
   "metadata": {
    "collapsed": false,
    "ExecuteTime": {
     "end_time": "2024-02-19T07:56:32.576443Z",
     "start_time": "2024-02-19T07:56:32.558774Z"
    }
   },
   "id": "f09049ee6f8e0b19",
   "execution_count": 2
  },
  {
   "cell_type": "markdown",
   "source": [
    "# 이메일 송수신자 설정"
   ],
   "metadata": {
    "collapsed": false
   },
   "id": "7adb472d55a806b6"
  },
  {
   "cell_type": "code",
   "outputs": [],
   "source": [
    "# 이메일 송수신자 설정\n",
    "msg['From'] = 'polozhzh@gmail.com'\n",
    "msg['To'] = 'polozhzh@gmail.com'"
   ],
   "metadata": {
    "collapsed": false,
    "ExecuteTime": {
     "end_time": "2024-02-19T07:56:32.600774Z",
     "start_time": "2024-02-19T07:56:32.572696Z"
    }
   },
   "id": "6034e07363beb947",
   "execution_count": 3
  },
  {
   "cell_type": "markdown",
   "source": [
    "# 날짜 설정"
   ],
   "metadata": {
    "collapsed": false
   },
   "id": "aa23fb7705635455"
  },
  {
   "cell_type": "code",
   "outputs": [
    {
     "data": {
      "text/plain": "'Mon, 19 Feb 2024 16:56:32 +0900'"
     },
     "execution_count": 4,
     "metadata": {},
     "output_type": "execute_result"
    }
   ],
   "source": [
    "# 날짜 설정\n",
    "from email.utils import formatdate\n",
    "\n",
    "msg['Date'] = formatdate(localtime=True)  # 현재 지역에 맞는 날짜\n",
    "msg['Date']"
   ],
   "metadata": {
    "collapsed": false,
    "ExecuteTime": {
     "end_time": "2024-02-19T07:56:32.619823Z",
     "start_time": "2024-02-19T07:56:32.580880Z"
    }
   },
   "id": "66534c18273d3fc",
   "execution_count": 4
  },
  {
   "cell_type": "markdown",
   "source": [
    "# 이메일 제목/본문 작성"
   ],
   "metadata": {
    "collapsed": false
   },
   "id": "c56fa5671d05d1dc"
  },
  {
   "cell_type": "code",
   "outputs": [],
   "source": [
    "# 이메일 제목/본문 작성\n",
    "from email.header import Header\n",
    "from email.mime.text import MIMEText\n",
    "\n",
    "msg['Subject'] = Header(s='파일첨부 메일 송신 테스트', charset='utf-8')\n",
    "body = MIMEText('첨부된 파일 2개를 확인해 주세요.', _charset='utf-8')"
   ],
   "metadata": {
    "collapsed": false,
    "ExecuteTime": {
     "end_time": "2024-02-19T07:56:32.620835Z",
     "start_time": "2024-02-19T07:56:32.587573Z"
    }
   },
   "id": "6d59300e64c9f54d",
   "execution_count": 5
  },
  {
   "cell_type": "code",
   "outputs": [
    {
     "name": "stdout",
     "output_type": "stream",
     "text": [
      "Content-Type: text/plain; charset=\"utf-8\"\n",
      "MIME-Version: 1.0\n",
      "Content-Transfer-Encoding: base64\n",
      "\n",
      "7LKo67aA65CcIO2MjOydvCAy6rCc66W8IO2ZleyduO2VtCDso7zshLjsmpQu\n"
     ]
    }
   ],
   "source": [
    "print(body)  # 내용 확인 - base64 인코딩"
   ],
   "metadata": {
    "collapsed": false,
    "ExecuteTime": {
     "end_time": "2024-02-19T07:56:32.622386Z",
     "start_time": "2024-02-19T07:56:32.593827Z"
    }
   },
   "id": "704c403326015524",
   "execution_count": 6
  },
  {
   "cell_type": "code",
   "outputs": [],
   "source": [
    "# 메일 본문 추가\n",
    "msg.attach(body)"
   ],
   "metadata": {
    "collapsed": false,
    "ExecuteTime": {
     "end_time": "2024-02-19T07:56:32.667773Z",
     "start_time": "2024-02-19T07:56:32.607557Z"
    }
   },
   "id": "1c8ca011b4638d6f",
   "execution_count": 7
  },
  {
   "cell_type": "markdown",
   "source": [],
   "metadata": {
    "collapsed": false
   },
   "id": "82f3633cfd5ef44d"
  },
  {
   "cell_type": "markdown",
   "source": [
    "# 파일 첨부하기"
   ],
   "metadata": {
    "collapsed": false
   },
   "id": "216ee87a6087bf8a"
  },
  {
   "cell_type": "code",
   "outputs": [],
   "source": [
    "files = list()\n",
    "files.append('test1.pdf')\n",
    "files.append('test2.jpg')"
   ],
   "metadata": {
    "collapsed": false,
    "ExecuteTime": {
     "end_time": "2024-02-19T07:56:32.691206Z",
     "start_time": "2024-02-19T07:56:32.671029Z"
    }
   },
   "id": "fa09de22934c5238",
   "execution_count": 8
  },
  {
   "cell_type": "code",
   "outputs": [],
   "source": [
    "import os\n",
    "from email.mime.base import MIMEBase\n",
    "from email.encoders import encode_base64\n",
    "\n",
    "for f in files:\n",
    "    part = MIMEBase('application', 'octet-stream')\n",
    "    part.set_payload(open(f, 'rb').read())\n",
    "    encode_base64(part)  # 바이너리 파일 base64 인코딩\n",
    "    part.add_header('Content-Disposition', 'attachment; filename=\"%s\"' % os.path.basename(f))\n",
    "    msg.attach(part)  # 파일 첨부"
   ],
   "metadata": {
    "collapsed": false,
    "ExecuteTime": {
     "end_time": "2024-02-19T07:56:32.716986Z",
     "start_time": "2024-02-19T07:56:32.688338Z"
    }
   },
   "id": "76a19bb4a96e7e97",
   "execution_count": 9
  },
  {
   "cell_type": "markdown",
   "source": [
    "# 메일 발송하기"
   ],
   "metadata": {
    "collapsed": false
   },
   "id": "ef43b64cc710fe32"
  },
  {
   "cell_type": "code",
   "outputs": [
    {
     "data": {
      "text/plain": "(221,\n b'2.0.0 closing connection ja12-20020a170902efcc00b001d9d4375149sm3821073plb.215 - gsmtp')"
     },
     "execution_count": 10,
     "metadata": {},
     "output_type": "execute_result"
    }
   ],
   "source": [
    "import getpass\n",
    "\n",
    "mailServer = smtplib.SMTP_SSL('smtp.gmail.com')  # smtp 서버를 사용한 메시지 발송\n",
    "mailServer.login('polozhzh@gmail.com', getpass.getpass())  # 본인 계정과 비밀번호 사용 (Gmail : 앱 비밀번호)\n",
    "mailServer.send_message(msg)\n",
    "mailServer.quit()"
   ],
   "metadata": {
    "collapsed": false,
    "ExecuteTime": {
     "end_time": "2024-02-19T07:56:44.778420Z",
     "start_time": "2024-02-19T07:56:32.698832Z"
    }
   },
   "id": "14474b5fd5a0e98f",
   "execution_count": 10
  },
  {
   "cell_type": "code",
   "outputs": [],
   "source": [],
   "metadata": {
    "collapsed": false,
    "ExecuteTime": {
     "end_time": "2024-02-19T07:56:44.779639Z",
     "start_time": "2024-02-19T07:56:44.775323Z"
    }
   },
   "id": "406a0c6d79522a0d",
   "execution_count": 10
  }
 ],
 "metadata": {
  "kernelspec": {
   "display_name": "Python 3",
   "language": "python",
   "name": "python3"
  },
  "language_info": {
   "codemirror_mode": {
    "name": "ipython",
    "version": 2
   },
   "file_extension": ".py",
   "mimetype": "text/x-python",
   "name": "python",
   "nbconvert_exporter": "python",
   "pygments_lexer": "ipython2",
   "version": "2.7.6"
  }
 },
 "nbformat": 4,
 "nbformat_minor": 5
}
