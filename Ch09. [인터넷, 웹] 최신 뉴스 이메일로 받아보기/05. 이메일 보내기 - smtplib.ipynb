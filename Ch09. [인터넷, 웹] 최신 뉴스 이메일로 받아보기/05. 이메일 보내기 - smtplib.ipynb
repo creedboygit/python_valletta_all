{
 "cells": [
  {
   "cell_type": "markdown",
   "source": [
    "# smtplib\n",
    "- smtplib은 이메일을 보낼 때 사용하는 모듈\n",
    "- 여러 사람에게 메일을 보내거나 첨부파일을 첨부할 수 있음"
   ],
   "metadata": {
    "collapsed": false
   },
   "id": "993286332f6211b5"
  },
  {
   "cell_type": "markdown",
   "source": [
    "# 이메일 보내기 실습\n",
    "- smtp 메일 서버 주소 : smtp.gmail.com (gmail 이메일의 smtp 서버 주소)\n",
    "- 보내는 메일 계정 : xxx@xxx.com (본인의 메일 계정 사용)\n",
    "- 보내는 메일 계정의 비밀번호 : xxxx (본인의 비밀번호 사용)\n",
    "- 받는 사람의 메일 계정 : xxx@xxx.com (발송한 메일을 확인할 수 있는 메일 계정)\n",
    "- 메일 제목 : 파일 첨부 메일 송신 테스트\n",
    "- 메일 내용 : 첨부된 파일 2개를 확인해 주세요\n",
    "- 보내는 파일 2개 (임의로 만든 pdf와 jpg 파일)\n",
    "    - test1.pdf\n",
    "    - test2.jpg"
   ],
   "metadata": {
    "collapsed": false
   },
   "id": "6484d94f41a872be"
  },
  {
   "cell_type": "code",
   "outputs": [],
   "source": [],
   "metadata": {
    "collapsed": false
   },
   "id": "2387ab5c9fe4868f"
  }
 ],
 "metadata": {
  "kernelspec": {
   "display_name": "Python 3",
   "language": "python",
   "name": "python3"
  },
  "language_info": {
   "codemirror_mode": {
    "name": "ipython",
    "version": 2
   },
   "file_extension": ".py",
   "mimetype": "text/x-python",
   "name": "python",
   "nbconvert_exporter": "python",
   "pygments_lexer": "ipython2",
   "version": "2.7.6"
  }
 },
 "nbformat": 4,
 "nbformat_minor": 5
}
