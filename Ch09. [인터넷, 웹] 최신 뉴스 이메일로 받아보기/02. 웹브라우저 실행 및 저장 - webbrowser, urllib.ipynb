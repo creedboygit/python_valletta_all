{
 "cells": [
  {
   "cell_type": "markdown",
   "source": [
    "# webbrowser\n",
    "- webbrowser는 파이썬 프로그램에서 시스템 브라우저를 호출할 때 사용하는 모듈"
   ],
   "metadata": {
    "collapsed": false
   },
   "id": "c2e16f2e2e8a43cf"
  },
  {
   "cell_type": "code",
   "outputs": [],
   "source": [
    "import webbrowser"
   ],
   "metadata": {
    "collapsed": false,
    "ExecuteTime": {
     "end_time": "2024-02-19T04:29:08.821711Z",
     "start_time": "2024-02-19T04:29:08.811125Z"
    }
   },
   "id": "d4134eaa5e2f21f",
   "execution_count": 1
  },
  {
   "cell_type": "code",
   "outputs": [],
   "source": [
    "url = \"www.google.com\""
   ],
   "metadata": {
    "collapsed": false,
    "ExecuteTime": {
     "end_time": "2024-02-19T04:29:09.649376Z",
     "start_time": "2024-02-19T04:29:09.633393Z"
    }
   },
   "id": "ff23c921e0cc1b82",
   "execution_count": 2
  },
  {
   "cell_type": "code",
   "outputs": [
    {
     "data": {
      "text/plain": "True"
     },
     "execution_count": 3,
     "metadata": {},
     "output_type": "execute_result"
    }
   ],
   "source": [
    "# 브라우저 실행\n",
    "webbrowser.open(url)"
   ],
   "metadata": {
    "collapsed": false,
    "ExecuteTime": {
     "end_time": "2024-02-19T04:29:10.683728Z",
     "start_time": "2024-02-19T04:29:10.447426Z"
    }
   },
   "id": "5681ee4e00bdb393",
   "execution_count": 3
  },
  {
   "cell_type": "markdown",
   "source": [
    "# 어떤 브라우저가 호출되는지 확인"
   ],
   "metadata": {
    "collapsed": false
   },
   "id": "421f46fc11ac12b7"
  },
  {
   "cell_type": "code",
   "outputs": [
    {
     "data": {
      "text/plain": "<webbrowser.MacOSXOSAScript at 0x10dd0ac90>"
     },
     "execution_count": 4,
     "metadata": {},
     "output_type": "execute_result"
    }
   ],
   "source": [
    "webbrowser.get()"
   ],
   "metadata": {
    "collapsed": false,
    "ExecuteTime": {
     "end_time": "2024-02-19T04:29:12.936688Z",
     "start_time": "2024-02-19T04:29:12.928157Z"
    }
   },
   "id": "910626f0ed630b6d",
   "execution_count": 4
  },
  {
   "cell_type": "markdown",
   "source": [
    "# 호출 브라우저 변경"
   ],
   "metadata": {
    "collapsed": false
   },
   "id": "6c2174cbe732666f"
  },
  {
   "cell_type": "code",
   "outputs": [],
   "source": [
    "# 브라우저 실행 파일 경로\n",
    "chrome_path = \"C:/Program Files/Google/Chrome/Application/chrome.exe %s\"\n",
    "whale_path = \"C:/Program Files/Naver/Naver Whale/Application/whale.exe %s\"\n",
    "# whale_path = \"C:\\\\Program Files\\\\Naver\\\\Naver Whale\\\\Application\\\\whale.exe %s\""
   ],
   "metadata": {
    "collapsed": false,
    "ExecuteTime": {
     "end_time": "2024-02-19T04:29:15.216990Z",
     "start_time": "2024-02-19T04:29:15.212783Z"
    }
   },
   "id": "f162c16ec5ce0d08",
   "execution_count": 5
  },
  {
   "cell_type": "code",
   "outputs": [
    {
     "data": {
      "text/plain": "False"
     },
     "execution_count": 6,
     "metadata": {},
     "output_type": "execute_result"
    }
   ],
   "source": [
    "# 브라우저 실행\n",
    "# webbrowser.get(chrome_path).open(url)\n",
    "webbrowser.get(whale_path).open(url)"
   ],
   "metadata": {
    "collapsed": false,
    "ExecuteTime": {
     "end_time": "2024-02-19T04:29:16.519254Z",
     "start_time": "2024-02-19T04:29:16.503158Z"
    }
   },
   "id": "754fc7873a556600",
   "execution_count": 6
  },
  {
   "cell_type": "markdown",
   "source": [
    "# urllib\n",
    "- urllib은 url을 읽고 분석할 때 사용하는 모듈\n",
    "- 특정 웹 페이지를 .html 확장자로 저장해서 오프라인에서도 읽을 수 있게 활용 가능"
   ],
   "metadata": {
    "collapsed": false
   },
   "id": "ecb2940df767ba43"
  },
  {
   "cell_type": "markdown",
   "source": [
    "# 웹페이지 저장 예제\n",
    "위키독스 특정 페이지를 오프라인으로도 읽을 수 있도록 페이지 번호를 입력받아\n",
    "wikidocs_페이지번호.html 파일로 저장하기"
   ],
   "metadata": {
    "collapsed": false
   },
   "id": "4273302904095a34"
  },
  {
   "cell_type": "code",
   "outputs": [],
   "source": [
    "import urllib\n",
    "import urllib.request"
   ],
   "metadata": {
    "collapsed": false,
    "ExecuteTime": {
     "end_time": "2024-02-18T10:57:42.923754500Z",
     "start_time": "2024-02-18T10:57:42.912242500Z"
    }
   },
   "id": "894608ab4cbcc7d7",
   "execution_count": 24
  },
  {
   "cell_type": "code",
   "outputs": [
    {
     "data": {
      "text/plain": "True"
     },
     "execution_count": 25,
     "metadata": {},
     "output_type": "execute_result"
    }
   ],
   "source": [
    "# 위키독스 페이지\n",
    "webbrowser.open('https://wikidocs.net/1')"
   ],
   "metadata": {
    "collapsed": false,
    "ExecuteTime": {
     "end_time": "2024-02-18T10:57:54.362005400Z",
     "start_time": "2024-02-18T10:57:54.328721100Z"
    }
   },
   "id": "9a66ce36ab140687",
   "execution_count": 25
  },
  {
   "cell_type": "code",
   "outputs": [
    {
     "data": {
      "text/plain": "<http.client.HTTPResponse at 0x22e934b39a0>"
     },
     "execution_count": 26,
     "metadata": {},
     "output_type": "execute_result"
    }
   ],
   "source": [
    "# 페이지 리소스 객체\n",
    "urllib.request.urlopen('https://wikidocs.net/1')"
   ],
   "metadata": {
    "collapsed": false,
    "ExecuteTime": {
     "end_time": "2024-02-18T10:58:21.590161100Z",
     "start_time": "2024-02-18T10:58:21.321100700Z"
    }
   },
   "id": "425a0f2388170dd5",
   "execution_count": 26
  },
  {
   "cell_type": "code",
   "outputs": [],
   "source": [
    "# 위키독스의 페이지 번호를 입력받아 해당 페이지의 리소스 내용을 파일로 저장하는 함수\n",
    "def get_wikidocs(page):\n",
    "    print(\"wikidocs page:{}\".format(page))  # 페이지 호출 시 출력\n",
    "    resource = 'https://wikidocs.net/{}'.format(page)\n",
    "\n",
    "    with urllib.request.urlopen(resource) as s:  # 페이지 리소스 객체 생성\n",
    "        # with open('wikidocs_%s.html' % page, 'wb') as f:\n",
    "        with open('wikidocs_{}.html'.format(page), 'wb') as f:\n",
    "            f.write(s.read())  # 리소스 내용을 읽어서 html 파일로 저장"
   ],
   "metadata": {
    "collapsed": false,
    "ExecuteTime": {
     "end_time": "2024-02-18T11:02:59.138848900Z",
     "start_time": "2024-02-18T11:02:59.135338200Z"
    }
   },
   "id": "6c9595e19bff4000",
   "execution_count": 31
  },
  {
   "cell_type": "code",
   "outputs": [
    {
     "name": "stdout",
     "output_type": "stream",
     "text": [
      "wikidocs page:1\n"
     ]
    }
   ],
   "source": [
    "get_wikidocs(1)"
   ],
   "metadata": {
    "collapsed": false,
    "ExecuteTime": {
     "end_time": "2024-02-18T11:02:59.678758700Z",
     "start_time": "2024-02-18T11:02:59.434858300Z"
    }
   },
   "id": "88977d092b1e4ffa",
   "execution_count": 32
  },
  {
   "cell_type": "code",
   "outputs": [],
   "source": [],
   "metadata": {
    "collapsed": false
   },
   "id": "b5950e48baf62f42"
  }
 ],
 "metadata": {
  "kernelspec": {
   "display_name": "Python 3",
   "language": "python",
   "name": "python3"
  },
  "language_info": {
   "codemirror_mode": {
    "name": "ipython",
    "version": 2
   },
   "file_extension": ".py",
   "mimetype": "text/x-python",
   "name": "python",
   "nbconvert_exporter": "python",
   "pygments_lexer": "ipython2",
   "version": "2.7.6"
  }
 },
 "nbformat": 4,
 "nbformat_minor": 5
}
