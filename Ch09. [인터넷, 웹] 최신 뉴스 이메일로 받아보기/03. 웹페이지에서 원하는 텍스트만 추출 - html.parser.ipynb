{
 "cells": [
  {
   "cell_type": "markdown",
   "source": [
    "# html.parser\n",
    "html.parser는 html 문서를 파싱할 때 사용하는 모듈"
   ],
   "metadata": {
    "collapsed": false
   },
   "id": "9a72b12e4370996c"
  },
  {
   "cell_type": "markdown",
   "source": [
    "# 예제 1\n",
    "html 파일에서 내용을 굵은 글씨로 표시하는 태그와 태그 사이의 문자열을 모두 찾아서 출력하는 프로그램"
   ],
   "metadata": {
    "collapsed": false
   },
   "id": "18f4c8cd8edaa2ca"
  },
  {
   "cell_type": "code",
   "outputs": [],
   "source": [
    "# html_sample_1.html"
   ],
   "metadata": {
    "collapsed": false,
    "ExecuteTime": {
     "end_time": "2024-02-18T11:07:48.498163500Z",
     "start_time": "2024-02-18T11:07:48.494969100Z"
    }
   },
   "id": "c22ade514ae90278",
   "execution_count": 1
  },
  {
   "cell_type": "code",
   "outputs": [],
   "source": [
    "from html.parser import HTMLParser"
   ],
   "metadata": {
    "collapsed": false,
    "ExecuteTime": {
     "end_time": "2024-02-18T11:07:56.515895Z",
     "start_time": "2024-02-18T11:07:56.508069900Z"
    }
   },
   "id": "c88e924aa58bb270",
   "execution_count": 2
  },
  {
   "cell_type": "code",
   "outputs": [],
   "source": [
    "class MyHTMLParser(HTMLParser):  # HTMLParser 클래스 상속\n",
    "    def __init__(self):\n",
    "        HTMLParser.__init__(self)\n",
    "        self.is_strong = False\n",
    "\n",
    "    def handle_starttag(self, tag, attrs):  # 태그가 열릴 때 호출\n",
    "        if tag == 'strong':  # <strong> 태그 시작\n",
    "            self.is_strong = True\n",
    "\n",
    "    def handle_endtag(self, tag):  # 태그가 닫힐 때 호출\n",
    "        if tag == 'strong':  # </strong> 태그 닫힘\n",
    "            self.is_strong = False\n",
    "\n",
    "    def handle_data(self, data):  # 해당 태그 사이의 문자열을 data 변수로 전달\n",
    "        if self.is_strong:  # <strong> ~ </strong> 구간인 경우\n",
    "            print(data)  # 데이터를 출력        "
   ],
   "metadata": {
    "collapsed": false,
    "ExecuteTime": {
     "end_time": "2024-02-18T11:10:26.975488900Z",
     "start_time": "2024-02-18T11:10:26.950716200Z"
    }
   },
   "id": "bc51e906c9e3a00b",
   "execution_count": 3
  },
  {
   "cell_type": "code",
   "outputs": [
    {
     "name": "stdout",
     "output_type": "stream",
     "text": [
      "practicality\n",
      "never\n",
      "Now\n",
      "right\n"
     ]
    }
   ],
   "source": [
    "with open('html_sample_1.html') as f:\n",
    "    parser = MyHTMLParser()\n",
    "    parser.feed(f.read())"
   ],
   "metadata": {
    "collapsed": false,
    "ExecuteTime": {
     "end_time": "2024-02-18T11:10:51.826266900Z",
     "start_time": "2024-02-18T11:10:51.807739400Z"
    }
   },
   "id": "2c3958076d6e7a95",
   "execution_count": 4
  },
  {
   "cell_type": "markdown",
   "source": [
    "# 예제 2\n",
    "html 파일에서 <a> 태그와 </a> 태그 사이의 하이퍼링크를 모두 찾아서 출력하는 프로그램"
   ],
   "metadata": {
    "collapsed": false
   },
   "id": "7a152813285981f3"
  },
  {
   "cell_type": "code",
   "outputs": [],
   "source": [
    "# html_sample_2.html"
   ],
   "metadata": {
    "collapsed": false,
    "ExecuteTime": {
     "end_time": "2024-02-18T11:13:10.741659700Z",
     "start_time": "2024-02-18T11:13:10.730649400Z"
    }
   },
   "id": "cd066e158654609b",
   "execution_count": 5
  },
  {
   "cell_type": "code",
   "outputs": [],
   "source": [
    "from html.parser import HTMLParser"
   ],
   "metadata": {
    "collapsed": false,
    "ExecuteTime": {
     "end_time": "2024-02-18T11:13:51.296628600Z",
     "start_time": "2024-02-18T11:13:51.285916500Z"
    }
   },
   "id": "d5ba8541f73a3ed8",
   "execution_count": 6
  },
  {
   "cell_type": "code",
   "outputs": [],
   "source": [
    "class MyHTMLParser(HTMLParser):  # HTMLParser 클래스 상속\n",
    "    def __init__(self):\n",
    "        HTMLParser.__init__(self)\n",
    "        self.links = []\n",
    "\n",
    "    def handle_starttag(self, tag, attrs):  # 태그가 열릴 때 호출\n",
    "        if tag == 'a':  # <a> 태그 시작\n",
    "            if len(attrs) == 0:  # <a> 태그 속성이 없을 경우\n",
    "                pass\n",
    "            else:  # <a> 태그 속성이 있을 경우\n",
    "                for (variable, value) in attrs:\n",
    "                    if variable == \"href\":  # 속성 변수가 하이퍼링크일 경우\n",
    "                        self.links.append(value)\n",
    "                        print(value)"
   ],
   "metadata": {
    "collapsed": false,
    "ExecuteTime": {
     "end_time": "2024-02-18T11:19:04.679915400Z",
     "start_time": "2024-02-18T11:19:04.656465700Z"
    }
   },
   "id": "8d2fa264a416d1ec",
   "execution_count": 7
  },
  {
   "cell_type": "code",
   "outputs": [
    {
     "name": "stdout",
     "output_type": "stream",
     "text": [
      "https://www.google.com\n",
      "https://www.youtube.com\n",
      "https://www.fastcampus.co.kr\n"
     ]
    }
   ],
   "source": [
    "with open('html_sample_2.html') as f:\n",
    "    parser = MyHTMLParser()\n",
    "    parser.feed(f.read())"
   ],
   "metadata": {
    "collapsed": false,
    "ExecuteTime": {
     "end_time": "2024-02-18T11:19:34.338232800Z",
     "start_time": "2024-02-18T11:19:34.321713200Z"
    }
   },
   "id": "1df6a4a19864f72c",
   "execution_count": 9
  },
  {
   "cell_type": "code",
   "outputs": [
    {
     "data": {
      "text/plain": "['https://www.google.com',\n 'https://www.youtube.com',\n 'https://www.fastcampus.co.kr']"
     },
     "execution_count": 10,
     "metadata": {},
     "output_type": "execute_result"
    }
   ],
   "source": [
    "parser.links"
   ],
   "metadata": {
    "collapsed": false,
    "ExecuteTime": {
     "end_time": "2024-02-18T11:19:39.103901300Z",
     "start_time": "2024-02-18T11:19:39.086486900Z"
    }
   },
   "id": "36fc2c9557c403e8",
   "execution_count": 10
  },
  {
   "cell_type": "code",
   "outputs": [],
   "source": [],
   "metadata": {
    "collapsed": false
   },
   "id": "49c1803776c1628e"
  }
 ],
 "metadata": {
  "kernelspec": {
   "display_name": "Python 3",
   "language": "python",
   "name": "python3"
  },
  "language_info": {
   "codemirror_mode": {
    "name": "ipython",
    "version": 2
   },
   "file_extension": ".py",
   "mimetype": "text/x-python",
   "name": "python",
   "nbconvert_exporter": "python",
   "pygments_lexer": "ipython2",
   "version": "2.7.6"
  }
 },
 "nbformat": 4,
 "nbformat_minor": 5
}
