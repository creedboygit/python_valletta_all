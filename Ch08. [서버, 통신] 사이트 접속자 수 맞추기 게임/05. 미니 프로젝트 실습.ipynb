{
 "cells": [
  {
   "cell_type": "markdown",
   "source": [
    "# 게임 규칙\n",
    "1. 서버에서 플레이어(클라이언트)의 접속을 기다린다.\n",
    "2. 플레이어가 서버에 접속하면 서버는 접속자 수(정답)을 업데이트 한다.\n",
    "3. 접속한 플레이어는 예상되는 현재 사이트 접속자 수를 입력해서 서버로 보낸다.\n",
    "4. 서버는 플레이어가 입력한 숫자가 정답보다 높을 때는 \"너무 높아요\"라고, 낮을 때는 \"너무 낮아요\"라고 응답한다.\n",
    "5. 플레이어가 0을 입력하면 \"종료\"라고 응답하고 사이트 접속자 수(정답)을 업데이트 한다.\n",
    "6. 클라이언트가 정답을 입력하면 \"정답\"이라고 응답하고 서버를 종료한다."
   ],
   "metadata": {
    "collapsed": false
   },
   "id": "c6666872c5c873f"
  },
  {
   "cell_type": "markdown",
   "source": [
    "# 게임 서버 만들기"
   ],
   "metadata": {
    "collapsed": false
   },
   "id": "8beafc3740e68fa4"
  },
  {
   "cell_type": "code",
   "outputs": [],
   "source": [
    "#multi_play_game_server.py"
   ],
   "metadata": {
    "collapsed": false
   },
   "id": "8b30ce1dcd803c71"
  }
 ],
 "metadata": {
  "kernelspec": {
   "display_name": "Python 3",
   "language": "python",
   "name": "python3"
  },
  "language_info": {
   "codemirror_mode": {
    "name": "ipython",
    "version": 2
   },
   "file_extension": ".py",
   "mimetype": "text/x-python",
   "name": "python",
   "nbconvert_exporter": "python",
   "pygments_lexer": "ipython2",
   "version": "2.7.6"
  }
 },
 "nbformat": 4,
 "nbformat_minor": 5
}
