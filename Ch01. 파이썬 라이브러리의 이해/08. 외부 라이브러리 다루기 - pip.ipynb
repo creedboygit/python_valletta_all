{
 "cells": [
  {
   "cell_type": "code",
   "outputs": [],
   "source": [
    "# pip list --format=freeze > requirements.txt\n",
    "# pip list freeze > requirements.txt"
   ],
   "metadata": {
    "collapsed": false
   },
   "id": "55b1fb8c510a9885"
  }
 ],
 "metadata": {
  "kernelspec": {
   "name": "valletta",
   "language": "python",
   "display_name": "valletta"
  },
  "language_info": {
   "codemirror_mode": {
    "name": "ipython",
    "version": 2
   },
   "file_extension": ".py",
   "mimetype": "text/x-python",
   "name": "python",
   "nbconvert_exporter": "python",
   "pygments_lexer": "ipython2",
   "version": "2.7.6"
  }
 },
 "nbformat": 4,
 "nbformat_minor": 5
}
