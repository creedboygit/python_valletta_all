{
 "cells": [
  {
   "cell_type": "code",
   "execution_count": 32,
   "id": "initial_id",
   "metadata": {
    "collapsed": true,
    "ExecuteTime": {
     "end_time": "2024-01-28T12:45:55.764726400Z",
     "start_time": "2024-01-28T12:45:55.761212300Z"
    }
   },
   "outputs": [],
   "source": [
    "def mul(m):\n",
    "    def wrapper(n):\n",
    "        return m * n\n",
    "\n",
    "    return wrapper"
   ]
  },
  {
   "cell_type": "code",
   "outputs": [
    {
     "name": "stdout",
     "output_type": "stream",
     "text": [
      "30\n",
      "50\n"
     ]
    }
   ],
   "source": [
    "if __name__ == \"__main__\":\n",
    "    mul3 = mul(3)\n",
    "    mul5 = mul(5)\n",
    "\n",
    "    print(mul3(10))\n",
    "    print(mul5(10))\n"
   ],
   "metadata": {
    "collapsed": false,
    "ExecuteTime": {
     "end_time": "2024-01-28T12:45:56.459731Z",
     "start_time": "2024-01-28T12:45:56.455019600Z"
    }
   },
   "id": "6028e1f866b060f4",
   "execution_count": 33
  },
  {
   "cell_type": "code",
   "outputs": [],
   "source": [
    "import time\n",
    "\n",
    "\n",
    "def func1(a, b):\n",
    "    start = time.time()\n",
    "    print(\"함수가 실행됩니다.\")\n",
    "\n",
    "    val = a + b\n",
    "\n",
    "    end = time.time()\n",
    "    print(\"함수 수행시간 : %f 초\" % (end - start))\n",
    "\n",
    "    return val"
   ],
   "metadata": {
    "collapsed": false,
    "ExecuteTime": {
     "end_time": "2024-01-28T12:45:56.844949100Z",
     "start_time": "2024-01-28T12:45:56.841437800Z"
    }
   },
   "id": "c28353a91ac5015f",
   "execution_count": 34
  },
  {
   "cell_type": "code",
   "outputs": [
    {
     "name": "stdout",
     "output_type": "stream",
     "text": [
      "함수가 실행됩니다.\n",
      "함수 수행시간 : 0.000999 초\n",
      "3\n"
     ]
    }
   ],
   "source": [
    "if __name__ == \"__main__\":\n",
    "    result = func1(1, 2)\n",
    "    print(result)"
   ],
   "metadata": {
    "collapsed": false,
    "ExecuteTime": {
     "end_time": "2024-01-28T12:46:07.253256500Z",
     "start_time": "2024-01-28T12:46:07.242146Z"
    }
   },
   "id": "12cd8cd1eddfcf1d",
   "execution_count": 36
  },
  {
   "cell_type": "code",
   "outputs": [],
   "source": [
    "def func2(a, b):\n",
    "    start = time.time()\n",
    "    print(\"함수가 실행됩니다.\")\n",
    "\n",
    "    val = a * b\n",
    "\n",
    "    end = time.time()\n",
    "    print(\"함수 수행시간 : %f 초\" % (end - start))\n",
    "\n",
    "    return val"
   ],
   "metadata": {
    "collapsed": false,
    "ExecuteTime": {
     "end_time": "2024-01-28T12:46:44.855921600Z",
     "start_time": "2024-01-28T12:46:44.848320900Z"
    }
   },
   "id": "8a1d2ed34da8cd93",
   "execution_count": 37
  },
  {
   "cell_type": "code",
   "outputs": [
    {
     "name": "stdout",
     "output_type": "stream",
     "text": [
      "함수가 실행됩니다.\n",
      "함수 수행시간 : 0.000000 초\n",
      "3\n"
     ]
    }
   ],
   "source": [
    "if __name__ == \"__main__\":\n",
    "    result = func2(1, 2)\n",
    "    print(result)"
   ],
   "metadata": {
    "collapsed": false,
    "ExecuteTime": {
     "end_time": "2024-01-28T12:47:20.766111500Z",
     "start_time": "2024-01-28T12:47:20.761066200Z"
    }
   },
   "id": "4376e3d8632f278",
   "execution_count": 39
  },
  {
   "cell_type": "code",
   "outputs": [],
   "source": [
    "def func1(a, b):\n",
    "    val = a + b\n",
    "    return val\n",
    "\n",
    "\n",
    "def func2(a, b):\n",
    "    val = a + b\n",
    "    return val"
   ],
   "metadata": {
    "collapsed": false,
    "ExecuteTime": {
     "end_time": "2024-01-28T12:47:57.103499600Z",
     "start_time": "2024-01-28T12:47:57.091985700Z"
    }
   },
   "id": "326fed7aac38d2dc",
   "execution_count": 40
  },
  {
   "cell_type": "code",
   "outputs": [],
   "source": [
    "''' 실행시간 측정 데코레이터 '''\n",
    "\n",
    "\n",
    "def elapsed(func):  # 함수를 인풋으로 받는다.\n",
    "    def wrapper(a, b):\n",
    "        print(\"함수가 실행됩니다.\")\n",
    "\n",
    "        start = time.time()\n",
    "        result = func(a, b)  # 함수 실행\n",
    "        end = time.time()\n",
    "\n",
    "        print(\"함수 수행시간: %f 초\" % (end - start))  # 함수 수행시간\n",
    "        return result  # 함수 실행 결과 반환\n",
    "    return wrapper"
   ],
   "metadata": {
    "collapsed": false,
    "ExecuteTime": {
     "end_time": "2024-01-28T12:50:28.430245200Z",
     "start_time": "2024-01-28T12:50:28.425738800Z"
    }
   },
   "id": "af9b9f1e3f3bf85a",
   "execution_count": 41
  },
  {
   "cell_type": "code",
   "outputs": [
    {
     "name": "stdout",
     "output_type": "stream",
     "text": [
      "함수가 실행됩니다.\n",
      "함수 수행시간: 0.000000 초\n",
      "3\n"
     ]
    }
   ],
   "source": [
    "if __name__ == \"__main__\":\n",
    "    deco1 = elapsed(func1)\n",
    "    result = deco1(1, 2)\n",
    "    print(result)"
   ],
   "metadata": {
    "collapsed": false,
    "ExecuteTime": {
     "end_time": "2024-01-28T12:52:11.222447600Z",
     "start_time": "2024-01-28T12:52:11.202957200Z"
    }
   },
   "id": "249c713f7c8ce025",
   "execution_count": 44
  },
  {
   "cell_type": "code",
   "outputs": [
    {
     "name": "stdout",
     "output_type": "stream",
     "text": [
      "함수가 실행됩니다.\n",
      "함수 수행시간: 0.000000 초\n",
      "3\n"
     ]
    }
   ],
   "source": [
    "if __name__ == \"__main__\":\n",
    "    deco2 = elapsed(func2)\n",
    "    result = deco2(1, 2)\n",
    "    print(result)"
   ],
   "metadata": {
    "collapsed": false,
    "ExecuteTime": {
     "end_time": "2024-01-28T12:52:57.270471900Z",
     "start_time": "2024-01-28T12:52:57.265131800Z"
    }
   },
   "id": "509ca3d377759886",
   "execution_count": 47
  }
 ],
 "metadata": {
  "kernelspec": {
   "display_name": "Python 3",
   "language": "python",
   "name": "python3"
  },
  "language_info": {
   "codemirror_mode": {
    "name": "ipython",
    "version": 2
   },
   "file_extension": ".py",
   "mimetype": "text/x-python",
   "name": "python",
   "nbconvert_exporter": "python",
   "pygments_lexer": "ipython2",
   "version": "2.7.6"
  }
 },
 "nbformat": 4,
 "nbformat_minor": 5
}
