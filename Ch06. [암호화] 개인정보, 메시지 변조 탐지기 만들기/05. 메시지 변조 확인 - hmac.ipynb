{
 "cells": [
  {
   "cell_type": "markdown",
   "source": [
    "# hmac\n",
    "- hmac은 비밀 키와 해싱 기술을 이용하여 송수신자 간 메시지 변조를 확인할 수 있도록 하는 모듈\n",
    "- 송수신자 간 약속한 비밀키를 사용하여 해싱된 데이터 내용이 같은지 대조하는 원리\n",
    "- 만약 해커 등 제 3자가 메시지를 변조했을 경우, 비밀키로 해싱한 결과가 달라짐"
   ],
   "metadata": {
    "collapsed": false
   },
   "id": "e9a0b54a6df0c86d"
  },
  {
   "cell_type": "code",
   "outputs": [],
   "source": [
    "# 비밀 키 설정\n",
    "SECRET_KEY = \"creed\""
   ],
   "metadata": {
    "collapsed": false,
    "ExecuteTime": {
     "end_time": "2024-02-14T12:36:19.075695600Z",
     "start_time": "2024-02-14T12:36:19.070431500Z"
    }
   },
   "id": "1814c25f2f06632a",
   "execution_count": 1
  },
  {
   "cell_type": "markdown",
   "source": [
    "# [송신] 암호화(해싱) 파일 생성"
   ],
   "metadata": {
    "collapsed": false
   },
   "id": "aa0ae638ec57fd0b"
  },
  {
   "cell_type": "code",
   "outputs": [],
   "source": [
    "import hmac\n",
    "import hashlib"
   ],
   "metadata": {
    "collapsed": false,
    "ExecuteTime": {
     "end_time": "2024-02-14T12:02:55.582439800Z",
     "start_time": "2024-02-14T12:02:55.563928400Z"
    }
   },
   "id": "9769491c2afd48de",
   "execution_count": 2
  },
  {
   "cell_type": "code",
   "outputs": [],
   "source": [
    "# 송신 메시지 입력\n",
    "important_message = \"아주 중요한 메시지\"\n",
    "\n",
    "# 원본 파일\n",
    "with open(\"message.txt\", \"w\") as f:\n",
    "    f.write(important_message)"
   ],
   "metadata": {
    "collapsed": false,
    "ExecuteTime": {
     "end_time": "2024-02-14T12:36:20.687769700Z",
     "start_time": "2024-02-14T12:36:20.683302Z"
    }
   },
   "id": "126da73d92cb0d2c",
   "execution_count": 2
  },
  {
   "cell_type": "code",
   "outputs": [],
   "source": [],
   "metadata": {
    "collapsed": false
   },
   "id": "877c98b78ab9208d"
  }
 ],
 "metadata": {
  "kernelspec": {
   "display_name": "Python 3",
   "language": "python",
   "name": "python3"
  },
  "language_info": {
   "codemirror_mode": {
    "name": "ipython",
    "version": 2
   },
   "file_extension": ".py",
   "mimetype": "text/x-python",
   "name": "python",
   "nbconvert_exporter": "python",
   "pygments_lexer": "ipython2",
   "version": "2.7.6"
  }
 },
 "nbformat": 4,
 "nbformat_minor": 5
}
