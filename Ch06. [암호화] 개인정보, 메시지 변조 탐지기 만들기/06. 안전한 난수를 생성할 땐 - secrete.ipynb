{
 "cells": [
  {
   "cell_type": "code",
   "execution_count": 1,
   "id": "initial_id",
   "metadata": {
    "collapsed": true,
    "ExecuteTime": {
     "end_time": "2024-02-14T13:17:59.624903900Z",
     "start_time": "2024-02-14T13:17:59.620656400Z"
    }
   },
   "outputs": [],
   "source": [
    "import secrets"
   ]
  },
  {
   "cell_type": "code",
   "outputs": [
    {
     "name": "stdout",
     "output_type": "stream",
     "text": [
      "7e9d8ddc6a34e5da\n"
     ]
    }
   ],
   "source": [
    "# 8바이트 난수 (16자리)\n",
    "rand8 = secrets.token_hex(8)\n",
    "print(rand8)"
   ],
   "metadata": {
    "collapsed": false,
    "ExecuteTime": {
     "end_time": "2024-02-14T13:18:26.510421900Z",
     "start_time": "2024-02-14T13:18:26.506180800Z"
    }
   },
   "id": "8947f79778039769",
   "execution_count": 8
  },
  {
   "cell_type": "code",
   "outputs": [
    {
     "name": "stdout",
     "output_type": "stream",
     "text": [
      "b'\\xe3\\x8c\\xd9\\xf0\\xc8\\x86\\xd6\\xa5'\n"
     ]
    }
   ],
   "source": [
    "# 8바이트 난수 (16자리)\n",
    "rand8 = secrets.token_bytes(8)\n",
    "print(rand8)"
   ],
   "metadata": {
    "collapsed": false,
    "ExecuteTime": {
     "end_time": "2024-02-14T13:18:45.719184100Z",
     "start_time": "2024-02-14T13:18:45.711307600Z"
    }
   },
   "id": "ad0b22368f86b732",
   "execution_count": 15
  },
  {
   "cell_type": "code",
   "outputs": [
    {
     "name": "stdout",
     "output_type": "stream",
     "text": [
      "egXgcFHDgD4\n"
     ]
    }
   ],
   "source": [
    "rand8 = secrets.token_urlsafe(8)\n",
    "print(rand8)"
   ],
   "metadata": {
    "collapsed": false,
    "ExecuteTime": {
     "end_time": "2024-02-14T13:19:00.675951300Z",
     "start_time": "2024-02-14T13:19:00.673207600Z"
    }
   },
   "id": "439d50a27157b309",
   "execution_count": 30
  },
  {
   "cell_type": "code",
   "outputs": [
    {
     "name": "stdout",
     "output_type": "stream",
     "text": [
      "c7018d0050de92012f7562ba25f73445\n"
     ]
    }
   ],
   "source": [
    "# 16바이트 난수 (32자리)\n",
    "rand16 = secrets.token_hex(16)\n",
    "print(rand16)"
   ],
   "metadata": {
    "collapsed": false,
    "ExecuteTime": {
     "end_time": "2024-02-14T13:19:25.744052700Z",
     "start_time": "2024-02-14T13:19:25.739850400Z"
    }
   },
   "id": "583ffe970a79ba54",
   "execution_count": 34
  },
  {
   "cell_type": "code",
   "outputs": [
    {
     "name": "stdout",
     "output_type": "stream",
     "text": [
      "K06PkF8PBCxiRfp5F2nNAA\n"
     ]
    }
   ],
   "source": [
    "# 16바이트 난수 (32자리)\n",
    "rand16 = secrets.token_urlsafe(16)\n",
    "print(rand16)"
   ],
   "metadata": {
    "collapsed": false,
    "ExecuteTime": {
     "end_time": "2024-02-14T13:19:49.065120300Z",
     "start_time": "2024-02-14T13:19:49.055654300Z"
    }
   },
   "id": "c933bc251db905d2",
   "execution_count": 52
  },
  {
   "cell_type": "markdown",
   "source": [
    "# OTP 비밀번호 생성기"
   ],
   "metadata": {
    "collapsed": false
   },
   "id": "2f89ec75d34ac399"
  },
  {
   "cell_type": "code",
   "outputs": [],
   "source": [
    "import secrets\n",
    "import string"
   ],
   "metadata": {
    "collapsed": false,
    "ExecuteTime": {
     "end_time": "2024-02-14T13:20:03.536057900Z",
     "start_time": "2024-02-14T13:20:03.522798400Z"
    }
   },
   "id": "9063bcb437548b4b",
   "execution_count": 53
  },
  {
   "cell_type": "code",
   "outputs": [
    {
     "data": {
      "text/plain": "'0123456789'"
     },
     "execution_count": 54,
     "metadata": {},
     "output_type": "execute_result"
    }
   ],
   "source": [
    "string.digits"
   ],
   "metadata": {
    "collapsed": false,
    "ExecuteTime": {
     "end_time": "2024-02-14T13:20:07.355323300Z",
     "start_time": "2024-02-14T13:20:07.339066300Z"
    }
   },
   "id": "27d52e65ac5a93d5",
   "execution_count": 54
  },
  {
   "cell_type": "code",
   "outputs": [
    {
     "name": "stdout",
     "output_type": "stream",
     "text": [
      "435414\n"
     ]
    }
   ],
   "source": [
    "OTP = ''\n",
    "digit = string.digits\n",
    "for i in range(6):\n",
    "    OTP += str(''.join(secrets.choice(digit)))\n",
    "\n",
    "print(OTP)"
   ],
   "metadata": {
    "collapsed": false,
    "ExecuteTime": {
     "end_time": "2024-02-14T13:21:15.501093100Z",
     "start_time": "2024-02-14T13:21:15.498020900Z"
    }
   },
   "id": "ed23f854b465099b",
   "execution_count": 64
  },
  {
   "cell_type": "code",
   "outputs": [],
   "source": [],
   "metadata": {
    "collapsed": false
   },
   "id": "8c1b2a6dbcfc52a3"
  }
 ],
 "metadata": {
  "kernelspec": {
   "display_name": "Python 3",
   "language": "python",
   "name": "python3"
  },
  "language_info": {
   "codemirror_mode": {
    "name": "ipython",
    "version": 2
   },
   "file_extension": ".py",
   "mimetype": "text/x-python",
   "name": "python",
   "nbconvert_exporter": "python",
   "pygments_lexer": "ipython2",
   "version": "2.7.6"
  }
 },
 "nbformat": 4,
 "nbformat_minor": 5
}
