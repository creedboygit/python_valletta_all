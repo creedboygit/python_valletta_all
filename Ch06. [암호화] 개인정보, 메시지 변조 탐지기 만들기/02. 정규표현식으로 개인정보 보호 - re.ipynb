{
 "cells": [
  {
   "cell_type": "markdown",
   "source": [
    "### 정규표현식 사용 예시\n",
    "개인정보가 포함된 문서에서 주민번호 뒷자리를 *******로 마스킹하고자 할 때"
   ],
   "metadata": {
    "collapsed": false
   },
   "id": "86b12d2cffc2d6ca"
  },
  {
   "cell_type": "code",
   "outputs": [],
   "source": [
    "# 개인 정보 목록\n",
    "personal_info = '''김미키 010-3020-3040 mike@google.com 800293-1234123\n",
    "김소은 010-3020-3041 mike@google.com 600293-3214123\n",
    "박민철 010-2020-3342 mike@google.com 200292-6214122'''"
   ],
   "metadata": {
    "collapsed": false,
    "ExecuteTime": {
     "end_time": "2024-02-14T11:24:44.383273900Z",
     "start_time": "2024-02-14T11:24:44.379763500Z"
    }
   },
   "id": "aabaf9a437b9cb50",
   "execution_count": 9
  },
  {
   "cell_type": "markdown",
   "source": [
    "### 방법 1. 정규 표현식을 사용하지 않을 경우\n",
    "1. 공백 문자를 기준으로 전체 텍스트를 나눈다. (split() 함수 사용)\n",
    "2. 나눈 단어가 주민 등록 번호 형식인지 분석한다.\n",
    "3. 주민등록번호 형식이라면 뒷자리를 ***로 마스킹한다.\n",
    "4. 나눈 단어를 다시 조합한다."
   ],
   "metadata": {
    "collapsed": false
   },
   "id": "674640bc989c1ec6"
  },
  {
   "cell_type": "code",
   "outputs": [
    {
     "name": "stdout",
     "output_type": "stream",
     "text": [
      "김미키 010-3020-3040 mike@google.com 800293-*******\n",
      "김소은 010-3020-3041 mike@google.com 600293-*******\n",
      "박민철 010-2020-3342 mike@google.com 200292-*******\n"
     ]
    }
   ],
   "source": [
    "result = []\n",
    "for line in personal_info.split(\"\\n\"):  # 텍스트 나누기 1\n",
    "    word_result = []\n",
    "\n",
    "    for word in line.split(\" \"):  # 텍스트 나누기 2\n",
    "        if len(word) == 14 and word[:6].isdigit() and word[7:].isdigit():  # 주민번호 형식인지 조사\n",
    "            word = word[:6] + \"-\" + \"*******\"  # 뒷자리 마스킹\n",
    "        word_result.append(word)\n",
    "    result.append(\" \".join(word_result))  # 단어 결합\n",
    "\n",
    "print(\"\\n\".join(result))"
   ],
   "metadata": {
    "collapsed": false,
    "ExecuteTime": {
     "end_time": "2024-02-14T11:24:45.429650500Z",
     "start_time": "2024-02-14T11:24:45.427425200Z"
    }
   },
   "id": "b8637690e9f5b18",
   "execution_count": 10
  },
  {
   "cell_type": "markdown",
   "source": [
    "### 방법 2. 정규 표현식을 사용할 경우\n",
    "- 숫자6 + 붙임표(-) + 숫자7 (단, 숫자 6은 괄호를 사용하여 그룹으로 지정)"
   ],
   "metadata": {
    "collapsed": false
   },
   "id": "a5e90c077adf512f"
  },
  {
   "cell_type": "code",
   "outputs": [],
   "source": [
    "import re"
   ],
   "metadata": {
    "collapsed": false,
    "ExecuteTime": {
     "end_time": "2024-02-14T11:34:41.175637400Z",
     "start_time": "2024-02-14T11:34:41.172124100Z"
    }
   },
   "id": "1afd70632bf6f1cd",
   "execution_count": 21
  },
  {
   "cell_type": "code",
   "outputs": [
    {
     "name": "stdout",
     "output_type": "stream",
     "text": [
      "김미키 010-3020-3040 mike@google.com 800293-*******\n",
      "김소은 010-3020-3041 mike@google.com 600293-*******\n",
      "박민철 010-2020-3342 mike@google.com 200292-*******\n",
      "\n",
      "김미키 010-3020-3040 mike@google.com 800293-1234123\n",
      "김소은 010-3020-3041 mike@google.com 600293-3214123\n",
      "박민철 010-2020-3342 mike@google.com 200292-6214122\n"
     ]
    }
   ],
   "source": [
    "pat = re.compile(\"(\\\\d{6})[-]\\\\d{7}\")\n",
    "print(pat.sub(\"\\\\g<1>-*******\", personal_info))  # g<1> : 주민번호 앞부분 그룹을 의미\n",
    "print()\n",
    "print(personal_info)  # g<1> : 주민번호 앞부분 그룹을 의미"
   ],
   "metadata": {
    "collapsed": false,
    "ExecuteTime": {
     "end_time": "2024-02-14T11:36:06.575405800Z",
     "start_time": "2024-02-14T11:36:06.562251500Z"
    }
   },
   "id": "922078d695a97213",
   "execution_count": 28
  },
  {
   "cell_type": "code",
   "outputs": [],
   "source": [],
   "metadata": {
    "collapsed": false
   },
   "id": "4c0c2388b365a56d"
  }
 ],
 "metadata": {
  "kernelspec": {
   "display_name": "Python 3",
   "language": "python",
   "name": "python3"
  },
  "language_info": {
   "codemirror_mode": {
    "name": "ipython",
    "version": 2
   },
   "file_extension": ".py",
   "mimetype": "text/x-python",
   "name": "python",
   "nbconvert_exporter": "python",
   "pygments_lexer": "ipython2",
   "version": "2.7.6"
  }
 },
 "nbformat": 4,
 "nbformat_minor": 5
}
