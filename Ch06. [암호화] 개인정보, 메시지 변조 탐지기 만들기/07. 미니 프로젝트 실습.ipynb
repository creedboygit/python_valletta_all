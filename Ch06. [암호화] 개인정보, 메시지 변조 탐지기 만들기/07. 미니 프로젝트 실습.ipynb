{
 "cells": [
  {
   "cell_type": "markdown",
   "source": [
    "# 진행 순서\n",
    "1. 계좌 정보 생성\n",
    "2. 비밀번호 입력\n",
    "3. 계좌 정보, 비밀번호 암호화\n",
    "4. 메시지 변조 탐지기 생성"
   ],
   "metadata": {
    "collapsed": false
   },
   "id": "eb44eca8e4d138cc"
  },
  {
   "cell_type": "markdown",
   "source": [
    "# 계좌 정보 생성 (개인 정보 감추기)"
   ],
   "metadata": {
    "collapsed": false
   },
   "id": "3605cab7cd82863b"
  },
  {
   "cell_type": "code",
   "outputs": [],
   "source": [
    "# 개인 정보 입력\n",
    "client_name = input(\"이름을 입력해 주세요. >>> \")\n",
    "phone_number = input(\"전화번호를 입력해 주세요. (- 제외 11자리) >>> \")"
   ],
   "metadata": {
    "collapsed": false,
    "ExecuteTime": {
     "end_time": "2024-02-14T15:07:03.699344100Z",
     "start_time": "2024-02-14T15:06:57.946867700Z"
    }
   },
   "id": "92de1dcd3ab275eb",
   "execution_count": 17
  },
  {
   "cell_type": "code",
   "outputs": [],
   "source": [
    "# 주민번호 입력\n",
    "import getpass\n",
    "\n",
    "id_number = getpass.getpass(\"주민번호를 입력해 주세요. (- 제외 13자리) >>> \")"
   ],
   "metadata": {
    "collapsed": false,
    "ExecuteTime": {
     "end_time": "2024-02-14T15:07:08.805548900Z",
     "start_time": "2024-02-14T15:07:04.519946600Z"
    }
   },
   "id": "b1bb03658bfc5c21",
   "execution_count": 18
  },
  {
   "cell_type": "code",
   "outputs": [],
   "source": [
    "# 계좌 번호 입력\n",
    "account_number = input(\"계좌번호를 입력해 주세요. (- 제외 15자리) >>> \")"
   ],
   "metadata": {
    "collapsed": false,
    "ExecuteTime": {
     "end_time": "2024-02-14T15:07:14.913461500Z",
     "start_time": "2024-02-14T15:07:09.541117800Z"
    }
   },
   "id": "4c59184cf9683c42",
   "execution_count": 19
  },
  {
   "cell_type": "code",
   "outputs": [],
   "source": [
    "# 거래 금액 입력\n",
    "transfer_amount = input(\"거래 금액을 만원 단위로 입력해 주세요. >>> \")"
   ],
   "metadata": {
    "collapsed": false,
    "ExecuteTime": {
     "end_time": "2024-02-14T15:07:17.126756100Z",
     "start_time": "2024-02-14T15:07:15.725233400Z"
    }
   },
   "id": "4ba3d16da9a6e40b",
   "execution_count": 20
  },
  {
   "cell_type": "code",
   "outputs": [],
   "source": [
    "# 입력 번호 하이픈 추가 함수\n",
    "def number_parser(input_num, option='phone'):\n",
    "    output_num = ''\n",
    "\n",
    "    if option == 'phone':\n",
    "        for i in range(0, len(input_num)):\n",
    "            if i == 2:\n",
    "                output_num = output_num + (input_num[2] + '-')\n",
    "            elif i == 6:\n",
    "                output_num = output_num + (input_num[6] + '-')\n",
    "            else:\n",
    "                output_num = output_num + input_num[i]\n",
    "    elif option == 'account':\n",
    "        for i in range(0, len(input_num)):\n",
    "            if i == 4:\n",
    "                output_num = output_num + (input_num[2] + '-')\n",
    "            elif i == 9:\n",
    "                output_num = output_num + (input_num[9] + '-')\n",
    "            else:\n",
    "                output_num = output_num + input_num[i]\n",
    "    elif option == 'id':\n",
    "        for i in range(0, len(input_num)):\n",
    "            if i == 5:\n",
    "                output_num = output_num + (input_num[5] + '-')\n",
    "            else:\n",
    "                output_num = output_num + input_num[i]\n",
    "    elif option == 'transfer':\n",
    "        output_num = input_num + '0000 원 '\n",
    "\n",
    "    return output_num"
   ],
   "metadata": {
    "collapsed": false,
    "ExecuteTime": {
     "end_time": "2024-02-14T15:07:17.772915600Z",
     "start_time": "2024-02-14T15:07:17.767631800Z"
    }
   },
   "id": "9a95de259c962d4f",
   "execution_count": 21
  },
  {
   "cell_type": "code",
   "outputs": [
    {
     "data": {
      "text/plain": "'010-8293-0293'"
     },
     "execution_count": 22,
     "metadata": {},
     "output_type": "execute_result"
    }
   ],
   "source": [
    "number_parser('01082930293')"
   ],
   "metadata": {
    "collapsed": false,
    "ExecuteTime": {
     "end_time": "2024-02-14T15:07:18.206272400Z",
     "start_time": "2024-02-14T15:07:18.202677Z"
    }
   },
   "id": "1d3bb5803387671a",
   "execution_count": 22
  },
  {
   "cell_type": "code",
   "outputs": [],
   "source": [
    "# 계좌 파일 생성\n",
    "import datetime\n",
    "\n",
    "with open('계좌정보_원본.txt', 'w') as f:\n",
    "    f.write(f'등록일시 : {datetime.datetime.now().strftime(\"%Y-%m-%d %H:%M:%S\")}\\n')\n",
    "    f.write(f'고객명 : {client_name}\\n')\n",
    "    f.write(f'전화번호 : {number_parser(phone_number, \"phone\")}\\n')\n",
    "\n",
    "    # 주민번호 뒷자리 숨기기\n",
    "    import re\n",
    "\n",
    "    pat = re.compile(\"(\\\\d{6})[-]\\\\d{7}\")\n",
    "    id_number = pat.sub(\"\\\\g<1>-*******\", number_parser(id_number, \"id\"))\n",
    "    f.write(f'주민번호 : {id_number}\\n')\n",
    "\n",
    "    f.write(f'계좌번호 : {number_parser(account_number, \"account\")}\\n')\n",
    "    f.write(f'거래금액 : {number_parser(transfer_amount, \"transfer\")}\\n')"
   ],
   "metadata": {
    "collapsed": false,
    "ExecuteTime": {
     "end_time": "2024-02-14T15:07:18.641211500Z",
     "start_time": "2024-02-14T15:07:18.634432800Z"
    }
   },
   "id": "13874722c943a7ad",
   "execution_count": 23
  },
  {
   "cell_type": "markdown",
   "source": [
    "# 비밀번호 입력"
   ],
   "metadata": {
    "collapsed": false
   },
   "id": "364722959e7a9844"
  },
  {
   "cell_type": "code",
   "outputs": [],
   "source": [
    "import hashlib\n",
    "import os"
   ],
   "metadata": {
    "collapsed": false,
    "ExecuteTime": {
     "end_time": "2024-02-14T15:08:46.423691Z",
     "start_time": "2024-02-14T15:08:46.409179400Z"
    }
   },
   "id": "be7e3225e90b9f1",
   "execution_count": 26
  },
  {
   "cell_type": "code",
   "outputs": [],
   "source": [
    "# 비밀번호(키)\n",
    "SECRET_KEY = getpass.getpass(\"비밀번호를 입력해 주세요. >>> \")\n",
    "\n",
    "with open('passwd.txt', 'w') as f:\n",
    "    m = hashlib.sha256()\n",
    "    m.update(SECRET_KEY.encode('utf-8'))\n",
    "    f.write(m.hexdigest())"
   ],
   "metadata": {
    "collapsed": false,
    "ExecuteTime": {
     "end_time": "2024-02-14T15:09:50.935239200Z",
     "start_time": "2024-02-14T15:09:47.015007600Z"
    }
   },
   "id": "28b12961e206b21d",
   "execution_count": 27
  },
  {
   "cell_type": "markdown",
   "source": [
    "# 계좌 정보 암호화"
   ],
   "metadata": {
    "collapsed": false
   },
   "id": "59a1bc0a05d5744c"
  },
  {
   "cell_type": "code",
   "outputs": [],
   "source": [
    "import hmac"
   ],
   "metadata": {
    "collapsed": false,
    "ExecuteTime": {
     "end_time": "2024-02-14T15:10:16.788632600Z",
     "start_time": "2024-02-14T15:10:16.761121300Z"
    }
   },
   "id": "2fed398358740dc0",
   "execution_count": 28
  },
  {
   "cell_type": "code",
   "outputs": [],
   "source": [
    "# 계좌 원본\n",
    "with open('계좌정보_원본.txt') as f:\n",
    "    message_origin = f.read()\n",
    "\n",
    "# 비밀 키를 활용한 계좌 정보 암호화\n",
    "with open('계좌정보_암호화.txt', 'w') as f:\n",
    "    m = hmac.new(SECRET_KEY.encode('utf-8'), message_origin.encode('utf-8'),\n",
    "                 hashlib.sha256)\n",
    "    f.write(m.hexdigest())"
   ],
   "metadata": {
    "collapsed": false,
    "ExecuteTime": {
     "end_time": "2024-02-14T15:12:38.536181300Z",
     "start_time": "2024-02-14T15:12:38.527193900Z"
    }
   },
   "id": "e0c20ce3926c49f2",
   "execution_count": 29
  },
  {
   "cell_type": "code",
   "outputs": [],
   "source": [],
   "metadata": {
    "collapsed": false
   },
   "id": "53e96bff519dc239"
  }
 ],
 "metadata": {
  "kernelspec": {
   "display_name": "Python 3",
   "language": "python",
   "name": "python3"
  },
  "language_info": {
   "codemirror_mode": {
    "name": "ipython",
    "version": 2
   },
   "file_extension": ".py",
   "mimetype": "text/x-python",
   "name": "python",
   "nbconvert_exporter": "python",
   "pygments_lexer": "ipython2",
   "version": "2.7.6"
  }
 },
 "nbformat": 4,
 "nbformat_minor": 5
}
