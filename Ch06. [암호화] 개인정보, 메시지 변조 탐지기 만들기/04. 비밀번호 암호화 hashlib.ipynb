{
 "cells": [
  {
   "cell_type": "markdown",
   "source": [
    "# 비밀번호 해싱 예제"
   ],
   "metadata": {
    "collapsed": false
   },
   "id": "fdf4b3896d6e766c"
  },
  {
   "cell_type": "code",
   "outputs": [],
   "source": [
    "import hashlib\n",
    "import getpass"
   ],
   "metadata": {
    "collapsed": false,
    "ExecuteTime": {
     "end_time": "2024-02-14T12:36:29.928880700Z",
     "start_time": "2024-02-14T12:36:29.918874500Z"
    }
   },
   "id": "de8a958eca100326",
   "execution_count": 4
  },
  {
   "cell_type": "code",
   "outputs": [],
   "source": [
    "# 원본 비밀번호\n",
    "passwd = 'creedboy123!'"
   ],
   "metadata": {
    "collapsed": false,
    "ExecuteTime": {
     "end_time": "2024-02-14T12:36:30.236994Z",
     "start_time": "2024-02-14T12:36:30.230477500Z"
    }
   },
   "id": "87062655a1f32a18",
   "execution_count": 5
  },
  {
   "cell_type": "code",
   "outputs": [],
   "source": [
    "# 비밀번호 해싱\n",
    "h = hashlib.sha256()\n",
    "h.update(passwd.encode('utf-8'))"
   ],
   "metadata": {
    "collapsed": false,
    "ExecuteTime": {
     "end_time": "2024-02-14T12:36:30.563898300Z",
     "start_time": "2024-02-14T12:36:30.559384700Z"
    }
   },
   "id": "208c119ad8f955b4",
   "execution_count": 6
  },
  {
   "cell_type": "code",
   "outputs": [
    {
     "name": "stdout",
     "output_type": "stream",
     "text": [
      "b'\\xd7^\\xb7\\r,\\xa8i\\xf0<\\xd1v\\xaf\\x03\\x95\\xd9\\xc1IQ;RaW\\xcd\\xb9\"\\xcc\\x00\\xb9<\\xb5\\xf4\\xa0'\n"
     ]
    }
   ],
   "source": [
    "# 해싱된 비밀번호\n",
    "h_passwd = h.digest()\n",
    "print(h_passwd)"
   ],
   "metadata": {
    "collapsed": false,
    "ExecuteTime": {
     "end_time": "2024-02-14T12:36:31.019251600Z",
     "start_time": "2024-02-14T12:36:31.014740300Z"
    }
   },
   "id": "9fd08d9b123b7ef4",
   "execution_count": 7
  },
  {
   "cell_type": "markdown",
   "source": [
    "# 방법 1. 해싱을 사용하지 않은 경우"
   ],
   "metadata": {
    "collapsed": false
   },
   "id": "28a4fe1d1119dcf4"
  },
  {
   "cell_type": "code",
   "outputs": [
    {
     "name": "stdout",
     "output_type": "stream",
     "text": [
      "잠금이 해제되었습니다.\n"
     ]
    }
   ],
   "source": [
    "# 사용자 입력 비밀번호\n",
    "user_input = getpass.getpass(\"비밀번호를 입력해주세요 >>> \")\n",
    "\n",
    "while user_input != passwd:\n",
    "    # 비밀번호 불일치 메시지\n",
    "    user_input = getpass.getpass(\"잘못된 비밀번호입니다! 다시 입력해 주세요 >>> \")\n",
    "    print(\"방금 입력하신 비밀번호는 ... : {}\".format(user_input))\n",
    "\n",
    "print(\"잠금이 해제되었습니다.\")"
   ],
   "metadata": {
    "collapsed": false,
    "ExecuteTime": {
     "end_time": "2024-02-14T11:51:11.487390500Z",
     "start_time": "2024-02-14T11:51:07.932178300Z"
    }
   },
   "id": "ea76015b4c6da4e4",
   "execution_count": 13
  },
  {
   "cell_type": "markdown",
   "source": [
    "# 방법 2. 해싱을 사용한 경우"
   ],
   "metadata": {
    "collapsed": false
   },
   "id": "4f37e679f7928e57"
  },
  {
   "cell_type": "code",
   "outputs": [],
   "source": [
    "# 비밀번호 해싱 함수\n",
    "def passwd_hash(original_passwd):\n",
    "    h = hashlib.sha256()\n",
    "    h.update(original_passwd.encode(\"utf-8\"))\n",
    "    hashed_passwd = h.digest()\n",
    "    return hashed_passwd"
   ],
   "metadata": {
    "collapsed": false,
    "ExecuteTime": {
     "end_time": "2024-02-14T11:55:03.195753600Z",
     "start_time": "2024-02-14T11:55:03.189401Z"
    }
   },
   "id": "8b6d7f3b5b8b245f",
   "execution_count": 14
  },
  {
   "cell_type": "code",
   "outputs": [
    {
     "name": "stdout",
     "output_type": "stream",
     "text": [
      "방금 입력하신 비밀번호는 ... : b'\\x11K\\xd1Q\\xf8\\xfb\\x0cXd-!p\\xdaJ\\xe7\\xd7\\xc5yw&\\n\\xc2\\xcc\\x89\\x050l\\xabk*\\xca\\xbc'\n",
      "방금 입력하신 비밀번호는 ... : b'\\xa6e\\xa4Y B/\\x9dA~Hg\\xef\\xdcO\\xb8\\xa0J\\x1f?\\xff\\x1f\\xa0~\\x99\\x8e\\x86\\xf7\\xf7\\xa2z\\xe3'\n",
      "방금 입력하신 비밀번호는 ... : b'\\x11K\\xd1Q\\xf8\\xfb\\x0cXd-!p\\xdaJ\\xe7\\xd7\\xc5yw&\\n\\xc2\\xcc\\x89\\x050l\\xabk*\\xca\\xbc'\n",
      "방금 입력하신 비밀번호는 ... : b'\\xdap\\xdf\\xa4\\xd9\\xf9Z\\xc9y\\xf9!\\xe8\\xe6#5\\x8261?3J\\xfc\\xd0l\\xdd\\xf8\\xa5b\\x1c\\xf6\\xa1\\xe9'\n",
      "방금 입력하신 비밀번호는 ... : b'\\xd7^\\xb7\\r,\\xa8i\\xf0<\\xd1v\\xaf\\x03\\x95\\xd9\\xc1IQ;RaW\\xcd\\xb9\"\\xcc\\x00\\xb9<\\xb5\\xf4\\xa0'\n",
      "잠금이 해제되었습니다.\n"
     ]
    }
   ],
   "source": [
    "# 사용자 입력 비밀번호\n",
    "user_input = passwd_hash(getpass.getpass(\"비밀번호를 입력해 주세요. >>> \"))\n",
    "\n",
    "while user_input != h_passwd:\n",
    "    # 비밀번호 불일치 메시지\n",
    "    user_input = passwd_hash(getpass.getpass(\"잘못된 비밀번호입니다. 다시 입력해 주세요. >>> \"))\n",
    "    print(\"방금 입력하신 비밀번호는 ... : {}\".format(user_input))\n",
    "\n",
    "print(\"잠금이 해제되었습니다.\")"
   ],
   "metadata": {
    "collapsed": false,
    "ExecuteTime": {
     "end_time": "2024-02-14T11:57:16.136249900Z",
     "start_time": "2024-02-14T11:57:01.470839900Z"
    }
   },
   "id": "39c73dc18375218f",
   "execution_count": 15
  },
  {
   "cell_type": "code",
   "outputs": [],
   "source": [],
   "metadata": {
    "collapsed": false
   },
   "id": "426b3d89274c5e1c"
  }
 ],
 "metadata": {
  "kernelspec": {
   "display_name": "Python 3",
   "language": "python",
   "name": "python3"
  },
  "language_info": {
   "codemirror_mode": {
    "name": "ipython",
    "version": 2
   },
   "file_extension": ".py",
   "mimetype": "text/x-python",
   "name": "python",
   "nbconvert_exporter": "python",
   "pygments_lexer": "ipython2",
   "version": "2.7.6"
  }
 },
 "nbformat": 4,
 "nbformat_minor": 5
}
