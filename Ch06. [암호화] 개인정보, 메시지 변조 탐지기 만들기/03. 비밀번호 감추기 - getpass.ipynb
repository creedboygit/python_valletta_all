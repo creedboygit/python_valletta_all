{
 "cells": [
  {
   "cell_type": "markdown",
   "source": [
    "### 비밀번호 잠금 해제 예제"
   ],
   "metadata": {
    "collapsed": false
   },
   "id": "a5d28ddc05250292"
  },
  {
   "cell_type": "code",
   "outputs": [],
   "source": [
    "# 원본 비밀번호\n",
    "passwd = 'creedboy123!'"
   ],
   "metadata": {
    "collapsed": false,
    "ExecuteTime": {
     "end_time": "2024-02-14T11:37:59.777269300Z",
     "start_time": "2024-02-14T11:37:59.774749300Z"
    }
   },
   "id": "e1f48bd0c8b9a818",
   "execution_count": 1
  },
  {
   "cell_type": "code",
   "outputs": [
    {
     "name": "stdout",
     "output_type": "stream",
     "text": [
      "잠금이 해제되었습니다.\n"
     ]
    }
   ],
   "source": [
    "# 사용자 입력 비밀번호\n",
    "user_input = input(\"비밀번호를 입력해주세요 >>> \")\n",
    "\n",
    "while user_input != passwd:\n",
    "    # 비밀번호 불일치 메시지\n",
    "    user_input = input(\"잘못된 비밀번호입니다! 다시 입력해 주세요 >>> \")\n",
    "\n",
    "print(\"잠금이 해제되었습니다.\")"
   ],
   "metadata": {
    "collapsed": false,
    "ExecuteTime": {
     "end_time": "2024-02-14T11:39:08.844833700Z",
     "start_time": "2024-02-14T11:38:55.352842800Z"
    }
   },
   "id": "55ae8c698d358135",
   "execution_count": 2
  },
  {
   "cell_type": "markdown",
   "source": [
    "### 비밀번호 감추기 (getpass)"
   ],
   "metadata": {
    "collapsed": false
   },
   "id": "30c0b3cd5db627cb"
  },
  {
   "cell_type": "code",
   "outputs": [],
   "source": [
    "import getpass"
   ],
   "metadata": {
    "collapsed": false,
    "ExecuteTime": {
     "end_time": "2024-02-14T11:39:57.471172700Z",
     "start_time": "2024-02-14T11:39:57.458661900Z"
    }
   },
   "id": "2cf5e2dd2940a36e",
   "execution_count": 3
  },
  {
   "cell_type": "code",
   "outputs": [
    {
     "name": "stdout",
     "output_type": "stream",
     "text": [
      "잠금이 해제되었습니다.\n"
     ]
    }
   ],
   "source": [
    "# 사용자 입력 비밀번호\n",
    "user_input = getpass.getpass(\"비밀번호를 입력해주세요. >>> \")\n",
    "\n",
    "while user_input != passwd:\n",
    "    # 비밀번호 불일치 메시지\n",
    "    user_input = getpass.getpass(\"잘못된 비밀번호입니다. 다시 입력해주세요. >>> \")\n",
    "\n",
    "print(\"잠금이 해제되었습니다.\")\n"
   ],
   "metadata": {
    "collapsed": false,
    "ExecuteTime": {
     "end_time": "2024-02-14T11:41:13.151868300Z",
     "start_time": "2024-02-14T11:41:01.379699200Z"
    }
   },
   "id": "6d70e31af84d227a",
   "execution_count": 5
  },
  {
   "cell_type": "code",
   "outputs": [],
   "source": [],
   "metadata": {
    "collapsed": false
   },
   "id": "11ce0aab32ac1e3a"
  }
 ],
 "metadata": {
  "kernelspec": {
   "display_name": "Python 3",
   "language": "python",
   "name": "python3"
  },
  "language_info": {
   "codemirror_mode": {
    "name": "ipython",
    "version": 2
   },
   "file_extension": ".py",
   "mimetype": "text/x-python",
   "name": "python",
   "nbconvert_exporter": "python",
   "pygments_lexer": "ipython2",
   "version": "2.7.6"
  }
 },
 "nbformat": 4,
 "nbformat_minor": 5
}
