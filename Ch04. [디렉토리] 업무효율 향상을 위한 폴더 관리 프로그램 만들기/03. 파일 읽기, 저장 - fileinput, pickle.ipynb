{
 "cells": [
  {
   "cell_type": "markdown",
   "source": [
    "## 4-3. 파일 읽기, 저장"
   ],
   "metadata": {
    "collapsed": false
   },
   "id": "bdac7347fabb21fd"
  },
  {
   "cell_type": "markdown",
   "source": [
    "> ### fileinput\n",
    "> - `fileinput` 은 텍스트 파일을 읽고, 쓰고, 저장하는 기능을 **더욱 편리하게 사용**할 수 있게 해주는 라이브러리\n",
    "> - **여러개의 파일**을 읽어서 수정할 수 있다.\n",
    "> - **\"Inplace editing\"** 기능을 사용하면 `open`, `close` 보다 더 수정이 간편하고 직관적이다!\n"
   ],
   "metadata": {
    "collapsed": false
   },
   "id": "3aaa8e24083fe1f"
  },
  {
   "cell_type": "markdown",
   "source": [
    "### 여러 개의 파일 읽기"
   ],
   "metadata": {
    "collapsed": false
   },
   "id": "1ee341af6ee764e0"
  },
  {
   "cell_type": "code",
   "outputs": [],
   "source": [
    "import fileinput\n",
    "import glob\n",
    "import os"
   ],
   "metadata": {
    "collapsed": false,
    "ExecuteTime": {
     "end_time": "2024-02-11T04:59:36.828112800Z",
     "start_time": "2024-02-11T04:59:36.818204Z"
    }
   },
   "id": "c26f7127e0d4d375",
   "execution_count": 1
  },
  {
   "cell_type": "code",
   "outputs": [
    {
     "data": {
      "text/plain": "'D:\\\\940 python_study\\\\200 study\\\\220 valletta_all\\\\python_valletta_all\\\\Ch04. [디렉토리] 업무효율 향상을 위한 폴더 관리 프로그램 만들기'"
     },
     "execution_count": 2,
     "metadata": {},
     "output_type": "execute_result"
    }
   ],
   "source": [
    "# 현재 경로 확인\n",
    "os.getcwd()"
   ],
   "metadata": {
    "collapsed": false,
    "ExecuteTime": {
     "end_time": "2024-02-11T04:59:45.031512900Z",
     "start_time": "2024-02-11T04:59:45.025359300Z"
    }
   },
   "id": "acb5dc33b4d2fb05",
   "execution_count": 2
  },
  {
   "cell_type": "code",
   "outputs": [
    {
     "data": {
      "text/plain": "['02. 디렉토리 다루기 - os.path, pathlib.ipynb',\n '03. 파일 읽기, 저장 - fileinput, pickle.ipynb.tmp',\n '03. 파일 읽기, 저장 - fileinput, pickle.ipynb~',\n '04. 파일 찾기, 복사, 이동 - glob, fnmatch, shutil.ipynb',\n '05. 파일 압축 - zlib, gzip, zipfile, tarfile.ipynb',\n '06. 미니 프로젝트 실습.ipynb']"
     },
     "execution_count": 3,
     "metadata": {},
     "output_type": "execute_result"
    }
   ],
   "source": [
    "# 디렉토리 확인\n",
    "os.listdir(os.getcwd())"
   ],
   "metadata": {
    "collapsed": false,
    "ExecuteTime": {
     "end_time": "2024-02-11T05:00:05.244790800Z",
     "start_time": "2024-02-11T05:00:05.239467200Z"
    }
   },
   "id": "eb594d2a9551a35c",
   "execution_count": 3
  },
  {
   "cell_type": "code",
   "outputs": [],
   "source": [
    "# 경로 설정\n",
    "path = 'sample/'"
   ],
   "metadata": {
    "collapsed": false,
    "ExecuteTime": {
     "end_time": "2024-02-11T05:00:23.974660900Z",
     "start_time": "2024-02-11T05:00:23.971149200Z"
    }
   },
   "id": "dd5aa31ad5d59251",
   "execution_count": 5
  },
  {
   "cell_type": "code",
   "outputs": [
    {
     "data": {
      "text/plain": "['sample\\\\새파일1.txt', 'sample\\\\새파일2.txt', 'sample\\\\새파일3.txt']"
     },
     "execution_count": 10,
     "metadata": {},
     "output_type": "execute_result"
    }
   ],
   "source": [
    "# txt 파일 확인\n",
    "glob.glob(os.path.join(path, \"*.txt\"))"
   ],
   "metadata": {
    "collapsed": false,
    "ExecuteTime": {
     "end_time": "2024-02-11T05:02:45.112018900Z",
     "start_time": "2024-02-11T05:02:45.107624600Z"
    }
   },
   "id": "6cacbc5e82c80393",
   "execution_count": 10
  },
  {
   "cell_type": "code",
   "outputs": [
    {
     "name": "stdout",
     "output_type": "stream",
     "text": [
      "새파일1입니다.1\n",
      "\n",
      "새파일1입니다.2\n",
      "\n",
      "새파일1입니다.3\n",
      "\n",
      "새파일2입니다.1\n",
      "\n",
      "새파일2입니다.2\n",
      "\n",
      "새파일2입니다.3\n",
      "\n",
      "새파일3입니다.1\n",
      "\n",
      "새파일3입니다.2\n",
      "\n",
      "새파일3입니다.3\n"
     ]
    }
   ],
   "source": [
    "with fileinput.input(glob.glob(os.path.join(path, \"*.txt\")), encoding='utf-8') as f:\n",
    "    for line in f:\n",
    "        print(line)"
   ],
   "metadata": {
    "collapsed": false,
    "ExecuteTime": {
     "end_time": "2024-02-11T05:05:49.827590900Z",
     "start_time": "2024-02-11T05:05:49.820674500Z"
    }
   },
   "id": "f81a30b528b69432",
   "execution_count": 14
  },
  {
   "cell_type": "markdown",
   "source": [
    "### Inplace Editing"
   ],
   "metadata": {
    "collapsed": false
   },
   "id": "78e4437fe7d3106e"
  },
  {
   "cell_type": "markdown",
   "source": [
    "> * FileInput(파일 이름, inplace = True, backup = '.bak')"
   ],
   "metadata": {
    "collapsed": false
   },
   "id": "91827c76ec423c22"
  },
  {
   "cell_type": "markdown",
   "source": [
    "### 첫번째 줄 수정"
   ],
   "metadata": {
    "collapsed": false
   },
   "id": "22e88f971c2a3301"
  },
  {
   "cell_type": "code",
   "outputs": [],
   "source": [
    "txt_files = glob.glob(os.path.join(path, \"*.txt\"))"
   ],
   "metadata": {
    "collapsed": false,
    "ExecuteTime": {
     "end_time": "2024-02-11T05:08:19.479175100Z",
     "start_time": "2024-02-11T05:08:19.471844500Z"
    }
   },
   "id": "fa6b4c45b2e24cf1",
   "execution_count": 16
  },
  {
   "cell_type": "code",
   "outputs": [
    {
     "data": {
      "text/plain": "['sample\\\\새파일1.txt', 'sample\\\\새파일2.txt', 'sample\\\\새파일3.txt']"
     },
     "execution_count": 17,
     "metadata": {},
     "output_type": "execute_result"
    }
   ],
   "source": [
    "txt_files"
   ],
   "metadata": {
    "collapsed": false,
    "ExecuteTime": {
     "end_time": "2024-02-11T05:08:21.304809800Z",
     "start_time": "2024-02-11T05:08:21.298003300Z"
    }
   },
   "id": "3c0d8090f7968230",
   "execution_count": 17
  },
  {
   "cell_type": "code",
   "outputs": [],
   "source": [
    "with fileinput.input(txt_files, inplace=True, encoding='utf-8') as f:\n",
    "    for line in f:\n",
    "        if f.isfirstline():\n",
    "            print(\"첫번째 줄입니다.\", end='\\n')\n",
    "        else:\n",
    "            print(line, end='')"
   ],
   "metadata": {
    "collapsed": false,
    "ExecuteTime": {
     "end_time": "2024-02-11T05:38:15.733491300Z",
     "start_time": "2024-02-11T05:38:15.727262200Z"
    }
   },
   "id": "11b7d00afcc21aa6",
   "execution_count": 35
  },
  {
   "cell_type": "markdown",
   "source": [
    "### 검색된 줄 수정"
   ],
   "metadata": {
    "collapsed": false
   },
   "id": "295dc48ff55e0f1b"
  },
  {
   "cell_type": "code",
   "outputs": [],
   "source": [
    "with fileinput.input(txt_files, inplace=True, encoding='utf-8') as f:\n",
    "    for line in f:\n",
    "        if line == '첫번째 줄입니다.\\n':\n",
    "            print('11111', end='\\n')\n",
    "        else:\n",
    "            print(line, end='')"
   ],
   "metadata": {
    "collapsed": false,
    "ExecuteTime": {
     "end_time": "2024-02-11T05:35:27.710179100Z",
     "start_time": "2024-02-11T05:35:27.704495900Z"
    }
   },
   "id": "1dc7494319c5905f",
   "execution_count": 26
  },
  {
   "cell_type": "markdown",
   "source": [
    "### 키워드 포함 라인 수정"
   ],
   "metadata": {
    "collapsed": false
   },
   "id": "8b242770989a4ff4"
  },
  {
   "cell_type": "code",
   "outputs": [],
   "source": [
    "with fileinput.input(txt_files, inplace=True, encoding='utf-8') as f:\n",
    "    for line in f:\n",
    "        if '2번째' in line:\n",
    "            print('2222', end='\\n')\n",
    "        else:    \n",
    "            print(line, end='')\n",
    "        "
   ],
   "metadata": {
    "collapsed": false,
    "ExecuteTime": {
     "end_time": "2024-02-11T05:38:11.583078800Z",
     "start_time": "2024-02-11T05:38:11.577122600Z"
    }
   },
   "id": "f11e2ba8f5089441",
   "execution_count": 34
  },
  {
   "cell_type": "markdown",
   "source": [
    "### 텍스트 치환"
   ],
   "metadata": {
    "collapsed": false
   },
   "id": "bb30e781cf7f290a"
  },
  {
   "cell_type": "code",
   "outputs": [],
   "source": [
    "with fileinput.input(txt_files, inplace=True, encoding='utf-8') as f:\n",
    "    for line in f:\n",
    "        if '222' in line:\n",
    "            print(line.replace('222', '둘둘둘'), end='')\n",
    "        else:\n",
    "            print(line, end='')"
   ],
   "metadata": {
    "collapsed": false,
    "ExecuteTime": {
     "end_time": "2024-02-11T05:41:06.097123200Z",
     "start_time": "2024-02-11T05:41:06.083750500Z"
    }
   },
   "id": "749120412f29ae09",
   "execution_count": 38
  },
  {
   "cell_type": "code",
   "outputs": [],
   "source": [],
   "metadata": {
    "collapsed": false
   },
   "id": "216d6026af79c5ee"
  }
 ],
 "metadata": {
  "kernelspec": {
   "display_name": "Python 3",
   "language": "python",
   "name": "python3"
  },
  "language_info": {
   "codemirror_mode": {
    "name": "ipython",
    "version": 2
   },
   "file_extension": ".py",
   "mimetype": "text/x-python",
   "name": "python",
   "nbconvert_exporter": "python",
   "pygments_lexer": "ipython2",
   "version": "2.7.6"
  }
 },
 "nbformat": 4,
 "nbformat_minor": 5
}
