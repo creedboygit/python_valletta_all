{
 "cells": [
  {
   "cell_type": "markdown",
   "source": [
    "## 4-2. 디렉터리 다루기"
   ],
   "metadata": {
    "collapsed": false
   },
   "id": "1701576e0fc90c2b"
  },
  {
   "cell_type": "markdown",
   "source": [
    "> ### os.path, pathlib\n",
    "> - `os.path` 와 `pathlib` 모두 파이썬에서 경로와 디렉터리를 처리할 때 자주 사용되는 내장 라이브러리\n",
    "> - `os.path` 는 경로를 **문자열**로 다루고, `pathlib` 은 경로를 **객체**형으로 다루는 차이가 있음\n",
    "> - `pathlib` 은 파이썬 3.4 버전 이후부터 지원\n",
    "> - 파일 찾기, 시스템 경로 등의 기능이 유용 ([비교 전체 표](https://docs.python.org/3/library/pathlib.html))\n",
    ">\n",
    "> | 기능                   | os 모듈            | pathlib 모듈                  |\n",
    "|------------------------|--------------------|-------------------------------|\n",
    "| 현재 디렉토리 가져오기 | os.getcwd()        | pathlib.Path.cwd()            |\n",
    "| 경로 존재 확인         | os.path.exists()   | pathlib.Path.exists()         |\n",
    "| 파일명만 가져오기      | os.path.basename() | pathlib.PurePath().name       |\n",
    "| 디렉토리명 가져오기    | os.path.dirname()  | pathlib.PurePath().parent     |\n",
    "| 경로 연결              | os.path.join()     | pathlib.PurePath().joinpath() |\n",
    "| 디렉토리 여부          | os.path.isdir()    | pathlib.Path.is_dir()         |\n",
    "| 파일 여부              | os.path.isfile()   | pathlib.Path.is_file()        |\n",
    "| 확장자 분리            | os.path.splitext() | pathlib.PurePath().suffix     |"
   ],
   "metadata": {
    "collapsed": false
   },
   "id": "703ec900af70ed9"
  },
  {
   "cell_type": "code",
   "outputs": [],
   "source": [
    "import os\n",
    "import pathlib"
   ],
   "metadata": {
    "collapsed": false,
    "ExecuteTime": {
     "end_time": "2024-02-09T08:25:16.867063Z",
     "start_time": "2024-02-09T08:25:16.863995400Z"
    }
   },
   "id": "5037d9420cc2f34f",
   "execution_count": 1
  },
  {
   "cell_type": "code",
   "outputs": [
    {
     "name": "stdout",
     "output_type": "stream",
     "text": [
      "D:\\940 python_study\\200 study\\220 valletta_all\\python_valletta_all\\Ch04. [디렉토리] 업무효율 향상을 위한 폴더 관리 프로그램 만들기\n"
     ]
    }
   ],
   "source": [
    "print(os.getcwd())"
   ],
   "metadata": {
    "collapsed": false,
    "ExecuteTime": {
     "end_time": "2024-02-09T08:25:22.252191500Z",
     "start_time": "2024-02-09T08:25:22.246440600Z"
    }
   },
   "id": "c651b6bb895f0cce",
   "execution_count": 2
  },
  {
   "cell_type": "code",
   "outputs": [
    {
     "name": "stdout",
     "output_type": "stream",
     "text": [
      "D:\\940 python_study\\200 study\\220 valletta_all\\python_valletta_all\\Ch04. [디렉토리] 업무효율 향상을 위한 폴더 관리 프로그램 만들기\n"
     ]
    }
   ],
   "source": [
    "print(pathlib.Path.cwd())"
   ],
   "metadata": {
    "collapsed": false,
    "ExecuteTime": {
     "end_time": "2024-02-09T08:25:39.753368500Z",
     "start_time": "2024-02-09T08:25:39.705181800Z"
    }
   },
   "id": "20fdba05bc201314",
   "execution_count": 3
  },
  {
   "cell_type": "markdown",
   "source": [
    "### 경로 존재 확인"
   ],
   "metadata": {
    "collapsed": false
   },
   "id": "5bbc2ee391b3cc61"
  },
  {
   "cell_type": "code",
   "outputs": [],
   "source": [
    "dir_file = r'D:\\940 python_study\\200 study'"
   ],
   "metadata": {
    "collapsed": false,
    "ExecuteTime": {
     "end_time": "2024-02-09T08:27:09.122125700Z",
     "start_time": "2024-02-09T08:27:09.118612600Z"
    }
   },
   "id": "171e45053c1530b2",
   "execution_count": 15
  },
  {
   "cell_type": "code",
   "outputs": [
    {
     "name": "stdout",
     "output_type": "stream",
     "text": [
      "True\n"
     ]
    }
   ],
   "source": [
    "print(os.path.exists(dir_file))"
   ],
   "metadata": {
    "collapsed": false,
    "ExecuteTime": {
     "end_time": "2024-02-09T08:29:30.797006700Z",
     "start_time": "2024-02-09T08:29:30.794385900Z"
    }
   },
   "id": "4dfe7d36e9316b2e",
   "execution_count": 19
  },
  {
   "cell_type": "code",
   "outputs": [
    {
     "data": {
      "text/plain": "WindowsPath('D:/940 python_study/200 study')"
     },
     "execution_count": 24,
     "metadata": {},
     "output_type": "execute_result"
    }
   ],
   "source": [
    "pathlib.Path(dir_file)"
   ],
   "metadata": {
    "collapsed": false,
    "ExecuteTime": {
     "end_time": "2024-02-09T08:30:01.094125300Z",
     "start_time": "2024-02-09T08:30:01.087272400Z"
    }
   },
   "id": "11c1440f830bf333",
   "execution_count": 24
  },
  {
   "cell_type": "code",
   "outputs": [
    {
     "name": "stdout",
     "output_type": "stream",
     "text": [
      "True\n"
     ]
    }
   ],
   "source": [
    "print(pathlib.Path.exists(pathlib.Path(dir_file)))"
   ],
   "metadata": {
    "collapsed": false,
    "ExecuteTime": {
     "end_time": "2024-02-09T08:30:03.430543200Z",
     "start_time": "2024-02-09T08:30:03.426140500Z"
    }
   },
   "id": "73e448416ef1279c",
   "execution_count": 25
  },
  {
   "cell_type": "markdown",
   "source": [
    "### 디렉토리 만들기"
   ],
   "metadata": {
    "collapsed": false
   },
   "id": "246c64121390de69"
  },
  {
   "cell_type": "code",
   "outputs": [],
   "source": [
    "dir_os = r'C:\\Users\\VALLETTA\\Desktop\\os\\새폴더'\n",
    "dir_pathlib = pathlib.Path(r'C:\\Users\\VALLETTA\\Desktop\\pathlib\\새폴더')"
   ],
   "metadata": {
    "collapsed": false,
    "ExecuteTime": {
     "end_time": "2024-02-09T08:34:00.392941100Z",
     "start_time": "2024-02-09T08:34:00.389936300Z"
    }
   },
   "id": "48b58316e7d449de",
   "execution_count": 29
  },
  {
   "cell_type": "code",
   "outputs": [],
   "source": [
    "# os\n",
    "if not os.path.exists(dir_os):\n",
    "    os.makedirs(dir_os)"
   ],
   "metadata": {
    "collapsed": false,
    "ExecuteTime": {
     "end_time": "2024-02-09T08:34:00.819288900Z",
     "start_time": "2024-02-09T08:34:00.818282300Z"
    }
   },
   "id": "72f28123875c322",
   "execution_count": 30
  },
  {
   "cell_type": "code",
   "outputs": [],
   "source": [
    "# pathlib\n",
    "# dir_pathlib.mkdir(parents=True, exist_ok=False)\n",
    "dir_pathlib.mkdir(parents=True, exist_ok=True)"
   ],
   "metadata": {
    "collapsed": false,
    "ExecuteTime": {
     "end_time": "2024-02-09T08:36:10.760596200Z",
     "start_time": "2024-02-09T08:36:10.757993Z"
    }
   },
   "id": "5e0666a96892bccd",
   "execution_count": 34
  },
  {
   "cell_type": "markdown",
   "source": [
    "### 파일명 확인"
   ],
   "metadata": {
    "collapsed": false
   },
   "id": "29ef2893e1fb1599"
  },
  {
   "cell_type": "code",
   "outputs": [],
   "source": [
    "# dir_file = r'D:\\940 python_study\\910 강의 자료\\100 패스트캠퍼스\\100 파이썬으로 할 수 있는 모든 것 with 47개 프로젝트 초격차 패키지\\part1\\Part 1. 파이썬 라이브러리를 활용한 기초 프로젝트'\n",
    "dir_file = r'D:\\940 python_study\\200 study\\220 valletta_all\\python_valletta_all'"
   ],
   "metadata": {
    "collapsed": false,
    "ExecuteTime": {
     "end_time": "2024-02-09T08:39:22.139504300Z",
     "start_time": "2024-02-09T08:39:22.133476100Z"
    }
   },
   "id": "76f9fc7073fc44f2",
   "execution_count": 42
  },
  {
   "cell_type": "code",
   "outputs": [
    {
     "name": "stdout",
     "output_type": "stream",
     "text": [
      "['.git', '.gitignore', '.idea', '.python-version', '.venv', 'bmi_calculator.py', 'Ch01. 파이썬 라이브러리의 이해', 'Ch02. 텍스트 뉴스 기사 3줄 요약하기', 'Ch03. 날짜 - 달력 만들기', 'Ch04. [디렉토리] 업무효율 향상을 위한 폴더 관리 프로그램 만들기', 'main.py', 'poetry.lock', 'pyproject.toml', 'README.md', 'requirements.txt', 'requirements2.txt', 'requirements3.txt']\n"
     ]
    }
   ],
   "source": [
    "# 전체 파일 리스트\n",
    "print(os.listdir(dir_file))"
   ],
   "metadata": {
    "collapsed": false,
    "ExecuteTime": {
     "end_time": "2024-02-09T08:39:22.408392800Z",
     "start_time": "2024-02-09T08:39:22.403507500Z"
    }
   },
   "id": "835f111d31edb5c1",
   "execution_count": 43
  },
  {
   "cell_type": "code",
   "outputs": [
    {
     "name": "stdout",
     "output_type": "stream",
     "text": [
      "main.py\n",
      "main.py\n"
     ]
    }
   ],
   "source": [
    "# os\n",
    "print(os.path.basename(os.listdir(dir_file)[10]))\n",
    "print(os.listdir(dir_file)[10])"
   ],
   "metadata": {
    "collapsed": false,
    "ExecuteTime": {
     "end_time": "2024-02-09T08:41:50.500777600Z",
     "start_time": "2024-02-09T08:41:50.492015Z"
    }
   },
   "id": "898fb8aca297264c",
   "execution_count": 51
  },
  {
   "cell_type": "code",
   "outputs": [
    {
     "name": "stdout",
     "output_type": "stream",
     "text": [
      "main.py\n"
     ]
    }
   ],
   "source": [
    "# pathlib\n",
    "print(pathlib.PurePath(os.listdir(dir_file)[10]).name)"
   ],
   "metadata": {
    "collapsed": false,
    "ExecuteTime": {
     "end_time": "2024-02-09T08:40:41.990435400Z",
     "start_time": "2024-02-09T08:40:41.985825400Z"
    }
   },
   "id": "52b2049849f92fb7",
   "execution_count": 49
  },
  {
   "cell_type": "markdown",
   "source": [
    "### 상위 경로명 확인"
   ],
   "metadata": {
    "collapsed": false
   },
   "id": "7d6d3aed5290111b"
  },
  {
   "cell_type": "code",
   "outputs": [
    {
     "data": {
      "text/plain": "'D:\\\\940 python_study\\\\200 study\\\\220 valletta_all\\\\python_valletta_all'"
     },
     "execution_count": 56,
     "metadata": {},
     "output_type": "execute_result"
    }
   ],
   "source": [
    "dir_file"
   ],
   "metadata": {
    "collapsed": false,
    "ExecuteTime": {
     "end_time": "2024-02-09T08:44:38.222252600Z",
     "start_time": "2024-02-09T08:44:38.215807700Z"
    }
   },
   "id": "a911613ad19c93ae",
   "execution_count": 56
  },
  {
   "cell_type": "code",
   "outputs": [
    {
     "name": "stdout",
     "output_type": "stream",
     "text": [
      "D:\\940 python_study\\200 study\\220 valletta_all\n"
     ]
    }
   ],
   "source": [
    "# os\n",
    "print(os.path.dirname(dir_file))"
   ],
   "metadata": {
    "collapsed": false,
    "ExecuteTime": {
     "end_time": "2024-02-09T08:44:43.708736500Z",
     "start_time": "2024-02-09T08:44:43.705959100Z"
    }
   },
   "id": "8d16d59a0eb7e30d",
   "execution_count": 57
  },
  {
   "cell_type": "code",
   "outputs": [
    {
     "name": "stdout",
     "output_type": "stream",
     "text": [
      "D:\\940 python_study\\200 study\\220 valletta_all\n"
     ]
    }
   ],
   "source": [
    "# pathlib\n",
    "print(pathlib.PurePath(dir_file).parent)"
   ],
   "metadata": {
    "collapsed": false,
    "ExecuteTime": {
     "end_time": "2024-02-09T08:44:44.070638300Z",
     "start_time": "2024-02-09T08:44:44.068126400Z"
    }
   },
   "id": "6df81477ff17e626",
   "execution_count": 58
  },
  {
   "cell_type": "markdown",
   "source": [
    "### 경로 연결"
   ],
   "metadata": {
    "collapsed": false
   },
   "id": "a8bff57c94b6fa90"
  },
  {
   "cell_type": "code",
   "outputs": [
    {
     "name": "stdout",
     "output_type": "stream",
     "text": [
      "D:\\940 python_study\\200 study\\220 valletta_all\\python_valletta_all\\os\n"
     ]
    }
   ],
   "source": [
    "# os\n",
    "print(os.path.join(dir_file, 'os'))"
   ],
   "metadata": {
    "collapsed": false,
    "ExecuteTime": {
     "end_time": "2024-02-09T08:46:48.356133100Z",
     "start_time": "2024-02-09T08:46:48.349095400Z"
    }
   },
   "id": "90f90c37bdf77c6c",
   "execution_count": 59
  },
  {
   "cell_type": "code",
   "outputs": [
    {
     "name": "stdout",
     "output_type": "stream",
     "text": [
      "D:\\940 python_study\\200 study\\220 valletta_all\\os\n"
     ]
    }
   ],
   "source": [
    "# os\n",
    "print(os.path.join(os.path.dirname(dir_file), 'os'))"
   ],
   "metadata": {
    "collapsed": false,
    "ExecuteTime": {
     "end_time": "2024-02-09T08:47:26.205572700Z",
     "start_time": "2024-02-09T08:47:26.197817800Z"
    }
   },
   "id": "cc5c7296df62ea6a",
   "execution_count": 61
  },
  {
   "cell_type": "code",
   "outputs": [
    {
     "name": "stdout",
     "output_type": "stream",
     "text": [
      "D:\\940 python_study\\200 study\\220 valletta_all\\python_valletta_all\\pathlib\n"
     ]
    }
   ],
   "source": [
    "# pathlib\n",
    "print(pathlib.PurePath(dir_file).joinpath('pathlib'))"
   ],
   "metadata": {
    "collapsed": false,
    "ExecuteTime": {
     "end_time": "2024-02-09T08:48:04.961178400Z",
     "start_time": "2024-02-09T08:48:04.954062Z"
    }
   },
   "id": "13fca898545907a0",
   "execution_count": 62
  },
  {
   "cell_type": "code",
   "outputs": [
    {
     "name": "stdout",
     "output_type": "stream",
     "text": [
      "D:\\940 python_study\\200 study\\220 valletta_all\\pathlib\n"
     ]
    }
   ],
   "source": [
    "# pathlib\n",
    "print(pathlib.PurePath(pathlib.PurePath(dir_file).parent).joinpath('pathlib'))"
   ],
   "metadata": {
    "collapsed": false,
    "ExecuteTime": {
     "end_time": "2024-02-09T08:48:38.917280200Z",
     "start_time": "2024-02-09T08:48:38.909715100Z"
    }
   },
   "id": "2a503d9d6f83787b",
   "execution_count": 63
  },
  {
   "cell_type": "code",
   "outputs": [],
   "source": [],
   "metadata": {
    "collapsed": false
   },
   "id": "7559d3ad9962a421"
  }
 ],
 "metadata": {
  "kernelspec": {
   "display_name": "Python 3",
   "language": "python",
   "name": "python3"
  },
  "language_info": {
   "codemirror_mode": {
    "name": "ipython",
    "version": 2
   },
   "file_extension": ".py",
   "mimetype": "text/x-python",
   "name": "python",
   "nbconvert_exporter": "python",
   "pygments_lexer": "ipython2",
   "version": "2.7.6"
  }
 },
 "nbformat": 4,
 "nbformat_minor": 5
}
