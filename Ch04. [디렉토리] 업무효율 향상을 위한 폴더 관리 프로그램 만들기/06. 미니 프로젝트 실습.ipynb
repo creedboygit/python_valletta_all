{
 "cells": [
  {
   "cell_type": "markdown",
   "source": [
    "> ### 진행 순서\n",
    "> 1. 압축 파일 정리\n",
    "> 2. 파일명 정리\n",
    "> 3. 폴더 생성\n",
    "> 4. 파일 분류 및 이동"
   ],
   "metadata": {
    "collapsed": false
   },
   "id": "9e77d78477039daf"
  },
  {
   "cell_type": "markdown",
   "source": [
    "### 압축 파일 정리"
   ],
   "metadata": {
    "collapsed": false
   },
   "id": "e71839bf88e8786"
  },
  {
   "cell_type": "code",
   "outputs": [],
   "source": [
    "# 정리 대상 폴더 경로 지정\n",
    "trg_path = './fuzzy_folder'"
   ],
   "metadata": {
    "collapsed": false,
    "ExecuteTime": {
     "end_time": "2024-02-12T10:52:11.646115700Z",
     "start_time": "2024-02-12T10:52:11.643598700Z"
    }
   },
   "id": "e2e081973db985e8",
   "execution_count": 9
  },
  {
   "cell_type": "code",
   "outputs": [],
   "source": [
    "# 압축 파일 확인\n",
    "import glob\n",
    "import os"
   ],
   "metadata": {
    "collapsed": false,
    "ExecuteTime": {
     "end_time": "2024-02-12T10:52:11.982655300Z",
     "start_time": "2024-02-12T10:52:11.981648800Z"
    }
   },
   "id": "36b37bdbabbcd488",
   "execution_count": 10
  },
  {
   "cell_type": "code",
   "outputs": [
    {
     "data": {
      "text/plain": "'D:\\\\940 python_study\\\\200 study\\\\220 valletta_all\\\\python_valletta_all\\\\Ch04. [디렉토리] 업무효율 향상을 위한 폴더 관리 프로그램 만들기'"
     },
     "execution_count": 11,
     "metadata": {},
     "output_type": "execute_result"
    }
   ],
   "source": [
    "os.getcwd()"
   ],
   "metadata": {
    "collapsed": false,
    "ExecuteTime": {
     "end_time": "2024-02-12T10:52:12.372687100Z",
     "start_time": "2024-02-12T10:52:12.368686900Z"
    }
   },
   "id": "d8bad4bb86e0e558",
   "execution_count": 11
  },
  {
   "cell_type": "code",
   "outputs": [
    {
     "name": "stdout",
     "output_type": "stream",
     "text": [
      "['./fuzzy_folder\\\\센터가동현황_물류.zip']\n"
     ]
    }
   ],
   "source": [
    "# 압축 파일 확인\n",
    "zipf_path = []\n",
    "for filename in glob.glob(os.path.join(trg_path, \"**/*.zip\"), recursive=True):\n",
    "    zipf_path.append(filename)\n",
    "    print(zipf_path)"
   ],
   "metadata": {
    "collapsed": false,
    "ExecuteTime": {
     "end_time": "2024-02-12T10:52:12.690229500Z",
     "start_time": "2024-02-12T10:52:12.688014400Z"
    }
   },
   "id": "6007eba10be2d081",
   "execution_count": 12
  },
  {
   "cell_type": "code",
   "outputs": [],
   "source": [
    "# 압축 파일 해제\n",
    "import zipfile\n",
    "\n",
    "for zipf in zipf_path:\n",
    "    with zipfile.ZipFile(zipf) as myzip:\n",
    "        zipinfo = myzip.infolist()\n",
    "        # print(zipinfo)\n",
    "\n",
    "        for info in zipinfo:\n",
    "            # decode_name = info.filename.encode('cp949').decode('euc-kr')  # 한글 깨짐 방지\n",
    "            decode_name = info.filename  # 한글 깨짐 방지\n",
    "            info.filename = os.path.join(trg_path, decode_name)\n",
    "            myzip.extract(info)"
   ],
   "metadata": {
    "collapsed": false,
    "ExecuteTime": {
     "end_time": "2024-02-12T10:58:52.084611200Z",
     "start_time": "2024-02-12T10:58:52.076211400Z"
    }
   },
   "id": "569a1b8b7343b936",
   "execution_count": 20
  },
  {
   "cell_type": "markdown",
   "source": [
    "### 파일명 정리"
   ],
   "metadata": {
    "collapsed": false
   },
   "id": "7609c13d6be69ff0"
  },
  {
   "cell_type": "code",
   "outputs": [],
   "source": [
    "import openpyxl as op"
   ],
   "metadata": {
    "collapsed": false
   },
   "id": "c092b62757bccce1"
  }
 ],
 "metadata": {
  "kernelspec": {
   "display_name": "Python 3",
   "language": "python",
   "name": "python3"
  },
  "language_info": {
   "codemirror_mode": {
    "name": "ipython",
    "version": 2
   },
   "file_extension": ".py",
   "mimetype": "text/x-python",
   "name": "python",
   "nbconvert_exporter": "python",
   "pygments_lexer": "ipython2",
   "version": "2.7.6"
  }
 },
 "nbformat": 4,
 "nbformat_minor": 5
}
