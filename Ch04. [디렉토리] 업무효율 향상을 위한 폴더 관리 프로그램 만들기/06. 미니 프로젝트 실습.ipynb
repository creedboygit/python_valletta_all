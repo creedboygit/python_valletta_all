{
 "cells": [
  {
   "cell_type": "markdown",
   "source": [
    "> ### 진행 순서\n",
    "> 1. 압축 파일 정리\n",
    "> 2. 파일명 정리\n",
    "> 3. 폴더 생성\n",
    "> 4. 파일 분류 및 이동"
   ],
   "metadata": {
    "collapsed": false
   },
   "id": "9e77d78477039daf"
  },
  {
   "cell_type": "markdown",
   "source": [
    "### 압축 파일 정리"
   ],
   "metadata": {
    "collapsed": false
   },
   "id": "e71839bf88e8786"
  },
  {
   "cell_type": "code",
   "outputs": [],
   "source": [
    "# 정리 대상 폴더 경로 지정\n",
    "trg_path = './fuzzy_folder'"
   ],
   "metadata": {
    "collapsed": false,
    "ExecuteTime": {
     "end_time": "2024-02-12T10:52:11.646115700Z",
     "start_time": "2024-02-12T10:52:11.643598700Z"
    }
   },
   "id": "e2e081973db985e8",
   "execution_count": 9
  },
  {
   "cell_type": "code",
   "outputs": [],
   "source": [
    "# 압축 파일 확인\n",
    "import glob\n",
    "import os"
   ],
   "metadata": {
    "collapsed": false,
    "ExecuteTime": {
     "end_time": "2024-02-12T10:52:11.982655300Z",
     "start_time": "2024-02-12T10:52:11.981648800Z"
    }
   },
   "id": "36b37bdbabbcd488",
   "execution_count": 10
  },
  {
   "cell_type": "code",
   "outputs": [
    {
     "data": {
      "text/plain": "'D:\\\\940 python_study\\\\200 study\\\\220 valletta_all\\\\python_valletta_all\\\\Ch04. [디렉토리] 업무효율 향상을 위한 폴더 관리 프로그램 만들기'"
     },
     "execution_count": 11,
     "metadata": {},
     "output_type": "execute_result"
    }
   ],
   "source": [
    "os.getcwd()"
   ],
   "metadata": {
    "collapsed": false,
    "ExecuteTime": {
     "end_time": "2024-02-12T10:52:12.372687100Z",
     "start_time": "2024-02-12T10:52:12.368686900Z"
    }
   },
   "id": "d8bad4bb86e0e558",
   "execution_count": 11
  },
  {
   "cell_type": "code",
   "outputs": [
    {
     "name": "stdout",
     "output_type": "stream",
     "text": [
      "['./fuzzy_folder\\\\센터가동현황_물류.zip']\n"
     ]
    }
   ],
   "source": [
    "# 압축 파일 확인\n",
    "zipf_path = []\n",
    "for filename in glob.glob(os.path.join(trg_path, \"**/*.zip\"), recursive=True):\n",
    "    zipf_path.append(filename)\n",
    "    print(zipf_path)"
   ],
   "metadata": {
    "collapsed": false,
    "ExecuteTime": {
     "end_time": "2024-02-12T10:52:12.690229500Z",
     "start_time": "2024-02-12T10:52:12.688014400Z"
    }
   },
   "id": "6007eba10be2d081",
   "execution_count": 12
  },
  {
   "cell_type": "code",
   "outputs": [],
   "source": [
    "# 압축 파일 해제\n",
    "import zipfile\n",
    "\n",
    "for zipf in zipf_path:\n",
    "    with zipfile.ZipFile(zipf) as myzip:\n",
    "        zipinfo = myzip.infolist()\n",
    "        # print(zipinfo)\n",
    "\n",
    "        for info in zipinfo:\n",
    "            # decode_name = info.filename.encode('cp949').decode('euc-kr')  # 한글 깨짐 방지\n",
    "            decode_name = info.filename  # 한글 깨짐 방지\n",
    "            info.filename = os.path.join(trg_path, decode_name)\n",
    "            myzip.extract(info)"
   ],
   "metadata": {
    "collapsed": false,
    "ExecuteTime": {
     "end_time": "2024-02-12T10:58:52.084611200Z",
     "start_time": "2024-02-12T10:58:52.076211400Z"
    }
   },
   "id": "569a1b8b7343b936",
   "execution_count": 20
  },
  {
   "cell_type": "markdown",
   "source": [
    "### 파일명 정리"
   ],
   "metadata": {
    "collapsed": false
   },
   "id": "7609c13d6be69ff0"
  },
  {
   "cell_type": "code",
   "outputs": [],
   "source": [
    "import openpyxl as op"
   ],
   "metadata": {
    "collapsed": false,
    "ExecuteTime": {
     "end_time": "2024-02-12T11:11:10.747338Z",
     "start_time": "2024-02-12T11:11:10.742825600Z"
    }
   },
   "id": "c092b62757bccce1",
   "execution_count": 28
  },
  {
   "cell_type": "markdown",
   "source": [
    "### 파일명 수정 시트 만들기"
   ],
   "metadata": {
    "collapsed": false
   },
   "id": "b78f63e756c23556"
  },
  {
   "cell_type": "code",
   "outputs": [],
   "source": [
    "# 폴더별 파일명을 받아 엑셀 파일에 작성하는 함수\n",
    "def get_file_name(trg_path):\n",
    "    # 여러 폴더가 있는 폴더 경로를 입력받아 list화 한다.\n",
    "    folder_list = os.listdir(trg_path)\n",
    "\n",
    "    # openpyxl Workbook 생성\n",
    "    wb = op.Workbook()\n",
    "\n",
    "    # 새로 생성한 Workbook의 활성화 시트를 ws로 정의\n",
    "    ws = wb.active\n",
    "\n",
    "    i = 2\n",
    "\n",
    "    current_folder = trg_path  # 현재 폴더 위치\n",
    "    file_list = os.listdir(current_folder)  # 현재 폴더 위치의 파일들을 리스트화\n",
    "\n",
    "    # 현재 폴더 위치의 리스트화 된 파일을 다시 for문을 통해 접근\n",
    "    for fname in file_list:\n",
    "        ws.cell(row=i, column=1).value = current_folder + \"/\"  # i행 1열에 현재 폴더 경로 입력\n",
    "        ws.cell(row=i, column=2).value = fname  # i행 2열에 파일명(변경전) 입력\n",
    "        i += 1\n",
    "\n",
    "    ws.cell(row=1, column=1).value = \"파일경로\"\n",
    "    ws.cell(row=1, column=2).value = \"파일명(변경전)\"\n",
    "    ws.cell(row=1, column=3).value = \"파일명(변경후)\"\n",
    "\n",
    "    # 위에서 작성된 엑셀 파일을 filelist.xlsx라는 이름으로 저장\n",
    "    wb.save(os.path.join(trg_path, \"filelist.xlsx\"))"
   ],
   "metadata": {
    "collapsed": false,
    "ExecuteTime": {
     "end_time": "2024-02-12T11:25:51.966658400Z",
     "start_time": "2024-02-12T11:25:51.963761200Z"
    }
   },
   "id": "1db1327101ee5a7f",
   "execution_count": 50
  },
  {
   "cell_type": "code",
   "outputs": [],
   "source": [
    "get_file_name(trg_path)"
   ],
   "metadata": {
    "collapsed": false,
    "ExecuteTime": {
     "end_time": "2024-02-12T11:33:48.052311300Z",
     "start_time": "2024-02-12T11:33:48.043225900Z"
    }
   },
   "id": "d7972170db5865d5",
   "execution_count": 55
  },
  {
   "cell_type": "code",
   "outputs": [],
   "source": [],
   "metadata": {
    "collapsed": false
   },
   "id": "3405e97a6920e532"
  }
 ],
 "metadata": {
  "kernelspec": {
   "display_name": "Python 3",
   "language": "python",
   "name": "python3"
  },
  "language_info": {
   "codemirror_mode": {
    "name": "ipython",
    "version": 2
   },
   "file_extension": ".py",
   "mimetype": "text/x-python",
   "name": "python",
   "nbconvert_exporter": "python",
   "pygments_lexer": "ipython2",
   "version": "2.7.6"
  }
 },
 "nbformat": 4,
 "nbformat_minor": 5
}
