{
 "cells": [
  {
   "cell_type": "markdown",
   "source": [
    "> ### glob\n",
    "> * `glob`는 패턴을 이용하여 파일을 검색할 때 사용하는 모듈"
   ],
   "metadata": {
    "collapsed": false
   },
   "id": "3e57570ea2cfe1ef"
  },
  {
   "cell_type": "markdown",
   "source": [
    "### 파일 확장자로 찾기"
   ],
   "metadata": {
    "collapsed": false
   },
   "id": "422595ebb45d6994"
  },
  {
   "cell_type": "code",
   "outputs": [],
   "source": [
    "\n",
    "import glob\n",
    "import os"
   ],
   "metadata": {
    "collapsed": false,
    "ExecuteTime": {
     "end_time": "2024-02-11T08:01:47.854661200Z",
     "start_time": "2024-02-11T08:01:47.849509800Z"
    }
   },
   "id": "cc5d327b764e32c9",
   "execution_count": 1
  },
  {
   "cell_type": "code",
   "outputs": [
    {
     "data": {
      "text/plain": "'D:\\\\940 python_study\\\\200 study\\\\220 valletta_all\\\\python_valletta_all\\\\Ch04. [디렉토리] 업무효율 향상을 위한 폴더 관리 프로그램 만들기'"
     },
     "execution_count": 2,
     "metadata": {},
     "output_type": "execute_result"
    }
   ],
   "source": [
    "# 현재 디렉토리 확인\n",
    "os.getcwd()"
   ],
   "metadata": {
    "collapsed": false,
    "ExecuteTime": {
     "end_time": "2024-02-11T08:01:51.723160200Z",
     "start_time": "2024-02-11T08:01:51.711554200Z"
    }
   },
   "id": "e7963cb79ea4cf77",
   "execution_count": 2
  },
  {
   "cell_type": "code",
   "outputs": [
    {
     "name": "stdout",
     "output_type": "stream",
     "text": [
      "newfile.txt\n"
     ]
    }
   ],
   "source": [
    "# txt 파일 찾기 - 현재 경로\n",
    "for filename in glob.glob(\"*ewfile.txt\"):\n",
    "    print(filename)"
   ],
   "metadata": {
    "collapsed": false,
    "ExecuteTime": {
     "end_time": "2024-02-11T08:04:42.638253700Z",
     "start_time": "2024-02-11T08:04:42.630805500Z"
    }
   },
   "id": "cbc0017513522f72",
   "execution_count": 16
  },
  {
   "cell_type": "code",
   "outputs": [
    {
     "name": "stdout",
     "output_type": "stream",
     "text": [
      "sample\\새파일1.txt\n",
      "sample\\새파일2.txt\n",
      "sample\\새파일3.txt\n"
     ]
    }
   ],
   "source": [
    "# txt 파일 찾기 - 하위 경로\n",
    "for filename in glob.glob(\"**/*.txt\"):\n",
    "    print(filename)"
   ],
   "metadata": {
    "collapsed": false,
    "ExecuteTime": {
     "end_time": "2024-02-11T08:02:45.917469900Z",
     "start_time": "2024-02-11T08:02:45.912375Z"
    }
   },
   "id": "90141be93b87d81c",
   "execution_count": 5
  },
  {
   "cell_type": "code",
   "outputs": [
    {
     "name": "stdout",
     "output_type": "stream",
     "text": [
      "sample\\새파일1.txt\n",
      "sample\\새파일2.txt\n",
      "sample\\새파일3.txt\n"
     ]
    }
   ],
   "source": [
    "# txt 파일 찾기 - 현재와 하위 경로 모두 포함\n",
    "# for filename in glob.glob(\"../*.txt\", recursive=True):\n",
    "for filename in glob.glob(\"**/*.txt\", recursive=True):\n",
    "    print(filename)"
   ],
   "metadata": {
    "collapsed": false,
    "ExecuteTime": {
     "end_time": "2024-02-11T08:07:58.002760400Z",
     "start_time": "2024-02-11T08:07:57.996503400Z"
    }
   },
   "id": "31d9a58034599644",
   "execution_count": 20
  },
  {
   "cell_type": "code",
   "outputs": [],
   "source": [],
   "metadata": {
    "collapsed": false
   },
   "id": "17cf746ff83cae7c"
  }
 ],
 "metadata": {
  "kernelspec": {
   "display_name": "Python 3",
   "language": "python",
   "name": "python3"
  },
  "language_info": {
   "codemirror_mode": {
    "name": "ipython",
    "version": 2
   },
   "file_extension": ".py",
   "mimetype": "text/x-python",
   "name": "python",
   "nbconvert_exporter": "python",
   "pygments_lexer": "ipython2",
   "version": "2.7.6"
  }
 },
 "nbformat": 4,
 "nbformat_minor": 5
}
