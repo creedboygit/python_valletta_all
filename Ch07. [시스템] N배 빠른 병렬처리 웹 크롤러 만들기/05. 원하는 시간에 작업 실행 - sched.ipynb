{
 "cells": [
  {
   "cell_type": "markdown",
   "source": [
    "# sched\n",
    "- sched 는 지정된 시간 간격으로 원하는 이벤트를 실행하게 하는 이벤트 스케줄러 표준 라이브러리\n",
    "- 사용 순서\n",
    "    1. 스케줄러 객체 생성\n",
    "    1. enter(실행 간격(초), 우선순위, 실행할 함수, 함수에 전달할 인자)를 사용하여 실행할 이벤트 등록\n",
    "    1. run() 스케줄러 실행"
   ],
   "metadata": {
    "collapsed": false
   },
   "id": "880f4fc0732f0ff2"
  },
  {
   "cell_type": "markdown",
   "source": [
    "# sched 예제\n",
    "1. 프로그램 실행 후 5초 후에 print_a() 호출\n",
    "2. 프로그램 실행 후 3초 후에 print_b() 호출\n",
    "3. 프로그램 실행 후 7초 후에 print_c() 호출"
   ],
   "metadata": {
    "collapsed": false
   },
   "id": "59f37fc9d2316191"
  },
  {
   "cell_type": "code",
   "outputs": [],
   "source": [
    "import sched\n",
    "import time"
   ],
   "metadata": {
    "collapsed": false,
    "ExecuteTime": {
     "end_time": "2024-02-17T12:57:58.238767700Z",
     "start_time": "2024-02-17T12:57:58.232084900Z"
    }
   },
   "id": "6de0e957fcf64371",
   "execution_count": 4
  },
  {
   "cell_type": "code",
   "outputs": [
    {
     "name": "stdout",
     "output_type": "stream",
     "text": [
      "3.0  초 경과\n",
      "print_b 함수 실행됨\n",
      "5.0  초 경과\n",
      "print_a 함수 실행됨\n",
      "7.0  초 경과\n",
      "print_c 함수 실행됨\n"
     ]
    }
   ],
   "source": [
    "start = time.time()\n",
    "\n",
    "\n",
    "def print_a(a):\n",
    "    print(round(time.time() - start, 2), ' 초 경과')\n",
    "    print(a)\n",
    "\n",
    "\n",
    "def print_b(b):\n",
    "    print(round(time.time() - start, 2), ' 초 경과')\n",
    "    print(b)\n",
    "\n",
    "\n",
    "def print_c(c):\n",
    "    print(round(time.time() - start, 2), ' 초 경과')\n",
    "    print(c)\n",
    "\n",
    "\n",
    "s = sched.scheduler()  # 스케줄러 객체 생성\n",
    "s.enter(5, 1, print_a, ('print_a 함수 실행됨',))\n",
    "s.enter(3, 1, print_b, ('print_b 함수 실행됨',))\n",
    "s.enter(7, 1, print_c, ('print_c 함수 실행됨',))\n",
    "\n",
    "s.run()"
   ],
   "metadata": {
    "collapsed": false,
    "ExecuteTime": {
     "end_time": "2024-02-17T12:58:05.246735200Z",
     "start_time": "2024-02-17T12:57:58.235695300Z"
    }
   },
   "id": "b239ea445149bceb",
   "execution_count": 5
  },
  {
   "cell_type": "markdown",
   "source": [
    "# schedule\n",
    "- sched 와 마찬가지로 일정한 시간 간격으로 프로그램을 실행시켜주는 외장 라이브러리\n",
    "- 파이썬의 원하는 함수들을 원하는 실행주기를 (초, 분, 시간, 요일, 특정 시각) 손쉽게 설정이 가능\n",
    "- 시간 관련 내장 라이브러리인 time 과 주로 함께 사용됨"
   ],
   "metadata": {
    "collapsed": false
   },
   "id": "1f565d81cf35cc94"
  },
  {
   "cell_type": "code",
   "outputs": [],
   "source": [
    "import schedule  # pip install schedule\n",
    "import time"
   ],
   "metadata": {
    "collapsed": false,
    "ExecuteTime": {
     "end_time": "2024-02-17T13:07:28.939616100Z",
     "start_time": "2024-02-17T13:07:28.915611800Z"
    }
   },
   "id": "93dc9e8f28b434e5",
   "execution_count": 22
  },
  {
   "cell_type": "code",
   "outputs": [],
   "source": [
    "def message(interval):\n",
    "    print(f\"{interval} 간격 스케줄 실행중...\")"
   ],
   "metadata": {
    "collapsed": false,
    "ExecuteTime": {
     "end_time": "2024-02-17T13:07:29.245435Z",
     "start_time": "2024-02-17T13:07:29.241288800Z"
    }
   },
   "id": "ffbda34e366b65ba",
   "execution_count": 23
  },
  {
   "cell_type": "markdown",
   "source": [
    "# 시, 분, 초 단위 실행"
   ],
   "metadata": {
    "collapsed": false
   },
   "id": "2a3d3662ba86fd94"
  },
  {
   "cell_type": "markdown",
   "source": [
    "### 5초에 한번씩 함수 실행"
   ],
   "metadata": {
    "collapsed": false
   },
   "id": "37cb9ca0b4cdabd5"
  },
  {
   "cell_type": "code",
   "outputs": [
    {
     "data": {
      "text/plain": "Every 3 seconds do message('5초') (last run: [never], next run: 2024-02-17 22:07:34)"
     },
     "execution_count": 24,
     "metadata": {},
     "output_type": "execute_result"
    }
   ],
   "source": [
    "# 5초에 한번씩 함수 실행\n",
    "schedule.every(3).seconds.do(message, '5초')  # 이벤트 등록"
   ],
   "metadata": {
    "collapsed": false,
    "ExecuteTime": {
     "end_time": "2024-02-17T13:07:31.117282600Z",
     "start_time": "2024-02-17T13:07:31.112769Z"
    }
   },
   "id": "4c3c524e555201b4",
   "execution_count": 24
  },
  {
   "cell_type": "code",
   "outputs": [
    {
     "name": "stdout",
     "output_type": "stream",
     "text": [
      "5초 간격 스케줄 실행중...\n",
      "5초 간격 스케줄 실행중...\n"
     ]
    },
    {
     "ename": "KeyboardInterrupt",
     "evalue": "",
     "output_type": "error",
     "traceback": [
      "\u001B[1;31m---------------------------------------------------------------------------\u001B[0m",
      "\u001B[1;31mKeyboardInterrupt\u001B[0m                         Traceback (most recent call last)",
      "Cell \u001B[1;32mIn[25], line 5\u001B[0m\n\u001B[0;32m      1\u001B[0m \u001B[38;5;66;03m# 스케줄러 실행\u001B[39;00m\n\u001B[0;32m      2\u001B[0m \u001B[38;5;66;03m# while True:\u001B[39;00m\n\u001B[0;32m      3\u001B[0m i \u001B[38;5;241m=\u001B[39m \u001B[38;5;241m1\u001B[39m\n\u001B[1;32m----> 5\u001B[0m \u001B[38;5;28;01mwhile\u001B[39;00m \u001B[38;5;28;01mTrue\u001B[39;00m:\n\u001B[0;32m      6\u001B[0m     schedule\u001B[38;5;241m.\u001B[39mrun_pending()\n",
      "\u001B[1;31mKeyboardInterrupt\u001B[0m: "
     ]
    }
   ],
   "source": [
    "# 스케줄러 실행\n",
    "# while True:\n",
    "i = 1\n",
    "\n",
    "while True:\n",
    "    schedule.run_pending()"
   ],
   "metadata": {
    "collapsed": false,
    "ExecuteTime": {
     "end_time": "2024-02-17T13:07:37.367827900Z",
     "start_time": "2024-02-17T13:07:33.009539500Z"
    }
   },
   "id": "f63363a6403a77c1",
   "execution_count": 25
  },
  {
   "cell_type": "markdown",
   "source": [
    "# 1분에 한번씩 함수 실행"
   ],
   "metadata": {
    "collapsed": false
   },
   "id": "65db59fd90e3c1bc"
  },
  {
   "cell_type": "code",
   "outputs": [],
   "source": [
    "# 스케줄러 초기화\n",
    "schedule.clear()"
   ],
   "metadata": {
    "collapsed": false,
    "ExecuteTime": {
     "end_time": "2024-02-17T13:08:26.206209800Z",
     "start_time": "2024-02-17T13:08:26.201595Z"
    }
   },
   "id": "90f1fca62b9e5691",
   "execution_count": 28
  },
  {
   "cell_type": "code",
   "outputs": [
    {
     "data": {
      "text/plain": "Every 1 minute do message('1분') (last run: [never], next run: 2024-02-17 22:09:27)"
     },
     "execution_count": 29,
     "metadata": {},
     "output_type": "execute_result"
    }
   ],
   "source": [
    "# 1분에 한번씩 함수 실행\n",
    "schedule.every(1).minutes.do(message, '1분')  # 이벤트 등록"
   ],
   "metadata": {
    "collapsed": false,
    "ExecuteTime": {
     "end_time": "2024-02-17T13:08:27.163752800Z",
     "start_time": "2024-02-17T13:08:27.158749Z"
    }
   },
   "id": "a9d0b8bd9ab6e9b7",
   "execution_count": 29
  },
  {
   "cell_type": "code",
   "outputs": [
    {
     "ename": "KeyboardInterrupt",
     "evalue": "",
     "output_type": "error",
     "traceback": [
      "\u001B[1;31m---------------------------------------------------------------------------\u001B[0m",
      "\u001B[1;31mKeyboardInterrupt\u001B[0m                         Traceback (most recent call last)",
      "Cell \u001B[1;32mIn[30], line 3\u001B[0m\n\u001B[0;32m      1\u001B[0m \u001B[38;5;66;03m# 스케줄러 실행\u001B[39;00m\n\u001B[0;32m      2\u001B[0m \u001B[38;5;28;01mwhile\u001B[39;00m \u001B[38;5;28;01mTrue\u001B[39;00m:\n\u001B[1;32m----> 3\u001B[0m     \u001B[43mschedule\u001B[49m\u001B[38;5;241;43m.\u001B[39;49m\u001B[43mrun_pending\u001B[49m\u001B[43m(\u001B[49m\u001B[43m)\u001B[49m\n",
      "File \u001B[1;32mD:\\940 python_study\\200 study\\220 valletta_all\\python_valletta_all\\.venv\\Lib\\site-packages\\schedule\\__init__.py:822\u001B[0m, in \u001B[0;36mrun_pending\u001B[1;34m()\u001B[0m\n\u001B[0;32m    818\u001B[0m \u001B[38;5;28;01mdef\u001B[39;00m \u001B[38;5;21mrun_pending\u001B[39m() \u001B[38;5;241m-\u001B[39m\u001B[38;5;241m>\u001B[39m \u001B[38;5;28;01mNone\u001B[39;00m:\n\u001B[0;32m    819\u001B[0m \u001B[38;5;250m    \u001B[39m\u001B[38;5;124;03m\"\"\"Calls :meth:`run_pending <Scheduler.run_pending>` on the\u001B[39;00m\n\u001B[0;32m    820\u001B[0m \u001B[38;5;124;03m    :data:`default scheduler instance <default_scheduler>`.\u001B[39;00m\n\u001B[0;32m    821\u001B[0m \u001B[38;5;124;03m    \"\"\"\u001B[39;00m\n\u001B[1;32m--> 822\u001B[0m     \u001B[43mdefault_scheduler\u001B[49m\u001B[38;5;241;43m.\u001B[39;49m\u001B[43mrun_pending\u001B[49m\u001B[43m(\u001B[49m\u001B[43m)\u001B[49m\n",
      "File \u001B[1;32mD:\\940 python_study\\200 study\\220 valletta_all\\python_valletta_all\\.venv\\Lib\\site-packages\\schedule\\__init__.py:99\u001B[0m, in \u001B[0;36mScheduler.run_pending\u001B[1;34m(self)\u001B[0m\n\u001B[0;32m     89\u001B[0m \u001B[38;5;250m\u001B[39m\u001B[38;5;124;03m\"\"\"\u001B[39;00m\n\u001B[0;32m     90\u001B[0m \u001B[38;5;124;03mRun all jobs that are scheduled to run.\u001B[39;00m\n\u001B[0;32m     91\u001B[0m \n\u001B[1;32m   (...)\u001B[0m\n\u001B[0;32m     96\u001B[0m \u001B[38;5;124;03mbetween but only once.\u001B[39;00m\n\u001B[0;32m     97\u001B[0m \u001B[38;5;124;03m\"\"\"\u001B[39;00m\n\u001B[0;32m     98\u001B[0m runnable_jobs \u001B[38;5;241m=\u001B[39m (job \u001B[38;5;28;01mfor\u001B[39;00m job \u001B[38;5;129;01min\u001B[39;00m \u001B[38;5;28mself\u001B[39m\u001B[38;5;241m.\u001B[39mjobs \u001B[38;5;28;01mif\u001B[39;00m job\u001B[38;5;241m.\u001B[39mshould_run)\n\u001B[1;32m---> 99\u001B[0m \u001B[38;5;28;01mfor\u001B[39;00m job \u001B[38;5;129;01min\u001B[39;00m \u001B[38;5;28;43msorted\u001B[39;49m\u001B[43m(\u001B[49m\u001B[43mrunnable_jobs\u001B[49m\u001B[43m)\u001B[49m:\n\u001B[0;32m    100\u001B[0m     \u001B[38;5;28mself\u001B[39m\u001B[38;5;241m.\u001B[39m_run_job(job)\n",
      "File \u001B[1;32mD:\\940 python_study\\200 study\\220 valletta_all\\python_valletta_all\\.venv\\Lib\\site-packages\\schedule\\__init__.py:98\u001B[0m, in \u001B[0;36m<genexpr>\u001B[1;34m(.0)\u001B[0m\n\u001B[0;32m     88\u001B[0m \u001B[38;5;28;01mdef\u001B[39;00m \u001B[38;5;21mrun_pending\u001B[39m(\u001B[38;5;28mself\u001B[39m) \u001B[38;5;241m-\u001B[39m\u001B[38;5;241m>\u001B[39m \u001B[38;5;28;01mNone\u001B[39;00m:\n\u001B[0;32m     89\u001B[0m \u001B[38;5;250m    \u001B[39m\u001B[38;5;124;03m\"\"\"\u001B[39;00m\n\u001B[0;32m     90\u001B[0m \u001B[38;5;124;03m    Run all jobs that are scheduled to run.\u001B[39;00m\n\u001B[0;32m     91\u001B[0m \n\u001B[1;32m   (...)\u001B[0m\n\u001B[0;32m     96\u001B[0m \u001B[38;5;124;03m    between but only once.\u001B[39;00m\n\u001B[0;32m     97\u001B[0m \u001B[38;5;124;03m    \"\"\"\u001B[39;00m\n\u001B[1;32m---> 98\u001B[0m     runnable_jobs \u001B[38;5;241m=\u001B[39m (job \u001B[38;5;28;01mfor\u001B[39;00m job \u001B[38;5;129;01min\u001B[39;00m \u001B[38;5;28mself\u001B[39m\u001B[38;5;241m.\u001B[39mjobs \u001B[38;5;28;01mif\u001B[39;00m \u001B[43mjob\u001B[49m\u001B[38;5;241;43m.\u001B[39;49m\u001B[43mshould_run\u001B[49m)\n\u001B[0;32m     99\u001B[0m     \u001B[38;5;28;01mfor\u001B[39;00m job \u001B[38;5;129;01min\u001B[39;00m \u001B[38;5;28msorted\u001B[39m(runnable_jobs):\n\u001B[0;32m    100\u001B[0m         \u001B[38;5;28mself\u001B[39m\u001B[38;5;241m.\u001B[39m_run_job(job)\n",
      "File \u001B[1;32mD:\\940 python_study\\200 study\\220 valletta_all\\python_valletta_all\\.venv\\Lib\\site-packages\\schedule\\__init__.py:668\u001B[0m, in \u001B[0;36mJob.should_run\u001B[1;34m(self)\u001B[0m\n\u001B[0;32m    665\u001B[0m     \u001B[38;5;28mself\u001B[39m\u001B[38;5;241m.\u001B[39mscheduler\u001B[38;5;241m.\u001B[39mjobs\u001B[38;5;241m.\u001B[39mappend(\u001B[38;5;28mself\u001B[39m)\n\u001B[0;32m    666\u001B[0m     \u001B[38;5;28;01mreturn\u001B[39;00m \u001B[38;5;28mself\u001B[39m\n\u001B[1;32m--> 668\u001B[0m \u001B[38;5;129m@property\u001B[39m\n\u001B[0;32m    669\u001B[0m \u001B[38;5;28;01mdef\u001B[39;00m \u001B[38;5;21mshould_run\u001B[39m(\u001B[38;5;28mself\u001B[39m) \u001B[38;5;241m-\u001B[39m\u001B[38;5;241m>\u001B[39m \u001B[38;5;28mbool\u001B[39m:\n\u001B[0;32m    670\u001B[0m \u001B[38;5;250m    \u001B[39m\u001B[38;5;124;03m\"\"\"\u001B[39;00m\n\u001B[0;32m    671\u001B[0m \u001B[38;5;124;03m    :return: ``True`` if the job should be run now.\u001B[39;00m\n\u001B[0;32m    672\u001B[0m \u001B[38;5;124;03m    \"\"\"\u001B[39;00m\n\u001B[0;32m    673\u001B[0m     \u001B[38;5;28;01massert\u001B[39;00m \u001B[38;5;28mself\u001B[39m\u001B[38;5;241m.\u001B[39mnext_run \u001B[38;5;129;01mis\u001B[39;00m \u001B[38;5;129;01mnot\u001B[39;00m \u001B[38;5;28;01mNone\u001B[39;00m, \u001B[38;5;124m\"\u001B[39m\u001B[38;5;124mmust run _schedule_next_run before\u001B[39m\u001B[38;5;124m\"\u001B[39m\n",
      "\u001B[1;31mKeyboardInterrupt\u001B[0m: "
     ]
    }
   ],
   "source": [
    "# 스케줄러 실행\n",
    "while True:\n",
    "    schedule.run_pending()"
   ],
   "metadata": {
    "collapsed": false,
    "ExecuteTime": {
     "end_time": "2024-02-17T13:08:55.416532700Z",
     "start_time": "2024-02-17T13:08:27.872951300Z"
    }
   },
   "id": "c16100b82553dc3e",
   "execution_count": 30
  },
  {
   "cell_type": "markdown",
   "source": [
    "# 1시간에 한번씩 함수 실행"
   ],
   "metadata": {
    "collapsed": false
   },
   "id": "dc592f8d9754bb99"
  },
  {
   "cell_type": "code",
   "outputs": [],
   "source": [
    "# 스케줄러 초기화\n",
    "schedule.clear()"
   ],
   "metadata": {
    "collapsed": false,
    "ExecuteTime": {
     "end_time": "2024-02-17T13:09:18.271360700Z",
     "start_time": "2024-02-17T13:09:18.255004400Z"
    }
   },
   "id": "9cade1b618c59d2e",
   "execution_count": 31
  },
  {
   "cell_type": "code",
   "outputs": [
    {
     "data": {
      "text/plain": "Every 1 hour do message('1시간') (last run: [never], next run: 2024-02-17 23:09:39)"
     },
     "execution_count": 32,
     "metadata": {},
     "output_type": "execute_result"
    }
   ],
   "source": [
    "# 1시간에 한번씩 함수 실행\n",
    "schedule.every(1).hour.do(message, '1시간')"
   ],
   "metadata": {
    "collapsed": false,
    "ExecuteTime": {
     "end_time": "2024-02-17T13:09:39.902768300Z",
     "start_time": "2024-02-17T13:09:39.887243800Z"
    }
   },
   "id": "da363d0cf90c9e6d",
   "execution_count": 32
  },
  {
   "cell_type": "code",
   "outputs": [],
   "source": [
    "# 스케줄러 실행\n",
    "while True:\n",
    "    schedule.run_pending()"
   ],
   "metadata": {
    "collapsed": false
   },
   "id": "77516dede155fccf"
  },
  {
   "cell_type": "markdown",
   "source": [
    "# 일, 주 단위 실행"
   ],
   "metadata": {
    "collapsed": false
   },
   "id": "8002a77777845329"
  },
  {
   "cell_type": "code",
   "outputs": [],
   "source": [
    "# 스케줄러 초기화"
   ],
   "metadata": {
    "collapsed": false,
    "ExecuteTime": {
     "end_time": "2024-02-17T13:10:36.904161200Z",
     "start_time": "2024-02-17T13:10:36.875906100Z"
    }
   },
   "id": "f286d01a9fb5cc6f",
   "execution_count": 33
  },
  {
   "cell_type": "code",
   "outputs": [],
   "source": [
    "schedule.clear()"
   ],
   "metadata": {
    "collapsed": false,
    "ExecuteTime": {
     "end_time": "2024-02-17T13:10:41.004138Z",
     "start_time": "2024-02-17T13:10:40.991363900Z"
    }
   },
   "id": "4b4fe5acb7498d1f",
   "execution_count": 34
  },
  {
   "cell_type": "code",
   "outputs": [
    {
     "data": {
      "text/plain": "Every 1 week do message('1주') (last run: [never], next run: 2024-02-24 22:11:16)"
     },
     "execution_count": 36,
     "metadata": {},
     "output_type": "execute_result"
    }
   ],
   "source": [
    "# 1일에 한번씩 함수 실행\n",
    "schedule.every(1).days.do(message, '1일')\n",
    "\n",
    "# 1주에 한번씩 함수 실행\n",
    "schedule.every(1).weeks.do(message, '1주')"
   ],
   "metadata": {
    "collapsed": false,
    "ExecuteTime": {
     "end_time": "2024-02-17T13:11:16.967687900Z",
     "start_time": "2024-02-17T13:11:16.954009300Z"
    }
   },
   "id": "ae629d6081f1aca8",
   "execution_count": 36
  },
  {
   "cell_type": "code",
   "outputs": [],
   "source": [
    "# 스케줄러 실행\n",
    "while True:\n",
    "    schedule.run_pending()"
   ],
   "metadata": {
    "collapsed": false
   },
   "id": "18ba374676bae568"
  },
  {
   "cell_type": "markdown",
   "source": [
    "# 매일 정해진 시각에 실행"
   ],
   "metadata": {
    "collapsed": false
   },
   "id": "178978a11bd4270"
  },
  {
   "cell_type": "code",
   "outputs": [],
   "source": [
    "# 스케줄러 초기화\n",
    "schedule.clear()"
   ],
   "metadata": {
    "collapsed": false,
    "ExecuteTime": {
     "end_time": "2024-02-17T13:11:45.982541300Z",
     "start_time": "2024-02-17T13:11:45.949879800Z"
    }
   },
   "id": "7e079d50a509928e",
   "execution_count": 37
  },
  {
   "cell_type": "code",
   "outputs": [
    {
     "data": {
      "text/plain": "Every 1 day at 11:11:11 do message('1일') (last run: [never], next run: 2024-02-18 11:11:11)"
     },
     "execution_count": 39,
     "metadata": {},
     "output_type": "execute_result"
    }
   ],
   "source": [
    "# 매일 13시 30분에 함수 실행\n",
    "schedule.every().day.at(\"13:30\").do(message, '1일')\n",
    "\n",
    "# 매일 \"11:11\"11\"에 함수 실행\n",
    "schedule.every().day.at(\"11:11:11\").do(message, '1일')"
   ],
   "metadata": {
    "collapsed": false,
    "ExecuteTime": {
     "end_time": "2024-02-17T13:12:41.614084Z",
     "start_time": "2024-02-17T13:12:41.601216300Z"
    }
   },
   "id": "d8959d1bf11903ee",
   "execution_count": 39
  },
  {
   "cell_type": "code",
   "outputs": [],
   "source": [],
   "metadata": {
    "collapsed": false,
    "ExecuteTime": {
     "end_time": "2024-02-17T13:12:12.069859Z",
     "start_time": "2024-02-17T13:12:12.065770200Z"
    }
   },
   "id": "8d95b594725cbe19",
   "execution_count": 38
  },
  {
   "cell_type": "code",
   "outputs": [],
   "source": [],
   "metadata": {
    "collapsed": false
   },
   "id": "64e57618691b8335"
  }
 ],
 "metadata": {
  "kernelspec": {
   "display_name": "Python 3",
   "language": "python",
   "name": "python3"
  },
  "language_info": {
   "codemirror_mode": {
    "name": "ipython",
    "version": 2
   },
   "file_extension": ".py",
   "mimetype": "text/x-python",
   "name": "python",
   "nbconvert_exporter": "python",
   "pygments_lexer": "ipython2",
   "version": "2.7.6"
  }
 },
 "nbformat": 4,
 "nbformat_minor": 5
}
