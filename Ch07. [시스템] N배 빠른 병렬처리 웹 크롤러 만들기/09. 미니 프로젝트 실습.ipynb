{
 "cells": [
  {
   "cell_type": "markdown",
   "source": [
    "# 진행 순서\n",
    "1. 로깅 설정\n",
    "2. 시스템 정보 확인\n",
    "3. 웹 크롤러 만들기\n",
    "4. 병렬처리 셋팅\n",
    "5. 실행 스케줄러 설정\n",
    "6. 매개변수를 입력 받는 시스템 명령어 실행"
   ],
   "metadata": {
    "collapsed": false
   },
   "id": "495071fa19b42b12"
  },
  {
   "cell_type": "markdown",
   "source": [
    "# 로깅 설정"
   ],
   "metadata": {
    "collapsed": false
   },
   "id": "628161d919697409"
  },
  {
   "cell_type": "code",
   "outputs": [],
   "source": [
    "import logging"
   ],
   "metadata": {
    "collapsed": false,
    "ExecuteTime": {
     "end_time": "2024-02-17T15:05:10.348009Z",
     "start_time": "2024-02-17T15:05:10.343515400Z"
    }
   },
   "id": "35b0ff13bad1312",
   "execution_count": 1
  },
  {
   "cell_type": "code",
   "outputs": [],
   "source": [
    "# 로거 생성\n",
    "logger = logging.getLogger()\n",
    "\n",
    "# 로그의 출력 기준 설정\n",
    "logger.setLevel(logging.INFO)\n",
    "\n",
    "# log 형식 지정\n",
    "formatter = logging.Formatter('%(asctime)s - %(name)s - %(levelname)s - %(message)s')\n",
    "\n",
    "# log 출력\n",
    "stream_handler = logging.StreamHandler()\n",
    "stream_handler.setFormatter(formatter)\n",
    "logger.addHandler(stream_handler)\n",
    "\n",
    "# log 파일 생성\n",
    "file_handler = logging.FileHandler('output.log', encoding='utf-8')\n",
    "file_handler.setFormatter(formatter)\n",
    "logger.addHandler(file_handler)"
   ],
   "metadata": {
    "collapsed": false,
    "ExecuteTime": {
     "end_time": "2024-02-17T15:05:11.348887900Z",
     "start_time": "2024-02-17T15:05:11.346575Z"
    }
   },
   "id": "80707b32eccd7d8",
   "execution_count": 2
  },
  {
   "cell_type": "markdown",
   "source": [
    "# 시스템 정보 확인"
   ],
   "metadata": {
    "collapsed": false
   },
   "id": "1fd3a86b755eabbd"
  },
  {
   "cell_type": "code",
   "outputs": [],
   "source": [
    "import platform, psutil\n",
    "import os"
   ],
   "metadata": {
    "collapsed": false,
    "ExecuteTime": {
     "end_time": "2024-02-17T15:05:15.211013600Z",
     "start_time": "2024-02-17T15:05:15.202814800Z"
    }
   },
   "id": "9ad289c4a0fffc00",
   "execution_count": 3
  },
  {
   "cell_type": "code",
   "outputs": [],
   "source": [
    "def print_system_info():\n",
    "    logger.info(f'''\n",
    "        OS : {platform.system()}\n",
    "        OS VERSION : {platform.version()}\n",
    "        Process Information : {platform.processor()}\n",
    "        Process Architecture : {platform.machine()}\n",
    "        CPU Cores : {os.cpu_count()}\n",
    "        RAM Size : {str(round(psutil.virtual_memory().total / (1024.0 ** 3))) + \"(GB)\"}\n",
    "    ''')"
   ],
   "metadata": {
    "collapsed": false,
    "ExecuteTime": {
     "end_time": "2024-02-17T15:05:17.594308500Z",
     "start_time": "2024-02-17T15:05:17.587681200Z"
    }
   },
   "id": "e2e50438aa5342c8",
   "execution_count": 4
  },
  {
   "cell_type": "code",
   "outputs": [
    {
     "name": "stderr",
     "output_type": "stream",
     "text": [
      "2024-02-18 00:05:18,081 - root - INFO - \n",
      "        OS : Windows\n",
      "        OS VERSION : 10.0.19045\n",
      "        Process Information : Intel64 Family 6 Model 183 Stepping 1, GenuineIntel\n",
      "        Process Architecture : AMD64\n",
      "        CPU Cores : 28\n",
      "        RAM Size : 64(GB)\n",
      "    \n"
     ]
    }
   ],
   "source": [
    "print_system_info()"
   ],
   "metadata": {
    "collapsed": false,
    "ExecuteTime": {
     "end_time": "2024-02-17T15:05:18.088693300Z",
     "start_time": "2024-02-17T15:05:18.078632600Z"
    }
   },
   "id": "579986a5eca931ae",
   "execution_count": 5
  },
  {
   "cell_type": "markdown",
   "source": [
    "# 웹크롤러 만들기"
   ],
   "metadata": {
    "collapsed": false
   },
   "id": "75af141e53f60ca"
  },
  {
   "cell_type": "code",
   "outputs": [],
   "source": [
    "from bs4 import BeautifulSoup\n",
    "import requests"
   ],
   "metadata": {
    "collapsed": false,
    "ExecuteTime": {
     "end_time": "2024-02-17T15:05:20.569705500Z",
     "start_time": "2024-02-17T15:05:20.509385400Z"
    }
   },
   "id": "ad02513cbf035273",
   "execution_count": 6
  },
  {
   "cell_type": "code",
   "outputs": [],
   "source": [
    "# 네이버 뉴스 URL\n",
    "url1 = 'https://news.naver.com/main/list.naver?mode=LSD&mid=sec&sid1=100'\n",
    "url2 = 'https://news.naver.com/main/list.naver?mode=LSD&mid=sec&sid1=101'\n",
    "url3 = 'https://news.naver.com/main/list.naver?mode=LSD&mid=sec&sid1=102'\n",
    "url4 = 'https://news.naver.com/main/list.naver?mode=LSD&mid=sec&sid1=103'\n",
    "url5 = 'https://news.naver.com/main/list.naver?mode=LSD&mid=sec&sid1=104'\n",
    "url6 = 'https://news.naver.com/main/list.naver?mode=LSD&mid=sec&sid1=105'"
   ],
   "metadata": {
    "collapsed": false,
    "ExecuteTime": {
     "end_time": "2024-02-17T15:05:22.078710500Z",
     "start_time": "2024-02-17T15:05:22.070433900Z"
    }
   },
   "id": "f312077711f5f624",
   "execution_count": 7
  },
  {
   "cell_type": "code",
   "outputs": [],
   "source": [
    "def web_crawler(url):\n",
    "    # 헤더 설정\n",
    "    headers = {\n",
    "        \"User-Agent\": \"Mozilla/5.0 (Windows NT 10.0) AppleWebKit/537.36 (KHTML, like Gecko) Chrome/104.0.0.0 Safari/537.36\"}\n",
    "\n",
    "    # 서버 응답 확인\n",
    "    response = requests.get(url, headers=headers)\n",
    "\n",
    "    # BeautifulSoup 객체 생성\n",
    "    beautifulSoup = BeautifulSoup(response.content, \"html.parser\")\n",
    "\n",
    "    # 페이지 제목 크롤링\n",
    "    print(beautifulSoup.title.string)\n",
    "\n",
    "    # 기사 제목 크롤링\n",
    "    print(beautifulSoup.find(\"ul\", attrs={\"class\": \"type06_headline\"}).get_text())"
   ],
   "metadata": {
    "collapsed": false,
    "ExecuteTime": {
     "end_time": "2024-02-17T15:05:24.761492800Z",
     "start_time": "2024-02-17T15:05:24.752766300Z"
    }
   },
   "id": "ce0759189d418872",
   "execution_count": 8
  },
  {
   "cell_type": "code",
   "outputs": [
    {
     "name": "stdout",
     "output_type": "stream",
     "text": [
      "경제 홈 : 네이버 뉴스\t\n",
      "\n",
      "\n",
      "\n",
      "\n",
      "\n",
      "\n",
      "\n",
      "\n",
      "\n",
      "\n",
      "\t\t\t\t\t\t\t\t [비즈토크<하>] 대한항공·아시아나 합병 '최대 수혜자' 티웨이항공 과제 산적\n",
      "\t\t\t\t\t\t\t\t\n",
      "\n",
      "\n",
      "티웨이항공, 5월 첫 유럽노선 '시험대' 홍민택 토스뱅크 대표 사임의지 밝혀 ☞<상>편에 이어 ◆ 대한항공·아시아나항공 합병 ' …\n",
      "더팩트\n",
      "1분전\n",
      "\n",
      "\n",
      "\n",
      "\n",
      "\n",
      "\n",
      "\n",
      "\n",
      "\n",
      "\n",
      "\n",
      "\n",
      "\t\t\t\t\t\t\t\t 인상에 또 인상, 49층 대신 35층…공사비 부담에 재건축 곳곳 ‘삐그덕’\n",
      "\t\t\t\t\t\t\t\t\n",
      "\n",
      "\n",
      "시공사, 조합에 공사비 증액 공문 발송 잇따라 일부 현장 분담금 가중에 초고층 포기 검토 공사비 이견에 시공사 못구한 정비사업장 …\n",
      "매일경제\n",
      "2분전\n",
      "\n",
      "\n",
      "\n",
      "\n",
      "\n",
      "\n",
      "\n",
      "\n",
      "\n",
      "\n",
      "\n",
      "\n",
      "\t\t\t\t\t\t\t\t [비즈토크<상>] \"빨리 광고 내려라\"…이강인 인성 논란에 KT 날벼락\n",
      "\t\t\t\t\t\t\t\t\n",
      "\n",
      "\n",
      "축구 국가대표팀 내홍에 KT 곤혹 이강인 출연 광고, 네티즌 악플 세례 경제는 먹고사는 일과 관련된 분야입니다. 한 나라의 경제 …\n",
      "더팩트\n",
      "4분전\n",
      "\n",
      "\n",
      "\n",
      "\n",
      "\n",
      "\n",
      "\n",
      "\n",
      "\n",
      "\n",
      "\n",
      "\n",
      "\t\t\t\t\t\t\t\t 1107회 로또 1등 ‘6·14·30·31·40·41’…보너스 ‘29’\n",
      "\t\t\t\t\t\t\t\t\n",
      "\n",
      "\n",
      "동행복권은 제1107회 로또복권 추첨에서 ‘6·14·30·31·40·41’이 1등 당첨번호로 뽑혔다고 17일 밝혔다. 2등 보너 …\n",
      "이코노미스트\n",
      "9분전\n",
      "\n",
      "\n",
      "\n",
      "\n",
      "\n",
      "\n",
      "\n",
      "\n",
      "\n",
      "\n",
      "\n",
      "\n",
      "\t\t\t\t\t\t\t\t 애틀랜타 연은총재 \"올여름 금리인하 배제 안해…추가 데이터 필요\"\n",
      "\t\t\t\t\t\t\t\t\n",
      "\n",
      "\n",
      "라파엘 보스틱 미국 애틀랜타 연방준비은행 총재는 16일(현지시간) 올여름 연방준비제도(Fed 연준)의 금리인하 가능성을 배제할  …\n",
      "뉴시스\n",
      "11분전\n",
      "\n",
      "\n",
      "\n",
      "\n",
      "\n",
      "\n",
      "\n",
      "\n",
      "\n",
      "\n",
      "\n",
      "\n",
      "\t\t\t\t\t\t\t\t 서울 아파트 전셋값 39주 연속↑…‘탈(脫)서울’ 지난해 32만명\n",
      "\t\t\t\t\t\t\t\t\n",
      "\n",
      "\n",
      "수급불균형 지속 뉴시스 서울에서 경기도로 이동하는 사람들이 늘고 있다. 서울 집값과 전셋값이 상승하면서 경기도와 인천 등 주변  …\n",
      "세계일보\n",
      "22분전\n",
      "\n",
      "\n",
      "\n",
      "\n",
      "\n",
      "\n",
      "\n",
      "동영상기사\n",
      "\n",
      "\n",
      "\n",
      "\n",
      "\t\t\t\t\t\t\t\t 애플 팔고 엔비디아로...AI 붐에 고공행진\n",
      "\t\t\t\t\t\t\t\t\n",
      "\n",
      "\n",
      "국내 투자자들이 유명 기업을 중심으로 미국 증시에 직접 투자하는 경우가 늘고 있는데요. 최근 가장 많이 사들인 종목은 AI 붐에 …\n",
      "YTN\n",
      "30분전\n",
      "\n",
      "\n",
      "\n",
      "\n",
      "\n",
      "\n",
      "\n",
      "\n",
      "\n",
      "\n",
      "\n",
      "\n",
      "\t\t\t\t\t\t\t\t 삼성물산 가치의 심각한 저평가가 ‘코리아 디스카운트’\n",
      "\t\t\t\t\t\t\t\t\n",
      "\n",
      "\n",
      "2024년 2월5일 서울중앙지방법원은 삼성물산 부당합병 문제로 형사처벌의 기로에 있던 이재용 삼성전자 회장에게 무죄 판결을 내렸 …\n",
      "한겨레21\n",
      "1시간전\t\n",
      "\n",
      "\n",
      "\n",
      "\n",
      "\n",
      "\n",
      "\n",
      "\t\t\t\t\t\t\t\t 냉장 국내산 닭고기만 사용 `김희정 치킨 닭강정` 출시\n",
      "\t\t\t\t\t\t\t\t\n",
      "\n",
      "\n",
      "치킨 프랜차이즈 '김희정 치킨 닭강정'이 지난 15일 1호점을 서울 도봉구 방학동에 개설했다고 17일 밝혔다. 대다수 닭강정 브 …\n",
      "디지털타임스\n",
      "1시간전\t\n",
      "\n",
      "\n",
      "\n",
      "\n",
      "\n",
      "\n",
      "\n",
      "동영상기사\n",
      "\n",
      "\n",
      "\n",
      "\n",
      "\t\t\t\t\t\t\t\t 의협 \"25일 규탄대회 개최…집단행동 투표로 결정\"\n",
      "\t\t\t\t\t\t\t\t\n",
      "\n",
      "\n",
      "정부의 의대 증원 방침에 반발하고 있는 의사협회 비상대책위원회가 전회원 투표를 통해 단체행동 여부를 결정하기로 했습니다. 오는  …\n",
      "연합뉴스TV\n",
      "1시간전\t\n",
      "\n",
      "\n",
      "\n"
     ]
    }
   ],
   "source": [
    "# 크롤러 실행 테스트\n",
    "web_crawler(url2)"
   ],
   "metadata": {
    "collapsed": false,
    "ExecuteTime": {
     "end_time": "2024-02-17T15:05:25.509755Z",
     "start_time": "2024-02-17T15:05:25.179518600Z"
    }
   },
   "id": "46532972b612e8f2",
   "execution_count": 9
  },
  {
   "cell_type": "markdown",
   "source": [
    "# 병렬 처리 셋팅"
   ],
   "metadata": {
    "collapsed": false
   },
   "id": "beb203c22669f683"
  },
  {
   "cell_type": "code",
   "outputs": [],
   "source": [
    "# Pycharm 에서 실행 확인\n",
    "def main():\n",
    "    from multiprocessing import Pool\n",
    "    import time\n",
    "\n",
    "    url_list = [url1, url2, url3, url4, url5, url6]\n",
    "\n",
    "    logger.info(f'''멀티 프로세스가 시작됩니다.''')\n",
    "    start_time = time.time()\n",
    "\n",
    "    pool = Pool(processes=3)  # 3개 cpu 코어를 사용\n",
    "    result = pool.map(web_crawler, url_list)  # 각 url에 웹 크롤러 할당\n",
    "\n",
    "    pool.close()  # 풀링 종료\n",
    "    pool.join()  # 결과 합치기\n",
    "\n",
    "    logger.info(f'''멀티 프로세스가 종료되었습니다.''')\n",
    "    logger.info(\"--- %s seconds ---\" % (time.time() - start_time))\n"
   ],
   "metadata": {
    "collapsed": false,
    "is_executing": true
   },
   "id": "92f4b6d35f365af6",
   "execution_count": null
  },
  {
   "cell_type": "markdown",
   "source": [
    "# 실행 스케줄러 설정"
   ],
   "metadata": {
    "collapsed": false
   },
   "id": "d9dd0fed06bb5caa"
  },
  {
   "cell_type": "code",
   "outputs": [],
   "source": [
    "# Pycharm 에서 실행 확인\n",
    "if __name__ == \"__main__\":\n",
    "    import schedule\n",
    "\n",
    "    # 3초에 한번씩 메인 함수 실행\n",
    "    schedule.every(3).seconds.do(main)  # 이벤트 등록\n",
    "\n",
    "    # 스케줄러 실행\n",
    "    while True:\n",
    "        schedule.run_pending()"
   ],
   "metadata": {
    "collapsed": false
   },
   "id": "ea4150fe9e9b7402"
  },
  {
   "cell_type": "markdown",
   "source": [
    "# 매개 변수를 입력 받는 시스템 명령어 실행"
   ],
   "metadata": {
    "collapsed": false
   },
   "id": "db813d30a5e37d6d"
  },
  {
   "cell_type": "code",
   "outputs": [],
   "source": [
    "def main(cpu=3):\n",
    "    from multiprocessing import Pool\n",
    "    import time\n",
    "\n",
    "    url_list = [url1, url2, url3, url4, url5, url6]\n",
    "\n",
    "    logger.info(f'''멀티 프로세스가 시작됩니다.''')\n",
    "    start_time = time.time()\n",
    "\n",
    "    pool = Pool(processes=cpu)  # N개 CPU 코어를 사용\n",
    "    result = pool.map(web_crawler, url_list)  # 각 URL에 웹 크롤러 할당\n",
    "\n",
    "    pool.close()  # 풀링 종료\n",
    "    pool.join()  # 결과 합치기\n",
    "\n",
    "    logger.info(f'''멀티 프로세스가 종료되었습니다.''')\n",
    "    logger.info(\"--- %s second ---\" % (time.time() - start_time))"
   ],
   "metadata": {
    "collapsed": false,
    "ExecuteTime": {
     "end_time": "2024-02-17T15:07:03.936469400Z",
     "start_time": "2024-02-17T15:07:03.913293Z"
    }
   },
   "id": "608d8c12cde33e58",
   "execution_count": 10
  },
  {
   "cell_type": "code",
   "outputs": [],
   "source": [
    "# Pycharm에서 실행 확인\n",
    "if __name__ == \"__main__\":\n",
    "    import argparse\n",
    "    import schedule\n",
    "\n",
    "    ''' 입력 매개변수 설정'''\n",
    "    parser = argparse.ArgumentParser()\n",
    "    parser.add_argument('--cpu', type=int, default=3, help=\"멀티프로세스 CPU 수\")\n",
    "    parser.add_argument('--run_interval', type=int, default=5, help=\"웹 크롤러 실행 주기(초)\")\n",
    "    args = parser.parse_args()  # 매개변수 파싱\n",
    "    cpu = args.cpu\n",
    "    interval = args.run_interval\n",
    "\n",
    "    logger.info(f'''\n",
    "        CPU 사용 : {cpu} 코어\n",
    "        프로그램 실행 주기 : {interval} 초\n",
    "    ''')\n",
    "\n",
    "    # N초에 한번씩 메인 함수 실행\n",
    "    schedule.every(interval).seconds.do(main, cpu)  # 이벤트 등록\n",
    "\n",
    "    # 스케줄러 실행\n",
    "    while True:\n",
    "        schedule.run_pending()"
   ],
   "metadata": {
    "collapsed": false
   },
   "id": "2cebaf019da421fb"
  }
 ],
 "metadata": {
  "kernelspec": {
   "display_name": "Python 3",
   "language": "python",
   "name": "python3"
  },
  "language_info": {
   "codemirror_mode": {
    "name": "ipython",
    "version": 2
   },
   "file_extension": ".py",
   "mimetype": "text/x-python",
   "name": "python",
   "nbconvert_exporter": "python",
   "pygments_lexer": "ipython2",
   "version": "2.7.6"
  }
 },
 "nbformat": 4,
 "nbformat_minor": 5
}
