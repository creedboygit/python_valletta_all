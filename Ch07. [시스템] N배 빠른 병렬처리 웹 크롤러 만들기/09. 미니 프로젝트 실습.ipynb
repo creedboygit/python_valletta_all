{
 "cells": [
  {
   "cell_type": "markdown",
   "source": [
    "# 진행 순서\n",
    "1. 로깅 설정\n",
    "2. 시스템 정보 확인\n",
    "3. 웹 크롤러 만들기\n",
    "4. 병렬처리 셋팅\n",
    "5. 실행 스케줄러 설정\n",
    "6. 매개변수를 입력 받는 시스템 명령어 실행"
   ],
   "metadata": {
    "collapsed": false
   },
   "id": "495071fa19b42b12"
  },
  {
   "cell_type": "markdown",
   "source": [
    "# 로깅 설정"
   ],
   "metadata": {
    "collapsed": false
   },
   "id": "628161d919697409"
  },
  {
   "cell_type": "code",
   "outputs": [],
   "source": [
    "import logging"
   ],
   "metadata": {
    "collapsed": false
   },
   "id": "35b0ff13bad1312",
   "execution_count": null
  },
  {
   "cell_type": "code",
   "outputs": [],
   "source": [
    "# 로거 생성\n",
    "logger = logging.getLogger()\n",
    "\n",
    "# 로그의 출력 기준 설정\n",
    "logger.setLevel(logging.INFO)\n",
    "\n",
    "# log 형식 지정\n",
    "formatter = logging.Formatter('%(asctime)s - %(name)s - %(levelname)s - %(message)s')\n",
    "\n",
    "# log 출력\n",
    "stream_handler = logging.StreamHandler()\n",
    "stream_handler.setFormatter(formatter)\n",
    "logger.addHandler(stream_handler)\n",
    "\n",
    "# log 파일 생성\n",
    "file_handler = logging.FileHandler('output.log')\n",
    "file_handler.setFormatter(formatter)\n",
    "logger.addHandler(file_handler)"
   ],
   "metadata": {
    "collapsed": false
   },
   "id": "80707b32eccd7d8",
   "execution_count": null
  },
  {
   "cell_type": "markdown",
   "source": [
    "# 시스템 정보 확인"
   ],
   "metadata": {
    "collapsed": false
   },
   "id": "1fd3a86b755eabbd"
  },
  {
   "cell_type": "code",
   "outputs": [],
   "source": [
    "import platform, psutil\n",
    "import os"
   ],
   "metadata": {
    "collapsed": false
   },
   "id": "9ad289c4a0fffc00",
   "execution_count": null
  },
  {
   "cell_type": "code",
   "outputs": [],
   "source": [
    "def print_system_info():\n",
    "    logger.info(f'''\n",
    "        OS : {platform.system()}\n",
    "        OS VERSION : {platform.version()}\n",
    "        Process Information : {platform.processor()}\n",
    "        Process Architecture : {platform.machine()}\n",
    "        CPU Cores : {os.cpu_count()}\n",
    "        RAM Size : {str(round(psutil.virtual_memory().total / (1024.0 ** 3))) + \"(GB)\"}\n",
    "    ''')"
   ],
   "metadata": {
    "collapsed": false
   },
   "id": "e2e50438aa5342c8",
   "execution_count": null
  },
  {
   "cell_type": "code",
   "outputs": [],
   "source": [
    "print_system_info()"
   ],
   "metadata": {
    "collapsed": false
   },
   "id": "579986a5eca931ae",
   "execution_count": null
  },
  {
   "cell_type": "markdown",
   "source": [
    "# 웹크롤러 만들기"
   ],
   "metadata": {
    "collapsed": false
   },
   "id": "75af141e53f60ca"
  },
  {
   "cell_type": "code",
   "outputs": [],
   "source": [
    "from bs4 import BeautifulSoup\n",
    "import requests"
   ],
   "metadata": {
    "collapsed": false
   },
   "id": "ad02513cbf035273",
   "execution_count": null
  },
  {
   "cell_type": "code",
   "outputs": [],
   "source": [
    "# 네이버 뉴스 URL\n",
    "url1 = 'https://news.naver.com/main/list.naver?mode=LSD&mid=sec&sid1=100'\n",
    "url2 = 'https://news.naver.com/main/list.naver?mode=LSD&mid=sec&sid1=101'\n",
    "url3 = 'https://news.naver.com/main/list.naver?mode=LSD&mid=sec&sid1=102'\n",
    "url4 = 'https://news.naver.com/main/list.naver?mode=LSD&mid=sec&sid1=103'\n",
    "url5 = 'https://news.naver.com/main/list.naver?mode=LSD&mid=sec&sid1=104'\n",
    "url6 = 'https://news.naver.com/main/list.naver?mode=LSD&mid=sec&sid1=105'"
   ],
   "metadata": {
    "collapsed": false
   },
   "id": "f312077711f5f624",
   "execution_count": null
  },
  {
   "cell_type": "code",
   "outputs": [],
   "source": [
    "def web_crawler(url):\n",
    "    # 헤더 설정\n",
    "    headers = {\n",
    "        \"User-Agent\": \"Mozilla/5.0 (Windows NT 10.0) AppleWebKit/537.36 (KHTML, like Gecko) Chrome/104.0.0.0 Safari/537.36\"}\n",
    "\n",
    "    # 서버 응답 확인\n",
    "    response = requests.get(url, headers=headers)\n",
    "\n",
    "    # BeautifulSoup 객체 생성\n",
    "    beautifulSoup = BeautifulSoup(response.content, \"html.parser\")\n",
    "\n",
    "    # 페이지 제목 크롤링\n",
    "    print(beautifulSoup.title.string)\n",
    "\n",
    "    # 기사 제목 크롤링\n",
    "    print(beautifulSoup.find(\"ul\", attrs={\"class\": \"type06_headline\"}).get_text())"
   ],
   "metadata": {
    "collapsed": false
   },
   "id": "ce0759189d418872",
   "execution_count": null
  },
  {
   "cell_type": "code",
   "outputs": [],
   "source": [
    "# 크롤러 실행 테스트\n",
    "web_crawler(url2)"
   ],
   "metadata": {
    "collapsed": false
   },
   "id": "46532972b612e8f2",
   "execution_count": null
  },
  {
   "cell_type": "markdown",
   "source": [
    "# 병렬 처리 셋팅"
   ],
   "metadata": {
    "collapsed": false
   },
   "id": "beb203c22669f683"
  },
  {
   "cell_type": "code",
   "outputs": [],
   "source": [
    "# Pycharm 에서 실행 확인\n",
    "if __name__ == \"__main__\":\n",
    "    from multiprocessing import Pool\n",
    "    import time\n",
    "\n",
    "    url_list = [url1, url2, url3, url4, url5, url6]\n",
    "\n",
    "    logger.info(f'''멀티 프로세스가 시작됩니다.''')\n",
    "    start_time = time.time()\n",
    "\n",
    "    pool = Pool(processes=3)  # 3개 cpu 코어를 사용\n",
    "    result = pool.map(web_crawler, url_list)  # 각 url에 웹 크롤러 할당\n",
    "\n",
    "    pool.close()  # 풀링 종료\n",
    "    pool.join()  # 결과 합치기\n",
    "\n",
    "    logger.info(f'''멀티 프로세스가 종료되었습니다.''')\n",
    "    logger.info(\"--- %s seconds ---\" % (time.time() - start_time))\n"
   ],
   "metadata": {
    "collapsed": false,
    "is_executing": true
   },
   "id": "92f4b6d35f365af6",
   "execution_count": null
  },
  {
   "cell_type": "code",
   "outputs": [],
   "source": [],
   "metadata": {
    "collapsed": false
   },
   "id": "7a65dc682c93e2c8"
  }
 ],
 "metadata": {
  "kernelspec": {
   "display_name": "Python 3",
   "language": "python",
   "name": "python3"
  },
  "language_info": {
   "codemirror_mode": {
    "name": "ipython",
    "version": 2
   },
   "file_extension": ".py",
   "mimetype": "text/x-python",
   "name": "python",
   "nbconvert_exporter": "python",
   "pygments_lexer": "ipython2",
   "version": "2.7.6"
  }
 },
 "nbformat": 4,
 "nbformat_minor": 5
}
