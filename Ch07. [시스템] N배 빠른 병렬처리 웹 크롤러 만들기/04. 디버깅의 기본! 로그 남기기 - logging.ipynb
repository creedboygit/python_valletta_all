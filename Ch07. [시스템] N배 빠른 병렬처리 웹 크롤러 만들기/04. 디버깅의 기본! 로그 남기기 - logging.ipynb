{
 "cells": [
  {
   "cell_type": "markdown",
   "source": [
    "# logging\n",
    "- 프로그램이 실행되는 동안 일어나는 정보를 기록하고 관리하는 로깅 모듈\n",
    "- 로그는 파일 뿐 아니라 소켓, 이메일, 콘솔 등 다양한 방법으로 출력이 가능\n",
    "- print() 와의 차이첨?\n",
    "    - 콘솔창에 문자열을 출력하는 print문을 사용해서 기록을 남기는 방법도 있지만, 실행 기록을 관리하거나 분석 시에는 활용이 어려움\n",
    "    - logging은 프로그램 진행 상황에 따라 로그를 레벨 별로 관리하거나 모듈 별 별도의 기록을 남기는 등의 작업이 가능"
   ],
   "metadata": {
    "collapsed": false
   },
   "id": "7fa7d406f78c6dd"
  },
  {
   "cell_type": "markdown",
   "source": [
    "# print문 사용"
   ],
   "metadata": {
    "collapsed": false
   },
   "id": "8214068b68ef9ae5"
  },
  {
   "cell_type": "code",
   "outputs": [
    {
     "name": "stdout",
     "output_type": "stream",
     "text": [
      "함수가 시작되었습니다.\n"
     ]
    }
   ],
   "source": [
    "def myfunc():\n",
    "    print(\"함수가 시작되었습니다.\")\n",
    "\n",
    "\n",
    "myfunc()"
   ],
   "metadata": {
    "collapsed": false,
    "ExecuteTime": {
     "end_time": "2024-02-17T09:09:52.644436700Z",
     "start_time": "2024-02-17T09:09:52.637430Z"
    }
   },
   "id": "ce83ea8288e3f682",
   "execution_count": 2
  },
  {
   "cell_type": "markdown",
   "source": [
    "# logging 사용"
   ],
   "metadata": {
    "collapsed": false
   },
   "id": "bf845da776d0f5af"
  },
  {
   "cell_type": "code",
   "outputs": [],
   "source": [
    "import logging"
   ],
   "metadata": {
    "collapsed": false,
    "ExecuteTime": {
     "end_time": "2024-02-17T09:17:48.898159200Z",
     "start_time": "2024-02-17T09:17:48.892153600Z"
    }
   },
   "id": "90d21b1f19d72d09",
   "execution_count": 3
  },
  {
   "cell_type": "code",
   "outputs": [
    {
     "name": "stderr",
     "output_type": "stream",
     "text": [
      "2024-02-17 18:29:04,071 - root - INFO - 함수가 시작되었습니다.\n",
      "2024-02-17 18:29:04,071 - root - INFO - 함수가 시작되었습니다.\n",
      "2024-02-17 18:29:04,071 - root - INFO - 함수가 시작되었습니다.\n",
      "2024-02-17 18:29:04,071 - root - INFO - 함수가 시작되었습니다.\n",
      "2024-02-17 18:29:04,071 - root - INFO - 함수가 시작되었습니다.\n"
     ]
    }
   ],
   "source": [
    "# 로그 생성\n",
    "logger = logging.getLogger()\n",
    "\n",
    "# 로그의 출력 기준 설정\n",
    "logger.setLevel(logging.INFO)\n",
    "\n",
    "# log 형식 지정\n",
    "formatter = logging.Formatter('%(asctime)s - %(name)s - %(levelname)s - %(message)s')\n",
    "\n",
    "# log 출력\n",
    "stream_handler = logging.StreamHandler()\n",
    "stream_handler.setFormatter(formatter)\n",
    "logger.addHandler(stream_handler)\n",
    "\n",
    "# log 파일 생성\n",
    "file_handler = logging.FileHandler('sample1.log')\n",
    "file_handler.setFormatter(formatter)\n",
    "logger.addHandler(file_handler)\n",
    "\n",
    "\n",
    "def myfunc():\n",
    "    logger.info('함수가 시작되었습니다.')\n",
    "\n",
    "\n",
    "myfunc()\n"
   ],
   "metadata": {
    "collapsed": false,
    "ExecuteTime": {
     "end_time": "2024-02-17T09:29:04.077937800Z",
     "start_time": "2024-02-17T09:29:04.072067900Z"
    }
   },
   "id": "aa19b8f6a1dba992",
   "execution_count": 8
  },
  {
   "cell_type": "markdown",
   "source": [
    "# 로그 레벨 5단계\n",
    "로그는 설정한 레벨 이상만 출력된다.\n",
    "예를 들어 핸들러나 로거의 로그 레벨을 'INFO'로 설정하면 DEBIG로그는 출력되지 않고 INFO 이상의 로그만 출력한다.\n",
    "\n",
    "DEBUG < INFO < WARNING < ERROR < CRITICAL\n",
    "\n",
    "- 1단계 - DEBUG : 디버깅 목적으로 사용\n",
    "- 2단계 - INFO : 일반 정보를 출력할 목적으로 사용\n",
    "- 3단계 - WARNING : 경고 정보를 출력할 목적으로 사용\n",
    "- 4단계 - ERROR : 오류 정보를 출력할 목적으로 사용\n",
    "- 5단계 - CRITICAL : 아주 심각한 문제를 출력할 목적으로 사용"
   ],
   "metadata": {
    "collapsed": false
   },
   "id": "dcd2328e6b000596"
  },
  {
   "cell_type": "code",
   "outputs": [],
   "source": [],
   "metadata": {
    "collapsed": false
   },
   "id": "40ccc85ffc2e7710"
  }
 ],
 "metadata": {
  "kernelspec": {
   "display_name": "Python 3",
   "language": "python",
   "name": "python3"
  },
  "language_info": {
   "codemirror_mode": {
    "name": "ipython",
    "version": 2
   },
   "file_extension": ".py",
   "mimetype": "text/x-python",
   "name": "python",
   "nbconvert_exporter": "python",
   "pygments_lexer": "ipython2",
   "version": "2.7.6"
  }
 },
 "nbformat": 4,
 "nbformat_minor": 5
}
