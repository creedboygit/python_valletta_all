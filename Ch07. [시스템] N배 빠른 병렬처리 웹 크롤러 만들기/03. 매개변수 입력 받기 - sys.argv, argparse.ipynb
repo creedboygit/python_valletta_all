{
 "cells": [
  {
   "cell_type": "markdown",
   "source": [
    "# 매개변수란?\n",
    "프로그램 명령행에서 사용자로부터 입력 받는 값 (혹은 인자)\n",
    "외부에서 입력 받는 값에 따라 프로그램 동작이 달라져야 할 경우 주로 사용"
   ],
   "metadata": {
    "collapsed": false
   },
   "id": "c2493bb472097fdf"
  },
  {
   "cell_type": "markdown",
   "source": [
    "# sys.argv\n",
    "- 파이썬 스크립트로 전달한 명령행 매개변수를 처리할 때 사용하는 모듈\n",
    "- list() 형식의 반환값을 사용하기 때문에 여러 개의 인자를 다룰 때 편하다."
   ],
   "metadata": {
    "collapsed": false
   },
   "id": "f5231ecdbb3a6b35"
  },
  {
   "cell_type": "code",
   "outputs": [
    {
     "name": "stdout",
     "output_type": "stream",
     "text": [
      "['D:\\\\940 python_study\\\\200 study\\\\220 valletta_all\\\\python_valletta_all\\\\.venv\\\\Lib\\\\site-packages\\\\ipykernel_launcher.py', '-f', 'C:\\\\Users\\\\VALLETTA\\\\AppData\\\\Roaming\\\\jupyter\\\\runtime\\\\kernel-1e17645f-821d-4854-8223-7f6860415634.json']\n"
     ]
    }
   ],
   "source": [
    "# pycharm에서 실행 결과 확인\n",
    "import sys\n",
    "\n",
    "print(sys.argv)"
   ],
   "metadata": {
    "collapsed": false,
    "ExecuteTime": {
     "end_time": "2024-02-15T13:22:30.163844400Z",
     "start_time": "2024-02-15T13:22:30.158848600Z"
    }
   },
   "id": "5f6d06db52bfa1e9",
   "execution_count": 1
  },
  {
   "cell_type": "code",
   "outputs": [
    {
     "ename": "ValueError",
     "evalue": "invalid literal for int() with base 10: '-f'",
     "output_type": "error",
     "traceback": [
      "\u001B[1;31m---------------------------------------------------------------------------\u001B[0m",
      "\u001B[1;31mValueError\u001B[0m                                Traceback (most recent call last)",
      "Cell \u001B[1;32mIn[5], line 1\u001B[0m\n\u001B[1;32m----> 1\u001B[0m val1 \u001B[38;5;241m=\u001B[39m \u001B[38;5;28;43mint\u001B[39;49m\u001B[43m(\u001B[49m\u001B[43msys\u001B[49m\u001B[38;5;241;43m.\u001B[39;49m\u001B[43margv\u001B[49m\u001B[43m[\u001B[49m\u001B[38;5;241;43m1\u001B[39;49m\u001B[43m]\u001B[49m\u001B[43m)\u001B[49m\n\u001B[0;32m      2\u001B[0m val2 \u001B[38;5;241m=\u001B[39m \u001B[38;5;28mint\u001B[39m(sys\u001B[38;5;241m.\u001B[39margv[\u001B[38;5;241m2\u001B[39m])\n\u001B[0;32m      4\u001B[0m \u001B[38;5;28mprint\u001B[39m(val1, \u001B[38;5;124m'\u001B[39m\u001B[38;5;124m 곱하기\u001B[39m\u001B[38;5;124m'\u001B[39m, val2, \u001B[38;5;124m'\u001B[39m\u001B[38;5;124m 은?\u001B[39m\u001B[38;5;124m'\u001B[39m, (val1 \u001B[38;5;241m*\u001B[39m val2))\n",
      "\u001B[1;31mValueError\u001B[0m: invalid literal for int() with base 10: '-f'"
     ]
    }
   ],
   "source": [
    "val1 = int(sys.argv[1])\n",
    "val2 = int(sys.argv[2])\n",
    "\n",
    "print(val1, ' 곱하기', val2, ' 은?', (val1 * val2))"
   ],
   "metadata": {
    "collapsed": false,
    "ExecuteTime": {
     "end_time": "2024-02-15T13:24:23.159826100Z",
     "start_time": "2024-02-15T13:24:23.149880100Z"
    }
   },
   "id": "8c3473b25057a78f",
   "execution_count": 5
  },
  {
   "cell_type": "code",
   "outputs": [],
   "source": [],
   "metadata": {
    "collapsed": false
   },
   "id": "3ca58299cb760cb6"
  }
 ],
 "metadata": {
  "kernelspec": {
   "display_name": "Python 3",
   "language": "python",
   "name": "python3"
  },
  "language_info": {
   "codemirror_mode": {
    "name": "ipython",
    "version": 2
   },
   "file_extension": ".py",
   "mimetype": "text/x-python",
   "name": "python",
   "nbconvert_exporter": "python",
   "pygments_lexer": "ipython2",
   "version": "2.7.6"
  }
 },
 "nbformat": 4,
 "nbformat_minor": 5
}
