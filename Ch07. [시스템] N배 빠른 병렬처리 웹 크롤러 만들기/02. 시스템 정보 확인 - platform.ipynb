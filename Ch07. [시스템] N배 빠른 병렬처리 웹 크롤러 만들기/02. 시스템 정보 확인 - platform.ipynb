{
 "cells": [
  {
   "cell_type": "markdown",
   "source": [
    "# platform\n",
    "- 실행하고자 하는 프로그램이 시스템 요구사항을 만족하는지 사양 정보를 확인할 때 사용하는 모듈"
   ],
   "metadata": {
    "collapsed": false
   },
   "id": "2d720ff9d0440a70"
  },
  {
   "cell_type": "code",
   "outputs": [],
   "source": [
    "import platform"
   ],
   "metadata": {
    "collapsed": false,
    "ExecuteTime": {
     "end_time": "2024-02-15T13:09:44.287801600Z",
     "start_time": "2024-02-15T13:09:44.285319100Z"
    }
   },
   "id": "afc7269bf970439c",
   "execution_count": 1
  },
  {
   "cell_type": "markdown",
   "source": [
    "1. 운영 체제 확인"
   ],
   "metadata": {
    "collapsed": false
   },
   "id": "e97696f37a5a9754"
  },
  {
   "cell_type": "code",
   "outputs": [],
   "source": [
    "def print_os_info():\n",
    "    print('OS:\\t', platform.system())\n",
    "    print('OS Version:\\t', platform.version())"
   ],
   "metadata": {
    "collapsed": false,
    "ExecuteTime": {
     "end_time": "2024-02-15T13:11:05.677508500Z",
     "start_time": "2024-02-15T13:11:05.667819100Z"
    }
   },
   "id": "99aec3894b6e497d",
   "execution_count": 2
  },
  {
   "cell_type": "code",
   "outputs": [
    {
     "name": "stdout",
     "output_type": "stream",
     "text": [
      "OS:\t Windows\n",
      "OS Version:\t 10.0.19045\n"
     ]
    }
   ],
   "source": [
    "print_os_info()"
   ],
   "metadata": {
    "collapsed": false,
    "ExecuteTime": {
     "end_time": "2024-02-15T13:11:09.901531900Z",
     "start_time": "2024-02-15T13:11:09.889112Z"
    }
   },
   "id": "c532c2e719c20ca6",
   "execution_count": 3
  },
  {
   "cell_type": "code",
   "outputs": [],
   "source": [
    "# 튜플 객체형으로 확인\n",
    "info = platform.uname()"
   ],
   "metadata": {
    "collapsed": false,
    "ExecuteTime": {
     "end_time": "2024-02-15T13:11:28.626465200Z",
     "start_time": "2024-02-15T13:11:28.612952400Z"
    }
   },
   "id": "2f3815629e3273c1",
   "execution_count": 4
  },
  {
   "cell_type": "code",
   "outputs": [
    {
     "data": {
      "text/plain": "uname_result(system='Windows', node='VALLETTA', release='10', version='10.0.19045', machine='AMD64')"
     },
     "execution_count": 5,
     "metadata": {},
     "output_type": "execute_result"
    }
   ],
   "source": [
    "info"
   ],
   "metadata": {
    "collapsed": false,
    "ExecuteTime": {
     "end_time": "2024-02-15T13:11:29.494125200Z",
     "start_time": "2024-02-15T13:11:29.482093200Z"
    }
   },
   "id": "7cbcff79127c874f",
   "execution_count": 5
  },
  {
   "cell_type": "markdown",
   "source": [
    "2. CPU / 메모리(RAM) 확인"
   ],
   "metadata": {
    "collapsed": false
   },
   "id": "d8d37a58e0e04c20"
  },
  {
   "cell_type": "code",
   "outputs": [
    {
     "data": {
      "text/plain": "'Intel64 Family 6 Model 183 Stepping 1, GenuineIntel'"
     },
     "execution_count": 12,
     "metadata": {},
     "output_type": "execute_result"
    }
   ],
   "source": [
    "# CPU\n",
    "info.processor\n",
    "# info.version\n",
    "# info.system\n",
    "# info.node\n",
    "# info.machine\n",
    "# info.release"
   ],
   "metadata": {
    "collapsed": false,
    "ExecuteTime": {
     "end_time": "2024-02-15T13:14:16.144452700Z",
     "start_time": "2024-02-15T13:14:16.140048700Z"
    }
   },
   "id": "8820211790d1c8f9",
   "execution_count": 12
  },
  {
   "cell_type": "code",
   "outputs": [
    {
     "data": {
      "text/plain": "28"
     },
     "execution_count": 13,
     "metadata": {},
     "output_type": "execute_result"
    }
   ],
   "source": [
    "# CPU 코어 개수 확인\n",
    "import os\n",
    "\n",
    "os.cpu_count()"
   ],
   "metadata": {
    "collapsed": false,
    "ExecuteTime": {
     "end_time": "2024-02-15T13:14:32.288293200Z",
     "start_time": "2024-02-15T13:14:32.269886100Z"
    }
   },
   "id": "eb6cdaf1a6ab3e8f",
   "execution_count": 13
  },
  {
   "cell_type": "code",
   "outputs": [],
   "source": [
    "import platform, psutil\n",
    "\n",
    "\n",
    "def print_system_info():\n",
    "    print('process information : ', platform.processor())\n",
    "    print('process architecture : ', platform.machine())\n",
    "    print('cpu cores : ', os.cpu_count())\n",
    "    print('ram size : ', str(round(psutil.virtual_memory().total / (1024.0 ** 3))) + \"(GB)\")"
   ],
   "metadata": {
    "collapsed": false,
    "ExecuteTime": {
     "end_time": "2024-02-15T13:16:25.622692800Z",
     "start_time": "2024-02-15T13:16:25.600974300Z"
    }
   },
   "id": "f1c0235715b4edd6",
   "execution_count": 15
  },
  {
   "cell_type": "code",
   "outputs": [
    {
     "name": "stdout",
     "output_type": "stream",
     "text": [
      "process information :  Intel64 Family 6 Model 183 Stepping 1, GenuineIntel\n",
      "process architecture :  AMD64\n",
      "cpu cores :  28\n",
      "ram size :  64(GB)\n"
     ]
    }
   ],
   "source": [
    "print_system_info()"
   ],
   "metadata": {
    "collapsed": false,
    "ExecuteTime": {
     "end_time": "2024-02-15T13:16:36.489663900Z",
     "start_time": "2024-02-15T13:16:36.476280900Z"
    }
   },
   "id": "6bb5107159e215d0",
   "execution_count": 17
  },
  {
   "cell_type": "code",
   "outputs": [],
   "source": [],
   "metadata": {
    "collapsed": false
   },
   "id": "a3b32f686acfe41c"
  }
 ],
 "metadata": {
  "kernelspec": {
   "display_name": "Python 3",
   "language": "python",
   "name": "python3"
  },
  "language_info": {
   "codemirror_mode": {
    "name": "ipython",
    "version": 2
   },
   "file_extension": ".py",
   "mimetype": "text/x-python",
   "name": "python",
   "nbconvert_exporter": "python",
   "pygments_lexer": "ipython2",
   "version": "2.7.6"
  }
 },
 "nbformat": 4,
 "nbformat_minor": 5
}
