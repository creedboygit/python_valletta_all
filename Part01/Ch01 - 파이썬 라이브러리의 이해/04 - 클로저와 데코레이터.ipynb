{
 "cells": [
  {
   "cell_type": "code",
   "execution_count": 2,
   "id": "initial_id",
   "metadata": {
    "collapsed": true,
    "ExecuteTime": {
     "end_time": "2024-01-30T14:54:10.518650100Z",
     "start_time": "2024-01-30T14:54:10.511932300Z"
    }
   },
   "outputs": [],
   "source": [
    "def mul(m):\n",
    "    def wrapper(n):\n",
    "        return m * n\n",
    "\n",
    "    return wrapper"
   ]
  },
  {
   "cell_type": "code",
   "outputs": [
    {
     "name": "stdout",
     "output_type": "stream",
     "text": [
      "30\n",
      "50\n"
     ]
    }
   ],
   "source": [
    "if __name__ == \"__main__\":\n",
    "    mul3 = mul(3)\n",
    "    mul5 = mul(5)\n",
    "\n",
    "    print(mul3(10))\n",
    "    print(mul5(10))\n"
   ],
   "metadata": {
    "collapsed": false,
    "ExecuteTime": {
     "end_time": "2024-01-30T14:54:10.524727500Z",
     "start_time": "2024-01-30T14:54:10.519682700Z"
    }
   },
   "id": "6028e1f866b060f4",
   "execution_count": 3
  },
  {
   "cell_type": "code",
   "outputs": [],
   "source": [
    "import time\n",
    "\n",
    "\n",
    "def func1(a, b):\n",
    "    start = time.time()\n",
    "    print(\"함수가 실행됩니다.\")\n",
    "\n",
    "    val = a + b\n",
    "\n",
    "    end = time.time()\n",
    "    print(\"함수 수행시간 : %f 초\" % (end - start))\n",
    "\n",
    "    return val"
   ],
   "metadata": {
    "collapsed": false,
    "ExecuteTime": {
     "end_time": "2024-01-30T14:54:10.544304700Z",
     "start_time": "2024-01-30T14:54:10.525781200Z"
    }
   },
   "id": "c28353a91ac5015f",
   "execution_count": 4
  },
  {
   "cell_type": "code",
   "outputs": [
    {
     "name": "stdout",
     "output_type": "stream",
     "text": [
      "함수가 실행됩니다.\n",
      "함수 수행시간 : 0.000000 초\n",
      "3\n"
     ]
    }
   ],
   "source": [
    "if __name__ == \"__main__\":\n",
    "    result = func1(1, 2)\n",
    "    print(result)"
   ],
   "metadata": {
    "collapsed": false,
    "ExecuteTime": {
     "end_time": "2024-01-30T14:54:10.545320700Z",
     "start_time": "2024-01-30T14:54:10.529346300Z"
    }
   },
   "id": "12cd8cd1eddfcf1d",
   "execution_count": 5
  },
  {
   "cell_type": "code",
   "outputs": [],
   "source": [
    "def func2(a, b):\n",
    "    start = time.time()\n",
    "    print(\"함수가 실행됩니다.\")\n",
    "\n",
    "    val = a * b\n",
    "\n",
    "    end = time.time()\n",
    "    print(\"함수 수행시간 : %f 초\" % (end - start))\n",
    "\n",
    "    return val"
   ],
   "metadata": {
    "collapsed": false,
    "ExecuteTime": {
     "end_time": "2024-01-30T14:54:10.556494100Z",
     "start_time": "2024-01-30T14:54:10.547245800Z"
    }
   },
   "id": "8a1d2ed34da8cd93",
   "execution_count": 6
  },
  {
   "cell_type": "code",
   "outputs": [
    {
     "name": "stdout",
     "output_type": "stream",
     "text": [
      "함수가 실행됩니다.\n",
      "함수 수행시간 : 0.000000 초\n",
      "2\n"
     ]
    }
   ],
   "source": [
    "if __name__ == \"__main__\":\n",
    "    result = func2(1, 2)\n",
    "    print(result)"
   ],
   "metadata": {
    "collapsed": false,
    "ExecuteTime": {
     "end_time": "2024-01-30T14:54:10.557540200Z",
     "start_time": "2024-01-30T14:54:10.548821400Z"
    }
   },
   "id": "4376e3d8632f278",
   "execution_count": 7
  },
  {
   "cell_type": "code",
   "outputs": [],
   "source": [
    "def func1(a, b):\n",
    "    val = a + b\n",
    "    return val\n",
    "\n",
    "\n",
    "def func2(a, b):\n",
    "    val = a + b\n",
    "    return val"
   ],
   "metadata": {
    "collapsed": false,
    "ExecuteTime": {
     "end_time": "2024-01-30T14:54:10.557540200Z",
     "start_time": "2024-01-30T14:54:10.552953700Z"
    }
   },
   "id": "326fed7aac38d2dc",
   "execution_count": 8
  },
  {
   "cell_type": "code",
   "outputs": [],
   "source": [
    "''' 실행시간 측정 데코레이터 '''\n",
    "\n",
    "\n",
    "def elapsed(func):  # 함수를 인풋으로 받는다.\n",
    "    def wrapper(a, b):\n",
    "        print(\"함수가 실행됩니다.\")\n",
    "\n",
    "        start = time.time()\n",
    "        result = func(a, b)  # 함수 실행\n",
    "        end = time.time()\n",
    "\n",
    "        print(\"함수 수행시간: %f 초\" % (end - start))  # 함수 수행시간\n",
    "        return result  # 함수 실행 결과 반환\n",
    "    return wrapper"
   ],
   "metadata": {
    "collapsed": false,
    "ExecuteTime": {
     "end_time": "2024-01-30T14:54:10.586533600Z",
     "start_time": "2024-01-30T14:54:10.555545600Z"
    }
   },
   "id": "af9b9f1e3f3bf85a",
   "execution_count": 9
  },
  {
   "cell_type": "code",
   "outputs": [
    {
     "name": "stdout",
     "output_type": "stream",
     "text": [
      "함수가 실행됩니다.\n",
      "함수 수행시간: 0.000000 초\n",
      "3\n"
     ]
    }
   ],
   "source": [
    "if __name__ == \"__main__\":\n",
    "    deco1 = elapsed(func1)\n",
    "    result = deco1(1, 2)\n",
    "    print(result)"
   ],
   "metadata": {
    "collapsed": false,
    "ExecuteTime": {
     "end_time": "2024-01-30T14:54:10.588597Z",
     "start_time": "2024-01-30T14:54:10.557540200Z"
    }
   },
   "id": "249c713f7c8ce025",
   "execution_count": 10
  },
  {
   "cell_type": "code",
   "outputs": [
    {
     "name": "stdout",
     "output_type": "stream",
     "text": [
      "함수가 실행됩니다.\n",
      "함수 수행시간: 0.000000 초\n",
      "3\n"
     ]
    }
   ],
   "source": [
    "if __name__ == \"__main__\":\n",
    "    deco2 = elapsed(func2)\n",
    "    result = deco2(1, 2)\n",
    "    print(result)"
   ],
   "metadata": {
    "collapsed": false,
    "ExecuteTime": {
     "end_time": "2024-01-30T14:54:10.588597Z",
     "start_time": "2024-01-30T14:54:10.561546700Z"
    }
   },
   "id": "509ca3d377759886",
   "execution_count": 11
  },
  {
   "cell_type": "code",
   "outputs": [],
   "source": [
    "@elapsed\n",
    "def func1(a, b):\n",
    "    val = a + b\n",
    "    return val\n",
    "\n",
    "@elapsed\n",
    "def func2(a, b):\n",
    "    val = a * b\n",
    "    return val    "
   ],
   "metadata": {
    "collapsed": false,
    "ExecuteTime": {
     "end_time": "2024-01-30T14:54:10.589614900Z",
     "start_time": "2024-01-30T14:54:10.563649600Z"
    }
   },
   "id": "f966d995615de5f6",
   "execution_count": 12
  },
  {
   "cell_type": "code",
   "outputs": [
    {
     "name": "stdout",
     "output_type": "stream",
     "text": [
      "함수가 실행됩니다.\n",
      "함수 수행시간: 0.000000 초\n",
      "3\n"
     ]
    }
   ],
   "source": [
    "if __name__ == \"__main__\":\n",
    "    result = func1(1, 2)\n",
    "    print(result)"
   ],
   "metadata": {
    "collapsed": false,
    "ExecuteTime": {
     "end_time": "2024-01-30T14:54:10.618964800Z",
     "start_time": "2024-01-30T14:54:10.589614900Z"
    }
   },
   "id": "d08d6d37dffd371e",
   "execution_count": 13
  },
  {
   "cell_type": "code",
   "outputs": [
    {
     "name": "stdout",
     "output_type": "stream",
     "text": [
      "함수가 실행됩니다.\n",
      "함수 수행시간: 0.000000 초\n",
      "2\n"
     ]
    }
   ],
   "source": [
    "if __name__ == \"__main__\":\n",
    "    result = func2(1, 2)\n",
    "    print(result)"
   ],
   "metadata": {
    "collapsed": false,
    "ExecuteTime": {
     "end_time": "2024-01-30T14:54:10.618964800Z",
     "start_time": "2024-01-30T14:54:10.592415600Z"
    }
   },
   "id": "918bdf156ddf2591",
   "execution_count": 14
  }
 ],
 "metadata": {
  "kernelspec": {
   "display_name": "Python 3",
   "language": "python",
   "name": "python3"
  },
  "language_info": {
   "codemirror_mode": {
    "name": "ipython",
    "version": 2
   },
   "file_extension": ".py",
   "mimetype": "text/x-python",
   "name": "python",
   "nbconvert_exporter": "python",
   "pygments_lexer": "ipython2",
   "version": "2.7.6"
  }
 },
 "nbformat": 4,
 "nbformat_minor": 5
}
