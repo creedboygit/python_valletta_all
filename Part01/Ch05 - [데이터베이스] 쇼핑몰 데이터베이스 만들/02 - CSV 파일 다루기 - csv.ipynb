{
 "cells": [
  {
   "cell_type": "markdown",
   "source": [
    "# Ch05. [데이터베이스] 쇼핑몰 데이터베이스 만들"
   ],
   "metadata": {
    "collapsed": false
   },
   "id": "cb556cdff150445d"
  },
  {
   "cell_type": "markdown",
   "source": [
    "> ### csv 파일\n",
    "> - comma-separated values 의 줄임말로 몇 가지 필드를 **쉼표(,)로 구분한 텍스트 데이터 및 텍스트 파일**\n",
    "> - 열과 행 구조로 이루어져 있는 대표적인 `정형 데이터` 형태입니다.\n",
    "> - csv 파일을 **데이터 베이스 프로그램**에 바로 import 해서 **테이블로 사용**이 가능\n",
    "> - 실제 상품 수, 데이터 수가 매우 많을 때 csv 를 자주 활용"
   ],
   "metadata": {
    "collapsed": false
   },
   "id": "ab93b747d9b44474"
  },
  {
   "cell_type": "markdown",
   "source": [
    "### csv 파일 읽기"
   ],
   "metadata": {
    "collapsed": false
   },
   "id": "f98cb11d61269274"
  },
  {
   "cell_type": "code",
   "outputs": [],
   "source": [
    "import csv"
   ],
   "metadata": {
    "collapsed": false,
    "ExecuteTime": {
     "end_time": "2024-02-12T13:34:18.281993500Z",
     "start_time": "2024-02-12T13:34:18.279994700Z"
    }
   },
   "id": "cac4819f2626f6be",
   "execution_count": 1
  },
  {
   "cell_type": "code",
   "outputs": [
    {
     "name": "stdout",
     "output_type": "stream",
     "text": [
      "['ID', '상품명', '가격']\n",
      "['1', '모자', '15000']\n",
      "['2', '코트', '200000']\n",
      "['3', '티셔츠', '20000']\n",
      "['4', '블라우스', '55000']\n",
      "['5', '가디건', '45000']\n",
      "['6', '청바지', '50000']\n",
      "['7', '구두', '150000']\n",
      "['8', '가방', '170000']\n"
     ]
    }
   ],
   "source": [
    "result = []\n",
    "\n",
    "with open('product_list.csv', 'r', encoding='euc-kr') as f:\n",
    "    reader = csv.reader(f)\n",
    "    for line in reader:\n",
    "        result.append(line)\n",
    "        print(line)"
   ],
   "metadata": {
    "collapsed": false,
    "ExecuteTime": {
     "end_time": "2024-02-12T13:38:23.579209600Z",
     "start_time": "2024-02-12T13:38:23.574822400Z"
    }
   },
   "id": "842573c48313e54a",
   "execution_count": 7
  },
  {
   "cell_type": "markdown",
   "source": [
    "### csv 파일 수정"
   ],
   "metadata": {
    "collapsed": false
   },
   "id": "5d44d8446e73b514"
  },
  {
   "cell_type": "code",
   "outputs": [],
   "source": [
    "# 방법 1\n",
    "with open('product_list.csv', 'w', newline='') as f:\n",
    "    writer = csv.writer(f)\n",
    "    writer.writerows(result)  # 이전 레코드\n",
    "    writer.writerow(['9', '양말', '15000'])  # 신규 레코드"
   ],
   "metadata": {
    "collapsed": false,
    "ExecuteTime": {
     "end_time": "2024-02-12T13:38:26.989714200Z",
     "start_time": "2024-02-12T13:38:26.987201200Z"
    }
   },
   "id": "7ea4953291f053f1",
   "execution_count": 8
  },
  {
   "cell_type": "code",
   "outputs": [],
   "source": [
    "# 방법 2\n",
    "result.append(['10', '양말', '130000'])\n",
    "\n",
    "with open('product_list.csv', 'w', newline='') as f:\n",
    "    writer = csv.writer(f)\n",
    "    writer.writerows(result)"
   ],
   "metadata": {
    "collapsed": false,
    "ExecuteTime": {
     "end_time": "2024-02-12T13:40:43.650417700Z",
     "start_time": "2024-02-12T13:40:43.646472300Z"
    }
   },
   "id": "9abe92b94ea0b7f",
   "execution_count": 12
  },
  {
   "cell_type": "code",
   "outputs": [],
   "source": [],
   "metadata": {
    "collapsed": false
   },
   "id": "de4a9a58e9d45ab8"
  }
 ],
 "metadata": {
  "kernelspec": {
   "display_name": "Python 3",
   "language": "python",
   "name": "python3"
  },
  "language_info": {
   "codemirror_mode": {
    "name": "ipython",
    "version": 2
   },
   "file_extension": ".py",
   "mimetype": "text/x-python",
   "name": "python",
   "nbconvert_exporter": "python",
   "pygments_lexer": "ipython2",
   "version": "2.7.6"
  }
 },
 "nbformat": 4,
 "nbformat_minor": 5
}
