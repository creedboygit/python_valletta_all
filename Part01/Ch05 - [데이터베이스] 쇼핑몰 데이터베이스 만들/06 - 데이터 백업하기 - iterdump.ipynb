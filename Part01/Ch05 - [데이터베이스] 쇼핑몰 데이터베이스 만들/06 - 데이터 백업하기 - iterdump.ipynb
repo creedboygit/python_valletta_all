{
 "cells": [
  {
   "cell_type": "markdown",
   "source": [
    "### iterdump\n",
    "- 데이터베이스를 백업할 때 사용하는 모듈\n",
    "- .sql 파일 확장자로 테이블을 다시 복원할 수 있는 쿼리문을 저장"
   ],
   "metadata": {
    "collapsed": false
   },
   "id": "7c09aeaa53d5b896"
  },
  {
   "cell_type": "code",
   "outputs": [],
   "source": [
    "import sqlite3"
   ],
   "metadata": {
    "collapsed": false,
    "ExecuteTime": {
     "end_time": "2024-02-14T08:26:13.651583700Z",
     "start_time": "2024-02-14T08:26:13.648720300Z"
    }
   },
   "id": "d47663bb470e2136",
   "execution_count": 1
  },
  {
   "cell_type": "code",
   "outputs": [],
   "source": [
    "# 연습용 DB 연결\n",
    "conn = sqlite3.connect(\"test.db\")\n",
    "\n",
    "# 커서 생성\n",
    "c = conn.cursor()"
   ],
   "metadata": {
    "collapsed": false,
    "ExecuteTime": {
     "end_time": "2024-02-14T08:26:36.606581700Z",
     "start_time": "2024-02-14T08:26:36.591365800Z"
    }
   },
   "id": "e8ed7d35322a7f35",
   "execution_count": 2
  },
  {
   "cell_type": "code",
   "outputs": [],
   "source": [
    "# 추가할 상품 리스트\n",
    "product_list = [\n",
    "    ['모자', 10000],\n",
    "    ['가방', 12000],\n",
    "    ['가방', 120001],\n",
    "    ['가방', 120002],\n",
    "    ['가방', 120003],\n",
    "    ['바지', 20000],\n",
    "]"
   ],
   "metadata": {
    "collapsed": false,
    "ExecuteTime": {
     "end_time": "2024-02-14T08:27:31.662907600Z",
     "start_time": "2024-02-14T08:27:31.660395600Z"
    }
   },
   "id": "809ea5acbc3d67e5",
   "execution_count": 3
  },
  {
   "cell_type": "code",
   "outputs": [],
   "source": [
    "# 데이터 여러 줄 삽입\n",
    "c.executemany(\"insert or replace into test2 (product_name, price) values (?, ?)\", product_list)\n",
    "conn.commit()"
   ],
   "metadata": {
    "collapsed": false,
    "ExecuteTime": {
     "end_time": "2024-02-14T08:28:09.195164300Z",
     "start_time": "2024-02-14T08:28:09.184226900Z"
    }
   },
   "id": "57d1d2231c9b8c19",
   "execution_count": 4
  },
  {
   "cell_type": "code",
   "outputs": [
    {
     "name": "stdout",
     "output_type": "stream",
     "text": [
      "BEGIN TRANSACTION;\n",
      "CREATE TABLE test (id integer primary key, product_name text, price integer);\n",
      "INSERT INTO \"test\" VALUES(1,'상품명1',10000);\n",
      "INSERT INTO \"test\" VALUES(2,'상품명2',20000);\n",
      "INSERT INTO \"test\" VALUES(3,'상품명3',30000);\n",
      "CREATE TABLE test2 (id integer primary key, product_name text, price integer);\n",
      "INSERT INTO \"test2\" VALUES(1,'모자',10000);\n",
      "INSERT INTO \"test2\" VALUES(2,'가방',12000);\n",
      "INSERT INTO \"test2\" VALUES(3,'가방',120001);\n",
      "INSERT INTO \"test2\" VALUES(4,'가방',120002);\n",
      "INSERT INTO \"test2\" VALUES(5,'가방',120003);\n",
      "INSERT INTO \"test2\" VALUES(6,'바지',20000);\n",
      "COMMIT;\n"
     ]
    }
   ],
   "source": [
    "# iterdump 내용 확인\n",
    "for line in conn.iterdump():\n",
    "    print(line)"
   ],
   "metadata": {
    "collapsed": false,
    "ExecuteTime": {
     "end_time": "2024-02-14T08:31:05.426172500Z",
     "start_time": "2024-02-14T08:31:05.413204900Z"
    }
   },
   "id": "96a599d0e6f94366",
   "execution_count": 5
  },
  {
   "cell_type": "code",
   "outputs": [
    {
     "name": "stdout",
     "output_type": "stream",
     "text": [
      "Completed\n"
     ]
    }
   ],
   "source": [
    "# 데이터베이스 백업 파일 생성\n",
    "with conn:\n",
    "    with open('backup.sql', 'w') as f:\n",
    "        for line in conn.iterdump():\n",
    "            f.write('%s\\n' % line)\n",
    "        print('Completed')"
   ],
   "metadata": {
    "collapsed": false,
    "ExecuteTime": {
     "end_time": "2024-02-14T08:32:20.726405800Z",
     "start_time": "2024-02-14T08:32:20.696239900Z"
    }
   },
   "id": "6084d4104533bed4",
   "execution_count": 6
  },
  {
   "cell_type": "code",
   "outputs": [],
   "source": [
    "# 테이블 삭제\n",
    "c.execute(\"drop table test\")\n",
    "c.execute(\"drop table test2\")\n",
    "conn.commit()"
   ],
   "metadata": {
    "collapsed": false,
    "ExecuteTime": {
     "end_time": "2024-02-14T08:39:32.327766100Z",
     "start_time": "2024-02-14T08:39:32.320385700Z"
    }
   },
   "id": "a2ec02c452b38479",
   "execution_count": 13
  },
  {
   "cell_type": "code",
   "outputs": [],
   "source": [
    "# 백업 sql 파일 로딩\n",
    "with open(\"backup.sql\", 'r') as sql_file:\n",
    "    sql_script = sql_file.read()"
   ],
   "metadata": {
    "collapsed": false,
    "ExecuteTime": {
     "end_time": "2024-02-14T08:39:32.793218300Z",
     "start_time": "2024-02-14T08:39:32.789701100Z"
    }
   },
   "id": "a8ffa221e87c17db",
   "execution_count": 14
  },
  {
   "cell_type": "code",
   "outputs": [
    {
     "data": {
      "text/plain": "'BEGIN TRANSACTION;\\nCREATE TABLE test (id integer primary key, product_name text, price integer);\\nINSERT INTO \"test\" VALUES(1,\\'상품명1\\',10000);\\nINSERT INTO \"test\" VALUES(2,\\'상품명2\\',20000);\\nINSERT INTO \"test\" VALUES(3,\\'상품명3\\',30000);\\nCREATE TABLE test2 (id integer primary key, product_name text, price integer);\\nINSERT INTO \"test2\" VALUES(1,\\'모자\\',10000);\\nINSERT INTO \"test2\" VALUES(2,\\'가방\\',12000);\\nINSERT INTO \"test2\" VALUES(3,\\'가방\\',120001);\\nINSERT INTO \"test2\" VALUES(4,\\'가방\\',120002);\\nINSERT INTO \"test2\" VALUES(5,\\'가방\\',120003);\\nINSERT INTO \"test2\" VALUES(6,\\'바지\\',20000);\\nCOMMIT;\\n'"
     },
     "execution_count": 15,
     "metadata": {},
     "output_type": "execute_result"
    }
   ],
   "source": [
    "sql_script"
   ],
   "metadata": {
    "collapsed": false,
    "ExecuteTime": {
     "end_time": "2024-02-14T08:39:33.271341900Z",
     "start_time": "2024-02-14T08:39:33.268279600Z"
    }
   },
   "id": "15069b016cf8fccb",
   "execution_count": 15
  },
  {
   "cell_type": "code",
   "outputs": [],
   "source": [
    "# sql 스크립트 실행\n",
    "c.executescript(sql_script)\n",
    "conn.commit()"
   ],
   "metadata": {
    "collapsed": false,
    "ExecuteTime": {
     "end_time": "2024-02-14T08:39:33.726371100Z",
     "start_time": "2024-02-14T08:39:33.722347300Z"
    }
   },
   "id": "43de2afe8b23d005",
   "execution_count": 16
  },
  {
   "cell_type": "code",
   "outputs": [],
   "source": [],
   "metadata": {
    "collapsed": false
   },
   "id": "fac78070a174ae13"
  }
 ],
 "metadata": {
  "kernelspec": {
   "display_name": "Python 3",
   "language": "python",
   "name": "python3"
  },
  "language_info": {
   "codemirror_mode": {
    "name": "ipython",
    "version": 2
   },
   "file_extension": ".py",
   "mimetype": "text/x-python",
   "name": "python",
   "nbconvert_exporter": "python",
   "pygments_lexer": "ipython2",
   "version": "2.7.6"
  }
 },
 "nbformat": 4,
 "nbformat_minor": 5
}
