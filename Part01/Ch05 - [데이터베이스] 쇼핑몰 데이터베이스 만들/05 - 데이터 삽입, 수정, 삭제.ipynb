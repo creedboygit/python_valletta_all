{
 "cells": [
  {
   "cell_type": "code",
   "execution_count": 34,
   "id": "initial_id",
   "metadata": {
    "collapsed": true,
    "ExecuteTime": {
     "end_time": "2024-02-14T08:24:28.911695300Z",
     "start_time": "2024-02-14T08:24:28.872085100Z"
    }
   },
   "outputs": [],
   "source": [
    "import sqlite3"
   ]
  },
  {
   "cell_type": "code",
   "outputs": [],
   "source": [
    "# 연습용 DB 연결\n",
    "conn = sqlite3.connect(\"test.db\")"
   ],
   "metadata": {
    "collapsed": false,
    "ExecuteTime": {
     "end_time": "2024-02-14T08:24:28.921279400Z",
     "start_time": "2024-02-14T08:24:28.913696100Z"
    }
   },
   "id": "23fa23fd77bcdeec",
   "execution_count": 35
  },
  {
   "cell_type": "code",
   "outputs": [],
   "source": [
    "# 커서 생성\n",
    "c = conn.cursor()"
   ],
   "metadata": {
    "collapsed": false,
    "ExecuteTime": {
     "end_time": "2024-02-14T08:24:28.931966500Z",
     "start_time": "2024-02-14T08:24:28.923279200Z"
    }
   },
   "id": "5766ed08da3dbf4e",
   "execution_count": 36
  },
  {
   "cell_type": "code",
   "outputs": [
    {
     "ename": "OperationalError",
     "evalue": "table test2 already exists",
     "output_type": "error",
     "traceback": [
      "\u001B[1;31m---------------------------------------------------------------------------\u001B[0m",
      "\u001B[1;31mOperationalError\u001B[0m                          Traceback (most recent call last)",
      "Cell \u001B[1;32mIn[37], line 3\u001B[0m\n\u001B[0;32m      1\u001B[0m \u001B[38;5;66;03m# 테이블 생성\u001B[39;00m\n\u001B[0;32m      2\u001B[0m query \u001B[38;5;241m=\u001B[39m \u001B[38;5;124m'''\u001B[39m\u001B[38;5;124mcreate table test2 (id integer primary key, product_name text, price integer)\u001B[39m\u001B[38;5;124m'''\u001B[39m\n\u001B[1;32m----> 3\u001B[0m \u001B[43mc\u001B[49m\u001B[38;5;241;43m.\u001B[39;49m\u001B[43mexecute\u001B[49m\u001B[43m(\u001B[49m\u001B[43mquery\u001B[49m\u001B[43m)\u001B[49m\n",
      "\u001B[1;31mOperationalError\u001B[0m: table test2 already exists"
     ]
    }
   ],
   "source": [
    "# 테이블 생성\n",
    "query = '''create table test2 (id integer primary key, product_name text, price integer)'''\n",
    "c.execute(query)"
   ],
   "metadata": {
    "collapsed": false,
    "ExecuteTime": {
     "end_time": "2024-02-14T08:24:28.933478200Z",
     "start_time": "2024-02-14T08:24:28.926658900Z"
    }
   },
   "id": "139765d1a46f739d",
   "execution_count": 37
  },
  {
   "cell_type": "code",
   "outputs": [],
   "source": [
    "# 테이블 생성 확인\n",
    "c.execute('''select * from sqlite_master where type = \"table\"''')\n",
    "print(c.fetchall())"
   ],
   "metadata": {
    "collapsed": false,
    "ExecuteTime": {
     "end_time": "2024-02-14T08:24:28.974360600Z",
     "start_time": "2024-02-14T08:24:28.934479600Z"
    }
   },
   "id": "e91df270279f5da8",
   "execution_count": null
  },
  {
   "cell_type": "markdown",
   "source": [
    "### insert 방법\n",
    "1. 열(키) 항목 순서를 정확히 알고 있는 경우"
   ],
   "metadata": {
    "collapsed": false
   },
   "id": "7f3fed81ddb217c0"
  },
  {
   "cell_type": "code",
   "outputs": [],
   "source": [
    "# 데이터 삽입\n",
    "c.execute(\"insert into test2 values (1, '모자', 14500)\")"
   ],
   "metadata": {
    "collapsed": false,
    "ExecuteTime": {
     "start_time": "2024-02-14T08:24:28.935477600Z"
    }
   },
   "id": "98e720a4728043df",
   "execution_count": null
  },
  {
   "cell_type": "code",
   "outputs": [],
   "source": [
    "conn.commit()"
   ],
   "metadata": {
    "collapsed": false,
    "ExecuteTime": {
     "start_time": "2024-02-14T08:24:28.936477100Z"
    }
   },
   "id": "79a9ea4a721348c1",
   "execution_count": null
  },
  {
   "cell_type": "code",
   "outputs": [],
   "source": [
    "# 데이터 삽입\n",
    "c.execute(\"insert into test2 values (2, '코트', 130300)\")\n",
    "conn.commit()"
   ],
   "metadata": {
    "collapsed": false,
    "ExecuteTime": {
     "start_time": "2024-02-14T08:24:28.937478Z"
    }
   },
   "id": "cd84a2f9b0b2f960",
   "execution_count": null
  },
  {
   "cell_type": "markdown",
   "source": [
    "### insert 방법\n",
    "2. 열(키) 항목 순서를 정확히 모르는 경우"
   ],
   "metadata": {
    "collapsed": false
   },
   "id": "cd592b7ccd48c62b"
  },
  {
   "cell_type": "code",
   "outputs": [],
   "source": [
    "# 데이터 삽입\n",
    "c.execute(\"insert into test2 (product_name, price, id) values (?, ?, ?)\", ('티셔츠', 20000, 3))\n",
    "conn.commit()"
   ],
   "metadata": {
    "collapsed": false,
    "ExecuteTime": {
     "end_time": "2024-02-14T08:24:28.995871600Z",
     "start_time": "2024-02-14T08:24:28.971610100Z"
    }
   },
   "id": "2eddff633e0133ea",
   "execution_count": 38
  },
  {
   "cell_type": "code",
   "outputs": [],
   "source": [
    "# 데이터 삽입\n",
    "c.execute(\"insert into test2 (id, product_name, price) values (?, ?, ?)\", (4, '블라우스', 300000))\n",
    "conn.commit()"
   ],
   "metadata": {
    "collapsed": false,
    "ExecuteTime": {
     "end_time": "2024-02-14T08:24:29.008577800Z",
     "start_time": "2024-02-14T08:24:28.996872800Z"
    }
   },
   "id": "cb4f7ed718aaccf4",
   "execution_count": 39
  },
  {
   "cell_type": "code",
   "outputs": [],
   "source": [
    "c.execute(\"insert into test2 (id, product_name, price) values (6, '블라우스', 300000)\")\n",
    "conn.commit()"
   ],
   "metadata": {
    "collapsed": false,
    "ExecuteTime": {
     "end_time": "2024-02-14T08:24:29.009092100Z",
     "start_time": "2024-02-14T08:24:29.002403400Z"
    }
   },
   "id": "fb29d0e3c2b86925",
   "execution_count": 40
  },
  {
   "cell_type": "markdown",
   "source": [
    "### insert 방법\n",
    "3. 여러 데이터를 한번에 삽입하고 싶은 경우"
   ],
   "metadata": {
    "collapsed": false
   },
   "id": "4c16bc7eb8fadd75"
  },
  {
   "cell_type": "code",
   "outputs": [],
   "source": [
    "# 테이블 내용 전체 삭제\n",
    "c.execute(\"delete from test2\")\n",
    "conn.commit()"
   ],
   "metadata": {
    "collapsed": false,
    "ExecuteTime": {
     "end_time": "2024-02-14T08:24:29.011090500Z",
     "start_time": "2024-02-14T08:24:29.005895600Z"
    }
   },
   "id": "d61f5092fad2d1f9",
   "execution_count": 41
  },
  {
   "cell_type": "code",
   "outputs": [],
   "source": [
    "# 추가할 상품 리스트\n",
    "product_list = [\n",
    "    ['모자', 10000],\n",
    "    ['가방', 12000],\n",
    "    ['가방', 120001],\n",
    "    ['가방', 120002],\n",
    "    ['가방', 120003],\n",
    "    ['바지', 20000],\n",
    "]\n",
    "\n",
    "# 데이터 여러 줄 삽입\n",
    "c.executemany(\"insert into test2 (product_name, price) values (?, ?)\", product_list)\n",
    "conn.commit()"
   ],
   "metadata": {
    "collapsed": false,
    "ExecuteTime": {
     "end_time": "2024-02-14T08:24:29.014859500Z",
     "start_time": "2024-02-14T08:24:29.011090500Z"
    }
   },
   "id": "4c5f90e0f7cc04ba",
   "execution_count": 42
  },
  {
   "cell_type": "markdown",
   "source": [
    "### 데이터 수정 (update)"
   ],
   "metadata": {
    "collapsed": false
   },
   "id": "ea840f74f388d3cb"
  },
  {
   "cell_type": "markdown",
   "source": [
    "### update 방법\n",
    "1. 튜플 형태로 수정"
   ],
   "metadata": {
    "collapsed": false
   },
   "id": "44f12fb139fc8250"
  },
  {
   "cell_type": "code",
   "outputs": [],
   "source": [
    "c.execute(\"update test2 set product_name = '수정상품명' where id = 1\")\n",
    "conn.commit()"
   ],
   "metadata": {
    "collapsed": false,
    "ExecuteTime": {
     "end_time": "2024-02-14T08:24:29.038393Z",
     "start_time": "2024-02-14T08:24:29.014859500Z"
    }
   },
   "id": "d946bdb35e4b7ca4",
   "execution_count": 43
  },
  {
   "cell_type": "code",
   "outputs": [],
   "source": [
    "c.execute(\"update test2 set product_name = ? where id = ?\", ('슬랙스', 1))\n",
    "conn.commit()"
   ],
   "metadata": {
    "collapsed": false,
    "ExecuteTime": {
     "end_time": "2024-02-14T08:24:29.039394400Z",
     "start_time": "2024-02-14T08:24:29.019548500Z"
    }
   },
   "id": "108bf14bdfbc2429",
   "execution_count": 44
  },
  {
   "cell_type": "markdown",
   "source": [
    "### update 방법\n",
    "2. 딕셔너리 형태로 수정"
   ],
   "metadata": {
    "collapsed": false
   },
   "id": "93ddaeaaee9bbdb3"
  },
  {
   "cell_type": "code",
   "outputs": [],
   "source": [
    "c.execute(\"update test2 set price = :price where id = :id\", {\"price\": 200, \"id\": 2})\n",
    "conn.commit()"
   ],
   "metadata": {
    "collapsed": false,
    "ExecuteTime": {
     "end_time": "2024-02-14T08:24:29.039394400Z",
     "start_time": "2024-02-14T08:24:29.023375Z"
    }
   },
   "id": "3e2be715f71e8af3",
   "execution_count": 45
  },
  {
   "cell_type": "markdown",
   "source": [
    "### update 방법\n",
    "3. %s 표시자 사용"
   ],
   "metadata": {
    "collapsed": false
   },
   "id": "db70107be94fd161"
  },
  {
   "cell_type": "code",
   "outputs": [],
   "source": [
    "c.execute(\"update test2 set product_name = '%s' where id = '%s'\" % ('블라우시스', 2))\n",
    "conn.commit()"
   ],
   "metadata": {
    "collapsed": false,
    "ExecuteTime": {
     "end_time": "2024-02-14T08:24:29.040393600Z",
     "start_time": "2024-02-14T08:24:29.027891300Z"
    }
   },
   "id": "709a0843cd828136",
   "execution_count": 46
  },
  {
   "cell_type": "markdown",
   "source": [
    "### 데이터 삭제 (delete)"
   ],
   "metadata": {
    "collapsed": false
   },
   "id": "178c33c288a3d82a"
  },
  {
   "cell_type": "markdown",
   "source": [
    "### delete 방법"
   ],
   "metadata": {
    "collapsed": false
   },
   "id": "786927f91290b70a"
  },
  {
   "cell_type": "markdown",
   "source": [
    "1. 튜플 형태로 삭제"
   ],
   "metadata": {
    "collapsed": false
   },
   "id": "d0b99893c77ba64a"
  },
  {
   "cell_type": "code",
   "outputs": [],
   "source": [
    "c.execute(\"delete from test2 where id = ?\", (2,))\n",
    "conn.commit()"
   ],
   "metadata": {
    "collapsed": false,
    "ExecuteTime": {
     "end_time": "2024-02-14T08:24:29.040393600Z",
     "start_time": "2024-02-14T08:24:29.031688100Z"
    }
   },
   "id": "6f4f39fb7238fac5",
   "execution_count": 47
  },
  {
   "cell_type": "markdown",
   "source": [
    "2. 딕셔너리 형태로 삭제"
   ],
   "metadata": {
    "collapsed": false
   },
   "id": "6b61319b20a78103"
  },
  {
   "cell_type": "code",
   "outputs": [],
   "source": [
    "c.execute(\"delete from test2 where id = :id\", {\"id\": 3})\n",
    "conn.commit()"
   ],
   "metadata": {
    "collapsed": false,
    "ExecuteTime": {
     "end_time": "2024-02-14T08:24:29.065753300Z",
     "start_time": "2024-02-14T08:24:29.040393600Z"
    }
   },
   "id": "144273507c9fddfe",
   "execution_count": 48
  },
  {
   "cell_type": "code",
   "outputs": [],
   "source": [
    "c.execute(\"delete from test2 where product_name like '하이%'\")\n",
    "conn.commit()"
   ],
   "metadata": {
    "collapsed": false,
    "ExecuteTime": {
     "end_time": "2024-02-14T08:24:30.761136800Z",
     "start_time": "2024-02-14T08:24:30.754615100Z"
    }
   },
   "id": "fd0f5735550766f5",
   "execution_count": 52
  },
  {
   "cell_type": "markdown",
   "source": [
    "3. 전체 삭제"
   ],
   "metadata": {
    "collapsed": false
   },
   "id": "9d8ad1b8f5b1c035"
  },
  {
   "cell_type": "code",
   "outputs": [],
   "source": [
    "c.execute(\"delete from test2\")\n",
    "conn.commit()"
   ],
   "metadata": {
    "collapsed": false,
    "ExecuteTime": {
     "end_time": "2024-02-14T08:24:32.847735300Z",
     "start_time": "2024-02-14T08:24:32.837165600Z"
    }
   },
   "id": "9ea4140c05e0bc1c",
   "execution_count": 53
  },
  {
   "cell_type": "code",
   "outputs": [],
   "source": [
    "conn.close()"
   ],
   "metadata": {
    "collapsed": false,
    "ExecuteTime": {
     "end_time": "2024-02-14T08:24:34.433529300Z",
     "start_time": "2024-02-14T08:24:34.422150100Z"
    }
   },
   "id": "84c9b688661aa548",
   "execution_count": 54
  }
 ],
 "metadata": {
  "kernelspec": {
   "display_name": "Python 3",
   "language": "python",
   "name": "python3"
  },
  "language_info": {
   "codemirror_mode": {
    "name": "ipython",
    "version": 2
   },
   "file_extension": ".py",
   "mimetype": "text/x-python",
   "name": "python",
   "nbconvert_exporter": "python",
   "pygments_lexer": "ipython2",
   "version": "2.7.6"
  }
 },
 "nbformat": 4,
 "nbformat_minor": 5
}
