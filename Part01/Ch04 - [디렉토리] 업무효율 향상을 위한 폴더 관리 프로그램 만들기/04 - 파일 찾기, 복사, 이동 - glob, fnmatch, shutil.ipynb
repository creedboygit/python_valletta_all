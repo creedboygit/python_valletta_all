{
 "cells": [
  {
   "cell_type": "markdown",
   "source": [
    "> ### glob\n",
    "> * `glob`는 패턴을 이용하여 파일을 검색할 때 사용하는 모듈"
   ],
   "metadata": {
    "collapsed": false
   },
   "id": "3e57570ea2cfe1ef"
  },
  {
   "cell_type": "markdown",
   "source": [
    "### 파일 확장자로 찾기"
   ],
   "metadata": {
    "collapsed": false
   },
   "id": "422595ebb45d6994"
  },
  {
   "cell_type": "code",
   "outputs": [],
   "source": [
    "\n",
    "import glob\n",
    "import os"
   ],
   "metadata": {
    "collapsed": false,
    "ExecuteTime": {
     "end_time": "2024-02-11T08:01:47.854661200Z",
     "start_time": "2024-02-11T08:01:47.849509800Z"
    }
   },
   "id": "cc5d327b764e32c9",
   "execution_count": 1
  },
  {
   "cell_type": "code",
   "outputs": [
    {
     "data": {
      "text/plain": "'D:\\\\940 python_study\\\\200 study\\\\220 valletta_all\\\\python_valletta_all\\\\Ch04. [디렉토리] 업무효율 향상을 위한 폴더 관리 프로그램 만들기'"
     },
     "execution_count": 2,
     "metadata": {},
     "output_type": "execute_result"
    }
   ],
   "source": [
    "# 현재 디렉토리 확인\n",
    "os.getcwd()"
   ],
   "metadata": {
    "collapsed": false,
    "ExecuteTime": {
     "end_time": "2024-02-11T08:01:51.723160200Z",
     "start_time": "2024-02-11T08:01:51.711554200Z"
    }
   },
   "id": "e7963cb79ea4cf77",
   "execution_count": 2
  },
  {
   "cell_type": "code",
   "outputs": [
    {
     "name": "stdout",
     "output_type": "stream",
     "text": [
      "newfile.txt\n"
     ]
    }
   ],
   "source": [
    "# txt 파일 찾기 - 현재 경로\n",
    "for filename in glob.glob(\"*ewfile.txt\"):\n",
    "    print(filename)"
   ],
   "metadata": {
    "collapsed": false,
    "ExecuteTime": {
     "end_time": "2024-02-11T08:04:42.638253700Z",
     "start_time": "2024-02-11T08:04:42.630805500Z"
    }
   },
   "id": "cbc0017513522f72",
   "execution_count": 16
  },
  {
   "cell_type": "code",
   "outputs": [
    {
     "name": "stdout",
     "output_type": "stream",
     "text": [
      "sample\\새파일1.txt\n",
      "sample\\새파일2.txt\n",
      "sample\\새파일3.txt\n"
     ]
    }
   ],
   "source": [
    "# txt 파일 찾기 - 하위 경로\n",
    "for filename in glob.glob(\"**/*.txt\"):\n",
    "    print(filename)"
   ],
   "metadata": {
    "collapsed": false,
    "ExecuteTime": {
     "end_time": "2024-02-11T08:02:45.917469900Z",
     "start_time": "2024-02-11T08:02:45.912375Z"
    }
   },
   "id": "90141be93b87d81c",
   "execution_count": 5
  },
  {
   "cell_type": "code",
   "outputs": [
    {
     "name": "stdout",
     "output_type": "stream",
     "text": [
      "sample\\새파일1.txt\n",
      "sample\\새파일2.txt\n",
      "sample\\새파일3.txt\n"
     ]
    }
   ],
   "source": [
    "# txt 파일 찾기 - 현재와 하위 경로 모두 포함\n",
    "# for filename in glob.glob(\"../*.txt\", recursive=True):\n",
    "for filename in glob.glob(\"**/*.txt\", recursive=True):\n",
    "    print(filename)"
   ],
   "metadata": {
    "collapsed": false,
    "ExecuteTime": {
     "end_time": "2024-02-11T08:07:58.002760400Z",
     "start_time": "2024-02-11T08:07:57.996503400Z"
    }
   },
   "id": "31d9a58034599644",
   "execution_count": 20
  },
  {
   "cell_type": "markdown",
   "source": [
    "### 파일명 글자수로 찾기"
   ],
   "metadata": {
    "collapsed": false
   },
   "id": "7274a72f623c1dde"
  },
  {
   "cell_type": "code",
   "outputs": [
    {
     "name": "stdout",
     "output_type": "stream",
     "text": [
      "list.pkl\n"
     ]
    }
   ],
   "source": [
    "# 글자수 4\n",
    "for filename in glob.glob(\"????.*\", recursive=True):\n",
    "    print(filename)"
   ],
   "metadata": {
    "collapsed": false,
    "ExecuteTime": {
     "end_time": "2024-02-11T08:09:21.908126100Z",
     "start_time": "2024-02-11T08:09:21.903635100Z"
    }
   },
   "id": "5f9481f83f7644d0",
   "execution_count": 24
  },
  {
   "cell_type": "code",
   "outputs": [
    {
     "name": "stdout",
     "output_type": "stream",
     "text": [
      "dictionary.pkl\n"
     ]
    }
   ],
   "source": [
    "# 글자수 10\n",
    "for filename in glob.glob(\"??????????.*\", recursive=True):\n",
    "    print(filename)"
   ],
   "metadata": {
    "collapsed": false,
    "ExecuteTime": {
     "end_time": "2024-02-11T08:09:51.999754200Z",
     "start_time": "2024-02-11T08:09:51.993457300Z"
    }
   },
   "id": "47e9703fb8f3cc42",
   "execution_count": 26
  },
  {
   "cell_type": "markdown",
   "source": [
    "### 문자열 포함 파일명 찾기"
   ],
   "metadata": {
    "collapsed": false
   },
   "id": "f24b2deb65211ed9"
  },
  {
   "cell_type": "code",
   "outputs": [
    {
     "name": "stdout",
     "output_type": "stream",
     "text": [
      "list1.pkl\n"
     ]
    }
   ],
   "source": [
    "for filename in glob.glob(\"**/[a-z][a-z][a-z][a-z][0-9].*\", recursive=True):\n",
    "    print(filename)"
   ],
   "metadata": {
    "collapsed": false,
    "ExecuteTime": {
     "end_time": "2024-02-11T08:18:54.696834400Z",
     "start_time": "2024-02-11T08:18:54.693830300Z"
    }
   },
   "id": "90585a220cef546a",
   "execution_count": 40
  },
  {
   "cell_type": "code",
   "outputs": [
    {
     "name": "stdout",
     "output_type": "stream",
     "text": [
      "sample\\새파일1.txt\n",
      "sample\\새파일2.txt\n",
      "sample\\새파일3.txt\n"
     ]
    }
   ],
   "source": [
    "for filename in glob.glob(\"**/새파일*.*\", recursive=True):\n",
    "    print(filename)"
   ],
   "metadata": {
    "collapsed": false,
    "ExecuteTime": {
     "end_time": "2024-02-11T08:17:29.667549600Z",
     "start_time": "2024-02-11T08:17:29.660985600Z"
    }
   },
   "id": "f83d4af534f1fd93",
   "execution_count": 33
  },
  {
   "cell_type": "code",
   "outputs": [
    {
     "name": "stdout",
     "output_type": "stream",
     "text": [
      "06. 미니 프로젝트 실습.ipynb\n"
     ]
    }
   ],
   "source": [
    "for filename in glob.glob(\"**/*프로젝트*.*\", recursive=True):\n",
    "    print(filename)"
   ],
   "metadata": {
    "collapsed": false,
    "ExecuteTime": {
     "end_time": "2024-02-11T08:19:29.111923300Z",
     "start_time": "2024-02-11T08:19:29.104920800Z"
    }
   },
   "id": "313528e6f9c42437",
   "execution_count": 41
  },
  {
   "cell_type": "markdown",
   "source": [
    "> ### fnmatch\n",
    "> * `fnmatch`는 `glob`와 동일하게 특정한 패턴을 따르는 파일명을 찾아주는 모듈\n",
    "> * 파일명 매칭 여부를 True, False 형태로 반환하기 때문에 os.listdir() 함수와 함께 사용하는 것이 특징"
   ],
   "metadata": {
    "collapsed": false
   },
   "id": "fb31144ae806b30d"
  },
  {
   "cell_type": "code",
   "outputs": [],
   "source": [
    "import fnmatch\n",
    "import os"
   ],
   "metadata": {
    "collapsed": false,
    "ExecuteTime": {
     "end_time": "2024-02-11T08:20:37.988382Z",
     "start_time": "2024-02-11T08:20:37.982419800Z"
    }
   },
   "id": "124ebf4c26ee2ec3",
   "execution_count": 42
  },
  {
   "cell_type": "markdown",
   "source": [
    "### 탐색 조건\n",
    "- 파일명은 '새'로 시작한다.\n",
    "- 확장자는 텍스트 파일을 의미하는 .txt이디ㅏ.\n",
    "- 확장자를 제외한 파일명의 길이는 4이다.\n",
    "- 파일명의 마지막 문자는 숫자이다."
   ],
   "metadata": {
    "collapsed": false
   },
   "id": "9447d590481450ed"
  },
  {
   "cell_type": "code",
   "outputs": [
    {
     "name": "stdout",
     "output_type": "stream",
     "text": [
      "새파일1.txt\n",
      "새파일2.txt\n",
      "새파일3.txt\n",
      "새파일4.txt\n"
     ]
    }
   ],
   "source": [
    "for filename in os.listdir('./sample'):\n",
    "    if fnmatch.fnmatch(filename, '새??[0-9].txt'):\n",
    "        print(filename)"
   ],
   "metadata": {
    "collapsed": false,
    "ExecuteTime": {
     "end_time": "2024-02-11T08:26:06.647287300Z",
     "start_time": "2024-02-11T08:26:06.642873300Z"
    }
   },
   "id": "6b95da95a10041f7",
   "execution_count": 47
  },
  {
   "cell_type": "markdown",
   "source": [
    "> ### shutil\n",
    "> - `shutil`은 파일을 복사하거나 이동할 때 사용하는 내장 모듈\n",
    "> - `copy`, `copy2` : 파일 복사\n",
    "> - `move` : 파일 이동, 확장자 변경"
   ],
   "metadata": {
    "collapsed": false
   },
   "id": "d52bc4778772f790"
  },
  {
   "cell_type": "code",
   "outputs": [],
   "source": [
    "import shutil"
   ],
   "metadata": {
    "collapsed": false,
    "ExecuteTime": {
     "end_time": "2024-02-11T08:47:10.032467400Z",
     "start_time": "2024-02-11T08:47:10.027976300Z"
    }
   },
   "id": "98eac86d07001187",
   "execution_count": 2
  },
  {
   "cell_type": "code",
   "outputs": [
    {
     "data": {
      "text/plain": "'./sample/새파일7_복사본.txt'"
     },
     "execution_count": 3,
     "metadata": {},
     "output_type": "execute_result"
    }
   ],
   "source": [
    "# 파일 복사\n",
    "shutil.copy(\"./sample/새파일1.txt\", \"./sample/새파일7_복사본.txt\")"
   ],
   "metadata": {
    "collapsed": false,
    "ExecuteTime": {
     "end_time": "2024-02-11T08:47:10.444237400Z",
     "start_time": "2024-02-11T08:47:10.432544500Z"
    }
   },
   "id": "e1c719d348765908",
   "execution_count": 3
  },
  {
   "cell_type": "code",
   "outputs": [
    {
     "data": {
      "text/plain": "'./sample/새파일1_복사본_메타.txt'"
     },
     "execution_count": 4,
     "metadata": {},
     "output_type": "execute_result"
    }
   ],
   "source": [
    "# 메타 정보 복사\n",
    "shutil.copy2(\"./sample/새파일1.txt\", \"./sample/새파일1_복사본_메타.txt\")"
   ],
   "metadata": {
    "collapsed": false,
    "ExecuteTime": {
     "end_time": "2024-02-11T08:50:04.209769300Z",
     "start_time": "2024-02-11T08:50:04.162619200Z"
    }
   },
   "id": "2265bd666ed13925",
   "execution_count": 4
  },
  {
   "cell_type": "code",
   "outputs": [
    {
     "data": {
      "text/plain": "'./sample/새파일1_복사본.jpg'"
     },
     "execution_count": 5,
     "metadata": {},
     "output_type": "execute_result"
    }
   ],
   "source": [
    "# 확장자 바꾸기\n",
    "shutil.move(\"./sample/새파일1_복사본.txt\", \"./sample/새파일1_복사본.jpg\")"
   ],
   "metadata": {
    "collapsed": false,
    "ExecuteTime": {
     "end_time": "2024-02-11T08:52:38.769668100Z",
     "start_time": "2024-02-11T08:52:38.717576300Z"
    }
   },
   "id": "84362d74ab0193fe",
   "execution_count": 5
  },
  {
   "cell_type": "code",
   "outputs": [
    {
     "data": {
      "text/plain": "'./sample/새파일1_복사본.txt'"
     },
     "execution_count": 6,
     "metadata": {},
     "output_type": "execute_result"
    }
   ],
   "source": [
    "# 확장자 바꾸기\n",
    "shutil.move(\"./sample/새파일1_복사본.jpg\", \"./sample/새파일1_복사본.txt\")"
   ],
   "metadata": {
    "collapsed": false,
    "ExecuteTime": {
     "end_time": "2024-02-11T08:53:17.214774500Z",
     "start_time": "2024-02-11T08:53:17.148805300Z"
    }
   },
   "id": "1a27e2b1cacc38b6",
   "execution_count": 6
  },
  {
   "cell_type": "code",
   "outputs": [
    {
     "data": {
      "text/plain": "'새파일_이동.txt'"
     },
     "execution_count": 7,
     "metadata": {},
     "output_type": "execute_result"
    }
   ],
   "source": [
    "# 파일 이동하기\n",
    "shutil.move(\"./sample/새파일1_복사본.txt\", \"새파일_이동.txt\")"
   ],
   "metadata": {
    "collapsed": false,
    "ExecuteTime": {
     "end_time": "2024-02-11T08:53:45.308287200Z",
     "start_time": "2024-02-11T08:53:45.264884Z"
    }
   },
   "id": "e29a9b0a5ff999ba",
   "execution_count": 7
  },
  {
   "cell_type": "code",
   "outputs": [
    {
     "data": {
      "text/plain": "'./sample/새파일1_복사본_이동다시.txt'"
     },
     "execution_count": 8,
     "metadata": {},
     "output_type": "execute_result"
    }
   ],
   "source": [
    "shutil.move(\"새파일_이동.txt\", \"./sample/새파일1_복사본_이동다시.txt\")"
   ],
   "metadata": {
    "collapsed": false,
    "ExecuteTime": {
     "end_time": "2024-02-11T08:54:11.592280Z",
     "start_time": "2024-02-11T08:54:11.549739Z"
    }
   },
   "id": "209b0d082cc014e",
   "execution_count": 8
  },
  {
   "cell_type": "code",
   "outputs": [],
   "source": [],
   "metadata": {
    "collapsed": false
   },
   "id": "cd0de46ef32991a2"
  }
 ],
 "metadata": {
  "kernelspec": {
   "display_name": "Python 3",
   "language": "python",
   "name": "python3"
  },
  "language_info": {
   "codemirror_mode": {
    "name": "ipython",
    "version": 2
   },
   "file_extension": ".py",
   "mimetype": "text/x-python",
   "name": "python",
   "nbconvert_exporter": "python",
   "pygments_lexer": "ipython2",
   "version": "2.7.6"
  }
 },
 "nbformat": 4,
 "nbformat_minor": 5
}
