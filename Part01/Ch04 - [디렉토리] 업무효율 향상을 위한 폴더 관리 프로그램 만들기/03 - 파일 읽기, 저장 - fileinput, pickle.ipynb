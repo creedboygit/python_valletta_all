{
 "cells": [
  {
   "cell_type": "markdown",
   "source": [
    "## 4-3. 파일 읽기, 저장"
   ],
   "metadata": {
    "collapsed": false
   },
   "id": "bdac7347fabb21fd"
  },
  {
   "cell_type": "markdown",
   "source": [
    "> ### fileinput\n",
    "> - `fileinput` 은 텍스트 파일을 읽고, 쓰고, 저장하는 기능을 **더욱 편리하게 사용**할 수 있게 해주는 라이브러리\n",
    "> - **여러개의 파일**을 읽어서 수정할 수 있다.\n",
    "> - **\"Inplace editing\"** 기능을 사용하면 `open`, `close` 보다 더 수정이 간편하고 직관적이다!\n"
   ],
   "metadata": {
    "collapsed": false
   },
   "id": "3aaa8e24083fe1f"
  },
  {
   "cell_type": "markdown",
   "source": [
    "### 여러 개의 파일 읽기"
   ],
   "metadata": {
    "collapsed": false
   },
   "id": "1ee341af6ee764e0"
  },
  {
   "cell_type": "code",
   "outputs": [],
   "source": [
    "import fileinput\n",
    "import glob\n",
    "import os"
   ],
   "metadata": {
    "collapsed": false,
    "ExecuteTime": {
     "end_time": "2024-02-11T04:59:36.828112800Z",
     "start_time": "2024-02-11T04:59:36.818204Z"
    }
   },
   "id": "c26f7127e0d4d375",
   "execution_count": 1
  },
  {
   "cell_type": "code",
   "outputs": [
    {
     "data": {
      "text/plain": "'D:\\\\940 python_study\\\\200 study\\\\220 valletta_all\\\\python_valletta_all\\\\Ch04. [디렉토리] 업무효율 향상을 위한 폴더 관리 프로그램 만들기'"
     },
     "execution_count": 2,
     "metadata": {},
     "output_type": "execute_result"
    }
   ],
   "source": [
    "# 현재 경로 확인\n",
    "os.getcwd()"
   ],
   "metadata": {
    "collapsed": false,
    "ExecuteTime": {
     "end_time": "2024-02-11T04:59:45.031512900Z",
     "start_time": "2024-02-11T04:59:45.025359300Z"
    }
   },
   "id": "acb5dc33b4d2fb05",
   "execution_count": 2
  },
  {
   "cell_type": "code",
   "outputs": [
    {
     "data": {
      "text/plain": "['02. 디렉토리 다루기 - os.path, pathlib.ipynb',\n '03. 파일 읽기, 저장 - fileinput, pickle.ipynb.tmp',\n '03. 파일 읽기, 저장 - fileinput, pickle.ipynb~',\n '04. 파일 찾기, 복사, 이동 - glob, fnmatch, shutil.ipynb',\n '05. 파일 압축 - zlib, gzip, zipfile, tarfile.ipynb',\n '06. 미니 프로젝트 실습.ipynb']"
     },
     "execution_count": 3,
     "metadata": {},
     "output_type": "execute_result"
    }
   ],
   "source": [
    "# 디렉토리 확인\n",
    "os.listdir(os.getcwd())"
   ],
   "metadata": {
    "collapsed": false,
    "ExecuteTime": {
     "end_time": "2024-02-11T05:00:05.244790800Z",
     "start_time": "2024-02-11T05:00:05.239467200Z"
    }
   },
   "id": "eb594d2a9551a35c",
   "execution_count": 3
  },
  {
   "cell_type": "code",
   "outputs": [],
   "source": [
    "# 경로 설정\n",
    "path = 'sample/'"
   ],
   "metadata": {
    "collapsed": false,
    "ExecuteTime": {
     "end_time": "2024-02-11T05:00:23.974660900Z",
     "start_time": "2024-02-11T05:00:23.971149200Z"
    }
   },
   "id": "dd5aa31ad5d59251",
   "execution_count": 5
  },
  {
   "cell_type": "code",
   "outputs": [
    {
     "data": {
      "text/plain": "['sample\\\\새파일1.txt', 'sample\\\\새파일2.txt', 'sample\\\\새파일3.txt']"
     },
     "execution_count": 10,
     "metadata": {},
     "output_type": "execute_result"
    }
   ],
   "source": [
    "# txt 파일 확인\n",
    "glob.glob(os.path.join(path, \"*.txt\"))"
   ],
   "metadata": {
    "collapsed": false,
    "ExecuteTime": {
     "end_time": "2024-02-11T05:02:45.112018900Z",
     "start_time": "2024-02-11T05:02:45.107624600Z"
    }
   },
   "id": "6cacbc5e82c80393",
   "execution_count": 10
  },
  {
   "cell_type": "code",
   "outputs": [
    {
     "name": "stdout",
     "output_type": "stream",
     "text": [
      "새파일1입니다.1\n",
      "\n",
      "새파일1입니다.2\n",
      "\n",
      "새파일1입니다.3\n",
      "\n",
      "새파일2입니다.1\n",
      "\n",
      "새파일2입니다.2\n",
      "\n",
      "새파일2입니다.3\n",
      "\n",
      "새파일3입니다.1\n",
      "\n",
      "새파일3입니다.2\n",
      "\n",
      "새파일3입니다.3\n"
     ]
    }
   ],
   "source": [
    "with fileinput.input(glob.glob(os.path.join(path, \"*.txt\")), encoding='utf-8') as f:\n",
    "    for line in f:\n",
    "        print(line)"
   ],
   "metadata": {
    "collapsed": false,
    "ExecuteTime": {
     "end_time": "2024-02-11T05:05:49.827590900Z",
     "start_time": "2024-02-11T05:05:49.820674500Z"
    }
   },
   "id": "f81a30b528b69432",
   "execution_count": 14
  },
  {
   "cell_type": "markdown",
   "source": [
    "### Inplace Editing"
   ],
   "metadata": {
    "collapsed": false
   },
   "id": "78e4437fe7d3106e"
  },
  {
   "cell_type": "markdown",
   "source": [
    "> * FileInput(파일 이름, inplace = True, backup = '.bak')"
   ],
   "metadata": {
    "collapsed": false
   },
   "id": "91827c76ec423c22"
  },
  {
   "cell_type": "markdown",
   "source": [
    "### 첫번째 줄 수정"
   ],
   "metadata": {
    "collapsed": false
   },
   "id": "22e88f971c2a3301"
  },
  {
   "cell_type": "code",
   "outputs": [],
   "source": [
    "txt_files = glob.glob(os.path.join(path, \"*.txt\"))"
   ],
   "metadata": {
    "collapsed": false,
    "ExecuteTime": {
     "end_time": "2024-02-11T05:08:19.479175100Z",
     "start_time": "2024-02-11T05:08:19.471844500Z"
    }
   },
   "id": "fa6b4c45b2e24cf1",
   "execution_count": 16
  },
  {
   "cell_type": "code",
   "outputs": [
    {
     "data": {
      "text/plain": "['sample\\\\새파일1.txt', 'sample\\\\새파일2.txt', 'sample\\\\새파일3.txt']"
     },
     "execution_count": 17,
     "metadata": {},
     "output_type": "execute_result"
    }
   ],
   "source": [
    "txt_files"
   ],
   "metadata": {
    "collapsed": false,
    "ExecuteTime": {
     "end_time": "2024-02-11T05:08:21.304809800Z",
     "start_time": "2024-02-11T05:08:21.298003300Z"
    }
   },
   "id": "3c0d8090f7968230",
   "execution_count": 17
  },
  {
   "cell_type": "code",
   "outputs": [],
   "source": [
    "with fileinput.input(txt_files, inplace=True, encoding='utf-8') as f:\n",
    "    for line in f:\n",
    "        if f.isfirstline():\n",
    "            print(\"첫번째 줄입니다.\", end='\\n')\n",
    "        else:\n",
    "            print(line, end='')"
   ],
   "metadata": {
    "collapsed": false,
    "ExecuteTime": {
     "end_time": "2024-02-11T05:38:15.733491300Z",
     "start_time": "2024-02-11T05:38:15.727262200Z"
    }
   },
   "id": "11b7d00afcc21aa6",
   "execution_count": 35
  },
  {
   "cell_type": "markdown",
   "source": [
    "### 검색된 줄 수정"
   ],
   "metadata": {
    "collapsed": false
   },
   "id": "295dc48ff55e0f1b"
  },
  {
   "cell_type": "code",
   "outputs": [],
   "source": [
    "with fileinput.input(txt_files, inplace=True, encoding='utf-8') as f:\n",
    "    for line in f:\n",
    "        if line == '첫번째 줄입니다.\\n':\n",
    "            print('11111', end='\\n')\n",
    "        else:\n",
    "            print(line, end='')"
   ],
   "metadata": {
    "collapsed": false,
    "ExecuteTime": {
     "end_time": "2024-02-11T05:35:27.710179100Z",
     "start_time": "2024-02-11T05:35:27.704495900Z"
    }
   },
   "id": "1dc7494319c5905f",
   "execution_count": 26
  },
  {
   "cell_type": "markdown",
   "source": [
    "### 키워드 포함 라인 수정"
   ],
   "metadata": {
    "collapsed": false
   },
   "id": "8b242770989a4ff4"
  },
  {
   "cell_type": "code",
   "outputs": [],
   "source": [
    "with fileinput.input(txt_files, inplace=True, encoding='utf-8') as f:\n",
    "    for line in f:\n",
    "        if '2번째' in line:\n",
    "            print('2222', end='\\n')\n",
    "        else:\n",
    "            print(line, end='')\n"
   ],
   "metadata": {
    "collapsed": false,
    "ExecuteTime": {
     "end_time": "2024-02-11T05:38:11.583078800Z",
     "start_time": "2024-02-11T05:38:11.577122600Z"
    }
   },
   "id": "f11e2ba8f5089441",
   "execution_count": 34
  },
  {
   "cell_type": "markdown",
   "source": [
    "### 텍스트 치환"
   ],
   "metadata": {
    "collapsed": false
   },
   "id": "bb30e781cf7f290a"
  },
  {
   "cell_type": "code",
   "outputs": [],
   "source": [
    "with fileinput.input(txt_files, inplace=True, encoding='utf-8') as f:\n",
    "    for line in f:\n",
    "        if '222' in line:\n",
    "            print(line.replace('222', '둘둘둘'), end='')\n",
    "        else:\n",
    "            print(line, end='')"
   ],
   "metadata": {
    "collapsed": false,
    "ExecuteTime": {
     "end_time": "2024-02-11T05:41:06.097123200Z",
     "start_time": "2024-02-11T05:41:06.083750500Z"
    }
   },
   "id": "749120412f29ae09",
   "execution_count": 38
  },
  {
   "cell_type": "markdown",
   "source": [
    "### pickle\n",
    "- `pickle` 파이썬에서 사용하는 딕셔너리, 리스트, 클래스 등의 자료형을 **변환 없이 그대로 파일로 저장**하고 이를 불러올 때 사용하는 모듈"
   ],
   "metadata": {
    "collapsed": false
   },
   "id": "4b60ee04be871c79"
  },
  {
   "cell_type": "markdown",
   "source": [
    "### 객체형 파일 저장"
   ],
   "metadata": {
    "collapsed": false
   },
   "id": "3226bf0bdd3c293c"
  },
  {
   "cell_type": "code",
   "outputs": [],
   "source": [
    "import pickle"
   ],
   "metadata": {
    "collapsed": false,
    "ExecuteTime": {
     "end_time": "2024-02-11T05:44:25.366763500Z",
     "start_time": "2024-02-11T05:44:25.363252700Z"
    }
   },
   "id": "8c74bc556887e5a7",
   "execution_count": 39
  },
  {
   "cell_type": "code",
   "outputs": [],
   "source": [
    "# 리스트형\n",
    "data = ['A', 'B', 'C']"
   ],
   "metadata": {
    "collapsed": false,
    "ExecuteTime": {
     "end_time": "2024-02-11T05:44:34.290088Z",
     "start_time": "2024-02-11T05:44:34.286576600Z"
    }
   },
   "id": "862bf16960f09564",
   "execution_count": 40
  },
  {
   "cell_type": "code",
   "outputs": [],
   "source": [
    "# 파일 저장\n",
    "with open('list.pkl', 'wb') as f:\n",
    "    pickle.dump(data, f)"
   ],
   "metadata": {
    "collapsed": false,
    "ExecuteTime": {
     "end_time": "2024-02-11T05:45:06.629193500Z",
     "start_time": "2024-02-11T05:45:06.619681800Z"
    }
   },
   "id": "14ad4933ce04d8ae",
   "execution_count": 41
  },
  {
   "cell_type": "code",
   "outputs": [],
   "source": [
    "# 파일 읽기\n",
    "with open('list.pkl', 'rb') as f:\n",
    "    data2 = pickle.load(f)"
   ],
   "metadata": {
    "collapsed": false,
    "ExecuteTime": {
     "end_time": "2024-02-11T05:46:43.586432100Z",
     "start_time": "2024-02-11T05:46:43.580920700Z"
    }
   },
   "id": "6a031919effd4856",
   "execution_count": 46
  },
  {
   "cell_type": "code",
   "outputs": [
    {
     "data": {
      "text/plain": "['A', 'B', 'C']"
     },
     "execution_count": 47,
     "metadata": {},
     "output_type": "execute_result"
    }
   ],
   "source": [
    "data2"
   ],
   "metadata": {
    "collapsed": false,
    "ExecuteTime": {
     "end_time": "2024-02-11T05:46:44.018517200Z",
     "start_time": "2024-02-11T05:46:44.015130100Z"
    }
   },
   "id": "6a173cd6c40de731",
   "execution_count": 47
  },
  {
   "cell_type": "code",
   "outputs": [
    {
     "data": {
      "text/plain": "list"
     },
     "execution_count": 49,
     "metadata": {},
     "output_type": "execute_result"
    }
   ],
   "source": [
    "type(data2)"
   ],
   "metadata": {
    "collapsed": false,
    "ExecuteTime": {
     "end_time": "2024-02-11T05:46:54.655225900Z",
     "start_time": "2024-02-11T05:46:54.644776500Z"
    }
   },
   "id": "5b5fc1835473df97",
   "execution_count": 49
  },
  {
   "cell_type": "code",
   "outputs": [],
   "source": [
    "# 딕셔너리형\n",
    "data = {}\n",
    "data[1] = {'no': 1, 'subject': '안녕 피클', 'content': '내용입니다.'}"
   ],
   "metadata": {
    "collapsed": false,
    "ExecuteTime": {
     "end_time": "2024-02-11T05:48:12.880331200Z",
     "start_time": "2024-02-11T05:48:12.869819Z"
    }
   },
   "id": "8ca74af1980d1936",
   "execution_count": 50
  },
  {
   "cell_type": "code",
   "outputs": [
    {
     "data": {
      "text/plain": "{1: {'no': 1, 'subject': '안녕 피클', 'content': '내용입니다.'}}"
     },
     "execution_count": 51,
     "metadata": {},
     "output_type": "execute_result"
    }
   ],
   "source": [
    "data"
   ],
   "metadata": {
    "collapsed": false,
    "ExecuteTime": {
     "end_time": "2024-02-11T05:48:15.794386Z",
     "start_time": "2024-02-11T05:48:15.786365700Z"
    }
   },
   "id": "418558f42182e125",
   "execution_count": 51
  },
  {
   "cell_type": "code",
   "outputs": [],
   "source": [
    "# 파일 저장\n",
    "with open('dictionary.pkl', 'wb') as f:\n",
    "    pickle.dump(data, f)"
   ],
   "metadata": {
    "collapsed": false,
    "ExecuteTime": {
     "end_time": "2024-02-11T05:49:39.392994900Z",
     "start_time": "2024-02-11T05:49:39.379481300Z"
    }
   },
   "id": "813da58dc20b6593",
   "execution_count": 52
  },
  {
   "cell_type": "code",
   "outputs": [],
   "source": [
    "# 파일 읽기\n",
    "with open('dictionary.pkl', 'rb') as f:\n",
    "    data3 = pickle.load(f)"
   ],
   "metadata": {
    "collapsed": false,
    "ExecuteTime": {
     "end_time": "2024-02-11T05:50:17.983238200Z",
     "start_time": "2024-02-11T05:50:17.976726900Z"
    }
   },
   "id": "76d0971a9f161fdb",
   "execution_count": 55
  },
  {
   "cell_type": "code",
   "outputs": [
    {
     "data": {
      "text/plain": "{1: {'no': 1, 'subject': '안녕 피클', 'content': '내용입니다.'}}"
     },
     "execution_count": 56,
     "metadata": {},
     "output_type": "execute_result"
    }
   ],
   "source": [
    "data3"
   ],
   "metadata": {
    "collapsed": false,
    "ExecuteTime": {
     "end_time": "2024-02-11T05:50:18.949438500Z",
     "start_time": "2024-02-11T05:50:18.947926800Z"
    }
   },
   "id": "9e9abbbb598bf023",
   "execution_count": 56
  },
  {
   "cell_type": "code",
   "outputs": [
    {
     "data": {
      "text/plain": "dict"
     },
     "execution_count": 57,
     "metadata": {},
     "output_type": "execute_result"
    }
   ],
   "source": [
    "type(data3)"
   ],
   "metadata": {
    "collapsed": false,
    "ExecuteTime": {
     "end_time": "2024-02-11T05:50:24.349434100Z",
     "start_time": "2024-02-11T05:50:24.341109100Z"
    }
   },
   "id": "e2295214f2a9be3f",
   "execution_count": 57
  },
  {
   "cell_type": "code",
   "outputs": [],
   "source": [],
   "metadata": {
    "collapsed": false
   },
   "id": "e14cdc1be03e8e5b"
  }
 ],
 "metadata": {
  "kernelspec": {
   "display_name": "Python 3",
   "language": "python",
   "name": "python3"
  },
  "language_info": {
   "codemirror_mode": {
    "name": "ipython",
    "version": 2
   },
   "file_extension": ".py",
   "mimetype": "text/x-python",
   "name": "python",
   "nbconvert_exporter": "python",
   "pygments_lexer": "ipython2",
   "version": "2.7.6"
  }
 },
 "nbformat": 4,
 "nbformat_minor": 5
}
