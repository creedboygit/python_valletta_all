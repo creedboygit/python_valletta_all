{
 "cells": [
  {
   "cell_type": "markdown",
   "id": "cdb422b09cac7621",
   "metadata": {
    "collapsed": false
   },
   "source": [
    "### 파일 생성"
   ]
  },
  {
   "cell_type": "code",
   "execution_count": 3,
   "id": "initial_id",
   "metadata": {
    "ExecuteTime": {
     "end_time": "2024-01-29T12:59:49.764849800Z",
     "start_time": "2024-01-29T12:59:49.759864400Z"
    }
   },
   "outputs": [],
   "source": [
    "# 텍스트 파일 생성\n",
    "f = open(\"새 파일.txt\", 'w')\n",
    "f.close()"
   ]
  },
  {
   "cell_type": "markdown",
   "id": "bd8314bdbabc07be",
   "metadata": {
    "collapsed": false
   },
   "source": [
    "### 파일 쓰기"
   ]
  },
  {
   "cell_type": "code",
   "execution_count": 4,
   "id": "6040dcfb44da1339",
   "metadata": {
    "ExecuteTime": {
     "end_time": "2024-01-29T13:11:03.457134400Z",
     "start_time": "2024-01-29T13:11:03.452594Z"
    },
    "collapsed": false
   },
   "outputs": [],
   "source": [
    "# 텍스트 파일 쓰기\n",
    "f = open(\"새파일.txt\", 'w')\n",
    "for i in range(1, 11):\n",
    "    data = \"%d번째 줄입니다!!\\n\" % i\n",
    "    f.write(data)\n",
    "f.close()"
   ]
  },
  {
   "cell_type": "markdown",
   "id": "240ee6263e7aadce",
   "metadata": {
    "collapsed": false
   },
   "source": [
    "### 파일 읽기"
   ]
  },
  {
   "cell_type": "code",
   "execution_count": 5,
   "id": "b72ba7e44444dc9e",
   "metadata": {
    "ExecuteTime": {
     "end_time": "2024-01-29T13:04:24.096955300Z",
     "start_time": "2024-01-29T13:04:24.089394400Z"
    },
    "collapsed": false
   },
   "outputs": [
    {
     "name": "stdout",
     "output_type": "stream",
     "text": [
      "1번째 줄입니다!!\n"
     ]
    }
   ],
   "source": [
    "# 한 줄 읽기\n",
    "f = open(\"새파일.txt\", 'r')\n",
    "line = f.readline()\n",
    "print(line)\n",
    "f.close()"
   ]
  },
  {
   "cell_type": "code",
   "execution_count": 6,
   "id": "d88fec4acf0d0790",
   "metadata": {
    "ExecuteTime": {
     "end_time": "2024-01-29T13:04:55.260069300Z",
     "start_time": "2024-01-29T13:04:55.255305300Z"
    },
    "collapsed": false
   },
   "outputs": [
    {
     "name": "stdout",
     "output_type": "stream",
     "text": [
      "1번째 줄입니다!!\n",
      "\n",
      "2번째 줄입니다!!\n"
     ]
    }
   ],
   "source": [
    "# 여러 줄 읽기\n",
    "f = open(\"새파일.txt\", 'r')\n",
    "line = f.readline()\n",
    "print(line)\n",
    "line = f.readline()\n",
    "print(line)\n",
    "f.close()"
   ]
  },
  {
   "cell_type": "code",
   "execution_count": 14,
   "id": "c92c7de16f3df471",
   "metadata": {
    "ExecuteTime": {
     "end_time": "2024-01-29T13:06:07.085934500Z",
     "start_time": "2024-01-29T13:06:07.078843100Z"
    },
    "collapsed": false
   },
   "outputs": [
    {
     "name": "stdout",
     "output_type": "stream",
     "text": [
      "1번째 줄입니다!!\n",
      "\n",
      "2번째 줄입니다!!\n",
      "\n",
      "3번째 줄입니다!!\n",
      "\n",
      "4번째 줄입니다!!\n"
     ]
    }
   ],
   "source": [
    "# 모든 줄 읽기\n",
    "f = open(\"새파일.txt\", 'r')\n",
    "lines = f.readlines()\n",
    "i = 0\n",
    "for line in lines:\n",
    "    print(line)\n",
    "    if i == 3:\n",
    "        break\n",
    "    i += 1\n",
    "f.close()"
   ]
  },
  {
   "cell_type": "markdown",
   "id": "ec1efac04f88e768",
   "metadata": {
    "collapsed": false
   },
   "source": [
    "### 내용 추가하기!"
   ]
  },
  {
   "cell_type": "code",
   "execution_count": null,
   "id": "f7dcfc5db19aa29f",
   "metadata": {
    "collapsed": false
   },
   "outputs": [],
   "source": [
    "# w 모드 사용 시\n",
    "f = open(\"새파일.txt\", 'w')\n",
    "for i in range(11, 21):\n",
    "    data = \"%d번째 줄입니다.\\n\" % i\n",
    "    f.write(data)\n",
    "f.close()"
   ]
  },
  {
   "cell_type": "code",
   "execution_count": 18,
   "id": "479d81f8996d8797",
   "metadata": {
    "ExecuteTime": {
     "end_time": "2024-01-29T13:11:10.571219300Z",
     "start_time": "2024-01-29T13:11:10.569388Z"
    },
    "collapsed": false
   },
   "outputs": [],
   "source": [
    "# a 모드 사용 시\n",
    "f = open(\"새파일.txt\", 'a')\n",
    "for i in range(11, 21):\n",
    "    data = \"%d번째 줄입니다.\\n\" % i\n",
    "    f.write(data)\n",
    "f.close()"
   ]
  },
  {
   "cell_type": "markdown",
   "id": "8e9fec257a02e4d0",
   "metadata": {
    "collapsed": false
   },
   "source": [
    "### with문 사용"
   ]
  },
  {
   "cell_type": "code",
   "execution_count": 1,
   "id": "638de3cc4ff6745",
   "metadata": {
    "ExecuteTime": {
     "end_time": "2024-01-29T13:17:26.439277200Z",
     "start_time": "2024-01-29T13:17:26.435078800Z"
    },
    "collapsed": false
   },
   "outputs": [],
   "source": [
    "# close() 사용 불필요\n",
    "file = open(\"새파일.txt\", 'a')\n",
    "with file as f:\n",
    "    for i in range(1, 30):\n",
    "        data = \"%d번째 줄입니다!.\\n\" % i\n",
    "        f.write(data)"
   ]
  }
 ],
 "metadata": {
  "kernelspec": {
   "display_name": "valletta",
   "language": "python",
   "name": "valletta"
  },
  "language_info": {
   "codemirror_mode": {
    "name": "ipython",
    "version": 3
   },
   "file_extension": ".py",
   "mimetype": "text/x-python",
   "name": "python",
   "nbconvert_exporter": "python",
   "pygments_lexer": "ipython3",
   "version": "3.12.1"
  }
 },
 "nbformat": 4,
 "nbformat_minor": 5
}
