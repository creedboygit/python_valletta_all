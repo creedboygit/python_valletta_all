{
 "cells": [
  {
   "cell_type": "markdown",
   "source": [
    "# echo 서버/클라이언트 예제"
   ],
   "metadata": {
    "collapsed": false
   },
   "id": "3ad06d52203be80a"
  },
  {
   "cell_type": "markdown",
   "source": [
    "클라이언트가 보낸 메시지를 서버가 다시 전송하는 예제\n",
    "- 클라이언트가 접속하면 서버에서 접속한 클라이언트 정보를 출력\n",
    "- 클라이언트가 문자열을 전송하면 서버가 수신한 문자열을 출력하고 다시 echo\n",
    "- 클라이언트에서 수신 받은 문자열을 출력 "
   ],
   "metadata": {
    "collapsed": false
   },
   "id": "60f93378904df951"
  },
  {
   "cell_type": "code",
   "outputs": [],
   "source": [],
   "metadata": {
    "collapsed": false
   },
   "id": "6c98fa82db36642c"
  }
 ],
 "metadata": {
  "kernelspec": {
   "display_name": "Python 3",
   "language": "python",
   "name": "python3"
  },
  "language_info": {
   "codemirror_mode": {
    "name": "ipython",
    "version": 2
   },
   "file_extension": ".py",
   "mimetype": "text/x-python",
   "name": "python",
   "nbconvert_exporter": "python",
   "pygments_lexer": "ipython2",
   "version": "2.7.6"
  }
 },
 "nbformat": 4,
 "nbformat_minor": 5
}
