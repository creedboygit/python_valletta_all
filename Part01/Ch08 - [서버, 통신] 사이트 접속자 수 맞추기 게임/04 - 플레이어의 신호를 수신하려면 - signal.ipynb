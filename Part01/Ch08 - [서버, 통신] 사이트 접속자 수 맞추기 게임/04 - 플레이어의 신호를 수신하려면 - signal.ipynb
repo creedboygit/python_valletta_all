{
 "cells": [
  {
   "cell_type": "markdown",
   "source": [
    "# 시그널(signal)이란?\n",
    "시그널은 프로세스 or 프로그램에 특정 이벤트가 발생했을 때 전달하는 신호를 의미\n",
    "시그널 종류와 각 시그널에 따른 기본 조치 동작이 미리 정해져 있음\n",
    "\n",
    "- 시그널 발생 시 기본 조치\n",
    "    1. 신호 무시\n",
    "    1. 특정 신호를 캐치해서 원하는 조치가 실행되도록 함\n",
    "    1. 기본 조치 동작이 실행되도록 함\n",
    "\n",
    "- 주요 시그널의 기본 조치 동작\n",
    "    - SIGKILL : 프로세스를 강제 종료\n",
    "    - SIGALARM : 알람 발생\n",
    "    - SIGSTP : 프로세스를 중단 (Ctrl + z)\n",
    "    - SIGCONT : 멈춰진 프로세스를 재개 (Continue)\n",
    "    - SIGINT : 키보드 인터럽트를 보내서 프로세스를 중단 (Ctrl + c)\n",
    "    - SIGSEGV : 프로세스가 다른 메모리 영역을 침범\n",
    "       "
   ],
   "metadata": {
    "collapsed": false
   },
   "id": "2d987ea22fc905e5"
  },
  {
   "cell_type": "markdown",
   "source": [
    "# signal\n",
    "- signal은 특정한 신호를 수신했을 때 사용자가 정의한 함수를 호출하는 모듈"
   ],
   "metadata": {
    "collapsed": false
   },
   "id": "c978eb4bc8373160"
  },
  {
   "cell_type": "code",
   "outputs": [],
   "source": [],
   "metadata": {
    "collapsed": false
   },
   "id": "87f24c3f83f6e0dc"
  }
 ],
 "metadata": {
  "kernelspec": {
   "display_name": "Python 3",
   "language": "python",
   "name": "python3"
  },
  "language_info": {
   "codemirror_mode": {
    "name": "ipython",
    "version": 2
   },
   "file_extension": ".py",
   "mimetype": "text/x-python",
   "name": "python",
   "nbconvert_exporter": "python",
   "pygments_lexer": "ipython2",
   "version": "2.7.6"
  }
 },
 "nbformat": 4,
 "nbformat_minor": 5
}
