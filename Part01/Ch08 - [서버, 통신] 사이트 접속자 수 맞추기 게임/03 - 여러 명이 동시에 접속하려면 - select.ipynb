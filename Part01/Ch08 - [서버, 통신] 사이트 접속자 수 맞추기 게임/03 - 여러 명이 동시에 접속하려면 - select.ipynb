{
 "cells": [
  {
   "cell_type": "markdown",
   "source": [
    "# socket만 사용한 서버 통신 예제의 문제점\n",
    "- 클라이언트가 소켓 서버에 접속하여 접속을 종료하면 소켓 서버 역시 종료\n",
    "- 소켓 서버가 여러 클라이언트와 동시에 접속될 수 없다"
   ],
   "metadata": {
    "collapsed": false
   },
   "id": "175ec126cbde4155"
  },
  {
   "cell_type": "markdown",
   "source": [
    "# select\n",
    "- select는 소켓 프로그래밍에서 하나의 전송로로 여러 종류의 데이터를 송수신하게 해주는 모듈\n",
    "- 한 개의 프로세스로 두 개 이상의 클라이언트 요청을 처리하는 것을 의미하는 I/O 멀티 플렉싱을 가능하게 해줌\n",
    "- select는 소켓에서 출력된 read, write, except 리스트를 인수로 사용"
   ],
   "metadata": {
    "collapsed": false
   },
   "id": "cc8ed6b0bb315f7e"
  },
  {
   "cell_type": "code",
   "outputs": [],
   "source": [],
   "metadata": {
    "collapsed": false
   },
   "id": "6f278fc53942196b"
  }
 ],
 "metadata": {
  "kernelspec": {
   "display_name": "Python 3",
   "language": "python",
   "name": "python3"
  },
  "language_info": {
   "codemirror_mode": {
    "name": "ipython",
    "version": 2
   },
   "file_extension": ".py",
   "mimetype": "text/x-python",
   "name": "python",
   "nbconvert_exporter": "python",
   "pygments_lexer": "ipython2",
   "version": "2.7.6"
  }
 },
 "nbformat": 4,
 "nbformat_minor": 5
}
