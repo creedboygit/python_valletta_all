{
 "cells": [
  {
   "cell_type": "markdown",
   "source": [
    "### 진행 순서\n",
    "1. 데이터베이스 생성\n",
    "2. 상품 리스트 테이블 생성\n",
    "3. 주문 목록 추가\n",
    "4. 총 구매 가격 산출"
   ],
   "metadata": {
    "collapsed": false
   },
   "id": "873fb5a2a8c6405"
  },
  {
   "cell_type": "markdown",
   "source": [
    "### 데이터베이스 생성"
   ],
   "metadata": {
    "collapsed": false
   },
   "id": "fd72ce614b943c18"
  },
  {
   "cell_type": "code",
   "outputs": [],
   "source": [
    "import sqlite3\n",
    "\n",
    "# 쇼핑몰 데이터베이스\n",
    "conn = sqlite3.connect(\"shop.db\")\n",
    "\n",
    "# 커서 생성\n",
    "c = conn.cursor()"
   ],
   "metadata": {
    "collapsed": false,
    "ExecuteTime": {
     "end_time": "2024-02-14T10:13:05.044193100Z",
     "start_time": "2024-02-14T10:13:05.022720900Z"
    }
   },
   "id": "93d81fffdb9da068",
   "execution_count": 13
  },
  {
   "cell_type": "markdown",
   "source": [
    "### csv 파일로 테이블 추가"
   ],
   "metadata": {
    "collapsed": false
   },
   "id": "768775b97cf7af7e"
  },
  {
   "cell_type": "code",
   "outputs": [
    {
     "name": "stdout",
     "output_type": "stream",
     "text": [
      "    ID   상품명      가격\n",
      "0    1    모자   15000\n",
      "1    2    코트  200000\n",
      "2    3   티셔츠   20000\n",
      "3    4  블라우스   55000\n",
      "4    5   가디건   45000\n",
      "5    6   청바지   50000\n",
      "6    7    구두  150000\n",
      "7    8    가방  170000\n",
      "8   10    양말   30000\n",
      "9   10    양말   30000\n",
      "10  10    양말   30000\n",
      "11  10    양말  130000\n"
     ]
    }
   ],
   "source": [
    "import pandas as pd\n",
    "\n",
    "product_list = pd.read_csv('product_list.csv', encoding='euc-kr')\n",
    "print(product_list)"
   ],
   "metadata": {
    "collapsed": false,
    "ExecuteTime": {
     "end_time": "2024-02-14T10:13:05.048192200Z",
     "start_time": "2024-02-14T10:13:05.031052100Z"
    }
   },
   "id": "1757b74159068fab",
   "execution_count": 14
  },
  {
   "cell_type": "code",
   "outputs": [
    {
     "ename": "IntegrityError",
     "evalue": "UNIQUE constraint failed: product_list.id",
     "output_type": "error",
     "traceback": [
      "\u001B[1;31m---------------------------------------------------------------------------\u001B[0m",
      "\u001B[1;31mIntegrityError\u001B[0m                            Traceback (most recent call last)",
      "Cell \u001B[1;32mIn[15], line 2\u001B[0m\n\u001B[0;32m      1\u001B[0m \u001B[38;5;66;03m# 상품 리스트 테이블에 추가\u001B[39;00m\n\u001B[1;32m----> 2\u001B[0m \u001B[43mproduct_list\u001B[49m\u001B[38;5;241;43m.\u001B[39;49m\u001B[43mto_sql\u001B[49m\u001B[43m(\u001B[49m\u001B[38;5;124;43m'\u001B[39;49m\u001B[38;5;124;43mproduct_list\u001B[39;49m\u001B[38;5;124;43m'\u001B[39;49m\u001B[43m,\u001B[49m\u001B[43m \u001B[49m\u001B[43mconn\u001B[49m\u001B[43m,\u001B[49m\u001B[43m \u001B[49m\u001B[43mif_exists\u001B[49m\u001B[38;5;241;43m=\u001B[39;49m\u001B[38;5;124;43m'\u001B[39;49m\u001B[38;5;124;43mappend\u001B[39;49m\u001B[38;5;124;43m'\u001B[39;49m\u001B[43m,\u001B[49m\u001B[43m \u001B[49m\u001B[43mindex\u001B[49m\u001B[38;5;241;43m=\u001B[39;49m\u001B[38;5;28;43;01mFalse\u001B[39;49;00m\u001B[43m)\u001B[49m\n",
      "File \u001B[1;32mD:\\940 python_study\\200 study\\220 valletta_all\\python_valletta_all\\.venv\\Lib\\site-packages\\pandas\\util\\_decorators.py:333\u001B[0m, in \u001B[0;36mdeprecate_nonkeyword_arguments.<locals>.decorate.<locals>.wrapper\u001B[1;34m(*args, **kwargs)\u001B[0m\n\u001B[0;32m    327\u001B[0m \u001B[38;5;28;01mif\u001B[39;00m \u001B[38;5;28mlen\u001B[39m(args) \u001B[38;5;241m>\u001B[39m num_allow_args:\n\u001B[0;32m    328\u001B[0m     warnings\u001B[38;5;241m.\u001B[39mwarn(\n\u001B[0;32m    329\u001B[0m         msg\u001B[38;5;241m.\u001B[39mformat(arguments\u001B[38;5;241m=\u001B[39m_format_argument_list(allow_args)),\n\u001B[0;32m    330\u001B[0m         \u001B[38;5;167;01mFutureWarning\u001B[39;00m,\n\u001B[0;32m    331\u001B[0m         stacklevel\u001B[38;5;241m=\u001B[39mfind_stack_level(),\n\u001B[0;32m    332\u001B[0m     )\n\u001B[1;32m--> 333\u001B[0m \u001B[38;5;28;01mreturn\u001B[39;00m \u001B[43mfunc\u001B[49m\u001B[43m(\u001B[49m\u001B[38;5;241;43m*\u001B[39;49m\u001B[43margs\u001B[49m\u001B[43m,\u001B[49m\u001B[43m \u001B[49m\u001B[38;5;241;43m*\u001B[39;49m\u001B[38;5;241;43m*\u001B[39;49m\u001B[43mkwargs\u001B[49m\u001B[43m)\u001B[49m\n",
      "File \u001B[1;32mD:\\940 python_study\\200 study\\220 valletta_all\\python_valletta_all\\.venv\\Lib\\site-packages\\pandas\\core\\generic.py:3081\u001B[0m, in \u001B[0;36mNDFrame.to_sql\u001B[1;34m(self, name, con, schema, if_exists, index, index_label, chunksize, dtype, method)\u001B[0m\n\u001B[0;32m   2886\u001B[0m \u001B[38;5;250m\u001B[39m\u001B[38;5;124;03m\"\"\"\u001B[39;00m\n\u001B[0;32m   2887\u001B[0m \u001B[38;5;124;03mWrite records stored in a DataFrame to a SQL database.\u001B[39;00m\n\u001B[0;32m   2888\u001B[0m \n\u001B[1;32m   (...)\u001B[0m\n\u001B[0;32m   3077\u001B[0m \u001B[38;5;124;03m[(1,), (None,), (2,)]\u001B[39;00m\n\u001B[0;32m   3078\u001B[0m \u001B[38;5;124;03m\"\"\"\u001B[39;00m  \u001B[38;5;66;03m# noqa: E501\u001B[39;00m\n\u001B[0;32m   3079\u001B[0m \u001B[38;5;28;01mfrom\u001B[39;00m \u001B[38;5;21;01mpandas\u001B[39;00m\u001B[38;5;21;01m.\u001B[39;00m\u001B[38;5;21;01mio\u001B[39;00m \u001B[38;5;28;01mimport\u001B[39;00m sql\n\u001B[1;32m-> 3081\u001B[0m \u001B[38;5;28;01mreturn\u001B[39;00m \u001B[43msql\u001B[49m\u001B[38;5;241;43m.\u001B[39;49m\u001B[43mto_sql\u001B[49m\u001B[43m(\u001B[49m\n\u001B[0;32m   3082\u001B[0m \u001B[43m    \u001B[49m\u001B[38;5;28;43mself\u001B[39;49m\u001B[43m,\u001B[49m\n\u001B[0;32m   3083\u001B[0m \u001B[43m    \u001B[49m\u001B[43mname\u001B[49m\u001B[43m,\u001B[49m\n\u001B[0;32m   3084\u001B[0m \u001B[43m    \u001B[49m\u001B[43mcon\u001B[49m\u001B[43m,\u001B[49m\n\u001B[0;32m   3085\u001B[0m \u001B[43m    \u001B[49m\u001B[43mschema\u001B[49m\u001B[38;5;241;43m=\u001B[39;49m\u001B[43mschema\u001B[49m\u001B[43m,\u001B[49m\n\u001B[0;32m   3086\u001B[0m \u001B[43m    \u001B[49m\u001B[43mif_exists\u001B[49m\u001B[38;5;241;43m=\u001B[39;49m\u001B[43mif_exists\u001B[49m\u001B[43m,\u001B[49m\n\u001B[0;32m   3087\u001B[0m \u001B[43m    \u001B[49m\u001B[43mindex\u001B[49m\u001B[38;5;241;43m=\u001B[39;49m\u001B[43mindex\u001B[49m\u001B[43m,\u001B[49m\n\u001B[0;32m   3088\u001B[0m \u001B[43m    \u001B[49m\u001B[43mindex_label\u001B[49m\u001B[38;5;241;43m=\u001B[39;49m\u001B[43mindex_label\u001B[49m\u001B[43m,\u001B[49m\n\u001B[0;32m   3089\u001B[0m \u001B[43m    \u001B[49m\u001B[43mchunksize\u001B[49m\u001B[38;5;241;43m=\u001B[39;49m\u001B[43mchunksize\u001B[49m\u001B[43m,\u001B[49m\n\u001B[0;32m   3090\u001B[0m \u001B[43m    \u001B[49m\u001B[43mdtype\u001B[49m\u001B[38;5;241;43m=\u001B[39;49m\u001B[43mdtype\u001B[49m\u001B[43m,\u001B[49m\n\u001B[0;32m   3091\u001B[0m \u001B[43m    \u001B[49m\u001B[43mmethod\u001B[49m\u001B[38;5;241;43m=\u001B[39;49m\u001B[43mmethod\u001B[49m\u001B[43m,\u001B[49m\n\u001B[0;32m   3092\u001B[0m \u001B[43m\u001B[49m\u001B[43m)\u001B[49m\n",
      "File \u001B[1;32mD:\\940 python_study\\200 study\\220 valletta_all\\python_valletta_all\\.venv\\Lib\\site-packages\\pandas\\io\\sql.py:842\u001B[0m, in \u001B[0;36mto_sql\u001B[1;34m(frame, name, con, schema, if_exists, index, index_label, chunksize, dtype, method, engine, **engine_kwargs)\u001B[0m\n\u001B[0;32m    837\u001B[0m     \u001B[38;5;28;01mraise\u001B[39;00m \u001B[38;5;167;01mNotImplementedError\u001B[39;00m(\n\u001B[0;32m    838\u001B[0m         \u001B[38;5;124m\"\u001B[39m\u001B[38;5;124m'\u001B[39m\u001B[38;5;124mframe\u001B[39m\u001B[38;5;124m'\u001B[39m\u001B[38;5;124m argument should be either a Series or a DataFrame\u001B[39m\u001B[38;5;124m\"\u001B[39m\n\u001B[0;32m    839\u001B[0m     )\n\u001B[0;32m    841\u001B[0m \u001B[38;5;28;01mwith\u001B[39;00m pandasSQL_builder(con, schema\u001B[38;5;241m=\u001B[39mschema, need_transaction\u001B[38;5;241m=\u001B[39m\u001B[38;5;28;01mTrue\u001B[39;00m) \u001B[38;5;28;01mas\u001B[39;00m pandas_sql:\n\u001B[1;32m--> 842\u001B[0m     \u001B[38;5;28;01mreturn\u001B[39;00m \u001B[43mpandas_sql\u001B[49m\u001B[38;5;241;43m.\u001B[39;49m\u001B[43mto_sql\u001B[49m\u001B[43m(\u001B[49m\n\u001B[0;32m    843\u001B[0m \u001B[43m        \u001B[49m\u001B[43mframe\u001B[49m\u001B[43m,\u001B[49m\n\u001B[0;32m    844\u001B[0m \u001B[43m        \u001B[49m\u001B[43mname\u001B[49m\u001B[43m,\u001B[49m\n\u001B[0;32m    845\u001B[0m \u001B[43m        \u001B[49m\u001B[43mif_exists\u001B[49m\u001B[38;5;241;43m=\u001B[39;49m\u001B[43mif_exists\u001B[49m\u001B[43m,\u001B[49m\n\u001B[0;32m    846\u001B[0m \u001B[43m        \u001B[49m\u001B[43mindex\u001B[49m\u001B[38;5;241;43m=\u001B[39;49m\u001B[43mindex\u001B[49m\u001B[43m,\u001B[49m\n\u001B[0;32m    847\u001B[0m \u001B[43m        \u001B[49m\u001B[43mindex_label\u001B[49m\u001B[38;5;241;43m=\u001B[39;49m\u001B[43mindex_label\u001B[49m\u001B[43m,\u001B[49m\n\u001B[0;32m    848\u001B[0m \u001B[43m        \u001B[49m\u001B[43mschema\u001B[49m\u001B[38;5;241;43m=\u001B[39;49m\u001B[43mschema\u001B[49m\u001B[43m,\u001B[49m\n\u001B[0;32m    849\u001B[0m \u001B[43m        \u001B[49m\u001B[43mchunksize\u001B[49m\u001B[38;5;241;43m=\u001B[39;49m\u001B[43mchunksize\u001B[49m\u001B[43m,\u001B[49m\n\u001B[0;32m    850\u001B[0m \u001B[43m        \u001B[49m\u001B[43mdtype\u001B[49m\u001B[38;5;241;43m=\u001B[39;49m\u001B[43mdtype\u001B[49m\u001B[43m,\u001B[49m\n\u001B[0;32m    851\u001B[0m \u001B[43m        \u001B[49m\u001B[43mmethod\u001B[49m\u001B[38;5;241;43m=\u001B[39;49m\u001B[43mmethod\u001B[49m\u001B[43m,\u001B[49m\n\u001B[0;32m    852\u001B[0m \u001B[43m        \u001B[49m\u001B[43mengine\u001B[49m\u001B[38;5;241;43m=\u001B[39;49m\u001B[43mengine\u001B[49m\u001B[43m,\u001B[49m\n\u001B[0;32m    853\u001B[0m \u001B[43m        \u001B[49m\u001B[38;5;241;43m*\u001B[39;49m\u001B[38;5;241;43m*\u001B[39;49m\u001B[43mengine_kwargs\u001B[49m\u001B[43m,\u001B[49m\n\u001B[0;32m    854\u001B[0m \u001B[43m    \u001B[49m\u001B[43m)\u001B[49m\n",
      "File \u001B[1;32mD:\\940 python_study\\200 study\\220 valletta_all\\python_valletta_all\\.venv\\Lib\\site-packages\\pandas\\io\\sql.py:2852\u001B[0m, in \u001B[0;36mSQLiteDatabase.to_sql\u001B[1;34m(self, frame, name, if_exists, index, index_label, schema, chunksize, dtype, method, engine, **engine_kwargs)\u001B[0m\n\u001B[0;32m   2842\u001B[0m table \u001B[38;5;241m=\u001B[39m SQLiteTable(\n\u001B[0;32m   2843\u001B[0m     name,\n\u001B[0;32m   2844\u001B[0m     \u001B[38;5;28mself\u001B[39m,\n\u001B[1;32m   (...)\u001B[0m\n\u001B[0;32m   2849\u001B[0m     dtype\u001B[38;5;241m=\u001B[39mdtype,\n\u001B[0;32m   2850\u001B[0m )\n\u001B[0;32m   2851\u001B[0m table\u001B[38;5;241m.\u001B[39mcreate()\n\u001B[1;32m-> 2852\u001B[0m \u001B[38;5;28;01mreturn\u001B[39;00m \u001B[43mtable\u001B[49m\u001B[38;5;241;43m.\u001B[39;49m\u001B[43minsert\u001B[49m\u001B[43m(\u001B[49m\u001B[43mchunksize\u001B[49m\u001B[43m,\u001B[49m\u001B[43m \u001B[49m\u001B[43mmethod\u001B[49m\u001B[43m)\u001B[49m\n",
      "File \u001B[1;32mD:\\940 python_study\\200 study\\220 valletta_all\\python_valletta_all\\.venv\\Lib\\site-packages\\pandas\\io\\sql.py:1122\u001B[0m, in \u001B[0;36mSQLTable.insert\u001B[1;34m(self, chunksize, method)\u001B[0m\n\u001B[0;32m   1119\u001B[0m     \u001B[38;5;28;01mbreak\u001B[39;00m\n\u001B[0;32m   1121\u001B[0m chunk_iter \u001B[38;5;241m=\u001B[39m \u001B[38;5;28mzip\u001B[39m(\u001B[38;5;241m*\u001B[39m(arr[start_i:end_i] \u001B[38;5;28;01mfor\u001B[39;00m arr \u001B[38;5;129;01min\u001B[39;00m data_list))\n\u001B[1;32m-> 1122\u001B[0m num_inserted \u001B[38;5;241m=\u001B[39m \u001B[43mexec_insert\u001B[49m\u001B[43m(\u001B[49m\u001B[43mconn\u001B[49m\u001B[43m,\u001B[49m\u001B[43m \u001B[49m\u001B[43mkeys\u001B[49m\u001B[43m,\u001B[49m\u001B[43m \u001B[49m\u001B[43mchunk_iter\u001B[49m\u001B[43m)\u001B[49m\n\u001B[0;32m   1123\u001B[0m \u001B[38;5;66;03m# GH 46891\u001B[39;00m\n\u001B[0;32m   1124\u001B[0m \u001B[38;5;28;01mif\u001B[39;00m num_inserted \u001B[38;5;129;01mis\u001B[39;00m \u001B[38;5;129;01mnot\u001B[39;00m \u001B[38;5;28;01mNone\u001B[39;00m:\n",
      "File \u001B[1;32mD:\\940 python_study\\200 study\\220 valletta_all\\python_valletta_all\\.venv\\Lib\\site-packages\\pandas\\io\\sql.py:2548\u001B[0m, in \u001B[0;36mSQLiteTable._execute_insert\u001B[1;34m(self, conn, keys, data_iter)\u001B[0m\n\u001B[0;32m   2546\u001B[0m \u001B[38;5;28;01mdef\u001B[39;00m \u001B[38;5;21m_execute_insert\u001B[39m(\u001B[38;5;28mself\u001B[39m, conn, keys, data_iter) \u001B[38;5;241m-\u001B[39m\u001B[38;5;241m>\u001B[39m \u001B[38;5;28mint\u001B[39m:\n\u001B[0;32m   2547\u001B[0m     data_list \u001B[38;5;241m=\u001B[39m \u001B[38;5;28mlist\u001B[39m(data_iter)\n\u001B[1;32m-> 2548\u001B[0m     \u001B[43mconn\u001B[49m\u001B[38;5;241;43m.\u001B[39;49m\u001B[43mexecutemany\u001B[49m\u001B[43m(\u001B[49m\u001B[38;5;28;43mself\u001B[39;49m\u001B[38;5;241;43m.\u001B[39;49m\u001B[43minsert_statement\u001B[49m\u001B[43m(\u001B[49m\u001B[43mnum_rows\u001B[49m\u001B[38;5;241;43m=\u001B[39;49m\u001B[38;5;241;43m1\u001B[39;49m\u001B[43m)\u001B[49m\u001B[43m,\u001B[49m\u001B[43m \u001B[49m\u001B[43mdata_list\u001B[49m\u001B[43m)\u001B[49m\n\u001B[0;32m   2549\u001B[0m     \u001B[38;5;28;01mreturn\u001B[39;00m conn\u001B[38;5;241m.\u001B[39mrowcount\n",
      "\u001B[1;31mIntegrityError\u001B[0m: UNIQUE constraint failed: product_list.id"
     ]
    }
   ],
   "source": [
    "# 상품 리스트 테이블에 추가\n",
    "product_list.to_sql('product_list', conn, if_exists='append', index=False)"
   ],
   "metadata": {
    "collapsed": false,
    "ExecuteTime": {
     "end_time": "2024-02-14T10:13:05.078169200Z",
     "start_time": "2024-02-14T10:13:05.050192800Z"
    }
   },
   "id": "5ee91645240d52d3",
   "execution_count": 15
  },
  {
   "cell_type": "markdown",
   "source": [
    "### 튜플(리스트)로 테이블 추가"
   ],
   "metadata": {
    "collapsed": false
   },
   "id": "71155b10129b2cc2"
  },
  {
   "cell_type": "code",
   "outputs": [],
   "source": [
    "# 테이블 삭제\n",
    "c.execute(\"drop table product_list\")\n",
    "conn.commit()"
   ],
   "metadata": {
    "collapsed": false,
    "ExecuteTime": {
     "end_time": "2024-02-14T10:13:05.080169500Z",
     "start_time": "2024-02-14T10:13:05.079170800Z"
    }
   },
   "id": "5214ea8c4f8a79db",
   "execution_count": null
  },
  {
   "cell_type": "code",
   "outputs": [],
   "source": [
    "# 추가할 상품 리스트\n",
    "product_list = [\n",
    "    ['모자', 10000],\n",
    "    ['가방', 12000],\n",
    "    ['가방', 120001],\n",
    "    ['가방', 120002],\n",
    "    ['가방', 120003],\n",
    "    ['바지', 20000],\n",
    "]\n",
    "\n",
    "# 테이블 생성\n",
    "c.execute(\"create table if not exists product_list (id integer primary key autoincrement, 상품명 text, 가격 integer)\")\n",
    "\n",
    "# 레코드 추가\n",
    "c.executemany(\"insert into product_list (상품명, 가격) values (?, ?)\", product_list)\n",
    "conn.commit()"
   ],
   "metadata": {
    "collapsed": false,
    "ExecuteTime": {
     "end_time": "2024-02-14T10:13:05.081168300Z",
     "start_time": "2024-02-14T10:13:05.080169500Z"
    }
   },
   "id": "cb456eaa31c59bdc",
   "execution_count": null
  },
  {
   "cell_type": "markdown",
   "source": [
    "### 주문 목록 추가"
   ],
   "metadata": {
    "collapsed": false
   },
   "id": "8bca3a78600c826d"
  },
  {
   "cell_type": "code",
   "outputs": [],
   "source": [
    "c.execute(\n",
    "    \"create table if not exists order_list (id integer primary key autoincrement, 상품명 text, 개수 integer, 가격 integer, 총가격 integer)\")\n",
    "conn.commit()"
   ],
   "metadata": {
    "collapsed": false,
    "ExecuteTime": {
     "end_time": "2024-02-14T10:13:05.081168300Z",
     "start_time": "2024-02-14T10:13:05.081168300Z"
    }
   },
   "id": "ba8c370a7b5d5278",
   "execution_count": null
  },
  {
   "cell_type": "code",
   "outputs": [
    {
     "name": "stdout",
     "output_type": "stream",
     "text": [
      "--------------------상품 목록--------------------\n",
      "상품번호 :  1  / 상품명 :  모자  / 가격 :  10000\n",
      "상품번호 :  2  / 상품명 :  가방  / 가격 :  12000\n",
      "상품번호 :  3  / 상품명 :  가방  / 가격 :  120001\n",
      "상품번호 :  4  / 상품명 :  가방  / 가격 :  120002\n",
      "상품번호 :  5  / 상품명 :  가방  / 가격 :  120003\n",
      "상품번호 :  6  / 상품명 :  바지  / 가격 :  20000\n",
      "\n",
      "\n",
      "현재까지 구매한 내역 보기\n",
      "--------------------주문 목록--------------------\n",
      "상품명 :  가방  / 주문수량 :  3  / 단가 :  12000  / 총가격 :  36000\n",
      "----------------------------------------\n",
      "\n",
      "상품을 추가 구매하시겠습니까?\n",
      "중단하려면 'x'를 눌러주세요.\n",
      "계속 하시려면 엔터키를 눌러주세요.\n",
      "--------------------상품 목록--------------------\n",
      "상품번호 :  1  / 상품명 :  모자  / 가격 :  10000\n",
      "상품번호 :  2  / 상품명 :  가방  / 가격 :  12000\n",
      "상품번호 :  3  / 상품명 :  가방  / 가격 :  120001\n",
      "상품번호 :  4  / 상품명 :  가방  / 가격 :  120002\n",
      "상품번호 :  5  / 상품명 :  가방  / 가격 :  120003\n",
      "상품번호 :  6  / 상품명 :  바지  / 가격 :  20000\n",
      "\n",
      "\n",
      "현재까지 구매한 내역 보기\n",
      "--------------------주문 목록--------------------\n",
      "상품명 :  가방  / 주문수량 :  3  / 단가 :  12000  / 총가격 :  36000\n",
      "상품명 :  가방  / 주문수량 :  2  / 단가 :  12000  / 총가격 :  24000\n",
      "----------------------------------------\n",
      "\n",
      "상품을 추가 구매하시겠습니까?\n",
      "중단하려면 'x'를 눌러주세요.\n",
      "계속 하시려면 엔터키를 눌러주세요.\n"
     ]
    }
   ],
   "source": [
    "while True:\n",
    "\n",
    "    sep = \"-\" * 20\n",
    "\n",
    "    # 상품 목록을 표시\n",
    "    print(sep + \"상품 목록\" + sep)\n",
    "\n",
    "    for row in c.execute(\"select id, 상품명, 가격 from product_list\"):\n",
    "        print(\"상품번호 : \", row[0], \" / 상품명 : \", row[1], \" / 가격 : \", row[2])\n",
    "\n",
    "    # 사용자 상품 선택\n",
    "    print('')\n",
    "    num = input(\"구매하실 상품의 번호를 입력해 주세요 : \")\n",
    "    c.execute(\"select 상품명, 가격 from product_list where id = ?\", (num,))\n",
    "    result = c.fetchone()\n",
    "\n",
    "    # 상품 번호와 주문 수량을 입력\n",
    "    print('')\n",
    "    count = int(input(\"구매할 수량을 입력해 주세요 : \"))\n",
    "    total = count * int(result[1])\n",
    "\n",
    "    # 주문 데이터를 db에 추가\n",
    "    c.execute(\"insert into order_list (상품명, 개수, 가격, 총가격) values (?, ?, ?, ?)\", (result[0], count, result[1], total))\n",
    "    conn.commit()\n",
    "\n",
    "    # 현재까지 주문 내역을 출력\n",
    "    print('')\n",
    "    print(\"현재까지 구매한 내역 보기\")\n",
    "    print(sep + \"주문 목록\" + sep)\n",
    "\n",
    "    for row in c.execute(\"select * from order_list\"):\n",
    "        print(\"상품명 : \", row[1], \" / 주문수량 : \", row[2], \" / 단가 : \", row[3], \" / 총가격 : \", row[4])\n",
    "    print(sep + sep)\n",
    "\n",
    "    # 사용자 추가 구매 여부\n",
    "    print('')\n",
    "    print(\"상품을 추가 구매하시겠습니까?\")\n",
    "    print(\"중단하려면 'x'를 눌러주세요.\")\n",
    "    print(\"계속 하시려면 엔터키를 눌러주세요.\")\n",
    "\n",
    "    if input(\"상품을 추가 구매하시겠습니까?\\n중단하시려면 x를 눌러주세요.\") == 'x': break"
   ],
   "metadata": {
    "collapsed": false,
    "ExecuteTime": {
     "end_time": "2024-02-14T10:16:10.584049500Z",
     "start_time": "2024-02-14T10:16:00.050683300Z"
    }
   },
   "id": "81e2fb8dec25c023",
   "execution_count": 23
  },
  {
   "cell_type": "markdown",
   "source": [
    "### 총 구매 가격 산출"
   ],
   "metadata": {
    "collapsed": false
   },
   "id": "c0618b704a6903e5"
  },
  {
   "cell_type": "code",
   "outputs": [
    {
     "name": "stdout",
     "output_type": "stream",
     "text": [
      "총 구매가격 :  60000 원\n"
     ]
    }
   ],
   "source": [
    "# 주문 내역에서 총 구매 가격 계산\n",
    "print(\"총 구매가격\", end=\"\")\n",
    "\n",
    "for row in c.execute(\"select sum(총가격) from order_list\"):\n",
    "    print(\" : \", row[0], \"원\")\n",
    "\n",
    "print('')\n",
    "\n",
    "# 주문 내역 초기화\n",
    "c.execute(\"delete from order_list\")\n",
    "conn.commit()\n",
    "# 데이터베이스 연결 해제\n",
    "# conn.close()"
   ],
   "metadata": {
    "collapsed": false,
    "ExecuteTime": {
     "end_time": "2024-02-14T10:16:22.849777500Z",
     "start_time": "2024-02-14T10:16:22.844340100Z"
    }
   },
   "id": "12360e032a0b7ee7",
   "execution_count": 24
  },
  {
   "cell_type": "code",
   "outputs": [],
   "source": [],
   "metadata": {
    "collapsed": false,
    "ExecuteTime": {
     "end_time": "2024-02-14T10:13:05.085168600Z",
     "start_time": "2024-02-14T10:13:05.083169800Z"
    }
   },
   "id": "da1a428f642aafb"
  }
 ],
 "metadata": {
  "kernelspec": {
   "display_name": "Python 3",
   "language": "python",
   "name": "python3"
  },
  "language_info": {
   "codemirror_mode": {
    "name": "ipython",
    "version": 2
   },
   "file_extension": ".py",
   "mimetype": "text/x-python",
   "name": "python",
   "nbconvert_exporter": "python",
   "pygments_lexer": "ipython2",
   "version": "2.7.6"
  }
 },
 "nbformat": 4,
 "nbformat_minor": 5
}
