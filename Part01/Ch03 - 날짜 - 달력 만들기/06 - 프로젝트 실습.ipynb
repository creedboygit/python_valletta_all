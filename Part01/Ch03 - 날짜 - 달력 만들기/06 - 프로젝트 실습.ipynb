{
 "cells": [
  {
   "cell_type": "markdown",
   "source": [
    "## 달력 프로젝트 실습"
   ],
   "metadata": {
    "collapsed": false
   },
   "id": "95e61da6df02cb2"
  },
  {
   "cell_type": "markdown",
   "source": [
    "> ### 진행 순서\n",
    "> 1. 윤년 판별 함수\n",
    "> 2. 마지막 날짜 계산\n",
    "> 3. 지나온 날짜 계산\n",
    "> 4. 요일 반환\n",
    "> 5. 달력 확인"
   ],
   "metadata": {
    "collapsed": false
   },
   "id": "be1e5aa80389acf1"
  },
  {
   "cell_type": "markdown",
   "source": [
    "## 윤년 판별 함수"
   ],
   "metadata": {
    "collapsed": false
   },
   "id": "2130b76af173cb30"
  },
  {
   "cell_type": "markdown",
   "source": [
    "### 방법 1. 윤년 판별 공식에 따라 작동하는 함수 만들기"
   ],
   "metadata": {
    "collapsed": false
   },
   "id": "701119000aa20cf8"
  },
  {
   "cell_type": "code",
   "outputs": [],
   "source": [
    "def isLeapYear(year):  # 윤년이면 True, 아니면 False를 출력하는 함수\n",
    "    return year % 4 == 0 and year % 100 != 0 or year % 400 == 0"
   ],
   "metadata": {
    "collapsed": false,
    "ExecuteTime": {
     "end_time": "2024-02-09T07:01:48.440661900Z",
     "start_time": "2024-02-09T07:01:48.435655300Z"
    }
   },
   "id": "756ee9a3531c650e",
   "execution_count": 3
  },
  {
   "cell_type": "code",
   "outputs": [
    {
     "data": {
      "text/plain": "True"
     },
     "execution_count": 4,
     "metadata": {},
     "output_type": "execute_result"
    }
   ],
   "source": [
    "isLeapYear(2020)"
   ],
   "metadata": {
    "collapsed": false,
    "ExecuteTime": {
     "end_time": "2024-02-09T07:01:54.479875Z",
     "start_time": "2024-02-09T07:01:54.471484900Z"
    }
   },
   "id": "ea10d913b0a5665b",
   "execution_count": 4
  },
  {
   "cell_type": "code",
   "outputs": [
    {
     "data": {
      "text/plain": "False"
     },
     "execution_count": 6,
     "metadata": {},
     "output_type": "execute_result"
    }
   ],
   "source": [
    "isLeapYear(2023)"
   ],
   "metadata": {
    "collapsed": false,
    "ExecuteTime": {
     "end_time": "2024-02-09T07:02:03.072382500Z",
     "start_time": "2024-02-09T07:02:03.065522400Z"
    }
   },
   "id": "9962da07d0a74958",
   "execution_count": 6
  },
  {
   "cell_type": "code",
   "outputs": [
    {
     "data": {
      "text/plain": "True"
     },
     "execution_count": 7,
     "metadata": {},
     "output_type": "execute_result"
    }
   ],
   "source": [
    "isLeapYear(2024)"
   ],
   "metadata": {
    "collapsed": false,
    "ExecuteTime": {
     "end_time": "2024-02-09T07:02:08.518584300Z",
     "start_time": "2024-02-09T07:02:08.505576100Z"
    }
   },
   "id": "ed8d3908bc621f71",
   "execution_count": 7
  },
  {
   "cell_type": "markdown",
   "source": [
    "### 방법 2. calendar 모듈 활용하기"
   ],
   "metadata": {
    "collapsed": false
   },
   "id": "292abcf00e75326f"
  },
  {
   "cell_type": "code",
   "outputs": [],
   "source": [
    "import calendar"
   ],
   "metadata": {
    "collapsed": false,
    "ExecuteTime": {
     "end_time": "2024-02-09T07:02:35.731383100Z",
     "start_time": "2024-02-09T07:02:35.727869700Z"
    }
   },
   "id": "6f9276d82ca625f1",
   "execution_count": 9
  },
  {
   "cell_type": "code",
   "outputs": [
    {
     "data": {
      "text/plain": "True"
     },
     "execution_count": 10,
     "metadata": {},
     "output_type": "execute_result"
    }
   ],
   "source": [
    "calendar.isleap(2020)"
   ],
   "metadata": {
    "collapsed": false,
    "ExecuteTime": {
     "end_time": "2024-02-09T07:02:41.385198900Z",
     "start_time": "2024-02-09T07:02:41.377766800Z"
    }
   },
   "id": "1e2d6b0e0a30bc51",
   "execution_count": 10
  },
  {
   "cell_type": "code",
   "outputs": [
    {
     "data": {
      "text/plain": "True"
     },
     "execution_count": 11,
     "metadata": {},
     "output_type": "execute_result"
    }
   ],
   "source": [
    "calendar.isleap(2024)"
   ],
   "metadata": {
    "collapsed": false,
    "ExecuteTime": {
     "end_time": "2024-02-09T07:02:50.440923Z",
     "start_time": "2024-02-09T07:02:50.433414200Z"
    }
   },
   "id": "5fd53c291faa579c",
   "execution_count": 11
  },
  {
   "cell_type": "code",
   "outputs": [
    {
     "data": {
      "text/plain": "False"
     },
     "execution_count": 12,
     "metadata": {},
     "output_type": "execute_result"
    }
   ],
   "source": [
    "calendar.isleap(2023)"
   ],
   "metadata": {
    "collapsed": false,
    "ExecuteTime": {
     "end_time": "2024-02-09T07:02:55.365444800Z",
     "start_time": "2024-02-09T07:02:55.358349300Z"
    }
   },
   "id": "a8866272b24bf180",
   "execution_count": 12
  },
  {
   "cell_type": "markdown",
   "source": [],
   "metadata": {
    "collapsed": false
   },
   "id": "4cbc7e6d27f2aeb8"
  },
  {
   "cell_type": "markdown",
   "source": [
    "### 마지막 날짜 계산"
   ],
   "metadata": {
    "collapsed": false
   },
   "id": "64d923d296c01854"
  },
  {
   "cell_type": "markdown",
   "source": [
    "> * lastDay 인수로 년, 월을 넘겨받아 그 달의 마지막 날짜를 리턴하는 함수"
   ],
   "metadata": {
    "collapsed": false
   },
   "id": "6f5dc729bb50995b"
  },
  {
   "cell_type": "code",
   "outputs": [],
   "source": [
    "def last_day(year, month):\n",
    "    # 각 달의 마지막 날짜를 기억하는 리스트 만들기\n",
    "    m = [31, 28, 31, 30, 31, 30, 31, 31, 30, 31, 30, 31]\n",
    "\n",
    "    # 2월의 마지막 날짜를 확정 -> 윤년이면 29일로 수정\n",
    "    if calendar.isleap(year):\n",
    "        m[1] = 29\n",
    "\n",
    "    return m[month - 1]  # 마지막 날짜 리턴    "
   ],
   "metadata": {
    "collapsed": false,
    "ExecuteTime": {
     "end_time": "2024-02-09T07:21:03.128677700Z",
     "start_time": "2024-02-09T07:21:03.123127400Z"
    }
   },
   "id": "20e544730318f3c2",
   "execution_count": 14
  },
  {
   "cell_type": "code",
   "outputs": [
    {
     "data": {
      "text/plain": "31"
     },
     "execution_count": 20,
     "metadata": {},
     "output_type": "execute_result"
    }
   ],
   "source": [
    "last_day(2024, 12)"
   ],
   "metadata": {
    "collapsed": false,
    "ExecuteTime": {
     "end_time": "2024-02-09T07:21:22.422842600Z",
     "start_time": "2024-02-09T07:21:22.419405200Z"
    }
   },
   "id": "9f10c442f99743b1",
   "execution_count": 20
  },
  {
   "cell_type": "markdown",
   "source": [
    "### 지나온 날짜 계산"
   ],
   "metadata": {
    "collapsed": false
   },
   "id": "21731f6104c0f01c"
  },
  {
   "cell_type": "code",
   "outputs": [],
   "source": [
    "def total_days(year, month, day):\n",
    "    # 1년 1월 1일부터 전년도 12월 31일까지 지난 날짜를 합산\n",
    "    leap_year_days = (year - 1) // 4 - (year - 1) // 100 + (year - 1) // 400\n",
    "    total = (year - 1) * 365 + leap_year_days\n",
    "\n",
    "    # year의 전년도까지 지난 날짜의 합계에 year의 전 달까지 지난 날짜 더하기\n",
    "    for i in range(1, month):\n",
    "        total += last_day(year, i)  # 윤년 확인 포함\n",
    "\n",
    "    return total + day  # 전 달까지 지난 날짜에 이번 달의 날짜를 더해서 리턴"
   ],
   "metadata": {
    "collapsed": false,
    "ExecuteTime": {
     "end_time": "2024-02-09T07:29:54.071291500Z",
     "start_time": "2024-02-09T07:29:54.064234900Z"
    }
   },
   "id": "94c9a8be635bd6f0",
   "execution_count": 21
  },
  {
   "cell_type": "code",
   "outputs": [
    {
     "data": {
      "text/plain": "738925"
     },
     "execution_count": 22,
     "metadata": {},
     "output_type": "execute_result"
    }
   ],
   "source": [
    "total_days(2024, 2, 9)"
   ],
   "metadata": {
    "collapsed": false,
    "ExecuteTime": {
     "end_time": "2024-02-09T07:30:01.548830Z",
     "start_time": "2024-02-09T07:30:01.543317200Z"
    }
   },
   "id": "cd8a3bbd01919074",
   "execution_count": 22
  },
  {
   "cell_type": "code",
   "outputs": [
    {
     "data": {
      "text/plain": "738924"
     },
     "execution_count": 23,
     "metadata": {},
     "output_type": "execute_result"
    }
   ],
   "source": [
    "total_days(2024, 2, 8)"
   ],
   "metadata": {
    "collapsed": false,
    "ExecuteTime": {
     "end_time": "2024-02-09T07:30:14.134957900Z",
     "start_time": "2024-02-09T07:30:14.129912600Z"
    }
   },
   "id": "a48ac52078314023",
   "execution_count": 23
  },
  {
   "cell_type": "markdown",
   "source": [
    "### 요일 반환"
   ],
   "metadata": {
    "collapsed": false
   },
   "id": "723f70ad71a42b26"
  },
  {
   "cell_type": "markdown",
   "source": [
    "> * week_day 인수로 년, 월, 일을 넘겨받아 요일을 계산해 숫자로 리턴하는 함수\n",
    "> * 1년 1월 1일부터 인수로 넘겨받은 년, 월, 일 까지 지난 날짜의 합계를 7로 나눈 나머지 반환\n",
    "> * 일(0), 월(1), 화(2), 수(3), 목(4), 금(5), 토(6)"
   ],
   "metadata": {
    "collapsed": false
   },
   "id": "7bb7f895708031ad"
  },
  {
   "cell_type": "code",
   "outputs": [],
   "source": [
    "def week_day(year, month, day):\n",
    "    return total_days(year, month, day) % 7"
   ],
   "metadata": {
    "collapsed": false,
    "ExecuteTime": {
     "end_time": "2024-02-09T07:34:20.483156300Z",
     "start_time": "2024-02-09T07:34:20.477643200Z"
    }
   },
   "id": "aec9d81672f0fc43",
   "execution_count": 24
  },
  {
   "cell_type": "code",
   "outputs": [
    {
     "data": {
      "text/plain": "5"
     },
     "execution_count": 25,
     "metadata": {},
     "output_type": "execute_result"
    }
   ],
   "source": [
    "week_day(2024, 2, 9)"
   ],
   "metadata": {
    "collapsed": false,
    "ExecuteTime": {
     "end_time": "2024-02-09T07:34:27.367137400Z",
     "start_time": "2024-02-09T07:34:27.360436100Z"
    }
   },
   "id": "5750c7aa90b51553",
   "execution_count": 25
  },
  {
   "cell_type": "code",
   "outputs": [
    {
     "name": "stdout",
     "output_type": "stream",
     "text": [
      "4\n"
     ]
    }
   ],
   "source": [
    "print(calendar.weekday(2024, 2, 9))"
   ],
   "metadata": {
    "collapsed": false,
    "ExecuteTime": {
     "end_time": "2024-02-09T07:35:17.095766500Z",
     "start_time": "2024-02-09T07:35:17.089716300Z"
    }
   },
   "id": "338769771f21e53",
   "execution_count": 27
  },
  {
   "cell_type": "markdown",
   "source": [
    "# 달력 확인"
   ],
   "metadata": {
    "collapsed": false
   },
   "id": "2567d1804b707dc9"
  },
  {
   "cell_type": "code",
   "outputs": [
    {
     "name": "stdout",
     "output_type": "stream",
     "text": [
      "============================\n",
      "          2024년 2월\n",
      "============================\n",
      "  일  월  화  수  목  금  토 \n",
      "============================\n",
      "                  1   2   3 \n",
      "  4   5   6   7   8   9  10 \n",
      " 11  12  13  14  15  16  17 \n",
      " 18  19  20  21  22  23  24 \n",
      " 25  26  27  28  29 \n",
      "============================\n"
     ]
    }
   ],
   "source": [
    "if __name__ == \"__main__\":\n",
    "    year, month = map(int, input('달력을 출력할 년, 월을 입력하세요 : ').split())\n",
    "\n",
    "    # print(year)\n",
    "    # print(month)\n",
    "\n",
    "    print('=' * 28)\n",
    "    print(' ' * 10 + '{0:4d}년{1:2d}월'.format(year, month))\n",
    "    print('=' * 28)\n",
    "    print('  일  월  화  수  목  금  토 ')\n",
    "    print('=' * 28)  # 여기까지가 달력의 윗 부분\n",
    "\n",
    "    for i in range(week_day(year, month, 1)):\n",
    "        # 1일이 출력될 요일의 위치를 맞추기 위해 1일의 요일만큼 반복하며 빈 칸을 출력\n",
    "        print(' ' * 4, end='')\n",
    "\n",
    "    # 1일부터 달력을 출력할 달의 마지막 날짜까지 반복하며 달력을 출력\n",
    "    for i in range(1, last_day(year, month) + 1):  # i가 1부터 해당 달의 마지막 날짜의 수까지 변하는 동안\n",
    "        print(' {0:2d} '.format(i), end='')\n",
    "\n",
    "        # 출력한 날짜(i)가 토요일이고, 그 달의 마지막 날짜가 아니면 줄을 바꾼다.\n",
    "        if week_day(year, month, i) == 6 and i != last_day(year, month):\n",
    "            print()\n",
    "\n",
    "    print('\\n' + '=' * 28)\n",
    "\n"
   ],
   "metadata": {
    "collapsed": false,
    "ExecuteTime": {
     "end_time": "2024-02-09T07:50:20.143098700Z",
     "start_time": "2024-02-09T07:50:18.784829700Z"
    }
   },
   "id": "7dd30743a65c206d",
   "execution_count": 55
  }
 ],
 "metadata": {
  "kernelspec": {
   "display_name": "Python 3",
   "language": "python",
   "name": "python3"
  },
  "language_info": {
   "codemirror_mode": {
    "name": "ipython",
    "version": 2
   },
   "file_extension": ".py",
   "mimetype": "text/x-python",
   "name": "python",
   "nbconvert_exporter": "python",
   "pygments_lexer": "ipython2",
   "version": "2.7.6"
  }
 },
 "nbformat": 4,
 "nbformat_minor": 5
}
