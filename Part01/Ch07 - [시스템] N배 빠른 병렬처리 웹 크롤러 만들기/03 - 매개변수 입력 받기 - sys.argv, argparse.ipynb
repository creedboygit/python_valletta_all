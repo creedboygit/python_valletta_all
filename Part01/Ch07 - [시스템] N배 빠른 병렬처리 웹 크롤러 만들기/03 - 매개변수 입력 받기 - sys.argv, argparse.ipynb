{
 "cells": [
  {
   "cell_type": "markdown",
   "source": [
    "# 매개변수란?\n",
    "프로그램 명령행에서 사용자로부터 입력 받는 값 (혹은 인자)\n",
    "외부에서 입력 받는 값에 따라 프로그램 동작이 달라져야 할 경우 주로 사용"
   ],
   "metadata": {
    "collapsed": false
   },
   "id": "c2493bb472097fdf"
  },
  {
   "cell_type": "markdown",
   "source": [
    "# sys.argv\n",
    "- 파이썬 스크립트로 전달한 명령행 매개변수를 처리할 때 사용하는 모듈\n",
    "- list() 형식의 반환값을 사용하기 때문에 여러 개의 인자를 다룰 때 편하다."
   ],
   "metadata": {
    "collapsed": false
   },
   "id": "f5231ecdbb3a6b35"
  },
  {
   "cell_type": "code",
   "outputs": [
    {
     "name": "stdout",
     "output_type": "stream",
     "text": [
      "['D:\\\\940 python_study\\\\200 study\\\\220 valletta_all\\\\python_valletta_all\\\\.venv\\\\Lib\\\\site-packages\\\\ipykernel_launcher.py', '-f', 'C:\\\\Users\\\\VALLETTA\\\\AppData\\\\Roaming\\\\jupyter\\\\runtime\\\\kernel-1e17645f-821d-4854-8223-7f6860415634.json']\n"
     ]
    }
   ],
   "source": [
    "from __future__ import print_function\n",
    "\n",
    "# pycharm에서 실행 결과 확인\n",
    "import sys\n",
    "\n",
    "print(sys.argv)"
   ],
   "metadata": {
    "collapsed": false,
    "ExecuteTime": {
     "end_time": "2024-02-15T13:22:30.163844400Z",
     "start_time": "2024-02-15T13:22:30.158848600Z"
    }
   },
   "id": "5f6d06db52bfa1e9",
   "execution_count": 1
  },
  {
   "cell_type": "code",
   "outputs": [
    {
     "ename": "ValueError",
     "evalue": "invalid literal for int() with base 10: '-f'",
     "output_type": "error",
     "traceback": [
      "\u001B[1;31m---------------------------------------------------------------------------\u001B[0m",
      "\u001B[1;31mValueError\u001B[0m                                Traceback (most recent call last)",
      "Cell \u001B[1;32mIn[5], line 1\u001B[0m\n\u001B[1;32m----> 1\u001B[0m val1 \u001B[38;5;241m=\u001B[39m \u001B[38;5;28;43mint\u001B[39;49m\u001B[43m(\u001B[49m\u001B[43msys\u001B[49m\u001B[38;5;241;43m.\u001B[39;49m\u001B[43margv\u001B[49m\u001B[43m[\u001B[49m\u001B[38;5;241;43m1\u001B[39;49m\u001B[43m]\u001B[49m\u001B[43m)\u001B[49m\n\u001B[0;32m      2\u001B[0m val2 \u001B[38;5;241m=\u001B[39m \u001B[38;5;28mint\u001B[39m(sys\u001B[38;5;241m.\u001B[39margv[\u001B[38;5;241m2\u001B[39m])\n\u001B[0;32m      4\u001B[0m \u001B[38;5;28mprint\u001B[39m(val1, \u001B[38;5;124m'\u001B[39m\u001B[38;5;124m 곱하기\u001B[39m\u001B[38;5;124m'\u001B[39m, val2, \u001B[38;5;124m'\u001B[39m\u001B[38;5;124m 은?\u001B[39m\u001B[38;5;124m'\u001B[39m, (val1 \u001B[38;5;241m*\u001B[39m val2))\n",
      "\u001B[1;31mValueError\u001B[0m: invalid literal for int() with base 10: '-f'"
     ]
    }
   ],
   "source": [
    "val1 = int(sys.argv[1])\n",
    "val2 = int(sys.argv[2])\n",
    "\n",
    "print(val1, ' 곱하기', val2, ' 은?', (val1 * val2))"
   ],
   "metadata": {
    "collapsed": false,
    "ExecuteTime": {
     "end_time": "2024-02-15T13:24:23.159826100Z",
     "start_time": "2024-02-15T13:24:23.149880100Z"
    }
   },
   "id": "8c3473b25057a78f",
   "execution_count": 5
  },
  {
   "cell_type": "markdown",
   "source": [
    "# argparse\n",
    "- sys.argv 모듈과 마찬가지로 명령행 매개변수를 다룰 때 주로 사용\n",
    "- sys.argv 는 인자를 파싱하는 과정이 필요하며, 이는 인자 별 예외 처리가 필요함을 의미\n",
    "- 인자를 입력받고, 파싱하고, 예외처리, 사용법 작성까지 자동으로 수행해주는 편리한 모듈"
   ],
   "metadata": {
    "collapsed": false
   },
   "id": "446097c5c0e44701"
  },
  {
   "cell_type": "markdown",
   "source": [
    "# 예제 1"
   ],
   "metadata": {
    "collapsed": false
   },
   "id": "114dbf5e948331f8"
  },
  {
   "cell_type": "code",
   "outputs": [],
   "source": [
    "# pycharm에서 실행 결과 확인\n",
    "import argparse"
   ],
   "metadata": {
    "collapsed": false,
    "ExecuteTime": {
     "end_time": "2024-02-17T07:53:32.644534Z",
     "start_time": "2024-02-17T07:53:32.640026300Z"
    }
   },
   "id": "2df92207341cf10e",
   "execution_count": 1
  },
  {
   "cell_type": "code",
   "outputs": [],
   "source": [
    "# 1. 객체 생성\n",
    "parser = argparse.ArgumentParser()"
   ],
   "metadata": {
    "collapsed": false,
    "ExecuteTime": {
     "end_time": "2024-02-17T07:53:55.038743700Z",
     "start_time": "2024-02-17T07:53:55.023868Z"
    }
   },
   "id": "a2ac7c40dcc438d6",
   "execution_count": 2
  },
  {
   "cell_type": "code",
   "outputs": [
    {
     "data": {
      "text/plain": "_StoreAction(option_strings=[], dest='X', nargs=None, const=None, default=None, type=<class 'int'>, choices=None, required=True, help='두번째 숫자는?', metavar=None)"
     },
     "execution_count": 3,
     "metadata": {},
     "output_type": "execute_result"
    }
   ],
   "source": [
    "# 2. 매개변수 추가\n",
    "parser.add_argument('X', type=int, help='첫번째 숫자는?')\n",
    "parser.add_argument('Y', type=int, help='두번째 숫자는?')"
   ],
   "metadata": {
    "collapsed": false,
    "ExecuteTime": {
     "end_time": "2024-02-17T07:59:50.053695800Z",
     "start_time": "2024-02-17T07:59:50.032696500Z"
    }
   },
   "id": "a39f9dcd0100724",
   "execution_count": 3
  },
  {
   "cell_type": "code",
   "outputs": [
    {
     "name": "stderr",
     "output_type": "stream",
     "text": [
      "usage: ipykernel_launcher.py [-h] X X\n",
      "ipykernel_launcher.py: error: argument X: invalid int value: 'C:\\\\Users\\\\VALLETTA\\\\AppData\\\\Roaming\\\\jupyter\\\\runtime\\\\kernel-5ede38d7-7637-43d8-b4a3-d0d46b42d92f.json'\n"
     ]
    },
    {
     "ename": "AttributeError",
     "evalue": "'tuple' object has no attribute 'tb_frame'",
     "output_type": "error",
     "traceback": [
      "\u001B[1;31m---------------------------------------------------------------------------\u001B[0m",
      "\u001B[1;31mValueError\u001B[0m                                Traceback (most recent call last)",
      "File \u001B[1;32m~\\.pyenv\\pyenv-win\\versions\\3.12.1\\Lib\\argparse.py:2555\u001B[0m, in \u001B[0;36mArgumentParser._get_value\u001B[1;34m(self, action, arg_string)\u001B[0m\n\u001B[0;32m   2554\u001B[0m \u001B[38;5;28;01mtry\u001B[39;00m:\n\u001B[1;32m-> 2555\u001B[0m     result \u001B[38;5;241m=\u001B[39m \u001B[43mtype_func\u001B[49m\u001B[43m(\u001B[49m\u001B[43marg_string\u001B[49m\u001B[43m)\u001B[49m\n\u001B[0;32m   2557\u001B[0m \u001B[38;5;66;03m# ArgumentTypeErrors indicate errors\u001B[39;00m\n",
      "\u001B[1;31mValueError\u001B[0m: invalid literal for int() with base 10: 'C:\\\\Users\\\\VALLETTA\\\\AppData\\\\Roaming\\\\jupyter\\\\runtime\\\\kernel-5ede38d7-7637-43d8-b4a3-d0d46b42d92f.json'",
      "\nDuring handling of the above exception, another exception occurred:\n",
      "\u001B[1;31mArgumentError\u001B[0m                             Traceback (most recent call last)",
      "File \u001B[1;32m~\\.pyenv\\pyenv-win\\versions\\3.12.1\\Lib\\argparse.py:1924\u001B[0m, in \u001B[0;36mArgumentParser.parse_known_args\u001B[1;34m(self, args, namespace)\u001B[0m\n\u001B[0;32m   1923\u001B[0m \u001B[38;5;28;01mtry\u001B[39;00m:\n\u001B[1;32m-> 1924\u001B[0m     namespace, args \u001B[38;5;241m=\u001B[39m \u001B[38;5;28;43mself\u001B[39;49m\u001B[38;5;241;43m.\u001B[39;49m\u001B[43m_parse_known_args\u001B[49m\u001B[43m(\u001B[49m\u001B[43margs\u001B[49m\u001B[43m,\u001B[49m\u001B[43m \u001B[49m\u001B[43mnamespace\u001B[49m\u001B[43m)\u001B[49m\n\u001B[0;32m   1925\u001B[0m \u001B[38;5;28;01mexcept\u001B[39;00m ArgumentError \u001B[38;5;28;01mas\u001B[39;00m err:\n",
      "File \u001B[1;32m~\\.pyenv\\pyenv-win\\versions\\3.12.1\\Lib\\argparse.py:2139\u001B[0m, in \u001B[0;36mArgumentParser._parse_known_args\u001B[1;34m(self, arg_strings, namespace)\u001B[0m\n\u001B[0;32m   2138\u001B[0m \u001B[38;5;66;03m# consume any positionals following the last Optional\u001B[39;00m\n\u001B[1;32m-> 2139\u001B[0m stop_index \u001B[38;5;241m=\u001B[39m \u001B[43mconsume_positionals\u001B[49m\u001B[43m(\u001B[49m\u001B[43mstart_index\u001B[49m\u001B[43m)\u001B[49m\n\u001B[0;32m   2141\u001B[0m \u001B[38;5;66;03m# if we didn't consume all the argument strings, there were extras\u001B[39;00m\n",
      "File \u001B[1;32m~\\.pyenv\\pyenv-win\\versions\\3.12.1\\Lib\\argparse.py:2095\u001B[0m, in \u001B[0;36mArgumentParser._parse_known_args.<locals>.consume_positionals\u001B[1;34m(start_index)\u001B[0m\n\u001B[0;32m   2094\u001B[0m     start_index \u001B[38;5;241m+\u001B[39m\u001B[38;5;241m=\u001B[39m arg_count\n\u001B[1;32m-> 2095\u001B[0m     \u001B[43mtake_action\u001B[49m\u001B[43m(\u001B[49m\u001B[43maction\u001B[49m\u001B[43m,\u001B[49m\u001B[43m \u001B[49m\u001B[43margs\u001B[49m\u001B[43m)\u001B[49m\n\u001B[0;32m   2097\u001B[0m \u001B[38;5;66;03m# slice off the Positionals that we just parsed and return the\u001B[39;00m\n\u001B[0;32m   2098\u001B[0m \u001B[38;5;66;03m# index at which the Positionals' string args stopped\u001B[39;00m\n",
      "File \u001B[1;32m~\\.pyenv\\pyenv-win\\versions\\3.12.1\\Lib\\argparse.py:1984\u001B[0m, in \u001B[0;36mArgumentParser._parse_known_args.<locals>.take_action\u001B[1;34m(action, argument_strings, option_string)\u001B[0m\n\u001B[0;32m   1983\u001B[0m seen_actions\u001B[38;5;241m.\u001B[39madd(action)\n\u001B[1;32m-> 1984\u001B[0m argument_values \u001B[38;5;241m=\u001B[39m \u001B[38;5;28;43mself\u001B[39;49m\u001B[38;5;241;43m.\u001B[39;49m\u001B[43m_get_values\u001B[49m\u001B[43m(\u001B[49m\u001B[43maction\u001B[49m\u001B[43m,\u001B[49m\u001B[43m \u001B[49m\u001B[43margument_strings\u001B[49m\u001B[43m)\u001B[49m\n\u001B[0;32m   1986\u001B[0m \u001B[38;5;66;03m# error if this argument is not allowed with other previously\u001B[39;00m\n\u001B[0;32m   1987\u001B[0m \u001B[38;5;66;03m# seen arguments, assuming that actions that use the default\u001B[39;00m\n\u001B[0;32m   1988\u001B[0m \u001B[38;5;66;03m# value don't really count as \"present\"\u001B[39;00m\n",
      "File \u001B[1;32m~\\.pyenv\\pyenv-win\\versions\\3.12.1\\Lib\\argparse.py:2522\u001B[0m, in \u001B[0;36mArgumentParser._get_values\u001B[1;34m(self, action, arg_strings)\u001B[0m\n\u001B[0;32m   2521\u001B[0m arg_string, \u001B[38;5;241m=\u001B[39m arg_strings\n\u001B[1;32m-> 2522\u001B[0m value \u001B[38;5;241m=\u001B[39m \u001B[38;5;28;43mself\u001B[39;49m\u001B[38;5;241;43m.\u001B[39;49m\u001B[43m_get_value\u001B[49m\u001B[43m(\u001B[49m\u001B[43maction\u001B[49m\u001B[43m,\u001B[49m\u001B[43m \u001B[49m\u001B[43marg_string\u001B[49m\u001B[43m)\u001B[49m\n\u001B[0;32m   2523\u001B[0m \u001B[38;5;28mself\u001B[39m\u001B[38;5;241m.\u001B[39m_check_value(action, value)\n",
      "File \u001B[1;32m~\\.pyenv\\pyenv-win\\versions\\3.12.1\\Lib\\argparse.py:2567\u001B[0m, in \u001B[0;36mArgumentParser._get_value\u001B[1;34m(self, action, arg_string)\u001B[0m\n\u001B[0;32m   2566\u001B[0m     msg \u001B[38;5;241m=\u001B[39m _(\u001B[38;5;124m'\u001B[39m\u001B[38;5;124minvalid \u001B[39m\u001B[38;5;132;01m%(type)s\u001B[39;00m\u001B[38;5;124m value: \u001B[39m\u001B[38;5;132;01m%(value)r\u001B[39;00m\u001B[38;5;124m'\u001B[39m)\n\u001B[1;32m-> 2567\u001B[0m     \u001B[38;5;28;01mraise\u001B[39;00m ArgumentError(action, msg \u001B[38;5;241m%\u001B[39m args)\n\u001B[0;32m   2569\u001B[0m \u001B[38;5;66;03m# return the converted value\u001B[39;00m\n",
      "\u001B[1;31mArgumentError\u001B[0m: argument X: invalid int value: 'C:\\\\Users\\\\VALLETTA\\\\AppData\\\\Roaming\\\\jupyter\\\\runtime\\\\kernel-5ede38d7-7637-43d8-b4a3-d0d46b42d92f.json'",
      "\nDuring handling of the above exception, another exception occurred:\n",
      "\u001B[1;31mSystemExit\u001B[0m                                Traceback (most recent call last)",
      "    \u001B[1;31m[... skipping hidden 1 frame]\u001B[0m\n",
      "Cell \u001B[1;32mIn[4], line 2\u001B[0m\n\u001B[0;32m      1\u001B[0m \u001B[38;5;66;03m# 3. 매개변수 파싱\u001B[39;00m\n\u001B[1;32m----> 2\u001B[0m args \u001B[38;5;241m=\u001B[39m \u001B[43mparser\u001B[49m\u001B[38;5;241;43m.\u001B[39;49m\u001B[43mparse_args\u001B[49m\u001B[43m(\u001B[49m\u001B[43m)\u001B[49m\n\u001B[0;32m      3\u001B[0m X \u001B[38;5;241m=\u001B[39m args\u001B[38;5;241m.\u001B[39mX\n",
      "File \u001B[1;32m~\\.pyenv\\pyenv-win\\versions\\3.12.1\\Lib\\argparse.py:1891\u001B[0m, in \u001B[0;36mArgumentParser.parse_args\u001B[1;34m(self, args, namespace)\u001B[0m\n\u001B[0;32m   1890\u001B[0m \u001B[38;5;28;01mdef\u001B[39;00m \u001B[38;5;21mparse_args\u001B[39m(\u001B[38;5;28mself\u001B[39m, args\u001B[38;5;241m=\u001B[39m\u001B[38;5;28;01mNone\u001B[39;00m, namespace\u001B[38;5;241m=\u001B[39m\u001B[38;5;28;01mNone\u001B[39;00m):\n\u001B[1;32m-> 1891\u001B[0m     args, argv \u001B[38;5;241m=\u001B[39m \u001B[38;5;28;43mself\u001B[39;49m\u001B[38;5;241;43m.\u001B[39;49m\u001B[43mparse_known_args\u001B[49m\u001B[43m(\u001B[49m\u001B[43margs\u001B[49m\u001B[43m,\u001B[49m\u001B[43m \u001B[49m\u001B[43mnamespace\u001B[49m\u001B[43m)\u001B[49m\n\u001B[0;32m   1892\u001B[0m     \u001B[38;5;28;01mif\u001B[39;00m argv:\n",
      "File \u001B[1;32m~\\.pyenv\\pyenv-win\\versions\\3.12.1\\Lib\\argparse.py:1926\u001B[0m, in \u001B[0;36mArgumentParser.parse_known_args\u001B[1;34m(self, args, namespace)\u001B[0m\n\u001B[0;32m   1925\u001B[0m     \u001B[38;5;28;01mexcept\u001B[39;00m ArgumentError \u001B[38;5;28;01mas\u001B[39;00m err:\n\u001B[1;32m-> 1926\u001B[0m         \u001B[38;5;28;43mself\u001B[39;49m\u001B[38;5;241;43m.\u001B[39;49m\u001B[43merror\u001B[49m\u001B[43m(\u001B[49m\u001B[38;5;28;43mstr\u001B[39;49m\u001B[43m(\u001B[49m\u001B[43merr\u001B[49m\u001B[43m)\u001B[49m\u001B[43m)\u001B[49m\n\u001B[0;32m   1927\u001B[0m \u001B[38;5;28;01melse\u001B[39;00m:\n",
      "File \u001B[1;32m~\\.pyenv\\pyenv-win\\versions\\3.12.1\\Lib\\argparse.py:2655\u001B[0m, in \u001B[0;36mArgumentParser.error\u001B[1;34m(self, message)\u001B[0m\n\u001B[0;32m   2654\u001B[0m args \u001B[38;5;241m=\u001B[39m {\u001B[38;5;124m'\u001B[39m\u001B[38;5;124mprog\u001B[39m\u001B[38;5;124m'\u001B[39m: \u001B[38;5;28mself\u001B[39m\u001B[38;5;241m.\u001B[39mprog, \u001B[38;5;124m'\u001B[39m\u001B[38;5;124mmessage\u001B[39m\u001B[38;5;124m'\u001B[39m: message}\n\u001B[1;32m-> 2655\u001B[0m \u001B[38;5;28;43mself\u001B[39;49m\u001B[38;5;241;43m.\u001B[39;49m\u001B[43mexit\u001B[49m\u001B[43m(\u001B[49m\u001B[38;5;241;43m2\u001B[39;49m\u001B[43m,\u001B[49m\u001B[43m \u001B[49m\u001B[43m_\u001B[49m\u001B[43m(\u001B[49m\u001B[38;5;124;43m'\u001B[39;49m\u001B[38;5;132;43;01m%(prog)s\u001B[39;49;00m\u001B[38;5;124;43m: error: \u001B[39;49m\u001B[38;5;132;43;01m%(message)s\u001B[39;49;00m\u001B[38;5;130;43;01m\\n\u001B[39;49;00m\u001B[38;5;124;43m'\u001B[39;49m\u001B[43m)\u001B[49m\u001B[43m \u001B[49m\u001B[38;5;241;43m%\u001B[39;49m\u001B[43m \u001B[49m\u001B[43margs\u001B[49m\u001B[43m)\u001B[49m\n",
      "File \u001B[1;32m~\\.pyenv\\pyenv-win\\versions\\3.12.1\\Lib\\argparse.py:2642\u001B[0m, in \u001B[0;36mArgumentParser.exit\u001B[1;34m(self, status, message)\u001B[0m\n\u001B[0;32m   2641\u001B[0m     \u001B[38;5;28mself\u001B[39m\u001B[38;5;241m.\u001B[39m_print_message(message, _sys\u001B[38;5;241m.\u001B[39mstderr)\n\u001B[1;32m-> 2642\u001B[0m \u001B[43m_sys\u001B[49m\u001B[38;5;241;43m.\u001B[39;49m\u001B[43mexit\u001B[49m\u001B[43m(\u001B[49m\u001B[43mstatus\u001B[49m\u001B[43m)\u001B[49m\n",
      "\u001B[1;31mSystemExit\u001B[0m: 2",
      "\nDuring handling of the above exception, another exception occurred:\n",
      "\u001B[1;31mAttributeError\u001B[0m                            Traceback (most recent call last)",
      "    \u001B[1;31m[... skipping hidden 1 frame]\u001B[0m\n",
      "File \u001B[1;32mD:\\940 python_study\\200 study\\220 valletta_all\\python_valletta_all\\.venv\\Lib\\site-packages\\IPython\\core\\interactiveshell.py:2121\u001B[0m, in \u001B[0;36mInteractiveShell.showtraceback\u001B[1;34m(self, exc_tuple, filename, tb_offset, exception_only, running_compiled_code)\u001B[0m\n\u001B[0;32m   2118\u001B[0m \u001B[38;5;28;01mif\u001B[39;00m exception_only:\n\u001B[0;32m   2119\u001B[0m     stb \u001B[38;5;241m=\u001B[39m [\u001B[38;5;124m'\u001B[39m\u001B[38;5;124mAn exception has occurred, use \u001B[39m\u001B[38;5;124m%\u001B[39m\u001B[38;5;124mtb to see \u001B[39m\u001B[38;5;124m'\u001B[39m\n\u001B[0;32m   2120\u001B[0m            \u001B[38;5;124m'\u001B[39m\u001B[38;5;124mthe full traceback.\u001B[39m\u001B[38;5;130;01m\\n\u001B[39;00m\u001B[38;5;124m'\u001B[39m]\n\u001B[1;32m-> 2121\u001B[0m     stb\u001B[38;5;241m.\u001B[39mextend(\u001B[38;5;28;43mself\u001B[39;49m\u001B[38;5;241;43m.\u001B[39;49m\u001B[43mInteractiveTB\u001B[49m\u001B[38;5;241;43m.\u001B[39;49m\u001B[43mget_exception_only\u001B[49m\u001B[43m(\u001B[49m\u001B[43metype\u001B[49m\u001B[43m,\u001B[49m\n\u001B[0;32m   2122\u001B[0m \u001B[43m                                                     \u001B[49m\u001B[43mvalue\u001B[49m\u001B[43m)\u001B[49m)\n\u001B[0;32m   2123\u001B[0m \u001B[38;5;28;01melse\u001B[39;00m:\n\u001B[0;32m   2125\u001B[0m     \u001B[38;5;28;01mdef\u001B[39;00m \u001B[38;5;21mcontains_exceptiongroup\u001B[39m(val):\n",
      "File \u001B[1;32mD:\\940 python_study\\200 study\\220 valletta_all\\python_valletta_all\\.venv\\Lib\\site-packages\\IPython\\core\\ultratb.py:710\u001B[0m, in \u001B[0;36mListTB.get_exception_only\u001B[1;34m(self, etype, value)\u001B[0m\n\u001B[0;32m    702\u001B[0m \u001B[38;5;28;01mdef\u001B[39;00m \u001B[38;5;21mget_exception_only\u001B[39m(\u001B[38;5;28mself\u001B[39m, etype, value):\n\u001B[0;32m    703\u001B[0m \u001B[38;5;250m    \u001B[39m\u001B[38;5;124;03m\"\"\"Only print the exception type and message, without a traceback.\u001B[39;00m\n\u001B[0;32m    704\u001B[0m \n\u001B[0;32m    705\u001B[0m \u001B[38;5;124;03m    Parameters\u001B[39;00m\n\u001B[1;32m   (...)\u001B[0m\n\u001B[0;32m    708\u001B[0m \u001B[38;5;124;03m    value : exception value\u001B[39;00m\n\u001B[0;32m    709\u001B[0m \u001B[38;5;124;03m    \"\"\"\u001B[39;00m\n\u001B[1;32m--> 710\u001B[0m     \u001B[38;5;28;01mreturn\u001B[39;00m \u001B[43mListTB\u001B[49m\u001B[38;5;241;43m.\u001B[39;49m\u001B[43mstructured_traceback\u001B[49m\u001B[43m(\u001B[49m\u001B[38;5;28;43mself\u001B[39;49m\u001B[43m,\u001B[49m\u001B[43m \u001B[49m\u001B[43metype\u001B[49m\u001B[43m,\u001B[49m\u001B[43m \u001B[49m\u001B[43mvalue\u001B[49m\u001B[43m)\u001B[49m\n",
      "File \u001B[1;32mD:\\940 python_study\\200 study\\220 valletta_all\\python_valletta_all\\.venv\\Lib\\site-packages\\IPython\\core\\ultratb.py:568\u001B[0m, in \u001B[0;36mListTB.structured_traceback\u001B[1;34m(self, etype, evalue, etb, tb_offset, context)\u001B[0m\n\u001B[0;32m    565\u001B[0m     chained_exc_ids\u001B[38;5;241m.\u001B[39madd(\u001B[38;5;28mid\u001B[39m(exception[\u001B[38;5;241m1\u001B[39m]))\n\u001B[0;32m    566\u001B[0m     chained_exceptions_tb_offset \u001B[38;5;241m=\u001B[39m \u001B[38;5;241m0\u001B[39m\n\u001B[0;32m    567\u001B[0m     out_list \u001B[38;5;241m=\u001B[39m (\n\u001B[1;32m--> 568\u001B[0m         \u001B[38;5;28;43mself\u001B[39;49m\u001B[38;5;241;43m.\u001B[39;49m\u001B[43mstructured_traceback\u001B[49m\u001B[43m(\u001B[49m\n\u001B[0;32m    569\u001B[0m \u001B[43m            \u001B[49m\u001B[43metype\u001B[49m\u001B[43m,\u001B[49m\n\u001B[0;32m    570\u001B[0m \u001B[43m            \u001B[49m\u001B[43mevalue\u001B[49m\u001B[43m,\u001B[49m\n\u001B[0;32m    571\u001B[0m \u001B[43m            \u001B[49m\u001B[43m(\u001B[49m\u001B[43metb\u001B[49m\u001B[43m,\u001B[49m\u001B[43m \u001B[49m\u001B[43mchained_exc_ids\u001B[49m\u001B[43m)\u001B[49m\u001B[43m,\u001B[49m\u001B[43m  \u001B[49m\u001B[38;5;66;43;03m# type: ignore\u001B[39;49;00m\n\u001B[0;32m    572\u001B[0m \u001B[43m            \u001B[49m\u001B[43mchained_exceptions_tb_offset\u001B[49m\u001B[43m,\u001B[49m\n\u001B[0;32m    573\u001B[0m \u001B[43m            \u001B[49m\u001B[43mcontext\u001B[49m\u001B[43m,\u001B[49m\n\u001B[0;32m    574\u001B[0m \u001B[43m        \u001B[49m\u001B[43m)\u001B[49m\n\u001B[0;32m    575\u001B[0m         \u001B[38;5;241m+\u001B[39m chained_exception_message\n\u001B[0;32m    576\u001B[0m         \u001B[38;5;241m+\u001B[39m out_list)\n\u001B[0;32m    578\u001B[0m \u001B[38;5;28;01mreturn\u001B[39;00m out_list\n",
      "File \u001B[1;32mD:\\940 python_study\\200 study\\220 valletta_all\\python_valletta_all\\.venv\\Lib\\site-packages\\IPython\\core\\ultratb.py:1448\u001B[0m, in \u001B[0;36mAutoFormattedTB.structured_traceback\u001B[1;34m(self, etype, evalue, etb, tb_offset, number_of_lines_of_context)\u001B[0m\n\u001B[0;32m   1446\u001B[0m \u001B[38;5;28;01melse\u001B[39;00m:\n\u001B[0;32m   1447\u001B[0m     \u001B[38;5;28mself\u001B[39m\u001B[38;5;241m.\u001B[39mtb \u001B[38;5;241m=\u001B[39m etb\n\u001B[1;32m-> 1448\u001B[0m \u001B[38;5;28;01mreturn\u001B[39;00m \u001B[43mFormattedTB\u001B[49m\u001B[38;5;241;43m.\u001B[39;49m\u001B[43mstructured_traceback\u001B[49m\u001B[43m(\u001B[49m\n\u001B[0;32m   1449\u001B[0m \u001B[43m    \u001B[49m\u001B[38;5;28;43mself\u001B[39;49m\u001B[43m,\u001B[49m\u001B[43m \u001B[49m\u001B[43metype\u001B[49m\u001B[43m,\u001B[49m\u001B[43m \u001B[49m\u001B[43mevalue\u001B[49m\u001B[43m,\u001B[49m\u001B[43m \u001B[49m\u001B[43metb\u001B[49m\u001B[43m,\u001B[49m\u001B[43m \u001B[49m\u001B[43mtb_offset\u001B[49m\u001B[43m,\u001B[49m\u001B[43m \u001B[49m\u001B[43mnumber_of_lines_of_context\u001B[49m\n\u001B[0;32m   1450\u001B[0m \u001B[43m\u001B[49m\u001B[43m)\u001B[49m\n",
      "File \u001B[1;32mD:\\940 python_study\\200 study\\220 valletta_all\\python_valletta_all\\.venv\\Lib\\site-packages\\IPython\\core\\ultratb.py:1339\u001B[0m, in \u001B[0;36mFormattedTB.structured_traceback\u001B[1;34m(self, etype, value, tb, tb_offset, number_of_lines_of_context)\u001B[0m\n\u001B[0;32m   1336\u001B[0m mode \u001B[38;5;241m=\u001B[39m \u001B[38;5;28mself\u001B[39m\u001B[38;5;241m.\u001B[39mmode\n\u001B[0;32m   1337\u001B[0m \u001B[38;5;28;01mif\u001B[39;00m mode \u001B[38;5;129;01min\u001B[39;00m \u001B[38;5;28mself\u001B[39m\u001B[38;5;241m.\u001B[39mverbose_modes:\n\u001B[0;32m   1338\u001B[0m     \u001B[38;5;66;03m# Verbose modes need a full traceback\u001B[39;00m\n\u001B[1;32m-> 1339\u001B[0m     \u001B[38;5;28;01mreturn\u001B[39;00m \u001B[43mVerboseTB\u001B[49m\u001B[38;5;241;43m.\u001B[39;49m\u001B[43mstructured_traceback\u001B[49m\u001B[43m(\u001B[49m\n\u001B[0;32m   1340\u001B[0m \u001B[43m        \u001B[49m\u001B[38;5;28;43mself\u001B[39;49m\u001B[43m,\u001B[49m\u001B[43m \u001B[49m\u001B[43metype\u001B[49m\u001B[43m,\u001B[49m\u001B[43m \u001B[49m\u001B[43mvalue\u001B[49m\u001B[43m,\u001B[49m\u001B[43m \u001B[49m\u001B[43mtb\u001B[49m\u001B[43m,\u001B[49m\u001B[43m \u001B[49m\u001B[43mtb_offset\u001B[49m\u001B[43m,\u001B[49m\u001B[43m \u001B[49m\u001B[43mnumber_of_lines_of_context\u001B[49m\n\u001B[0;32m   1341\u001B[0m \u001B[43m    \u001B[49m\u001B[43m)\u001B[49m\n\u001B[0;32m   1342\u001B[0m \u001B[38;5;28;01melif\u001B[39;00m mode \u001B[38;5;241m==\u001B[39m \u001B[38;5;124m'\u001B[39m\u001B[38;5;124mMinimal\u001B[39m\u001B[38;5;124m'\u001B[39m:\n\u001B[0;32m   1343\u001B[0m     \u001B[38;5;28;01mreturn\u001B[39;00m ListTB\u001B[38;5;241m.\u001B[39mget_exception_only(\u001B[38;5;28mself\u001B[39m, etype, value)\n",
      "File \u001B[1;32mD:\\940 python_study\\200 study\\220 valletta_all\\python_valletta_all\\.venv\\Lib\\site-packages\\IPython\\core\\ultratb.py:1186\u001B[0m, in \u001B[0;36mVerboseTB.structured_traceback\u001B[1;34m(self, etype, evalue, etb, tb_offset, number_of_lines_of_context)\u001B[0m\n\u001B[0;32m   1177\u001B[0m \u001B[38;5;28;01mdef\u001B[39;00m \u001B[38;5;21mstructured_traceback\u001B[39m(\n\u001B[0;32m   1178\u001B[0m     \u001B[38;5;28mself\u001B[39m,\n\u001B[0;32m   1179\u001B[0m     etype: \u001B[38;5;28mtype\u001B[39m,\n\u001B[1;32m   (...)\u001B[0m\n\u001B[0;32m   1183\u001B[0m     number_of_lines_of_context: \u001B[38;5;28mint\u001B[39m \u001B[38;5;241m=\u001B[39m \u001B[38;5;241m5\u001B[39m,\n\u001B[0;32m   1184\u001B[0m ):\n\u001B[0;32m   1185\u001B[0m \u001B[38;5;250m    \u001B[39m\u001B[38;5;124;03m\"\"\"Return a nice text document describing the traceback.\"\"\"\u001B[39;00m\n\u001B[1;32m-> 1186\u001B[0m     formatted_exception \u001B[38;5;241m=\u001B[39m \u001B[38;5;28;43mself\u001B[39;49m\u001B[38;5;241;43m.\u001B[39;49m\u001B[43mformat_exception_as_a_whole\u001B[49m\u001B[43m(\u001B[49m\u001B[43metype\u001B[49m\u001B[43m,\u001B[49m\u001B[43m \u001B[49m\u001B[43mevalue\u001B[49m\u001B[43m,\u001B[49m\u001B[43m \u001B[49m\u001B[43metb\u001B[49m\u001B[43m,\u001B[49m\u001B[43m \u001B[49m\u001B[43mnumber_of_lines_of_context\u001B[49m\u001B[43m,\u001B[49m\n\u001B[0;32m   1187\u001B[0m \u001B[43m                                                           \u001B[49m\u001B[43mtb_offset\u001B[49m\u001B[43m)\u001B[49m\n\u001B[0;32m   1189\u001B[0m     colors \u001B[38;5;241m=\u001B[39m \u001B[38;5;28mself\u001B[39m\u001B[38;5;241m.\u001B[39mColors  \u001B[38;5;66;03m# just a shorthand + quicker name lookup\u001B[39;00m\n\u001B[0;32m   1190\u001B[0m     colorsnormal \u001B[38;5;241m=\u001B[39m colors\u001B[38;5;241m.\u001B[39mNormal  \u001B[38;5;66;03m# used a lot\u001B[39;00m\n",
      "File \u001B[1;32mD:\\940 python_study\\200 study\\220 valletta_all\\python_valletta_all\\.venv\\Lib\\site-packages\\IPython\\core\\ultratb.py:1076\u001B[0m, in \u001B[0;36mVerboseTB.format_exception_as_a_whole\u001B[1;34m(self, etype, evalue, etb, number_of_lines_of_context, tb_offset)\u001B[0m\n\u001B[0;32m   1073\u001B[0m \u001B[38;5;28;01massert\u001B[39;00m \u001B[38;5;28misinstance\u001B[39m(tb_offset, \u001B[38;5;28mint\u001B[39m)\n\u001B[0;32m   1074\u001B[0m head \u001B[38;5;241m=\u001B[39m \u001B[38;5;28mself\u001B[39m\u001B[38;5;241m.\u001B[39mprepare_header(\u001B[38;5;28mstr\u001B[39m(etype), \u001B[38;5;28mself\u001B[39m\u001B[38;5;241m.\u001B[39mlong_header)\n\u001B[0;32m   1075\u001B[0m records \u001B[38;5;241m=\u001B[39m (\n\u001B[1;32m-> 1076\u001B[0m     \u001B[38;5;28;43mself\u001B[39;49m\u001B[38;5;241;43m.\u001B[39;49m\u001B[43mget_records\u001B[49m\u001B[43m(\u001B[49m\u001B[43metb\u001B[49m\u001B[43m,\u001B[49m\u001B[43m \u001B[49m\u001B[43mnumber_of_lines_of_context\u001B[49m\u001B[43m,\u001B[49m\u001B[43m \u001B[49m\u001B[43mtb_offset\u001B[49m\u001B[43m)\u001B[49m \u001B[38;5;28;01mif\u001B[39;00m etb \u001B[38;5;28;01melse\u001B[39;00m []\n\u001B[0;32m   1077\u001B[0m )\n\u001B[0;32m   1079\u001B[0m frames \u001B[38;5;241m=\u001B[39m []\n\u001B[0;32m   1080\u001B[0m skipped \u001B[38;5;241m=\u001B[39m \u001B[38;5;241m0\u001B[39m\n",
      "File \u001B[1;32mD:\\940 python_study\\200 study\\220 valletta_all\\python_valletta_all\\.venv\\Lib\\site-packages\\IPython\\core\\ultratb.py:1144\u001B[0m, in \u001B[0;36mVerboseTB.get_records\u001B[1;34m(self, etb, number_of_lines_of_context, tb_offset)\u001B[0m\n\u001B[0;32m   1142\u001B[0m \u001B[38;5;28;01mwhile\u001B[39;00m cf \u001B[38;5;129;01mis\u001B[39;00m \u001B[38;5;129;01mnot\u001B[39;00m \u001B[38;5;28;01mNone\u001B[39;00m:\n\u001B[0;32m   1143\u001B[0m     \u001B[38;5;28;01mtry\u001B[39;00m:\n\u001B[1;32m-> 1144\u001B[0m         mod \u001B[38;5;241m=\u001B[39m inspect\u001B[38;5;241m.\u001B[39mgetmodule(\u001B[43mcf\u001B[49m\u001B[38;5;241;43m.\u001B[39;49m\u001B[43mtb_frame\u001B[49m)\n\u001B[0;32m   1145\u001B[0m         \u001B[38;5;28;01mif\u001B[39;00m mod \u001B[38;5;129;01mis\u001B[39;00m \u001B[38;5;129;01mnot\u001B[39;00m \u001B[38;5;28;01mNone\u001B[39;00m:\n\u001B[0;32m   1146\u001B[0m             mod_name \u001B[38;5;241m=\u001B[39m mod\u001B[38;5;241m.\u001B[39m\u001B[38;5;18m__name__\u001B[39m\n",
      "\u001B[1;31mAttributeError\u001B[0m: 'tuple' object has no attribute 'tb_frame'"
     ]
    }
   ],
   "source": [
    "# 3. 매개변수 파싱\n",
    "args = parser.parse_args()\n",
    "X = args.X\n",
    "Y = args.Y"
   ],
   "metadata": {
    "collapsed": false,
    "ExecuteTime": {
     "end_time": "2024-02-17T08:00:34.007957600Z",
     "start_time": "2024-02-17T08:00:33.729484900Z"
    }
   },
   "id": "1f5869644a9c35bc",
   "execution_count": 4
  },
  {
   "cell_type": "code",
   "outputs": [],
   "source": [
    "# 4. 사용법 확인\n",
    "# python.py --help"
   ],
   "metadata": {
    "collapsed": false,
    "ExecuteTime": {
     "end_time": "2024-02-17T08:01:59.238320900Z",
     "start_time": "2024-02-17T08:01:59.235808200Z"
    }
   },
   "id": "499bebb25c9bc354",
   "execution_count": 6
  },
  {
   "cell_type": "markdown",
   "source": [
    "# 예제 2"
   ],
   "metadata": {
    "collapsed": false
   },
   "id": "c68afad990c3a825"
  },
  {
   "cell_type": "code",
   "outputs": [
    {
     "name": "stderr",
     "output_type": "stream",
     "text": [
      "usage: ipykernel_launcher.py [-h] [--op {덧셈,뺄셈,곱하기,나누기}] X Y\n",
      "ipykernel_launcher.py: error: argument X: invalid float value: 'C:\\\\Users\\\\VALLETTA\\\\AppData\\\\Roaming\\\\jupyter\\\\runtime\\\\kernel-5ede38d7-7637-43d8-b4a3-d0d46b42d92f.json'\n"
     ]
    },
    {
     "ename": "AttributeError",
     "evalue": "'tuple' object has no attribute 'tb_frame'",
     "output_type": "error",
     "traceback": [
      "\u001B[1;31m---------------------------------------------------------------------------\u001B[0m",
      "\u001B[1;31mValueError\u001B[0m                                Traceback (most recent call last)",
      "File \u001B[1;32m~\\.pyenv\\pyenv-win\\versions\\3.12.1\\Lib\\argparse.py:2555\u001B[0m, in \u001B[0;36mArgumentParser._get_value\u001B[1;34m(self, action, arg_string)\u001B[0m\n\u001B[0;32m   2554\u001B[0m \u001B[38;5;28;01mtry\u001B[39;00m:\n\u001B[1;32m-> 2555\u001B[0m     result \u001B[38;5;241m=\u001B[39m \u001B[43mtype_func\u001B[49m\u001B[43m(\u001B[49m\u001B[43marg_string\u001B[49m\u001B[43m)\u001B[49m\n\u001B[0;32m   2557\u001B[0m \u001B[38;5;66;03m# ArgumentTypeErrors indicate errors\u001B[39;00m\n",
      "\u001B[1;31mValueError\u001B[0m: could not convert string to float: 'C:\\\\Users\\\\VALLETTA\\\\AppData\\\\Roaming\\\\jupyter\\\\runtime\\\\kernel-5ede38d7-7637-43d8-b4a3-d0d46b42d92f.json'",
      "\nDuring handling of the above exception, another exception occurred:\n",
      "\u001B[1;31mArgumentError\u001B[0m                             Traceback (most recent call last)",
      "File \u001B[1;32m~\\.pyenv\\pyenv-win\\versions\\3.12.1\\Lib\\argparse.py:1924\u001B[0m, in \u001B[0;36mArgumentParser.parse_known_args\u001B[1;34m(self, args, namespace)\u001B[0m\n\u001B[0;32m   1923\u001B[0m \u001B[38;5;28;01mtry\u001B[39;00m:\n\u001B[1;32m-> 1924\u001B[0m     namespace, args \u001B[38;5;241m=\u001B[39m \u001B[38;5;28;43mself\u001B[39;49m\u001B[38;5;241;43m.\u001B[39;49m\u001B[43m_parse_known_args\u001B[49m\u001B[43m(\u001B[49m\u001B[43margs\u001B[49m\u001B[43m,\u001B[49m\u001B[43m \u001B[49m\u001B[43mnamespace\u001B[49m\u001B[43m)\u001B[49m\n\u001B[0;32m   1925\u001B[0m \u001B[38;5;28;01mexcept\u001B[39;00m ArgumentError \u001B[38;5;28;01mas\u001B[39;00m err:\n",
      "File \u001B[1;32m~\\.pyenv\\pyenv-win\\versions\\3.12.1\\Lib\\argparse.py:2139\u001B[0m, in \u001B[0;36mArgumentParser._parse_known_args\u001B[1;34m(self, arg_strings, namespace)\u001B[0m\n\u001B[0;32m   2138\u001B[0m \u001B[38;5;66;03m# consume any positionals following the last Optional\u001B[39;00m\n\u001B[1;32m-> 2139\u001B[0m stop_index \u001B[38;5;241m=\u001B[39m \u001B[43mconsume_positionals\u001B[49m\u001B[43m(\u001B[49m\u001B[43mstart_index\u001B[49m\u001B[43m)\u001B[49m\n\u001B[0;32m   2141\u001B[0m \u001B[38;5;66;03m# if we didn't consume all the argument strings, there were extras\u001B[39;00m\n",
      "File \u001B[1;32m~\\.pyenv\\pyenv-win\\versions\\3.12.1\\Lib\\argparse.py:2095\u001B[0m, in \u001B[0;36mArgumentParser._parse_known_args.<locals>.consume_positionals\u001B[1;34m(start_index)\u001B[0m\n\u001B[0;32m   2094\u001B[0m     start_index \u001B[38;5;241m+\u001B[39m\u001B[38;5;241m=\u001B[39m arg_count\n\u001B[1;32m-> 2095\u001B[0m     \u001B[43mtake_action\u001B[49m\u001B[43m(\u001B[49m\u001B[43maction\u001B[49m\u001B[43m,\u001B[49m\u001B[43m \u001B[49m\u001B[43margs\u001B[49m\u001B[43m)\u001B[49m\n\u001B[0;32m   2097\u001B[0m \u001B[38;5;66;03m# slice off the Positionals that we just parsed and return the\u001B[39;00m\n\u001B[0;32m   2098\u001B[0m \u001B[38;5;66;03m# index at which the Positionals' string args stopped\u001B[39;00m\n",
      "File \u001B[1;32m~\\.pyenv\\pyenv-win\\versions\\3.12.1\\Lib\\argparse.py:1984\u001B[0m, in \u001B[0;36mArgumentParser._parse_known_args.<locals>.take_action\u001B[1;34m(action, argument_strings, option_string)\u001B[0m\n\u001B[0;32m   1983\u001B[0m seen_actions\u001B[38;5;241m.\u001B[39madd(action)\n\u001B[1;32m-> 1984\u001B[0m argument_values \u001B[38;5;241m=\u001B[39m \u001B[38;5;28;43mself\u001B[39;49m\u001B[38;5;241;43m.\u001B[39;49m\u001B[43m_get_values\u001B[49m\u001B[43m(\u001B[49m\u001B[43maction\u001B[49m\u001B[43m,\u001B[49m\u001B[43m \u001B[49m\u001B[43margument_strings\u001B[49m\u001B[43m)\u001B[49m\n\u001B[0;32m   1986\u001B[0m \u001B[38;5;66;03m# error if this argument is not allowed with other previously\u001B[39;00m\n\u001B[0;32m   1987\u001B[0m \u001B[38;5;66;03m# seen arguments, assuming that actions that use the default\u001B[39;00m\n\u001B[0;32m   1988\u001B[0m \u001B[38;5;66;03m# value don't really count as \"present\"\u001B[39;00m\n",
      "File \u001B[1;32m~\\.pyenv\\pyenv-win\\versions\\3.12.1\\Lib\\argparse.py:2522\u001B[0m, in \u001B[0;36mArgumentParser._get_values\u001B[1;34m(self, action, arg_strings)\u001B[0m\n\u001B[0;32m   2521\u001B[0m arg_string, \u001B[38;5;241m=\u001B[39m arg_strings\n\u001B[1;32m-> 2522\u001B[0m value \u001B[38;5;241m=\u001B[39m \u001B[38;5;28;43mself\u001B[39;49m\u001B[38;5;241;43m.\u001B[39;49m\u001B[43m_get_value\u001B[49m\u001B[43m(\u001B[49m\u001B[43maction\u001B[49m\u001B[43m,\u001B[49m\u001B[43m \u001B[49m\u001B[43marg_string\u001B[49m\u001B[43m)\u001B[49m\n\u001B[0;32m   2523\u001B[0m \u001B[38;5;28mself\u001B[39m\u001B[38;5;241m.\u001B[39m_check_value(action, value)\n",
      "File \u001B[1;32m~\\.pyenv\\pyenv-win\\versions\\3.12.1\\Lib\\argparse.py:2567\u001B[0m, in \u001B[0;36mArgumentParser._get_value\u001B[1;34m(self, action, arg_string)\u001B[0m\n\u001B[0;32m   2566\u001B[0m     msg \u001B[38;5;241m=\u001B[39m _(\u001B[38;5;124m'\u001B[39m\u001B[38;5;124minvalid \u001B[39m\u001B[38;5;132;01m%(type)s\u001B[39;00m\u001B[38;5;124m value: \u001B[39m\u001B[38;5;132;01m%(value)r\u001B[39;00m\u001B[38;5;124m'\u001B[39m)\n\u001B[1;32m-> 2567\u001B[0m     \u001B[38;5;28;01mraise\u001B[39;00m ArgumentError(action, msg \u001B[38;5;241m%\u001B[39m args)\n\u001B[0;32m   2569\u001B[0m \u001B[38;5;66;03m# return the converted value\u001B[39;00m\n",
      "\u001B[1;31mArgumentError\u001B[0m: argument X: invalid float value: 'C:\\\\Users\\\\VALLETTA\\\\AppData\\\\Roaming\\\\jupyter\\\\runtime\\\\kernel-5ede38d7-7637-43d8-b4a3-d0d46b42d92f.json'",
      "\nDuring handling of the above exception, another exception occurred:\n",
      "\u001B[1;31mSystemExit\u001B[0m                                Traceback (most recent call last)",
      "    \u001B[1;31m[... skipping hidden 1 frame]\u001B[0m\n",
      "Cell \u001B[1;32mIn[7], line 38\u001B[0m\n\u001B[0;32m     37\u001B[0m \u001B[38;5;28;01mif\u001B[39;00m \u001B[38;5;18m__name__\u001B[39m \u001B[38;5;241m==\u001B[39m \u001B[38;5;124m\"\u001B[39m\u001B[38;5;124m__main__\u001B[39m\u001B[38;5;124m\"\u001B[39m:\n\u001B[1;32m---> 38\u001B[0m     \u001B[43mmain\u001B[49m\u001B[43m(\u001B[49m\u001B[43m)\u001B[49m\n",
      "Cell \u001B[1;32mIn[7], line 17\u001B[0m, in \u001B[0;36mmain\u001B[1;34m()\u001B[0m\n\u001B[0;32m     11\u001B[0m parser\u001B[38;5;241m.\u001B[39madd_argument(\u001B[38;5;124m'\u001B[39m\u001B[38;5;124m--op\u001B[39m\u001B[38;5;124m'\u001B[39m,\n\u001B[0;32m     12\u001B[0m                     \u001B[38;5;28mtype\u001B[39m\u001B[38;5;241m=\u001B[39m\u001B[38;5;28mstr\u001B[39m,\n\u001B[0;32m     13\u001B[0m                     default\u001B[38;5;241m=\u001B[39m\u001B[38;5;124m'\u001B[39m\u001B[38;5;124m덧셈\u001B[39m\u001B[38;5;124m'\u001B[39m,\n\u001B[0;32m     14\u001B[0m                     choices\u001B[38;5;241m=\u001B[39m[\u001B[38;5;124m'\u001B[39m\u001B[38;5;124m덧셈\u001B[39m\u001B[38;5;124m'\u001B[39m, \u001B[38;5;124m'\u001B[39m\u001B[38;5;124m뺄셈\u001B[39m\u001B[38;5;124m'\u001B[39m, \u001B[38;5;124m'\u001B[39m\u001B[38;5;124m곱하기\u001B[39m\u001B[38;5;124m'\u001B[39m, \u001B[38;5;124m'\u001B[39m\u001B[38;5;124m나누기\u001B[39m\u001B[38;5;124m'\u001B[39m],\n\u001B[0;32m     15\u001B[0m                     help\u001B[38;5;241m=\u001B[39m\u001B[38;5;124m'\u001B[39m\u001B[38;5;124m연산 방법을 선택해 주세요.\u001B[39m\u001B[38;5;124m'\u001B[39m)\n\u001B[1;32m---> 17\u001B[0m args \u001B[38;5;241m=\u001B[39m \u001B[43mparser\u001B[49m\u001B[38;5;241;43m.\u001B[39;49m\u001B[43mparse_args\u001B[49m\u001B[43m(\u001B[49m\u001B[43m)\u001B[49m\n\u001B[0;32m     19\u001B[0m X \u001B[38;5;241m=\u001B[39m args\u001B[38;5;241m.\u001B[39mX\n",
      "File \u001B[1;32m~\\.pyenv\\pyenv-win\\versions\\3.12.1\\Lib\\argparse.py:1891\u001B[0m, in \u001B[0;36mArgumentParser.parse_args\u001B[1;34m(self, args, namespace)\u001B[0m\n\u001B[0;32m   1890\u001B[0m \u001B[38;5;28;01mdef\u001B[39;00m \u001B[38;5;21mparse_args\u001B[39m(\u001B[38;5;28mself\u001B[39m, args\u001B[38;5;241m=\u001B[39m\u001B[38;5;28;01mNone\u001B[39;00m, namespace\u001B[38;5;241m=\u001B[39m\u001B[38;5;28;01mNone\u001B[39;00m):\n\u001B[1;32m-> 1891\u001B[0m     args, argv \u001B[38;5;241m=\u001B[39m \u001B[38;5;28;43mself\u001B[39;49m\u001B[38;5;241;43m.\u001B[39;49m\u001B[43mparse_known_args\u001B[49m\u001B[43m(\u001B[49m\u001B[43margs\u001B[49m\u001B[43m,\u001B[49m\u001B[43m \u001B[49m\u001B[43mnamespace\u001B[49m\u001B[43m)\u001B[49m\n\u001B[0;32m   1892\u001B[0m     \u001B[38;5;28;01mif\u001B[39;00m argv:\n",
      "File \u001B[1;32m~\\.pyenv\\pyenv-win\\versions\\3.12.1\\Lib\\argparse.py:1926\u001B[0m, in \u001B[0;36mArgumentParser.parse_known_args\u001B[1;34m(self, args, namespace)\u001B[0m\n\u001B[0;32m   1925\u001B[0m     \u001B[38;5;28;01mexcept\u001B[39;00m ArgumentError \u001B[38;5;28;01mas\u001B[39;00m err:\n\u001B[1;32m-> 1926\u001B[0m         \u001B[38;5;28;43mself\u001B[39;49m\u001B[38;5;241;43m.\u001B[39;49m\u001B[43merror\u001B[49m\u001B[43m(\u001B[49m\u001B[38;5;28;43mstr\u001B[39;49m\u001B[43m(\u001B[49m\u001B[43merr\u001B[49m\u001B[43m)\u001B[49m\u001B[43m)\u001B[49m\n\u001B[0;32m   1927\u001B[0m \u001B[38;5;28;01melse\u001B[39;00m:\n",
      "File \u001B[1;32m~\\.pyenv\\pyenv-win\\versions\\3.12.1\\Lib\\argparse.py:2655\u001B[0m, in \u001B[0;36mArgumentParser.error\u001B[1;34m(self, message)\u001B[0m\n\u001B[0;32m   2654\u001B[0m args \u001B[38;5;241m=\u001B[39m {\u001B[38;5;124m'\u001B[39m\u001B[38;5;124mprog\u001B[39m\u001B[38;5;124m'\u001B[39m: \u001B[38;5;28mself\u001B[39m\u001B[38;5;241m.\u001B[39mprog, \u001B[38;5;124m'\u001B[39m\u001B[38;5;124mmessage\u001B[39m\u001B[38;5;124m'\u001B[39m: message}\n\u001B[1;32m-> 2655\u001B[0m \u001B[38;5;28;43mself\u001B[39;49m\u001B[38;5;241;43m.\u001B[39;49m\u001B[43mexit\u001B[49m\u001B[43m(\u001B[49m\u001B[38;5;241;43m2\u001B[39;49m\u001B[43m,\u001B[49m\u001B[43m \u001B[49m\u001B[43m_\u001B[49m\u001B[43m(\u001B[49m\u001B[38;5;124;43m'\u001B[39;49m\u001B[38;5;132;43;01m%(prog)s\u001B[39;49;00m\u001B[38;5;124;43m: error: \u001B[39;49m\u001B[38;5;132;43;01m%(message)s\u001B[39;49;00m\u001B[38;5;130;43;01m\\n\u001B[39;49;00m\u001B[38;5;124;43m'\u001B[39;49m\u001B[43m)\u001B[49m\u001B[43m \u001B[49m\u001B[38;5;241;43m%\u001B[39;49m\u001B[43m \u001B[49m\u001B[43margs\u001B[49m\u001B[43m)\u001B[49m\n",
      "File \u001B[1;32m~\\.pyenv\\pyenv-win\\versions\\3.12.1\\Lib\\argparse.py:2642\u001B[0m, in \u001B[0;36mArgumentParser.exit\u001B[1;34m(self, status, message)\u001B[0m\n\u001B[0;32m   2641\u001B[0m     \u001B[38;5;28mself\u001B[39m\u001B[38;5;241m.\u001B[39m_print_message(message, _sys\u001B[38;5;241m.\u001B[39mstderr)\n\u001B[1;32m-> 2642\u001B[0m \u001B[43m_sys\u001B[49m\u001B[38;5;241;43m.\u001B[39;49m\u001B[43mexit\u001B[49m\u001B[43m(\u001B[49m\u001B[43mstatus\u001B[49m\u001B[43m)\u001B[49m\n",
      "\u001B[1;31mSystemExit\u001B[0m: 2",
      "\nDuring handling of the above exception, another exception occurred:\n",
      "\u001B[1;31mAttributeError\u001B[0m                            Traceback (most recent call last)",
      "    \u001B[1;31m[... skipping hidden 1 frame]\u001B[0m\n",
      "File \u001B[1;32mD:\\940 python_study\\200 study\\220 valletta_all\\python_valletta_all\\.venv\\Lib\\site-packages\\IPython\\core\\interactiveshell.py:2121\u001B[0m, in \u001B[0;36mInteractiveShell.showtraceback\u001B[1;34m(self, exc_tuple, filename, tb_offset, exception_only, running_compiled_code)\u001B[0m\n\u001B[0;32m   2118\u001B[0m \u001B[38;5;28;01mif\u001B[39;00m exception_only:\n\u001B[0;32m   2119\u001B[0m     stb \u001B[38;5;241m=\u001B[39m [\u001B[38;5;124m'\u001B[39m\u001B[38;5;124mAn exception has occurred, use \u001B[39m\u001B[38;5;124m%\u001B[39m\u001B[38;5;124mtb to see \u001B[39m\u001B[38;5;124m'\u001B[39m\n\u001B[0;32m   2120\u001B[0m            \u001B[38;5;124m'\u001B[39m\u001B[38;5;124mthe full traceback.\u001B[39m\u001B[38;5;130;01m\\n\u001B[39;00m\u001B[38;5;124m'\u001B[39m]\n\u001B[1;32m-> 2121\u001B[0m     stb\u001B[38;5;241m.\u001B[39mextend(\u001B[38;5;28;43mself\u001B[39;49m\u001B[38;5;241;43m.\u001B[39;49m\u001B[43mInteractiveTB\u001B[49m\u001B[38;5;241;43m.\u001B[39;49m\u001B[43mget_exception_only\u001B[49m\u001B[43m(\u001B[49m\u001B[43metype\u001B[49m\u001B[43m,\u001B[49m\n\u001B[0;32m   2122\u001B[0m \u001B[43m                                                     \u001B[49m\u001B[43mvalue\u001B[49m\u001B[43m)\u001B[49m)\n\u001B[0;32m   2123\u001B[0m \u001B[38;5;28;01melse\u001B[39;00m:\n\u001B[0;32m   2125\u001B[0m     \u001B[38;5;28;01mdef\u001B[39;00m \u001B[38;5;21mcontains_exceptiongroup\u001B[39m(val):\n",
      "File \u001B[1;32mD:\\940 python_study\\200 study\\220 valletta_all\\python_valletta_all\\.venv\\Lib\\site-packages\\IPython\\core\\ultratb.py:710\u001B[0m, in \u001B[0;36mListTB.get_exception_only\u001B[1;34m(self, etype, value)\u001B[0m\n\u001B[0;32m    702\u001B[0m \u001B[38;5;28;01mdef\u001B[39;00m \u001B[38;5;21mget_exception_only\u001B[39m(\u001B[38;5;28mself\u001B[39m, etype, value):\n\u001B[0;32m    703\u001B[0m \u001B[38;5;250m    \u001B[39m\u001B[38;5;124;03m\"\"\"Only print the exception type and message, without a traceback.\u001B[39;00m\n\u001B[0;32m    704\u001B[0m \n\u001B[0;32m    705\u001B[0m \u001B[38;5;124;03m    Parameters\u001B[39;00m\n\u001B[1;32m   (...)\u001B[0m\n\u001B[0;32m    708\u001B[0m \u001B[38;5;124;03m    value : exception value\u001B[39;00m\n\u001B[0;32m    709\u001B[0m \u001B[38;5;124;03m    \"\"\"\u001B[39;00m\n\u001B[1;32m--> 710\u001B[0m     \u001B[38;5;28;01mreturn\u001B[39;00m \u001B[43mListTB\u001B[49m\u001B[38;5;241;43m.\u001B[39;49m\u001B[43mstructured_traceback\u001B[49m\u001B[43m(\u001B[49m\u001B[38;5;28;43mself\u001B[39;49m\u001B[43m,\u001B[49m\u001B[43m \u001B[49m\u001B[43metype\u001B[49m\u001B[43m,\u001B[49m\u001B[43m \u001B[49m\u001B[43mvalue\u001B[49m\u001B[43m)\u001B[49m\n",
      "File \u001B[1;32mD:\\940 python_study\\200 study\\220 valletta_all\\python_valletta_all\\.venv\\Lib\\site-packages\\IPython\\core\\ultratb.py:568\u001B[0m, in \u001B[0;36mListTB.structured_traceback\u001B[1;34m(self, etype, evalue, etb, tb_offset, context)\u001B[0m\n\u001B[0;32m    565\u001B[0m     chained_exc_ids\u001B[38;5;241m.\u001B[39madd(\u001B[38;5;28mid\u001B[39m(exception[\u001B[38;5;241m1\u001B[39m]))\n\u001B[0;32m    566\u001B[0m     chained_exceptions_tb_offset \u001B[38;5;241m=\u001B[39m \u001B[38;5;241m0\u001B[39m\n\u001B[0;32m    567\u001B[0m     out_list \u001B[38;5;241m=\u001B[39m (\n\u001B[1;32m--> 568\u001B[0m         \u001B[38;5;28;43mself\u001B[39;49m\u001B[38;5;241;43m.\u001B[39;49m\u001B[43mstructured_traceback\u001B[49m\u001B[43m(\u001B[49m\n\u001B[0;32m    569\u001B[0m \u001B[43m            \u001B[49m\u001B[43metype\u001B[49m\u001B[43m,\u001B[49m\n\u001B[0;32m    570\u001B[0m \u001B[43m            \u001B[49m\u001B[43mevalue\u001B[49m\u001B[43m,\u001B[49m\n\u001B[0;32m    571\u001B[0m \u001B[43m            \u001B[49m\u001B[43m(\u001B[49m\u001B[43metb\u001B[49m\u001B[43m,\u001B[49m\u001B[43m \u001B[49m\u001B[43mchained_exc_ids\u001B[49m\u001B[43m)\u001B[49m\u001B[43m,\u001B[49m\u001B[43m  \u001B[49m\u001B[38;5;66;43;03m# type: ignore\u001B[39;49;00m\n\u001B[0;32m    572\u001B[0m \u001B[43m            \u001B[49m\u001B[43mchained_exceptions_tb_offset\u001B[49m\u001B[43m,\u001B[49m\n\u001B[0;32m    573\u001B[0m \u001B[43m            \u001B[49m\u001B[43mcontext\u001B[49m\u001B[43m,\u001B[49m\n\u001B[0;32m    574\u001B[0m \u001B[43m        \u001B[49m\u001B[43m)\u001B[49m\n\u001B[0;32m    575\u001B[0m         \u001B[38;5;241m+\u001B[39m chained_exception_message\n\u001B[0;32m    576\u001B[0m         \u001B[38;5;241m+\u001B[39m out_list)\n\u001B[0;32m    578\u001B[0m \u001B[38;5;28;01mreturn\u001B[39;00m out_list\n",
      "File \u001B[1;32mD:\\940 python_study\\200 study\\220 valletta_all\\python_valletta_all\\.venv\\Lib\\site-packages\\IPython\\core\\ultratb.py:1448\u001B[0m, in \u001B[0;36mAutoFormattedTB.structured_traceback\u001B[1;34m(self, etype, evalue, etb, tb_offset, number_of_lines_of_context)\u001B[0m\n\u001B[0;32m   1446\u001B[0m \u001B[38;5;28;01melse\u001B[39;00m:\n\u001B[0;32m   1447\u001B[0m     \u001B[38;5;28mself\u001B[39m\u001B[38;5;241m.\u001B[39mtb \u001B[38;5;241m=\u001B[39m etb\n\u001B[1;32m-> 1448\u001B[0m \u001B[38;5;28;01mreturn\u001B[39;00m \u001B[43mFormattedTB\u001B[49m\u001B[38;5;241;43m.\u001B[39;49m\u001B[43mstructured_traceback\u001B[49m\u001B[43m(\u001B[49m\n\u001B[0;32m   1449\u001B[0m \u001B[43m    \u001B[49m\u001B[38;5;28;43mself\u001B[39;49m\u001B[43m,\u001B[49m\u001B[43m \u001B[49m\u001B[43metype\u001B[49m\u001B[43m,\u001B[49m\u001B[43m \u001B[49m\u001B[43mevalue\u001B[49m\u001B[43m,\u001B[49m\u001B[43m \u001B[49m\u001B[43metb\u001B[49m\u001B[43m,\u001B[49m\u001B[43m \u001B[49m\u001B[43mtb_offset\u001B[49m\u001B[43m,\u001B[49m\u001B[43m \u001B[49m\u001B[43mnumber_of_lines_of_context\u001B[49m\n\u001B[0;32m   1450\u001B[0m \u001B[43m\u001B[49m\u001B[43m)\u001B[49m\n",
      "File \u001B[1;32mD:\\940 python_study\\200 study\\220 valletta_all\\python_valletta_all\\.venv\\Lib\\site-packages\\IPython\\core\\ultratb.py:1339\u001B[0m, in \u001B[0;36mFormattedTB.structured_traceback\u001B[1;34m(self, etype, value, tb, tb_offset, number_of_lines_of_context)\u001B[0m\n\u001B[0;32m   1336\u001B[0m mode \u001B[38;5;241m=\u001B[39m \u001B[38;5;28mself\u001B[39m\u001B[38;5;241m.\u001B[39mmode\n\u001B[0;32m   1337\u001B[0m \u001B[38;5;28;01mif\u001B[39;00m mode \u001B[38;5;129;01min\u001B[39;00m \u001B[38;5;28mself\u001B[39m\u001B[38;5;241m.\u001B[39mverbose_modes:\n\u001B[0;32m   1338\u001B[0m     \u001B[38;5;66;03m# Verbose modes need a full traceback\u001B[39;00m\n\u001B[1;32m-> 1339\u001B[0m     \u001B[38;5;28;01mreturn\u001B[39;00m \u001B[43mVerboseTB\u001B[49m\u001B[38;5;241;43m.\u001B[39;49m\u001B[43mstructured_traceback\u001B[49m\u001B[43m(\u001B[49m\n\u001B[0;32m   1340\u001B[0m \u001B[43m        \u001B[49m\u001B[38;5;28;43mself\u001B[39;49m\u001B[43m,\u001B[49m\u001B[43m \u001B[49m\u001B[43metype\u001B[49m\u001B[43m,\u001B[49m\u001B[43m \u001B[49m\u001B[43mvalue\u001B[49m\u001B[43m,\u001B[49m\u001B[43m \u001B[49m\u001B[43mtb\u001B[49m\u001B[43m,\u001B[49m\u001B[43m \u001B[49m\u001B[43mtb_offset\u001B[49m\u001B[43m,\u001B[49m\u001B[43m \u001B[49m\u001B[43mnumber_of_lines_of_context\u001B[49m\n\u001B[0;32m   1341\u001B[0m \u001B[43m    \u001B[49m\u001B[43m)\u001B[49m\n\u001B[0;32m   1342\u001B[0m \u001B[38;5;28;01melif\u001B[39;00m mode \u001B[38;5;241m==\u001B[39m \u001B[38;5;124m'\u001B[39m\u001B[38;5;124mMinimal\u001B[39m\u001B[38;5;124m'\u001B[39m:\n\u001B[0;32m   1343\u001B[0m     \u001B[38;5;28;01mreturn\u001B[39;00m ListTB\u001B[38;5;241m.\u001B[39mget_exception_only(\u001B[38;5;28mself\u001B[39m, etype, value)\n",
      "File \u001B[1;32mD:\\940 python_study\\200 study\\220 valletta_all\\python_valletta_all\\.venv\\Lib\\site-packages\\IPython\\core\\ultratb.py:1186\u001B[0m, in \u001B[0;36mVerboseTB.structured_traceback\u001B[1;34m(self, etype, evalue, etb, tb_offset, number_of_lines_of_context)\u001B[0m\n\u001B[0;32m   1177\u001B[0m \u001B[38;5;28;01mdef\u001B[39;00m \u001B[38;5;21mstructured_traceback\u001B[39m(\n\u001B[0;32m   1178\u001B[0m     \u001B[38;5;28mself\u001B[39m,\n\u001B[0;32m   1179\u001B[0m     etype: \u001B[38;5;28mtype\u001B[39m,\n\u001B[1;32m   (...)\u001B[0m\n\u001B[0;32m   1183\u001B[0m     number_of_lines_of_context: \u001B[38;5;28mint\u001B[39m \u001B[38;5;241m=\u001B[39m \u001B[38;5;241m5\u001B[39m,\n\u001B[0;32m   1184\u001B[0m ):\n\u001B[0;32m   1185\u001B[0m \u001B[38;5;250m    \u001B[39m\u001B[38;5;124;03m\"\"\"Return a nice text document describing the traceback.\"\"\"\u001B[39;00m\n\u001B[1;32m-> 1186\u001B[0m     formatted_exception \u001B[38;5;241m=\u001B[39m \u001B[38;5;28;43mself\u001B[39;49m\u001B[38;5;241;43m.\u001B[39;49m\u001B[43mformat_exception_as_a_whole\u001B[49m\u001B[43m(\u001B[49m\u001B[43metype\u001B[49m\u001B[43m,\u001B[49m\u001B[43m \u001B[49m\u001B[43mevalue\u001B[49m\u001B[43m,\u001B[49m\u001B[43m \u001B[49m\u001B[43metb\u001B[49m\u001B[43m,\u001B[49m\u001B[43m \u001B[49m\u001B[43mnumber_of_lines_of_context\u001B[49m\u001B[43m,\u001B[49m\n\u001B[0;32m   1187\u001B[0m \u001B[43m                                                           \u001B[49m\u001B[43mtb_offset\u001B[49m\u001B[43m)\u001B[49m\n\u001B[0;32m   1189\u001B[0m     colors \u001B[38;5;241m=\u001B[39m \u001B[38;5;28mself\u001B[39m\u001B[38;5;241m.\u001B[39mColors  \u001B[38;5;66;03m# just a shorthand + quicker name lookup\u001B[39;00m\n\u001B[0;32m   1190\u001B[0m     colorsnormal \u001B[38;5;241m=\u001B[39m colors\u001B[38;5;241m.\u001B[39mNormal  \u001B[38;5;66;03m# used a lot\u001B[39;00m\n",
      "File \u001B[1;32mD:\\940 python_study\\200 study\\220 valletta_all\\python_valletta_all\\.venv\\Lib\\site-packages\\IPython\\core\\ultratb.py:1076\u001B[0m, in \u001B[0;36mVerboseTB.format_exception_as_a_whole\u001B[1;34m(self, etype, evalue, etb, number_of_lines_of_context, tb_offset)\u001B[0m\n\u001B[0;32m   1073\u001B[0m \u001B[38;5;28;01massert\u001B[39;00m \u001B[38;5;28misinstance\u001B[39m(tb_offset, \u001B[38;5;28mint\u001B[39m)\n\u001B[0;32m   1074\u001B[0m head \u001B[38;5;241m=\u001B[39m \u001B[38;5;28mself\u001B[39m\u001B[38;5;241m.\u001B[39mprepare_header(\u001B[38;5;28mstr\u001B[39m(etype), \u001B[38;5;28mself\u001B[39m\u001B[38;5;241m.\u001B[39mlong_header)\n\u001B[0;32m   1075\u001B[0m records \u001B[38;5;241m=\u001B[39m (\n\u001B[1;32m-> 1076\u001B[0m     \u001B[38;5;28;43mself\u001B[39;49m\u001B[38;5;241;43m.\u001B[39;49m\u001B[43mget_records\u001B[49m\u001B[43m(\u001B[49m\u001B[43metb\u001B[49m\u001B[43m,\u001B[49m\u001B[43m \u001B[49m\u001B[43mnumber_of_lines_of_context\u001B[49m\u001B[43m,\u001B[49m\u001B[43m \u001B[49m\u001B[43mtb_offset\u001B[49m\u001B[43m)\u001B[49m \u001B[38;5;28;01mif\u001B[39;00m etb \u001B[38;5;28;01melse\u001B[39;00m []\n\u001B[0;32m   1077\u001B[0m )\n\u001B[0;32m   1079\u001B[0m frames \u001B[38;5;241m=\u001B[39m []\n\u001B[0;32m   1080\u001B[0m skipped \u001B[38;5;241m=\u001B[39m \u001B[38;5;241m0\u001B[39m\n",
      "File \u001B[1;32mD:\\940 python_study\\200 study\\220 valletta_all\\python_valletta_all\\.venv\\Lib\\site-packages\\IPython\\core\\ultratb.py:1144\u001B[0m, in \u001B[0;36mVerboseTB.get_records\u001B[1;34m(self, etb, number_of_lines_of_context, tb_offset)\u001B[0m\n\u001B[0;32m   1142\u001B[0m \u001B[38;5;28;01mwhile\u001B[39;00m cf \u001B[38;5;129;01mis\u001B[39;00m \u001B[38;5;129;01mnot\u001B[39;00m \u001B[38;5;28;01mNone\u001B[39;00m:\n\u001B[0;32m   1143\u001B[0m     \u001B[38;5;28;01mtry\u001B[39;00m:\n\u001B[1;32m-> 1144\u001B[0m         mod \u001B[38;5;241m=\u001B[39m inspect\u001B[38;5;241m.\u001B[39mgetmodule(\u001B[43mcf\u001B[49m\u001B[38;5;241;43m.\u001B[39;49m\u001B[43mtb_frame\u001B[49m)\n\u001B[0;32m   1145\u001B[0m         \u001B[38;5;28;01mif\u001B[39;00m mod \u001B[38;5;129;01mis\u001B[39;00m \u001B[38;5;129;01mnot\u001B[39;00m \u001B[38;5;28;01mNone\u001B[39;00m:\n\u001B[0;32m   1146\u001B[0m             mod_name \u001B[38;5;241m=\u001B[39m mod\u001B[38;5;241m.\u001B[39m\u001B[38;5;18m__name__\u001B[39m\n",
      "\u001B[1;31mAttributeError\u001B[0m: 'tuple' object has no attribute 'tb_frame'"
     ]
    }
   ],
   "source": [
    "# Pycharm 에서 실행 결과 확인\n",
    "import argparse\n",
    "\n",
    "\n",
    "def main():\n",
    "    parser = argparse.ArgumentParser(description='사칙연산 프로그램')\n",
    "\n",
    "    parser.add_argument('X', type=float, help='첫번째 숫자는?')\n",
    "    parser.add_argument('Y', type=float, help='두번째 숫자는?')\n",
    "\n",
    "    parser.add_argument('--op',\n",
    "                        type=str,\n",
    "                        default='덧셈',\n",
    "                        choices=['덧셈', '뺄셈', '곱하기', '나누기'],\n",
    "                        help='연산 방법을 선택해 주세요.')\n",
    "\n",
    "    args = parser.parse_args()\n",
    "\n",
    "    X = args.X\n",
    "    Y = args.Y\n",
    "\n",
    "    op = args.op\n",
    "\n",
    "    print(calc(X, Y, op))\n",
    "\n",
    "\n",
    "def calc(x, y, op):\n",
    "    if op == '덧셈':\n",
    "        return x + y\n",
    "    elif op == '뺄셈':\n",
    "        return x - y\n",
    "    elif op == '곱하기':\n",
    "        return x * y\n",
    "    elif op == '나누기':\n",
    "        return x / y\n",
    "\n",
    "\n",
    "if __name__ == \"__main__\":\n",
    "    main()"
   ],
   "metadata": {
    "collapsed": false,
    "ExecuteTime": {
     "end_time": "2024-02-17T08:34:34.840651700Z",
     "start_time": "2024-02-17T08:34:34.732327500Z"
    }
   },
   "id": "ba3da222b42aa26e",
   "execution_count": 7
  },
  {
   "cell_type": "code",
   "outputs": [],
   "source": [],
   "metadata": {
    "collapsed": false
   },
   "id": "7841b2a11575a543"
  }
 ],
 "metadata": {
  "kernelspec": {
   "display_name": "Python 3",
   "language": "python",
   "name": "python3"
  },
  "language_info": {
   "codemirror_mode": {
    "name": "ipython",
    "version": 2
   },
   "file_extension": ".py",
   "mimetype": "text/x-python",
   "name": "python",
   "nbconvert_exporter": "python",
   "pygments_lexer": "ipython2",
   "version": "2.7.6"
  }
 },
 "nbformat": 4,
 "nbformat_minor": 5
}
