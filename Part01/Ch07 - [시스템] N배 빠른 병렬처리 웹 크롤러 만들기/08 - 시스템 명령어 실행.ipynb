{
 "cells": [
  {
   "cell_type": "markdown",
   "source": [
    "# subprocess\n",
    "- subprocess 는 파이썬 스크립트 상에서 외부 프로세스 시스템 명령어를 실행할 때 사용하는 표준 모듈\n",
    "- 새로운 프로세스를 실행하도록 도와주며, 프로세서의 입/출력 및 에러 결과에 대한 리턴 값을 사용자가 직접 제어할 수 있게 도와줄 수 있다."
   ],
   "metadata": {
    "collapsed": false
   },
   "id": "98daa9b00b7ca1b9"
  },
  {
   "cell_type": "markdown",
   "source": [
    "# 파이썬 코드를 subprocess 로 실행하기"
   ],
   "metadata": {
    "collapsed": false
   },
   "id": "611d7d112233e421"
  },
  {
   "cell_type": "code",
   "outputs": [
    {
     "data": {
      "text/plain": "CompletedProcess(args=['python', 'test.py'], returncode=2)"
     },
     "execution_count": 1,
     "metadata": {},
     "output_type": "execute_result"
    }
   ],
   "source": [
    "# Pycharm에서 결과 확인\n",
    "import subprocess\n",
    "\n",
    "subprocess.run(['python', 'test.py'])"
   ],
   "metadata": {
    "collapsed": false,
    "ExecuteTime": {
     "end_time": "2024-02-17T13:58:43.760000400Z",
     "start_time": "2024-02-17T13:58:43.738639600Z"
    }
   },
   "id": "dc2e5a613554930f",
   "execution_count": 1
  },
  {
   "cell_type": "markdown",
   "source": [
    "# 출력된 결과를 txt 파일로 저장하기"
   ],
   "metadata": {
    "collapsed": false
   },
   "id": "9fdd25d410423833"
  },
  {
   "cell_type": "code",
   "outputs": [
    {
     "ename": "TypeError",
     "evalue": "write() argument must be str, not CompletedProcess",
     "output_type": "error",
     "traceback": [
      "\u001B[1;31m---------------------------------------------------------------------------\u001B[0m",
      "\u001B[1;31mTypeError\u001B[0m                                 Traceback (most recent call last)",
      "Cell \u001B[1;32mIn[9], line 4\u001B[0m\n\u001B[0;32m      2\u001B[0m \u001B[38;5;66;03m# out = subprocess.check_output(['python', 'test.py'], encoding='utf-8')\u001B[39;00m\n\u001B[0;32m      3\u001B[0m out \u001B[38;5;241m=\u001B[39m subprocess\u001B[38;5;241m.\u001B[39mrun([\u001B[38;5;124m'\u001B[39m\u001B[38;5;124mpython\u001B[39m\u001B[38;5;124m'\u001B[39m, \u001B[38;5;124m'\u001B[39m\u001B[38;5;124mtest.py\u001B[39m\u001B[38;5;124m'\u001B[39m], encoding\u001B[38;5;241m=\u001B[39m\u001B[38;5;124m'\u001B[39m\u001B[38;5;124mutf-8\u001B[39m\u001B[38;5;124m'\u001B[39m)\n\u001B[1;32m----> 4\u001B[0m \u001B[43mf\u001B[49m\u001B[38;5;241;43m.\u001B[39;49m\u001B[43mwrite\u001B[49m\u001B[43m(\u001B[49m\u001B[43mout\u001B[49m\u001B[43m)\u001B[49m\n\u001B[0;32m      5\u001B[0m f\u001B[38;5;241m.\u001B[39mclose()\n",
      "\u001B[1;31mTypeError\u001B[0m: write() argument must be str, not CompletedProcess"
     ]
    }
   ],
   "source": [
    "f = open('output.txt', 'w')\n",
    "# out = subprocess.check_output(['python', 'test.py'], encoding='utf-8')\n",
    "out = subprocess.run(['python', 'test.py'], encoding='utf-8')\n",
    "f.write(out)\n",
    "f.close()"
   ],
   "metadata": {
    "collapsed": false,
    "ExecuteTime": {
     "end_time": "2024-02-17T14:03:56.032414600Z",
     "start_time": "2024-02-17T14:03:56.012190300Z"
    }
   },
   "id": "d8146fba3124b05a",
   "execution_count": 9
  },
  {
   "cell_type": "code",
   "outputs": [],
   "source": [
    "|"
   ],
   "metadata": {
    "collapsed": false
   },
   "id": "fe581130a9fd0aab"
  }
 ],
 "metadata": {
  "kernelspec": {
   "display_name": "Python 3",
   "language": "python",
   "name": "python3"
  },
  "language_info": {
   "codemirror_mode": {
    "name": "ipython",
    "version": 2
   },
   "file_extension": ".py",
   "mimetype": "text/x-python",
   "name": "python",
   "nbconvert_exporter": "python",
   "pygments_lexer": "ipython2",
   "version": "2.7.6"
  }
 },
 "nbformat": 4,
 "nbformat_minor": 5
}
