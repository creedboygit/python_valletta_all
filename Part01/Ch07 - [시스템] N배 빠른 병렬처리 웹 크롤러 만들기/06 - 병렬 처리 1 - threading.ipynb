{
 "cells": [
  {
   "cell_type": "markdown",
   "source": [
    "# threading\n",
    "- threading 은 스레드를 이용하여 한 프로세스에서 2가지 이상의 일을 동시에 실행할 수 있게 하는 표준 모듈\n",
    "- 파이썬은 기본적으로 싱글 스레드에서 순차적으로 동작함\n",
    "- 병렬 처리를 위해서는 별도 작업이 필요함\n",
    "- 활용 분야\n",
    "    - 대용량 데이터의 처리 시간을 줄이기 위해 데이터를 분할하여 병렬로 처리\n",
    "    - 애플리케이션에서 다중 네트워크 통신을 할 때\n",
    "    - 여러 클라이언트의 요청을 동시에 처리하는 서버를 개발할 때  "
   ],
   "metadata": {
    "collapsed": false
   },
   "id": "f9b01029e84be053"
  },
  {
   "cell_type": "code",
   "outputs": [],
   "source": [
    "from threading import Thread\n",
    "import time"
   ],
   "metadata": {
    "collapsed": false,
    "ExecuteTime": {
     "end_time": "2024-02-17T13:25:31.559693900Z",
     "start_time": "2024-02-17T13:25:31.556790200Z"
    }
   },
   "id": "d42d902068b12fbe",
   "execution_count": 1
  },
  {
   "cell_type": "markdown",
   "source": [
    "# threading을 사용하지 않을 경우"
   ],
   "metadata": {
    "collapsed": false
   },
   "id": "af17c391c8f05447"
  },
  {
   "cell_type": "code",
   "outputs": [],
   "source": [
    "# 0부터 50,000,000까지의 합을 구하는 프로그램\n",
    "def work(id, start, end, result):\n",
    "    total = 0\n",
    "    for i in range(start, end):\n",
    "        total += i\n",
    "    result.append(total)\n",
    "    return"
   ],
   "metadata": {
    "collapsed": false,
    "ExecuteTime": {
     "end_time": "2024-02-17T13:26:26.341839200Z",
     "start_time": "2024-02-17T13:26:26.333059900Z"
    }
   },
   "id": "bc62aec2fb8cd877",
   "execution_count": 2
  },
  {
   "cell_type": "code",
   "outputs": [
    {
     "name": "stdout",
     "output_type": "stream",
     "text": [
      "0.98  초 경과\n",
      "합계 결과 : 1249999975000000\n"
     ]
    }
   ],
   "source": [
    "if __name__ == \"__main__\":\n",
    "    start = time.time()\n",
    "\n",
    "    START, END = 0, 50000000\n",
    "    result = list()\n",
    "    th1 = Thread(target=work, args=(1, START, END, result))  # 싱글 스레드\n",
    "\n",
    "    th1.start()\n",
    "    th1.join()\n",
    "\n",
    "    th1_elapsed = round(time.time() - start, 2)\n",
    "    print(th1_elapsed, ' 초 경과')\n",
    "    print(f\"합계 결과 : {sum(result)}\")"
   ],
   "metadata": {
    "collapsed": false,
    "ExecuteTime": {
     "end_time": "2024-02-17T13:30:17.207225100Z",
     "start_time": "2024-02-17T13:30:16.227682800Z"
    }
   },
   "id": "eae366ab23114d10",
   "execution_count": 4
  },
  {
   "cell_type": "markdown",
   "source": [
    "# threading을 사용할 경우"
   ],
   "metadata": {
    "collapsed": false
   },
   "id": "271be9bce06c4d12"
  },
  {
   "cell_type": "code",
   "outputs": [
    {
     "name": "stdout",
     "output_type": "stream",
     "text": [
      "1.04  초 경과\n",
      "0.9  배 속도 향상\n",
      "합계 결과: 1249999975000000\n"
     ]
    }
   ],
   "source": [
    "if __name__ == \"__main__\":\n",
    "    start = time.time()\n",
    "\n",
    "    START, END = 0, 50000000\n",
    "    result = list()\n",
    "    th2 = Thread(target=work, args=(2, START, END, result))  # 멀티 스레드\n",
    "\n",
    "    th2.start()\n",
    "    th2.join()\n",
    "\n",
    "    th2_elapsed = round(time.time() - start, 2)\n",
    "\n",
    "    speed_up = round(th1_elapsed / th2_elapsed, 1)\n",
    "    print(th2_elapsed, ' 초 경과')\n",
    "    print(speed_up, ' 배 속도 향상')\n",
    "    print(f\"합계 결과: {sum(result)}\")\n"
   ],
   "metadata": {
    "collapsed": false,
    "ExecuteTime": {
     "end_time": "2024-02-17T13:32:33.712761200Z",
     "start_time": "2024-02-17T13:32:32.665375900Z"
    }
   },
   "id": "a0ebbcec2c7aae0c",
   "execution_count": 5
  },
  {
   "cell_type": "code",
   "outputs": [],
   "source": [],
   "metadata": {
    "collapsed": false
   },
   "id": "c1c6e53db3d12411"
  }
 ],
 "metadata": {
  "kernelspec": {
   "display_name": "Python 3",
   "language": "python",
   "name": "python3"
  },
  "language_info": {
   "codemirror_mode": {
    "name": "ipython",
    "version": 2
   },
   "file_extension": ".py",
   "mimetype": "text/x-python",
   "name": "python",
   "nbconvert_exporter": "python",
   "pygments_lexer": "ipython2",
   "version": "2.7.6"
  }
 },
 "nbformat": 4,
 "nbformat_minor": 5
}
