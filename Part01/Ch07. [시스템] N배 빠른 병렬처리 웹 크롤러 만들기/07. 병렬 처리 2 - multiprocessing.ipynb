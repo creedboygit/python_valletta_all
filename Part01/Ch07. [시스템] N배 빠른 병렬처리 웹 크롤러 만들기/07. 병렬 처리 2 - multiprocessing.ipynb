{
 "cells": [
  {
   "cell_type": "markdown",
   "source": [
    "# 스레드(thread) vs. 멀티프로세싱(multiprocessing)\n",
    "파이썬에서 병렬 처리를 궇ㄴ하는 방식은 멀티 스레드를 사용하거나 멀티 프로세스를 사용하는 두 가지 방법이 있다.\n",
    "\n",
    "## 스레드(thread) 특징\n",
    "- 스레드는 가볍지만 cpu 계산 처리를 하는 작업에는 한 번에 하나의 스레드에서만 동작함\n",
    "- cpu 작업이 적고 네트워크 통신 또는 파일 읽고 쓰기와 같은 작업 (I/O) 이 많은 병렬 처리 프로그램에서 효과적"
   ],
   "metadata": {
    "collapsed": false
   },
   "id": "4008a65d2e7efb41"
  },
  {
   "cell_type": "markdown",
   "source": [
    "# 멀티프로세싱(multiprocessing) 특징\n",
    "- 멀티 프로세서와 별개의 메모리를 사용하여 완전히 독립하여 병렬 프로그램이 가능\n",
    "- 여러 개의 CPU가 있는 멀티코어 환경에서 CPU 수 만큼 작업을 나누어 실행 가능\n",
    "- 프로세스는 각자가 고유한 메모리 영역을 가지기 때문에 더 많은 메모리를 필요로 하지만,\n",
    "- 각각 프로세스에서 병렬로 CPU 작업을 할 수 있고, 이를 이용하여 여러 장비에서 동작하는 분산 처리 프로그래밍도 구현 가능"
   ],
   "metadata": {
    "collapsed": false
   },
   "id": "9578686cdbcfb35a"
  },
  {
   "cell_type": "markdown",
   "source": [
    "# multiprocessing\n",
    "- 멀티프로세싱은 멀티 프로세스를 활용하여 2가지 또는 그 이상의 일을 동시에 실행할 수 있게 하는 표준 모듈\n",
    "- multiprocessing 모듈은 스레드 대신 다중 프로세스를 만들어 병렬로 동작"
   ],
   "metadata": {
    "collapsed": false
   },
   "id": "3a85752bf29fac83"
  },
  {
   "cell_type": "code",
   "outputs": [],
   "source": [
    "import multiprocessing\n",
    "import time"
   ],
   "metadata": {
    "collapsed": false,
    "ExecuteTime": {
     "end_time": "2024-02-17T13:43:12.546056200Z",
     "start_time": "2024-02-17T13:43:12.539617Z"
    }
   },
   "id": "6d95d5eeb3449758",
   "execution_count": 1
  },
  {
   "cell_type": "markdown",
   "source": [
    "# multiprocessing을 사용하지 않을 경우"
   ],
   "metadata": {
    "collapsed": false
   },
   "id": "2d33b03c6b37a873"
  },
  {
   "cell_type": "code",
   "outputs": [],
   "source": [
    "# 0부터 50,000,000 까지의 합을 구하는 프로그램\n",
    "def work(id, start, end, result):\n",
    "    total = 0\n",
    "    for i in range(start, end):\n",
    "        total += i\n",
    "    result.append(total)\n",
    "    return"
   ],
   "metadata": {
    "collapsed": false,
    "ExecuteTime": {
     "end_time": "2024-02-17T13:47:06.816410Z",
     "start_time": "2024-02-17T13:47:06.813540100Z"
    }
   },
   "id": "47222a88003870f2",
   "execution_count": 5
  },
  {
   "cell_type": "code",
   "outputs": [
    {
     "name": "stdout",
     "output_type": "stream",
     "text": [
      "1 번째 실행\n",
      "2 번째 실행\n",
      "2.07  초 경과\n",
      "합계 결과: 2499999950000000\n"
     ]
    }
   ],
   "source": [
    "if __name__ == \"__main__\":\n",
    "    start = time.time()\n",
    "\n",
    "    START, END = 0, 50000000\n",
    "    result = list()\n",
    "\n",
    "    # 싱글 프로세스 2번 실행\n",
    "    for i in range(2):\n",
    "        work(1, START, END, result)\n",
    "        print(f'{i + 1} 번째 실행')\n",
    "\n",
    "    time_elapsed_1 = round(time.time() - start, 2)\n",
    "    print(time_elapsed_1, ' 초 경과')\n",
    "    print(f\"합계 결과: {sum(result)}\")"
   ],
   "metadata": {
    "collapsed": false,
    "ExecuteTime": {
     "end_time": "2024-02-17T13:47:09.304390700Z",
     "start_time": "2024-02-17T13:47:07.234826700Z"
    }
   },
   "id": "aa05e60ed1226c20",
   "execution_count": 6
  },
  {
   "cell_type": "markdown",
   "source": [
    "# multiprocessing을 사용할 경우"
   ],
   "metadata": {
    "collapsed": false
   },
   "id": "5e287e95c64da6d9"
  },
  {
   "cell_type": "code",
   "outputs": [
    {
     "name": "stdout",
     "output_type": "stream",
     "text": [
      "1 번째 실행\n",
      "2 번째 실행\n",
      "0.05  초 경과\n",
      "41  배 속도 향상\n",
      "합계 결과: 0\n"
     ]
    }
   ],
   "source": [
    "if __name__ == \"__main__\":\n",
    "    start = time.time()\n",
    "\n",
    "    START, END = 0, 50000000\n",
    "    result = list()\n",
    "\n",
    "    procs = []\n",
    "\n",
    "    for i in range(2):\n",
    "        # 프로세스 수만큼 코어 할당\n",
    "        p = multiprocessing.Process(target=work, args=(i, START, END, result))\n",
    "        p.start()\n",
    "        procs.append(p)\n",
    "        print(f\"{i + 1} 번째 실행\")\n",
    "\n",
    "    for p in procs:\n",
    "        p.join()  # 프로세스가 모두 종료될 때까지 대기\n",
    "\n",
    "    time_elapsed_2 = round(time.time() - start, 2)\n",
    "    speed_up = round(time_elapsed_1 / time_elapsed_2)\n",
    "    print(time_elapsed_2, ' 초 경과')\n",
    "    print(speed_up, ' 배 속도 향상')\n",
    "    print(f\"합계 결과: {sum(result)}\")\n"
   ],
   "metadata": {
    "collapsed": false,
    "ExecuteTime": {
     "end_time": "2024-02-17T13:51:02.699720300Z",
     "start_time": "2024-02-17T13:51:02.646642600Z"
    }
   },
   "id": "964047ac13af35bc",
   "execution_count": 8
  },
  {
   "cell_type": "code",
   "outputs": [],
   "source": [],
   "metadata": {
    "collapsed": false
   },
   "id": "a784d7d74f168669"
  }
 ],
 "metadata": {
  "kernelspec": {
   "display_name": "Python 3",
   "language": "python",
   "name": "python3"
  },
  "language_info": {
   "codemirror_mode": {
    "name": "ipython",
    "version": 2
   },
   "file_extension": ".py",
   "mimetype": "text/x-python",
   "name": "python",
   "nbconvert_exporter": "python",
   "pygments_lexer": "ipython2",
   "version": "2.7.6"
  }
 },
 "nbformat": 4,
 "nbformat_minor": 5
}
