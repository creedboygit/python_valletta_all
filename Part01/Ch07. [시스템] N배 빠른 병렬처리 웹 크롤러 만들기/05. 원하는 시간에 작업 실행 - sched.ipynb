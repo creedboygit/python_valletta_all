{
 "cells": [
  {
   "cell_type": "markdown",
   "source": [
    "# sched\n",
    "- sched 는 지정된 시간 간격으로 원하는 이벤트를 실행하게 하는 이벤트 스케줄러 표준 라이브러리\n",
    "- 사용 순서\n",
    "    1. 스케줄러 객체 생성\n",
    "    1. enter(실행 간격(초), 우선순위, 실행할 함수, 함수에 전달할 인자)를 사용하여 실행할 이벤트 등록\n",
    "    1. run() 스케줄러 실행"
   ],
   "metadata": {
    "collapsed": false
   },
   "id": "880f4fc0732f0ff2"
  },
  {
   "cell_type": "markdown",
   "source": [
    "# sched 예제\n",
    "1. 프로그램 실행 후 5초 후에 print_a() 호출\n",
    "2. 프로그램 실행 후 3초 후에 print_b() 호출\n",
    "3. 프로그램 실행 후 7초 후에 print_c() 호출"
   ],
   "metadata": {
    "collapsed": false
   },
   "id": "59f37fc9d2316191"
  },
  {
   "cell_type": "code",
   "outputs": [],
   "source": [
    "import sched\n",
    "import time"
   ],
   "metadata": {
    "collapsed": false
   },
   "id": "6de0e957fcf64371",
   "execution_count": null
  },
  {
   "cell_type": "code",
   "outputs": [],
   "source": [
    "start = time.time()\n",
    "\n",
    "\n",
    "def print_a(a):\n",
    "    print(round(time.time() - start, 2), ' 초 경과')\n",
    "    print(a)\n",
    "\n",
    "\n",
    "def print_b(b):\n",
    "    print(round(time.time() - start, 2), ' 초 경과')\n",
    "    print(b)\n",
    "\n",
    "\n",
    "def print_c(c):\n",
    "    print(round(time.time() - start, 2), ' 초 경과')\n",
    "    print(c)\n",
    "\n",
    "\n",
    "s = sched.scheduler()  # 스케줄러 객체 생성\n",
    "s.enter(5, 1, print_a, ('print_a 함수 실행됨',))\n",
    "s.enter(3, 1, print_b, ('print_b 함수 실행됨',))\n",
    "s.enter(7, 1, print_c, ('print_c 함수 실행됨',))\n",
    "\n",
    "s.run()"
   ],
   "metadata": {
    "collapsed": false
   },
   "id": "b239ea445149bceb",
   "execution_count": null
  },
  {
   "cell_type": "markdown",
   "source": [
    "# schedule\n",
    "- sched 와 마찬가지로 일정한 시간 간격으로 프로그램을 실행시켜주는 외장 라이브러리\n",
    "- 파이썬의 원하는 함수들을 원하는 실행주기를 (초, 분, 시간, 요일, 특정 시각) 손쉽게 설정이 가능\n",
    "- 시간 관련 내장 라이브러리인 time 과 주로 함께 사용됨"
   ],
   "metadata": {
    "collapsed": false
   },
   "id": "1f565d81cf35cc94"
  },
  {
   "cell_type": "code",
   "outputs": [],
   "source": [
    "import schedule  # pip install schedule\n",
    "import time"
   ],
   "metadata": {
    "collapsed": false
   },
   "id": "93dc9e8f28b434e5",
   "execution_count": null
  },
  {
   "cell_type": "code",
   "outputs": [],
   "source": [
    "def message(interval):\n",
    "    print(f\"{interval} 간격 스케줄 실행중...\")"
   ],
   "metadata": {
    "collapsed": false
   },
   "id": "ffbda34e366b65ba",
   "execution_count": null
  },
  {
   "cell_type": "markdown",
   "source": [
    "# 시, 분, 초 단위 실행"
   ],
   "metadata": {
    "collapsed": false
   },
   "id": "2a3d3662ba86fd94"
  },
  {
   "cell_type": "markdown",
   "source": [
    "### 5초에 한번씩 함수 실행"
   ],
   "metadata": {
    "collapsed": false
   },
   "id": "37cb9ca0b4cdabd5"
  },
  {
   "cell_type": "code",
   "outputs": [],
   "source": [
    "# 5초에 한번씩 함수 실행\n",
    "schedule.every(3).seconds.do(message, '5초')  # 이벤트 등록"
   ],
   "metadata": {
    "collapsed": false
   },
   "id": "4c3c524e555201b4",
   "execution_count": null
  },
  {
   "cell_type": "code",
   "outputs": [],
   "source": [
    "# 스케줄러 실행\n",
    "# while True:\n",
    "i = 1\n",
    "\n",
    "while True:\n",
    "    schedule.run_pending()"
   ],
   "metadata": {
    "collapsed": false
   },
   "id": "f63363a6403a77c1",
   "execution_count": null
  },
  {
   "cell_type": "markdown",
   "source": [
    "# 1분에 한번씩 함수 실행"
   ],
   "metadata": {
    "collapsed": false
   },
   "id": "65db59fd90e3c1bc"
  },
  {
   "cell_type": "code",
   "outputs": [],
   "source": [
    "# 스케줄러 초기화\n",
    "schedule.clear()"
   ],
   "metadata": {
    "collapsed": false
   },
   "id": "90f1fca62b9e5691",
   "execution_count": null
  },
  {
   "cell_type": "code",
   "outputs": [],
   "source": [
    "# 1분에 한번씩 함수 실행\n",
    "schedule.every(1).minutes.do(message, '1분')  # 이벤트 등록"
   ],
   "metadata": {
    "collapsed": false
   },
   "id": "a9d0b8bd9ab6e9b7",
   "execution_count": null
  },
  {
   "cell_type": "code",
   "outputs": [],
   "source": [
    "# 스케줄러 실행\n",
    "while True:\n",
    "    schedule.run_pending()"
   ],
   "metadata": {
    "collapsed": false
   },
   "id": "c16100b82553dc3e",
   "execution_count": null
  },
  {
   "cell_type": "markdown",
   "source": [
    "# 1시간에 한번씩 함수 실행"
   ],
   "metadata": {
    "collapsed": false
   },
   "id": "dc592f8d9754bb99"
  },
  {
   "cell_type": "code",
   "outputs": [],
   "source": [
    "# 스케줄러 초기화\n",
    "schedule.clear()"
   ],
   "metadata": {
    "collapsed": false
   },
   "id": "9cade1b618c59d2e",
   "execution_count": null
  },
  {
   "cell_type": "code",
   "outputs": [],
   "source": [
    "# 1시간에 한번씩 함수 실행\n",
    "schedule.every(1).hour.do(message, '1시간')"
   ],
   "metadata": {
    "collapsed": false
   },
   "id": "da363d0cf90c9e6d",
   "execution_count": null
  },
  {
   "cell_type": "code",
   "outputs": [],
   "source": [
    "# 스케줄러 실행\n",
    "while True:\n",
    "    schedule.run_pending()"
   ],
   "metadata": {
    "collapsed": false
   },
   "id": "77516dede155fccf"
  },
  {
   "cell_type": "markdown",
   "source": [
    "# 일, 주 단위 실행"
   ],
   "metadata": {
    "collapsed": false
   },
   "id": "8002a77777845329"
  },
  {
   "cell_type": "code",
   "outputs": [],
   "source": [
    "# 스케줄러 초기화"
   ],
   "metadata": {
    "collapsed": false
   },
   "id": "f286d01a9fb5cc6f",
   "execution_count": null
  },
  {
   "cell_type": "code",
   "outputs": [],
   "source": [
    "schedule.clear()"
   ],
   "metadata": {
    "collapsed": false
   },
   "id": "4b4fe5acb7498d1f",
   "execution_count": null
  },
  {
   "cell_type": "code",
   "outputs": [],
   "source": [
    "# 1일에 한번씩 함수 실행\n",
    "schedule.every(1).days.do(message, '1일')\n",
    "\n",
    "# 1주에 한번씩 함수 실행\n",
    "schedule.every(1).weeks.do(message, '1주')"
   ],
   "metadata": {
    "collapsed": false
   },
   "id": "ae629d6081f1aca8",
   "execution_count": null
  },
  {
   "cell_type": "code",
   "outputs": [],
   "source": [
    "# 스케줄러 실행\n",
    "while True:\n",
    "    schedule.run_pending()"
   ],
   "metadata": {
    "collapsed": false
   },
   "id": "18ba374676bae568"
  },
  {
   "cell_type": "markdown",
   "source": [
    "# 매일 정해진 시각에 실행"
   ],
   "metadata": {
    "collapsed": false
   },
   "id": "178978a11bd4270"
  },
  {
   "cell_type": "code",
   "outputs": [],
   "source": [
    "# 스케줄러 초기화\n",
    "schedule.clear()"
   ],
   "metadata": {
    "collapsed": false
   },
   "id": "7e079d50a509928e",
   "execution_count": null
  },
  {
   "cell_type": "code",
   "outputs": [],
   "source": [
    "# 매일 13시 30분에 함수 실행\n",
    "schedule.every().day.at(\"13:30\").do(message, '1일')\n",
    "\n",
    "# 매일 \"11:11\"11\"에 함수 실행\n",
    "schedule.every().day.at(\"11:11:11\").do(message, '1일')"
   ],
   "metadata": {
    "collapsed": false
   },
   "id": "d8959d1bf11903ee",
   "execution_count": null
  },
  {
   "cell_type": "markdown",
   "source": [
    "# 매주 정해진 시각에 실행"
   ],
   "metadata": {
    "collapsed": false
   },
   "id": "8319bed092f4737e"
  },
  {
   "cell_type": "code",
   "outputs": [],
   "source": [
    "# 스케줄러 초기화\n",
    "schedule.clear()"
   ],
   "metadata": {
    "collapsed": false
   },
   "id": "64e57618691b8335",
   "execution_count": null
  },
  {
   "cell_type": "code",
   "outputs": [],
   "source": [
    "# 매주 월요일 13시 30분에 함수 실행\n",
    "schedule.every().monday.at(\"13:30\").do(message, '1주')"
   ],
   "metadata": {
    "collapsed": false
   },
   "id": "4fa1f53a099e9690",
   "execution_count": null
  },
  {
   "cell_type": "code",
   "outputs": [],
   "source": [
    "# 스케줄러 실행\n",
    "while True:\n",
    "    schedule.run_pending()"
   ],
   "metadata": {
    "collapsed": false
   },
   "id": "21d60e5dfecdf4c7"
  },
  {
   "cell_type": "markdown",
   "source": [
    "# 스케줄러 중지"
   ],
   "metadata": {
    "collapsed": false
   },
   "id": "ec39c1b531ebf215"
  },
  {
   "cell_type": "code",
   "outputs": [],
   "source": [
    "# 스케줄러 초기화\n",
    "import schedule\n",
    "import time\n",
    "\n",
    "schedule.clear()"
   ],
   "metadata": {
    "collapsed": false,
    "ExecuteTime": {
     "end_time": "2024-02-17T13:18:17.230334100Z",
     "start_time": "2024-02-17T13:18:17.196542600Z"
    }
   },
   "id": "c666bfbe9d95f0df",
   "execution_count": 46
  },
  {
   "cell_type": "code",
   "outputs": [],
   "source": [
    "# job 설정\n",
    "job = schedule.every(1).seconds.do(message, '1초')  # 이벤트 등록"
   ],
   "metadata": {
    "collapsed": false,
    "ExecuteTime": {
     "end_time": "2024-02-17T13:18:17.793190400Z",
     "start_time": "2024-02-17T13:18:17.785537500Z"
    }
   },
   "id": "1ae4ff6c3eaeebde",
   "execution_count": 47
  },
  {
   "cell_type": "code",
   "outputs": [
    {
     "name": "stdout",
     "output_type": "stream",
     "text": [
      "1초 간격 스케줄 실행중...\n",
      "1초 간격 스케줄 실행중...\n",
      "1초 간격 스케줄 실행중...\n",
      "1초 간격 스케줄 실행중...\n",
      "1초 간격 스케줄 실행중...\n",
      "스케줄러가 종료되었습니다\n"
     ]
    }
   ],
   "source": [
    "# 스케줄러 실행\n",
    "count = 0\n",
    "\n",
    "while True:\n",
    "    schedule.run_pending()\n",
    "    time.sleep(1)\n",
    "\n",
    "    count += 1\n",
    "\n",
    "    if count > 5:  # 5회 실행 후 스케줄러 중지\n",
    "        schedule.cancel_job(job)\n",
    "        print('스케줄러가 종료되었습니다')\n",
    "        break"
   ],
   "metadata": {
    "collapsed": false,
    "ExecuteTime": {
     "end_time": "2024-02-17T13:18:24.299106300Z",
     "start_time": "2024-02-17T13:18:18.289654900Z"
    }
   },
   "id": "a13ea8c98c6a77c6",
   "execution_count": 48
  },
  {
   "cell_type": "code",
   "outputs": [],
   "source": [],
   "metadata": {
    "collapsed": false
   },
   "id": "91e239f3aea1be42"
  }
 ],
 "metadata": {
  "kernelspec": {
   "display_name": "Python 3",
   "language": "python",
   "name": "python3"
  },
  "language_info": {
   "codemirror_mode": {
    "name": "ipython",
    "version": 2
   },
   "file_extension": ".py",
   "mimetype": "text/x-python",
   "name": "python",
   "nbconvert_exporter": "python",
   "pygments_lexer": "ipython2",
   "version": "2.7.6"
  }
 },
 "nbformat": 4,
 "nbformat_minor": 5
}
