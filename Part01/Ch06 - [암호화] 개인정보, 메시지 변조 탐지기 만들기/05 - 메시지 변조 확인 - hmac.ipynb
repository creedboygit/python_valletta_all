{
 "cells": [
  {
   "cell_type": "markdown",
   "source": [
    "# hmac\n",
    "- hmac은 비밀 키와 해싱 기술을 이용하여 송수신자 간 메시지 변조를 확인할 수 있도록 하는 모듈\n",
    "- 송수신자 간 약속한 비밀키를 사용하여 해싱된 데이터 내용이 같은지 대조하는 원리\n",
    "- 만약 해커 등 제 3자가 메시지를 변조했을 경우, 비밀키로 해싱한 결과가 달라짐"
   ],
   "metadata": {
    "collapsed": false
   },
   "id": "e9a0b54a6df0c86d"
  },
  {
   "cell_type": "code",
   "outputs": [],
   "source": [
    "# 비밀 키 설정\n",
    "SECRET_KEY = \"creed\""
   ],
   "metadata": {
    "collapsed": false,
    "ExecuteTime": {
     "end_time": "2024-02-14T12:48:52.779864Z",
     "start_time": "2024-02-14T12:48:52.773036100Z"
    }
   },
   "id": "1814c25f2f06632a",
   "execution_count": 5
  },
  {
   "cell_type": "markdown",
   "source": [
    "# [송신] 암호화(해싱) 파일 생성"
   ],
   "metadata": {
    "collapsed": false
   },
   "id": "aa0ae638ec57fd0b"
  },
  {
   "cell_type": "code",
   "outputs": [],
   "source": [
    "import hmac\n",
    "import hashlib"
   ],
   "metadata": {
    "collapsed": false,
    "ExecuteTime": {
     "end_time": "2024-02-14T12:58:01.569700100Z",
     "start_time": "2024-02-14T12:58:01.564963Z"
    }
   },
   "id": "9769491c2afd48de",
   "execution_count": 38
  },
  {
   "cell_type": "code",
   "outputs": [],
   "source": [
    "# 송신 메시지 입력\n",
    "important_message = \"아주 중요한 메시지\"\n",
    "\n",
    "# 원본 파일\n",
    "with open(\"message.txt\", \"w\") as f:\n",
    "    f.write(important_message)"
   ],
   "metadata": {
    "collapsed": false,
    "ExecuteTime": {
     "end_time": "2024-02-14T12:58:01.922443700Z",
     "start_time": "2024-02-14T12:58:01.917988Z"
    }
   },
   "id": "126da73d92cb0d2c",
   "execution_count": 39
  },
  {
   "cell_type": "code",
   "outputs": [],
   "source": [
    "# 비밀 키 암호화 파일\n",
    "with open('message_encrypted.txt', 'w') as f:\n",
    "    m = hmac.new(SECRET_KEY.encode('utf-8'), important_message.encode('utf-8'),\n",
    "                 hashlib.sha256)\n",
    "    f.write(m.hexdigest())"
   ],
   "metadata": {
    "collapsed": false,
    "ExecuteTime": {
     "end_time": "2024-02-14T12:58:02.447335Z",
     "start_time": "2024-02-14T12:58:02.444450200Z"
    }
   },
   "id": "877c98b78ab9208d",
   "execution_count": 40
  },
  {
   "cell_type": "markdown",
   "source": [
    "# [수신] 복호화 및 변조 확인"
   ],
   "metadata": {
    "collapsed": false
   },
   "id": "5aafeb41ef48fe02"
  },
  {
   "cell_type": "code",
   "outputs": [
    {
     "name": "stdout",
     "output_type": "stream",
     "text": [
      "메시지가 변조되지 않았습니다. 안전합니다.\n"
     ]
    }
   ],
   "source": [
    "with open('message_encrypted.txt') as f:\n",
    "    message_encrypted = f.read()\n",
    "\n",
    "with open('message.txt') as f:\n",
    "    message = f.read()\n",
    "    m = hmac.new(SECRET_KEY.encode('utf-8'), message.encode('utf-8'),\n",
    "                 hashlib.sha256)\n",
    "\n",
    "    if m.hexdigest() == message_encrypted:\n",
    "        print(\"메시지가 변조되지 않았습니다. 안전합니다.\")\n",
    "    else:\n",
    "        print(\"변조된 메시지입니다. 위험합니다.\")"
   ],
   "metadata": {
    "collapsed": false,
    "ExecuteTime": {
     "end_time": "2024-02-14T12:58:41.375589600Z",
     "start_time": "2024-02-14T12:58:41.372083700Z"
    }
   },
   "id": "8b72cd2ff4cceeb1",
   "execution_count": 45
  },
  {
   "cell_type": "code",
   "outputs": [],
   "source": [],
   "metadata": {
    "collapsed": false
   },
   "id": "fadf52a8c0f5979f"
  }
 ],
 "metadata": {
  "kernelspec": {
   "display_name": "Python 3",
   "language": "python",
   "name": "python3"
  },
  "language_info": {
   "codemirror_mode": {
    "name": "ipython",
    "version": 2
   },
   "file_extension": ".py",
   "mimetype": "text/x-python",
   "name": "python",
   "nbconvert_exporter": "python",
   "pygments_lexer": "ipython2",
   "version": "2.7.6"
  }
 },
 "nbformat": 4,
 "nbformat_minor": 5
}
