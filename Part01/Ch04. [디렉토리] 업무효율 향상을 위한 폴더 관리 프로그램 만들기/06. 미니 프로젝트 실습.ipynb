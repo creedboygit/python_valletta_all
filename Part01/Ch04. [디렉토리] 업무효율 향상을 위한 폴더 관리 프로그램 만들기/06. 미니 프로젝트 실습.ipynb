{
 "cells": [
  {
   "cell_type": "markdown",
   "source": [
    "> ### 진행 순서\n",
    "> 1. 압축 파일 정리\n",
    "> 2. 파일명 정리\n",
    "> 3. 폴더 생성\n",
    "> 4. 파일 분류 및 이동"
   ],
   "metadata": {
    "collapsed": false
   },
   "id": "9e77d78477039daf"
  },
  {
   "cell_type": "markdown",
   "source": [
    "### 압축 파일 정리"
   ],
   "metadata": {
    "collapsed": false
   },
   "id": "e71839bf88e8786"
  },
  {
   "cell_type": "code",
   "outputs": [],
   "source": [
    "# 정리 대상 폴더 경로 지정\n",
    "trg_path = './fuzzy_folder'"
   ],
   "metadata": {
    "collapsed": false,
    "ExecuteTime": {
     "end_time": "2024-02-12T10:52:11.646115700Z",
     "start_time": "2024-02-12T10:52:11.643598700Z"
    }
   },
   "id": "e2e081973db985e8",
   "execution_count": 9
  },
  {
   "cell_type": "code",
   "outputs": [],
   "source": [
    "# 압축 파일 확인\n",
    "import glob\n",
    "import os"
   ],
   "metadata": {
    "collapsed": false,
    "ExecuteTime": {
     "end_time": "2024-02-12T10:52:11.982655300Z",
     "start_time": "2024-02-12T10:52:11.981648800Z"
    }
   },
   "id": "36b37bdbabbcd488",
   "execution_count": 10
  },
  {
   "cell_type": "code",
   "outputs": [
    {
     "data": {
      "text/plain": "'D:\\\\940 python_study\\\\200 study\\\\220 valletta_all\\\\python_valletta_all\\\\Ch04. [디렉토리] 업무효율 향상을 위한 폴더 관리 프로그램 만들기'"
     },
     "execution_count": 11,
     "metadata": {},
     "output_type": "execute_result"
    }
   ],
   "source": [
    "os.getcwd()"
   ],
   "metadata": {
    "collapsed": false,
    "ExecuteTime": {
     "end_time": "2024-02-12T10:52:12.372687100Z",
     "start_time": "2024-02-12T10:52:12.368686900Z"
    }
   },
   "id": "d8bad4bb86e0e558",
   "execution_count": 11
  },
  {
   "cell_type": "code",
   "outputs": [
    {
     "name": "stdout",
     "output_type": "stream",
     "text": [
      "['./fuzzy_folder\\\\센터가동현황_물류.zip']\n"
     ]
    }
   ],
   "source": [
    "# 압축 파일 확인\n",
    "zipf_path = []\n",
    "for filename in glob.glob(os.path.join(trg_path, \"**/*.zip\"), recursive=True):\n",
    "    zipf_path.append(filename)\n",
    "    print(zipf_path)"
   ],
   "metadata": {
    "collapsed": false,
    "ExecuteTime": {
     "end_time": "2024-02-12T10:52:12.690229500Z",
     "start_time": "2024-02-12T10:52:12.688014400Z"
    }
   },
   "id": "6007eba10be2d081",
   "execution_count": 12
  },
  {
   "cell_type": "code",
   "outputs": [],
   "source": [
    "# 압축 파일 해제\n",
    "import zipfile\n",
    "\n",
    "for zipf in zipf_path:\n",
    "    with zipfile.ZipFile(zipf) as myzip:\n",
    "        zipinfo = myzip.infolist()\n",
    "        # print(zipinfo)\n",
    "\n",
    "        for info in zipinfo:\n",
    "            # decode_name = info.filename.encode('cp949').decode('euc-kr')  # 한글 깨짐 방지\n",
    "            decode_name = info.filename  # 한글 깨짐 방지\n",
    "            info.filename = os.path.join(trg_path, decode_name)\n",
    "            myzip.extract(info)"
   ],
   "metadata": {
    "collapsed": false,
    "ExecuteTime": {
     "end_time": "2024-02-12T10:58:52.084611200Z",
     "start_time": "2024-02-12T10:58:52.076211400Z"
    }
   },
   "id": "569a1b8b7343b936",
   "execution_count": 20
  },
  {
   "cell_type": "markdown",
   "source": [
    "### 파일명 정리"
   ],
   "metadata": {
    "collapsed": false
   },
   "id": "7609c13d6be69ff0"
  },
  {
   "cell_type": "code",
   "outputs": [],
   "source": [
    "import openpyxl as op"
   ],
   "metadata": {
    "collapsed": false,
    "ExecuteTime": {
     "end_time": "2024-02-12T11:11:10.747338Z",
     "start_time": "2024-02-12T11:11:10.742825600Z"
    }
   },
   "id": "c092b62757bccce1",
   "execution_count": 28
  },
  {
   "cell_type": "markdown",
   "source": [
    "### 파일명 수정 시트 만들기"
   ],
   "metadata": {
    "collapsed": false
   },
   "id": "b78f63e756c23556"
  },
  {
   "cell_type": "code",
   "outputs": [],
   "source": [
    "# 폴더별 파일명을 받아 엑셀 파일에 작성하는 함수\n",
    "def get_file_name(trg_path):\n",
    "    # 여러 폴더가 있는 폴더 경로를 입력받아 list화 한다.\n",
    "    folder_list = os.listdir(trg_path)\n",
    "\n",
    "    # openpyxl Workbook 생성\n",
    "    wb = op.Workbook()\n",
    "\n",
    "    # 새로 생성한 Workbook의 활성화 시트를 ws로 정의\n",
    "    ws = wb.active\n",
    "\n",
    "    i = 2\n",
    "\n",
    "    current_folder = trg_path  # 현재 폴더 위치\n",
    "    file_list = os.listdir(current_folder)  # 현재 폴더 위치의 파일들을 리스트화\n",
    "\n",
    "    # 현재 폴더 위치의 리스트화 된 파일을 다시 for문을 통해 접근\n",
    "    for fname in file_list:\n",
    "        ws.cell(row=i, column=1).value = current_folder + \"/\"  # i행 1열에 현재 폴더 경로 입력\n",
    "        ws.cell(row=i, column=2).value = fname  # i행 2열에 파일명(변경전) 입력\n",
    "        i += 1\n",
    "\n",
    "    ws.cell(row=1, column=1).value = \"파일경로\"\n",
    "    ws.cell(row=1, column=2).value = \"파일명(변경전)\"\n",
    "    ws.cell(row=1, column=3).value = \"파일명(변경후)\"\n",
    "\n",
    "    # 위에서 작성된 엑셀 파일을 filelist.xlsx라는 이름으로 저장\n",
    "    wb.save(os.path.join(trg_path, \"filelist.xlsx\"))"
   ],
   "metadata": {
    "collapsed": false,
    "ExecuteTime": {
     "end_time": "2024-02-12T11:25:51.966658400Z",
     "start_time": "2024-02-12T11:25:51.963761200Z"
    }
   },
   "id": "1db1327101ee5a7f",
   "execution_count": 50
  },
  {
   "cell_type": "code",
   "outputs": [],
   "source": [
    "get_file_name(trg_path)"
   ],
   "metadata": {
    "collapsed": false,
    "ExecuteTime": {
     "end_time": "2024-02-12T11:33:48.052311300Z",
     "start_time": "2024-02-12T11:33:48.043225900Z"
    }
   },
   "id": "d7972170db5865d5",
   "execution_count": 55
  },
  {
   "cell_type": "markdown",
   "source": [
    "### 파일명 변경하기"
   ],
   "metadata": {
    "collapsed": false
   },
   "id": "7c3c5762317dfe8e"
  },
  {
   "cell_type": "code",
   "outputs": [],
   "source": [
    "def excel_read(filepath: str) -> tuple:\n",
    "    # filelist.xlsx 경로를 받아 workbook 객체 생성\n",
    "    wb = op.load_workbook(filepath)\n",
    "\n",
    "    # 활성화된 시트 ws로 정의\n",
    "    ws = wb.active\n",
    "\n",
    "    # 리스트 컴프리헨션 구문을 통해 각 열의 데이터를 리스트화하기\n",
    "    forder_path = [r[0].value for r in ws]  # 폴더 경로 리스트화\n",
    "    file_before = [r[1].value for r in ws]  # 변경 전 파일명 리스트화\n",
    "    file_after = [r[2].value for r in ws]  # 변경 후 파일명 리스트화\n",
    "\n",
    "    # print(forder_path)\n",
    "    print(file_before)\n",
    "    # print(forder_path)\n",
    "\n",
    "    len_num = len(forder_path)  # for문을 위한 열 개수 구하기 (folder_path 개수)\n",
    "    datalist = []  # 빈 리스트 생성\n",
    "    for i in range(1, len_num):\n",
    "        temp_tuple = (forder_path[i], file_before[i], file_after[i])  # 임시 튜플 생성 (각 행 데이터)\n",
    "        datalist.append(temp_tuple)  # 위 튜플을 datalist에 추가\n",
    "\n",
    "    return datalist  # datalist 리턴\n"
   ],
   "metadata": {
    "collapsed": false,
    "ExecuteTime": {
     "end_time": "2024-02-12T12:14:45.839286300Z",
     "start_time": "2024-02-12T12:14:45.825774300Z"
    }
   },
   "id": "ee918d31dbe8d31a",
   "execution_count": 63
  },
  {
   "cell_type": "code",
   "outputs": [
    {
     "name": "stdout",
     "output_type": "stream",
     "text": [
      "['파일명(변경전)', 'A_2022_01_13_부서현황_인사_001.pdf', 'A_2022_01_13_부서현황_인사_002.pdf', 'A_2022_01_13_부서현황_인사_003.pdf', 'A_2022_04_10_생산일정_생산_001.pdf', 'A_2022_04_10_생산일정_생산_002.pdf', 'A_2022_04_10_생산일정_생산_003.pdf', 'A_2022_04_10_생산일정_생산_004.pdf', 'A_2022_06_30_생산일정_생산_001.pdf', 'A_2022_06_30_생산일정_생산_002.pdf', 'A_2022_07_20_부서현황_인사_001.pdf', 'A_2022_07_20_부서현황_인사_002.pdf', 'A_2022_07_20_부서현황_인사_003.pdf', 'A_2022_07_20_부서현황_인사_004 (1).pdf', 'B_2022_02_20_상반기_재무_001.xlsx', 'B_2022_02_20_상반기_재무_002.xlsx', 'B_2022_06_20_하반기_재무_001.xlsx', 'B_2022_06_30_하반기_재무_002.xlsx', 'C_2022_03_30_영업실적_마케팅_001.xlsx', 'C_2022_03_30_영업실적_마케팅_002.xlsx', 'C_2022_03_30_영업실적_마케팅_003.xlsx', 'C_2022_09_10_영업실적_마케팅_001 (1).xlsx', 'C_2022_09_10_영업실적_마케팅_002.xlsx', 'C_2022_09_10_영업실적_마케팅_003.xlsx', 'D_20220110_센터가동현황_물류_001.pdf', 'D_20220110_센터가동현황_물류_002.pdf', 'D_20220723_센터가동현황_물류_001.pdf', 'D_20220723_센터가동현황_물류_002.pdf', 'D_2022_01_10_센터가동현황_물류_001.pdf', 'D_2022_01_10_센터가동현황_물류_002.pdf', 'D_2022_07_23_센터가동현황_물류_001.pdf', 'D_2022_07_23_센터가동현황_물류_002.pdf', 'filelist.xlsx', '단축키모음.txt', '부장님지시사항_220910.txt', '센터가동현황_물류.zip', '증명사진.jfif']\n"
     ]
    }
   ],
   "source": [
    "rename_list = excel_read(os.path.join(trg_path, \"filelist.xlsx\"))"
   ],
   "metadata": {
    "collapsed": false,
    "ExecuteTime": {
     "end_time": "2024-02-12T12:14:46.388756800Z",
     "start_time": "2024-02-12T12:14:46.381532100Z"
    }
   },
   "id": "d736530e33f6e329",
   "execution_count": 64
  },
  {
   "cell_type": "code",
   "outputs": [
    {
     "data": {
      "text/plain": "[('./fuzzy_folder/',\n  'A_2022_01_13_부서현황_인사_001.pdf',\n  'A_2022_01_13_부서현황_인사_001.pdf'),\n ('./fuzzy_folder/',\n  'A_2022_01_13_부서현황_인사_002.pdf',\n  'A_2022_01_13_부서현황_인사_002.pdf'),\n ('./fuzzy_folder/',\n  'A_2022_01_13_부서현황_인사_003.pdf',\n  'A_2022_01_13_부서현황_인사_003.pdf'),\n ('./fuzzy_folder/',\n  'A_2022_04_10_생산일정_생산_001.pdf',\n  'A_2022_04_10_생산일정_생산_001.pdf'),\n ('./fuzzy_folder/',\n  'A_2022_04_10_생산일정_생산_002.pdf',\n  'A_2022_04_10_생산일정_생산_002.pdf'),\n ('./fuzzy_folder/',\n  'A_2022_04_10_생산일정_생산_003.pdf',\n  'A_2022_04_10_생산일정_생산_003.pdf'),\n ('./fuzzy_folder/',\n  'A_2022_04_10_생산일정_생산_004.pdf',\n  'A_2022_04_10_생산일정_생산_004.pdf'),\n ('./fuzzy_folder/',\n  'A_2022_06_30_생산일정_생산_001.pdf',\n  'A_2022_06_30_생산일정_생산_001.pdf'),\n ('./fuzzy_folder/',\n  'A_2022_06_30_생산일정_생산_002.pdf',\n  'A_2022_06_30_생산일정_생산_002.pdf'),\n ('./fuzzy_folder/',\n  'A_2022_07_20_부서현황_인사_001.pdf',\n  'A_2022_07_20_부서현황_인사_001.pdf'),\n ('./fuzzy_folder/',\n  'A_2022_07_20_부서현황_인사_002.pdf',\n  'A_2022_07_20_부서현황_인사_002.pdf'),\n ('./fuzzy_folder/',\n  'A_2022_07_20_부서현황_인사_003.pdf',\n  'A_2022_07_20_부서현황_인사_003.pdf'),\n ('./fuzzy_folder/',\n  'A_2022_07_20_부서현황_인사_004 (1).pdf',\n  'A_2022_07_20_부서현황_인사_004.pdf'),\n ('./fuzzy_folder/',\n  'B_2022_02_20_상반기_재무_001.xlsx',\n  'B_2022_02_20_상반기_재무_001.xlsx'),\n ('./fuzzy_folder/',\n  'B_2022_02_20_상반기_재무_002.xlsx',\n  'B_2022_02_20_상반기_재무_002.xlsx'),\n ('./fuzzy_folder/',\n  'B_2022_06_20_하반기_재무_001.xlsx',\n  'B_2022_06_20_하반기_재무_001.xlsx'),\n ('./fuzzy_folder/',\n  'B_2022_06_30_하반기_재무_002.xlsx',\n  'B_2022_06_30_하반기_재무_002.xlsx'),\n ('./fuzzy_folder/',\n  'C_2022_03_30_영업실적_마케팅_001.xlsx',\n  'C_2022_03_30_영업실적_마케팅_001.xlsx'),\n ('./fuzzy_folder/',\n  'C_2022_03_30_영업실적_마케팅_002.xlsx',\n  'C_2022_03_30_영업실적_마케팅_002.xlsx'),\n ('./fuzzy_folder/',\n  'C_2022_03_30_영업실적_마케팅_003.xlsx',\n  'C_2022_03_30_영업실적_마케팅_003.xlsx'),\n ('./fuzzy_folder/',\n  'C_2022_09_10_영업실적_마케팅_001 (1).xlsx',\n  'C_2022_09_10_영업실적_마케팅_001.xlsx'),\n ('./fuzzy_folder/',\n  'C_2022_09_10_영업실적_마케팅_002.xlsx',\n  'C_2022_09_10_영업실적_마케팅_002.xlsx'),\n ('./fuzzy_folder/',\n  'C_2022_09_10_영업실적_마케팅_003.xlsx',\n  'C_2022_09_10_영업실적_마케팅_003.xlsx'),\n ('./fuzzy_folder/',\n  'D_20220110_센터가동현황_물류_001.pdf',\n  'D_2022_01_10_센터가동현황_물류_001.pdf'),\n ('./fuzzy_folder/',\n  'D_20220110_센터가동현황_물류_002.pdf',\n  'D_2022_01_10_센터가동현황_물류_002.pdf'),\n ('./fuzzy_folder/',\n  'D_20220723_센터가동현황_물류_001.pdf',\n  'D_2022_07_23_센터가동현황_물류_001.pdf'),\n ('./fuzzy_folder/',\n  'D_20220723_센터가동현황_물류_002.pdf',\n  'D_2022_07_23_센터가동현황_물류_002.pdf'),\n ('./fuzzy_folder/',\n  'D_2022_01_10_센터가동현황_물류_001.pdf',\n  'D_2022_01_10_센터가동현황_물류_001.pdf'),\n ('./fuzzy_folder/',\n  'D_2022_01_10_센터가동현황_물류_002.pdf',\n  'D_2022_01_10_센터가동현황_물류_002.pdf'),\n ('./fuzzy_folder/',\n  'D_2022_07_23_센터가동현황_물류_001.pdf',\n  'D_2022_07_23_센터가동현황_물류_001.pdf'),\n ('./fuzzy_folder/',\n  'D_2022_07_23_센터가동현황_물류_002.pdf',\n  'D_2022_07_23_센터가동현황_물류_002.pdf'),\n ('./fuzzy_folder/', 'filelist.xlsx', 'filelist.xlsx'),\n ('./fuzzy_folder/', '단축키모음.txt', '단축키모음.txt'),\n ('./fuzzy_folder/', '부장님지시사항_220910.txt', '부장님지시사항_220910.txt'),\n ('./fuzzy_folder/', '센터가동현황_물류.zip', '센터가동현황_물류.zip'),\n ('./fuzzy_folder/', '증명사진.jfif', '증명사진.jfif')]"
     },
     "execution_count": 65,
     "metadata": {},
     "output_type": "execute_result"
    }
   ],
   "source": [
    "rename_list"
   ],
   "metadata": {
    "collapsed": false,
    "ExecuteTime": {
     "end_time": "2024-02-12T12:14:53.141020300Z",
     "start_time": "2024-02-12T12:14:53.136528Z"
    }
   },
   "id": "a2649ed560cb20b8",
   "execution_count": 65
  },
  {
   "cell_type": "code",
   "outputs": [],
   "source": [
    "import shutil\n",
    "\n",
    "\n",
    "def file_rename(datalist: list):\n",
    "    for data in datalist:\n",
    "\n",
    "        # print(data[0] + data[1])\n",
    "\n",
    "        if os.path.exists(os.path.join(data[0], data[1])):\n",
    "            print(data[1] + \"의 파일명을 \" + data[2] + \"로 변경합니다.\")\n",
    "            # data[0] : 폴더 경로, data[1] : 변경 전 파일명, data[2] : 변경 후 파일명\n",
    "            shutil.move(data[0] + data[1], data[0] + data[2])\n",
    "            # shutil.move(data[0] + data[2], data[0] + data[1])"
   ],
   "metadata": {
    "collapsed": false,
    "ExecuteTime": {
     "end_time": "2024-02-12T12:28:52.718832700Z",
     "start_time": "2024-02-12T12:28:52.716318200Z"
    }
   },
   "id": "31d1d9a80f81eda1",
   "execution_count": 92
  },
  {
   "cell_type": "code",
   "outputs": [
    {
     "name": "stdout",
     "output_type": "stream",
     "text": [
      "A_2022_01_13_부서현황_인사_001.pdf의 파일명을 A_2022_01_13_부서현황_인사_001.pdf로 변경합니다.\n",
      "A_2022_01_13_부서현황_인사_002.pdf의 파일명을 A_2022_01_13_부서현황_인사_002.pdf로 변경합니다.\n",
      "A_2022_01_13_부서현황_인사_003.pdf의 파일명을 A_2022_01_13_부서현황_인사_003.pdf로 변경합니다.\n",
      "A_2022_04_10_생산일정_생산_001.pdf의 파일명을 A_2022_04_10_생산일정_생산_001.pdf로 변경합니다.\n",
      "A_2022_04_10_생산일정_생산_002.pdf의 파일명을 A_2022_04_10_생산일정_생산_002.pdf로 변경합니다.\n",
      "A_2022_04_10_생산일정_생산_003.pdf의 파일명을 A_2022_04_10_생산일정_생산_003.pdf로 변경합니다.\n",
      "A_2022_04_10_생산일정_생산_004.pdf의 파일명을 A_2022_04_10_생산일정_생산_004.pdf로 변경합니다.\n",
      "A_2022_06_30_생산일정_생산_001.pdf의 파일명을 A_2022_06_30_생산일정_생산_001.pdf로 변경합니다.\n",
      "A_2022_06_30_생산일정_생산_002.pdf의 파일명을 A_2022_06_30_생산일정_생산_002.pdf로 변경합니다.\n",
      "A_2022_07_20_부서현황_인사_001.pdf의 파일명을 A_2022_07_20_부서현황_인사_001.pdf로 변경합니다.\n",
      "A_2022_07_20_부서현황_인사_002.pdf의 파일명을 A_2022_07_20_부서현황_인사_002.pdf로 변경합니다.\n",
      "A_2022_07_20_부서현황_인사_003.pdf의 파일명을 A_2022_07_20_부서현황_인사_003.pdf로 변경합니다.\n",
      "B_2022_02_20_상반기_재무_001.xlsx의 파일명을 B_2022_02_20_상반기_재무_001.xlsx로 변경합니다.\n",
      "B_2022_02_20_상반기_재무_002.xlsx의 파일명을 B_2022_02_20_상반기_재무_002.xlsx로 변경합니다.\n",
      "B_2022_06_20_하반기_재무_001.xlsx의 파일명을 B_2022_06_20_하반기_재무_001.xlsx로 변경합니다.\n",
      "B_2022_06_30_하반기_재무_002.xlsx의 파일명을 B_2022_06_30_하반기_재무_002.xlsx로 변경합니다.\n",
      "C_2022_03_30_영업실적_마케팅_001.xlsx의 파일명을 C_2022_03_30_영업실적_마케팅_001.xlsx로 변경합니다.\n",
      "C_2022_03_30_영업실적_마케팅_002.xlsx의 파일명을 C_2022_03_30_영업실적_마케팅_002.xlsx로 변경합니다.\n",
      "C_2022_03_30_영업실적_마케팅_003.xlsx의 파일명을 C_2022_03_30_영업실적_마케팅_003.xlsx로 변경합니다.\n",
      "C_2022_09_10_영업실적_마케팅_002.xlsx의 파일명을 C_2022_09_10_영업실적_마케팅_002.xlsx로 변경합니다.\n",
      "C_2022_09_10_영업실적_마케팅_003.xlsx의 파일명을 C_2022_09_10_영업실적_마케팅_003.xlsx로 변경합니다.\n",
      "D_2022_01_10_센터가동현황_물류_001.pdf의 파일명을 D_2022_01_10_센터가동현황_물류_001.pdf로 변경합니다.\n",
      "D_2022_01_10_센터가동현황_물류_002.pdf의 파일명을 D_2022_01_10_센터가동현황_물류_002.pdf로 변경합니다.\n",
      "D_2022_07_23_센터가동현황_물류_001.pdf의 파일명을 D_2022_07_23_센터가동현황_물류_001.pdf로 변경합니다.\n",
      "D_2022_07_23_센터가동현황_물류_002.pdf의 파일명을 D_2022_07_23_센터가동현황_물류_002.pdf로 변경합니다.\n",
      "filelist.xlsx의 파일명을 filelist.xlsx로 변경합니다.\n",
      "단축키모음.txt의 파일명을 단축키모음.txt로 변경합니다.\n",
      "부장님지시사항_220910.txt의 파일명을 부장님지시사항_220910.txt로 변경합니다.\n",
      "센터가동현황_물류.zip의 파일명을 센터가동현황_물류.zip로 변경합니다.\n",
      "증명사진.jfif의 파일명을 증명사진.jfif로 변경합니다.\n"
     ]
    }
   ],
   "source": [
    "# 함수 실행\n",
    "file_rename(rename_list)"
   ],
   "metadata": {
    "collapsed": false,
    "ExecuteTime": {
     "end_time": "2024-02-12T12:28:53.098214300Z",
     "start_time": "2024-02-12T12:28:53.091469600Z"
    }
   },
   "id": "d4ed21f6a66cd333",
   "execution_count": 93
  },
  {
   "cell_type": "markdown",
   "source": [
    "### 폴더 생성"
   ],
   "metadata": {
    "collapsed": false
   },
   "id": "748a68342766455d"
  },
  {
   "cell_type": "code",
   "outputs": [],
   "source": [
    "import fnmatch"
   ],
   "metadata": {
    "collapsed": false,
    "ExecuteTime": {
     "end_time": "2024-02-12T12:29:10.395150500Z",
     "start_time": "2024-02-12T12:29:10.373154100Z"
    }
   },
   "id": "238e03ec3345c2de",
   "execution_count": 94
  },
  {
   "cell_type": "code",
   "outputs": [],
   "source": [
    "# 파일명을 읽어와서 파일명의 분류 부분을 중복없이 리스트화\n",
    "def category_list(trg_path: str) -> list:\n",
    "    # 파일명 끝자리가 _XXX (숫자 세자리)로 끝나는 파일 탐색\n",
    "    file_list = []\n",
    "\n",
    "    for filename in os.listdir(trg_path):\n",
    "        if fnmatch.fnmatch(filename, '*_[0-9][0-9][0-9].*'):\n",
    "            file_list.append(filename)\n",
    "\n",
    "    category = []  # 분류 데이터 저장을 위해 빈 리스트 생성\n",
    "\n",
    "    for file in file_list:\n",
    "        temp_list = file.split(\"_\")  # 파일명 중 \"_\"로 분리하여 리스트화\n",
    "        category.append(temp_list[-2])  # 리스트의 -2 인덱싱 데이터를 category에 추가\n",
    "\n",
    "    # print(category)\n",
    "\n",
    "    temp_set = set(category)  # 중복을 제거하기 위해 set 사용\n",
    "\n",
    "    # print(temp_set)\n",
    "\n",
    "    result = list(temp_set)  # 중복 제거 후 다시 리스트화\n",
    "\n",
    "    return result"
   ],
   "metadata": {
    "collapsed": false,
    "ExecuteTime": {
     "end_time": "2024-02-12T12:36:02.586080600Z",
     "start_time": "2024-02-12T12:36:02.544570300Z"
    }
   },
   "id": "9c7b94555aa8ff6f",
   "execution_count": 102
  },
  {
   "cell_type": "code",
   "outputs": [],
   "source": [
    "# 함수 실행\n",
    "category_list = category_list(trg_path) + ['기타']"
   ],
   "metadata": {
    "collapsed": false,
    "ExecuteTime": {
     "end_time": "2024-02-12T12:36:02.842595400Z",
     "start_time": "2024-02-12T12:36:02.839086700Z"
    }
   },
   "id": "ede58446f357f318",
   "execution_count": 103
  },
  {
   "cell_type": "code",
   "outputs": [
    {
     "data": {
      "text/plain": "['생산', '물류', '재무', '인사', '마케팅', '기타']"
     },
     "execution_count": 105,
     "metadata": {},
     "output_type": "execute_result"
    }
   ],
   "source": [
    "category_list"
   ],
   "metadata": {
    "collapsed": false,
    "ExecuteTime": {
     "end_time": "2024-02-12T12:36:10.833393800Z",
     "start_time": "2024-02-12T12:36:10.819774300Z"
    }
   },
   "id": "997e9516496f3d19",
   "execution_count": 105
  },
  {
   "cell_type": "markdown",
   "source": [
    "### clean 폴더 생성"
   ],
   "metadata": {
    "collapsed": false
   },
   "id": "e8807228991a6051"
  },
  {
   "cell_type": "code",
   "outputs": [],
   "source": [
    "import pathlib"
   ],
   "metadata": {
    "collapsed": false
   },
   "id": "2f6afc125acf3041",
   "execution_count": null
  },
  {
   "cell_type": "code",
   "outputs": [],
   "source": [
    "# 분류 리스트를 받아와서 정해진 위치에 폴더 생성\n",
    "clean_path = './clean_folder'\n",
    "\n",
    "\n",
    "def make_folder(clean_path: str, category_list: list):\n",
    "    for category in category_list:\n",
    "        new_folder = pathlib.Path(os.path.join(clean_path, category))\n",
    "        new_folder.mkdir(parents=True, exist_ok=True)"
   ],
   "metadata": {
    "collapsed": false,
    "ExecuteTime": {
     "end_time": "2024-02-12T12:47:30.951717200Z",
     "start_time": "2024-02-12T12:47:30.948207700Z"
    }
   },
   "id": "f825bbb600177be0",
   "execution_count": 107
  },
  {
   "cell_type": "code",
   "outputs": [],
   "source": [
    "# 함수 실행\n",
    "make_folder(clean_path, category_list)"
   ],
   "metadata": {
    "collapsed": false,
    "ExecuteTime": {
     "end_time": "2024-02-12T12:47:43.732353Z",
     "start_time": "2024-02-12T12:47:43.697675800Z"
    }
   },
   "id": "a682262315c7005f",
   "execution_count": 108
  },
  {
   "cell_type": "markdown",
   "source": [
    "### 파일 분류 및 이동"
   ],
   "metadata": {
    "collapsed": false
   },
   "id": "629cf9cac387dc06"
  },
  {
   "cell_type": "code",
   "outputs": [],
   "source": [
    "import shutil"
   ],
   "metadata": {
    "collapsed": false,
    "ExecuteTime": {
     "end_time": "2024-02-12T12:48:55.635179400Z",
     "start_time": "2024-02-12T12:48:55.611666100Z"
    }
   },
   "id": "a026d346862d4607",
   "execution_count": 109
  },
  {
   "cell_type": "code",
   "outputs": [],
   "source": [
    "# 파일을 폴더 분류에 맞게 이동\n",
    "def move_file(clean_path, trg_path, category_list):\n",
    "    folderlist = os.listdir(clean_path)  # 이동시킬 경로에 생성된 분류별 폴더 리스트화\n",
    "    filelist = os.listdir(trg_path)  # 이동시킬 파일명들을 리스트화\n",
    "    categorydict = {}  # 빈 딕셔너리 생성\n",
    "\n",
    "    # 파일명에 대한 폴더명을 딕셔너리로 저장\n",
    "    for file in filelist:\n",
    "\n",
    "        # 파일명 규칙에 맞지 않으면 '기타' 폴더로 분류\n",
    "        try:\n",
    "            temp_list = file.split(\"_\")\n",
    "            assert temp_list[-2] in category_list  # 카테고리가 맞지 않으면 에러 발생\n",
    "\n",
    "            categorydict[file] = temp_list[-2]  # {'파일명' : '분류'} 형태의 딕셔너리 생성\n",
    "        except:\n",
    "            categorydict[file] = '기타'\n",
    "\n",
    "    # 딕셔너리 정보 활용하여 파일 이동\n",
    "    for key, value in categorydict.items():\n",
    "        shutil.copy(trg_path + \"/\" + key, clean_path + \"/\" + value)"
   ],
   "metadata": {
    "collapsed": false,
    "ExecuteTime": {
     "end_time": "2024-02-12T12:57:46.956122600Z",
     "start_time": "2024-02-12T12:57:46.925003700Z"
    }
   },
   "id": "c4e5d5959a5fe372",
   "execution_count": 110
  },
  {
   "cell_type": "code",
   "outputs": [],
   "source": [
    "move_file(clean_path, trg_path, category_list)"
   ],
   "metadata": {
    "collapsed": false,
    "ExecuteTime": {
     "end_time": "2024-02-12T12:58:17.242666700Z",
     "start_time": "2024-02-12T12:58:17.218989200Z"
    }
   },
   "id": "6f2f14b1cc9db147",
   "execution_count": 111
  },
  {
   "cell_type": "code",
   "outputs": [],
   "source": [],
   "metadata": {
    "collapsed": false
   },
   "id": "6553213b99da80e"
  }
 ],
 "metadata": {
  "kernelspec": {
   "display_name": "Python 3",
   "language": "python",
   "name": "python3"
  },
  "language_info": {
   "codemirror_mode": {
    "name": "ipython",
    "version": 2
   },
   "file_extension": ".py",
   "mimetype": "text/x-python",
   "name": "python",
   "nbconvert_exporter": "python",
   "pygments_lexer": "ipython2",
   "version": "2.7.6"
  }
 },
 "nbformat": 4,
 "nbformat_minor": 5
}
