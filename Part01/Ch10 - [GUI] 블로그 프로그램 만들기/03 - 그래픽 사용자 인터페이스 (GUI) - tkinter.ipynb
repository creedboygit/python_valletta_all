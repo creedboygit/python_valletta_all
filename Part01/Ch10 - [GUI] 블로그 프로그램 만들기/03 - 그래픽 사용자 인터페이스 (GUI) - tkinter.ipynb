{
 "cells": [
  {
   "cell_type": "markdown",
   "source": [
    "# tkinter\n",
    "- tkinter 는 파이썬으로 GUI 프로그램을 만들 때 사용하는 대표적인 내장 라이브러리\n",
    "- PyQt5 와 같은 완성도 높은 외장 라이브러리도 잇지만, 간단한 수준에서 기능 구현을 위해 먼저 시도할 수 있는 라이브러리"
   ],
   "metadata": {
    "collapsed": false
   },
   "id": "6e6b1478f7deb8fe"
  },
  {
   "cell_type": "markdown",
   "source": [
    "# 창 띄우기"
   ],
   "metadata": {
    "collapsed": false
   },
   "id": "732cb0d8d2fe9593"
  },
  {
   "cell_type": "code",
   "outputs": [],
   "source": [
    "from tkinter import *\n",
    "\n",
    "root = Tk()  # tkinter 객체(창) 생성\n",
    "label = Label(root, text='Hello World!')  # root 창에 Label 컴포넌트(위젯) 추가\n",
    "label.pack()  # label 객체를 창에 표시\n",
    "\n",
    "root.mainloop()  # root 창을 메인 루프에 태우기\n",
    "# 종료되지 않고 이벤트 수신 등의 역할을 수행"
   ],
   "metadata": {
    "collapsed": false,
    "ExecuteTime": {
     "end_time": "2024-02-21T11:30:00.228517700Z",
     "start_time": "2024-02-21T11:29:54.407584400Z"
    }
   },
   "id": "fcec588680f58eb1",
   "execution_count": 1
  },
  {
   "cell_type": "markdown",
   "source": [
    "# 창 크기 조절"
   ],
   "metadata": {
    "collapsed": false
   },
   "id": "8f8a3bf5bab0a5f4"
  },
  {
   "cell_type": "code",
   "outputs": [],
   "source": [
    "from tkinter import *\n",
    "\n",
    "root = Tk()\n",
    "root.geometry('400x200')\n",
    "label = Label(root, text='hello world!')\n",
    "label.pack()\n",
    "\n",
    "root.mainloop()"
   ],
   "metadata": {
    "collapsed": false,
    "ExecuteTime": {
     "end_time": "2024-02-21T11:30:01.744528700Z",
     "start_time": "2024-02-21T11:30:00.256740300Z"
    }
   },
   "id": "cf310324f8a215dc",
   "execution_count": 2
  },
  {
   "cell_type": "code",
   "outputs": [],
   "source": [],
   "metadata": {
    "collapsed": false,
    "ExecuteTime": {
     "end_time": "2024-02-21T11:30:01.745529100Z",
     "start_time": "2024-02-21T11:30:01.743020200Z"
    }
   },
   "id": "c7f8960a81a29872",
   "execution_count": 2
  }
 ],
 "metadata": {
  "kernelspec": {
   "display_name": "Python 3",
   "language": "python",
   "name": "python3"
  },
  "language_info": {
   "codemirror_mode": {
    "name": "ipython",
    "version": 2
   },
   "file_extension": ".py",
   "mimetype": "text/x-python",
   "name": "python",
   "nbconvert_exporter": "python",
   "pygments_lexer": "ipython2",
   "version": "2.7.6"
  }
 },
 "nbformat": 4,
 "nbformat_minor": 5
}
