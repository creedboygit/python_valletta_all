{
 "cells": [
  {
   "cell_type": "markdown",
   "source": [
    "# 블로그 프로그램 만들기\n",
    "# 진행 순서\n",
    "1. 블로그 데이터 관리 모델\n",
    "2. GUI 컴포넌트 생성\n",
    "3. GUI 컴포넌트 배치\n",
    "4. 블로그 관리 함수\n",
    "5. 프로그램 실행"
   ],
   "metadata": {
    "collapsed": false
   },
   "id": "786f8736bcf66515"
  },
  {
   "cell_type": "markdown",
   "source": [
    "# 블로그 데이터 관리 모델"
   ],
   "metadata": {
    "collapsed": false
   },
   "id": "7e227e52312ab270"
  },
  {
   "cell_type": "code",
   "outputs": [],
   "source": [
    "import sqlite3\n",
    "import time"
   ],
   "metadata": {
    "collapsed": false,
    "ExecuteTime": {
     "end_time": "2024-02-20T13:05:41.771885700Z",
     "start_time": "2024-02-20T13:05:41.757372500Z"
    }
   },
   "id": "5e895f371a49724a",
   "execution_count": 70
  },
  {
   "cell_type": "markdown",
   "source": [
    "# 블로그 목록 조회 함수"
   ],
   "metadata": {
    "collapsed": false
   },
   "id": "1c33d34547049336"
  },
  {
   "cell_type": "code",
   "outputs": [],
   "source": [
    "def get_blog_list():\n",
    "    conn = sqlite3.connect('blog.db')\n",
    "    c = conn.cursor()\n",
    "    c.execute(\"select * from blog\")\n",
    "    result = c.fetchall()\n",
    "    conn.close()\n",
    "\n",
    "    return result"
   ],
   "metadata": {
    "collapsed": false,
    "ExecuteTime": {
     "end_time": "2024-02-20T13:05:41.781479500Z",
     "start_time": "2024-02-20T13:05:41.776158400Z"
    }
   },
   "id": "ed4f2861f19124fc",
   "execution_count": 71
  },
  {
   "cell_type": "code",
   "outputs": [
    {
     "data": {
      "text/plain": "[(1, '첫번째 블로그', '첫번째 작성글', '20240220'),\n (2, '두번째 블로그', '두번째 작성글', '20240220'),\n (3, '세번째 블로그', '세번째 작성글', '20240221')]"
     },
     "execution_count": 72,
     "metadata": {},
     "output_type": "execute_result"
    }
   ],
   "source": [
    "get_blog_list()"
   ],
   "metadata": {
    "collapsed": false,
    "ExecuteTime": {
     "end_time": "2024-02-20T13:05:41.788715Z",
     "start_time": "2024-02-20T13:05:41.779670500Z"
    }
   },
   "id": "ca538e522c5329c7",
   "execution_count": 72
  },
  {
   "cell_type": "markdown",
   "source": [
    "# 신규 블로그 글 작성 함수"
   ],
   "metadata": {
    "collapsed": false
   },
   "id": "10a87c07cddd43ed"
  },
  {
   "cell_type": "code",
   "outputs": [],
   "source": [
    "def add_blog(subject, content):  # 제목, 내용\n",
    "    conn = sqlite3.connect('blog.db')\n",
    "    conn.row_factory = sqlite3.Row\n",
    "\n",
    "    c = conn.cursor()\n",
    "    today = time.strftime('%Y%m%d')  # 현재 시간\n",
    "    c.execute(\"insert into blog (subject, content, date) values (?, ?, ?)\",\n",
    "              (subject, content, today))\n",
    "    conn.commit()\n",
    "    conn.close()"
   ],
   "metadata": {
    "collapsed": false,
    "ExecuteTime": {
     "end_time": "2024-02-20T13:05:41.789669500Z",
     "start_time": "2024-02-20T13:05:41.784985500Z"
    }
   },
   "id": "d1b1068dc88b6cb6",
   "execution_count": 73
  },
  {
   "cell_type": "markdown",
   "source": [
    "# 블로그 읽기 함수"
   ],
   "metadata": {
    "collapsed": false
   },
   "id": "5cfc62471503aece"
  },
  {
   "cell_type": "code",
   "outputs": [],
   "source": [
    "def read_blog(_id):\n",
    "    conn = sqlite3.connect('blog.db')\n",
    "    conn.row_factory = sqlite3.Row\n",
    "    c = conn.cursor()\n",
    "    c.execute(\"select * from blog where id = ?\", (_id,))\n",
    "    result = c.fetchone()\n",
    "    conn.close()\n",
    "\n",
    "    return result"
   ],
   "metadata": {
    "collapsed": false,
    "ExecuteTime": {
     "end_time": "2024-02-20T13:05:41.798883Z",
     "start_time": "2024-02-20T13:05:41.790721200Z"
    }
   },
   "id": "b8905e8265eab0ad",
   "execution_count": 74
  },
  {
   "cell_type": "markdown",
   "source": [
    "# 블로그 수정 함수"
   ],
   "metadata": {
    "collapsed": false
   },
   "id": "49a7ae23a25f8fcf"
  },
  {
   "cell_type": "code",
   "outputs": [],
   "source": [
    "def modify_blog(_id, subject, content):\n",
    "    conn = sqlite3.connect('blog.db')\n",
    "    conn.row_factory = sqlite3.Row\n",
    "    c = conn.cursor()\n",
    "    c.execute(\"update blog set subject = ?, content = ?, where id = ?\",\n",
    "              (subject, content, _id))\n",
    "    conn.commit()\n",
    "    conn.close()"
   ],
   "metadata": {
    "collapsed": false,
    "ExecuteTime": {
     "end_time": "2024-02-20T13:05:41.798883Z",
     "start_time": "2024-02-20T13:05:41.794365700Z"
    }
   },
   "id": "d3739ecf268c431d",
   "execution_count": 75
  },
  {
   "cell_type": "markdown",
   "source": [
    "# 블로그 글 삭제 함수"
   ],
   "metadata": {
    "collapsed": false
   },
   "id": "aaa01275f186263c"
  },
  {
   "cell_type": "code",
   "outputs": [],
   "source": [
    "def remove_blog(_id):\n",
    "    conn = sqlite3.connect('blog.db')\n",
    "    conn.row_factory = sqlite3.Row\n",
    "    c = conn.cursor()\n",
    "    c.execute(\"delete from blog where id = ?\", (_id,))\n",
    "    conn.commit()\n",
    "    conn.close()"
   ],
   "metadata": {
    "collapsed": false,
    "ExecuteTime": {
     "end_time": "2024-02-20T13:05:41.799883Z",
     "start_time": "2024-02-20T13:05:41.797170100Z"
    }
   },
   "id": "e8ff628f0d35769c",
   "execution_count": 76
  },
  {
   "cell_type": "markdown",
   "source": [
    "# GUI 컴포넌트 생성"
   ],
   "metadata": {
    "collapsed": false
   },
   "id": "18e2b09223333033"
  },
  {
   "cell_type": "code",
   "outputs": [
    {
     "data": {
      "text/plain": "''"
     },
     "execution_count": 77,
     "metadata": {},
     "output_type": "execute_result"
    }
   ],
   "source": [
    "from tkinter import *\n",
    "from tkinter.messagebox import *\n",
    "\n",
    "root = Tk()\n",
    "root.title('나의 블로그')"
   ],
   "metadata": {
    "collapsed": false,
    "ExecuteTime": {
     "end_time": "2024-02-20T13:05:41.839962200Z",
     "start_time": "2024-02-20T13:05:41.800245700Z"
    }
   },
   "id": "fdbfa1784c34cddc",
   "execution_count": 77
  },
  {
   "cell_type": "code",
   "outputs": [],
   "source": [
    "# 컴포넌트 생성\n",
    "listbox = Listbox(root, exportselection=False)  # 블로그 목록을 표시할 리스트박스\n",
    "label = Label(root, text='제목')  # 제목 문자열을 표시할 라벨\n",
    "entry = Entry(root)  # 제목에 해당하는 내용을 표시할 엔트리\n",
    "text = Text(root)  # 블로그 내용을 표시할 텍스트\n",
    "\n",
    "b1 = Button(root, text='생성')\n",
    "b2 = Button(root, text='수정')\n",
    "b3 = Button(root, text='삭제')"
   ],
   "metadata": {
    "collapsed": false,
    "ExecuteTime": {
     "end_time": "2024-02-20T13:05:41.839962200Z",
     "start_time": "2024-02-20T13:05:41.833910800Z"
    }
   },
   "id": "b1851cdecd2dcefe",
   "execution_count": 78
  },
  {
   "cell_type": "markdown",
   "source": [
    "# GUI 컴포넌트 배치\n",
    "grid() 함수의 row는 행을 뜻하고 column 은 열을 의미\n",
    "columnspan은 열을 병합하는 옵션\n",
    "sticky는 할당된 공간에서 고정되는 위치"
   ],
   "metadata": {
    "collapsed": false
   },
   "id": "7eb37f90edd497f"
  },
  {
   "cell_type": "code",
   "outputs": [],
   "source": [
    "# 컴포넌트 배치\n",
    "listbox.grid(row=0, column=0, columnspan=3, sticky='ew')\n",
    "label.grid(row=1, column=0)\n",
    "\n",
    "entry.grid(row=1, column=1, columnspan=2, sticky='ew')\n",
    "text.grid(row=2, column=0, columnspan=3)\n",
    "b1.grid(row=3, column=0, sticky='ew')\n",
    "b2.grid(row=3, column=1, sticky='ew')\n",
    "b3.grid(row=3, column=2, sticky='ew')"
   ],
   "metadata": {
    "collapsed": false,
    "ExecuteTime": {
     "end_time": "2024-02-20T13:05:41.840524800Z",
     "start_time": "2024-02-20T13:05:41.837316700Z"
    }
   },
   "id": "96449c1d567faf22",
   "execution_count": 79
  },
  {
   "cell_type": "code",
   "outputs": [],
   "source": [
    "# 컴포넌트 확인\n",
    "root.mainloop()"
   ],
   "metadata": {
    "collapsed": false,
    "ExecuteTime": {
     "end_time": "2024-02-20T13:05:45.852325600Z",
     "start_time": "2024-02-20T13:05:41.840524800Z"
    }
   },
   "id": "26b821b641cdba50",
   "execution_count": 80
  },
  {
   "cell_type": "markdown",
   "source": [
    "# 블로그 목록 불러오기"
   ],
   "metadata": {
    "collapsed": false
   },
   "id": "2750e7bd1427a503"
  },
  {
   "cell_type": "code",
   "outputs": [],
   "source": [
    "# 블로그 데이터 관리 모델\n",
    "from blog_data_model import *"
   ],
   "metadata": {
    "collapsed": false,
    "ExecuteTime": {
     "end_time": "2024-02-20T13:11:32.544720700Z",
     "start_time": "2024-02-20T13:11:32.535166500Z"
    }
   },
   "id": "94678d4587b9f04",
   "execution_count": 82
  },
  {
   "cell_type": "code",
   "outputs": [],
   "source": [
    "# 블로그 행 인덱스 저장 리스트\n",
    "ROW_IDS = []"
   ],
   "metadata": {
    "collapsed": false,
    "ExecuteTime": {
     "end_time": "2024-02-20T13:11:37.069690500Z",
     "start_time": "2024-02-20T13:11:37.018235600Z"
    }
   },
   "id": "4490ce3492e1ef23",
   "execution_count": 83
  },
  {
   "cell_type": "code",
   "outputs": [],
   "source": [
    "def load_blog_list():\n",
    "    listbox.delete(0, END)  # 리스트박스 초기화\n",
    "    blog_list = get_blog_list()\n",
    "\n",
    "    for i, blog in enumerate(blog_list):\n",
    "        ROW_IDS.append(blog[0])  # 블로그 행 인덱스(ID) 저장\n",
    "\n",
    "        listbox.insert(i, '[%s/%s/%s] %s ' %\n",
    "                       blog[3][:4], blog[3][4:6], blog[3][6:], blog[1])  # 리스트박스에 추가"
   ],
   "metadata": {
    "collapsed": false,
    "ExecuteTime": {
     "end_time": "2024-02-20T13:14:26.891502500Z",
     "start_time": "2024-02-20T13:14:26.824366500Z"
    }
   },
   "id": "b97920a0bcb1471d",
   "execution_count": 84
  },
  {
   "cell_type": "code",
   "outputs": [
    {
     "ename": "TclError",
     "evalue": "can't invoke \"bind\" command: application has been destroyed",
     "output_type": "error",
     "traceback": [
      "\u001B[1;31m---------------------------------------------------------------------------\u001B[0m",
      "\u001B[1;31mTclError\u001B[0m                                  Traceback (most recent call last)",
      "Cell \u001B[1;32mIn[85], line 11\u001B[0m\n\u001B[0;32m      7\u001B[0m     text\u001B[38;5;241m.\u001B[39mdelete(\u001B[38;5;241m1.0\u001B[39m, END)\n\u001B[0;32m      8\u001B[0m     text\u001B[38;5;241m.\u001B[39minsert(\u001B[38;5;241m1.0\u001B[39m, blog[\u001B[38;5;241m2\u001B[39m])  \u001B[38;5;66;03m# 테그스테 내용 추가\u001B[39;00m\n\u001B[1;32m---> 11\u001B[0m \u001B[43mlistbox\u001B[49m\u001B[38;5;241;43m.\u001B[39;49m\u001B[43mbind\u001B[49m\u001B[43m(\u001B[49m\u001B[38;5;124;43m'\u001B[39;49m\u001B[38;5;124;43m<<ListboxSelect>>\u001B[39;49m\u001B[38;5;124;43m'\u001B[39;49m\u001B[43m,\u001B[49m\u001B[43m \u001B[49m\u001B[43mget_blog\u001B[49m\u001B[43m)\u001B[49m  \u001B[38;5;66;03m# 리스트박스에 get_blog 함수 바인딩\u001B[39;00m\n",
      "File \u001B[1;32m~\\.pyenv\\pyenv-win\\versions\\3.12.1\\Lib\\tkinter\\__init__.py:1448\u001B[0m, in \u001B[0;36mMisc.bind\u001B[1;34m(self, sequence, func, add)\u001B[0m\n\u001B[0;32m   1409\u001B[0m \u001B[38;5;28;01mdef\u001B[39;00m \u001B[38;5;21mbind\u001B[39m(\u001B[38;5;28mself\u001B[39m, sequence\u001B[38;5;241m=\u001B[39m\u001B[38;5;28;01mNone\u001B[39;00m, func\u001B[38;5;241m=\u001B[39m\u001B[38;5;28;01mNone\u001B[39;00m, add\u001B[38;5;241m=\u001B[39m\u001B[38;5;28;01mNone\u001B[39;00m):\n\u001B[0;32m   1410\u001B[0m \u001B[38;5;250m    \u001B[39m\u001B[38;5;124;03m\"\"\"Bind to this widget at event SEQUENCE a call to function FUNC.\u001B[39;00m\n\u001B[0;32m   1411\u001B[0m \n\u001B[0;32m   1412\u001B[0m \u001B[38;5;124;03m    SEQUENCE is a string of concatenated event\u001B[39;00m\n\u001B[1;32m   (...)\u001B[0m\n\u001B[0;32m   1445\u001B[0m \u001B[38;5;124;03m    If FUNC or SEQUENCE is omitted the bound function or list\u001B[39;00m\n\u001B[0;32m   1446\u001B[0m \u001B[38;5;124;03m    of bound events are returned.\"\"\"\u001B[39;00m\n\u001B[1;32m-> 1448\u001B[0m     \u001B[38;5;28;01mreturn\u001B[39;00m \u001B[38;5;28;43mself\u001B[39;49m\u001B[38;5;241;43m.\u001B[39;49m\u001B[43m_bind\u001B[49m\u001B[43m(\u001B[49m\u001B[43m(\u001B[49m\u001B[38;5;124;43m'\u001B[39;49m\u001B[38;5;124;43mbind\u001B[39;49m\u001B[38;5;124;43m'\u001B[39;49m\u001B[43m,\u001B[49m\u001B[43m \u001B[49m\u001B[38;5;28;43mself\u001B[39;49m\u001B[38;5;241;43m.\u001B[39;49m\u001B[43m_w\u001B[49m\u001B[43m)\u001B[49m\u001B[43m,\u001B[49m\u001B[43m \u001B[49m\u001B[43msequence\u001B[49m\u001B[43m,\u001B[49m\u001B[43m \u001B[49m\u001B[43mfunc\u001B[49m\u001B[43m,\u001B[49m\u001B[43m \u001B[49m\u001B[43madd\u001B[49m\u001B[43m)\u001B[49m\n",
      "File \u001B[1;32m~\\.pyenv\\pyenv-win\\versions\\3.12.1\\Lib\\tkinter\\__init__.py:1402\u001B[0m, in \u001B[0;36mMisc._bind\u001B[1;34m(self, what, sequence, func, add, needcleanup)\u001B[0m\n\u001B[0;32m   1396\u001B[0m     funcid \u001B[38;5;241m=\u001B[39m \u001B[38;5;28mself\u001B[39m\u001B[38;5;241m.\u001B[39m_register(func, \u001B[38;5;28mself\u001B[39m\u001B[38;5;241m.\u001B[39m_substitute,\n\u001B[0;32m   1397\u001B[0m                 needcleanup)\n\u001B[0;32m   1398\u001B[0m     cmd \u001B[38;5;241m=\u001B[39m (\u001B[38;5;124m'\u001B[39m\u001B[38;5;132;01m%s\u001B[39;00m\u001B[38;5;124mif \u001B[39m\u001B[38;5;124m{\u001B[39m\u001B[38;5;124m\"\u001B[39m\u001B[38;5;124m[\u001B[39m\u001B[38;5;132;01m%s\u001B[39;00m\u001B[38;5;124m \u001B[39m\u001B[38;5;132;01m%s\u001B[39;00m\u001B[38;5;124m]\u001B[39m\u001B[38;5;124m\"\u001B[39m\u001B[38;5;124m == \u001B[39m\u001B[38;5;124m\"\u001B[39m\u001B[38;5;124mbreak\u001B[39m\u001B[38;5;124m\"\u001B[39m\u001B[38;5;124m} break\u001B[39m\u001B[38;5;130;01m\\n\u001B[39;00m\u001B[38;5;124m'\u001B[39m\n\u001B[0;32m   1399\u001B[0m            \u001B[38;5;241m%\u001B[39m\n\u001B[0;32m   1400\u001B[0m            (add \u001B[38;5;129;01mand\u001B[39;00m \u001B[38;5;124m'\u001B[39m\u001B[38;5;124m+\u001B[39m\u001B[38;5;124m'\u001B[39m \u001B[38;5;129;01mor\u001B[39;00m \u001B[38;5;124m'\u001B[39m\u001B[38;5;124m'\u001B[39m,\n\u001B[0;32m   1401\u001B[0m         funcid, \u001B[38;5;28mself\u001B[39m\u001B[38;5;241m.\u001B[39m_subst_format_str))\n\u001B[1;32m-> 1402\u001B[0m     \u001B[38;5;28;43mself\u001B[39;49m\u001B[38;5;241;43m.\u001B[39;49m\u001B[43mtk\u001B[49m\u001B[38;5;241;43m.\u001B[39;49m\u001B[43mcall\u001B[49m\u001B[43m(\u001B[49m\u001B[43mwhat\u001B[49m\u001B[43m \u001B[49m\u001B[38;5;241;43m+\u001B[39;49m\u001B[43m \u001B[49m\u001B[43m(\u001B[49m\u001B[43msequence\u001B[49m\u001B[43m,\u001B[49m\u001B[43m \u001B[49m\u001B[43mcmd\u001B[49m\u001B[43m)\u001B[49m\u001B[43m)\u001B[49m\n\u001B[0;32m   1403\u001B[0m     \u001B[38;5;28;01mreturn\u001B[39;00m funcid\n\u001B[0;32m   1404\u001B[0m \u001B[38;5;28;01melif\u001B[39;00m sequence:\n",
      "\u001B[1;31mTclError\u001B[0m: can't invoke \"bind\" command: application has been destroyed"
     ]
    }
   ],
   "source": [
    "# 블로그 글 가져오기\n",
    "def get_blog(event):\n",
    "    _id = ROW_IDS[listbox.curselection()[0]]  # 마우스 커서가 선택한 요소의 위치(인덱스) 반환\n",
    "    blog = read_blog(_id)  # 해당 위치 블로그 읽기\n",
    "    entry.delete(0, END)\n",
    "    entry.insert(0, blog[1])  # 엔트리에 제목 추가\n",
    "    text.delete(1.0, END)\n",
    "    text.insert(1.0, blog[2])  # 테그스테 내용 추가\n",
    "\n",
    "\n",
    "listbox.bind('<<ListboxSelect>>', get_blog)  # 리스트박스에 get_blog 함수 바인딩"
   ],
   "metadata": {
    "collapsed": false,
    "ExecuteTime": {
     "end_time": "2024-02-20T13:20:16.482113100Z",
     "start_time": "2024-02-20T13:20:16.467453600Z"
    }
   },
   "id": "e424667ffeade3c4",
   "execution_count": 85
  },
  {
   "cell_type": "markdown",
   "source": [
    "# 생성 버튼 이벤트 함수"
   ],
   "metadata": {
    "collapsed": false
   },
   "id": "a2779e84962a7e30"
  },
  {
   "cell_type": "code",
   "outputs": [
    {
     "ename": "TclError",
     "evalue": "can't invoke \"bind\" command: application has been destroyed",
     "output_type": "error",
     "traceback": [
      "\u001B[1;31m---------------------------------------------------------------------------\u001B[0m",
      "\u001B[1;31mTclError\u001B[0m                                  Traceback (most recent call last)",
      "Cell \u001B[1;32mIn[86], line 10\u001B[0m\n\u001B[0;32m      7\u001B[0m         \u001B[38;5;28;01mreturn\u001B[39;00m\n\u001B[0;32m      8\u001B[0m     add_blog(subject, content)  \u001B[38;5;66;03m# 블로그 추가\u001B[39;00m\n\u001B[1;32m---> 10\u001B[0m \u001B[43mb1\u001B[49m\u001B[38;5;241;43m.\u001B[39;49m\u001B[43mbind\u001B[49m\u001B[43m(\u001B[49m\u001B[38;5;124;43m'\u001B[39;49m\u001B[38;5;124;43m<Button-1>\u001B[39;49m\u001B[38;5;124;43m'\u001B[39;49m\u001B[43m,\u001B[49m\u001B[43m \u001B[49m\u001B[43mbtn_add\u001B[49m\u001B[43m)\u001B[49m \u001B[38;5;66;03m# 생성 버튼에 btn_add 함수 바인딩\u001B[39;00m\n",
      "File \u001B[1;32m~\\.pyenv\\pyenv-win\\versions\\3.12.1\\Lib\\tkinter\\__init__.py:1448\u001B[0m, in \u001B[0;36mMisc.bind\u001B[1;34m(self, sequence, func, add)\u001B[0m\n\u001B[0;32m   1409\u001B[0m \u001B[38;5;28;01mdef\u001B[39;00m \u001B[38;5;21mbind\u001B[39m(\u001B[38;5;28mself\u001B[39m, sequence\u001B[38;5;241m=\u001B[39m\u001B[38;5;28;01mNone\u001B[39;00m, func\u001B[38;5;241m=\u001B[39m\u001B[38;5;28;01mNone\u001B[39;00m, add\u001B[38;5;241m=\u001B[39m\u001B[38;5;28;01mNone\u001B[39;00m):\n\u001B[0;32m   1410\u001B[0m \u001B[38;5;250m    \u001B[39m\u001B[38;5;124;03m\"\"\"Bind to this widget at event SEQUENCE a call to function FUNC.\u001B[39;00m\n\u001B[0;32m   1411\u001B[0m \n\u001B[0;32m   1412\u001B[0m \u001B[38;5;124;03m    SEQUENCE is a string of concatenated event\u001B[39;00m\n\u001B[1;32m   (...)\u001B[0m\n\u001B[0;32m   1445\u001B[0m \u001B[38;5;124;03m    If FUNC or SEQUENCE is omitted the bound function or list\u001B[39;00m\n\u001B[0;32m   1446\u001B[0m \u001B[38;5;124;03m    of bound events are returned.\"\"\"\u001B[39;00m\n\u001B[1;32m-> 1448\u001B[0m     \u001B[38;5;28;01mreturn\u001B[39;00m \u001B[38;5;28;43mself\u001B[39;49m\u001B[38;5;241;43m.\u001B[39;49m\u001B[43m_bind\u001B[49m\u001B[43m(\u001B[49m\u001B[43m(\u001B[49m\u001B[38;5;124;43m'\u001B[39;49m\u001B[38;5;124;43mbind\u001B[39;49m\u001B[38;5;124;43m'\u001B[39;49m\u001B[43m,\u001B[49m\u001B[43m \u001B[49m\u001B[38;5;28;43mself\u001B[39;49m\u001B[38;5;241;43m.\u001B[39;49m\u001B[43m_w\u001B[49m\u001B[43m)\u001B[49m\u001B[43m,\u001B[49m\u001B[43m \u001B[49m\u001B[43msequence\u001B[49m\u001B[43m,\u001B[49m\u001B[43m \u001B[49m\u001B[43mfunc\u001B[49m\u001B[43m,\u001B[49m\u001B[43m \u001B[49m\u001B[43madd\u001B[49m\u001B[43m)\u001B[49m\n",
      "File \u001B[1;32m~\\.pyenv\\pyenv-win\\versions\\3.12.1\\Lib\\tkinter\\__init__.py:1402\u001B[0m, in \u001B[0;36mMisc._bind\u001B[1;34m(self, what, sequence, func, add, needcleanup)\u001B[0m\n\u001B[0;32m   1396\u001B[0m     funcid \u001B[38;5;241m=\u001B[39m \u001B[38;5;28mself\u001B[39m\u001B[38;5;241m.\u001B[39m_register(func, \u001B[38;5;28mself\u001B[39m\u001B[38;5;241m.\u001B[39m_substitute,\n\u001B[0;32m   1397\u001B[0m                 needcleanup)\n\u001B[0;32m   1398\u001B[0m     cmd \u001B[38;5;241m=\u001B[39m (\u001B[38;5;124m'\u001B[39m\u001B[38;5;132;01m%s\u001B[39;00m\u001B[38;5;124mif \u001B[39m\u001B[38;5;124m{\u001B[39m\u001B[38;5;124m\"\u001B[39m\u001B[38;5;124m[\u001B[39m\u001B[38;5;132;01m%s\u001B[39;00m\u001B[38;5;124m \u001B[39m\u001B[38;5;132;01m%s\u001B[39;00m\u001B[38;5;124m]\u001B[39m\u001B[38;5;124m\"\u001B[39m\u001B[38;5;124m == \u001B[39m\u001B[38;5;124m\"\u001B[39m\u001B[38;5;124mbreak\u001B[39m\u001B[38;5;124m\"\u001B[39m\u001B[38;5;124m} break\u001B[39m\u001B[38;5;130;01m\\n\u001B[39;00m\u001B[38;5;124m'\u001B[39m\n\u001B[0;32m   1399\u001B[0m            \u001B[38;5;241m%\u001B[39m\n\u001B[0;32m   1400\u001B[0m            (add \u001B[38;5;129;01mand\u001B[39;00m \u001B[38;5;124m'\u001B[39m\u001B[38;5;124m+\u001B[39m\u001B[38;5;124m'\u001B[39m \u001B[38;5;129;01mor\u001B[39;00m \u001B[38;5;124m'\u001B[39m\u001B[38;5;124m'\u001B[39m,\n\u001B[0;32m   1401\u001B[0m         funcid, \u001B[38;5;28mself\u001B[39m\u001B[38;5;241m.\u001B[39m_subst_format_str))\n\u001B[1;32m-> 1402\u001B[0m     \u001B[38;5;28;43mself\u001B[39;49m\u001B[38;5;241;43m.\u001B[39;49m\u001B[43mtk\u001B[49m\u001B[38;5;241;43m.\u001B[39;49m\u001B[43mcall\u001B[49m\u001B[43m(\u001B[49m\u001B[43mwhat\u001B[49m\u001B[43m \u001B[49m\u001B[38;5;241;43m+\u001B[39;49m\u001B[43m \u001B[49m\u001B[43m(\u001B[49m\u001B[43msequence\u001B[49m\u001B[43m,\u001B[49m\u001B[43m \u001B[49m\u001B[43mcmd\u001B[49m\u001B[43m)\u001B[49m\u001B[43m)\u001B[49m\n\u001B[0;32m   1403\u001B[0m     \u001B[38;5;28;01mreturn\u001B[39;00m funcid\n\u001B[0;32m   1404\u001B[0m \u001B[38;5;28;01melif\u001B[39;00m sequence:\n",
      "\u001B[1;31mTclError\u001B[0m: can't invoke \"bind\" command: application has been destroyed"
     ]
    }
   ],
   "source": [
    "def btn_add(event):\n",
    "    subject = entry.get().strip()  # 엔트리(제목란)에 입력한 값\n",
    "    content = text.get(1.0, END).strip()  # 텍스트(내용란)에 입력한 값\n",
    "\n",
    "    if not subject or not content:  # 제목 또는 내용이 없을 시 오류창 발생\n",
    "        showerror(\"오류\", \"제목과 내용을 입력해 주세요.\")\n",
    "        return\n",
    "    add_blog(subject, content)  # 블로그 추가\n",
    "\n",
    "\n",
    "b1.bind('<Button-1>', btn_add)  # 생성 버튼에 btn_add 함수 바인딩"
   ],
   "metadata": {
    "collapsed": false,
    "ExecuteTime": {
     "end_time": "2024-02-20T13:24:05.410353900Z",
     "start_time": "2024-02-20T13:24:05.341281400Z"
    }
   },
   "id": "e0b233bc5e4d4120",
   "execution_count": 86
  },
  {
   "cell_type": "markdown",
   "source": [
    "# 수정 버튼 이벤트 함수"
   ],
   "metadata": {
    "collapsed": false
   },
   "id": "e28e915a67ae5240"
  },
  {
   "cell_type": "code",
   "outputs": [
    {
     "ename": "TclError",
     "evalue": "can't invoke \"bind\" command: application has been destroyed",
     "output_type": "error",
     "traceback": [
      "\u001B[1;31m---------------------------------------------------------------------------\u001B[0m",
      "\u001B[1;31mTclError\u001B[0m                                  Traceback (most recent call last)",
      "Cell \u001B[1;32mIn[87], line 16\u001B[0m\n\u001B[0;32m     12\u001B[0m         \u001B[38;5;28;01mreturn\u001B[39;00m\n\u001B[0;32m     14\u001B[0m     modify_blog(_id, subject, content) \u001B[38;5;66;03m# 블로그 수정\u001B[39;00m\n\u001B[1;32m---> 16\u001B[0m \u001B[43mb2\u001B[49m\u001B[38;5;241;43m.\u001B[39;49m\u001B[43mbind\u001B[49m\u001B[43m(\u001B[49m\u001B[38;5;124;43m'\u001B[39;49m\u001B[38;5;124;43m<Button-1>\u001B[39;49m\u001B[38;5;124;43m'\u001B[39;49m\u001B[43m,\u001B[49m\u001B[43m \u001B[49m\u001B[43mbtn_modify\u001B[49m\u001B[43m)\u001B[49m \u001B[38;5;66;03m# 수정 버튼에 btn_modify 함수 바인딩\u001B[39;00m\n",
      "File \u001B[1;32m~\\.pyenv\\pyenv-win\\versions\\3.12.1\\Lib\\tkinter\\__init__.py:1448\u001B[0m, in \u001B[0;36mMisc.bind\u001B[1;34m(self, sequence, func, add)\u001B[0m\n\u001B[0;32m   1409\u001B[0m \u001B[38;5;28;01mdef\u001B[39;00m \u001B[38;5;21mbind\u001B[39m(\u001B[38;5;28mself\u001B[39m, sequence\u001B[38;5;241m=\u001B[39m\u001B[38;5;28;01mNone\u001B[39;00m, func\u001B[38;5;241m=\u001B[39m\u001B[38;5;28;01mNone\u001B[39;00m, add\u001B[38;5;241m=\u001B[39m\u001B[38;5;28;01mNone\u001B[39;00m):\n\u001B[0;32m   1410\u001B[0m \u001B[38;5;250m    \u001B[39m\u001B[38;5;124;03m\"\"\"Bind to this widget at event SEQUENCE a call to function FUNC.\u001B[39;00m\n\u001B[0;32m   1411\u001B[0m \n\u001B[0;32m   1412\u001B[0m \u001B[38;5;124;03m    SEQUENCE is a string of concatenated event\u001B[39;00m\n\u001B[1;32m   (...)\u001B[0m\n\u001B[0;32m   1445\u001B[0m \u001B[38;5;124;03m    If FUNC or SEQUENCE is omitted the bound function or list\u001B[39;00m\n\u001B[0;32m   1446\u001B[0m \u001B[38;5;124;03m    of bound events are returned.\"\"\"\u001B[39;00m\n\u001B[1;32m-> 1448\u001B[0m     \u001B[38;5;28;01mreturn\u001B[39;00m \u001B[38;5;28;43mself\u001B[39;49m\u001B[38;5;241;43m.\u001B[39;49m\u001B[43m_bind\u001B[49m\u001B[43m(\u001B[49m\u001B[43m(\u001B[49m\u001B[38;5;124;43m'\u001B[39;49m\u001B[38;5;124;43mbind\u001B[39;49m\u001B[38;5;124;43m'\u001B[39;49m\u001B[43m,\u001B[49m\u001B[43m \u001B[49m\u001B[38;5;28;43mself\u001B[39;49m\u001B[38;5;241;43m.\u001B[39;49m\u001B[43m_w\u001B[49m\u001B[43m)\u001B[49m\u001B[43m,\u001B[49m\u001B[43m \u001B[49m\u001B[43msequence\u001B[49m\u001B[43m,\u001B[49m\u001B[43m \u001B[49m\u001B[43mfunc\u001B[49m\u001B[43m,\u001B[49m\u001B[43m \u001B[49m\u001B[43madd\u001B[49m\u001B[43m)\u001B[49m\n",
      "File \u001B[1;32m~\\.pyenv\\pyenv-win\\versions\\3.12.1\\Lib\\tkinter\\__init__.py:1402\u001B[0m, in \u001B[0;36mMisc._bind\u001B[1;34m(self, what, sequence, func, add, needcleanup)\u001B[0m\n\u001B[0;32m   1396\u001B[0m     funcid \u001B[38;5;241m=\u001B[39m \u001B[38;5;28mself\u001B[39m\u001B[38;5;241m.\u001B[39m_register(func, \u001B[38;5;28mself\u001B[39m\u001B[38;5;241m.\u001B[39m_substitute,\n\u001B[0;32m   1397\u001B[0m                 needcleanup)\n\u001B[0;32m   1398\u001B[0m     cmd \u001B[38;5;241m=\u001B[39m (\u001B[38;5;124m'\u001B[39m\u001B[38;5;132;01m%s\u001B[39;00m\u001B[38;5;124mif \u001B[39m\u001B[38;5;124m{\u001B[39m\u001B[38;5;124m\"\u001B[39m\u001B[38;5;124m[\u001B[39m\u001B[38;5;132;01m%s\u001B[39;00m\u001B[38;5;124m \u001B[39m\u001B[38;5;132;01m%s\u001B[39;00m\u001B[38;5;124m]\u001B[39m\u001B[38;5;124m\"\u001B[39m\u001B[38;5;124m == \u001B[39m\u001B[38;5;124m\"\u001B[39m\u001B[38;5;124mbreak\u001B[39m\u001B[38;5;124m\"\u001B[39m\u001B[38;5;124m} break\u001B[39m\u001B[38;5;130;01m\\n\u001B[39;00m\u001B[38;5;124m'\u001B[39m\n\u001B[0;32m   1399\u001B[0m            \u001B[38;5;241m%\u001B[39m\n\u001B[0;32m   1400\u001B[0m            (add \u001B[38;5;129;01mand\u001B[39;00m \u001B[38;5;124m'\u001B[39m\u001B[38;5;124m+\u001B[39m\u001B[38;5;124m'\u001B[39m \u001B[38;5;129;01mor\u001B[39;00m \u001B[38;5;124m'\u001B[39m\u001B[38;5;124m'\u001B[39m,\n\u001B[0;32m   1401\u001B[0m         funcid, \u001B[38;5;28mself\u001B[39m\u001B[38;5;241m.\u001B[39m_subst_format_str))\n\u001B[1;32m-> 1402\u001B[0m     \u001B[38;5;28;43mself\u001B[39;49m\u001B[38;5;241;43m.\u001B[39;49m\u001B[43mtk\u001B[49m\u001B[38;5;241;43m.\u001B[39;49m\u001B[43mcall\u001B[49m\u001B[43m(\u001B[49m\u001B[43mwhat\u001B[49m\u001B[43m \u001B[49m\u001B[38;5;241;43m+\u001B[39;49m\u001B[43m \u001B[49m\u001B[43m(\u001B[49m\u001B[43msequence\u001B[49m\u001B[43m,\u001B[49m\u001B[43m \u001B[49m\u001B[43mcmd\u001B[49m\u001B[43m)\u001B[49m\u001B[43m)\u001B[49m\n\u001B[0;32m   1403\u001B[0m     \u001B[38;5;28;01mreturn\u001B[39;00m funcid\n\u001B[0;32m   1404\u001B[0m \u001B[38;5;28;01melif\u001B[39;00m sequence:\n",
      "\u001B[1;31mTclError\u001B[0m: can't invoke \"bind\" command: application has been destroyed"
     ]
    }
   ],
   "source": [
    "def btn_modify(event):\n",
    "    sel = listbox.curselection()  # 리스트박스 선택 값 가져오기\n",
    "    if not sel:  # 선택값이 없을 경우\n",
    "        showerror(\"오류\", \"리스트를 먼저 선택해 주세요.\")\n",
    "    else:\n",
    "        _id = ROW_IDS[sel[0]]\n",
    "    subject = entry.get().strip()  # 엔트리(제목란)에 수정한 값\n",
    "    content = text.get(1.0, END).strip()  # 텍스트(내용란)에 수정한 값\n",
    "\n",
    "    if not subject or not content:  # 제목 또는 내용이 없을 시 오류 발생\n",
    "        showerror(\"오류\", \"제목 또는 내용을 입력해 주세요.\")\n",
    "        return\n",
    "\n",
    "    modify_blog(_id, subject, content)  # 블로그 수정\n",
    "\n",
    "\n",
    "b2.bind('<Button-1>', btn_modify)  # 수정 버튼에 btn_modify 함수 바인딩"
   ],
   "metadata": {
    "collapsed": false,
    "ExecuteTime": {
     "end_time": "2024-02-20T13:27:33.565606400Z",
     "start_time": "2024-02-20T13:27:33.483389700Z"
    }
   },
   "id": "63162ccb0a2663ff",
   "execution_count": 87
  },
  {
   "cell_type": "markdown",
   "source": [
    "# 삭제 버튼 이벤트 함수"
   ],
   "metadata": {
    "collapsed": false
   },
   "id": "d8efd391cadf93f0"
  },
  {
   "cell_type": "code",
   "outputs": [
    {
     "ename": "TclError",
     "evalue": "can't invoke \"bind\" command: application has been destroyed",
     "output_type": "error",
     "traceback": [
      "\u001B[1;31m---------------------------------------------------------------------------\u001B[0m",
      "\u001B[1;31mTclError\u001B[0m                                  Traceback (most recent call last)",
      "Cell \u001B[1;32mIn[88], line 12\u001B[0m\n\u001B[0;32m      9\u001B[0m     \u001B[38;5;28;01mif\u001B[39;00m askyesno(\u001B[38;5;124m\"\u001B[39m\u001B[38;5;124m확인\u001B[39m\u001B[38;5;124m\"\u001B[39m, \u001B[38;5;124m\"\u001B[39m\u001B[38;5;124m정말로 삭제하시겠습니까?\u001B[39m\u001B[38;5;124m\"\u001B[39m): \u001B[38;5;66;03m# 확인 창 발생\u001B[39;00m\n\u001B[0;32m     10\u001B[0m         remove_blog(_id) \u001B[38;5;66;03m# 블로그 삭제\u001B[39;00m\n\u001B[1;32m---> 12\u001B[0m \u001B[43mb3\u001B[49m\u001B[38;5;241;43m.\u001B[39;49m\u001B[43mbind\u001B[49m\u001B[43m(\u001B[49m\u001B[38;5;124;43m'\u001B[39;49m\u001B[38;5;124;43m<Button-1>\u001B[39;49m\u001B[38;5;124;43m'\u001B[39;49m\u001B[43m,\u001B[49m\u001B[43m \u001B[49m\u001B[43mbtn_remove\u001B[49m\u001B[43m)\u001B[49m \u001B[38;5;66;03m# 삭제 버튼에 btn_remove 함수 바인딩\u001B[39;00m\n",
      "File \u001B[1;32m~\\.pyenv\\pyenv-win\\versions\\3.12.1\\Lib\\tkinter\\__init__.py:1448\u001B[0m, in \u001B[0;36mMisc.bind\u001B[1;34m(self, sequence, func, add)\u001B[0m\n\u001B[0;32m   1409\u001B[0m \u001B[38;5;28;01mdef\u001B[39;00m \u001B[38;5;21mbind\u001B[39m(\u001B[38;5;28mself\u001B[39m, sequence\u001B[38;5;241m=\u001B[39m\u001B[38;5;28;01mNone\u001B[39;00m, func\u001B[38;5;241m=\u001B[39m\u001B[38;5;28;01mNone\u001B[39;00m, add\u001B[38;5;241m=\u001B[39m\u001B[38;5;28;01mNone\u001B[39;00m):\n\u001B[0;32m   1410\u001B[0m \u001B[38;5;250m    \u001B[39m\u001B[38;5;124;03m\"\"\"Bind to this widget at event SEQUENCE a call to function FUNC.\u001B[39;00m\n\u001B[0;32m   1411\u001B[0m \n\u001B[0;32m   1412\u001B[0m \u001B[38;5;124;03m    SEQUENCE is a string of concatenated event\u001B[39;00m\n\u001B[1;32m   (...)\u001B[0m\n\u001B[0;32m   1445\u001B[0m \u001B[38;5;124;03m    If FUNC or SEQUENCE is omitted the bound function or list\u001B[39;00m\n\u001B[0;32m   1446\u001B[0m \u001B[38;5;124;03m    of bound events are returned.\"\"\"\u001B[39;00m\n\u001B[1;32m-> 1448\u001B[0m     \u001B[38;5;28;01mreturn\u001B[39;00m \u001B[38;5;28;43mself\u001B[39;49m\u001B[38;5;241;43m.\u001B[39;49m\u001B[43m_bind\u001B[49m\u001B[43m(\u001B[49m\u001B[43m(\u001B[49m\u001B[38;5;124;43m'\u001B[39;49m\u001B[38;5;124;43mbind\u001B[39;49m\u001B[38;5;124;43m'\u001B[39;49m\u001B[43m,\u001B[49m\u001B[43m \u001B[49m\u001B[38;5;28;43mself\u001B[39;49m\u001B[38;5;241;43m.\u001B[39;49m\u001B[43m_w\u001B[49m\u001B[43m)\u001B[49m\u001B[43m,\u001B[49m\u001B[43m \u001B[49m\u001B[43msequence\u001B[49m\u001B[43m,\u001B[49m\u001B[43m \u001B[49m\u001B[43mfunc\u001B[49m\u001B[43m,\u001B[49m\u001B[43m \u001B[49m\u001B[43madd\u001B[49m\u001B[43m)\u001B[49m\n",
      "File \u001B[1;32m~\\.pyenv\\pyenv-win\\versions\\3.12.1\\Lib\\tkinter\\__init__.py:1402\u001B[0m, in \u001B[0;36mMisc._bind\u001B[1;34m(self, what, sequence, func, add, needcleanup)\u001B[0m\n\u001B[0;32m   1396\u001B[0m     funcid \u001B[38;5;241m=\u001B[39m \u001B[38;5;28mself\u001B[39m\u001B[38;5;241m.\u001B[39m_register(func, \u001B[38;5;28mself\u001B[39m\u001B[38;5;241m.\u001B[39m_substitute,\n\u001B[0;32m   1397\u001B[0m                 needcleanup)\n\u001B[0;32m   1398\u001B[0m     cmd \u001B[38;5;241m=\u001B[39m (\u001B[38;5;124m'\u001B[39m\u001B[38;5;132;01m%s\u001B[39;00m\u001B[38;5;124mif \u001B[39m\u001B[38;5;124m{\u001B[39m\u001B[38;5;124m\"\u001B[39m\u001B[38;5;124m[\u001B[39m\u001B[38;5;132;01m%s\u001B[39;00m\u001B[38;5;124m \u001B[39m\u001B[38;5;132;01m%s\u001B[39;00m\u001B[38;5;124m]\u001B[39m\u001B[38;5;124m\"\u001B[39m\u001B[38;5;124m == \u001B[39m\u001B[38;5;124m\"\u001B[39m\u001B[38;5;124mbreak\u001B[39m\u001B[38;5;124m\"\u001B[39m\u001B[38;5;124m} break\u001B[39m\u001B[38;5;130;01m\\n\u001B[39;00m\u001B[38;5;124m'\u001B[39m\n\u001B[0;32m   1399\u001B[0m            \u001B[38;5;241m%\u001B[39m\n\u001B[0;32m   1400\u001B[0m            (add \u001B[38;5;129;01mand\u001B[39;00m \u001B[38;5;124m'\u001B[39m\u001B[38;5;124m+\u001B[39m\u001B[38;5;124m'\u001B[39m \u001B[38;5;129;01mor\u001B[39;00m \u001B[38;5;124m'\u001B[39m\u001B[38;5;124m'\u001B[39m,\n\u001B[0;32m   1401\u001B[0m         funcid, \u001B[38;5;28mself\u001B[39m\u001B[38;5;241m.\u001B[39m_subst_format_str))\n\u001B[1;32m-> 1402\u001B[0m     \u001B[38;5;28;43mself\u001B[39;49m\u001B[38;5;241;43m.\u001B[39;49m\u001B[43mtk\u001B[49m\u001B[38;5;241;43m.\u001B[39;49m\u001B[43mcall\u001B[49m\u001B[43m(\u001B[49m\u001B[43mwhat\u001B[49m\u001B[43m \u001B[49m\u001B[38;5;241;43m+\u001B[39;49m\u001B[43m \u001B[49m\u001B[43m(\u001B[49m\u001B[43msequence\u001B[49m\u001B[43m,\u001B[49m\u001B[43m \u001B[49m\u001B[43mcmd\u001B[49m\u001B[43m)\u001B[49m\u001B[43m)\u001B[49m\n\u001B[0;32m   1403\u001B[0m     \u001B[38;5;28;01mreturn\u001B[39;00m funcid\n\u001B[0;32m   1404\u001B[0m \u001B[38;5;28;01melif\u001B[39;00m sequence:\n",
      "\u001B[1;31mTclError\u001B[0m: can't invoke \"bind\" command: application has been destroyed"
     ]
    }
   ],
   "source": [
    "def btn_remove(event):\n",
    "    sel = listbox.curselection()  # 리스트박스 선택 값 가져오기\n",
    "    if not sel:\n",
    "        showerror(\"오류\", \"리스트를 먼저 선택해 주세요.\")\n",
    "        return\n",
    "    else:\n",
    "        _id = ROW_IDS[sel[0]]\n",
    "\n",
    "    if askyesno(\"확인\", \"정말로 삭제하시겠습니까?\"):  # 확인 창 발생\n",
    "        remove_blog(_id)  # 블로그 삭제\n",
    "\n",
    "\n",
    "b3.bind('<Button-1>', btn_remove)  # 삭제 버튼에 btn_remove 함수 바인딩"
   ],
   "metadata": {
    "collapsed": false,
    "ExecuteTime": {
     "end_time": "2024-02-20T13:30:03.392321600Z",
     "start_time": "2024-02-20T13:30:03.313315300Z"
    }
   },
   "id": "3d122a07a7aaa488",
   "execution_count": 88
  },
  {
   "cell_type": "markdown",
   "source": [
    "# 새로고침 함수"
   ],
   "metadata": {
    "collapsed": false
   },
   "id": "ff8429febbec017e"
  },
  {
   "cell_type": "code",
   "outputs": [],
   "source": [
    "def refresh():\n",
    "    ROW_IDS.clear()  # 블로그 ID 리스트 삭제\n",
    "    entry.delete(0, END)  # 제목 삭제\n",
    "    text.delete(1.0, END)  # 내용 삭제\n",
    "    load_blog_list()  # 블로그 리스트 불러오기"
   ],
   "metadata": {
    "collapsed": false,
    "ExecuteTime": {
     "end_time": "2024-02-20T13:31:11.963455Z",
     "start_time": "2024-02-20T13:31:11.953921Z"
    }
   },
   "id": "3ffc607bebae3810",
   "execution_count": 89
  },
  {
   "cell_type": "markdown",
   "source": [
    "# 프로그램 실행"
   ],
   "metadata": {
    "collapsed": false
   },
   "id": "942c186f6471d73a"
  },
  {
   "cell_type": "code",
   "outputs": [
    {
     "ename": "TclError",
     "evalue": "invalid command name \".!listbox\"",
     "output_type": "error",
     "traceback": [
      "\u001B[1;31m---------------------------------------------------------------------------\u001B[0m",
      "\u001B[1;31mTclError\u001B[0m                                  Traceback (most recent call last)",
      "Cell \u001B[1;32mIn[90], line 2\u001B[0m\n\u001B[0;32m      1\u001B[0m \u001B[38;5;66;03m# Pycharm 에서 실행 확인\u001B[39;00m\n\u001B[1;32m----> 2\u001B[0m \u001B[43mload_blog_list\u001B[49m\u001B[43m(\u001B[49m\u001B[43m)\u001B[49m\n\u001B[0;32m      3\u001B[0m root\u001B[38;5;241m.\u001B[39mmainloop()\n",
      "Cell \u001B[1;32mIn[84], line 2\u001B[0m, in \u001B[0;36mload_blog_list\u001B[1;34m()\u001B[0m\n\u001B[0;32m      1\u001B[0m \u001B[38;5;28;01mdef\u001B[39;00m \u001B[38;5;21mload_blog_list\u001B[39m():\n\u001B[1;32m----> 2\u001B[0m     \u001B[43mlistbox\u001B[49m\u001B[38;5;241;43m.\u001B[39;49m\u001B[43mdelete\u001B[49m\u001B[43m(\u001B[49m\u001B[38;5;241;43m0\u001B[39;49m\u001B[43m,\u001B[49m\u001B[43m \u001B[49m\u001B[43mEND\u001B[49m\u001B[43m)\u001B[49m \u001B[38;5;66;03m# 리스트박스 초기화\u001B[39;00m\n\u001B[0;32m      3\u001B[0m     blog_list \u001B[38;5;241m=\u001B[39m get_blog_list()\n\u001B[0;32m      5\u001B[0m     \u001B[38;5;28;01mfor\u001B[39;00m i, blog \u001B[38;5;129;01min\u001B[39;00m \u001B[38;5;28menumerate\u001B[39m(blog_list):\n",
      "File \u001B[1;32m~\\.pyenv\\pyenv-win\\versions\\3.12.1\\Lib\\tkinter\\__init__.py:3260\u001B[0m, in \u001B[0;36mListbox.delete\u001B[1;34m(self, first, last)\u001B[0m\n\u001B[0;32m   3258\u001B[0m \u001B[38;5;28;01mdef\u001B[39;00m \u001B[38;5;21mdelete\u001B[39m(\u001B[38;5;28mself\u001B[39m, first, last\u001B[38;5;241m=\u001B[39m\u001B[38;5;28;01mNone\u001B[39;00m):\n\u001B[0;32m   3259\u001B[0m \u001B[38;5;250m    \u001B[39m\u001B[38;5;124;03m\"\"\"Delete items from FIRST to LAST (included).\"\"\"\u001B[39;00m\n\u001B[1;32m-> 3260\u001B[0m     \u001B[38;5;28;43mself\u001B[39;49m\u001B[38;5;241;43m.\u001B[39;49m\u001B[43mtk\u001B[49m\u001B[38;5;241;43m.\u001B[39;49m\u001B[43mcall\u001B[49m\u001B[43m(\u001B[49m\u001B[38;5;28;43mself\u001B[39;49m\u001B[38;5;241;43m.\u001B[39;49m\u001B[43m_w\u001B[49m\u001B[43m,\u001B[49m\u001B[43m \u001B[49m\u001B[38;5;124;43m'\u001B[39;49m\u001B[38;5;124;43mdelete\u001B[39;49m\u001B[38;5;124;43m'\u001B[39;49m\u001B[43m,\u001B[49m\u001B[43m \u001B[49m\u001B[43mfirst\u001B[49m\u001B[43m,\u001B[49m\u001B[43m \u001B[49m\u001B[43mlast\u001B[49m\u001B[43m)\u001B[49m\n",
      "\u001B[1;31mTclError\u001B[0m: invalid command name \".!listbox\""
     ]
    }
   ],
   "source": [
    "# Pycharm 에서 실행 확인\n",
    "load_blog_list()\n",
    "root.mainloop()"
   ],
   "metadata": {
    "collapsed": false,
    "ExecuteTime": {
     "end_time": "2024-02-20T13:31:33.246120500Z",
     "start_time": "2024-02-20T13:31:33.216191600Z"
    }
   },
   "id": "eeeb0083df5dc994",
   "execution_count": 90
  },
  {
   "cell_type": "code",
   "outputs": [],
   "source": [],
   "metadata": {
    "collapsed": false
   },
   "id": "6ebcb2777f4cbbc"
  }
 ],
 "metadata": {
  "kernelspec": {
   "display_name": "Python 3",
   "language": "python",
   "name": "python3"
  },
  "language_info": {
   "codemirror_mode": {
    "name": "ipython",
    "version": 2
   },
   "file_extension": ".py",
   "mimetype": "text/x-python",
   "name": "python",
   "nbconvert_exporter": "python",
   "pygments_lexer": "ipython2",
   "version": "2.7.6"
  }
 },
 "nbformat": 4,
 "nbformat_minor": 5
}
