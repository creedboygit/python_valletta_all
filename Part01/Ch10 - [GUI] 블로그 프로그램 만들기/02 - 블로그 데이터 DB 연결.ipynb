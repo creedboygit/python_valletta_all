{
 "cells": [
  {
   "cell_type": "markdown",
   "source": [
    "> ### sqlite3\n",
    ">  - `sqlite3` 는 주로 개발용이나 소규모 프로젝트에서 사용하는 파일 기반의 가벼운 데이터베이스 모듈\n",
    ">  - **블로그 데이터를 관리(`저장`, `조회`, `수정`, `삭제`) 하기 위한 목적**으로 데이터베이스를 활용합니다.\n",
    ">  - 블로그 데이터 저장 형식\n",
    "| 항목    | 데이터 타입 | 설명      |\n",
    "|---------|-------------|-----------|\n",
    "| id      | 숫자        | 고유 번호 |\n",
    "| subject | 문자열      | 제목      |\n",
    "| content | 문자열      | 내용      |\n",
    "| date    | 문자열      | 작성 일자 |"
   ],
   "metadata": {
    "collapsed": false
   },
   "id": "9782ffeb7e14f7fd"
  },
  {
   "cell_type": "markdown",
   "source": [
    "# 데이터베이스 생성"
   ],
   "metadata": {
    "collapsed": false
   },
   "id": "8d28cad4c6201f9e"
  },
  {
   "cell_type": "code",
   "outputs": [],
   "source": [
    "import sqlite3\n",
    "\n",
    "conn = sqlite3.connect('blog.db')"
   ],
   "metadata": {
    "collapsed": false,
    "ExecuteTime": {
     "end_time": "2024-02-19T13:28:38.880248100Z",
     "start_time": "2024-02-19T13:28:38.874706100Z"
    }
   },
   "id": "5a165d5b85bcbd99",
   "execution_count": 1
  },
  {
   "cell_type": "markdown",
   "source": [
    "# 테이블 생성"
   ],
   "metadata": {
    "collapsed": false
   },
   "id": "ec77ae0f30632971"
  },
  {
   "cell_type": "code",
   "outputs": [
    {
     "data": {
      "text/plain": "<sqlite3.Cursor at 0x20f07a4e1c0>"
     },
     "execution_count": 3,
     "metadata": {},
     "output_type": "execute_result"
    }
   ],
   "source": [
    "c = conn.cursor()  # 커서 생성\n",
    "c.execute('''create table blog (id integer primary key, subject text, content text, date text)''')"
   ],
   "metadata": {
    "collapsed": false,
    "ExecuteTime": {
     "end_time": "2024-02-19T13:29:25.592149800Z",
     "start_time": "2024-02-19T13:29:25.573375700Z"
    }
   },
   "id": "f7623392eaf3a3b6",
   "execution_count": 3
  },
  {
   "cell_type": "markdown",
   "source": [
    "# 데이터 입력"
   ],
   "metadata": {
    "collapsed": false
   },
   "id": "e9f2cc5a35f4f292"
  },
  {
   "cell_type": "code",
   "outputs": [],
   "source": [
    "c.execute(\"insert into blog values (1, '첫번째 블로그', '첫번째 작성글', '20240220')\")\n",
    "conn.commit()"
   ],
   "metadata": {
    "collapsed": false,
    "ExecuteTime": {
     "end_time": "2024-02-19T13:32:09.941755Z",
     "start_time": "2024-02-19T13:32:09.903098400Z"
    }
   },
   "id": "5473453fe050e34",
   "execution_count": 4
  },
  {
   "cell_type": "code",
   "outputs": [],
   "source": [
    "c.execute(\"insert into blog values (2, '두번째 블로그', '두번째 작성글', '20240220')\")\n",
    "conn.commit()"
   ],
   "metadata": {
    "collapsed": false,
    "ExecuteTime": {
     "end_time": "2024-02-19T13:32:22.991706200Z",
     "start_time": "2024-02-19T13:32:22.952135700Z"
    }
   },
   "id": "9bf4ce46107e486b",
   "execution_count": 5
  },
  {
   "cell_type": "code",
   "outputs": [],
   "source": [
    "c.execute(\"insert into blog values (3, '세번째 블로그', '세번째 작성글', '20240221')\")\n",
    "conn.commit()"
   ],
   "metadata": {
    "collapsed": false,
    "ExecuteTime": {
     "end_time": "2024-02-19T13:32:34.967994600Z",
     "start_time": "2024-02-19T13:32:34.927798100Z"
    }
   },
   "id": "515d2ea5b7df002d",
   "execution_count": 6
  },
  {
   "cell_type": "markdown",
   "source": [
    "# 데이터 조회"
   ],
   "metadata": {
    "collapsed": false
   },
   "id": "60c3df7ab3c1c43d"
  },
  {
   "cell_type": "code",
   "outputs": [
    {
     "name": "stdout",
     "output_type": "stream",
     "text": [
      "[(1, '첫번째 블로그', '첫번째 작성글', '20240220'), (2, '두번째 블로그', '두번째 작성글', '20240220'), (3, '세번째 블로그', '세번째 작성글', '20240221')]\n"
     ]
    }
   ],
   "source": [
    "c.execute('select * from blog')\n",
    "all = c.fetchall()\n",
    "print(all)"
   ],
   "metadata": {
    "collapsed": false,
    "ExecuteTime": {
     "end_time": "2024-02-19T13:33:53.086556200Z",
     "start_time": "2024-02-19T13:33:53.046597200Z"
    }
   },
   "id": "38d8fcacd48582a1",
   "execution_count": 7
  },
  {
   "cell_type": "markdown",
   "source": [
    "# 데이터베이스 접속 종료"
   ],
   "metadata": {
    "collapsed": false
   },
   "id": "d2667e34af2c0c0d"
  },
  {
   "cell_type": "code",
   "outputs": [],
   "source": [
    "conn.close()"
   ],
   "metadata": {
    "collapsed": false,
    "ExecuteTime": {
     "end_time": "2024-02-19T13:34:03.446994600Z",
     "start_time": "2024-02-19T13:34:03.408876300Z"
    }
   },
   "id": "363d6f8931225f80",
   "execution_count": 9
  },
  {
   "cell_type": "code",
   "outputs": [],
   "source": [],
   "metadata": {
    "collapsed": false
   },
   "id": "376c21c82fd0864c"
  }
 ],
 "metadata": {
  "kernelspec": {
   "display_name": "Python 3",
   "language": "python",
   "name": "python3"
  },
  "language_info": {
   "codemirror_mode": {
    "name": "ipython",
    "version": 2
   },
   "file_extension": ".py",
   "mimetype": "text/x-python",
   "name": "python",
   "nbconvert_exporter": "python",
   "pygments_lexer": "ipython2",
   "version": "2.7.6"
  }
 },
 "nbformat": 4,
 "nbformat_minor": 5
}
