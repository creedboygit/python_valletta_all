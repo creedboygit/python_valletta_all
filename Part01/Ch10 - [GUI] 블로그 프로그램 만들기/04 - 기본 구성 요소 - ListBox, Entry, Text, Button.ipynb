{
 "cells": [
  {
   "cell_type": "markdown",
   "source": [
    "> ### tkinter 에서 자주 사용되는 컴포넌트\n",
    "> - `리스트박스(Listbox)`: 선택 가능한 사용자 선택 목록\n",
    "> - `라벨(Label)`: 한 행짜리 문자열을 출력할 수 있는 컴포넌트\n",
    "> - `엔트리(Entry)`: 사용자 데이터를 받을 수 있는 한 행짜리 입력 창\n",
    "> - `텍스트(Text)`: 사용자 데이터를 받을 수 있는 여러 행짜리 입력 창\n",
    "> - `버튼(Button)`: 클릭할 수 있는 버튼\n",
    "\n",
    "> ### 컴포넌트 사용 튜토리얼\n",
    "> - [주요 컴포넌트(위젯)](https://tkdocs.com/tutorial/widgets.html)\n",
    "> - [그외 컴포넌트(위젯)](https://tkdocs.com/tutorial/morewidgets.html)"
   ],
   "metadata": {
    "collapsed": false
   },
   "id": "d98ce4f4425a3a64"
  },
  {
   "cell_type": "markdown",
   "source": [
    "# 리스트박스 (Listbox)\n",
    "- 리스트박스는 정해진 순서가 있는 여러 개의 데이터를 표시하는 컴포넌트"
   ],
   "metadata": {
    "collapsed": false
   },
   "id": "64a67d4682985870"
  },
  {
   "cell_type": "code",
   "outputs": [],
   "source": [
    "from tkinter import *\n",
    "\n",
    "root = Tk()\n",
    "root.geometry('200x200')\n",
    "listbox = Listbox(root)\n",
    "listbox.pack()\n",
    "\n",
    "for i in ['첫번째', '두번째', '세번째', '네번째']:\n",
    "    listbox.insert(END, i)  # Listbox 마지막 위치에 새로운 데이터 추가\n",
    "\n",
    "root.mainloop()"
   ],
   "metadata": {
    "collapsed": false,
    "ExecuteTime": {
     "end_time": "2024-02-19T13:46:08.898632800Z",
     "start_time": "2024-02-19T13:45:59.964337500Z"
    }
   },
   "id": "846b000766161c9b",
   "execution_count": 3
  },
  {
   "cell_type": "markdown",
   "source": [
    "* 사용자 선택에 따른 이벤트 생성 버전"
   ],
   "metadata": {
    "collapsed": false
   },
   "id": "1bc92dbedba4332a"
  },
  {
   "cell_type": "code",
   "outputs": [
    {
     "name": "stdout",
     "output_type": "stream",
     "text": [
      "선택되었습니다.\n",
      "선택되었습니다.\n",
      "선택되었습니다.\n",
      "선택되었습니다.\n",
      "선택되었습니다.\n",
      "선택되었습니다.\n",
      "선택되었습니다.\n"
     ]
    }
   ],
   "source": [
    "from tkinter import *\n",
    "\n",
    "\n",
    "def event_for_listbox(event):\n",
    "    print('선택되었습니다.')\n",
    "\n",
    "\n",
    "root = Tk()\n",
    "root.geometry('200x200')\n",
    "listbox = Listbox(root)\n",
    "listbox.pack()\n",
    "\n",
    "for i in ['첫번째', '두번째', '세번째', '네번째']:\n",
    "    listbox.insert(END, i)\n",
    "\n",
    "listbox.bind('<<ListboxSelect>>', event_for_listbox)  # 리스트박스 선택 시 event_for_listbox 함수 호출\n",
    "\n",
    "root.mainloop()\n"
   ],
   "metadata": {
    "collapsed": false,
    "ExecuteTime": {
     "end_time": "2024-02-19T13:49:11.955623Z",
     "start_time": "2024-02-19T13:49:08.186693100Z"
    }
   },
   "id": "6fac3ab4894b3d74",
   "execution_count": 6
  },
  {
   "cell_type": "markdown",
   "source": [
    "# 엔트리(Entry)\n",
    "- 엔트리는 사용자 데이터를 입력받을 수 있는 한 행짜리 입력 창"
   ],
   "metadata": {
    "collapsed": false
   },
   "id": "88265c99e6520db7"
  },
  {
   "cell_type": "code",
   "outputs": [],
   "source": [
    "from tkinter import *\n",
    "\n",
    "root = Tk()\n",
    "root.geometry('200x200')\n",
    "\n",
    "entry = Entry(root)\n",
    "entry.insert(0, \"데이터를 입력해 주세요\")  # 첫번째 데이터에 엔트리 입력값 저장\n",
    "entry.pack()\n",
    "\n",
    "entry = Entry(root)\n",
    "entry.insert(1, \"데이터를 입력해 주세요\")  # 첫번째 데이터에 엔트리 입력값 저장\n",
    "entry.pack()\n",
    "\n",
    "root.mainloop()"
   ],
   "metadata": {
    "collapsed": false,
    "ExecuteTime": {
     "end_time": "2024-02-19T13:52:08.356517600Z",
     "start_time": "2024-02-19T13:52:06.677656800Z"
    }
   },
   "id": "1d55c952dd4f16e6",
   "execution_count": 11
  },
  {
   "cell_type": "markdown",
   "source": [
    "* 사용자 입력에 따른 이벤트 생성 버전"
   ],
   "metadata": {
    "collapsed": false
   },
   "id": "aaf918e1a73e5e0a"
  },
  {
   "cell_type": "code",
   "outputs": [
    {
     "name": "stdout",
     "output_type": "stream",
     "text": [
      "사용자 입력값은 데이터를 입력해 주세요. 입니다.\n",
      "사용자 입력값은 데이터를 입력해 주세요. 입니다.\n",
      "사용자 입력값은 데이터를 입력해 주세요. 입니다.\n",
      "사용자 입력값은 111 입니다.\n"
     ]
    }
   ],
   "source": [
    "from tkinter import *\n",
    "\n",
    "\n",
    "def event_for_entry(event):\n",
    "    print(f\"사용자 입력값은 {entry.get()} 입니다.\")\n",
    "\n",
    "\n",
    "root = Tk()\n",
    "root.geometry('200x200')\n",
    "\n",
    "entry = Entry(root)\n",
    "entry.insert(0, '데이터를 입력해 주세요.')\n",
    "\n",
    "entry.bind('<Return>', event_for_entry)\n",
    "entry.pack()\n",
    "\n",
    "root.mainloop()"
   ],
   "metadata": {
    "collapsed": false,
    "ExecuteTime": {
     "end_time": "2024-02-19T13:58:08.581072400Z",
     "start_time": "2024-02-19T13:56:08.874794800Z"
    }
   },
   "id": "8d14aa089327a7b8",
   "execution_count": 14
  },
  {
   "cell_type": "markdown",
   "source": [
    "# 텍스트 (Text)\n",
    "- 사용자 데이터를 받을 수 있는 여러 행짜리 입력 창"
   ],
   "metadata": {
    "collapsed": false
   },
   "id": "f0b99f1f033a037e"
  },
  {
   "cell_type": "code",
   "outputs": [],
   "source": [
    "from tkinter import *\n",
    "\n",
    "data = '''첫번째 데이터\n",
    "두번째 데이터\n",
    "세번째 데이터'''\n",
    "\n",
    "root = Tk()\n",
    "root.geometry('200x200')\n",
    "\n",
    "text = Text(root)\n",
    "text.insert(1.0, data)  # 첫번째 데이터에 Text 입력값 저장\n",
    "text.pack()\n",
    "\n",
    "root.mainloop()"
   ],
   "metadata": {
    "collapsed": false,
    "ExecuteTime": {
     "end_time": "2024-02-19T13:58:17.433219400Z",
     "start_time": "2024-02-19T13:58:11.349161100Z"
    }
   },
   "id": "91b8e34f8570f847",
   "execution_count": 16
  },
  {
   "cell_type": "markdown",
   "source": [
    "# 버튼 (Button)\n",
    "- 사용자의 클릭 이벤트에 따라 동작을 처리할 수 있는 버튼"
   ],
   "metadata": {
    "collapsed": false
   },
   "id": "3cad8b629a515fe5"
  },
  {
   "cell_type": "code",
   "outputs": [
    {
     "name": "stdout",
     "output_type": "stream",
     "text": [
      "버튼이 클릭되었습니다.\n",
      "버튼이 클릭되었습니다.\n",
      "버튼이 클릭되었습니다.\n",
      "버튼이 클릭되었습니다.\n",
      "버튼이 클릭되었습니다.\n"
     ]
    }
   ],
   "source": [
    "from tkinter import *\n",
    "\n",
    "\n",
    "def btn_click(event):\n",
    "    print(f'버튼이 클릭되었습니다.')\n",
    "\n",
    "\n",
    "root = Tk()\n",
    "root.geometry('200x200')\n",
    "\n",
    "b1 = Button(root, text='나의 첫번째 버튼')\n",
    "b1.bind('<Button-1>', btn_click)\n",
    "b1.pack()\n",
    "\n",
    "root.mainloop()"
   ],
   "metadata": {
    "collapsed": false,
    "ExecuteTime": {
     "end_time": "2024-02-19T14:00:20.636656Z",
     "start_time": "2024-02-19T14:00:16.957153600Z"
    }
   },
   "id": "d4105d4da078e93f",
   "execution_count": 17
  },
  {
   "cell_type": "code",
   "outputs": [
    {
     "name": "stdout",
     "output_type": "stream",
     "text": [
      "사용자 입력 값은 : \n",
      "여러 줄의 데이터를 입력하고 버튼을 클릭해 주세요.\n",
      " 입니다.\n",
      "사용자 입력 값은 : \n",
      "여러 줄의 데이터를 입력하고 버튼을 클릭해 주세요.\n",
      " 입니다.\n",
      "사용자 입력 값은 : \n",
      "여러 줄의 데이터를 입력하고 버튼을 클릭해 주세요.\n",
      "23\n",
      "123\n",
      "\n",
      " 입니다.\n"
     ]
    }
   ],
   "source": [
    "from tkinter import *\n",
    "\n",
    "\n",
    "def btn_click(event):\n",
    "    # print(f\"사용자 입력 값은 : \\n{text.get(1.0, END)} 입니다.\")\n",
    "    print(f\"사용자 입력 값은 : \\n{text.get(1.0, END)} 입니다.\")\n",
    "\n",
    "\n",
    "data = '''여러 줄의 데이터를 입력하고 버튼을 클릭해 주세요.'''\n",
    "\n",
    "root = Tk()\n",
    "root.geometry('500x500')\n",
    "\n",
    "text = Text(root)\n",
    "text.insert(1.0, data)\n",
    "text.pack()\n",
    "\n",
    "b1 = Button(root, text=\"결과값 확인\")\n",
    "b1.bind('<Button-1>', btn_click)\n",
    "b1.pack()\n",
    "\n",
    "root.mainloop()"
   ],
   "metadata": {
    "collapsed": false,
    "ExecuteTime": {
     "end_time": "2024-02-19T14:04:30.350657Z",
     "start_time": "2024-02-19T14:04:19.549450400Z"
    }
   },
   "id": "864b9186fe618c4a",
   "execution_count": 23
  },
  {
   "cell_type": "code",
   "outputs": [],
   "source": [],
   "metadata": {
    "collapsed": false
   },
   "id": "33bf0282674eecc6"
  }
 ],
 "metadata": {
  "kernelspec": {
   "display_name": "Python 3",
   "language": "python",
   "name": "python3"
  },
  "language_info": {
   "codemirror_mode": {
    "name": "ipython",
    "version": 2
   },
   "file_extension": ".py",
   "mimetype": "text/x-python",
   "name": "python",
   "nbconvert_exporter": "python",
   "pygments_lexer": "ipython2",
   "version": "2.7.6"
  }
 },
 "nbformat": 4,
 "nbformat_minor": 5
}
