{
 "cells": [
  {
   "cell_type": "markdown",
   "source": [
    "# Geometry Manager\n",
    "- tlinter에서 컴포넌트를 화면에 배치하는 방식에는 3가지 방식이 있음\n",
    "- Pack : 컴포넌트들을 부모 컴포넌트에 자동 패킹하여 불필요한 공간을 자동으로 없앤다.\n",
    "- Place : 컴포넌트 위치를 절대 좌표로 위치시킨다. (창 크기와 상관없이 위치 고정)\n",
    "- Grid : 컴포넌트를 테이블 레이아웃으로 배치 (엑셀처럼), 행(row), 열(column) 정보 사용"
   ],
   "metadata": {
    "collapsed": false
   },
   "id": "7e12ce6a35d9fbfc"
  },
  {
   "cell_type": "markdown",
   "source": [
    "# 방법 1. Pack(상대위치) 방식으로 컴포넌트 배치\n",
    "- 가장 처음 선언한 pack() 부터 배치\n",
    "- side 파라미터로 정렬 위치 지정 (left, right, top, bottom)\n",
    "- pack()은 grid() 와 사용 불가하지만 place() 와 병행 사용 가능"
   ],
   "metadata": {
    "collapsed": false
   },
   "id": "80f3186f17e47dd9"
  },
  {
   "cell_type": "code",
   "outputs": [],
   "source": [
    "from tkinter import *"
   ],
   "metadata": {
    "collapsed": false,
    "ExecuteTime": {
     "end_time": "2024-02-20T11:54:20.459989200Z",
     "start_time": "2024-02-20T11:54:20.445550800Z"
    }
   },
   "id": "493ec1b018d4d0f4",
   "execution_count": 1
  },
  {
   "cell_type": "code",
   "outputs": [],
   "source": [
    "root = Tk()\n",
    "root.geometry('300x300')\n",
    "\n",
    "# 좌측 배치\n",
    "button_left = Button(root, width=10, text='1')\n",
    "button_left.pack(side='left')\n",
    "\n",
    "# 우측 배치\n",
    "button_right = Button(root, width=10, text='2')\n",
    "button_right.pack(side='right')\n",
    "\n",
    "# 상단 배치\n",
    "button_top = Button(root, width=10, text='3')\n",
    "button_top.pack(side='top')\n",
    "\n",
    "# 하단 배치\n",
    "button_bottom = Button(root, width=10, text='4')\n",
    "button_bottom.pack(side='bottom')\n",
    "\n",
    "# 중앙 배치\n",
    "button_center = Button(root, width=10, text='5')\n",
    "button_center.pack(expand=True)\n",
    "\n",
    "root.mainloop()"
   ],
   "metadata": {
    "collapsed": false,
    "ExecuteTime": {
     "end_time": "2024-02-20T11:57:50.796817200Z",
     "start_time": "2024-02-20T11:57:22.020564600Z"
    }
   },
   "id": "8ab9a42d26d93697",
   "execution_count": 3
  },
  {
   "cell_type": "markdown",
   "source": [
    "# 방법2. Place(절대위치) 방식으로 컴포넌트 배치"
   ],
   "metadata": {
    "collapsed": false
   },
   "id": "df65a88587c76e98"
  },
  {
   "cell_type": "code",
   "outputs": [],
   "source": [
    "from tkinter import *"
   ],
   "metadata": {
    "collapsed": false,
    "ExecuteTime": {
     "end_time": "2024-02-20T11:59:08.383807800Z",
     "start_time": "2024-02-20T11:59:08.366647900Z"
    }
   },
   "id": "5f038a7a223bd5f1",
   "execution_count": 4
  },
  {
   "cell_type": "code",
   "outputs": [],
   "source": [
    "root = Tk()\n",
    "root.geometry('300x300')\n",
    "\n",
    "button1 = Button(root, width=10, text='1')\n",
    "button1.place(x=40, y=30)\n",
    "\n",
    "button2 = Button(root, width=10, text='2')\n",
    "button2.place(x=50, y=50)\n",
    "\n",
    "button3 = Button(root, width=10, text='3')\n",
    "button3.place(x=100, y=100)\n",
    "\n",
    "button4 = Button(root, width=10, text='4')\n",
    "button4.place(x=200, y=100)\n",
    "\n",
    "button5 = Button(root, width=10, text='5')\n",
    "button5.place(x=200, y=150)\n",
    "\n",
    "root.mainloop()"
   ],
   "metadata": {
    "collapsed": false,
    "ExecuteTime": {
     "end_time": "2024-02-20T12:01:09.969660900Z",
     "start_time": "2024-02-20T12:01:07.447564700Z"
    }
   },
   "id": "d193590c1a11631",
   "execution_count": 7
  },
  {
   "cell_type": "markdown",
   "source": [
    "# 방법3. Grid 방식으로 컴포넌트 배치"
   ],
   "metadata": {
    "collapsed": false
   },
   "id": "185fbfab853f0de4"
  },
  {
   "cell_type": "code",
   "outputs": [],
   "source": [
    "from tkinter import *"
   ],
   "metadata": {
    "collapsed": false,
    "ExecuteTime": {
     "end_time": "2024-02-20T12:06:56.659211200Z",
     "start_time": "2024-02-20T12:06:56.638533600Z"
    }
   },
   "id": "c1f9e0c4d6c4393b",
   "execution_count": 8
  },
  {
   "cell_type": "code",
   "outputs": [],
   "source": [
    "root = Tk()\n",
    "root.geometry('300x300')\n",
    "\n",
    "button1 = Button(root, width=10, text='1')\n",
    "button1.grid(row=0, column=0)\n",
    "\n",
    "button2 = Button(root, width=10, text='2')\n",
    "button2.grid(row=0, column=1)\n",
    "\n",
    "button3 = Button(root, width=10, text='3')\n",
    "button3.grid(row=0, column=2)\n",
    "\n",
    "button4 = Button(root, width=10, text='4')\n",
    "button4.grid(row=1, column=1)\n",
    "\n",
    "button5 = Button(root, width=10, text='5')\n",
    "button5.grid(row=1, column=2)\n",
    "\n",
    "root.mainloop()"
   ],
   "metadata": {
    "collapsed": false,
    "ExecuteTime": {
     "end_time": "2024-02-20T12:10:11.172566600Z",
     "start_time": "2024-02-20T12:09:35.725909300Z"
    }
   },
   "id": "f637616a60cb6c3f",
   "execution_count": 9
  },
  {
   "cell_type": "markdown",
   "source": [
    "# 다이얼로그 창"
   ],
   "metadata": {
    "collapsed": false
   },
   "id": "511ef369cf8be3d7"
  },
  {
   "cell_type": "markdown",
   "source": [
    "예를 들어 사용자가 버튼을 클릭해서 데이터를 삭제하려할 때 \"정말로 삭제하시겠습니까? 라는 메시지를 띄워 확인하거나\n",
    "특정 오류가 발생했을 때 팝업되는 알림창이 필요할 수 있다.\n",
    "이러한 확인 창, 오류 창을 다이얼로그 창이라고 한다."
   ],
   "metadata": {
    "collapsed": false
   },
   "id": "a79801b33585115d"
  },
  {
   "cell_type": "markdown",
   "source": [
    "# 확인 창"
   ],
   "metadata": {
    "collapsed": false
   },
   "id": "5dd9a6849b5fda51"
  },
  {
   "cell_type": "code",
   "outputs": [
    {
     "name": "stdout",
     "output_type": "stream",
     "text": [
      "삭제되지 않았습니다.\n"
     ]
    }
   ],
   "source": [
    "from tkinter.messagebox import *\n",
    "\n",
    "if askyesno(\"확인\", \"정말 삭제하시겠습니까?\"):\n",
    "    # Yes : True값 반환\n",
    "    print(\"삭제되었습니다.\")\n",
    "else:\n",
    "    # No : False 값 반환\n",
    "    print(\"삭제되지 않았습니다.\")"
   ],
   "metadata": {
    "collapsed": false,
    "ExecuteTime": {
     "end_time": "2024-02-20T12:13:47.141692100Z",
     "start_time": "2024-02-20T12:13:45.764741500Z"
    }
   },
   "id": "70bb877935345796",
   "execution_count": 1
  },
  {
   "cell_type": "markdown",
   "source": [
    "# 오류 창"
   ],
   "metadata": {
    "collapsed": false
   },
   "id": "57133cbdbb3327df"
  },
  {
   "cell_type": "code",
   "outputs": [
    {
     "data": {
      "text/plain": "'ok'"
     },
     "execution_count": 1,
     "metadata": {},
     "output_type": "execute_result"
    }
   ],
   "source": [
    "from tkinter.messagebox import *\n",
    "\n",
    "showerror(\"오류\", \"오류가 발생했습니다.\")"
   ],
   "metadata": {
    "collapsed": false,
    "ExecuteTime": {
     "end_time": "2024-02-20T12:16:01.577497Z",
     "start_time": "2024-02-20T12:15:58.528260400Z"
    }
   },
   "id": "78fbfc83144b502b",
   "execution_count": 1
  },
  {
   "cell_type": "code",
   "outputs": [],
   "source": [],
   "metadata": {
    "collapsed": false
   },
   "id": "29d0e2538ccafc0e"
  }
 ],
 "metadata": {
  "kernelspec": {
   "display_name": "Python 3",
   "language": "python",
   "name": "python3"
  },
  "language_info": {
   "codemirror_mode": {
    "name": "ipython",
    "version": 2
   },
   "file_extension": ".py",
   "mimetype": "text/x-python",
   "name": "python",
   "nbconvert_exporter": "python",
   "pygments_lexer": "ipython2",
   "version": "2.7.6"
  }
 },
 "nbformat": 4,
 "nbformat_minor": 5
}
