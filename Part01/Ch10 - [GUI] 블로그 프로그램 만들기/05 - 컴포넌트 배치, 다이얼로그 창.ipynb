{
 "cells": [
  {
   "cell_type": "markdown",
   "source": [
    "# Geometry Manager\n",
    "- tlinter에서 컴포넌트를 화면에 배치하는 방식에는 3가지 방식이 있음\n",
    "- Pack : 컴포넌트들을 부모 컴포넌트에 자동 패킹하여 불필요한 공간을 자동으로 없앤다.\n",
    "- Place : 컴포넌트 위치를 절대 좌표로 위치시킨다. (창 크기와 상관없이 위치 고정)\n",
    "- Grid : 컴포넌트를 테이블 레이아웃으로 배치 (엑셀처럼), 행(row), 열(column) 정보 사용"
   ],
   "metadata": {
    "collapsed": false
   },
   "id": "7e12ce6a35d9fbfc"
  },
  {
   "cell_type": "markdown",
   "source": [
    "# 방법 1. Pack(상대위치) 방식으로 컴포넌트 배치\n",
    "- 가장 처음 선언한 pack() 부터 배치\n",
    "- side 파라미터로 정렬 위치 지정 (left, right, top, bottom)\n",
    "- pack()은 grid() 와 사용 불가하지만 place() 와 병행 사용 가능"
   ],
   "metadata": {
    "collapsed": false
   },
   "id": "80f3186f17e47dd9"
  },
  {
   "cell_type": "code",
   "outputs": [],
   "source": [
    "from tkinter import *"
   ],
   "metadata": {
    "collapsed": false,
    "ExecuteTime": {
     "end_time": "2024-02-20T11:54:20.459989200Z",
     "start_time": "2024-02-20T11:54:20.445550800Z"
    }
   },
   "id": "493ec1b018d4d0f4",
   "execution_count": 1
  },
  {
   "cell_type": "code",
   "outputs": [],
   "source": [
    "root = Tk()\n",
    "root.geometry('300x300')\n",
    "\n",
    "# 좌측 배치\n",
    "button_left = Button(root, width=10, text='1')\n",
    "button_left.pack(side='left')\n",
    "\n"
   ],
   "metadata": {
    "collapsed": false
   },
   "id": "8ab9a42d26d93697"
  }
 ],
 "metadata": {
  "kernelspec": {
   "display_name": "Python 3",
   "language": "python",
   "name": "python3"
  },
  "language_info": {
   "codemirror_mode": {
    "name": "ipython",
    "version": 2
   },
   "file_extension": ".py",
   "mimetype": "text/x-python",
   "name": "python",
   "nbconvert_exporter": "python",
   "pygments_lexer": "ipython2",
   "version": "2.7.6"
  }
 },
 "nbformat": 4,
 "nbformat_minor": 5
}
