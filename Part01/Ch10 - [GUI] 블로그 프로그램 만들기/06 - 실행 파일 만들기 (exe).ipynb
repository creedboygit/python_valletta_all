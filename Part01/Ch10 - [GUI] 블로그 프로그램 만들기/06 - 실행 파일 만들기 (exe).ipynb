{
 "cells": [
  {
   "cell_type": "markdown",
   "source": [
    "# 실행 파일 만들기 절차"
   ],
   "metadata": {
    "collapsed": false
   },
   "id": "598abeafd0fd5482"
  },
  {
   "cell_type": "markdown",
   "source": [
    "1. 터미널 접속\n",
    "2. 가상 환경 활성화\n",
    "3. pip install pyinstaller 설치\n",
    "4. 파이썬 파일 위치로 이동\n",
    "5. pyinstaller 변환하고자 하는 파이썬 파일명.py 입력\n",
    "6. 새롭게 만들어진 dist 폴더 안의 exe 파일 실행"
   ],
   "metadata": {
    "collapsed": false
   },
   "id": "9fab0ed87cba4992"
  },
  {
   "cell_type": "code",
   "outputs": [],
   "source": [],
   "metadata": {
    "collapsed": false
   },
   "id": "16a1de468e28fdab"
  }
 ],
 "metadata": {
  "kernelspec": {
   "display_name": "Python 3",
   "language": "python",
   "name": "python3"
  },
  "language_info": {
   "codemirror_mode": {
    "name": "ipython",
    "version": 2
   },
   "file_extension": ".py",
   "mimetype": "text/x-python",
   "name": "python",
   "nbconvert_exporter": "python",
   "pygments_lexer": "ipython2",
   "version": "2.7.6"
  }
 },
 "nbformat": 4,
 "nbformat_minor": 5
}
