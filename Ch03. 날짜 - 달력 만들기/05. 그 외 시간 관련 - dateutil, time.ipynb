{
 "cells": [
  {
   "cell_type": "code",
   "execution_count": 1,
   "id": "initial_id",
   "metadata": {
    "collapsed": true,
    "ExecuteTime": {
     "end_time": "2024-02-07T13:11:47.359743200Z",
     "start_time": "2024-02-07T13:11:47.356387Z"
    }
   },
   "outputs": [],
   "source": [
    "import datetime"
   ]
  },
  {
   "cell_type": "code",
   "outputs": [
    {
     "data": {
      "text/plain": "datetime.datetime(2024, 2, 29, 0, 0)"
     },
     "execution_count": 2,
     "metadata": {},
     "output_type": "execute_result"
    }
   ],
   "source": [
    "# strptime 활용\n",
    "date = '2024-02-29'\n",
    "date_parsed = datetime.datetime.strptime(date, '%Y-%m-%d')\n",
    "date_parsed"
   ],
   "metadata": {
    "collapsed": false,
    "ExecuteTime": {
     "end_time": "2024-02-09T06:03:53.960321100Z",
     "start_time": "2024-02-09T06:03:53.936084900Z"
    }
   },
   "id": "778202fdb9b6bc0a",
   "execution_count": 2
  },
  {
   "cell_type": "code",
   "outputs": [],
   "source": [
    "from dateutil.parser import parse"
   ],
   "metadata": {
    "collapsed": false,
    "ExecuteTime": {
     "end_time": "2024-02-09T06:04:31.839866700Z",
     "start_time": "2024-02-09T06:04:31.834708800Z"
    }
   },
   "id": "69afb80b437a7fb3",
   "execution_count": 3
  },
  {
   "cell_type": "code",
   "outputs": [
    {
     "data": {
      "text/plain": "datetime.datetime(2024, 2, 29, 0, 0)"
     },
     "execution_count": 4,
     "metadata": {},
     "output_type": "execute_result"
    }
   ],
   "source": [
    "# dateutil 활용\n",
    "parse(date)"
   ],
   "metadata": {
    "collapsed": false,
    "ExecuteTime": {
     "end_time": "2024-02-09T06:04:47.517826500Z",
     "start_time": "2024-02-09T06:04:47.511370500Z"
    }
   },
   "id": "f86a6f90302930f0",
   "execution_count": 4
  },
  {
   "cell_type": "code",
   "outputs": [
    {
     "data": {
      "text/plain": "datetime.datetime(2024, 10, 15, 16, 5, 32)"
     },
     "execution_count": 5,
     "metadata": {},
     "output_type": "execute_result"
    }
   ],
   "source": [
    "# 자동 형식 탐지\n",
    "parse(\"Oct 15, 2024 04:05:32 PM\")"
   ],
   "metadata": {
    "collapsed": false,
    "ExecuteTime": {
     "end_time": "2024-02-09T06:06:47.862591800Z",
     "start_time": "2024-02-09T06:06:47.856982900Z"
    }
   },
   "id": "9de8ed7094e232cb",
   "execution_count": 5
  },
  {
   "cell_type": "code",
   "outputs": [],
   "source": [
    "# 날짜 문자열 자동 탐지\n",
    "log = 'INFO 2024-02-26T00:00:01 Happy new year, human.'"
   ],
   "metadata": {
    "collapsed": false,
    "ExecuteTime": {
     "end_time": "2024-02-09T06:07:21.408020400Z",
     "start_time": "2024-02-09T06:07:21.401181100Z"
    }
   },
   "id": "7d9eac3d96dbe9d1",
   "execution_count": 6
  },
  {
   "cell_type": "code",
   "outputs": [
    {
     "data": {
      "text/plain": "datetime.datetime(2024, 2, 26, 0, 0, 1)"
     },
     "execution_count": 19,
     "metadata": {},
     "output_type": "execute_result"
    }
   ],
   "source": [
    "# parse(log, fuzzy=True)\n",
    "parsed = parse(log, fuzzy_with_tokens=True)\n",
    "parsed[0]"
   ],
   "metadata": {
    "collapsed": false,
    "ExecuteTime": {
     "end_time": "2024-02-09T06:10:35.011320100Z",
     "start_time": "2024-02-09T06:10:35.004335800Z"
    }
   },
   "id": "3dbc82d58a9a64e3",
   "execution_count": 19
  },
  {
   "cell_type": "code",
   "outputs": [],
   "source": [],
   "metadata": {
    "collapsed": false
   },
   "id": "7c05eadeb4f1ac4e"
  }
 ],
 "metadata": {
  "kernelspec": {
   "display_name": "Python 3",
   "language": "python",
   "name": "python3"
  },
  "language_info": {
   "codemirror_mode": {
    "name": "ipython",
    "version": 2
   },
   "file_extension": ".py",
   "mimetype": "text/x-python",
   "name": "python",
   "nbconvert_exporter": "python",
   "pygments_lexer": "ipython2",
   "version": "2.7.6"
  }
 },
 "nbformat": 4,
 "nbformat_minor": 5
}
