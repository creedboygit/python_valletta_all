{
 "cells": [
  {
   "cell_type": "code",
   "execution_count": 1,
   "id": "initial_id",
   "metadata": {
    "collapsed": true,
    "ExecuteTime": {
     "end_time": "2024-02-07T13:11:47.359743200Z",
     "start_time": "2024-02-07T13:11:47.356387Z"
    }
   },
   "outputs": [],
   "source": [
    "import datetime"
   ]
  },
  {
   "cell_type": "code",
   "outputs": [
    {
     "data": {
      "text/plain": "datetime.datetime(2024, 2, 29, 0, 0)"
     },
     "execution_count": 2,
     "metadata": {},
     "output_type": "execute_result"
    }
   ],
   "source": [
    "# strptime 활용\n",
    "date = '2024-02-29'\n",
    "date_parsed = datetime.datetime.strptime(date, '%Y-%m-%d')\n",
    "date_parsed"
   ],
   "metadata": {
    "collapsed": false,
    "ExecuteTime": {
     "end_time": "2024-02-09T06:03:53.960321100Z",
     "start_time": "2024-02-09T06:03:53.936084900Z"
    }
   },
   "id": "778202fdb9b6bc0a",
   "execution_count": 2
  },
  {
   "cell_type": "code",
   "outputs": [],
   "source": [
    "from dateutil.parser import parse"
   ],
   "metadata": {
    "collapsed": false,
    "ExecuteTime": {
     "end_time": "2024-02-09T06:04:31.839866700Z",
     "start_time": "2024-02-09T06:04:31.834708800Z"
    }
   },
   "id": "69afb80b437a7fb3",
   "execution_count": 3
  },
  {
   "cell_type": "code",
   "outputs": [
    {
     "data": {
      "text/plain": "datetime.datetime(2024, 2, 29, 0, 0)"
     },
     "execution_count": 4,
     "metadata": {},
     "output_type": "execute_result"
    }
   ],
   "source": [
    "# dateutil 활용\n",
    "parse(date)"
   ],
   "metadata": {
    "collapsed": false,
    "ExecuteTime": {
     "end_time": "2024-02-09T06:04:47.517826500Z",
     "start_time": "2024-02-09T06:04:47.511370500Z"
    }
   },
   "id": "f86a6f90302930f0",
   "execution_count": 4
  },
  {
   "cell_type": "code",
   "outputs": [
    {
     "data": {
      "text/plain": "datetime.datetime(2024, 10, 15, 16, 5, 32)"
     },
     "execution_count": 5,
     "metadata": {},
     "output_type": "execute_result"
    }
   ],
   "source": [
    "# 자동 형식 탐지\n",
    "parse(\"Oct 15, 2024 04:05:32 PM\")"
   ],
   "metadata": {
    "collapsed": false,
    "ExecuteTime": {
     "end_time": "2024-02-09T06:06:47.862591800Z",
     "start_time": "2024-02-09T06:06:47.856982900Z"
    }
   },
   "id": "9de8ed7094e232cb",
   "execution_count": 5
  },
  {
   "cell_type": "code",
   "outputs": [],
   "source": [
    "# 날짜 문자열 자동 탐지\n",
    "log = 'INFO 2024-02-26T00:00:01 Happy new year, human.'"
   ],
   "metadata": {
    "collapsed": false,
    "ExecuteTime": {
     "end_time": "2024-02-09T06:07:21.408020400Z",
     "start_time": "2024-02-09T06:07:21.401181100Z"
    }
   },
   "id": "7d9eac3d96dbe9d1",
   "execution_count": 6
  },
  {
   "cell_type": "code",
   "outputs": [
    {
     "data": {
      "text/plain": "datetime.datetime(2024, 2, 26, 0, 0, 1)"
     },
     "execution_count": 19,
     "metadata": {},
     "output_type": "execute_result"
    }
   ],
   "source": [
    "# parse(log, fuzzy=True)\n",
    "parsed = parse(log, fuzzy_with_tokens=True)\n",
    "parsed[0]"
   ],
   "metadata": {
    "collapsed": false,
    "ExecuteTime": {
     "end_time": "2024-02-09T06:10:35.011320100Z",
     "start_time": "2024-02-09T06:10:35.004335800Z"
    }
   },
   "id": "3dbc82d58a9a64e3",
   "execution_count": 19
  },
  {
   "cell_type": "markdown",
   "source": [
    "# time\n",
    "* datetime 라이브러리와 같이 파이썬에서 시간과 날짜를 다루기 위한 내장 라이브러리\n",
    "* 프로그램 **실행 경과 시간**, **프로그램 대기 시간** 등을 만들 때 주로 사용\n"
   ],
   "metadata": {
    "collapsed": false
   },
   "id": "574daec0c7aa8c32"
  },
  {
   "cell_type": "code",
   "outputs": [],
   "source": [
    "import time"
   ],
   "metadata": {
    "collapsed": false,
    "ExecuteTime": {
     "end_time": "2024-02-09T06:13:13.023140500Z",
     "start_time": "2024-02-09T06:13:13.017121Z"
    }
   },
   "id": "476921e53f9ffc44",
   "execution_count": 20
  },
  {
   "cell_type": "code",
   "outputs": [
    {
     "data": {
      "text/plain": "1707459200.5059135"
     },
     "execution_count": 21,
     "metadata": {},
     "output_type": "execute_result"
    }
   ],
   "source": [
    "# 현재 시간 출력 (실수형)\n",
    "time.time()"
   ],
   "metadata": {
    "collapsed": false,
    "ExecuteTime": {
     "end_time": "2024-02-09T06:13:20.512306500Z",
     "start_time": "2024-02-09T06:13:20.505913700Z"
    }
   },
   "id": "c4b1f64258212d3e",
   "execution_count": 21
  },
  {
   "cell_type": "code",
   "outputs": [
    {
     "data": {
      "text/plain": "'Fri Feb  9 15:13:40 2024'"
     },
     "execution_count": 25,
     "metadata": {},
     "output_type": "execute_result"
    }
   ],
   "source": [
    "# 현재 시간 출력 (문자형)\n",
    "time.ctime()"
   ],
   "metadata": {
    "collapsed": false,
    "ExecuteTime": {
     "end_time": "2024-02-09T06:13:40.082809500Z",
     "start_time": "2024-02-09T06:13:40.080683500Z"
    }
   },
   "id": "4ceaf0e6660af457",
   "execution_count": 25
  },
  {
   "cell_type": "code",
   "outputs": [
    {
     "name": "stdout",
     "output_type": "stream",
     "text": [
      "바로 출력되는 구문\n",
      "3초 후 출력되는 구문\n"
     ]
    }
   ],
   "source": [
    "# 대기 시간 생성\n",
    "print('바로 출력되는 구문')\n",
    "\n",
    "time.sleep(3)\n",
    "\n",
    "print('3초 후 출력되는 구문')"
   ],
   "metadata": {
    "collapsed": false,
    "ExecuteTime": {
     "end_time": "2024-02-09T06:14:09.530617400Z",
     "start_time": "2024-02-09T06:14:06.523224200Z"
    }
   },
   "id": "65dbe6e5a821118e",
   "execution_count": 26
  },
  {
   "cell_type": "code",
   "outputs": [
    {
     "name": "stdout",
     "output_type": "stream",
     "text": [
      "반복 횟수:  1\n",
      "반복 횟수:  2\n",
      "반복 횟수:  3\n",
      "반복 횟수:  4\n",
      "반복 횟수:  5\n",
      "경과 시간은 : 5.003082752227783초 입니다.\n"
     ]
    }
   ],
   "source": [
    "# 경과 시간 출력\n",
    "start_time = time.time()\n",
    "\n",
    "for i in range(5):\n",
    "    time.sleep(1)  # 1초간 대기\n",
    "    print('반복 횟수: ', i + 1)\n",
    "\n",
    "end_time = time.time()\n",
    "elapsed_time = end_time - start_time\n",
    "\n",
    "time.sleep(1)\n",
    "\n",
    "print('경과 시간은 : {}초 입니다.'.format(elapsed_time))"
   ],
   "metadata": {
    "collapsed": false,
    "ExecuteTime": {
     "end_time": "2024-02-09T06:18:08.094293Z",
     "start_time": "2024-02-09T06:18:02.087050700Z"
    }
   },
   "id": "f0852eb1b8ca729a",
   "execution_count": 32
  },
  {
   "cell_type": "code",
   "outputs": [],
   "source": [],
   "metadata": {
    "collapsed": false
   },
   "id": "1fdea47f997ec1e6"
  }
 ],
 "metadata": {
  "kernelspec": {
   "display_name": "Python 3",
   "language": "python",
   "name": "python3"
  },
  "language_info": {
   "codemirror_mode": {
    "name": "ipython",
    "version": 2
   },
   "file_extension": ".py",
   "mimetype": "text/x-python",
   "name": "python",
   "nbconvert_exporter": "python",
   "pygments_lexer": "ipython2",
   "version": "2.7.6"
  }
 },
 "nbformat": 4,
 "nbformat_minor": 5
}
