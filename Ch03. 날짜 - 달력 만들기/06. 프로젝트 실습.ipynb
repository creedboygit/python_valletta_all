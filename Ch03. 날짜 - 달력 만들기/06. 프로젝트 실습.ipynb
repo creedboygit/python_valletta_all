{
 "cells": [
  {
   "cell_type": "markdown",
   "source": [
    "## 달력 프로젝트 실습"
   ],
   "metadata": {
    "collapsed": false
   },
   "id": "95e61da6df02cb2"
  },
  {
   "cell_type": "markdown",
   "source": [
    "> ### 진행 순서\n",
    "> 1. 윤년 판별 함수\n",
    "> 2. 마지막 날짜 계산\n",
    "> 3. 지나온 날짜 계산\n",
    "> 4. 요일 반환\n",
    "> 5. 달력 확인"
   ],
   "metadata": {
    "collapsed": false
   },
   "id": "be1e5aa80389acf1"
  },
  {
   "cell_type": "markdown",
   "source": [
    "## 윤년 판별 함수"
   ],
   "metadata": {
    "collapsed": false
   },
   "id": "2130b76af173cb30"
  },
  {
   "cell_type": "markdown",
   "source": [
    "### 방법 1. 윤년 판별 공식에 따라 작동하는 함수 만들기"
   ],
   "metadata": {
    "collapsed": false
   },
   "id": "701119000aa20cf8"
  },
  {
   "cell_type": "code",
   "outputs": [],
   "source": [
    "def isLeapYear(year):  # 윤년이면 True, 아니면 False를 출력하는 함수\n",
    "    return year % 4 == 0 and year % 100 != 0 or year % 400 == 0"
   ],
   "metadata": {
    "collapsed": false,
    "ExecuteTime": {
     "end_time": "2024-02-09T07:01:48.440661900Z",
     "start_time": "2024-02-09T07:01:48.435655300Z"
    }
   },
   "id": "756ee9a3531c650e",
   "execution_count": 3
  },
  {
   "cell_type": "code",
   "outputs": [
    {
     "data": {
      "text/plain": "True"
     },
     "execution_count": 4,
     "metadata": {},
     "output_type": "execute_result"
    }
   ],
   "source": [
    "isLeapYear(2020)"
   ],
   "metadata": {
    "collapsed": false,
    "ExecuteTime": {
     "end_time": "2024-02-09T07:01:54.479875Z",
     "start_time": "2024-02-09T07:01:54.471484900Z"
    }
   },
   "id": "ea10d913b0a5665b",
   "execution_count": 4
  },
  {
   "cell_type": "code",
   "outputs": [
    {
     "data": {
      "text/plain": "False"
     },
     "execution_count": 6,
     "metadata": {},
     "output_type": "execute_result"
    }
   ],
   "source": [
    "isLeapYear(2023)"
   ],
   "metadata": {
    "collapsed": false,
    "ExecuteTime": {
     "end_time": "2024-02-09T07:02:03.072382500Z",
     "start_time": "2024-02-09T07:02:03.065522400Z"
    }
   },
   "id": "9962da07d0a74958",
   "execution_count": 6
  },
  {
   "cell_type": "code",
   "outputs": [
    {
     "data": {
      "text/plain": "True"
     },
     "execution_count": 7,
     "metadata": {},
     "output_type": "execute_result"
    }
   ],
   "source": [
    "isLeapYear(2024)"
   ],
   "metadata": {
    "collapsed": false,
    "ExecuteTime": {
     "end_time": "2024-02-09T07:02:08.518584300Z",
     "start_time": "2024-02-09T07:02:08.505576100Z"
    }
   },
   "id": "ed8d3908bc621f71",
   "execution_count": 7
  },
  {
   "cell_type": "markdown",
   "source": [
    "### 방법 2. calendar 모듈 활용하기"
   ],
   "metadata": {
    "collapsed": false
   },
   "id": "292abcf00e75326f"
  },
  {
   "cell_type": "code",
   "outputs": [],
   "source": [
    "import calendar"
   ],
   "metadata": {
    "collapsed": false,
    "ExecuteTime": {
     "end_time": "2024-02-09T07:02:35.731383100Z",
     "start_time": "2024-02-09T07:02:35.727869700Z"
    }
   },
   "id": "6f9276d82ca625f1",
   "execution_count": 9
  },
  {
   "cell_type": "code",
   "outputs": [
    {
     "data": {
      "text/plain": "True"
     },
     "execution_count": 10,
     "metadata": {},
     "output_type": "execute_result"
    }
   ],
   "source": [
    "calendar.isleap(2020)"
   ],
   "metadata": {
    "collapsed": false,
    "ExecuteTime": {
     "end_time": "2024-02-09T07:02:41.385198900Z",
     "start_time": "2024-02-09T07:02:41.377766800Z"
    }
   },
   "id": "1e2d6b0e0a30bc51",
   "execution_count": 10
  },
  {
   "cell_type": "code",
   "outputs": [
    {
     "data": {
      "text/plain": "True"
     },
     "execution_count": 11,
     "metadata": {},
     "output_type": "execute_result"
    }
   ],
   "source": [
    "calendar.isleap(2024)"
   ],
   "metadata": {
    "collapsed": false,
    "ExecuteTime": {
     "end_time": "2024-02-09T07:02:50.440923Z",
     "start_time": "2024-02-09T07:02:50.433414200Z"
    }
   },
   "id": "5fd53c291faa579c",
   "execution_count": 11
  },
  {
   "cell_type": "code",
   "outputs": [
    {
     "data": {
      "text/plain": "False"
     },
     "execution_count": 12,
     "metadata": {},
     "output_type": "execute_result"
    }
   ],
   "source": [
    "calendar.isleap(2023)"
   ],
   "metadata": {
    "collapsed": false,
    "ExecuteTime": {
     "end_time": "2024-02-09T07:02:55.365444800Z",
     "start_time": "2024-02-09T07:02:55.358349300Z"
    }
   },
   "id": "a8866272b24bf180",
   "execution_count": 12
  },
  {
   "cell_type": "markdown",
   "source": [],
   "metadata": {
    "collapsed": false
   },
   "id": "4cbc7e6d27f2aeb8"
  },
  {
   "cell_type": "markdown",
   "source": [
    "### 마지막 날짜 계산"
   ],
   "metadata": {
    "collapsed": false
   },
   "id": "64d923d296c01854"
  },
  {
   "cell_type": "markdown",
   "source": [
    "> * lastDay 인수로 년, 월을 넘겨받아 그 달의 마지막 날짜를 리턴하는 함수"
   ],
   "metadata": {
    "collapsed": false
   },
   "id": "6f5dc729bb50995b"
  },
  {
   "cell_type": "code",
   "outputs": [],
   "source": [
    "def last_day(year, month):\n",
    "    # 각 달의 마지막 날짜를 기억하는 리스트 만들기\n",
    "    m = [31, 28, 31, 30, 31, 30, 31, 31, 30, 31, 30, 31]\n",
    "    \n",
    "    # 2월의 마지막 날짜를 확정 -> 윤년이면 29일로 수정\n",
    "    if calendar.isleap(year):\n",
    "        m[1] = 29\n",
    "    \n",
    "    return m[month - 1] # 마지막 날짜 리턴    "
   ],
   "metadata": {
    "collapsed": false,
    "ExecuteTime": {
     "end_time": "2024-02-09T07:21:03.128677700Z",
     "start_time": "2024-02-09T07:21:03.123127400Z"
    }
   },
   "id": "20e544730318f3c2",
   "execution_count": 14
  },
  {
   "cell_type": "code",
   "outputs": [
    {
     "data": {
      "text/plain": "31"
     },
     "execution_count": 20,
     "metadata": {},
     "output_type": "execute_result"
    }
   ],
   "source": [
    "last_day(2024, 12)"
   ],
   "metadata": {
    "collapsed": false,
    "ExecuteTime": {
     "end_time": "2024-02-09T07:21:22.422842600Z",
     "start_time": "2024-02-09T07:21:22.419405200Z"
    }
   },
   "id": "9f10c442f99743b1",
   "execution_count": 20
  },
  {
   "cell_type": "markdown",
   "source": [
    "### 지나온 날짜 계산"
   ],
   "metadata": {
    "collapsed": false
   },
   "id": "21731f6104c0f01c"
  },
  {
   "cell_type": "code",
   "outputs": [],
   "source": [],
   "metadata": {
    "collapsed": false
   },
   "id": "94c9a8be635bd6f0"
  }
 ],
 "metadata": {
  "kernelspec": {
   "display_name": "Python 3",
   "language": "python",
   "name": "python3"
  },
  "language_info": {
   "codemirror_mode": {
    "name": "ipython",
    "version": 2
   },
   "file_extension": ".py",
   "mimetype": "text/x-python",
   "name": "python",
   "nbconvert_exporter": "python",
   "pygments_lexer": "ipython2",
   "version": "2.7.6"
  }
 },
 "nbformat": 4,
 "nbformat_minor": 5
}
