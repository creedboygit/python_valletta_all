{
 "cells": [
  {
   "cell_type": "code",
   "execution_count": 2,
   "id": "initial_id",
   "metadata": {
    "collapsed": true,
    "ExecuteTime": {
     "end_time": "2024-02-14T08:07:40.392301Z",
     "start_time": "2024-02-14T08:07:40.360788500Z"
    }
   },
   "outputs": [],
   "source": [
    "import sqlite3"
   ]
  },
  {
   "cell_type": "code",
   "outputs": [],
   "source": [
    "# 연습용 DB 연결\n",
    "conn = sqlite3.connect(\"test.db\")"
   ],
   "metadata": {
    "collapsed": false,
    "ExecuteTime": {
     "end_time": "2024-02-14T08:07:40.413480Z",
     "start_time": "2024-02-14T08:07:40.395413800Z"
    }
   },
   "id": "23fa23fd77bcdeec",
   "execution_count": 3
  },
  {
   "cell_type": "code",
   "outputs": [],
   "source": [
    "# 커서 생성\n",
    "c = conn.cursor()"
   ],
   "metadata": {
    "collapsed": false,
    "ExecuteTime": {
     "end_time": "2024-02-14T08:07:40.413480Z",
     "start_time": "2024-02-14T08:07:40.396927300Z"
    }
   },
   "id": "5766ed08da3dbf4e",
   "execution_count": 4
  },
  {
   "cell_type": "code",
   "outputs": [
    {
     "ename": "OperationalError",
     "evalue": "table test2 already exists",
     "output_type": "error",
     "traceback": [
      "\u001B[1;31m---------------------------------------------------------------------------\u001B[0m",
      "\u001B[1;31mOperationalError\u001B[0m                          Traceback (most recent call last)",
      "Cell \u001B[1;32mIn[5], line 3\u001B[0m\n\u001B[0;32m      1\u001B[0m \u001B[38;5;66;03m# 테이블 생성\u001B[39;00m\n\u001B[0;32m      2\u001B[0m query \u001B[38;5;241m=\u001B[39m \u001B[38;5;124m'''\u001B[39m\u001B[38;5;124mcreate table test2 (id integer primary key, product_name text, price integer)\u001B[39m\u001B[38;5;124m'''\u001B[39m\n\u001B[1;32m----> 3\u001B[0m \u001B[43mc\u001B[49m\u001B[38;5;241;43m.\u001B[39;49m\u001B[43mexecute\u001B[49m\u001B[43m(\u001B[49m\u001B[43mquery\u001B[49m\u001B[43m)\u001B[49m\n",
      "\u001B[1;31mOperationalError\u001B[0m: table test2 already exists"
     ]
    }
   ],
   "source": [
    "# 테이블 생성\n",
    "query = '''create table test2 (id integer primary key, product_name text, price integer)'''\n",
    "c.execute(query)"
   ],
   "metadata": {
    "collapsed": false,
    "ExecuteTime": {
     "end_time": "2024-02-14T08:07:40.414480100Z",
     "start_time": "2024-02-14T08:07:40.401201400Z"
    }
   },
   "id": "139765d1a46f739d",
   "execution_count": 5
  },
  {
   "cell_type": "code",
   "outputs": [
    {
     "name": "stdout",
     "output_type": "stream",
     "text": [
      "[('table', 'test', 'test', 2, 'CREATE TABLE test (id integer primary key, product_name text, price integer)'), ('table', 'test2', 'test2', 3, 'CREATE TABLE test2 (id integer primary key, product_name text, price integer)')]\n"
     ]
    }
   ],
   "source": [
    "# 테이블 생성 확인\n",
    "c.execute('''select * from sqlite_master where type = \"table\"''')\n",
    "print(c.fetchall())"
   ],
   "metadata": {
    "collapsed": false,
    "ExecuteTime": {
     "end_time": "2024-02-14T08:07:40.455161800Z",
     "start_time": "2024-02-14T08:07:40.415481500Z"
    }
   },
   "id": "e91df270279f5da8",
   "execution_count": 6
  },
  {
   "cell_type": "markdown",
   "source": [
    "### insert 방법\n",
    "1. 열(키) 항목 순서를 정확히 알고 있는 경우"
   ],
   "metadata": {
    "collapsed": false
   },
   "id": "7f3fed81ddb217c0"
  },
  {
   "cell_type": "code",
   "outputs": [
    {
     "ename": "IntegrityError",
     "evalue": "UNIQUE constraint failed: test2.id",
     "output_type": "error",
     "traceback": [
      "\u001B[1;31m---------------------------------------------------------------------------\u001B[0m",
      "\u001B[1;31mIntegrityError\u001B[0m                            Traceback (most recent call last)",
      "Cell \u001B[1;32mIn[7], line 2\u001B[0m\n\u001B[0;32m      1\u001B[0m \u001B[38;5;66;03m# 데이터 삽입\u001B[39;00m\n\u001B[1;32m----> 2\u001B[0m \u001B[43mc\u001B[49m\u001B[38;5;241;43m.\u001B[39;49m\u001B[43mexecute\u001B[49m\u001B[43m(\u001B[49m\u001B[38;5;124;43m\"\u001B[39;49m\u001B[38;5;124;43minsert into test2 values (1, \u001B[39;49m\u001B[38;5;124;43m'\u001B[39;49m\u001B[38;5;124;43m모자\u001B[39;49m\u001B[38;5;124;43m'\u001B[39;49m\u001B[38;5;124;43m, 14500)\u001B[39;49m\u001B[38;5;124;43m\"\u001B[39;49m\u001B[43m)\u001B[49m\n",
      "\u001B[1;31mIntegrityError\u001B[0m: UNIQUE constraint failed: test2.id"
     ]
    }
   ],
   "source": [
    "# 데이터 삽입\n",
    "c.execute(\"insert into test2 values (1, '모자', 14500)\")"
   ],
   "metadata": {
    "collapsed": false,
    "ExecuteTime": {
     "end_time": "2024-02-14T08:07:40.479697900Z",
     "start_time": "2024-02-14T08:07:40.454161500Z"
    }
   },
   "id": "98e720a4728043df",
   "execution_count": 7
  },
  {
   "cell_type": "code",
   "outputs": [],
   "source": [
    "conn.commit()"
   ],
   "metadata": {
    "collapsed": false,
    "ExecuteTime": {
     "end_time": "2024-02-14T08:07:40.496935100Z",
     "start_time": "2024-02-14T08:07:40.482370800Z"
    }
   },
   "id": "79a9ea4a721348c1",
   "execution_count": 8
  },
  {
   "cell_type": "code",
   "outputs": [
    {
     "ename": "IntegrityError",
     "evalue": "UNIQUE constraint failed: test2.id",
     "output_type": "error",
     "traceback": [
      "\u001B[1;31m---------------------------------------------------------------------------\u001B[0m",
      "\u001B[1;31mIntegrityError\u001B[0m                            Traceback (most recent call last)",
      "Cell \u001B[1;32mIn[9], line 2\u001B[0m\n\u001B[0;32m      1\u001B[0m \u001B[38;5;66;03m# 데이터 삽입\u001B[39;00m\n\u001B[1;32m----> 2\u001B[0m \u001B[43mc\u001B[49m\u001B[38;5;241;43m.\u001B[39;49m\u001B[43mexecute\u001B[49m\u001B[43m(\u001B[49m\u001B[38;5;124;43m\"\u001B[39;49m\u001B[38;5;124;43minsert into test2 values (2, \u001B[39;49m\u001B[38;5;124;43m'\u001B[39;49m\u001B[38;5;124;43m코트\u001B[39;49m\u001B[38;5;124;43m'\u001B[39;49m\u001B[38;5;124;43m, 130300)\u001B[39;49m\u001B[38;5;124;43m\"\u001B[39;49m\u001B[43m)\u001B[49m\n\u001B[0;32m      3\u001B[0m conn\u001B[38;5;241m.\u001B[39mcommit()\n",
      "\u001B[1;31mIntegrityError\u001B[0m: UNIQUE constraint failed: test2.id"
     ]
    }
   ],
   "source": [
    "# 데이터 삽입\n",
    "c.execute(\"insert into test2 values (2, '코트', 130300)\")\n",
    "conn.commit()"
   ],
   "metadata": {
    "collapsed": false,
    "ExecuteTime": {
     "end_time": "2024-02-14T08:07:40.496935100Z",
     "start_time": "2024-02-14T08:07:40.484883100Z"
    }
   },
   "id": "cd84a2f9b0b2f960",
   "execution_count": 9
  },
  {
   "cell_type": "markdown",
   "source": [
    "### insert 방법\n",
    "2. 열(키) 항목 순서를 정확히 모르는 경우"
   ],
   "metadata": {
    "collapsed": false
   },
   "id": "cd592b7ccd48c62b"
  },
  {
   "cell_type": "code",
   "outputs": [],
   "source": [
    "# 데이터 삽입\n",
    "c.execute(\"insert into test2 (product_name, price, id) values (?, ?, ?)\", ('티셔츠', 20000, 3))\n",
    "conn.commit()"
   ],
   "metadata": {
    "collapsed": false,
    "ExecuteTime": {
     "start_time": "2024-02-14T08:07:40.492935800Z"
    }
   },
   "id": "2eddff633e0133ea",
   "execution_count": null
  },
  {
   "cell_type": "code",
   "outputs": [
    {
     "ename": "IntegrityError",
     "evalue": "UNIQUE constraint failed: test2.id",
     "output_type": "error",
     "traceback": [
      "\u001B[1;31m---------------------------------------------------------------------------\u001B[0m",
      "\u001B[1;31mIntegrityError\u001B[0m                            Traceback (most recent call last)",
      "Cell \u001B[1;32mIn[10], line 2\u001B[0m\n\u001B[0;32m      1\u001B[0m \u001B[38;5;66;03m# 데이터 삽입\u001B[39;00m\n\u001B[1;32m----> 2\u001B[0m \u001B[43mc\u001B[49m\u001B[38;5;241;43m.\u001B[39;49m\u001B[43mexecute\u001B[49m\u001B[43m(\u001B[49m\u001B[38;5;124;43m\"\u001B[39;49m\u001B[38;5;124;43minsert into test2 (id, product_name, price) values (?, ?, ?)\u001B[39;49m\u001B[38;5;124;43m\"\u001B[39;49m\u001B[43m,\u001B[49m\u001B[43m \u001B[49m\u001B[43m(\u001B[49m\u001B[38;5;241;43m4\u001B[39;49m\u001B[43m,\u001B[49m\u001B[43m \u001B[49m\u001B[38;5;124;43m'\u001B[39;49m\u001B[38;5;124;43m블라우스\u001B[39;49m\u001B[38;5;124;43m'\u001B[39;49m\u001B[43m,\u001B[49m\u001B[43m \u001B[49m\u001B[38;5;241;43m300000\u001B[39;49m\u001B[43m)\u001B[49m\u001B[43m)\u001B[49m\n\u001B[0;32m      3\u001B[0m conn\u001B[38;5;241m.\u001B[39mcommit()\n",
      "\u001B[1;31mIntegrityError\u001B[0m: UNIQUE constraint failed: test2.id"
     ]
    }
   ],
   "source": [
    "# 데이터 삽입\n",
    "c.execute(\"insert into test2 (id, product_name, price) values (?, ?, ?)\", (4, '블라우스', 300000))\n",
    "conn.commit()"
   ],
   "metadata": {
    "collapsed": false,
    "ExecuteTime": {
     "end_time": "2024-02-14T08:07:40.531068200Z",
     "start_time": "2024-02-14T08:07:40.498935400Z"
    }
   },
   "id": "cb4f7ed718aaccf4",
   "execution_count": 10
  },
  {
   "cell_type": "code",
   "outputs": [],
   "source": [
    "c.execute(\"insert into test2 (id, product_name, price) values (6, '블라우스', 300000)\")\n",
    "conn.commit()"
   ],
   "metadata": {
    "collapsed": false,
    "ExecuteTime": {
     "start_time": "2024-02-14T08:07:40.506067500Z"
    }
   },
   "id": "fb29d0e3c2b86925",
   "execution_count": null
  },
  {
   "cell_type": "markdown",
   "source": [
    "### insert 방법\n",
    "3. 여러 데이터를 한번에 삽입하고 싶은 경우"
   ],
   "metadata": {
    "collapsed": false
   },
   "id": "4c16bc7eb8fadd75"
  },
  {
   "cell_type": "code",
   "outputs": [],
   "source": [
    "# 테이블 내용 전체 삭제\n",
    "c.execute(\"delete from test2\")\n",
    "conn.commit()"
   ],
   "metadata": {
    "collapsed": false,
    "ExecuteTime": {
     "start_time": "2024-02-14T08:07:40.507068200Z"
    }
   },
   "id": "d61f5092fad2d1f9",
   "execution_count": null
  },
  {
   "cell_type": "code",
   "outputs": [],
   "source": [
    "# 추가할 상품 리스트\n",
    "product_list = [\n",
    "    ['모자', 10000],\n",
    "    ['가방', 12000],\n",
    "    ['가방', 120001],\n",
    "    ['가방', 120002],\n",
    "    ['가방', 120003],\n",
    "    ['바지', 20000],\n",
    "]\n",
    "\n",
    "# 데이터 여러 줄 삽입\n",
    "c.executemany(\"insert into test2 (product_name, price) values (?, ?)\", product_list)\n",
    "conn.commit()"
   ],
   "metadata": {
    "collapsed": false,
    "ExecuteTime": {
     "end_time": "2024-02-14T08:07:40.552477600Z",
     "start_time": "2024-02-14T08:07:40.533068100Z"
    }
   },
   "id": "4c5f90e0f7cc04ba",
   "execution_count": 11
  },
  {
   "cell_type": "markdown",
   "source": [
    "### 데이터 수정 (update)"
   ],
   "metadata": {
    "collapsed": false
   },
   "id": "ea840f74f388d3cb"
  },
  {
   "cell_type": "markdown",
   "source": [
    "### update 방법\n",
    "1. 튜플 형태로 수정"
   ],
   "metadata": {
    "collapsed": false
   },
   "id": "44f12fb139fc8250"
  },
  {
   "cell_type": "code",
   "outputs": [],
   "source": [
    "c.execute(\"update test2 set product_name = '수정상품명' where id = 1\")\n",
    "conn.commit()"
   ],
   "metadata": {
    "collapsed": false,
    "ExecuteTime": {
     "end_time": "2024-02-14T08:07:40.573343Z",
     "start_time": "2024-02-14T08:07:40.553477400Z"
    }
   },
   "id": "d946bdb35e4b7ca4",
   "execution_count": 12
  },
  {
   "cell_type": "code",
   "outputs": [],
   "source": [
    "c.execute(\"update test2 set product_name = ? where id = ?\", ('슬랙스', 1))\n",
    "conn.commit()"
   ],
   "metadata": {
    "collapsed": false,
    "ExecuteTime": {
     "end_time": "2024-02-14T08:07:40.574343100Z",
     "start_time": "2024-02-14T08:07:40.557626500Z"
    }
   },
   "id": "108bf14bdfbc2429",
   "execution_count": 13
  },
  {
   "cell_type": "markdown",
   "source": [
    "### update 방법\n",
    "2. 딕셔너리 형태로 수정"
   ],
   "metadata": {
    "collapsed": false
   },
   "id": "93ddaeaaee9bbdb3"
  },
  {
   "cell_type": "code",
   "outputs": [],
   "source": [
    "c.execute(\"update test2 set price = :price where id = :id\", {\"price\": 200, \"id\": 2})\n",
    "conn.commit()"
   ],
   "metadata": {
    "collapsed": false,
    "ExecuteTime": {
     "end_time": "2024-02-14T08:07:40.582591700Z",
     "start_time": "2024-02-14T08:07:40.576468900Z"
    }
   },
   "id": "3e2be715f71e8af3",
   "execution_count": 14
  },
  {
   "cell_type": "markdown",
   "source": [
    "### update 방법\n",
    "3. %s 표시자 사용"
   ],
   "metadata": {
    "collapsed": false
   },
   "id": "db70107be94fd161"
  },
  {
   "cell_type": "code",
   "outputs": [],
   "source": [],
   "metadata": {
    "collapsed": false,
    "ExecuteTime": {
     "end_time": "2024-02-14T08:07:40.592590Z",
     "start_time": "2024-02-14T08:07:40.579080800Z"
    }
   },
   "id": "709a0843cd828136",
   "execution_count": 14
  }
 ],
 "metadata": {
  "kernelspec": {
   "display_name": "Python 3",
   "language": "python",
   "name": "python3"
  },
  "language_info": {
   "codemirror_mode": {
    "name": "ipython",
    "version": 2
   },
   "file_extension": ".py",
   "mimetype": "text/x-python",
   "name": "python",
   "nbconvert_exporter": "python",
   "pygments_lexer": "ipython2",
   "version": "2.7.6"
  }
 },
 "nbformat": 4,
 "nbformat_minor": 5
}
