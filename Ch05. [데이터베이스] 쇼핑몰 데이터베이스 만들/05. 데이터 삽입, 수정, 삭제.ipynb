{
 "cells": [
  {
   "cell_type": "code",
   "execution_count": 2,
   "id": "initial_id",
   "metadata": {
    "collapsed": true,
    "ExecuteTime": {
     "end_time": "2024-02-14T07:42:05.673929400Z",
     "start_time": "2024-02-14T07:42:05.662422100Z"
    }
   },
   "outputs": [],
   "source": [
    "import sqlite3"
   ]
  },
  {
   "cell_type": "code",
   "outputs": [],
   "source": [
    "# 연습용 DB 연결\n",
    "conn = sqlite3.connect(\"test.db\")"
   ],
   "metadata": {
    "collapsed": false,
    "ExecuteTime": {
     "end_time": "2024-02-14T07:42:06.002985200Z",
     "start_time": "2024-02-14T07:42:06.000472Z"
    }
   },
   "id": "23fa23fd77bcdeec",
   "execution_count": 3
  },
  {
   "cell_type": "code",
   "outputs": [],
   "source": [
    "# 커서 생성\n",
    "c = conn.cursor()"
   ],
   "metadata": {
    "collapsed": false,
    "ExecuteTime": {
     "end_time": "2024-02-14T07:42:15.259398300Z",
     "start_time": "2024-02-14T07:42:15.246886Z"
    }
   },
   "id": "5766ed08da3dbf4e",
   "execution_count": 4
  },
  {
   "cell_type": "code",
   "outputs": [
    {
     "data": {
      "text/plain": "<sqlite3.Cursor at 0x1ca554acbc0>"
     },
     "execution_count": 5,
     "metadata": {},
     "output_type": "execute_result"
    }
   ],
   "source": [
    "# 테이블 생성\n",
    "query = '''create table test2 (id integer primary key, product_name text, price integer)'''\n",
    "c.execute(query)"
   ],
   "metadata": {
    "collapsed": false,
    "ExecuteTime": {
     "end_time": "2024-02-14T07:43:01.296387500Z",
     "start_time": "2024-02-14T07:43:01.277814600Z"
    }
   },
   "id": "139765d1a46f739d",
   "execution_count": 5
  },
  {
   "cell_type": "code",
   "outputs": [
    {
     "name": "stdout",
     "output_type": "stream",
     "text": [
      "[('table', 'test', 'test', 2, 'CREATE TABLE test (id integer primary key, product_name text, price integer)'), ('table', 'test2', 'test2', 3, 'CREATE TABLE test2 (id integer primary key, product_name text, price integer)')]\n"
     ]
    }
   ],
   "source": [
    "# 테이블 생성 확인\n",
    "c.execute('''select * from sqlite_master where type = \"table\"''')\n",
    "print(c.fetchall())"
   ],
   "metadata": {
    "collapsed": false,
    "ExecuteTime": {
     "end_time": "2024-02-14T07:43:48.190586100Z",
     "start_time": "2024-02-14T07:43:48.157302700Z"
    }
   },
   "id": "e91df270279f5da8",
   "execution_count": 8
  },
  {
   "cell_type": "markdown",
   "source": [
    "### insert 방법\n",
    "1. 열(키) 항목 순서를 정확히 알고 있는 경우"
   ],
   "metadata": {
    "collapsed": false
   },
   "id": "7f3fed81ddb217c0"
  },
  {
   "cell_type": "code",
   "outputs": [
    {
     "data": {
      "text/plain": "<sqlite3.Cursor at 0x1ca554acbc0>"
     },
     "execution_count": 9,
     "metadata": {},
     "output_type": "execute_result"
    }
   ],
   "source": [
    "# 데이터 삽입\n",
    "c.execute(\"insert into test2 values (1, '모자', 14500)\")"
   ],
   "metadata": {
    "collapsed": false,
    "ExecuteTime": {
     "end_time": "2024-02-14T07:45:19.712575800Z",
     "start_time": "2024-02-14T07:45:19.674208100Z"
    }
   },
   "id": "98e720a4728043df",
   "execution_count": 9
  },
  {
   "cell_type": "code",
   "outputs": [],
   "source": [
    "conn.commit()"
   ],
   "metadata": {
    "collapsed": false,
    "ExecuteTime": {
     "end_time": "2024-02-14T07:45:27.980548500Z",
     "start_time": "2024-02-14T07:45:27.941819800Z"
    }
   },
   "id": "79a9ea4a721348c1",
   "execution_count": 10
  },
  {
   "cell_type": "code",
   "outputs": [],
   "source": [
    "# 데이터 삽입\n",
    "c.execute(\"insert into test2 values (2, '코트', 130300)\")\n",
    "conn.commit()"
   ],
   "metadata": {
    "collapsed": false,
    "ExecuteTime": {
     "end_time": "2024-02-14T07:46:12.798012400Z",
     "start_time": "2024-02-14T07:46:12.765192400Z"
    }
   },
   "id": "cd84a2f9b0b2f960",
   "execution_count": 11
  },
  {
   "cell_type": "markdown",
   "source": [
    "### insert 방법\n",
    "2. 열(키) 항목 순서를 정확히 모르는 경우"
   ],
   "metadata": {
    "collapsed": false
   },
   "id": "cd592b7ccd48c62b"
  },
  {
   "cell_type": "code",
   "outputs": [],
   "source": [
    "# 데이터 삽입\n",
    "c.execute(\"insert into test2 (product_name, price, id) values (?, ?, ?)\", ('티셔츠', 20000, 3))\n",
    "conn.commit()"
   ],
   "metadata": {
    "collapsed": false,
    "ExecuteTime": {
     "end_time": "2024-02-14T07:47:44.227669900Z",
     "start_time": "2024-02-14T07:47:44.218518100Z"
    }
   },
   "id": "2eddff633e0133ea",
   "execution_count": 13
  },
  {
   "cell_type": "code",
   "outputs": [],
   "source": [
    "# 데이터 삽입\n",
    "c.execute(\"insert into test2 (id, product_name, price) values (?, ?, ?)\", (4, '블라우스', 300000))\n",
    "conn.commit()"
   ],
   "metadata": {
    "collapsed": false,
    "ExecuteTime": {
     "end_time": "2024-02-14T07:49:00.123802100Z",
     "start_time": "2024-02-14T07:49:00.111282400Z"
    }
   },
   "id": "cb4f7ed718aaccf4",
   "execution_count": 15
  },
  {
   "cell_type": "code",
   "outputs": [],
   "source": [
    "c.execute(\"insert into test2 (id, product_name, price) values (6, '블라우스', 300000)\")\n",
    "conn.commit()"
   ],
   "metadata": {
    "collapsed": false,
    "ExecuteTime": {
     "end_time": "2024-02-14T07:53:18.922665400Z",
     "start_time": "2024-02-14T07:53:18.919012200Z"
    }
   },
   "id": "fb29d0e3c2b86925",
   "execution_count": 21
  },
  {
   "cell_type": "markdown",
   "source": [
    "### insert 방법\n",
    "3. 여러 데이터를 한번에 삽입하고 싶은 경우"
   ],
   "metadata": {
    "collapsed": false
   },
   "id": "4c16bc7eb8fadd75"
  },
  {
   "cell_type": "code",
   "outputs": [],
   "source": [
    "# 테이블 내용 전체 삭제\n",
    "c.execute(\"delete from test2\")\n",
    "conn.commit()"
   ],
   "metadata": {
    "collapsed": false,
    "ExecuteTime": {
     "end_time": "2024-02-14T07:59:07.970836200Z",
     "start_time": "2024-02-14T07:59:07.964317400Z"
    }
   },
   "id": "d61f5092fad2d1f9",
   "execution_count": 34
  },
  {
   "cell_type": "code",
   "outputs": [],
   "source": [
    "# 추가할 상품 리스트\n",
    "product_list = [\n",
    "    ['모자', 10000],\n",
    "    ['가방', 12000],\n",
    "    ['가방', 120001],\n",
    "    ['가방', 120002],\n",
    "    ['가방', 120003],\n",
    "    ['바지', 20000],\n",
    "]\n",
    "\n",
    "# 데이터 여러 줄 삽입\n",
    "c.executemany(\"insert into test2 (product_name, price) values (?, ?)\", product_list)\n",
    "conn.commit()"
   ],
   "metadata": {
    "collapsed": false,
    "ExecuteTime": {
     "end_time": "2024-02-14T07:59:08.282277600Z",
     "start_time": "2024-02-14T07:59:08.277818700Z"
    }
   },
   "id": "4c5f90e0f7cc04ba",
   "execution_count": 35
  },
  {
   "cell_type": "markdown",
   "source": [
    "### 데이터 수정 (update)"
   ],
   "metadata": {
    "collapsed": false
   },
   "id": "ea840f74f388d3cb"
  },
  {
   "cell_type": "markdown",
   "source": [
    "### update 방법\n",
    "1. 튜플 형태로 수정"
   ],
   "metadata": {
    "collapsed": false
   },
   "id": "44f12fb139fc8250"
  },
  {
   "cell_type": "code",
   "outputs": [],
   "source": [
    "c.execute(\"update test2 set product_name = '수정상품명' where id = 1\")\n",
    "conn.commit()"
   ],
   "metadata": {
    "collapsed": false,
    "ExecuteTime": {
     "end_time": "2024-02-14T08:01:13.412922900Z",
     "start_time": "2024-02-14T08:01:13.374856Z"
    }
   },
   "id": "d946bdb35e4b7ca4",
   "execution_count": 36
  },
  {
   "cell_type": "code",
   "outputs": [],
   "source": [
    "c.execute(\"update test2 set product_name = ? where id = ?\", ('슬랙스', 1))\n",
    "conn.commit()"
   ],
   "metadata": {
    "collapsed": false,
    "ExecuteTime": {
     "end_time": "2024-02-14T08:01:53.249918400Z",
     "start_time": "2024-02-14T08:01:53.211828Z"
    }
   },
   "id": "108bf14bdfbc2429",
   "execution_count": 37
  },
  {
   "cell_type": "markdown",
   "source": [
    "### update 방법\n",
    "2. 딕셔너리 형태로 수정"
   ],
   "metadata": {
    "collapsed": false
   },
   "id": "93ddaeaaee9bbdb3"
  },
  {
   "cell_type": "code",
   "outputs": [],
   "source": [
    "c.execute(\"update test2 set price = :price where id = :id\", {\"price\": 200, \"id\": 2})\n",
    "conn.commit()"
   ],
   "metadata": {
    "collapsed": false,
    "ExecuteTime": {
     "end_time": "2024-02-14T08:04:54.018706300Z",
     "start_time": "2024-02-14T08:04:54.015196800Z"
    }
   },
   "id": "3e2be715f71e8af3",
   "execution_count": 41
  },
  {
   "cell_type": "markdown",
   "source": [
    "### update 방법\n",
    "3. %s 표시자 사용"
   ],
   "metadata": {
    "collapsed": false
   },
   "id": "db70107be94fd161"
  },
  {
   "cell_type": "code",
   "outputs": [],
   "source": [],
   "metadata": {
    "collapsed": false
   },
   "id": "709a0843cd828136"
  }
 ],
 "metadata": {
  "kernelspec": {
   "display_name": "Python 3",
   "language": "python",
   "name": "python3"
  },
  "language_info": {
   "codemirror_mode": {
    "name": "ipython",
    "version": 2
   },
   "file_extension": ".py",
   "mimetype": "text/x-python",
   "name": "python",
   "nbconvert_exporter": "python",
   "pygments_lexer": "ipython2",
   "version": "2.7.6"
  }
 },
 "nbformat": 4,
 "nbformat_minor": 5
}
