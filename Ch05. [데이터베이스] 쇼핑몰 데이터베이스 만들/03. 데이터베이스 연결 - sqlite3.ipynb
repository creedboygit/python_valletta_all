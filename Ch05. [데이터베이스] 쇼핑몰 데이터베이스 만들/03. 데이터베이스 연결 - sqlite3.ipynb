{
 "cells": [
  {
   "cell_type": "markdown",
   "source": [
    "> ### sqlite3\n",
    "> - `sqlite3` 는 `SQLite` 데이터 베이스를 사용하는데 필요한 인터페이스 파이썬 표준 라이브러리\n",
    "> - 파이썬 설치 시 SQLite 가 함께 자동으로 설치됨\n",
    "> - SQLite는 주로 개발용이나 소규모 프로젝트에서 사용하는 파일 기반의 가벼운 데이터베이스 \n",
    "> - 개발 시에는 SQLite를 사용하여 빠르게 개발하고 실제 운영 시스템에서는 좀 더 규모 있는 데이터베이스를 사용하는 것이 일반적\n",
    "> - [GUI 설치 페이지](https://sqlitebrowser.org/dl/)"
   ],
   "metadata": {
    "collapsed": false
   },
   "id": "bfc69b7cdcea9eaf"
  },
  {
   "cell_type": "markdown",
   "source": [
    "### sqlite3 import"
   ],
   "metadata": {
    "collapsed": false
   },
   "id": "d30b4d75dcf348a7"
  },
  {
   "cell_type": "code",
   "outputs": [],
   "source": [
    "import sqlite3"
   ],
   "metadata": {
    "collapsed": false,
    "ExecuteTime": {
     "end_time": "2024-02-12T13:45:59.241379700Z",
     "start_time": "2024-02-12T13:45:59.239590100Z"
    }
   },
   "id": "5f5a839dd0038930",
   "execution_count": 1
  },
  {
   "cell_type": "code",
   "outputs": [
    {
     "name": "stderr",
     "output_type": "stream",
     "text": [
      "C:\\Users\\VALLETTA\\AppData\\Local\\Temp\\ipykernel_28888\\2508137959.py:2: DeprecationWarning: version is deprecated and will be removed in Python 3.14\n",
      "  sqlite3.version\n"
     ]
    },
    {
     "data": {
      "text/plain": "'2.6.0'"
     },
     "execution_count": 2,
     "metadata": {},
     "output_type": "execute_result"
    }
   ],
   "source": [
    "# 버전 확인\n",
    "sqlite3.version"
   ],
   "metadata": {
    "collapsed": false,
    "ExecuteTime": {
     "end_time": "2024-02-12T13:46:08.888164Z",
     "start_time": "2024-02-12T13:46:08.875609200Z"
    }
   },
   "id": "f42332f847a47e63",
   "execution_count": 2
  },
  {
   "cell_type": "code",
   "outputs": [
    {
     "data": {
      "text/plain": "'3.43.1'"
     },
     "execution_count": 3,
     "metadata": {},
     "output_type": "execute_result"
    }
   ],
   "source": [
    "sqlite3.sqlite_version"
   ],
   "metadata": {
    "collapsed": false,
    "ExecuteTime": {
     "end_time": "2024-02-12T13:46:38.515473300Z",
     "start_time": "2024-02-12T13:46:38.505848500Z"
    }
   },
   "id": "dd807c18df81abb3",
   "execution_count": 3
  },
  {
   "cell_type": "markdown",
   "source": [
    "### 데이터베이스 만들기"
   ],
   "metadata": {
    "collapsed": false
   },
   "id": "bb25f314768088cc"
  },
  {
   "cell_type": "code",
   "outputs": [],
   "source": [
    "conn = sqlite3.connect('test.db')"
   ],
   "metadata": {
    "collapsed": false,
    "ExecuteTime": {
     "end_time": "2024-02-12T13:55:00.605505600Z",
     "start_time": "2024-02-12T13:55:00.602994600Z"
    }
   },
   "id": "fff699944b30053",
   "execution_count": 15
  },
  {
   "cell_type": "markdown",
   "source": [
    "### 테이블 생성"
   ],
   "metadata": {
    "collapsed": false
   },
   "id": "aadfe2bf674ca96d"
  },
  {
   "cell_type": "markdown",
   "source": [
    "| 칼럼 이름 | 칼럼 타입 | 설명                    |\n",
    "|-----------|-----------|-------------------------|\n",
    "| ID        | INTEGER   | 고유 번호 (PRIMARY KEY) |\n",
    "| PRODUCT_NAME   | TEXT      | 상품명                    |\n",
    "| PRICE   | TEXT      | 가격                    |"
   ],
   "metadata": {
    "collapsed": false
   },
   "id": "1cb706847e05fce6"
  },
  {
   "cell_type": "code",
   "outputs": [],
   "source": [
    "# 커서 생성\n",
    "c = conn.cursor()"
   ],
   "metadata": {
    "collapsed": false,
    "ExecuteTime": {
     "end_time": "2024-02-12T13:55:01.709619300Z",
     "start_time": "2024-02-12T13:55:01.707111800Z"
    }
   },
   "id": "5b9df38850da3189",
   "execution_count": 16
  },
  {
   "cell_type": "code",
   "outputs": [
    {
     "data": {
      "text/plain": "<sqlite3.Cursor at 0x1df69181540>"
     },
     "execution_count": 17,
     "metadata": {},
     "output_type": "execute_result"
    }
   ],
   "source": [
    "# 쿼리문 작성\n",
    "query = '''create table test (id integer primary key, product_name text, price integer)'''\n",
    "c.execute(query)"
   ],
   "metadata": {
    "collapsed": false,
    "ExecuteTime": {
     "end_time": "2024-02-12T13:55:02.054094200Z",
     "start_time": "2024-02-12T13:55:02.047445100Z"
    }
   },
   "id": "b82e0b992b10de5c",
   "execution_count": 17
  },
  {
   "cell_type": "code",
   "outputs": [],
   "source": [
    "# DB 연결 해제\n",
    "conn.close()"
   ],
   "metadata": {
    "collapsed": false,
    "ExecuteTime": {
     "end_time": "2024-02-12T13:55:02.923216500Z",
     "start_time": "2024-02-12T13:55:02.919703400Z"
    }
   },
   "id": "88949483e2bc5fb0",
   "execution_count": 18
  },
  {
   "cell_type": "markdown",
   "source": [
    "### 데이터 조회"
   ],
   "metadata": {
    "collapsed": false
   },
   "id": "387b163dfbad806"
  },
  {
   "cell_type": "code",
   "outputs": [
    {
     "ename": "ProgrammingError",
     "evalue": "Cannot operate on a closed database.",
     "output_type": "error",
     "traceback": [
      "\u001B[1;31m---------------------------------------------------------------------------\u001B[0m",
      "\u001B[1;31mProgrammingError\u001B[0m                          Traceback (most recent call last)",
      "Cell \u001B[1;32mIn[19], line 2\u001B[0m\n\u001B[0;32m      1\u001B[0m \u001B[38;5;66;03m# 전체 데이터 조회\u001B[39;00m\n\u001B[1;32m----> 2\u001B[0m \u001B[43mc\u001B[49m\u001B[38;5;241;43m.\u001B[39;49m\u001B[43mexecute\u001B[49m\u001B[43m(\u001B[49m\u001B[38;5;124;43m'''\u001B[39;49m\u001B[38;5;124;43mselect * from test\u001B[39;49m\u001B[38;5;124;43m'''\u001B[39;49m\u001B[43m)\u001B[49m\n",
      "\u001B[1;31mProgrammingError\u001B[0m: Cannot operate on a closed database."
     ]
    }
   ],
   "source": [
    "# 전체 데이터 조회\n",
    "c.execute('''select * from test''')"
   ],
   "metadata": {
    "collapsed": false,
    "ExecuteTime": {
     "end_time": "2024-02-12T14:17:56.930498400Z",
     "start_time": "2024-02-12T14:17:56.875890400Z"
    }
   },
   "id": "c9ed2f7b7d26f7dc",
   "execution_count": 19
  },
  {
   "cell_type": "code",
   "outputs": [],
   "source": [],
   "metadata": {
    "collapsed": false
   },
   "id": "b184b5dd838fc64d"
  }
 ],
 "metadata": {
  "kernelspec": {
   "display_name": "Python 3",
   "language": "python",
   "name": "python3"
  },
  "language_info": {
   "codemirror_mode": {
    "name": "ipython",
    "version": 2
   },
   "file_extension": ".py",
   "mimetype": "text/x-python",
   "name": "python",
   "nbconvert_exporter": "python",
   "pygments_lexer": "ipython2",
   "version": "2.7.6"
  }
 },
 "nbformat": 4,
 "nbformat_minor": 5
}
