{
 "cells": [
  {
   "cell_type": "markdown",
   "source": [
    "> ### sqlite3 데이터 조회\n",
    "> - sqlite3 에서 데이터 조회 방법에는 `fetchone()`, `fetchmany()`, `fetchall()` 3 가지 방법을 사용\n",
    "> - `SELECT` 문을 사용한 조회 결과 범위에서 실제 가져오는 row 수를 결정"
   ],
   "metadata": {
    "collapsed": false
   },
   "id": "9803a7f87357e9df"
  },
  {
   "cell_type": "markdown",
   "source": [
    "| 메서드 | 내용 |\n",
    "|-----------|-----------|\n",
    "| fetchone()        | 조회 결과에서 1개의 row 를 가져옴   |\n",
    "| fetchmany(size=2)   | 조회 결과에서 지정한 size 만큼 row 를 가져옴     |\n",
    "| fetchall()   | 조회 결과에서 모든 row 를 가져옴      |"
   ],
   "metadata": {
    "collapsed": false
   },
   "id": "10706377e85bc3d1"
  },
  {
   "cell_type": "code",
   "outputs": [
    {
     "name": "stderr",
     "output_type": "stream",
     "text": [
      "C:\\Users\\VALLETTA\\AppData\\Local\\Temp\\ipykernel_6712\\71937148.py:2: DeprecationWarning: \n",
      "Pyarrow will become a required dependency of pandas in the next major release of pandas (pandas 3.0),\n",
      "(to allow more performant data types, such as the Arrow string type, and better interoperability with other libraries)\n",
      "but was not found to be installed on your system.\n",
      "If this would cause problems for you,\n",
      "please provide us feedback at https://github.com/pandas-dev/pandas/issues/54466\n",
      "        \n",
      "  import pandas as pd\n"
     ]
    }
   ],
   "source": [
    "import sqlite3\n",
    "import pandas as pd"
   ],
   "metadata": {
    "collapsed": false,
    "ExecuteTime": {
     "end_time": "2024-02-14T07:37:47.058319900Z",
     "start_time": "2024-02-14T07:37:46.730642700Z"
    }
   },
   "id": "2de088759ad539fc",
   "execution_count": 1
  },
  {
   "cell_type": "code",
   "outputs": [],
   "source": [
    "# 연습용 DB 연결\n",
    "conn = sqlite3.connect(\"test.db\")"
   ],
   "metadata": {
    "collapsed": false,
    "ExecuteTime": {
     "end_time": "2024-02-14T07:37:47.062348600Z",
     "start_time": "2024-02-14T07:37:47.057909200Z"
    }
   },
   "id": "9ecbd7d1191263fc",
   "execution_count": 2
  },
  {
   "cell_type": "code",
   "outputs": [],
   "source": [
    "# 커서 생성\n",
    "c = conn.cursor()"
   ],
   "metadata": {
    "collapsed": false,
    "ExecuteTime": {
     "end_time": "2024-02-14T07:37:47.063348800Z",
     "start_time": "2024-02-14T07:37:47.059831200Z"
    }
   },
   "id": "fb0629a84741e3a3",
   "execution_count": 3
  },
  {
   "cell_type": "code",
   "outputs": [
    {
     "data": {
      "text/plain": "<sqlite3.Cursor at 0x1ddebed2c40>"
     },
     "execution_count": 4,
     "metadata": {},
     "output_type": "execute_result"
    }
   ],
   "source": [
    "# 전체 테이블 현황 조회\n",
    "c.execute('''select * from sqlite_master where type=\"table\"''')"
   ],
   "metadata": {
    "collapsed": false,
    "ExecuteTime": {
     "end_time": "2024-02-14T07:37:47.070803500Z",
     "start_time": "2024-02-14T07:37:47.062348600Z"
    }
   },
   "id": "ce7aefc01306702",
   "execution_count": 4
  },
  {
   "cell_type": "code",
   "outputs": [
    {
     "data": {
      "text/plain": "[('table',\n  'test',\n  'test',\n  2,\n  'CREATE TABLE test (id integer primary key, product_name text, price integer)')]"
     },
     "execution_count": 5,
     "metadata": {},
     "output_type": "execute_result"
    }
   ],
   "source": [
    "c.fetchall()"
   ],
   "metadata": {
    "collapsed": false,
    "ExecuteTime": {
     "end_time": "2024-02-14T07:37:47.071804700Z",
     "start_time": "2024-02-14T07:37:47.068431800Z"
    }
   },
   "id": "c83dce8644c4d6a3",
   "execution_count": 5
  },
  {
   "cell_type": "code",
   "outputs": [
    {
     "data": {
      "text/plain": "Empty DataFrame\nColumns: []\nIndex: []",
      "text/html": "<div>\n<style scoped>\n    .dataframe tbody tr th:only-of-type {\n        vertical-align: middle;\n    }\n\n    .dataframe tbody tr th {\n        vertical-align: top;\n    }\n\n    .dataframe thead th {\n        text-align: right;\n    }\n</style>\n<table border=\"1\" class=\"dataframe\">\n  <thead>\n    <tr style=\"text-align: right;\">\n      <th></th>\n    </tr>\n  </thead>\n  <tbody>\n  </tbody>\n</table>\n</div>"
     },
     "execution_count": 6,
     "metadata": {},
     "output_type": "execute_result"
    }
   ],
   "source": [
    "pd.DataFrame(c.fetchall())"
   ],
   "metadata": {
    "collapsed": false,
    "ExecuteTime": {
     "end_time": "2024-02-14T07:37:47.115200700Z",
     "start_time": "2024-02-14T07:37:47.070803500Z"
    }
   },
   "id": "2a2ac3cbc4e07296",
   "execution_count": 6
  },
  {
   "cell_type": "code",
   "outputs": [],
   "source": [
    "### 데이터 조회"
   ],
   "metadata": {
    "collapsed": false,
    "ExecuteTime": {
     "end_time": "2024-02-14T07:37:47.115708200Z",
     "start_time": "2024-02-14T07:37:47.083233800Z"
    }
   },
   "id": "c84bf8a3e52e0a7c",
   "execution_count": 7
  },
  {
   "cell_type": "code",
   "outputs": [
    {
     "data": {
      "text/plain": "<sqlite3.Cursor at 0x1ddebed2c40>"
     },
     "execution_count": 8,
     "metadata": {},
     "output_type": "execute_result"
    }
   ],
   "source": [
    "# 전체 데이터 조회\n",
    "c.execute('''select * from test''')"
   ],
   "metadata": {
    "collapsed": false,
    "ExecuteTime": {
     "end_time": "2024-02-14T07:37:47.116715200Z",
     "start_time": "2024-02-14T07:37:47.085745800Z"
    }
   },
   "id": "3be24ae83f7aa76d",
   "execution_count": 8
  },
  {
   "cell_type": "code",
   "outputs": [
    {
     "data": {
      "text/plain": "[(1, '상품명1', 10000), (2, '상품명2', 20000), (3, '상품명3', 30000)]"
     },
     "execution_count": 9,
     "metadata": {},
     "output_type": "execute_result"
    }
   ],
   "source": [
    "c.fetchall()"
   ],
   "metadata": {
    "collapsed": false,
    "ExecuteTime": {
     "end_time": "2024-02-14T07:37:47.116715200Z",
     "start_time": "2024-02-14T07:37:47.088921100Z"
    }
   },
   "id": "f0c02705776e1b87",
   "execution_count": 9
  },
  {
   "cell_type": "code",
   "outputs": [
    {
     "data": {
      "text/plain": "Empty DataFrame\nColumns: []\nIndex: []",
      "text/html": "<div>\n<style scoped>\n    .dataframe tbody tr th:only-of-type {\n        vertical-align: middle;\n    }\n\n    .dataframe tbody tr th {\n        vertical-align: top;\n    }\n\n    .dataframe thead th {\n        text-align: right;\n    }\n</style>\n<table border=\"1\" class=\"dataframe\">\n  <thead>\n    <tr style=\"text-align: right;\">\n      <th></th>\n    </tr>\n  </thead>\n  <tbody>\n  </tbody>\n</table>\n</div>"
     },
     "execution_count": 10,
     "metadata": {},
     "output_type": "execute_result"
    }
   ],
   "source": [
    "# 전체 row 선택\n",
    "pd.DataFrame(c.fetchall())"
   ],
   "metadata": {
    "collapsed": false,
    "ExecuteTime": {
     "end_time": "2024-02-14T07:37:47.117715100Z",
     "start_time": "2024-02-14T07:37:47.091438200Z"
    }
   },
   "id": "310f5fac33634614",
   "execution_count": 10
  },
  {
   "cell_type": "code",
   "outputs": [
    {
     "data": {
      "text/plain": "Empty DataFrame\nColumns: []\nIndex: []",
      "text/html": "<div>\n<style scoped>\n    .dataframe tbody tr th:only-of-type {\n        vertical-align: middle;\n    }\n\n    .dataframe tbody tr th {\n        vertical-align: top;\n    }\n\n    .dataframe thead th {\n        text-align: right;\n    }\n</style>\n<table border=\"1\" class=\"dataframe\">\n  <thead>\n    <tr style=\"text-align: right;\">\n      <th></th>\n    </tr>\n  </thead>\n  <tbody>\n  </tbody>\n</table>\n</div>"
     },
     "execution_count": 11,
     "metadata": {},
     "output_type": "execute_result"
    }
   ],
   "source": [
    "# 1개 row 선택\n",
    "pd.DataFrame(c.fetchone())"
   ],
   "metadata": {
    "collapsed": false,
    "ExecuteTime": {
     "end_time": "2024-02-14T07:37:47.118713900Z",
     "start_time": "2024-02-14T07:37:47.096079600Z"
    }
   },
   "id": "4e966f8452fd74c6",
   "execution_count": 11
  },
  {
   "cell_type": "code",
   "outputs": [
    {
     "data": {
      "text/plain": "Empty DataFrame\nColumns: []\nIndex: []",
      "text/html": "<div>\n<style scoped>\n    .dataframe tbody tr th:only-of-type {\n        vertical-align: middle;\n    }\n\n    .dataframe tbody tr th {\n        vertical-align: top;\n    }\n\n    .dataframe thead th {\n        text-align: right;\n    }\n</style>\n<table border=\"1\" class=\"dataframe\">\n  <thead>\n    <tr style=\"text-align: right;\">\n      <th></th>\n    </tr>\n  </thead>\n  <tbody>\n  </tbody>\n</table>\n</div>"
     },
     "execution_count": 12,
     "metadata": {},
     "output_type": "execute_result"
    }
   ],
   "source": [
    "# 지정 row 선택\n",
    "pd.DataFrame(c.fetchmany(size=3))"
   ],
   "metadata": {
    "collapsed": false,
    "ExecuteTime": {
     "end_time": "2024-02-14T07:37:47.119713700Z",
     "start_time": "2024-02-14T07:37:47.101031600Z"
    }
   },
   "id": "4f3d25794716115a",
   "execution_count": 12
  },
  {
   "cell_type": "markdown",
   "source": [
    "### 특정 데이터 조회"
   ],
   "metadata": {
    "collapsed": false
   },
   "id": "1edad55e2c96f6f9"
  },
  {
   "cell_type": "code",
   "outputs": [
    {
     "data": {
      "text/plain": "(('id', None, None, None, None, None, None),\n ('product_name', None, None, None, None, None, None),\n ('price', None, None, None, None, None, None))"
     },
     "execution_count": 13,
     "metadata": {},
     "output_type": "execute_result"
    }
   ],
   "source": [
    "# 컬럼(키) 확인\n",
    "cur = c.execute('''select * from test''')\n",
    "cur.description"
   ],
   "metadata": {
    "collapsed": false,
    "ExecuteTime": {
     "end_time": "2024-02-14T07:37:47.159713800Z",
     "start_time": "2024-02-14T07:37:47.102543200Z"
    }
   },
   "id": "23d449a390e259de",
   "execution_count": 13
  },
  {
   "cell_type": "code",
   "outputs": [
    {
     "data": {
      "text/plain": "[(2, '상품명2', 20000)]"
     },
     "execution_count": 14,
     "metadata": {},
     "output_type": "execute_result"
    }
   ],
   "source": [
    "# 특정 row만 가져오기\n",
    "c.execute('''select * from test where id = ?''', (2,))\n",
    "c.fetchall()"
   ],
   "metadata": {
    "collapsed": false,
    "ExecuteTime": {
     "end_time": "2024-02-14T07:37:47.160713800Z",
     "start_time": "2024-02-14T07:37:47.107735700Z"
    }
   },
   "id": "3d2876c2a14bf5d1",
   "execution_count": 14
  },
  {
   "cell_type": "code",
   "outputs": [
    {
     "data": {
      "text/plain": "   0     1      2\n0  2  상품명2  20000",
      "text/html": "<div>\n<style scoped>\n    .dataframe tbody tr th:only-of-type {\n        vertical-align: middle;\n    }\n\n    .dataframe tbody tr th {\n        vertical-align: top;\n    }\n\n    .dataframe thead th {\n        text-align: right;\n    }\n</style>\n<table border=\"1\" class=\"dataframe\">\n  <thead>\n    <tr style=\"text-align: right;\">\n      <th></th>\n      <th>0</th>\n      <th>1</th>\n      <th>2</th>\n    </tr>\n  </thead>\n  <tbody>\n    <tr>\n      <th>0</th>\n      <td>2</td>\n      <td>상품명2</td>\n      <td>20000</td>\n    </tr>\n  </tbody>\n</table>\n</div>"
     },
     "execution_count": 15,
     "metadata": {},
     "output_type": "execute_result"
    }
   ],
   "source": [
    "c.execute('''select * from test where id = ?''', (2,))\n",
    "pd.DataFrame(c.fetchall())"
   ],
   "metadata": {
    "collapsed": false,
    "ExecuteTime": {
     "end_time": "2024-02-14T07:37:47.161713800Z",
     "start_time": "2024-02-14T07:37:47.109680100Z"
    }
   },
   "id": "d623770168fd5a71",
   "execution_count": 15
  },
  {
   "cell_type": "code",
   "outputs": [],
   "source": [
    "# DB 연결 해제\n",
    "conn.close()"
   ],
   "metadata": {
    "collapsed": false,
    "ExecuteTime": {
     "end_time": "2024-02-14T07:37:47.162713400Z",
     "start_time": "2024-02-14T07:37:47.115200700Z"
    }
   },
   "id": "17f2888055570890",
   "execution_count": 16
  }
 ],
 "metadata": {
  "kernelspec": {
   "display_name": "Python 3",
   "language": "python",
   "name": "python3"
  },
  "language_info": {
   "codemirror_mode": {
    "name": "ipython",
    "version": 2
   },
   "file_extension": ".py",
   "mimetype": "text/x-python",
   "name": "python",
   "nbconvert_exporter": "python",
   "pygments_lexer": "ipython2",
   "version": "2.7.6"
  }
 },
 "nbformat": 4,
 "nbformat_minor": 5
}
