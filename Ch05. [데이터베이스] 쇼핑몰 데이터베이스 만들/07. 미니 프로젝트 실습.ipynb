{
 "cells": [
  {
   "cell_type": "markdown",
   "source": [
    "### 진행 순서\n",
    "1. 데이터베이스 생성\n",
    "2. 상품 리스트 테이블 생성\n",
    "3. 주문 목록 추가\n",
    "4. 총 구매 가격 산출"
   ],
   "metadata": {
    "collapsed": false
   },
   "id": "873fb5a2a8c6405"
  },
  {
   "cell_type": "markdown",
   "source": [
    "### 데이터베이스 생성"
   ],
   "metadata": {
    "collapsed": false
   },
   "id": "fd72ce614b943c18"
  },
  {
   "cell_type": "code",
   "outputs": [],
   "source": [
    "import sqlite3\n",
    "\n",
    "# 쇼핑몰 데이터베이스\n",
    "conn = sqlite3.connect(\"shop.db\")\n",
    "\n",
    "# 커서 생성\n",
    "c = conn.cursor()"
   ],
   "metadata": {
    "collapsed": false,
    "ExecuteTime": {
     "end_time": "2024-02-14T09:24:53.636065400Z",
     "start_time": "2024-02-14T09:24:53.632878700Z"
    }
   },
   "id": "93d81fffdb9da068",
   "execution_count": 5
  },
  {
   "cell_type": "markdown",
   "source": [
    "### csv 파일로 테이블 추가"
   ],
   "metadata": {
    "collapsed": false
   },
   "id": "768775b97cf7af7e"
  },
  {
   "cell_type": "code",
   "outputs": [
    {
     "name": "stdout",
     "output_type": "stream",
     "text": [
      "    ID   상품명      가격\n",
      "0    1    모자   15000\n",
      "1    2    코트  200000\n",
      "2    3   티셔츠   20000\n",
      "3    4  블라우스   55000\n",
      "4    5   가디건   45000\n",
      "5    6   청바지   50000\n",
      "6    7    구두  150000\n",
      "7    8    가방  170000\n",
      "8   10    양말   30000\n",
      "9   10    양말   30000\n",
      "10  10    양말   30000\n",
      "11  10    양말  130000\n"
     ]
    }
   ],
   "source": [
    "import pandas as pd\n",
    "\n",
    "product_list = pd.read_csv('product_list.csv', encoding='euc-kr')\n",
    "print(product_list)"
   ],
   "metadata": {
    "collapsed": false,
    "ExecuteTime": {
     "end_time": "2024-02-14T09:24:53.643930700Z",
     "start_time": "2024-02-14T09:24:53.635065100Z"
    }
   },
   "id": "1757b74159068fab",
   "execution_count": 6
  },
  {
   "cell_type": "code",
   "outputs": [
    {
     "data": {
      "text/plain": "12"
     },
     "execution_count": 7,
     "metadata": {},
     "output_type": "execute_result"
    }
   ],
   "source": [
    "# 상품 리스트 테이블에 추가\n",
    "product_list.to_sql('product_list', conn, if_exists='append', index=False)"
   ],
   "metadata": {
    "collapsed": false,
    "ExecuteTime": {
     "end_time": "2024-02-14T09:24:53.652312700Z",
     "start_time": "2024-02-14T09:24:53.639929300Z"
    }
   },
   "id": "5ee91645240d52d3",
   "execution_count": 7
  },
  {
   "cell_type": "markdown",
   "source": [
    "### 튜플(리스트)로 테이블 추가"
   ],
   "metadata": {
    "collapsed": false
   },
   "id": "71155b10129b2cc2"
  },
  {
   "cell_type": "code",
   "outputs": [
    {
     "ename": "OperationalError",
     "evalue": "no such table: product_list",
     "output_type": "error",
     "traceback": [
      "\u001B[1;31m---------------------------------------------------------------------------\u001B[0m",
      "\u001B[1;31mOperationalError\u001B[0m                          Traceback (most recent call last)",
      "Cell \u001B[1;32mIn[9], line 2\u001B[0m\n\u001B[0;32m      1\u001B[0m \u001B[38;5;66;03m# 테이블 삭제\u001B[39;00m\n\u001B[1;32m----> 2\u001B[0m \u001B[43mc\u001B[49m\u001B[38;5;241;43m.\u001B[39;49m\u001B[43mexecute\u001B[49m\u001B[43m(\u001B[49m\u001B[38;5;124;43m\"\u001B[39;49m\u001B[38;5;124;43mdrop table product_list\u001B[39;49m\u001B[38;5;124;43m\"\u001B[39;49m\u001B[43m)\u001B[49m\n\u001B[0;32m      3\u001B[0m conn\u001B[38;5;241m.\u001B[39mcommit()\n",
      "\u001B[1;31mOperationalError\u001B[0m: no such table: product_list"
     ]
    }
   ],
   "source": [
    "# 테이블 삭제\n",
    "c.execute(\"drop table product_list\")\n",
    "conn.commit()"
   ],
   "metadata": {
    "collapsed": false,
    "ExecuteTime": {
     "end_time": "2024-02-14T09:26:09.383901400Z",
     "start_time": "2024-02-14T09:26:09.366463Z"
    }
   },
   "id": "5214ea8c4f8a79db",
   "execution_count": 9
  },
  {
   "cell_type": "code",
   "outputs": [],
   "source": [
    "# 추가할 상품 리스트\n",
    "product_list = [\n",
    "    ['모자', 10000],\n",
    "    ['가방', 12000],\n",
    "    ['가방', 120001],\n",
    "    ['가방', 120002],\n",
    "    ['가방', 120003],\n",
    "    ['바지', 20000],\n",
    "]\n",
    "\n",
    "# 테이블 생성\n",
    "c.execute(\"create table if not exists product_list (id integer primary key autoincrement, 상품명 text, 가격 integer)\")\n",
    "\n",
    "# 레코드 추가\n",
    "c.executemany(\"insert into product_list (상품명, 가격) values (?, ?)\", product_list)\n",
    "conn.commit()"
   ],
   "metadata": {
    "collapsed": false,
    "ExecuteTime": {
     "end_time": "2024-02-14T09:38:53.670342Z",
     "start_time": "2024-02-14T09:38:53.634623200Z"
    }
   },
   "id": "cb456eaa31c59bdc",
   "execution_count": 10
  },
  {
   "cell_type": "markdown",
   "source": [
    "### 주문 목록 추가"
   ],
   "metadata": {
    "collapsed": false
   },
   "id": "8bca3a78600c826d"
  },
  {
   "cell_type": "code",
   "outputs": [],
   "source": [],
   "metadata": {
    "collapsed": false
   },
   "id": "ba8c370a7b5d5278"
  }
 ],
 "metadata": {
  "kernelspec": {
   "display_name": "Python 3",
   "language": "python",
   "name": "python3"
  },
  "language_info": {
   "codemirror_mode": {
    "name": "ipython",
    "version": 2
   },
   "file_extension": ".py",
   "mimetype": "text/x-python",
   "name": "python",
   "nbconvert_exporter": "python",
   "pygments_lexer": "ipython2",
   "version": "2.7.6"
  }
 },
 "nbformat": 4,
 "nbformat_minor": 5
}
