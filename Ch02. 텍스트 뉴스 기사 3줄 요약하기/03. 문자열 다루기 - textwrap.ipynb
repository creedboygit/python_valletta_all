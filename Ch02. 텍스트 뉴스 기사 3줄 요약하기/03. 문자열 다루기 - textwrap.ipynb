{
 "cells": [
  {
   "cell_type": "code",
   "execution_count": 19,
   "id": "initial_id",
   "metadata": {
    "collapsed": true,
    "ExecuteTime": {
     "end_time": "2024-01-31T14:28:50.419463400Z",
     "start_time": "2024-01-31T14:28:50.409034500Z"
    }
   },
   "outputs": [],
   "source": [
    "import textwrap"
   ]
  },
  {
   "cell_type": "code",
   "outputs": [],
   "source": [
    "text = \"Python이란 무엇인가요? Phython은 웹 애플리케이션, 소프트웨어 개발, 데이터 과학, 기계 학습(ML)에 널리 사용되는 프로그래밍 언어입니다. 개발자는 Python이 효율적이고 배우기 쉬우며 여러 플랫폼에서 실행될 수 있으므로 Python을 사용합니다. Phython 소프트웨어는 무료로 다운로드할 수 있고, 모든 유형의 시스템과 원활하게 통합되며, 개발 속도를 증가시킵니다. Python을 사용하면 어떤 이점이 있나요? 이점은 다음과 같습니다. Python 프로그램은 기본적이고 영어와 유사한 구문을 가지고 있기 때문에 개발자가 쉽게 읽고 이해할 수 있습니다. Python은 다른 많은 언어에 비해 더 적은 코드 줄을 사용하여 Python 프로그램을 작성할 수 있기 때문에 개발자의 생산성을 높입니다. 거의 모든 작업에 재사용 가능한 코드가 포함된 대규모 표준 라이브러리가 있습니다. 결과적으로 개발자는 코드를 처음부터 작성할 필요가 없습니다.\""
   ],
   "metadata": {
    "collapsed": false,
    "ExecuteTime": {
     "end_time": "2024-01-31T14:28:50.444644500Z",
     "start_time": "2024-01-31T14:28:50.413076100Z"
    }
   },
   "id": "1890a594f11cb1cd",
   "execution_count": 20
  },
  {
   "cell_type": "code",
   "outputs": [
    {
     "name": "stdout",
     "output_type": "stream",
     "text": [
      "Python이란 무엇인가요? Phython은 웹 애플리케이션, 소프트웨어 개발, 데이터 과학, 기계 학습(ML)에 널리 사용되는 프로그래밍 언어입니다. 개발자는 Python이 효율적이고 배우기 쉬우며 여러 플랫폼에서 실행될 수 있으므로 Python을 사용합니다. Phython 소프트웨어는 무료로 다운로드할 수 있고, 모든 유형의 시스템과 원활하게 통합되며, 개발 속도를 증가시킵니다. Python을 사용하면 어떤 이점이 있나요? 이점은 다음과 같습니다. Python 프로그램은 기본적이고 영어와 유사한 구문을 가지고 있기 때문에 개발자가 쉽게 읽고 이해할 수 있습니다. Python은 다른 많은 언어에 비해 더 적은 코드 줄을 사용하여 Python 프로그램을 작성할 수 있기 때문에 개발자의 생산성을 높입니다. 거의 모든 작업에 재사용 가능한 코드가 포함된 대규모 표준 라이브러리가 있습니다. 결과적으로 개발자는 코드를 처음부터 작성할 필요가 없습니다.\n"
     ]
    }
   ],
   "source": [
    "print(text)"
   ],
   "metadata": {
    "collapsed": false,
    "ExecuteTime": {
     "end_time": "2024-01-31T14:28:50.445645300Z",
     "start_time": "2024-01-31T14:28:50.416032400Z"
    }
   },
   "id": "2e7e4702580876d8",
   "execution_count": 21
  },
  {
   "cell_type": "markdown",
   "source": [
    "## textwrap.shorten()"
   ],
   "metadata": {
    "collapsed": false
   },
   "id": "c22522c6734cd4d6"
  },
  {
   "cell_type": "code",
   "outputs": [
    {
     "data": {
      "text/plain": "'Python이란 무엇인가요? Phython은 웹 애플리케이션, 소프트웨어 개발, 데이터 과학, 기계 학습(ML)에 널리 사용되는 프로그래밍 언어입니다. 개발자는 Python이 효율적이고 배우기 쉬우며 여러 플랫폼에서 실행될 수 있으므로 Python을 사용합니다. Phython 소프트웨어는 무료로 다운로드할 수 있고, 모든 유형의 시스템과 원활하게 [...]'"
     },
     "execution_count": 22,
     "metadata": {},
     "output_type": "execute_result"
    }
   ],
   "source": [
    "textwrap.shorten(text, width=200)"
   ],
   "metadata": {
    "collapsed": false,
    "ExecuteTime": {
     "end_time": "2024-01-31T14:28:50.446645100Z",
     "start_time": "2024-01-31T14:28:50.418464600Z"
    }
   },
   "id": "828c35edd7caaa81",
   "execution_count": 22
  },
  {
   "cell_type": "code",
   "outputs": [
    {
     "data": {
      "text/plain": "'Python이란 무엇인가요? Phython은 웹 애플리케이션, 소프트웨어 개발, 데이터 과학, 기계 학습(ML)에 널리 사용되는 프로그래밍 언어입니다. 개발자는...[중략]'"
     },
     "execution_count": 23,
     "metadata": {},
     "output_type": "execute_result"
    }
   ],
   "source": [
    "textwrap.shorten(text, width=100, placeholder='...[중략]')"
   ],
   "metadata": {
    "collapsed": false,
    "ExecuteTime": {
     "end_time": "2024-01-31T14:28:50.446645100Z",
     "start_time": "2024-01-31T14:28:50.421905700Z"
    }
   },
   "id": "c0b4915db408676b",
   "execution_count": 23
  },
  {
   "cell_type": "code",
   "outputs": [],
   "source": [
    "wrapped_text = textwrap.wrap(text, width=30)"
   ],
   "metadata": {
    "collapsed": false,
    "ExecuteTime": {
     "end_time": "2024-01-31T14:28:50.447644600Z",
     "start_time": "2024-01-31T14:28:50.426383500Z"
    }
   },
   "id": "d413ff5e80e5a889",
   "execution_count": 24
  },
  {
   "cell_type": "code",
   "outputs": [
    {
     "name": "stdout",
     "output_type": "stream",
     "text": [
      "['Python이란 무엇인가요? Phython은 웹', '애플리케이션, 소프트웨어 개발, 데이터 과학, 기계', '학습(ML)에 널리 사용되는 프로그래밍 언어입니다.', '개발자는 Python이 효율적이고 배우기 쉬우며 여러', '플랫폼에서 실행될 수 있으므로 Python을', '사용합니다. Phython 소프트웨어는 무료로', '다운로드할 수 있고, 모든 유형의 시스템과 원활하게', '통합되며, 개발 속도를 증가시킵니다. Python을', '사용하면 어떤 이점이 있나요? 이점은 다음과 같습니다.', 'Python 프로그램은 기본적이고 영어와 유사한 구문을', '가지고 있기 때문에 개발자가 쉽게 읽고 이해할 수', '있습니다. Python은 다른 많은 언어에 비해 더', '적은 코드 줄을 사용하여 Python 프로그램을 작성할', '수 있기 때문에 개발자의 생산성을 높입니다. 거의 모든', '작업에 재사용 가능한 코드가 포함된 대규모 표준', '라이브러리가 있습니다. 결과적으로 개발자는 코드를', '처음부터 작성할 필요가 없습니다.']\n"
     ]
    }
   ],
   "source": [
    "print(wrapped_text)"
   ],
   "metadata": {
    "collapsed": false,
    "ExecuteTime": {
     "end_time": "2024-01-31T14:28:50.477946300Z",
     "start_time": "2024-01-31T14:28:50.448645300Z"
    }
   },
   "id": "c228b6a6d809711c",
   "execution_count": 25
  },
  {
   "cell_type": "code",
   "outputs": [
    {
     "name": "stdout",
     "output_type": "stream",
     "text": [
      "Python이란 무엇인가요? Phython은 웹\n",
      "애플리케이션, 소프트웨어 개발, 데이터 과학, 기계\n",
      "학습(ML)에 널리 사용되는 프로그래밍 언어입니다.\n",
      "개발자는 Python이 효율적이고 배우기 쉬우며 여러\n",
      "플랫폼에서 실행될 수 있으므로 Python을\n",
      "사용합니다. Phython 소프트웨어는 무료로\n",
      "다운로드할 수 있고, 모든 유형의 시스템과 원활하게\n",
      "통합되며, 개발 속도를 증가시킵니다. Python을\n",
      "사용하면 어떤 이점이 있나요? 이점은 다음과 같습니다.\n",
      "Python 프로그램은 기본적이고 영어와 유사한 구문을\n",
      "가지고 있기 때문에 개발자가 쉽게 읽고 이해할 수\n",
      "있습니다. Python은 다른 많은 언어에 비해 더\n",
      "적은 코드 줄을 사용하여 Python 프로그램을 작성할\n",
      "수 있기 때문에 개발자의 생산성을 높입니다. 거의 모든\n",
      "작업에 재사용 가능한 코드가 포함된 대규모 표준\n",
      "라이브러리가 있습니다. 결과적으로 개발자는 코드를\n",
      "처음부터 작성할 필요가 없습니다.\n"
     ]
    }
   ],
   "source": [
    "print('\\n'.join(wrapped_text))"
   ],
   "metadata": {
    "collapsed": false,
    "ExecuteTime": {
     "end_time": "2024-01-31T14:28:50.495858300Z",
     "start_time": "2024-01-31T14:28:50.479947700Z"
    }
   },
   "id": "b80f1ed36fb25248",
   "execution_count": 26
  },
  {
   "cell_type": "code",
   "outputs": [],
   "source": [
    "filled_text = textwrap.fill(text, width=30)"
   ],
   "metadata": {
    "collapsed": false,
    "ExecuteTime": {
     "end_time": "2024-01-31T14:28:50.507065100Z",
     "start_time": "2024-01-31T14:28:50.498267200Z"
    }
   },
   "id": "9ca1bbd937cb5f71",
   "execution_count": 27
  },
  {
   "cell_type": "code",
   "outputs": [
    {
     "name": "stdout",
     "output_type": "stream",
     "text": [
      "Python이란 무엇인가요? Phython은 웹\n",
      "애플리케이션, 소프트웨어 개발, 데이터 과학, 기계\n",
      "학습(ML)에 널리 사용되는 프로그래밍 언어입니다.\n",
      "개발자는 Python이 효율적이고 배우기 쉬우며 여러\n",
      "플랫폼에서 실행될 수 있으므로 Python을\n",
      "사용합니다. Phython 소프트웨어는 무료로\n",
      "다운로드할 수 있고, 모든 유형의 시스템과 원활하게\n",
      "통합되며, 개발 속도를 증가시킵니다. Python을\n",
      "사용하면 어떤 이점이 있나요? 이점은 다음과 같습니다.\n",
      "Python 프로그램은 기본적이고 영어와 유사한 구문을\n",
      "가지고 있기 때문에 개발자가 쉽게 읽고 이해할 수\n",
      "있습니다. Python은 다른 많은 언어에 비해 더\n",
      "적은 코드 줄을 사용하여 Python 프로그램을 작성할\n",
      "수 있기 때문에 개발자의 생산성을 높입니다. 거의 모든\n",
      "작업에 재사용 가능한 코드가 포함된 대규모 표준\n",
      "라이브러리가 있습니다. 결과적으로 개발자는 코드를\n",
      "처음부터 작성할 필요가 없습니다.\n"
     ]
    }
   ],
   "source": [
    "print(filled_text)"
   ],
   "metadata": {
    "collapsed": false,
    "ExecuteTime": {
     "end_time": "2024-01-31T14:28:50.523595300Z",
     "start_time": "2024-01-31T14:28:50.500891400Z"
    }
   },
   "id": "fec3d81eb753e834",
   "execution_count": 28
  },
  {
   "cell_type": "markdown",
   "source": [
    "# re 정규표현식(regular expressions)"
   ],
   "metadata": {
    "collapsed": false
   },
   "id": "6c46340f13b469a"
  },
  {
   "cell_type": "markdown",
   "source": [
    "### 단어 추출\n",
    "#### re.findall()"
   ],
   "metadata": {
    "collapsed": false
   },
   "id": "fd391b30fe6f8e68"
  },
  {
   "cell_type": "code",
   "outputs": [],
   "source": [
    "import re"
   ],
   "metadata": {
    "collapsed": false,
    "ExecuteTime": {
     "end_time": "2024-01-31T14:28:50.524597200Z",
     "start_time": "2024-01-31T14:28:50.503451700Z"
    }
   },
   "id": "9d7ca93c8fa652d1",
   "execution_count": 29
  },
  {
   "cell_type": "code",
   "outputs": [],
   "source": [
    "# 단어 추출\n",
    "words = re.findall(r'\\w+', text)"
   ],
   "metadata": {
    "collapsed": false,
    "ExecuteTime": {
     "end_time": "2024-01-31T14:28:50.524597200Z",
     "start_time": "2024-01-31T14:28:50.507065100Z"
    }
   },
   "id": "82b3273a1639cf18",
   "execution_count": 30
  },
  {
   "cell_type": "code",
   "outputs": [
    {
     "name": "stdout",
     "output_type": "stream",
     "text": [
      "['Python이란', '무엇인가요', 'Phython은', '웹', '애플리케이션', '소프트웨어', '개발', '데이터', '과학', '기계', '학습', 'ML', '에', '널리', '사용되는', '프로그래밍', '언어입니다', '개발자는', 'Python이', '효율적이고', '배우기', '쉬우며', '여러', '플랫폼에서', '실행될', '수', '있으므로', 'Python을', '사용합니다', 'Phython', '소프트웨어는', '무료로', '다운로드할', '수', '있고', '모든', '유형의', '시스템과', '원활하게', '통합되며', '개발', '속도를', '증가시킵니다', 'Python을', '사용하면', '어떤', '이점이', '있나요', '이점은', '다음과', '같습니다', 'Python', '프로그램은', '기본적이고', '영어와', '유사한', '구문을', '가지고', '있기', '때문에', '개발자가', '쉽게', '읽고', '이해할', '수', '있습니다', 'Python은', '다른', '많은', '언어에', '비해', '더', '적은', '코드', '줄을', '사용하여', 'Python', '프로그램을', '작성할', '수', '있기', '때문에', '개발자의', '생산성을', '높입니다', '거의', '모든', '작업에', '재사용', '가능한', '코드가', '포함된', '대규모', '표준', '라이브러리가', '있습니다', '결과적으로', '개발자는', '코드를', '처음부터', '작성할', '필요가', '없습니다']\n"
     ]
    }
   ],
   "source": [
    "print(words)"
   ],
   "metadata": {
    "collapsed": false,
    "ExecuteTime": {
     "end_time": "2024-01-31T14:28:50.524597200Z",
     "start_time": "2024-01-31T14:28:50.508579200Z"
    }
   },
   "id": "f6c8e2c8a61055c8",
   "execution_count": 31
  },
  {
   "cell_type": "markdown",
   "source": [
    "### 전화번호 추출"
   ],
   "metadata": {
    "collapsed": false
   },
   "id": "700f581f4f25a978"
  },
  {
   "cell_type": "code",
   "outputs": [],
   "source": [
    "# 연락처 목록\n",
    "contact = '''\n",
    "김미키 21 010-1234-1234 mike@google.com\n",
    "김소은 20 010-3131-1313 soso@naver.com\n",
    "유한슬 34 010_3002_2003 seul@ac.co.kr\n",
    "박민철 40 010 3030 2020 zoe@school.co.kr\n",
    "이민아 23 010.2222.3333 kate@daum.net\n",
    "'''"
   ],
   "metadata": {
    "collapsed": false,
    "ExecuteTime": {
     "end_time": "2024-01-31T14:28:50.525595600Z",
     "start_time": "2024-01-31T14:28:50.511188500Z"
    }
   },
   "id": "8b4387562db46cdb",
   "execution_count": 32
  },
  {
   "cell_type": "code",
   "outputs": [
    {
     "name": "stdout",
     "output_type": "stream",
     "text": [
      "010-1234-1234\n",
      "010-3131-1313\n",
      "010_3002_2003\n",
      "010 3030 2020\n",
      "010.2222.3333\n"
     ]
    }
   ],
   "source": [
    "# 전화번호 추출\n",
    "# regex = r'0\\d{1,2}[ -]?\\d{3,4}[ -]?\\d{3,4}'\n",
    "regex = r'0\\d{1,2}[ -._]?\\d{3,4}[ -._]?\\d{3,4}'\n",
    "\n",
    "tel = re.findall(regex, contact)\n",
    "print('\\n'.join(tel))"
   ],
   "metadata": {
    "collapsed": false,
    "ExecuteTime": {
     "end_time": "2024-01-31T14:28:50.527158100Z",
     "start_time": "2024-01-31T14:28:50.525595600Z"
    }
   },
   "id": "975dc5d665a5d47a",
   "execution_count": 33
  },
  {
   "cell_type": "markdown",
   "source": [
    "### 문자열 변환"
   ],
   "metadata": {
    "collapsed": false
   },
   "id": "95342dbb9e5c2706"
  },
  {
   "cell_type": "code",
   "outputs": [
    {
     "name": "stdout",
     "output_type": "stream",
     "text": [
      "\n",
      "김미키 21 ***-****-**** mike@google.com\n",
      "김소은 20 ***-****-**** soso@naver.com\n",
      "유한슬 34 ***-****-**** seul@ac.co.kr\n",
      "박민철 40 ***-****-**** zoe@school.co.kr\n",
      "이민아 23 ***-****-**** kate@daum.net\n"
     ]
    }
   ],
   "source": [
    "# 변환(마스킹)\n",
    "pat = re.compile(r'0\\d{1,2}[ -._]?\\d{3,4}[ -._]?\\d{3,4}')\n",
    "print(pat.sub(\"***-****-****\", contact))"
   ],
   "metadata": {
    "collapsed": false,
    "ExecuteTime": {
     "end_time": "2024-01-31T14:28:50.556177300Z",
     "start_time": "2024-01-31T14:28:50.529165300Z"
    }
   },
   "id": "c0c32b34ea8dd605",
   "execution_count": 34
  },
  {
   "cell_type": "code",
   "outputs": [],
   "source": [],
   "metadata": {
    "collapsed": false,
    "ExecuteTime": {
     "end_time": "2024-01-31T14:28:50.556177300Z",
     "start_time": "2024-01-31T14:28:50.530942900Z"
    }
   },
   "id": "3b6ad6689edb4933",
   "execution_count": 34
  }
 ],
 "metadata": {
  "kernelspec": {
   "name": "python3",
   "language": "python",
   "display_name": "Python 3 (ipykernel)"
  },
  "language_info": {
   "codemirror_mode": {
    "name": "ipython",
    "version": 2
   },
   "file_extension": ".py",
   "mimetype": "text/x-python",
   "name": "python",
   "nbconvert_exporter": "python",
   "pygments_lexer": "ipython2",
   "version": "2.7.6"
  }
 },
 "nbformat": 4,
 "nbformat_minor": 5
}
