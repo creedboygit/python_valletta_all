{
 "cells": [
  {
   "cell_type": "code",
   "execution_count": 1,
   "id": "initial_id",
   "metadata": {
    "ExecuteTime": {
     "end_time": "2024-02-03T08:37:29.525797100Z",
     "start_time": "2024-02-03T08:37:29.518190900Z"
    },
    "collapsed": true,
    "jupyter": {
     "outputs_hidden": true
    }
   },
   "outputs": [],
   "source": [
    "import textwrap"
   ]
  },
  {
   "cell_type": "code",
   "execution_count": 4,
   "id": "1890a594f11cb1cd",
   "metadata": {
    "ExecuteTime": {
     "end_time": "2024-02-03T08:37:32.159093Z",
     "start_time": "2024-02-03T08:37:32.152013900Z"
    },
    "collapsed": false,
    "jupyter": {
     "outputs_hidden": false
    }
   },
   "outputs": [],
   "source": [
    "text = \"Python이란 무엇인가요? Phython은 웹 애플리케이션, 소프트웨어 개발, 데이터 과학, 기계 학습(ML)에 널리 사용되는 프로그래밍 언어입니다. 개발자는 Python이 효율적이고 배우기 쉬우며 여러 플랫폼에서 실행될 수 있으므로 Python을 사용합니다. Phython 소프트웨어는 무료로 다운로드할 수 있고, 모든 유형의 시스템과 원활하게 통합되며, 개발 속도를 증가시킵니다. Python을 사용하면 어떤 이점이 있나요? 이점은 다음과 같습니다. Python 프로그램은 기본적이고 영어와 유사한 구문을 가지고 있기 때문에 개발자가 쉽게 읽고 이해할 수 있습니다. Python은 다른 많은 언어에 비해 더 적은 코드 줄을 사용하여 Python 프로그램을 작성할 수 있기 때문에 개발자의 생산성을 높입니다. 거의 모든 작업에 재사용 가능한 코드가 포함된 대규모 표준 라이브러리가 있습니다. 결과적으로 개발자는 코드를 처음부터 작성할 필요가 없습니다.\""
   ]
  },
  {
   "cell_type": "code",
   "execution_count": 5,
   "id": "2e7e4702580876d8",
   "metadata": {
    "ExecuteTime": {
     "end_time": "2024-02-03T08:37:33.804300700Z",
     "start_time": "2024-02-03T08:37:33.800746400Z"
    },
    "collapsed": false,
    "jupyter": {
     "outputs_hidden": false
    }
   },
   "outputs": [
    {
     "name": "stdout",
     "output_type": "stream",
     "text": [
      "Python이란 무엇인가요? Phython은 웹 애플리케이션, 소프트웨어 개발, 데이터 과학, 기계 학습(ML)에 널리 사용되는 프로그래밍 언어입니다. 개발자는 Python이 효율적이고 배우기 쉬우며 여러 플랫폼에서 실행될 수 있으므로 Python을 사용합니다. Phython 소프트웨어는 무료로 다운로드할 수 있고, 모든 유형의 시스템과 원활하게 통합되며, 개발 속도를 증가시킵니다. Python을 사용하면 어떤 이점이 있나요? 이점은 다음과 같습니다. Python 프로그램은 기본적이고 영어와 유사한 구문을 가지고 있기 때문에 개발자가 쉽게 읽고 이해할 수 있습니다. Python은 다른 많은 언어에 비해 더 적은 코드 줄을 사용하여 Python 프로그램을 작성할 수 있기 때문에 개발자의 생산성을 높입니다. 거의 모든 작업에 재사용 가능한 코드가 포함된 대규모 표준 라이브러리가 있습니다. 결과적으로 개발자는 코드를 처음부터 작성할 필요가 없습니다.\n"
     ]
    }
   ],
   "source": [
    "print(text)"
   ]
  },
  {
   "cell_type": "markdown",
   "id": "c22522c6734cd4d6",
   "metadata": {
    "collapsed": false,
    "jupyter": {
     "outputs_hidden": false
    }
   },
   "source": [
    "## textwrap.shorten()"
   ]
  },
  {
   "cell_type": "code",
   "execution_count": 7,
   "id": "828c35edd7caaa81",
   "metadata": {
    "ExecuteTime": {
     "end_time": "2024-02-03T08:21:57.630423800Z",
     "start_time": "2024-02-03T08:21:57.615665500Z"
    },
    "collapsed": false,
    "jupyter": {
     "outputs_hidden": false
    }
   },
   "outputs": [
    {
     "data": {
      "text/plain": [
       "'Python이란 무엇인가요? Phython은 웹 애플리케이션, 소프트웨어 개발, 데이터 과학, 기계 학습(ML)에 널리 사용되는 프로그래밍 언어입니다. 개발자는 Python이 효율적이고 배우기 쉬우며 여러 플랫폼에서 실행될 수 있으므로 Python을 사용합니다. Phython 소프트웨어는 무료로 다운로드할 수 있고, 모든 유형의 시스템과 원활하게 [...]'"
      ]
     },
     "execution_count": 7,
     "metadata": {},
     "output_type": "execute_result"
    }
   ],
   "source": [
    "textwrap.shorten(text, width=200)"
   ]
  },
  {
   "cell_type": "code",
   "execution_count": 8,
   "id": "c0b4915db408676b",
   "metadata": {
    "ExecuteTime": {
     "end_time": "2024-02-03T08:21:57.631423300Z",
     "start_time": "2024-02-03T08:21:57.621627300Z"
    },
    "collapsed": false,
    "jupyter": {
     "outputs_hidden": false
    }
   },
   "outputs": [
    {
     "data": {
      "text/plain": [
       "'Python이란 무엇인가요? Phython은 웹 애플리케이션, 소프트웨어 개발, 데이터 과학, 기계 학습(ML)에 널리 사용되는 프로그래밍 언어입니다. 개발자는...[중략]'"
      ]
     },
     "execution_count": 8,
     "metadata": {},
     "output_type": "execute_result"
    }
   ],
   "source": [
    "textwrap.shorten(text, width=100, placeholder='...[중략]')"
   ]
  },
  {
   "cell_type": "code",
   "execution_count": 9,
   "id": "d413ff5e80e5a889",
   "metadata": {
    "ExecuteTime": {
     "end_time": "2024-02-03T08:21:57.631423300Z",
     "start_time": "2024-02-03T08:21:57.625980200Z"
    },
    "collapsed": false,
    "jupyter": {
     "outputs_hidden": false
    }
   },
   "outputs": [],
   "source": [
    "wrapped_text = textwrap.wrap(text, width=30)"
   ]
  },
  {
   "cell_type": "code",
   "execution_count": 10,
   "id": "c228b6a6d809711c",
   "metadata": {
    "ExecuteTime": {
     "end_time": "2024-02-03T08:21:57.673224800Z",
     "start_time": "2024-02-03T08:21:57.628531300Z"
    },
    "collapsed": false,
    "jupyter": {
     "outputs_hidden": false
    }
   },
   "outputs": [
    {
     "name": "stdout",
     "output_type": "stream",
     "text": [
      "['Python이란 무엇인가요? Phython은 웹', '애플리케이션, 소프트웨어 개발, 데이터 과학, 기계', '학습(ML)에 널리 사용되는 프로그래밍 언어입니다.', '개발자는 Python이 효율적이고 배우기 쉬우며 여러', '플랫폼에서 실행될 수 있으므로 Python을', '사용합니다. Phython 소프트웨어는 무료로', '다운로드할 수 있고, 모든 유형의 시스템과 원활하게', '통합되며, 개발 속도를 증가시킵니다. Python을', '사용하면 어떤 이점이 있나요? 이점은 다음과 같습니다.', 'Python 프로그램은 기본적이고 영어와 유사한 구문을', '가지고 있기 때문에 개발자가 쉽게 읽고 이해할 수', '있습니다. Python은 다른 많은 언어에 비해 더', '적은 코드 줄을 사용하여 Python 프로그램을 작성할', '수 있기 때문에 개발자의 생산성을 높입니다. 거의 모든', '작업에 재사용 가능한 코드가 포함된 대규모 표준', '라이브러리가 있습니다. 결과적으로 개발자는 코드를', '처음부터 작성할 필요가 없습니다.']\n"
     ]
    }
   ],
   "source": [
    "print(wrapped_text)"
   ]
  },
  {
   "cell_type": "code",
   "execution_count": 11,
   "id": "b80f1ed36fb25248",
   "metadata": {
    "ExecuteTime": {
     "end_time": "2024-02-03T08:21:57.675224800Z",
     "start_time": "2024-02-03T08:21:57.632686600Z"
    },
    "collapsed": false,
    "jupyter": {
     "outputs_hidden": false
    }
   },
   "outputs": [
    {
     "name": "stdout",
     "output_type": "stream",
     "text": [
      "Python이란 무엇인가요? Phython은 웹\n",
      "애플리케이션, 소프트웨어 개발, 데이터 과학, 기계\n",
      "학습(ML)에 널리 사용되는 프로그래밍 언어입니다.\n",
      "개발자는 Python이 효율적이고 배우기 쉬우며 여러\n",
      "플랫폼에서 실행될 수 있으므로 Python을\n",
      "사용합니다. Phython 소프트웨어는 무료로\n",
      "다운로드할 수 있고, 모든 유형의 시스템과 원활하게\n",
      "통합되며, 개발 속도를 증가시킵니다. Python을\n",
      "사용하면 어떤 이점이 있나요? 이점은 다음과 같습니다.\n",
      "Python 프로그램은 기본적이고 영어와 유사한 구문을\n",
      "가지고 있기 때문에 개발자가 쉽게 읽고 이해할 수\n",
      "있습니다. Python은 다른 많은 언어에 비해 더\n",
      "적은 코드 줄을 사용하여 Python 프로그램을 작성할\n",
      "수 있기 때문에 개발자의 생산성을 높입니다. 거의 모든\n",
      "작업에 재사용 가능한 코드가 포함된 대규모 표준\n",
      "라이브러리가 있습니다. 결과적으로 개발자는 코드를\n",
      "처음부터 작성할 필요가 없습니다.\n"
     ]
    }
   ],
   "source": [
    "print('\\n'.join(wrapped_text))"
   ]
  },
  {
   "cell_type": "code",
   "execution_count": 12,
   "id": "9ca1bbd937cb5f71",
   "metadata": {
    "ExecuteTime": {
     "end_time": "2024-02-03T08:21:57.697700700Z",
     "start_time": "2024-02-03T08:21:57.676489Z"
    },
    "collapsed": false,
    "jupyter": {
     "outputs_hidden": false
    }
   },
   "outputs": [],
   "source": [
    "filled_text = textwrap.fill(text, width=30)"
   ]
  },
  {
   "cell_type": "code",
   "execution_count": 13,
   "id": "fec3d81eb753e834",
   "metadata": {
    "ExecuteTime": {
     "end_time": "2024-02-03T08:21:57.708500800Z",
     "start_time": "2024-02-03T08:21:57.699480Z"
    },
    "collapsed": false,
    "jupyter": {
     "outputs_hidden": false
    }
   },
   "outputs": [
    {
     "name": "stdout",
     "output_type": "stream",
     "text": [
      "Python이란 무엇인가요? Phython은 웹\n",
      "애플리케이션, 소프트웨어 개발, 데이터 과학, 기계\n",
      "학습(ML)에 널리 사용되는 프로그래밍 언어입니다.\n",
      "개발자는 Python이 효율적이고 배우기 쉬우며 여러\n",
      "플랫폼에서 실행될 수 있으므로 Python을\n",
      "사용합니다. Phython 소프트웨어는 무료로\n",
      "다운로드할 수 있고, 모든 유형의 시스템과 원활하게\n",
      "통합되며, 개발 속도를 증가시킵니다. Python을\n",
      "사용하면 어떤 이점이 있나요? 이점은 다음과 같습니다.\n",
      "Python 프로그램은 기본적이고 영어와 유사한 구문을\n",
      "가지고 있기 때문에 개발자가 쉽게 읽고 이해할 수\n",
      "있습니다. Python은 다른 많은 언어에 비해 더\n",
      "적은 코드 줄을 사용하여 Python 프로그램을 작성할\n",
      "수 있기 때문에 개발자의 생산성을 높입니다. 거의 모든\n",
      "작업에 재사용 가능한 코드가 포함된 대규모 표준\n",
      "라이브러리가 있습니다. 결과적으로 개발자는 코드를\n",
      "처음부터 작성할 필요가 없습니다.\n"
     ]
    }
   ],
   "source": [
    "print(filled_text)"
   ]
  },
  {
   "cell_type": "markdown",
   "id": "6c46340f13b469a",
   "metadata": {
    "collapsed": false,
    "jupyter": {
     "outputs_hidden": false
    }
   },
   "source": [
    "# re 정규표현식(regular expressions)"
   ]
  },
  {
   "cell_type": "markdown",
   "id": "fd391b30fe6f8e68",
   "metadata": {
    "collapsed": false,
    "jupyter": {
     "outputs_hidden": false
    }
   },
   "source": [
    "### 단어 추출\n",
    "#### re.findall()"
   ]
  },
  {
   "cell_type": "code",
   "execution_count": 14,
   "id": "9d7ca93c8fa652d1",
   "metadata": {
    "ExecuteTime": {
     "end_time": "2024-02-03T08:21:57.709499200Z",
     "start_time": "2024-02-03T08:21:57.702146200Z"
    },
    "collapsed": false,
    "jupyter": {
     "outputs_hidden": false
    }
   },
   "outputs": [],
   "source": [
    "import re"
   ]
  },
  {
   "cell_type": "code",
   "execution_count": 15,
   "id": "82b3273a1639cf18",
   "metadata": {
    "ExecuteTime": {
     "end_time": "2024-02-03T08:21:57.710498700Z",
     "start_time": "2024-02-03T08:21:57.704986800Z"
    },
    "collapsed": false,
    "jupyter": {
     "outputs_hidden": false
    }
   },
   "outputs": [],
   "source": [
    "# 단어 추출\n",
    "words = re.findall(r'\\w+', text)"
   ]
  },
  {
   "cell_type": "code",
   "execution_count": 16,
   "id": "f6c8e2c8a61055c8",
   "metadata": {
    "ExecuteTime": {
     "end_time": "2024-02-03T08:21:57.713188900Z",
     "start_time": "2024-02-03T08:21:57.711635500Z"
    },
    "collapsed": false,
    "jupyter": {
     "outputs_hidden": false
    }
   },
   "outputs": [
    {
     "name": "stdout",
     "output_type": "stream",
     "text": [
      "['Python이란', '무엇인가요', 'Phython은', '웹', '애플리케이션', '소프트웨어', '개발', '데이터', '과학', '기계', '학습', 'ML', '에', '널리', '사용되는', '프로그래밍', '언어입니다', '개발자는', 'Python이', '효율적이고', '배우기', '쉬우며', '여러', '플랫폼에서', '실행될', '수', '있으므로', 'Python을', '사용합니다', 'Phython', '소프트웨어는', '무료로', '다운로드할', '수', '있고', '모든', '유형의', '시스템과', '원활하게', '통합되며', '개발', '속도를', '증가시킵니다', 'Python을', '사용하면', '어떤', '이점이', '있나요', '이점은', '다음과', '같습니다', 'Python', '프로그램은', '기본적이고', '영어와', '유사한', '구문을', '가지고', '있기', '때문에', '개발자가', '쉽게', '읽고', '이해할', '수', '있습니다', 'Python은', '다른', '많은', '언어에', '비해', '더', '적은', '코드', '줄을', '사용하여', 'Python', '프로그램을', '작성할', '수', '있기', '때문에', '개발자의', '생산성을', '높입니다', '거의', '모든', '작업에', '재사용', '가능한', '코드가', '포함된', '대규모', '표준', '라이브러리가', '있습니다', '결과적으로', '개발자는', '코드를', '처음부터', '작성할', '필요가', '없습니다']\n"
     ]
    }
   ],
   "source": [
    "print(words)"
   ]
  },
  {
   "cell_type": "markdown",
   "id": "700f581f4f25a978",
   "metadata": {
    "collapsed": false,
    "jupyter": {
     "outputs_hidden": false
    }
   },
   "source": [
    "### 전화번호 추출"
   ]
  },
  {
   "cell_type": "code",
   "execution_count": 17,
   "id": "8b4387562db46cdb",
   "metadata": {
    "ExecuteTime": {
     "end_time": "2024-02-03T08:21:57.721163900Z",
     "start_time": "2024-02-03T08:21:57.714264200Z"
    },
    "collapsed": false,
    "jupyter": {
     "outputs_hidden": false
    }
   },
   "outputs": [],
   "source": [
    "# 연락처 목록\n",
    "contact = '''\n",
    "김미키 21 010-1234-1234 mike@google.com\n",
    "김소은 20 010-3131-1313 soso@naver.com\n",
    "유한슬 34 010_3002_2003 seul@ac.co.kr\n",
    "박민철 40 010 3030 2020 zoe@school.co.kr\n",
    "이민아 23 010.2222.3333 kate@daum.net\n",
    "'''"
   ]
  },
  {
   "cell_type": "code",
   "execution_count": 18,
   "id": "975dc5d665a5d47a",
   "metadata": {
    "ExecuteTime": {
     "end_time": "2024-02-03T08:21:57.745928100Z",
     "start_time": "2024-02-03T08:21:57.716776100Z"
    },
    "collapsed": false,
    "jupyter": {
     "outputs_hidden": false
    }
   },
   "outputs": [
    {
     "name": "stdout",
     "output_type": "stream",
     "text": [
      "010-1234-1234\n",
      "010-3131-1313\n",
      "010_3002_2003\n",
      "010 3030 2020\n",
      "010.2222.3333\n"
     ]
    }
   ],
   "source": [
    "# 전화번호 추출\n",
    "# regex = r'0\\d{1,2}[ -]?\\d{3,4}[ -]?\\d{3,4}'\n",
    "regex = r'0\\d{1,2}[ -._]?\\d{3,4}[ -._]?\\d{3,4}'\n",
    "\n",
    "tel = re.findall(regex, contact)\n",
    "print('\\n'.join(tel))"
   ]
  },
  {
   "cell_type": "markdown",
   "id": "95342dbb9e5c2706",
   "metadata": {
    "collapsed": false,
    "jupyter": {
     "outputs_hidden": false
    }
   },
   "source": [
    "### 문자열 변환"
   ]
  },
  {
   "cell_type": "code",
   "execution_count": 19,
   "id": "c0c32b34ea8dd605",
   "metadata": {
    "ExecuteTime": {
     "end_time": "2024-02-03T08:21:57.747928400Z",
     "start_time": "2024-02-03T08:21:57.719651700Z"
    },
    "collapsed": false,
    "jupyter": {
     "outputs_hidden": false
    }
   },
   "outputs": [
    {
     "name": "stdout",
     "output_type": "stream",
     "text": [
      "\n",
      "김미키 21 ***-****-**** mike@google.com\n",
      "김소은 20 ***-****-**** soso@naver.com\n",
      "유한슬 34 ***-****-**** seul@ac.co.kr\n",
      "박민철 40 ***-****-**** zoe@school.co.kr\n",
      "이민아 23 ***-****-**** kate@daum.net\n"
     ]
    }
   ],
   "source": [
    "# 변환(마스킹)\n",
    "pat = re.compile(r'0\\d{1,2}[ -._]?\\d{3,4}[ -._]?\\d{3,4}')\n",
    "print(pat.sub(\"***-****-****\", contact))"
   ]
  },
  {
   "cell_type": "code",
   "execution_count": 19,
   "id": "3b6ad6689edb4933",
   "metadata": {
    "ExecuteTime": {
     "end_time": "2024-02-03T08:21:57.747928400Z",
     "start_time": "2024-02-03T08:21:57.722379200Z"
    },
    "collapsed": false,
    "jupyter": {
     "outputs_hidden": false
    }
   },
   "outputs": [],
   "source": []
  }
 ],
 "metadata": {
  "kernelspec": {
   "display_name": "Python 3 (ipykernel)",
   "language": "python",
   "name": "python3"
  },
  "language_info": {
   "codemirror_mode": {
    "name": "ipython",
    "version": 3
   },
   "file_extension": ".py",
   "mimetype": "text/x-python",
   "name": "python",
   "nbconvert_exporter": "python",
   "pygments_lexer": "ipython3",
   "version": "3.12.1"
  }
 },
 "nbformat": 4,
 "nbformat_minor": 5
}
