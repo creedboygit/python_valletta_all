{
 "cells": [
  {
   "cell_type": "code",
   "execution_count": null,
   "id": "initial_id",
   "metadata": {
    "collapsed": true
   },
   "outputs": [],
   "source": [
    "import textwrap"
   ]
  },
  {
   "cell_type": "code",
   "outputs": [],
   "source": [
    "text = \"Python이란 무엇인가요? Phython은 웹 애플리케이션, 소프트웨어 개발, 데이터 과학, 기계 학습(ML)에 널리 사용되는 프로그래밍 언어입니다. 개발자는 Python이 효율적이고 배우기 쉬우며 여러 플랫폼에서 실행될 수 있으므로 Python을 사용합니다. Phython 소프트웨어는 무료로 다운로드할 수 있고, 모든 유형의 시스템과 원활하게 통합되며, 개발 속도를 증가시킵니다. Python을 사용하면 어떤 이점이 있나요? 이점은 다음과 같습니다. Python 프로그램은 기본적이고 영어와 유사한 구문을 가지고 있기 때문에 개발자가 쉽게 읽고 이해할 수 있습니다. Python은 다른 많은 언어에 비해 더 적은 코드 줄을 사용하여 Python 프로그램을 작성할 수 있기 때문에 개발자의 생산성을 높입니다. 거의 모든 작업에 재사용 가능한 코드가 포함된 대규모 표준 라이브러리가 있습니다. 결과적으로 개발자는 코드를 처음부터 작성할 필요가 없습니다.\""
   ],
   "metadata": {
    "collapsed": false
   },
   "id": "1890a594f11cb1cd",
   "execution_count": null
  },
  {
   "cell_type": "code",
   "outputs": [],
   "source": [
    "print(text)"
   ],
   "metadata": {
    "collapsed": false
   },
   "id": "2e7e4702580876d8",
   "execution_count": null
  },
  {
   "cell_type": "markdown",
   "source": [
    "## textwrap.shorten()"
   ],
   "metadata": {
    "collapsed": false
   },
   "id": "c22522c6734cd4d6"
  },
  {
   "cell_type": "code",
   "outputs": [],
   "source": [
    "textwrap.shorten(text, width=200)"
   ],
   "metadata": {
    "collapsed": false
   },
   "id": "828c35edd7caaa81",
   "execution_count": null
  },
  {
   "cell_type": "code",
   "outputs": [],
   "source": [
    "textwrap.shorten(text, width=100, placeholder='...[중략]')"
   ],
   "metadata": {
    "collapsed": false
   },
   "id": "c0b4915db408676b",
   "execution_count": null
  },
  {
   "cell_type": "code",
   "outputs": [],
   "source": [
    "wrapped_text = textwrap.wrap(text, width=30)"
   ],
   "metadata": {
    "collapsed": false
   },
   "id": "d413ff5e80e5a889",
   "execution_count": null
  },
  {
   "cell_type": "code",
   "outputs": [],
   "source": [
    "print(wrapped_text)"
   ],
   "metadata": {
    "collapsed": false
   },
   "id": "c228b6a6d809711c",
   "execution_count": null
  },
  {
   "cell_type": "code",
   "outputs": [],
   "source": [
    "print('\\n'.join(wrapped_text))"
   ],
   "metadata": {
    "collapsed": false
   },
   "id": "b80f1ed36fb25248",
   "execution_count": null
  },
  {
   "cell_type": "code",
   "outputs": [],
   "source": [
    "filled_text = textwrap.fill(text, width=30)"
   ],
   "metadata": {
    "collapsed": false
   },
   "id": "9ca1bbd937cb5f71",
   "execution_count": null
  },
  {
   "cell_type": "code",
   "outputs": [],
   "source": [
    "print(filled_text)"
   ],
   "metadata": {
    "collapsed": false
   },
   "id": "fec3d81eb753e834",
   "execution_count": null
  },
  {
   "cell_type": "code",
   "outputs": [],
   "source": [],
   "metadata": {
    "collapsed": false
   },
   "id": "83442803a5ff0c8"
  }
 ],
 "metadata": {
  "kernelspec": {
   "display_name": "Python 3",
   "language": "python",
   "name": "python3"
  },
  "language_info": {
   "codemirror_mode": {
    "name": "ipython",
    "version": 2
   },
   "file_extension": ".py",
   "mimetype": "text/x-python",
   "name": "python",
   "nbconvert_exporter": "python",
   "pygments_lexer": "ipython2",
   "version": "2.7.6"
  }
 },
 "nbformat": 4,
 "nbformat_minor": 5
}
