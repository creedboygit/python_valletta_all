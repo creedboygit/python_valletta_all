{
 "cells": [
  {
   "cell_type": "code",
   "execution_count": 12,
   "id": "initial_id",
   "metadata": {
    "collapsed": true,
    "ExecuteTime": {
     "end_time": "2024-01-29T12:48:23.108105300Z",
     "start_time": "2024-01-29T12:48:23.035360100Z"
    }
   },
   "outputs": [
    {
     "ename": "ImportError",
     "evalue": "cannot import name 'Iterable' from 'collections' (C:\\Users\\VALLETTA\\AppData\\Local\\Programs\\Python\\Python312\\Lib\\collections\\__init__.py)",
     "output_type": "error",
     "traceback": [
      "\u001B[1;31m---------------------------------------------------------------------------\u001B[0m",
      "\u001B[1;31mImportError\u001B[0m                               Traceback (most recent call last)",
      "Cell \u001B[1;32mIn[12], line 1\u001B[0m\n\u001B[1;32m----> 1\u001B[0m \u001B[38;5;28;01mimport\u001B[39;00m \u001B[38;5;21;01mgensim\u001B[39;00m\n",
      "File \u001B[1;32m~\\AppData\\Local\\Programs\\Python\\Python312\\Lib\\site-packages\\gensim\\__init__.py:5\u001B[0m\n\u001B[0;32m      1\u001B[0m \u001B[38;5;124;03m\"\"\"This package contains interfaces and functionality to compute pair-wise document similarities within a corpus\u001B[39;00m\n\u001B[0;32m      2\u001B[0m \u001B[38;5;124;03mof documents.\u001B[39;00m\n\u001B[0;32m      3\u001B[0m \u001B[38;5;124;03m\"\"\"\u001B[39;00m\n\u001B[1;32m----> 5\u001B[0m \u001B[38;5;28;01mfrom\u001B[39;00m \u001B[38;5;21;01mgensim\u001B[39;00m \u001B[38;5;28;01mimport\u001B[39;00m parsing, corpora, matutils, interfaces, models, similarities, summarization, utils  \u001B[38;5;66;03m# noqa:F401\u001B[39;00m\n\u001B[0;32m      6\u001B[0m \u001B[38;5;28;01mimport\u001B[39;00m \u001B[38;5;21;01mlogging\u001B[39;00m\n\u001B[0;32m      8\u001B[0m __version__ \u001B[38;5;241m=\u001B[39m \u001B[38;5;124m'\u001B[39m\u001B[38;5;124m3.7.3\u001B[39m\u001B[38;5;124m'\u001B[39m\n",
      "File \u001B[1;32m~\\AppData\\Local\\Programs\\Python\\Python312\\Lib\\site-packages\\gensim\\models\\__init__.py:15\u001B[0m\n\u001B[0;32m     13\u001B[0m \u001B[38;5;28;01mfrom\u001B[39;00m \u001B[38;5;21;01m.\u001B[39;00m\u001B[38;5;21;01mlogentropy_model\u001B[39;00m \u001B[38;5;28;01mimport\u001B[39;00m LogEntropyModel  \u001B[38;5;66;03m# noqa:F401\u001B[39;00m\n\u001B[0;32m     14\u001B[0m \u001B[38;5;28;01mfrom\u001B[39;00m \u001B[38;5;21;01m.\u001B[39;00m\u001B[38;5;21;01mword2vec\u001B[39;00m \u001B[38;5;28;01mimport\u001B[39;00m Word2Vec  \u001B[38;5;66;03m# noqa:F401\u001B[39;00m\n\u001B[1;32m---> 15\u001B[0m \u001B[38;5;28;01mfrom\u001B[39;00m \u001B[38;5;21;01m.\u001B[39;00m\u001B[38;5;21;01mdoc2vec\u001B[39;00m \u001B[38;5;28;01mimport\u001B[39;00m Doc2Vec  \u001B[38;5;66;03m# noqa:F401\u001B[39;00m\n\u001B[0;32m     16\u001B[0m \u001B[38;5;28;01mfrom\u001B[39;00m \u001B[38;5;21;01m.\u001B[39;00m\u001B[38;5;21;01mkeyedvectors\u001B[39;00m \u001B[38;5;28;01mimport\u001B[39;00m KeyedVectors, WordEmbeddingSimilarityIndex  \u001B[38;5;66;03m# noqa:F401\u001B[39;00m\n\u001B[0;32m     17\u001B[0m \u001B[38;5;28;01mfrom\u001B[39;00m \u001B[38;5;21;01m.\u001B[39;00m\u001B[38;5;21;01mldamulticore\u001B[39;00m \u001B[38;5;28;01mimport\u001B[39;00m LdaMulticore  \u001B[38;5;66;03m# noqa:F401\u001B[39;00m\n",
      "File \u001B[1;32m~\\AppData\\Local\\Programs\\Python\\Python312\\Lib\\site-packages\\gensim\\models\\doc2vec.py:73\u001B[0m\n\u001B[0;32m     70\u001B[0m \u001B[38;5;28;01mexcept\u001B[39;00m \u001B[38;5;167;01mImportError\u001B[39;00m:\n\u001B[0;32m     71\u001B[0m     \u001B[38;5;28;01mfrom\u001B[39;00m \u001B[38;5;21;01mQueue\u001B[39;00m \u001B[38;5;28;01mimport\u001B[39;00m Queue  \u001B[38;5;66;03m# noqa:F401\u001B[39;00m\n\u001B[1;32m---> 73\u001B[0m \u001B[38;5;28;01mfrom\u001B[39;00m \u001B[38;5;21;01mcollections\u001B[39;00m \u001B[38;5;28;01mimport\u001B[39;00m namedtuple, defaultdict, Iterable\n\u001B[0;32m     74\u001B[0m \u001B[38;5;28;01mfrom\u001B[39;00m \u001B[38;5;21;01mtimeit\u001B[39;00m \u001B[38;5;28;01mimport\u001B[39;00m default_timer\n\u001B[0;32m     76\u001B[0m \u001B[38;5;28;01mfrom\u001B[39;00m \u001B[38;5;21;01mnumpy\u001B[39;00m \u001B[38;5;28;01mimport\u001B[39;00m zeros, float32 \u001B[38;5;28;01mas\u001B[39;00m REAL, empty, ones, \\\n\u001B[0;32m     77\u001B[0m     memmap \u001B[38;5;28;01mas\u001B[39;00m np_memmap, vstack, integer, dtype, \u001B[38;5;28msum\u001B[39m \u001B[38;5;28;01mas\u001B[39;00m np_sum, add \u001B[38;5;28;01mas\u001B[39;00m np_add, repeat \u001B[38;5;28;01mas\u001B[39;00m np_repeat, concatenate\n",
      "\u001B[1;31mImportError\u001B[0m: cannot import name 'Iterable' from 'collections' (C:\\Users\\VALLETTA\\AppData\\Local\\Programs\\Python\\Python312\\Lib\\collections\\__init__.py)"
     ]
    }
   ],
   "source": [
    "import gensim"
   ]
  },
  {
   "cell_type": "code",
   "outputs": [],
   "source": [
    "# 모델 불러오기"
   ],
   "metadata": {
    "collapsed": false
   },
   "id": "f9756cabe9f19790"
  }
 ],
 "metadata": {
  "kernelspec": {
   "name": "valletta",
   "language": "python",
   "display_name": "valletta"
  },
  "language_info": {
   "codemirror_mode": {
    "name": "ipython",
    "version": 2
   },
   "file_extension": ".py",
   "mimetype": "text/x-python",
   "name": "python",
   "nbconvert_exporter": "python",
   "pygments_lexer": "ipython2",
   "version": "2.7.6"
  }
 },
 "nbformat": 4,
 "nbformat_minor": 5
}
