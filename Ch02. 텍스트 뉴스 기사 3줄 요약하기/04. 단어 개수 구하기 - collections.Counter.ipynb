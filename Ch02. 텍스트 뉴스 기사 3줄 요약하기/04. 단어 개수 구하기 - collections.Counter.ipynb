{
 "cells": [
  {
   "cell_type": "code",
   "execution_count": 1,
   "id": "initial_id",
   "metadata": {
    "collapsed": true,
    "ExecuteTime": {
     "end_time": "2024-01-29T12:05:54.811548800Z",
     "start_time": "2024-01-29T12:05:54.807768600Z"
    }
   },
   "outputs": [],
   "source": [
    "import collections\n",
    "import textwrap\n",
    "import re"
   ]
  },
  {
   "cell_type": "code",
   "outputs": [
    {
     "name": "stdout",
     "output_type": "stream",
     "text": [
      "Python이란 무엇인가요? Phython은 웹 애플리케이션, 소프트웨어 개발, 데이터\n",
      "과학, 기계 학습(ML)에 널리 사용되는 프로그래밍 언어입니다. 개발자는 Python이\n",
      "효율적이고 배우기 쉬우며 여러 플랫폼에서 실행될 수 있으므로 Python을 사용합니다.\n",
      "Phython 소프트웨어는 무료로 다운로드할 수 있고, 모든 유형의 시스템과 원활하게\n",
      "통합되며, 개발 속도를 증가시킵니다. Python을 사용하면 어떤 이점이 있나요? 이점은\n",
      "다음과 같습니다. Python 프로그램은 기본적이고 영어와 유사한 구문을 가지고 있기\n",
      "때문에 개발자가 쉽게 읽고 이해할 수 있습니다. Python은 다른 많은 언어에 비해 더\n",
      "적은 코드 줄을 사용하여 Python 프로그램을 작성할 수 있기 때문에 개발자의 생산성을\n",
      "높입니다. 거의 모든 작업에 재사용 가능한 코드가 포함된 대규모 표준 라이브러리가\n",
      "있습니다. 결과적으로 개발자는 코드를 처음부터 작성할 필요가 없습니다.\n"
     ]
    }
   ],
   "source": [
    "# 문자열 편집\n",
    "text = \"Python이란 무엇인가요? Phython은 웹 애플리케이션, 소프트웨어 개발, 데이터 과학, 기계 학습(ML)에 널리 사용되는 프로그래밍 언어입니다. 개발자는 Python이 효율적이고 배우기 쉬우며 여러 플랫폼에서 실행될 수 있으므로 Python을 사용합니다. Phython 소프트웨어는 무료로 다운로드할 수 있고, 모든 유형의 시스템과 원활하게 통합되며, 개발 속도를 증가시킵니다. Python을 사용하면 어떤 이점이 있나요? 이점은 다음과 같습니다. Python 프로그램은 기본적이고 영어와 유사한 구문을 가지고 있기 때문에 개발자가 쉽게 읽고 이해할 수 있습니다. Python은 다른 많은 언어에 비해 더 적은 코드 줄을 사용하여 Python 프로그램을 작성할 수 있기 때문에 개발자의 생산성을 높입니다. 거의 모든 작업에 재사용 가능한 코드가 포함된 대규모 표준 라이브러리가 있습니다. 결과적으로 개발자는 코드를 처음부터 작성할 필요가 없습니다.\"\n",
    "\n",
    "text = textwrap.fill(text, width=50)\n",
    "print(text)"
   ],
   "metadata": {
    "collapsed": false,
    "ExecuteTime": {
     "end_time": "2024-01-29T12:06:40.483503Z",
     "start_time": "2024-01-29T12:06:40.477334400Z"
    }
   },
   "id": "bed9d7fa0660bdce",
   "execution_count": 3
  },
  {
   "cell_type": "code",
   "outputs": [
    {
     "name": "stdout",
     "output_type": "stream",
     "text": [
      "['Python이란', '무엇인가요', 'Phython은', '웹', '애플리케이션', '소프트웨어', '개발', '데이터', '과학', '기계', '학습', 'ML', '에', '널리', '사용되는', '프로그래밍', '언어입니다', '개발자는', 'Python이', '효율적이고', '배우기', '쉬우며', '여러', '플랫폼에서', '실행될', '수', '있으므로', 'Python을', '사용합니다', 'Phython', '소프트웨어는', '무료로', '다운로드할', '수', '있고', '모든', '유형의', '시스템과', '원활하게', '통합되며', '개발', '속도를', '증가시킵니다', 'Python을', '사용하면', '어떤', '이점이', '있나요', '이점은', '다음과', '같습니다', 'Python', '프로그램은', '기본적이고', '영어와', '유사한', '구문을', '가지고', '있기', '때문에', '개발자가', '쉽게', '읽고', '이해할', '수', '있습니다', 'Python은', '다른', '많은', '언어에', '비해', '더', '적은', '코드', '줄을', '사용하여', 'Python', '프로그램을', '작성할', '수', '있기', '때문에', '개발자의', '생산성을', '높입니다', '거의', '모든', '작업에', '재사용', '가능한', '코드가', '포함된', '대규모', '표준', '라이브러리가', '있습니다', '결과적으로', '개발자는', '코드를', '처음부터', '작성할', '필요가', '없습니다']\n"
     ]
    }
   ],
   "source": [
    "# 단어 추출\n",
    "words = re.findall(r'\\w+', text)\n",
    "print(words)"
   ],
   "metadata": {
    "collapsed": false,
    "ExecuteTime": {
     "end_time": "2024-01-29T12:07:08.808371300Z",
     "start_time": "2024-01-29T12:07:08.802436500Z"
    }
   },
   "id": "3a1cc5418f6d35d9",
   "execution_count": 5
  },
  {
   "cell_type": "code",
   "outputs": [
    {
     "name": "stdout",
     "output_type": "stream",
     "text": [
      "Counter({'수': 4, '개발': 2, '개발자는': 2, 'Python을': 2, '모든': 2, 'Python': 2, '있기': 2, '때문에': 2, '있습니다': 2, '작성할': 2, 'Python이란': 1, '무엇인가요': 1, 'Phython은': 1, '웹': 1, '애플리케이션': 1, '소프트웨어': 1, '데이터': 1, '과학': 1, '기계': 1, '학습': 1, 'ML': 1, '에': 1, '널리': 1, '사용되는': 1, '프로그래밍': 1, '언어입니다': 1, 'Python이': 1, '효율적이고': 1, '배우기': 1, '쉬우며': 1, '여러': 1, '플랫폼에서': 1, '실행될': 1, '있으므로': 1, '사용합니다': 1, 'Phython': 1, '소프트웨어는': 1, '무료로': 1, '다운로드할': 1, '있고': 1, '유형의': 1, '시스템과': 1, '원활하게': 1, '통합되며': 1, '속도를': 1, '증가시킵니다': 1, '사용하면': 1, '어떤': 1, '이점이': 1, '있나요': 1, '이점은': 1, '다음과': 1, '같습니다': 1, '프로그램은': 1, '기본적이고': 1, '영어와': 1, '유사한': 1, '구문을': 1, '가지고': 1, '개발자가': 1, '쉽게': 1, '읽고': 1, '이해할': 1, 'Python은': 1, '다른': 1, '많은': 1, '언어에': 1, '비해': 1, '더': 1, '적은': 1, '코드': 1, '줄을': 1, '사용하여': 1, '프로그램을': 1, '개발자의': 1, '생산성을': 1, '높입니다': 1, '거의': 1, '작업에': 1, '재사용': 1, '가능한': 1, '코드가': 1, '포함된': 1, '대규모': 1, '표준': 1, '라이브러리가': 1, '결과적으로': 1, '코드를': 1, '처음부터': 1, '필요가': 1, '없습니다': 1})\n"
     ]
    }
   ],
   "source": [
    "# 빈도수 산출\n",
    "counter = collections.Counter(words)\n",
    "print(counter)"
   ],
   "metadata": {
    "collapsed": false,
    "ExecuteTime": {
     "end_time": "2024-01-29T12:14:04.588068300Z",
     "start_time": "2024-01-29T12:14:04.579472500Z"
    }
   },
   "id": "29e166b762bd1898",
   "execution_count": 6
  },
  {
   "cell_type": "code",
   "outputs": [],
   "source": [
    "# 덧셈\n",
    "a = collections.Counter(['a', 'b', 'c', 'b', 'd', 'a'])\n",
    "b = collections.Counter(['e', 'f', 'f', 'b', 'a', 'd'])"
   ],
   "metadata": {
    "collapsed": false,
    "ExecuteTime": {
     "end_time": "2024-01-29T12:17:05.197769300Z",
     "start_time": "2024-01-29T12:17:05.191701600Z"
    }
   },
   "id": "b57fd73c3df7532d",
   "execution_count": 10
  },
  {
   "cell_type": "code",
   "outputs": [
    {
     "name": "stdout",
     "output_type": "stream",
     "text": [
      "Counter({'a': 2, 'b': 2, 'c': 1, 'd': 1})\n"
     ]
    }
   ],
   "source": [
    "print(a)"
   ],
   "metadata": {
    "collapsed": false,
    "ExecuteTime": {
     "end_time": "2024-01-29T12:17:05.740902400Z",
     "start_time": "2024-01-29T12:17:05.734540Z"
    }
   },
   "id": "417c182ddaf66ba2",
   "execution_count": 11
  },
  {
   "cell_type": "code",
   "outputs": [
    {
     "name": "stdout",
     "output_type": "stream",
     "text": [
      "Counter({'f': 2, 'e': 1, 'b': 1, 'a': 1, 'd': 1})\n"
     ]
    }
   ],
   "source": [
    "print(b)"
   ],
   "metadata": {
    "collapsed": false,
    "ExecuteTime": {
     "end_time": "2024-01-29T12:17:06.024063400Z",
     "start_time": "2024-01-29T12:17:06.020611300Z"
    }
   },
   "id": "3f9da418812b7841",
   "execution_count": 12
  },
  {
   "cell_type": "code",
   "outputs": [
    {
     "name": "stdout",
     "output_type": "stream",
     "text": [
      "Counter({'a': 3, 'b': 3, 'd': 2, 'f': 2, 'c': 1, 'e': 1})\n"
     ]
    }
   ],
   "source": [
    "print(a + b)"
   ],
   "metadata": {
    "collapsed": false,
    "ExecuteTime": {
     "end_time": "2024-01-29T12:17:14.850754500Z",
     "start_time": "2024-01-29T12:17:14.846213100Z"
    }
   },
   "id": "3ff93ece5d063813",
   "execution_count": 13
  },
  {
   "cell_type": "code",
   "outputs": [
    {
     "name": "stdout",
     "output_type": "stream",
     "text": [
      "Counter({'a': 1, 'b': 1, 'c': 1})\n"
     ]
    }
   ],
   "source": [
    "# 뺄셈\n",
    "print(a - b)"
   ],
   "metadata": {
    "collapsed": false,
    "ExecuteTime": {
     "end_time": "2024-01-29T12:17:30.617839400Z",
     "start_time": "2024-01-29T12:17:30.611706900Z"
    }
   },
   "id": "908567e7ddcd356e",
   "execution_count": 14
  },
  {
   "cell_type": "code",
   "outputs": [
    {
     "name": "stdout",
     "output_type": "stream",
     "text": [
      "Counter({'a': 1, 'b': 1, 'd': 1})\n"
     ]
    }
   ],
   "source": [
    "# 교집합\n",
    "print(a & b)"
   ],
   "metadata": {
    "collapsed": false,
    "ExecuteTime": {
     "end_time": "2024-01-29T12:17:54.627230600Z",
     "start_time": "2024-01-29T12:17:54.619247800Z"
    }
   },
   "id": "1ba23697928f3f08",
   "execution_count": 15
  },
  {
   "cell_type": "code",
   "outputs": [
    {
     "name": "stdout",
     "output_type": "stream",
     "text": [
      "Counter({'a': 2, 'b': 2, 'f': 2, 'c': 1, 'd': 1, 'e': 1})\n"
     ]
    }
   ],
   "source": [
    "# 합집합\n",
    "print(a | b)"
   ],
   "metadata": {
    "collapsed": false,
    "ExecuteTime": {
     "end_time": "2024-01-29T12:18:01.684924900Z",
     "start_time": "2024-01-29T12:18:01.679395800Z"
    }
   },
   "id": "793fa534d731f57e",
   "execution_count": 16
  },
  {
   "cell_type": "code",
   "outputs": [],
   "source": [],
   "metadata": {
    "collapsed": false
   },
   "id": "caf20dad493c5488"
  },
  {
   "cell_type": "markdown",
   "source": [
    "### most_common()"
   ],
   "metadata": {
    "collapsed": false
   },
   "id": "a66a6fbbb296e516"
  },
  {
   "cell_type": "code",
   "outputs": [
    {
     "name": "stdout",
     "output_type": "stream",
     "text": [
      "[('수', 4), ('개발', 2), ('개발자는', 2), ('Python을', 2), ('모든', 2), ('Python', 2), ('있기', 2), ('때문에', 2), ('있습니다', 2), ('작성할', 2)]\n"
     ]
    }
   ],
   "source": [
    "# 상위 빈도수 단어 추출\n",
    "print(counter.most_common(10))"
   ],
   "metadata": {
    "collapsed": false,
    "ExecuteTime": {
     "end_time": "2024-01-29T12:20:03.746214300Z",
     "start_time": "2024-01-29T12:20:03.735650400Z"
    }
   },
   "id": "607898c1537659a1",
   "execution_count": 17
  },
  {
   "cell_type": "code",
   "outputs": [],
   "source": [],
   "metadata": {
    "collapsed": false
   },
   "id": "1983eecc24b1fb99"
  }
 ],
 "metadata": {
  "kernelspec": {
   "display_name": "Python 3",
   "language": "python",
   "name": "python3"
  },
  "language_info": {
   "codemirror_mode": {
    "name": "ipython",
    "version": 2
   },
   "file_extension": ".py",
   "mimetype": "text/x-python",
   "name": "python",
   "nbconvert_exporter": "python",
   "pygments_lexer": "ipython2",
   "version": "2.7.6"
  }
 },
 "nbformat": 4,
 "nbformat_minor": 5
}
