{
 "cells": [
  {
   "cell_type": "markdown",
   "source": [
    "### 파일 생성"
   ],
   "metadata": {
    "collapsed": false
   },
   "id": "cdb422b09cac7621"
  },
  {
   "cell_type": "code",
   "outputs": [],
   "source": [
    "# 텍스트 파일 생성\n",
    "f = open(\"새 파일.txt\", 'w')\n",
    "f.close()"
   ],
   "metadata": {
    "collapsed": true,
    "ExecuteTime": {
     "end_time": "2024-01-29T12:59:49.764849800Z",
     "start_time": "2024-01-29T12:59:49.759864400Z"
    }
   },
   "id": "initial_id",
   "execution_count": 3
  },
  {
   "cell_type": "markdown",
   "source": [
    "### 파일 쓰기"
   ],
   "metadata": {
    "collapsed": false
   },
   "id": "bd8314bdbabc07be"
  },
  {
   "cell_type": "code",
   "outputs": [],
   "source": [
    "# 텍스트 파일 쓰기\n",
    "f = open(\"새파일.txt\", 'w')\n",
    "for i in range(1, 11):\n",
    "    data = \"%d번째 줄입니다!!\\n\" % i\n",
    "    f.write(data)\n",
    "f.close()"
   ],
   "metadata": {
    "collapsed": false,
    "ExecuteTime": {
     "end_time": "2024-01-29T13:11:03.457134400Z",
     "start_time": "2024-01-29T13:11:03.452594Z"
    }
   },
   "id": "6040dcfb44da1339",
   "execution_count": 17
  },
  {
   "cell_type": "markdown",
   "source": [
    "### 파일 읽기"
   ],
   "metadata": {
    "collapsed": false
   },
   "id": "240ee6263e7aadce"
  },
  {
   "cell_type": "code",
   "outputs": [
    {
     "name": "stdout",
     "output_type": "stream",
     "text": [
      "1번째 줄입니다!!\n"
     ]
    }
   ],
   "source": [
    "# 한 줄 읽기\n",
    "f = open(\"새파일.txt\", 'r')\n",
    "line = f.readline()\n",
    "print(line)\n",
    "f.close()"
   ],
   "metadata": {
    "collapsed": false,
    "ExecuteTime": {
     "end_time": "2024-01-29T13:04:24.096955300Z",
     "start_time": "2024-01-29T13:04:24.089394400Z"
    }
   },
   "id": "b72ba7e44444dc9e",
   "execution_count": 7
  },
  {
   "cell_type": "code",
   "outputs": [
    {
     "name": "stdout",
     "output_type": "stream",
     "text": [
      "1번째 줄입니다!!\n",
      "\n",
      "2번째 줄입니다!!\n"
     ]
    }
   ],
   "source": [
    "# 여러 줄 읽기\n",
    "f = open(\"새파일.txt\", 'r')\n",
    "line = f.readline()\n",
    "print(line)\n",
    "line = f.readline()\n",
    "print(line)\n",
    "f.close()"
   ],
   "metadata": {
    "collapsed": false,
    "ExecuteTime": {
     "end_time": "2024-01-29T13:04:55.260069300Z",
     "start_time": "2024-01-29T13:04:55.255305300Z"
    }
   },
   "id": "d88fec4acf0d0790",
   "execution_count": 8
  },
  {
   "cell_type": "code",
   "outputs": [
    {
     "name": "stdout",
     "output_type": "stream",
     "text": [
      "1번째 줄입니다!!\n",
      "\n",
      "2번째 줄입니다!!\n",
      "\n",
      "3번째 줄입니다!!\n",
      "\n",
      "4번째 줄입니다!!\n"
     ]
    }
   ],
   "source": [
    "# 모든 줄 읽기\n",
    "f = open(\"새파일.txt\", 'r')\n",
    "lines = f.readlines()\n",
    "i = 0\n",
    "for line in lines:\n",
    "    print(line)\n",
    "    if i == 3:\n",
    "        break\n",
    "    i += 1\n",
    "f.close()"
   ],
   "metadata": {
    "collapsed": false,
    "ExecuteTime": {
     "end_time": "2024-01-29T13:06:07.085934500Z",
     "start_time": "2024-01-29T13:06:07.078843100Z"
    }
   },
   "id": "c92c7de16f3df471",
   "execution_count": 14
  },
  {
   "cell_type": "code",
   "outputs": [],
   "source": [],
   "metadata": {
    "collapsed": false
   },
   "id": "bf8ecd8a9759361b"
  },
  {
   "cell_type": "markdown",
   "source": [
    "### 내용 추가하기"
   ],
   "metadata": {
    "collapsed": false
   },
   "id": "ec1efac04f88e768"
  },
  {
   "cell_type": "code",
   "outputs": [],
   "source": [
    "# w 모드 사용 시\n",
    "f = open(\"새파일.txt\", 'w')\n",
    "for i in range(11, 21):\n",
    "    data = \"%d번째 줄입니다.\\n\" % i\n",
    "    f.write(data)\n",
    "f.close()"
   ],
   "metadata": {
    "collapsed": false,
    "ExecuteTime": {
     "end_time": "2024-01-29T13:10:09.219616300Z",
     "start_time": "2024-01-29T13:10:09.211035900Z"
    }
   },
   "id": "4fce4716b2f37067",
   "execution_count": 15
  },
  {
   "cell_type": "code",
   "outputs": [],
   "source": [
    "# a 모드 사용 시\n",
    "f = open(\"새파일.txt\", 'a')\n",
    "for i in range(11, 21):\n",
    "    data = \"%d번째 줄입니다.\\n\" % i\n",
    "    f.write(data)\n",
    "f.close()"
   ],
   "metadata": {
    "collapsed": false,
    "ExecuteTime": {
     "end_time": "2024-01-29T13:11:10.571219300Z",
     "start_time": "2024-01-29T13:11:10.569388Z"
    }
   },
   "id": "479d81f8996d8797",
   "execution_count": 18
  },
  {
   "cell_type": "code",
   "outputs": [],
   "source": [],
   "metadata": {
    "collapsed": false
   },
   "id": "86ffb972ad5475a8"
  }
 ],
 "metadata": {
  "kernelspec": {
   "display_name": "Python 3",
   "language": "python",
   "name": "python3"
  },
  "language_info": {
   "codemirror_mode": {
    "name": "ipython",
    "version": 2
   },
   "file_extension": ".py",
   "mimetype": "text/x-python",
   "name": "python",
   "nbconvert_exporter": "python",
   "pygments_lexer": "ipython2",
   "version": "2.7.6"
  }
 },
 "nbformat": 4,
 "nbformat_minor": 5
}
